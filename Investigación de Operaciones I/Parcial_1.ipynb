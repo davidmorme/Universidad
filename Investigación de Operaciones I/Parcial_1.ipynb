{
  "nbformat": 4,
  "nbformat_minor": 0,
  "metadata": {
    "colab": {
      "name": "Parcial 1.ipynb",
      "provenance": [],
      "authorship_tag": "ABX9TyNGy7qEBCPNm2FrJxa9I+7Z",
      "include_colab_link": true
    },
    "kernelspec": {
      "name": "python3",
      "display_name": "Python 3"
    }
  },
  "cells": [
    {
      "cell_type": "markdown",
      "metadata": {
        "id": "view-in-github",
        "colab_type": "text"
      },
      "source": [
        "<a href=\"https://colab.research.google.com/github/davidmorme/Universidad/blob/main/Investigaci%C3%B3n%20de%20Operaciones%20I/Parcial_1.ipynb\" target=\"_parent\"><img src=\"https://colab.research.google.com/assets/colab-badge.svg\" alt=\"Open In Colab\"/></a>"
      ]
    },
    {
      "cell_type": "markdown",
      "metadata": {
        "id": "_r9lSj8GCcUL"
      },
      "source": [
        "Primer punto"
      ]
    },
    {
      "cell_type": "code",
      "metadata": {
        "id": "mdjDpab2CYMD",
        "colab": {
          "base_uri": "https://localhost:8080/",
          "height": 255
        },
        "outputId": "7d673faf-657e-41af-b864-f67874c216a1"
      },
      "source": [
        "import numpy as np\n",
        "Arreglo1=[[0.18,0.29,0.15,0.08,0.06,0.11,0.13],[0.18,0.29,0.15,0.08,0.06,0.11,0.13],[0,0.18,0.29,0.15,0.08,0.06,0.24],[0,0,0.18,0.29,0.15,0.08,0.3],[0,\t0,\t0,\t0.18,\t0.29,\t0.15,\t0.38],[0,\t0,\t0,\t0,\t0.18,\t0.29,\t0.53],[0\t,0\t,0\t,0\t,0\t,0.18,\t0.82]]\n",
        "P1=np.matrix(Arreglo1)\n",
        "print(P1**7)"
      ],
      "execution_count": null,
      "outputs": [
        {
          "output_type": "stream",
          "text": [
            "[[5.57352026e-03 1.41128657e-02 1.96921603e-02 2.96438584e-02\n",
            "  6.21432331e-02 1.88860260e-01 6.79974103e-01]\n",
            " [5.57352026e-03 1.41128657e-02 1.96921603e-02 2.96438584e-02\n",
            "  6.21432331e-02 1.88860260e-01 6.79974103e-01]\n",
            " [4.13543356e-03 1.07930494e-02 1.60078246e-02 2.62787144e-02\n",
            "  6.02781060e-02 1.91002391e-01 6.91504481e-01]\n",
            " [2.39549756e-03 6.77327260e-03 1.15905454e-02 2.23437280e-02\n",
            "  5.81615337e-02 1.93558432e-01 7.05176991e-01]\n",
            " [1.05959205e-03 3.50403339e-03 7.67554663e-03 1.86957654e-02\n",
            "  5.62176614e-02 1.95863027e-01 7.16984374e-01]\n",
            " [3.42106286e-04 1.51401741e-03 4.83256765e-03 1.57261026e-02\n",
            "  5.45608129e-02 1.97597781e-01 7.25426612e-01]\n",
            " [8.33299488e-05 6.38390549e-04 3.25946911e-03 1.38284596e-02\n",
            "  5.34062447e-02 1.98599591e-01 7.30184515e-01]]\n"
          ],
          "name": "stdout"
        }
      ]
    },
    {
      "cell_type": "code",
      "metadata": {
        "id": "a1NULnwvCjNy",
        "colab": {
          "base_uri": "https://localhost:8080/",
          "height": 51
        },
        "outputId": "f34873d9-4586-47af-8a1c-9cf6f2407663"
      },
      "source": [
        "Arreglo_1=[0,0,1,0,0,0,0]\n",
        "P_1=np.matrix(Arreglo_1)\n",
        "print(P_1*P1**7)"
      ],
      "execution_count": null,
      "outputs": [
        {
          "output_type": "stream",
          "text": [
            "[[0.00413543 0.01079305 0.01600782 0.02627871 0.06027811 0.19100239\n",
            "  0.69150448]]\n"
          ],
          "name": "stdout"
        }
      ]
    },
    {
      "cell_type": "markdown",
      "metadata": {
        "id": "mJqR3dCWCm4N"
      },
      "source": [
        "Segundo punto"
      ]
    },
    {
      "cell_type": "code",
      "metadata": {
        "id": "4sy010WJCpkE",
        "colab": {
          "base_uri": "https://localhost:8080/",
          "height": 289
        },
        "outputId": "5d248067-6942-4f78-8831-89b2d9170ccd"
      },
      "source": [
        "import numpy as np\n",
        "Arreglo2=[[0.08,\t0,\t0,\t0,\t0,\t0,\t0,\t0.92],[0.12,\t0.08,\t0,\t0,\t0,\t0,\t0,\t0.8],[0.16,\t0.12,\t0.08,\t0,\t0,\t0,\t0,\t0.64],[0.21,\t0.16,\t0.12,\t0.08,\t0,\t0,\t0,\t0.43],[0.14,\t0.21,\t0.16,\t0.12,\t0.08,\t0,\t0,\t0.29],[0.09,\t0.14,\t0.21,\t0.16,\t0.12,\t0.08,\t0,\t0.2],[0.06,\t0.09,\t0.14,\t0.21,\t0.16,\t0.12,\t0.08,\t0.14],[0.14,\t0.06,\t0.09,\t0.14,\t0.21,\t0.16,\t0.12,\t0.08]]\n",
        "P2=np.matrix(Arreglo)\n",
        "print(P2**32)"
      ],
      "execution_count": null,
      "outputs": [
        {
          "output_type": "stream",
          "text": [
            "[[0.13120979 0.09122341 0.09001469 0.09341686 0.10261106 0.07102138\n",
            "  0.04851956 0.37198326]\n",
            " [0.13120979 0.09122341 0.09001469 0.09341686 0.10261106 0.07102138\n",
            "  0.04851956 0.37198326]\n",
            " [0.13120979 0.09122341 0.09001469 0.09341686 0.10261106 0.07102138\n",
            "  0.04851956 0.37198326]\n",
            " [0.13120979 0.09122341 0.09001469 0.09341686 0.10261106 0.07102138\n",
            "  0.04851956 0.37198326]\n",
            " [0.13120979 0.09122341 0.09001469 0.09341686 0.10261106 0.07102138\n",
            "  0.04851956 0.37198326]\n",
            " [0.13120979 0.09122341 0.09001469 0.09341686 0.10261106 0.07102138\n",
            "  0.04851956 0.37198326]\n",
            " [0.13120979 0.09122341 0.09001469 0.09341686 0.10261106 0.07102138\n",
            "  0.04851956 0.37198326]\n",
            " [0.13120979 0.09122341 0.09001469 0.09341686 0.10261106 0.07102138\n",
            "  0.04851956 0.37198326]]\n"
          ],
          "name": "stdout"
        }
      ]
    },
    {
      "cell_type": "code",
      "metadata": {
        "id": "6nFxDokSEKzv",
        "colab": {
          "base_uri": "https://localhost:8080/",
          "height": 51
        },
        "outputId": "258d7dc0-0197-4770-fa7a-d7e80e0d023d"
      },
      "source": [
        "Arreglo_2=[0,1,0,0,0,0,0,0]\n",
        "P_2=np.matrix(Arreglo_2)\n",
        "print(P_2*P2**32)"
      ],
      "execution_count": null,
      "outputs": [
        {
          "output_type": "stream",
          "text": [
            "[[0.13120979 0.09122341 0.09001469 0.09341686 0.10261106 0.07102138\n",
            "  0.04851956 0.37198326]]\n"
          ],
          "name": "stdout"
        }
      ]
    }
  ]
}