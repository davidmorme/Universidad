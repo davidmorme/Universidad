{
  "nbformat": 4,
  "nbformat_minor": 0,
  "metadata": {
    "colab": {
      "name": "Invest proba.ipynb",
      "provenance": [],
      "authorship_tag": "ABX9TyPEbuIor90FMFRCMlg0c0Ed",
      "include_colab_link": true
    },
    "kernelspec": {
      "name": "python3",
      "display_name": "Python 3"
    }
  },
  "cells": [
    {
      "cell_type": "markdown",
      "metadata": {
        "id": "view-in-github",
        "colab_type": "text"
      },
      "source": [
        "<a href=\"https://colab.research.google.com/github/davidmorme/Universidad/blob/main/Investigaci%C3%B3n%20de%20Operaciones%20I/Invest_proba.ipynb\" target=\"_parent\"><img src=\"https://colab.research.google.com/assets/colab-badge.svg\" alt=\"Open In Colab\"/></a>"
      ]
    },
    {
      "cell_type": "code",
      "metadata": {
        "id": "9Ku5G2SmSfyA"
      },
      "source": [
        "from scipy import stats\n",
        "import numpy as np\n",
        "import random"
      ],
      "execution_count": null,
      "outputs": []
    },
    {
      "cell_type": "code",
      "metadata": {
        "id": "PvcaEnblTK9w",
        "colab": {
          "base_uri": "https://localhost:8080/"
        },
        "outputId": "f5308db5-5af5-4171-f960-316209b7a0a1"
      },
      "source": [
        "stats.hypergeom(20,2,3).pmf(1) #Distribución hipergeometrica, con parámetros M, n y N y pmf es el valor de la función de masa"
      ],
      "execution_count": null,
      "outputs": [
        {
          "output_type": "execute_result",
          "data": {
            "text/plain": [
              "0.26842105263157845"
            ]
          },
          "metadata": {
            "tags": []
          },
          "execution_count": 21
        }
      ]
    },
    {
      "cell_type": "code",
      "metadata": {
        "id": "hWw1TceMUe1u",
        "colab": {
          "base_uri": "https://localhost:8080/"
        },
        "outputId": "cdba4ef1-93ac-40de-fbde-5d1f7cb88f52"
      },
      "source": [
        "X=stats.hypergeom(20,3,2)\n",
        "print(X.pmf(0),X.pmf(1),X.pmf(2), X.pmf(3))"
      ],
      "execution_count": null,
      "outputs": [
        {
          "output_type": "stream",
          "text": [
            "0.7157894736842111 0.26842105263157895 0.01578947368421053 0.0\n"
          ],
          "name": "stdout"
        }
      ]
    },
    {
      "cell_type": "code",
      "metadata": {
        "id": "-PrmMZUK8opp",
        "colab": {
          "base_uri": "https://localhost:8080/",
          "height": 34
        },
        "outputId": "6dcb5164-398f-4a53-d367-2f8add4a9703"
      },
      "source": [
        "X.rvs(10, 1000) #Numeros de forma aleatoria "
      ],
      "execution_count": null,
      "outputs": [
        {
          "output_type": "execute_result",
          "data": {
            "text/plain": [
              "array([0, 1, 1, 0, 0, 0, 0, 0, 2, 1])"
            ]
          },
          "metadata": {
            "tags": []
          },
          "execution_count": 20
        }
      ]
    },
    {
      "cell_type": "code",
      "metadata": {
        "id": "_Dv82nmc8xxC",
        "colab": {
          "base_uri": "https://localhost:8080/"
        },
        "outputId": "472c89d5-b62c-4ecd-9d9d-9a892c6ddf49"
      },
      "source": [
        "X.cdf(2)"
      ],
      "execution_count": null,
      "outputs": [
        {
          "output_type": "execute_result",
          "data": {
            "text/plain": [
              "1.0"
            ]
          },
          "metadata": {
            "tags": []
          },
          "execution_count": 25
        }
      ]
    },
    {
      "cell_type": "code",
      "metadata": {
        "id": "8Qcdl5qnPPo5",
        "colab": {
          "base_uri": "https://localhost:8080/",
          "height": 282
        },
        "outputId": "d9c581d0-5161-4939-b2ad-b2d2e15871e5"
      },
      "source": [
        "import numpy as np\n",
        "import matplotlib.pyplot as plt\n",
        "\n",
        "x= np.arange(0,10,0.1)\n",
        "A= abs(np.random.normal(0,1,100))\n",
        "y=A*np.cos(x)\n",
        "plt.plot(x,y)"
      ],
      "execution_count": null,
      "outputs": [
        {
          "output_type": "execute_result",
          "data": {
            "text/plain": [
              "[<matplotlib.lines.Line2D at 0x7fec39a6fdd8>]"
            ]
          },
          "metadata": {
            "tags": []
          },
          "execution_count": 2
        },
        {
          "output_type": "display_data",
          "data": {
            "image/png": "[encoded data removed]",
            "text/plain": [
              "<Figure size 432x288 with 1 Axes>"
            ]
          },
          "metadata": {
            "tags": [],
            "needs_background": "light"
          }
        }
      ]
    },
    {
      "cell_type": "code",
      "metadata": {
        "id": "nbXU9DAgUtQb",
        "colab": {
          "base_uri": "https://localhost:8080/",
          "height": 265
        },
        "outputId": "1041fb8f-6f28-472c-b8c4-13b5eca766a2"
      },
      "source": [
        "import numpy as np\n",
        "import matplotlib.pyplot as plt\n",
        "import random \n",
        "\n",
        "lanzamiento = list(range(1,1001))\n",
        "resultado = list()\n",
        "for i in range(1000):\n",
        "  resultado.append(random.choice(range(1,7)))\n",
        "fig, ax = plt.subplots()\n",
        "ax.scatter(lanzamiento,resultado)\n",
        "plt.show()"
      ],
      "execution_count": null,
      "outputs": [
        {
          "output_type": "display_data",
          "data": {
            "image/png": "[encoded data removed]",
            "text/plain": [
              "<Figure size 432x288 with 1 Axes>"
            ]
          },
          "metadata": {
            "tags": [],
            "needs_background": "light"
          }
        }
      ]
    },
    {
      "cell_type": "code",
      "metadata": {
        "id": "iKlP4Ye7ZTYA",
        "colab": {
          "base_uri": "https://localhost:8080/",
          "height": 282
        },
        "outputId": "cc65b150-9706-4518-8a33-9ff222de3f2a"
      },
      "source": [
        "import numpy as np\n",
        "import matplotlib.pyplot as plt\n",
        "\n",
        "cliente = list(range(1,1001))\n",
        "resultado = list()\n",
        "for i in range(1000):\n",
        "  resultado.append(np.random.exponential(3))\n",
        "plt.scatter(cliente,resultado)"
      ],
      "execution_count": null,
      "outputs": [
        {
          "output_type": "execute_result",
          "data": {
            "text/plain": [
              "<matplotlib.collections.PathCollection at 0x7f0324d04e48>"
            ]
          },
          "metadata": {
            "tags": []
          },
          "execution_count": 6
        },
        {
          "output_type": "display_data",
          "data": {
            "image/png": "[encoded data removed]",
            "text/plain": [
              "<Figure size 432x288 with 1 Axes>"
            ]
          },
          "metadata": {
            "tags": [],
            "needs_background": "light"
          }
        }
      ]
    },
    {
      "cell_type": "code",
      "metadata": {
        "id": "7CNZ9LoL8uFo",
        "colab": {
          "base_uri": "https://localhost:8080/",
          "height": 286
        },
        "outputId": "29533838-2f96-4a09-f234-34bc305b0734"
      },
      "source": [
        "import numpy as np\n",
        "import matplotlib.pyplot as plt\n",
        "import random \n",
        "import seaborn as sns\n",
        "\n",
        "sns.distplot(resultado,hist=True)"
      ],
      "execution_count": null,
      "outputs": [
        {
          "output_type": "execute_result",
          "data": {
            "text/plain": [
              "<matplotlib.axes._subplots.AxesSubplot at 0x7f43bada0908>"
            ]
          },
          "metadata": {
            "tags": []
          },
          "execution_count": 7
        },
        {
          "output_type": "display_data",
          "data": {
            "image/png": "[encoded data removed]",
            "text/plain": [
              "<Figure size 432x288 with 1 Axes>"
            ]
          },
          "metadata": {
            "tags": [],
            "needs_background": "light"
          }
        }
      ]
    },
    {
      "cell_type": "code",
      "metadata": {
        "id": "Vs_aB2_V4DYn",
        "colab": {
          "base_uri": "https://localhost:8080/",
          "height": 282
        },
        "outputId": "7a585279-cc61-4729-923a-a5b9da1f9b8f"
      },
      "source": [
        "import numpy as np\n",
        "import matplotlib.pyplot as plt\n",
        "import seaborn as sns\n",
        "\n",
        "sns.distplot(np.random.exponential(3,size=1000),hist=True)"
      ],
      "execution_count": null,
      "outputs": [
        {
          "output_type": "execute_result",
          "data": {
            "text/plain": [
              "<matplotlib.axes._subplots.AxesSubplot at 0x7f73dba027f0>"
            ]
          },
          "metadata": {
            "tags": []
          },
          "execution_count": 10
        },
        {
          "output_type": "display_data",
          "data": {
            "image/png": "[encoded data removed]",
            "text/plain": [
              "<Figure size 432x288 with 1 Axes>"
            ]
          },
          "metadata": {
            "tags": [],
            "needs_background": "light"
          }
        }
      ]
    },
    {
      "cell_type": "code",
      "metadata": {
        "id": "qbm9sFyR1Pl7",
        "colab": {
          "base_uri": "https://localhost:8080/",
          "height": 285
        },
        "outputId": "efbd2739-9434-44f6-e8b7-2f42d9c1c1a3"
      },
      "source": [
        "import numpy as np\n",
        "import matplotlib.pyplot as plt\n",
        "import seaborn as sns\n",
        "\n",
        "sns.distplot(np.random.uniform(1,7,1000),hist=True)"
      ],
      "execution_count": null,
      "outputs": [
        {
          "output_type": "execute_result",
          "data": {
            "text/plain": [
              "<matplotlib.axes._subplots.AxesSubplot at 0x7f43baefec50>"
            ]
          },
          "metadata": {
            "tags": []
          },
          "execution_count": 19
        },
        {
          "output_type": "display_data",
          "data": {
            "image/png": "[encoded data removed]",
            "text/plain": [
              "<Figure size 432x288 with 1 Axes>"
            ]
          },
          "metadata": {
            "tags": [],
            "needs_background": "light"
          }
        }
      ]
    },
    {
      "cell_type": "code",
      "metadata": {
        "id": "yDjI77LI-n_w",
        "colab": {
          "base_uri": "https://localhost:8080/",
          "height": 370
        },
        "outputId": "3404bc33-f4da-432d-acf6-6b852857486c"
      },
      "source": [
        "import numpy as np\n",
        "import matplotlib.pyplot as plt\n",
        "import seaborn as sns\n",
        "\n",
        "sns.distplot(np.random.exponential(3,size=1000),hist=True)"
      ],
      "execution_count": null,
      "outputs": [
        {
          "output_type": "stream",
          "text": [
            "/usr/local/lib/python3.6/dist-packages/statsmodels/tools/_testing.py:19: FutureWarning: pandas.util.testing is deprecated. Use the functions in the public API at pandas.testing instead.\n",
            "  import pandas.util.testing as tm\n",
            "/usr/local/lib/python3.6/dist-packages/seaborn/distributions.py:283: UserWarning: Data must have variance to compute a kernel density estimate.\n",
            "  warnings.warn(msg, UserWarning)\n"
          ],
          "name": "stderr"
        },
        {
          "output_type": "execute_result",
          "data": {
            "text/plain": [
              "<matplotlib.axes._subplots.AxesSubplot at 0x7f73dc2f17f0>"
            ]
          },
          "metadata": {
            "tags": []
          },
          "execution_count": 2
        },
        {
          "output_type": "display_data",
          "data": {
            "image/png": "[encoded data removed]",
            "text/plain": [
              "<Figure size 432x288 with 1 Axes>"
            ]
          },
          "metadata": {
            "tags": [],
            "needs_background": "light"
          }
        }
      ]
    },
    {
      "cell_type": "code",
      "metadata": {
        "id": "5vzexcmgQiWr",
        "colab": {
          "base_uri": "https://localhost:8080/",
          "height": 51
        },
        "outputId": "eb469f02-609e-439d-db94-7c9d227d140d"
      },
      "source": [
        "import numpy as np\n",
        "Arreglo=[[0.51,0.48],[0.49,0.51]]\n",
        "P=np.matrix(Arreglo)\n",
        "P"
      ],
      "execution_count": null,
      "outputs": [
        {
          "output_type": "execute_result",
          "data": {
            "text/plain": [
              "matrix([[0.51, 0.48],\n",
              "        [0.49, 0.51]])"
            ]
          },
          "metadata": {
            "tags": []
          },
          "execution_count": 5
        }
      ]
    },
    {
      "cell_type": "code",
      "metadata": {
        "id": "yC9K7vdkRW74",
        "colab": {
          "base_uri": "https://localhost:8080/",
          "height": 85
        },
        "outputId": "4b59712b-85a5-4722-d949-a2bd4cf89358"
      },
      "source": [
        "import numpy as np\n",
        "Arreglo=[[0.0803013970713942,0.183939720585721,0.367879441171442,0.367879441171442],[0.632120558828558,0.367879441171442,0,0],[0.264241117657115,0.367879441171442,0.367879441171442,0],[0.0803013970713942,0.183939720585721,0.367879441171442,0.367879441171442]]\n",
        "P=np.matrix(Arreglo)\n",
        "P"
      ],
      "execution_count": null,
      "outputs": [
        {
          "output_type": "execute_result",
          "data": {
            "text/plain": [
              "matrix([[0.0803014 , 0.18393972, 0.36787944, 0.36787944],\n",
              "        [0.63212056, 0.36787944, 0.        , 0.        ],\n",
              "        [0.26424112, 0.36787944, 0.36787944, 0.        ],\n",
              "        [0.0803014 , 0.18393972, 0.36787944, 0.36787944]])"
            ]
          },
          "metadata": {
            "tags": []
          },
          "execution_count": 6
        }
      ]
    },
    {
      "cell_type": "code",
      "metadata": {
        "id": "eYKbL6XySdTQ",
        "colab": {
          "base_uri": "https://localhost:8080/",
          "height": 1000
        },
        "outputId": "c45c5670-977d-4a33-b881-9718f916df1c"
      },
      "source": [
        "for n in range (1,21):\n",
        "  print(P**n)"
      ],
      "execution_count": null,
      "outputs": [
        {
          "output_type": "stream",
          "text": [
            "[[0.0803014  0.18393972 0.36787944 0.36787944]\n",
            " [0.63212056 0.36787944 0.         0.        ]\n",
            " [0.26424112 0.36787944 0.36787944 0.        ]\n",
            " [0.0803014  0.18393972 0.36787944 0.36787944]]\n",
            "[[0.2494705  0.28544118 0.3002118  0.16487652]\n",
            " [0.28330432 0.25160736 0.23254416 0.23254416]\n",
            " [0.35097196 0.319275   0.23254416 0.09720887]\n",
            " [0.2494705  0.28544118 0.3002118  0.16487652]]\n",
            "[[0.29303419 0.29166457 0.2628715  0.15242975]\n",
            " [0.26191727 0.27299442 0.27531827 0.18977005]\n",
            " [0.29925757 0.28544118 0.25042473 0.16487652]\n",
            " [0.29303419 0.29166457 0.2628715  0.15242975]]\n",
            "[[0.2896     0.28594093 0.26058204 0.16387702]\n",
            " [0.28158691 0.2847962  0.26745041 0.16616648]\n",
            " [0.28387637 0.28250675 0.2628715  0.17074539]\n",
            " [0.2896     0.28594093 0.26058204 0.16387702]]\n",
            "[[0.28602047 0.284467   0.26268765 0.16682488]\n",
            " [0.28665215 0.28551981 0.26310877 0.16471927]\n",
            " [0.28454654 0.28425644 0.26395102 0.167246  ]\n",
            " [0.28602047 0.284467   0.26268765 0.16682488]]\n",
            "[[0.28559443 0.2845832  0.26322988 0.16659249]\n",
            " [0.28625285 0.28485431 0.26284257 0.16605027]\n",
            " [0.28571063 0.28477685 0.26330734 0.16620519]\n",
            " [0.28559443 0.2845832  0.26322988 0.16659249]]\n",
            "[[0.28575829 0.2847043  0.26318713 0.16635027]\n",
            " [0.28583665 0.28468293 0.2630874  0.16639302]\n",
            " [0.2858794  0.28475417 0.26311589 0.16625054]\n",
            " [0.28575829 0.2847043  0.26318713 0.16635027]]\n",
            "[[0.28581726 0.28471872 0.26314258 0.16632144]\n",
            " [0.28578712 0.28469644 0.26315044 0.166366  ]\n",
            " [0.28583167 0.28471479 0.26312424 0.16632931]\n",
            " [0.28581726 0.28471872 0.26314258 0.16632144]]\n",
            "[[0.28581701 0.28471317 0.26313728 0.16633253]\n",
            " [0.28580617 0.28471052 0.26314547 0.16633784]\n",
            " [0.28581147 0.28470908 0.26313872 0.16634073]\n",
            " [0.28581701 0.28471317 0.26313728 0.16633253]]\n",
            "[[0.28581298 0.28471118 0.26313932 0.16633652]\n",
            " [0.28581302 0.2847122  0.26314029 0.16633448]\n",
            " [0.28581098 0.28471069 0.26314082 0.1663375 ]\n",
            " [0.28581298 0.28471118 0.26313932 0.16633652]]\n",
            "[[0.28581225 0.28471119 0.26314005 0.16633651]\n",
            " [0.285813   0.28471155 0.26313968 0.16633577]\n",
            " [0.28581226 0.28471138 0.26314023 0.16633613]\n",
            " [0.28581225 0.28471119 0.26314005 0.16633651]]\n",
            "[[0.28581239 0.28471132 0.26314005 0.16633623]\n",
            " [0.28581253 0.28471132 0.26313991 0.16633624]\n",
            " [0.28581253 0.28471139 0.26313998 0.1663361 ]\n",
            " [0.28581239 0.28471132 0.26314005 0.16633623]]\n",
            "[[0.28581247 0.28471135 0.26314    0.16633618]\n",
            " [0.28581244 0.28471132 0.26314    0.16633623]\n",
            " [0.28581249 0.28471135 0.26313997 0.16633618]\n",
            " [0.28581247 0.28471135 0.26314    0.16633618]]\n",
            "[[0.28581247 0.28471134 0.26313999 0.16633619]\n",
            " [0.28581246 0.28471134 0.26314    0.1663362 ]\n",
            " [0.28581247 0.28471134 0.26313999 0.1663362 ]\n",
            " [0.28581247 0.28471134 0.26313999 0.16633619]]\n",
            "[[0.28581247 0.28471134 0.26313999 0.1663362 ]\n",
            " [0.28581247 0.28471134 0.26313999 0.1663362 ]\n",
            " [0.28581247 0.28471134 0.26313999 0.1663362 ]\n",
            " [0.28581247 0.28471134 0.26313999 0.1663362 ]]\n",
            "[[0.28581247 0.28471134 0.26313999 0.1663362 ]\n",
            " [0.28581247 0.28471134 0.26313999 0.1663362 ]\n",
            " [0.28581247 0.28471134 0.26313999 0.1663362 ]\n",
            " [0.28581247 0.28471134 0.26313999 0.1663362 ]]\n",
            "[[0.28581247 0.28471134 0.26313999 0.1663362 ]\n",
            " [0.28581247 0.28471134 0.26313999 0.1663362 ]\n",
            " [0.28581247 0.28471134 0.26313999 0.1663362 ]\n",
            " [0.28581247 0.28471134 0.26313999 0.1663362 ]]\n",
            "[[0.28581247 0.28471134 0.26313999 0.1663362 ]\n",
            " [0.28581247 0.28471134 0.26313999 0.1663362 ]\n",
            " [0.28581247 0.28471134 0.26313999 0.1663362 ]\n",
            " [0.28581247 0.28471134 0.26313999 0.1663362 ]]\n",
            "[[0.28581247 0.28471134 0.26313999 0.1663362 ]\n",
            " [0.28581247 0.28471134 0.26313999 0.1663362 ]\n",
            " [0.28581247 0.28471134 0.26313999 0.1663362 ]\n",
            " [0.28581247 0.28471134 0.26313999 0.1663362 ]]\n",
            "[[0.28581247 0.28471134 0.26313999 0.1663362 ]\n",
            " [0.28581247 0.28471134 0.26313999 0.1663362 ]\n",
            " [0.28581247 0.28471134 0.26313999 0.1663362 ]\n",
            " [0.28581247 0.28471134 0.26313999 0.1663362 ]]\n"
          ],
          "name": "stdout"
        }
      ]
    },
    {
      "cell_type": "code",
      "metadata": {
        "id": "kTx4cy4LS7Sa",
        "colab": {
          "base_uri": "https://localhost:8080/",
          "height": 85
        },
        "outputId": "e57960ab-188b-49d6-9afc-e955a25fc21f"
      },
      "source": [
        "P**20"
      ],
      "execution_count": null,
      "outputs": [
        {
          "output_type": "execute_result",
          "data": {
            "text/plain": [
              "matrix([[0.28581247, 0.28471134, 0.26313999, 0.1663362 ],\n",
              "        [0.28581247, 0.28471134, 0.26313999, 0.1663362 ],\n",
              "        [0.28581247, 0.28471134, 0.26313999, 0.1663362 ],\n",
              "        [0.28581247, 0.28471134, 0.26313999, 0.1663362 ]])"
            ]
          },
          "metadata": {
            "tags": []
          },
          "execution_count": 9
        }
      ]
    },
    {
      "cell_type": "code",
      "metadata": {
        "id": "33uq05GlaA-h",
        "colab": {
          "base_uri": "https://localhost:8080/",
          "height": 34
        },
        "outputId": "791e4f97-7862-4602-dd25-0d466b133fab"
      },
      "source": [
        "import numpy as np\n",
        "Arreglo=[0,0,0,1]\n",
        "P_0=np.matrix(Arreglo)\n",
        "P_0"
      ],
      "execution_count": null,
      "outputs": [
        {
          "output_type": "execute_result",
          "data": {
            "text/plain": [
              "matrix([[0, 0, 0, 1]])"
            ]
          },
          "metadata": {
            "tags": []
          },
          "execution_count": 10
        }
      ]
    },
    {
      "cell_type": "code",
      "metadata": {
        "id": "H7Cf_oMpaU1D",
        "colab": {
          "base_uri": "https://localhost:8080/",
          "height": 357
        },
        "outputId": "c79a3567-0fdd-45ef-e684-2489d073b456"
      },
      "source": [
        "for n in range (1,21):\n",
        "  print(P_0*P**n)"
      ],
      "execution_count": null,
      "outputs": [
        {
          "output_type": "stream",
          "text": [
            "[[0.0803014  0.18393972 0.36787944 0.36787944]]\n",
            "[[0.2494705  0.28544118 0.3002118  0.16487652]]\n",
            "[[0.29303419 0.29166457 0.2628715  0.15242975]]\n",
            "[[0.2896     0.28594093 0.26058204 0.16387702]]\n",
            "[[0.28602047 0.284467   0.26268765 0.16682488]]\n",
            "[[0.28559443 0.2845832  0.26322988 0.16659249]]\n",
            "[[0.28575829 0.2847043  0.26318713 0.16635027]]\n",
            "[[0.28581726 0.28471872 0.26314258 0.16632144]]\n",
            "[[0.28581701 0.28471317 0.26313728 0.16633253]]\n",
            "[[0.28581298 0.28471118 0.26313932 0.16633652]]\n",
            "[[0.28581225 0.28471119 0.26314005 0.16633651]]\n",
            "[[0.28581239 0.28471132 0.26314005 0.16633623]]\n",
            "[[0.28581247 0.28471135 0.26314    0.16633618]]\n",
            "[[0.28581247 0.28471134 0.26313999 0.16633619]]\n",
            "[[0.28581247 0.28471134 0.26313999 0.1663362 ]]\n",
            "[[0.28581247 0.28471134 0.26313999 0.1663362 ]]\n",
            "[[0.28581247 0.28471134 0.26313999 0.1663362 ]]\n",
            "[[0.28581247 0.28471134 0.26313999 0.1663362 ]]\n",
            "[[0.28581247 0.28471134 0.26313999 0.1663362 ]]\n",
            "[[0.28581247 0.28471134 0.26313999 0.1663362 ]]\n"
          ],
          "name": "stdout"
        }
      ]
    },
    {
      "cell_type": "code",
      "metadata": {
        "id": "RNxoQnzWbT7D",
        "colab": {
          "base_uri": "https://localhost:8080/",
          "height": 357
        },
        "outputId": "9ddd1d53-b133-4b62-d1d7-df087b5df2ac"
      },
      "source": [
        "import numpy as np\n",
        "Arreglo=[0.3,0.4,0.2,0.1]\n",
        "P_1=np.matrix(Arreglo)\n",
        "for n in range (1,21):\n",
        "  print(P_1*P**n)"
      ],
      "execution_count": null,
      "outputs": [
        {
          "output_type": "stream",
          "text": [
            "[[0.33781701 0.29430355 0.22072766 0.14715178]]\n",
            "[[0.28330432 0.27867442 0.25961121 0.17841004]]\n",
            "[[0.2818321  0.28295183 0.26536085 0.16985522]]\n",
            "[[0.28525004 0.2847962  0.26378728 0.16616648]]\n",
            "[[0.28597836 0.28484601 0.26310877 0.16606686]]\n",
            "[[0.28588104 0.28473037 0.26309045 0.16629814]]\n",
            "[[0.28581386 0.28470573 0.26313299 0.16634742]]\n",
            "[[0.28580808 0.28470902 0.26314206 0.16634084]]\n",
            "[[0.28581157 0.28471129 0.26314085 0.16633629]]\n",
            "[[0.2858126  0.28471149 0.26314001 0.1663359 ]]\n",
            "[[0.28581255 0.28471137 0.26313994 0.16633614]]\n",
            "[[0.28581247 0.28471134 0.26313998 0.16633621]]\n",
            "[[0.28581246 0.28471134 0.26313999 0.1663362 ]]\n",
            "[[0.28581247 0.28471134 0.26313999 0.1663362 ]]\n",
            "[[0.28581247 0.28471134 0.26313999 0.1663362 ]]\n",
            "[[0.28581247 0.28471134 0.26313999 0.1663362 ]]\n",
            "[[0.28581247 0.28471134 0.26313999 0.1663362 ]]\n",
            "[[0.28581247 0.28471134 0.26313999 0.1663362 ]]\n",
            "[[0.28581247 0.28471134 0.26313999 0.1663362 ]]\n",
            "[[0.28581247 0.28471134 0.26313999 0.1663362 ]]\n"
          ],
          "name": "stdout"
        }
      ]
    },
    {
      "cell_type": "code",
      "metadata": {
        "id": "GINfI2m3xwFO"
      },
      "source": [
        ""
      ],
      "execution_count": null,
      "outputs": []
    },
    {
      "cell_type": "code",
      "metadata": {
        "id": "OQqtO7TIxCIk",
        "colab": {
          "base_uri": "https://localhost:8080/",
          "height": 1000
        },
        "outputId": "faa521aa-e964-4bb5-e1e8-13b154a708aa"
      },
      "source": [
        "import numpy as np\n",
        "Arreglo=[[0.18,0.29,0.15,0.08,0.06,0.11,0.13],[0.18,0.29,0.15,0.08,0.06,0.11,0.13],[0,0.18,0.29,0.15,0.08,0.06,0.24],[0,0,0.18,0.29,0.15,0.08,0.3],[0,\t0,\t0,\t0.18,\t0.29,\t0.15,\t0.38],[0,\t0,\t0,\t0,\t0.18,\t0.29,\t0.53],[0\t,0\t,0\t,0\t,0\t,0.18,\t0.82]]\n",
        "P=np.matrix(Arreglo)\n",
        "for n in range (1,8):\n",
        "  print(P**n)"
      ],
      "execution_count": null,
      "outputs": [
        {
          "output_type": "stream",
          "text": [
            "[[0.18 0.29 0.15 0.08 0.06 0.11 0.13]\n",
            " [0.18 0.29 0.15 0.08 0.06 0.11 0.13]\n",
            " [0.   0.18 0.29 0.15 0.08 0.06 0.24]\n",
            " [0.   0.   0.18 0.29 0.15 0.08 0.3 ]\n",
            " [0.   0.   0.   0.18 0.29 0.15 0.38]\n",
            " [0.   0.   0.   0.   0.18 0.29 0.53]\n",
            " [0.   0.   0.   0.   0.   0.18 0.82]]\n",
            "[[0.0846 0.1633 0.1284 0.0941 0.0894 0.1314 0.3088]\n",
            " [0.0846 0.1633 0.1284 0.0941 0.0894 0.1314 0.3088]\n",
            " [0.0324 0.1044 0.1381 0.1158 0.0905 0.1218 0.397 ]\n",
            " [0.     0.0324 0.1044 0.1381 0.1158 0.1337 0.4756]\n",
            " [0.     0.     0.0324 0.1044 0.1381 0.1698 0.5553]\n",
            " [0.     0.     0.     0.0324 0.1044 0.2065 0.6567]\n",
            " [0.     0.     0.     0.     0.0324 0.1998 0.7678]]\n",
            "[[0.044622 0.095003 0.091359 0.082473 0.088839 0.149601 0.448103]\n",
            " [0.044622 0.095003 0.091359 0.082473 0.088839 0.149601 0.448103]\n",
            " [0.024624 0.06453  0.081413 0.081531 0.084795 0.152955 0.510152]\n",
            " [0.005832 0.028188 0.059994 0.079145 0.088659 0.162627 0.575555]\n",
            " [0.       0.005832 0.028188 0.059994 0.088865 0.180207 0.636914]\n",
            " [0.       0.       0.005832 0.028188 0.072306 0.196343 0.697331]\n",
            " [0.       0.       0.       0.005832 0.04536  0.201006 0.747802]]\n",
            "[[0.0251325  0.05693587 0.062283   0.06478204 0.08074866 0.16480681\n",
            "  0.54531112]\n",
            " [0.0251325  0.05693587 0.062283   0.06478204 0.08074866 0.16480681\n",
            "  0.54531112]\n",
            " [0.01604772 0.040509   0.05165845 0.05825136 0.07621438 0.17011776\n",
            "  0.58720133]\n",
            " [0.0061236  0.02066472 0.03674736 0.05063137 0.07369644 0.17773402\n",
            "  0.63440249]\n",
            " [0.00104976 0.00676512 0.01984824 0.03808872 0.06981217 0.18736662\n",
            "  0.67706937]\n",
            " [0.         0.00104976 0.00676512 0.0220644  0.06100524 0.19590991\n",
            "  0.71320557]\n",
            " [0.         0.         0.00104976 0.00985608 0.05021028 0.20016666\n",
            "  0.73871722]]\n",
            "[[1.47723066e-02 3.50107673e-02 4.20330927e-02 4.92294700e-02\n",
            "  7.27063854e-02 1.76009339e-01 6.10238639e-01]\n",
            " [1.47723066e-02 3.50107673e-02 4.20330927e-02 4.92294700e-02\n",
            "  7.27063854e-02 1.76009339e-01 6.10238639e-01]\n",
            " [1.01802096e-02 2.56999698e-02 3.39497033e-02 4.28847879e-02\n",
            "  6.89871502e-02 1.80443402e-01 6.37854777e-01]\n",
            " [4.82189760e-03 1.43831376e-02 2.37886290e-02 3.56036261e-02\n",
            "  6.55058847e-02 1.85991846e-01 6.69904979e-01]\n",
            " [1.40667840e-03 5.83899840e-03 1.37841912e-02 2.72143458e-02\n",
            "  6.17415809e-02 1.91778261e-01 6.98235945e-01]\n",
            " [1.88956800e-04 1.52215200e-03 6.09094080e-03 1.84783680e-02\n",
            "  5.68691586e-02 1.96628195e-01 7.20222228e-01]\n",
            " [0.00000000e+00 1.88956800e-04 2.07852480e-03 1.20535776e-02\n",
            "  5.21533728e-02 1.99400445e-01 7.34125123e-01]]\n",
            "[[8.96095330e-03 2.20030481e-02 2.85183626e-02 3.76513055e-02\n",
            "  6.65005852e-02 1.83728102e-01 6.52637643e-01]\n",
            " [8.96095330e-03 2.20030481e-02 2.85183626e-02 3.76513055e-02\n",
            "  6.65005852e-02 1.83728102e-01 6.52637643e-01]\n",
            " [6.45843229e-03 1.65161986e-02 2.29467027e-02 3.28171454e-02\n",
            "  6.37875911e-02 1.86905104e-01 6.70568826e-01]\n",
            " [3.45690634e-03 9.85141343e-03 1.61881104e-02 2.72208080e-02\n",
            "  6.08711753e-02 1.90734576e-01 6.91677011e-01]\n",
            " [1.30422182e-03 4.58240069e-03 9.98284921e-03 2.16529277e-02\n",
            "  5.80447732e-02 1.94360626e-01 7.10072201e-01]\n",
            " [3.07999584e-04 1.59259090e-03 5.34914539e-03 1.66457051e-02\n",
            "  5.52468281e-02 1.97224499e-01 7.23633231e-01]\n",
            " [3.40122240e-05 4.28931936e-04 2.80075968e-03 1.32100399e-02\n",
            "  5.30022142e-02 1.98901440e-01 7.31622602e-01]]\n",
            "[[5.57352026e-03 1.41128657e-02 1.96921603e-02 2.96438584e-02\n",
            "  6.21432331e-02 1.88860260e-01 6.79974103e-01]\n",
            " [5.57352026e-03 1.41128657e-02 1.96921603e-02 2.96438584e-02\n",
            "  6.21432331e-02 1.88860260e-01 6.79974103e-01]\n",
            " [4.13543356e-03 1.07930494e-02 1.60078246e-02 2.62787144e-02\n",
            "  6.02781060e-02 1.91002391e-01 6.91504481e-01]\n",
            " [2.39549756e-03 6.77327260e-03 1.15905454e-02 2.23437280e-02\n",
            "  5.81615337e-02 1.93558432e-01 7.05176991e-01]\n",
            " [1.05959205e-03 3.50403339e-03 7.67554663e-03 1.86957654e-02\n",
            "  5.62176614e-02 1.95863027e-01 7.16984374e-01]\n",
            " [3.42106286e-04 1.51401741e-03 4.83256765e-03 1.57261026e-02\n",
            "  5.45608129e-02 1.97597781e-01 7.25426612e-01]\n",
            " [8.33299488e-05 6.38390549e-04 3.25946911e-03 1.38284596e-02\n",
            "  5.34062447e-02 1.98599591e-01 7.30184515e-01]]\n"
          ],
          "name": "stdout"
        }
      ]
    },
    {
      "cell_type": "code",
      "metadata": {
        "id": "cWd7KXEDycxK",
        "colab": {
          "base_uri": "https://localhost:8080/",
          "height": 255
        },
        "outputId": "71df9164-df33-4d32-d66f-304e86750676"
      },
      "source": [
        "import numpy as np\n",
        "Arreglo=[[0.18,0.29,0.15,0.08,0.06,0.11,0.13],[0.18,0.29,0.15,0.08,0.06,0.11,0.13],[0,0.18,0.29,0.15,0.08,0.06,0.24],[0,0,0.18,0.29,0.15,0.08,0.3],[0,\t0,\t0,\t0.18,\t0.29,\t0.15,\t0.38],[0,\t0,\t0,\t0,\t0.18,\t0.29,\t0.53],[0\t,0\t,0\t,0\t,0\t,0.18,\t0.82]]\n",
        "P=np.matrix(Arreglo)\n",
        "print(P**7)"
      ],
      "execution_count": null,
      "outputs": [
        {
          "output_type": "stream",
          "text": [
            "[[5.57352026e-03 1.41128657e-02 1.96921603e-02 2.96438584e-02\n",
            "  6.21432331e-02 1.88860260e-01 6.79974103e-01]\n",
            " [5.57352026e-03 1.41128657e-02 1.96921603e-02 2.96438584e-02\n",
            "  6.21432331e-02 1.88860260e-01 6.79974103e-01]\n",
            " [4.13543356e-03 1.07930494e-02 1.60078246e-02 2.62787144e-02\n",
            "  6.02781060e-02 1.91002391e-01 6.91504481e-01]\n",
            " [2.39549756e-03 6.77327260e-03 1.15905454e-02 2.23437280e-02\n",
            "  5.81615337e-02 1.93558432e-01 7.05176991e-01]\n",
            " [1.05959205e-03 3.50403339e-03 7.67554663e-03 1.86957654e-02\n",
            "  5.62176614e-02 1.95863027e-01 7.16984374e-01]\n",
            " [3.42106286e-04 1.51401741e-03 4.83256765e-03 1.57261026e-02\n",
            "  5.45608129e-02 1.97597781e-01 7.25426612e-01]\n",
            " [8.33299488e-05 6.38390549e-04 3.25946911e-03 1.38284596e-02\n",
            "  5.34062447e-02 1.98599591e-01 7.30184515e-01]]\n"
          ],
          "name": "stdout"
        }
      ]
    },
    {
      "cell_type": "code",
      "metadata": {
        "id": "9XEjnQ31zB56",
        "colab": {
          "base_uri": "https://localhost:8080/",
          "height": 51
        },
        "outputId": "227d9b22-2a1c-41f6-f953-fa4fee815d04"
      },
      "source": [
        "Arreglo=[0,0,1,0,0,0,0]\n",
        "P_1=np.matrix(Arreglo)\n",
        "print(P_1*P**7)"
      ],
      "execution_count": null,
      "outputs": [
        {
          "output_type": "stream",
          "text": [
            "[[0.00413543 0.01079305 0.01600782 0.02627871 0.06027811 0.19100239\n",
            "  0.69150448]]\n"
          ],
          "name": "stdout"
        }
      ]
    },
    {
      "cell_type": "code",
      "metadata": {
        "id": "0fphFlvoq9D4",
        "colab": {
          "base_uri": "https://localhost:8080/",
          "height": 85
        },
        "outputId": "5f7e8392-1113-4c38-8c24-fa144ad7d657"
      },
      "source": [
        "import numpy as np\n",
        "n=3 # de pasos\n",
        "Arreglo=[[0.0803013970713942,0.183939720585721,0.367879441171442,0.367879441171442],[0.632120558828558,0.367879441171442,0,0],[0.264241117657115,0.367879441171442,0.367879441171442,0],[0.0803013970713942,0.183939720585721,0.367879441171442,0.367879441171442]]\n",
        "P=np.matrix(Arreglo)\n",
        "Arreglo_0=[[0,0.183939720585721,0.367879441171442,0.367879441171442],[0,0.367879441171442,0,0],[0,0.367879441171442,0.367879441171442,0],[0,0.183939720585721,0.367879441171442,0.367879441171442]]\n",
        "P_0=np.matrix(Arreglo_0)\n",
        "print(P_0**(n-1)*P)"
      ],
      "execution_count": null,
      "outputs": [
        {
          "output_type": "stream",
          "text": [
            "[[0.25348634 0.22404181 0.14936121 0.04978707]\n",
            " [0.08554821 0.04978707 0.         0.        ]\n",
            " [0.20685758 0.14936121 0.04978707 0.        ]\n",
            " [0.25348634 0.22404181 0.14936121 0.04978707]]\n"
          ],
          "name": "stdout"
        }
      ]
    },
    {
      "cell_type": "code",
      "metadata": {
        "id": "zGb6FfHLrxXQ",
        "colab": {
          "base_uri": "https://localhost:8080/",
          "height": 85
        },
        "outputId": "389839e3-e6d0-44da-a298-810aaa103588"
      },
      "source": [
        "import numpy as np\n",
        "n=3 # Número de pasos\n",
        "j=0 # Número al que queremos ir\n",
        "Arreglo=[[0.0803013970713942,0.183939720585721,0.367879441171442,0.367879441171442],[0.632120558828558,0.367879441171442,0,0],[0.264241117657115,0.367879441171442,0.367879441171442,0],[0.0803013970713942,0.183939720585721,0.367879441171442,0.367879441171442]]\n",
        "P=np.matrix(Arreglo)\n",
        "Arreglo_0=list(Arreglo)\n",
        "for i in range(0,len(Arreglo)):\n",
        "  Arreglo_0[i][j]=0\n",
        "P_0=np.matrix(Arreglo_0)\n",
        "print(P_0**(n-1)*P)"
      ],
      "execution_count": null,
      "outputs": [
        {
          "output_type": "stream",
          "text": [
            "[[0.25348634 0.22404181 0.14936121 0.04978707]\n",
            " [0.08554821 0.04978707 0.         0.        ]\n",
            " [0.20685758 0.14936121 0.04978707 0.        ]\n",
            " [0.25348634 0.22404181 0.14936121 0.04978707]]\n"
          ],
          "name": "stdout"
        }
      ]
    },
    {
      "cell_type": "code",
      "metadata": {
        "id": "wCkoXv_TtqCB",
        "colab": {
          "base_uri": "https://localhost:8080/",
          "height": 34
        },
        "outputId": "bdc8a5d9-08f2-48ec-e86b-8e9706115483"
      },
      "source": [
        "import numpy as np\n",
        "a=np.array([[1-0.368,0,0],[-0.368,1-0.368,0],[-0.184,-0.368,1-0.368]])\n",
        "b=np.array([1,1,1])\n",
        "x=np.linalg.solve(a,b)\n",
        "print(x)"
      ],
      "execution_count": null,
      "outputs": [
        {
          "output_type": "stream",
          "text": [
            "[1.58227848 2.50360519 3.50073726]\n"
          ],
          "name": "stdout"
        }
      ]
    },
    {
      "cell_type": "code",
      "metadata": {
        "id": "SRBsyCkom4qb",
        "colab": {
          "base_uri": "https://localhost:8080/",
          "height": 136
        },
        "outputId": "26abb30e-309a-4407-ad03-762b428259db"
      },
      "source": [
        "import numpy as np\n",
        "#Tiempos medios de recurrencia\n",
        "#con el ejemplo de los inventarios de celular\n",
        "A = np.matrix([[-0.92,0.632,0.264, 0.080],[0.184, -0.632, 0.368, 0.184],[0.368, 0, -0.632,0.368], [1,1,1,1]])\n",
        "b = np.matrix([[0],[0],[0],[1]])\n",
        "x=(A**-1)*b\n",
        "y=(1/x)\n",
        "print(y)\n",
        " \n",
        "\n",
        "\n",
        "#Tiempos medios de primera pasada\n",
        "#con el ejemplo de los inventarios de celular\n",
        "import numpy as np\n",
        "t = np.matrix([[0.632,0,0],[-0.368,0.632,0],[-0.184,-0.368,0.632]])\n",
        "b = np.matrix([[1],[1],[1]])\n",
        "miu=(t**-1)*b\n",
        "print(miu)"
      ],
      "execution_count": null,
      "outputs": [
        {
          "output_type": "stream",
          "text": [
            "[[3.50073726]\n",
            " [3.510806  ]\n",
            " [3.79966979]\n",
            " [6.01213574]]\n",
            "[[1.58227848]\n",
            " [2.50360519]\n",
            " [3.50073726]]\n"
          ],
          "name": "stdout"
        }
      ]
    },
    {
      "cell_type": "code",
      "metadata": {
        "id": "k3HRZYo5ZTjq",
        "colab": {
          "base_uri": "https://localhost:8080/",
          "height": 68
        },
        "outputId": "3446fe31-b220-4be7-a6d6-00abd11dd92a"
      },
      "source": [
        "u=1/x\n",
        "print('\\u03BC0: '+str(u[0])+'\\n\\u03BC1: '+str(u[1])+'\\n\\u03BC2: '+str(u[2]))"
      ],
      "execution_count": null,
      "outputs": [
        {
          "output_type": "stream",
          "text": [
            "μ0: 0.632\n",
            "μ1: 0.399424\n",
            "μ2: 0.28565411355735804\n"
          ],
          "name": "stdout"
        }
      ]
    },
    {
      "cell_type": "code",
      "metadata": {
        "id": "AUlww2gA2xW_",
        "colab": {
          "base_uri": "https://localhost:8080/",
          "height": 85
        },
        "outputId": "cceac688-beb4-407f-e271-1c38dd00db8f"
      },
      "source": [
        "import numpy as np\n",
        "a=np.array([[7/8,3/4-1,0,0],[1/16,1/8,1/2-1,0],[1/16,1/8,1/2,-1],[1,1,1,1]])\n",
        "b=np.array([0,0,0,1])\n",
        "x=np.linalg.solve(a,b)\n",
        "print('\\u03C00: '+str(x[0])+'\\n\\u03C01: '+str(x[1])+'\\n\\u03C02: '+str(x[2])+'\\n\\u03C03: '+str(x[3]))"
      ],
      "execution_count": null,
      "outputs": [
        {
          "output_type": "stream",
          "text": [
            "π0: 0.15384615384615374\n",
            "π1: 0.5384615384615385\n",
            "π2: 0.15384615384615383\n",
            "π3: 0.15384615384615385\n"
          ],
          "name": "stdout"
        }
      ]
    },
    {
      "cell_type": "code",
      "metadata": {
        "id": "4BTAqYv_Xr7u",
        "colab": {
          "base_uri": "https://localhost:8080/",
          "height": 85
        },
        "outputId": "f72bb669-81b0-41e4-b579-0c3eb3fc1d6e"
      },
      "source": [
        "u=1/x\n",
        "print('\\u03BC0: '+str(u[0])+'\\n\\u03BC1: '+str(u[1])+'\\n\\u03BC2: '+str(u[2])+'\\n\\u03BC3: '+str(u[3]))"
      ],
      "execution_count": null,
      "outputs": [
        {
          "output_type": "stream",
          "text": [
            "μ0: 6.500000000000004\n",
            "μ1: 1.8571428571428568\n",
            "μ2: 6.500000000000001\n",
            "μ3: 6.5\n"
          ],
          "name": "stdout"
        }
      ]
    },
    {
      "cell_type": "code",
      "metadata": {
        "id": "tZ8zigj_-tcT",
        "colab": {
          "base_uri": "https://localhost:8080/",
          "height": 34
        },
        "outputId": "aa469a11-a542-4108-8094-284f95887581"
      },
      "source": [
        "u=1/x\n",
        "print('\\u03BC0: '+str(u[0]))"
      ],
      "execution_count": null,
      "outputs": [
        {
          "output_type": "stream",
          "text": [
            "μ0: 6.500000000000004\n"
          ],
          "name": "stdout"
        }
      ]
    },
    {
      "cell_type": "code",
      "metadata": {
        "id": "Mw619Zlatu1Y",
        "colab": {
          "base_uri": "https://localhost:8080/",
          "height": 34
        },
        "outputId": "04e70dd6-0123-439e-f75e-149c253abdb5"
      },
      "source": [
        "print('\\u03C0','\\u03BC')\n"
      ],
      "execution_count": null,
      "outputs": [
        {
          "output_type": "stream",
          "text": [
            "π μ\n"
          ],
          "name": "stdout"
        }
      ]
    },
    {
      "cell_type": "code",
      "metadata": {
        "id": "FDkKJR3eIbNc",
        "colab": {
          "base_uri": "https://localhost:8080/",
          "height": 391
        },
        "outputId": "f91a1a77-0ea8-4f10-f251-a3609be5c33a"
      },
      "source": [
        "import numpy as np\n",
        "a=np.array([[1,0,0,0],[0.99,-1,0,0],[0.01,0.05,0,0],[0,0.95,0,0],[1,1,1,1]])\n",
        "b=np.array([0,0,0,1])\n",
        "x=np.linalg.solve(a,b)\n",
        "print('\\u03C00: '+str(x[0])+'\\n\\u03C01: '+str(x[1])+'\\n\\u03C02: '+str(x[2])+'\\n\\u03C03: '+str(x[3]))"
      ],
      "execution_count": null,
      "outputs": [
        {
          "output_type": "error",
          "ename": "LinAlgError",
          "evalue": "ignored",
          "traceback": [
            "\u001b[0;31m---------------------------------------------------------------------------\u001b[0m",
            "\u001b[0;31mLinAlgError\u001b[0m                               Traceback (most recent call last)",
            "\u001b[0;32m<ipython-input-22-f88f81c2bdb5>\u001b[0m in \u001b[0;36m<module>\u001b[0;34m()\u001b[0m\n\u001b[1;32m      2\u001b[0m \u001b[0ma\u001b[0m\u001b[0;34m=\u001b[0m\u001b[0mnp\u001b[0m\u001b[0;34m.\u001b[0m\u001b[0marray\u001b[0m\u001b[0;34m(\u001b[0m\u001b[0;34m[\u001b[0m\u001b[0;34m[\u001b[0m\u001b[0;36m0.99\u001b[0m\u001b[0;34m,\u001b[0m\u001b[0;34m-\u001b[0m\u001b[0;36m1\u001b[0m\u001b[0;34m,\u001b[0m\u001b[0;36m0\u001b[0m\u001b[0;34m,\u001b[0m\u001b[0;36m0\u001b[0m\u001b[0;34m]\u001b[0m\u001b[0;34m,\u001b[0m\u001b[0;34m[\u001b[0m\u001b[0;36m0.01\u001b[0m\u001b[0;34m,\u001b[0m\u001b[0;36m0.05\u001b[0m\u001b[0;34m,\u001b[0m\u001b[0;36m0\u001b[0m\u001b[0;34m,\u001b[0m\u001b[0;36m0\u001b[0m\u001b[0;34m]\u001b[0m\u001b[0;34m,\u001b[0m\u001b[0;34m[\u001b[0m\u001b[0;36m0\u001b[0m\u001b[0;34m,\u001b[0m\u001b[0;36m0.95\u001b[0m\u001b[0;34m,\u001b[0m\u001b[0;36m0\u001b[0m\u001b[0;34m,\u001b[0m\u001b[0;36m0\u001b[0m\u001b[0;34m]\u001b[0m\u001b[0;34m,\u001b[0m\u001b[0;34m[\u001b[0m\u001b[0;36m1\u001b[0m\u001b[0;34m,\u001b[0m\u001b[0;36m1\u001b[0m\u001b[0;34m,\u001b[0m\u001b[0;36m1\u001b[0m\u001b[0;34m,\u001b[0m\u001b[0;36m1\u001b[0m\u001b[0;34m]\u001b[0m\u001b[0;34m]\u001b[0m\u001b[0;34m)\u001b[0m\u001b[0;34m\u001b[0m\u001b[0;34m\u001b[0m\u001b[0m\n\u001b[1;32m      3\u001b[0m \u001b[0mb\u001b[0m\u001b[0;34m=\u001b[0m\u001b[0mnp\u001b[0m\u001b[0;34m.\u001b[0m\u001b[0marray\u001b[0m\u001b[0;34m(\u001b[0m\u001b[0;34m[\u001b[0m\u001b[0;36m0\u001b[0m\u001b[0;34m,\u001b[0m\u001b[0;36m0\u001b[0m\u001b[0;34m,\u001b[0m\u001b[0;36m0\u001b[0m\u001b[0;34m,\u001b[0m\u001b[0;36m1\u001b[0m\u001b[0;34m]\u001b[0m\u001b[0;34m)\u001b[0m\u001b[0;34m\u001b[0m\u001b[0;34m\u001b[0m\u001b[0m\n\u001b[0;32m----> 4\u001b[0;31m \u001b[0mx\u001b[0m\u001b[0;34m=\u001b[0m\u001b[0mnp\u001b[0m\u001b[0;34m.\u001b[0m\u001b[0mlinalg\u001b[0m\u001b[0;34m.\u001b[0m\u001b[0msolve\u001b[0m\u001b[0;34m(\u001b[0m\u001b[0ma\u001b[0m\u001b[0;34m,\u001b[0m\u001b[0mb\u001b[0m\u001b[0;34m)\u001b[0m\u001b[0;34m\u001b[0m\u001b[0;34m\u001b[0m\u001b[0m\n\u001b[0m\u001b[1;32m      5\u001b[0m \u001b[0mprint\u001b[0m\u001b[0;34m(\u001b[0m\u001b[0;34m'\\u03C00: '\u001b[0m\u001b[0;34m+\u001b[0m\u001b[0mstr\u001b[0m\u001b[0;34m(\u001b[0m\u001b[0mx\u001b[0m\u001b[0;34m[\u001b[0m\u001b[0;36m0\u001b[0m\u001b[0;34m]\u001b[0m\u001b[0;34m)\u001b[0m\u001b[0;34m+\u001b[0m\u001b[0;34m'\\n\\u03C01: '\u001b[0m\u001b[0;34m+\u001b[0m\u001b[0mstr\u001b[0m\u001b[0;34m(\u001b[0m\u001b[0mx\u001b[0m\u001b[0;34m[\u001b[0m\u001b[0;36m1\u001b[0m\u001b[0;34m]\u001b[0m\u001b[0;34m)\u001b[0m\u001b[0;34m+\u001b[0m\u001b[0;34m'\\n\\u03C02: '\u001b[0m\u001b[0;34m+\u001b[0m\u001b[0mstr\u001b[0m\u001b[0;34m(\u001b[0m\u001b[0mx\u001b[0m\u001b[0;34m[\u001b[0m\u001b[0;36m2\u001b[0m\u001b[0;34m]\u001b[0m\u001b[0;34m)\u001b[0m\u001b[0;34m+\u001b[0m\u001b[0;34m'\\n\\u03C03: '\u001b[0m\u001b[0;34m+\u001b[0m\u001b[0mstr\u001b[0m\u001b[0;34m(\u001b[0m\u001b[0mx\u001b[0m\u001b[0;34m[\u001b[0m\u001b[0;36m3\u001b[0m\u001b[0;34m]\u001b[0m\u001b[0;34m)\u001b[0m\u001b[0;34m)\u001b[0m\u001b[0;34m\u001b[0m\u001b[0;34m\u001b[0m\u001b[0m\n",
            "\u001b[0;32m<__array_function__ internals>\u001b[0m in \u001b[0;36msolve\u001b[0;34m(*args, **kwargs)\u001b[0m\n",
            "\u001b[0;32m/usr/local/lib/python3.6/dist-packages/numpy/linalg/linalg.py\u001b[0m in \u001b[0;36msolve\u001b[0;34m(a, b)\u001b[0m\n\u001b[1;32m    397\u001b[0m     \u001b[0msignature\u001b[0m \u001b[0;34m=\u001b[0m \u001b[0;34m'DD->D'\u001b[0m \u001b[0;32mif\u001b[0m \u001b[0misComplexType\u001b[0m\u001b[0;34m(\u001b[0m\u001b[0mt\u001b[0m\u001b[0;34m)\u001b[0m \u001b[0;32melse\u001b[0m \u001b[0;34m'dd->d'\u001b[0m\u001b[0;34m\u001b[0m\u001b[0;34m\u001b[0m\u001b[0m\n\u001b[1;32m    398\u001b[0m     \u001b[0mextobj\u001b[0m \u001b[0;34m=\u001b[0m \u001b[0mget_linalg_error_extobj\u001b[0m\u001b[0;34m(\u001b[0m\u001b[0m_raise_linalgerror_singular\u001b[0m\u001b[0;34m)\u001b[0m\u001b[0;34m\u001b[0m\u001b[0;34m\u001b[0m\u001b[0m\n\u001b[0;32m--> 399\u001b[0;31m     \u001b[0mr\u001b[0m \u001b[0;34m=\u001b[0m \u001b[0mgufunc\u001b[0m\u001b[0;34m(\u001b[0m\u001b[0ma\u001b[0m\u001b[0;34m,\u001b[0m \u001b[0mb\u001b[0m\u001b[0;34m,\u001b[0m \u001b[0msignature\u001b[0m\u001b[0;34m=\u001b[0m\u001b[0msignature\u001b[0m\u001b[0;34m,\u001b[0m \u001b[0mextobj\u001b[0m\u001b[0;34m=\u001b[0m\u001b[0mextobj\u001b[0m\u001b[0;34m)\u001b[0m\u001b[0;34m\u001b[0m\u001b[0;34m\u001b[0m\u001b[0m\n\u001b[0m\u001b[1;32m    400\u001b[0m \u001b[0;34m\u001b[0m\u001b[0m\n\u001b[1;32m    401\u001b[0m     \u001b[0;32mreturn\u001b[0m \u001b[0mwrap\u001b[0m\u001b[0;34m(\u001b[0m\u001b[0mr\u001b[0m\u001b[0;34m.\u001b[0m\u001b[0mastype\u001b[0m\u001b[0;34m(\u001b[0m\u001b[0mresult_t\u001b[0m\u001b[0;34m,\u001b[0m \u001b[0mcopy\u001b[0m\u001b[0;34m=\u001b[0m\u001b[0;32mFalse\u001b[0m\u001b[0;34m)\u001b[0m\u001b[0;34m)\u001b[0m\u001b[0;34m\u001b[0m\u001b[0;34m\u001b[0m\u001b[0m\n",
            "\u001b[0;32m/usr/local/lib/python3.6/dist-packages/numpy/linalg/linalg.py\u001b[0m in \u001b[0;36m_raise_linalgerror_singular\u001b[0;34m(err, flag)\u001b[0m\n\u001b[1;32m     95\u001b[0m \u001b[0;34m\u001b[0m\u001b[0m\n\u001b[1;32m     96\u001b[0m \u001b[0;32mdef\u001b[0m \u001b[0m_raise_linalgerror_singular\u001b[0m\u001b[0;34m(\u001b[0m\u001b[0merr\u001b[0m\u001b[0;34m,\u001b[0m \u001b[0mflag\u001b[0m\u001b[0;34m)\u001b[0m\u001b[0;34m:\u001b[0m\u001b[0;34m\u001b[0m\u001b[0;34m\u001b[0m\u001b[0m\n\u001b[0;32m---> 97\u001b[0;31m     \u001b[0;32mraise\u001b[0m \u001b[0mLinAlgError\u001b[0m\u001b[0;34m(\u001b[0m\u001b[0;34m\"Singular matrix\"\u001b[0m\u001b[0;34m)\u001b[0m\u001b[0;34m\u001b[0m\u001b[0;34m\u001b[0m\u001b[0m\n\u001b[0m\u001b[1;32m     98\u001b[0m \u001b[0;34m\u001b[0m\u001b[0m\n\u001b[1;32m     99\u001b[0m \u001b[0;32mdef\u001b[0m \u001b[0m_raise_linalgerror_nonposdef\u001b[0m\u001b[0;34m(\u001b[0m\u001b[0merr\u001b[0m\u001b[0;34m,\u001b[0m \u001b[0mflag\u001b[0m\u001b[0;34m)\u001b[0m\u001b[0;34m:\u001b[0m\u001b[0;34m\u001b[0m\u001b[0;34m\u001b[0m\u001b[0m\n",
            "\u001b[0;31mLinAlgError\u001b[0m: Singular matrix"
          ]
        }
      ]
    },
    {
      "cell_type": "code",
      "metadata": {
        "id": "9JpBG2SdJlCX",
        "colab": {
          "base_uri": "https://localhost:8080/",
          "height": 102
        },
        "outputId": "b35affcb-a871-428f-f1e9-9279e2b38c0a"
      },
      "source": [
        "import numpy as np\n",
        "a=np.array([[1,0,0,0],[0.01,0.05,0,0],[0,0.95,0,0],[1,1,1,1]])\n",
        "b=np.array([0,0,0,1])\n",
        "x=np.linalg.solve(a,b)\n",
        "print(x)\n",
        "print('\\u03C00: '+str(x[0])+'\\n\\u03C01: '+str(x[1])+'\\n\\u03C02: '+str(x[2])+'\\n\\u03C03: '+str(x[3]))"
      ],
      "execution_count": null,
      "outputs": [
        {
          "output_type": "stream",
          "text": [
            "[ 0.  0. -0.  1.]\n",
            "π0: 0.0\n",
            "π1: 0.0\n",
            "π2: -0.0\n",
            "π3: 1.0\n"
          ],
          "name": "stdout"
        }
      ]
    },
    {
      "cell_type": "code",
      "metadata": {
        "id": "5fFMuTLGaucH",
        "colab": {
          "base_uri": "https://localhost:8080/",
          "height": 85
        },
        "outputId": "dd7ea3bd-6f39-440d-fad9-f3664e821d3f"
      },
      "source": [
        "pip install --upgrade handcalcs"
      ],
      "execution_count": null,
      "outputs": [
        {
          "output_type": "stream",
          "text": [
            "Requirement already up-to-date: handcalcs in /usr/local/lib/python3.6/dist-packages (0.2.0)\n",
            "Requirement already satisfied, skipping upgrade: jinja2 in /usr/local/lib/python3.6/dist-packages (from handcalcs) (2.11.2)\n",
            "Requirement already satisfied, skipping upgrade: pyparsing in /usr/local/lib/python3.6/dist-packages (from handcalcs) (2.4.7)\n",
            "Requirement already satisfied, skipping upgrade: MarkupSafe>=0.23 in /usr/local/lib/python3.6/dist-packages (from jinja2->handcalcs) (1.1.1)\n"
          ],
          "name": "stdout"
        }
      ]
    },
    {
      "cell_type": "code",
      "metadata": {
        "id": "rEPOTE0Va0jo",
        "colab": {
          "base_uri": "https://localhost:8080/",
          "height": 340
        },
        "outputId": "638da133-1f99-4539-8bf9-b4f02d11e380"
      },
      "source": [
        "%%render\n",
        "import numpy as np\n",
        "a=np.array([[1-0.368,0,0],[-0.368,1-0.368,0],[-0.184,-0.368,1-0.368]])\n",
        "b=np.array([1,1,1])\n",
        "x=np.linalg.solve(a,b)\n",
        "print(x)"
      ],
      "execution_count": null,
      "outputs": [
        {
          "output_type": "stream",
          "text": [
            "[1.58227848 2.50360519 3.50073726]\n"
          ],
          "name": "stdout"
        },
        {
          "output_type": "error",
          "ename": "ValueError",
          "evalue": "ignored",
          "traceback": [
            "\u001b[0;31m---------------------------------------------------------------------------\u001b[0m",
            "\u001b[0;31mValueError\u001b[0m                                Traceback (most recent call last)",
            "\u001b[0;32m<ipython-input-19-84703334fa03>\u001b[0m in \u001b[0;36m<module>\u001b[0;34m()\u001b[0m\n\u001b[0;32m----> 1\u001b[0;31m \u001b[0mget_ipython\u001b[0m\u001b[0;34m(\u001b[0m\u001b[0;34m)\u001b[0m\u001b[0;34m.\u001b[0m\u001b[0mrun_cell_magic\u001b[0m\u001b[0;34m(\u001b[0m\u001b[0;34m'render'\u001b[0m\u001b[0;34m,\u001b[0m \u001b[0;34m''\u001b[0m\u001b[0;34m,\u001b[0m \u001b[0;34m'import numpy as np\\na=np.array([[1-0.368,0,0],[-0.368,1-0.368,0],[-0.184,-0.368,1-0.368]])\\nb=np.array([1,1,1])\\nx=np.linalg.solve(a,b)\\nprint(x)'\u001b[0m\u001b[0;34m)\u001b[0m\u001b[0;34m\u001b[0m\u001b[0;34m\u001b[0m\u001b[0m\n\u001b[0m",
            "\u001b[0;32m/usr/local/lib/python3.6/dist-packages/IPython/core/interactiveshell.py\u001b[0m in \u001b[0;36mrun_cell_magic\u001b[0;34m(self, magic_name, line, cell)\u001b[0m\n\u001b[1;32m   2115\u001b[0m             \u001b[0mmagic_arg_s\u001b[0m \u001b[0;34m=\u001b[0m \u001b[0mself\u001b[0m\u001b[0;34m.\u001b[0m\u001b[0mvar_expand\u001b[0m\u001b[0;34m(\u001b[0m\u001b[0mline\u001b[0m\u001b[0;34m,\u001b[0m \u001b[0mstack_depth\u001b[0m\u001b[0;34m)\u001b[0m\u001b[0;34m\u001b[0m\u001b[0;34m\u001b[0m\u001b[0m\n\u001b[1;32m   2116\u001b[0m             \u001b[0;32mwith\u001b[0m \u001b[0mself\u001b[0m\u001b[0;34m.\u001b[0m\u001b[0mbuiltin_trap\u001b[0m\u001b[0;34m:\u001b[0m\u001b[0;34m\u001b[0m\u001b[0;34m\u001b[0m\u001b[0m\n\u001b[0;32m-> 2117\u001b[0;31m                 \u001b[0mresult\u001b[0m \u001b[0;34m=\u001b[0m \u001b[0mfn\u001b[0m\u001b[0;34m(\u001b[0m\u001b[0mmagic_arg_s\u001b[0m\u001b[0;34m,\u001b[0m \u001b[0mcell\u001b[0m\u001b[0;34m)\u001b[0m\u001b[0;34m\u001b[0m\u001b[0;34m\u001b[0m\u001b[0m\n\u001b[0m\u001b[1;32m   2118\u001b[0m             \u001b[0;32mreturn\u001b[0m \u001b[0mresult\u001b[0m\u001b[0;34m\u001b[0m\u001b[0;34m\u001b[0m\u001b[0m\n\u001b[1;32m   2119\u001b[0m \u001b[0;34m\u001b[0m\u001b[0m\n",
            "\u001b[0;32m/usr/local/lib/python3.6/dist-packages/handcalcs/render.py\u001b[0m in \u001b[0;36mrender\u001b[0;34m(line, cell)\u001b[0m\n\u001b[1;32m     19\u001b[0m     \u001b[0mvar_dict\u001b[0m \u001b[0;34m=\u001b[0m \u001b[0;34m{\u001b[0m\u001b[0mv\u001b[0m\u001b[0;34m:\u001b[0m \u001b[0m_nms\u001b[0m\u001b[0;34m.\u001b[0m\u001b[0mshell\u001b[0m\u001b[0;34m.\u001b[0m\u001b[0muser_ns\u001b[0m\u001b[0;34m[\u001b[0m\u001b[0mv\u001b[0m\u001b[0;34m]\u001b[0m \u001b[0;32mfor\u001b[0m \u001b[0mv\u001b[0m \u001b[0;32min\u001b[0m \u001b[0mvar_list\u001b[0m\u001b[0;34m}\u001b[0m\u001b[0;34m\u001b[0m\u001b[0;34m\u001b[0m\u001b[0m\n\u001b[1;32m     20\u001b[0m     \u001b[0mrenderer\u001b[0m \u001b[0;34m=\u001b[0m \u001b[0mhand\u001b[0m\u001b[0;34m.\u001b[0m\u001b[0mLatexRenderer\u001b[0m\u001b[0;34m(\u001b[0m\u001b[0mcell\u001b[0m\u001b[0;34m,\u001b[0m \u001b[0mvar_dict\u001b[0m\u001b[0;34m)\u001b[0m\u001b[0;34m\u001b[0m\u001b[0;34m\u001b[0m\u001b[0m\n\u001b[0;32m---> 21\u001b[0;31m     \u001b[0mlatex_code\u001b[0m \u001b[0;34m=\u001b[0m \u001b[0mrenderer\u001b[0m\u001b[0;34m.\u001b[0m\u001b[0mrender\u001b[0m\u001b[0;34m(\u001b[0m\u001b[0;34m)\u001b[0m\u001b[0;34m\u001b[0m\u001b[0;34m\u001b[0m\u001b[0m\n\u001b[0m\u001b[1;32m     22\u001b[0m     \u001b[0;31m#print(latex_code)\u001b[0m\u001b[0;34m\u001b[0m\u001b[0;34m\u001b[0m\u001b[0;34m\u001b[0m\u001b[0m\n\u001b[1;32m     23\u001b[0m     \u001b[0mdisplay\u001b[0m\u001b[0;34m(\u001b[0m\u001b[0mLatex\u001b[0m\u001b[0;34m(\u001b[0m\u001b[0mlatex_code\u001b[0m\u001b[0;34m)\u001b[0m\u001b[0;34m)\u001b[0m\u001b[0;34m\u001b[0m\u001b[0;34m\u001b[0m\u001b[0m\n",
            "\u001b[0;32m/usr/local/lib/python3.6/dist-packages/handcalcs/__init__.py\u001b[0m in \u001b[0;36mrender\u001b[0;34m(self)\u001b[0m\n\u001b[1;32m     66\u001b[0m \u001b[0;34m\u001b[0m\u001b[0m\n\u001b[1;32m     67\u001b[0m     \u001b[0;32mdef\u001b[0m \u001b[0mrender\u001b[0m\u001b[0;34m(\u001b[0m\u001b[0mself\u001b[0m\u001b[0;34m)\u001b[0m\u001b[0;34m:\u001b[0m\u001b[0;34m\u001b[0m\u001b[0;34m\u001b[0m\u001b[0m\n\u001b[0;32m---> 68\u001b[0;31m         \u001b[0;32mreturn\u001b[0m \u001b[0mlatex\u001b[0m\u001b[0;34m(\u001b[0m\u001b[0mself\u001b[0m\u001b[0;34m.\u001b[0m\u001b[0msource\u001b[0m\u001b[0;34m,\u001b[0m \u001b[0mself\u001b[0m\u001b[0;34m.\u001b[0m\u001b[0mresults\u001b[0m\u001b[0;34m,\u001b[0m \u001b[0;36m130\u001b[0m\u001b[0;34m,\u001b[0m \u001b[0mself\u001b[0m\u001b[0;34m.\u001b[0m\u001b[0mchar_threshold\u001b[0m\u001b[0;34m)\u001b[0m\u001b[0;34m\u001b[0m\u001b[0;34m\u001b[0m\u001b[0m\n\u001b[0m\u001b[1;32m     69\u001b[0m \u001b[0;34m\u001b[0m\u001b[0m\n\u001b[1;32m     70\u001b[0m \u001b[0;32mdef\u001b[0m \u001b[0mlatex\u001b[0m\u001b[0;34m(\u001b[0m\u001b[0mraw_python_source\u001b[0m\u001b[0;34m:\u001b[0m \u001b[0mstr\u001b[0m\u001b[0;34m,\u001b[0m \u001b[0mcalculated_results\u001b[0m\u001b[0;34m:\u001b[0m \u001b[0mdict\u001b[0m\u001b[0;34m,\u001b[0m \u001b[0mlong_threshold\u001b[0m\u001b[0;34m:\u001b[0m \u001b[0mint\u001b[0m\u001b[0;34m,\u001b[0m \u001b[0mchar_threshold\u001b[0m\u001b[0;34m:\u001b[0m \u001b[0mint\u001b[0m\u001b[0;34m,\u001b[0m \u001b[0mprecision\u001b[0m \u001b[0;34m=\u001b[0m \u001b[0;36m3\u001b[0m\u001b[0;34m,\u001b[0m \u001b[0mp_cols\u001b[0m\u001b[0;34m=\u001b[0m\u001b[0;36m3\u001b[0m\u001b[0;34m)\u001b[0m \u001b[0;34m->\u001b[0m \u001b[0mstr\u001b[0m\u001b[0;34m:\u001b[0m\u001b[0;34m\u001b[0m\u001b[0;34m\u001b[0m\u001b[0m\n",
            "\u001b[0;32m/usr/local/lib/python3.6/dist-packages/handcalcs/__init__.py\u001b[0m in \u001b[0;36mlatex\u001b[0;34m(raw_python_source, calculated_results, long_threshold, char_threshold, precision, p_cols)\u001b[0m\n\u001b[1;32m     75\u001b[0m     \u001b[0msource\u001b[0m \u001b[0;34m=\u001b[0m \u001b[0mraw_python_source\u001b[0m\u001b[0;34m\u001b[0m\u001b[0;34m\u001b[0m\u001b[0m\n\u001b[1;32m     76\u001b[0m     \u001b[0;32mif\u001b[0m \u001b[0;32mnot\u001b[0m \u001b[0mtest_for_parameter_cell\u001b[0m\u001b[0;34m(\u001b[0m\u001b[0mraw_python_source\u001b[0m\u001b[0;34m)\u001b[0m\u001b[0;34m:\u001b[0m\u001b[0;34m\u001b[0m\u001b[0;34m\u001b[0m\u001b[0m\n\u001b[0;32m---> 77\u001b[0;31m         \u001b[0mparsed_code\u001b[0m \u001b[0;34m=\u001b[0m \u001b[0mparse_python_code\u001b[0m\u001b[0;34m(\u001b[0m\u001b[0msource\u001b[0m\u001b[0;34m,\u001b[0m \u001b[0mcalc_results\u001b[0m\u001b[0;34m,\u001b[0m \u001b[0mlong_threshold\u001b[0m\u001b[0;34m,\u001b[0m \u001b[0mchar_threshold\u001b[0m\u001b[0;34m)\u001b[0m\u001b[0;34m\u001b[0m\u001b[0;34m\u001b[0m\u001b[0m\n\u001b[0m\u001b[1;32m     78\u001b[0m         \u001b[0mconverted_into_latex\u001b[0m \u001b[0;34m=\u001b[0m \u001b[0mpython_to_latex_conversion\u001b[0m\u001b[0;34m(\u001b[0m\u001b[0mparsed_code\u001b[0m\u001b[0;34m,\u001b[0m \u001b[0mcalc_results\u001b[0m\u001b[0;34m,\u001b[0m \u001b[0mchar_threshold\u001b[0m\u001b[0;34m)\u001b[0m\u001b[0;34m\u001b[0m\u001b[0;34m\u001b[0m\u001b[0m\n\u001b[1;32m     79\u001b[0m         \u001b[0;31m#print(converted_into_latex)\u001b[0m\u001b[0;34m\u001b[0m\u001b[0;34m\u001b[0m\u001b[0;34m\u001b[0m\u001b[0m\n",
            "\u001b[0;32m/usr/local/lib/python3.6/dist-packages/handcalcs/__init__.py\u001b[0m in \u001b[0;36mparse_python_code\u001b[0;34m(raw_python_source, calculated_results, long_threshold, char_threshold)\u001b[0m\n\u001b[1;32m    105\u001b[0m     \u001b[0msource\u001b[0m \u001b[0;34m=\u001b[0m \u001b[0mraw_python_source\u001b[0m\u001b[0;34m\u001b[0m\u001b[0;34m\u001b[0m\u001b[0m\n\u001b[1;32m    106\u001b[0m     \u001b[0mcalc_results\u001b[0m \u001b[0;34m=\u001b[0m \u001b[0mcalculated_results\u001b[0m\u001b[0;34m\u001b[0m\u001b[0;34m\u001b[0m\u001b[0m\n\u001b[0;32m--> 107\u001b[0;31m     \u001b[0mseparated_code\u001b[0m \u001b[0;34m=\u001b[0m \u001b[0mraw_python_to_separated_dict\u001b[0m\u001b[0;34m(\u001b[0m\u001b[0msource\u001b[0m\u001b[0;34m,\u001b[0m \u001b[0mcalculated_results\u001b[0m\u001b[0;34m,\u001b[0m \u001b[0mlong_threshold\u001b[0m\u001b[0;34m)\u001b[0m\u001b[0;34m\u001b[0m\u001b[0;34m\u001b[0m\u001b[0m\n\u001b[0m\u001b[1;32m    108\u001b[0m     \u001b[0mparsed_with_results\u001b[0m \u001b[0;34m=\u001b[0m \u001b[0madd_result_values_to_lines\u001b[0m\u001b[0;34m(\u001b[0m\u001b[0mseparated_code\u001b[0m\u001b[0;34m,\u001b[0m \u001b[0mcalc_results\u001b[0m\u001b[0;34m)\u001b[0m\u001b[0;34m\u001b[0m\u001b[0;34m\u001b[0m\u001b[0m\n\u001b[1;32m    109\u001b[0m     \u001b[0;32mreturn\u001b[0m \u001b[0mparsed_with_results\u001b[0m\u001b[0;34m\u001b[0m\u001b[0;34m\u001b[0m\u001b[0m\n",
            "\u001b[0;32m/usr/local/lib/python3.6/dist-packages/handcalcs/__init__.py\u001b[0m in \u001b[0;36mraw_python_to_separated_dict\u001b[0;34m(raw_python_source, calculated_results, long_threshold)\u001b[0m\n\u001b[1;32m    120\u001b[0m         \u001b[0;32mexcept\u001b[0m \u001b[0mValueError\u001b[0m\u001b[0;34m:\u001b[0m\u001b[0;34m\u001b[0m\u001b[0;34m\u001b[0m\u001b[0m\n\u001b[1;32m    121\u001b[0m             \u001b[0mcomment\u001b[0m \u001b[0;34m=\u001b[0m \u001b[0;34m\"\"\u001b[0m\u001b[0;34m\u001b[0m\u001b[0;34m\u001b[0m\u001b[0m\n\u001b[0;32m--> 122\u001b[0;31m         \u001b[0;32mif\u001b[0m \u001b[0mtest_for_parameter_line\u001b[0m\u001b[0;34m(\u001b[0m\u001b[0mline\u001b[0m\u001b[0;34m)\u001b[0m\u001b[0;34m:\u001b[0m\u001b[0;34m\u001b[0m\u001b[0;34m\u001b[0m\u001b[0m\n\u001b[0m\u001b[1;32m    123\u001b[0m             \u001b[0mseparated_code\u001b[0m\u001b[0;34m.\u001b[0m\u001b[0mupdate\u001b[0m\u001b[0;34m(\u001b[0m\u001b[0;34m{\u001b[0m\u001b[0mline_num\u001b[0m\u001b[0;34m:\u001b[0m \u001b[0;34m{\u001b[0m\u001b[0;34m\"line\"\u001b[0m\u001b[0;34m:\u001b[0m \u001b[0mparse_parameter_line\u001b[0m\u001b[0;34m(\u001b[0m\u001b[0mline\u001b[0m\u001b[0;34m,\u001b[0m \u001b[0mcalculated_results\u001b[0m\u001b[0;34m)\u001b[0m\u001b[0;34m,\u001b[0m \u001b[0;34m\"type\"\u001b[0m\u001b[0;34m:\u001b[0m \u001b[0;34m\"parameter\"\u001b[0m\u001b[0;34m,\u001b[0m \u001b[0;34m\"comment\"\u001b[0m\u001b[0;34m:\u001b[0m \u001b[0mcomment\u001b[0m\u001b[0;34m}\u001b[0m\u001b[0;34m}\u001b[0m\u001b[0;34m)\u001b[0m\u001b[0;34m\u001b[0m\u001b[0;34m\u001b[0m\u001b[0m\n\u001b[1;32m    124\u001b[0m         \u001b[0;32melif\u001b[0m \u001b[0;34m\":\"\u001b[0m \u001b[0;32min\u001b[0m \u001b[0mline\u001b[0m\u001b[0;34m:\u001b[0m\u001b[0;34m\u001b[0m\u001b[0;34m\u001b[0m\u001b[0m\n",
            "\u001b[0;32m/usr/local/lib/python3.6/dist-packages/handcalcs/__init__.py\u001b[0m in \u001b[0;36mtest_for_parameter_line\u001b[0;34m(line)\u001b[0m\n\u001b[1;32m    475\u001b[0m     \u001b[0;32mif\u001b[0m \u001b[0;32mnot\u001b[0m \u001b[0mexpr\u001b[0m\u001b[0;34m.\u001b[0m\u001b[0mstrip\u001b[0m\u001b[0;34m(\u001b[0m\u001b[0;34m)\u001b[0m\u001b[0;34m:\u001b[0m\u001b[0;34m\u001b[0m\u001b[0;34m\u001b[0m\u001b[0m\n\u001b[1;32m    476\u001b[0m         \u001b[0;32mreturn\u001b[0m \u001b[0;32mFalse\u001b[0m\u001b[0;34m\u001b[0m\u001b[0;34m\u001b[0m\u001b[0m\n\u001b[0;32m--> 477\u001b[0;31m     \u001b[0mleft_side\u001b[0m\u001b[0;34m,\u001b[0m \u001b[0mright_side\u001b[0m \u001b[0;34m=\u001b[0m \u001b[0mexpr\u001b[0m\u001b[0;34m.\u001b[0m\u001b[0msplit\u001b[0m\u001b[0;34m(\u001b[0m\u001b[0;34m\"=\"\u001b[0m\u001b[0;34m)\u001b[0m\u001b[0;34m\u001b[0m\u001b[0;34m\u001b[0m\u001b[0m\n\u001b[0m\u001b[1;32m    478\u001b[0m     \u001b[0mright_side\u001b[0m\u001b[0;34m.\u001b[0m\u001b[0mreplace\u001b[0m\u001b[0;34m(\u001b[0m\u001b[0;34m\" \"\u001b[0m\u001b[0;34m,\u001b[0m \u001b[0;34m\"\"\u001b[0m\u001b[0;34m)\u001b[0m\u001b[0;34m\u001b[0m\u001b[0;34m\u001b[0m\u001b[0m\n\u001b[1;32m    479\u001b[0m     \u001b[0mexpr_as_code\u001b[0m \u001b[0;34m=\u001b[0m \u001b[0mcode_reader\u001b[0m\u001b[0;34m(\u001b[0m\u001b[0mexpr\u001b[0m\u001b[0;34m)\u001b[0m\u001b[0;34m\u001b[0m\u001b[0;34m\u001b[0m\u001b[0m\n",
            "\u001b[0;31mValueError\u001b[0m: not enough values to unpack (expected 2, got 1)"
          ]
        }
      ]
    },
    {
      "cell_type": "code",
      "metadata": {
        "id": "YvB6_OUbbVEP"
      },
      "source": [
        "import handcalcs.render\n",
        "import handcalcs.test_handcalcs"
      ],
      "execution_count": null,
      "outputs": []
    },
    {
      "cell_type": "code",
      "metadata": {
        "id": "3fxPewgJcC8s",
        "colab": {
          "base_uri": "https://localhost:8080/",
          "height": 136
        },
        "outputId": "1711ad15-60d9-4373-d321-d7415c9a070c"
      },
      "source": [
        "%%render\n",
        "a=1\n",
        "b=2\n",
        "c=a/b"
      ],
      "execution_count": null,
      "outputs": [
        {
          "output_type": "display_data",
          "data": {
            "text/latex": "\\[\n\\begin{aligned}\na &= 1 \\;\\textit{    }\\\\[10pt]\nb &= 2 \\;\\textit{    }\\\\[10pt]\nc &= \\frac{ a }{ b } = \\frac{ 1 }{ 2 } &= 0.5 \\;\\textit{    }\n\\end{aligned}\n\\]",
            "text/plain": [
              "<IPython.core.display.Latex object>"
            ]
          },
          "metadata": {
            "tags": []
          }
        }
      ]
    },
    {
      "cell_type": "code",
      "metadata": {
        "id": "jn5E5A3ioWhv",
        "colab": {
          "base_uri": "https://localhost:8080/",
          "height": 102
        },
        "outputId": "d47a2488-d24a-4db8-97fa-6d16ffa9deeb"
      },
      "source": [
        "import numpy as np\n",
        "a=np.array([[1,0,0,0,0],[2/3,-1,1/3,0,0],[0,2/3,-1,1/3,0],[0,0,2/3,-1,1/3],[0,0,0,0,1]])\n",
        "b=np.array([1,0,0,0,0])\n",
        "f=np.linalg.solve(a,b)\n",
        "for i in range(0,len(f)):\n",
        "  print(\"f\"+str(i)+\"0= \"+str(f[i]))"
      ],
      "execution_count": null,
      "outputs": [
        {
          "output_type": "stream",
          "text": [
            "f00= 1.0\n",
            "f10= 0.9333333333333332\n",
            "f20= 0.7999999999999998\n",
            "f30= 0.5333333333333331\n",
            "f40= 0.0\n"
          ],
          "name": "stdout"
        }
      ]
    },
    {
      "cell_type": "code",
      "metadata": {
        "id": "1EmtZfFLs68Q"
      },
      "source": [
        "import numpy as np\n",
        "a=np.array([[1,0,0,0,0],[0,1,-1/3,0,0],[0,-2/3,-1,2/3,0],[0,0,2/3,-1,1/3],[0,0,0,0,1]])\n",
        "b=np.array([1,2/3,0,0,0])\n",
        "f=np.linalg.solve(a,b)\n",
        "for i in range(0,len(f)):\n",
        "  print(\"f\"+str(i)+\"0= \"+str(f[i]))"
      ],
      "execution_count": null,
      "outputs": []
    },
    {
      "cell_type": "code",
      "metadata": {
        "id": "fPRbDUgsgkpl",
        "colab": {
          "base_uri": "https://localhost:8080/",
          "height": 51
        },
        "outputId": "3d1856b8-16b5-4fda-a2ae-307da8528e6a"
      },
      "source": [
        "import numpy as np\n",
        "a=np.array([[0.3,-0.175],[-0.175,0.2]])\n",
        "b=np.array([1,1])\n",
        "x=np.linalg.solve(a,b)\n",
        "print('\\u03BC01: '+str(x[0])+'\\n\\u03BC21: '+str(x[1]))"
      ],
      "execution_count": null,
      "outputs": [
        {
          "output_type": "stream",
          "text": [
            "μ01: 12.765957446808512\n",
            "μ21: 16.170212765957448\n"
          ],
          "name": "stdout"
        }
      ]
    },
    {
      "cell_type": "code",
      "metadata": {
        "id": "qVf4UTMjjjSK",
        "colab": {
          "base_uri": "https://localhost:8080/",
          "height": 68
        },
        "outputId": "9a47d15f-e956-4b01-9a0e-b4d8a1322887"
      },
      "source": [
        "import numpy as np\n",
        "a=np.array([[-0.3,0.125,0.175],[0.125,-0.25,0.025],[1,1,1]])\n",
        "b=np.array([0,0,1])\n",
        "x=np.linalg.solve(a,b)\n",
        "print('\\u03C00: '+str(x[0])+'\\n\\u03C01: '+str(x[1])+'\\n\\u03C02: '+str(x[2]))"
      ],
      "execution_count": null,
      "outputs": [
        {
          "output_type": "stream",
          "text": [
            "π0: 0.34562211981566826\n",
            "π1: 0.21658986175115205\n",
            "π2: 0.43778801843317977\n"
          ],
          "name": "stdout"
        }
      ]
    },
    {
      "cell_type": "code",
      "metadata": {
        "id": "ZKxOcur7kueJ",
        "colab": {
          "base_uri": "https://localhost:8080/",
          "height": 34
        },
        "outputId": "191a0362-1b65-4c66-8165-91e0cbd44365"
      },
      "source": [
        "u=1/x\n",
        "print('\\u03BC2: '+str(u[2]))"
      ],
      "execution_count": null,
      "outputs": [
        {
          "output_type": "stream",
          "text": [
            "μ2: 2.284210526315789\n"
          ],
          "name": "stdout"
        }
      ]
    },
    {
      "cell_type": "code",
      "metadata": {
        "id": "541J6hNp08Uc",
        "colab": {
          "base_uri": "https://localhost:8080/",
          "height": 119
        },
        "outputId": "4318e6d8-83c6-43d7-dec4-4875a2a162af"
      },
      "source": [
        "import numpy as np\n",
        "a=np.array([[-1,0.25,0,0,0,0],[1,-1,0.25,0.25,1/3,0],[0,0.25,-1,0.25,1/3,0.5],[0,0.25,0.25,-1,1/3,0.5],[0,0.25,0.25,0.25,-1,0],[1,1,1,1,1,1]])\n",
        "b=np.array([0,0,0,0,0,1])\n",
        "x=np.linalg.solve(a,b)\n",
        "print('\\u03C0a: '+str(x[0])+'\\n\\u03C0b: '+str(x[1])+'\\n\\u03C0c: '+str(x[2])+'\\n\\u03C0d: '+str(x[3])+'\\n\\u03C0e: '+str(x[4])+'\\n\\u03C0f: '+str(x[5]))"
      ],
      "execution_count": null,
      "outputs": [
        {
          "output_type": "stream",
          "text": [
            "πa: 0.05555555555555558\n",
            "πb: 0.22222222222222232\n",
            "πc: 0.22222222222222224\n",
            "πd: 0.2222222222222222\n",
            "πe: 0.16666666666666666\n",
            "πf: 0.11111111111111106\n"
          ],
          "name": "stdout"
        }
      ]
    },
    {
      "cell_type": "code",
      "metadata": {
        "id": "hHQGOXtEuTH4",
        "colab": {
          "base_uri": "https://localhost:8080/",
          "height": 119
        },
        "outputId": "d20c4c72-2702-4ba9-a143-aeefd1af51c8"
      },
      "source": [
        "u=1/x\n",
        "print('\\u03BCa: '+str(u[0])+'\\n\\u03BCb: '+str(u[2])+'\\n\\u03BCc: '+str(u[2])+'\\n\\u03BCd: '+str(u[3])+'\\n\\u03BCe: '+str(u[4])+'\\n\\u03BCf: '+str(u[5]))"
      ],
      "execution_count": null,
      "outputs": [
        {
          "output_type": "stream",
          "text": [
            "μa: 17.999999999999993\n",
            "μb: 4.5\n",
            "μc: 4.5\n",
            "μd: 4.5\n",
            "μe: 6.0\n",
            "μf: 9.000000000000004\n"
          ],
          "name": "stdout"
        }
      ]
    },
    {
      "cell_type": "code",
      "metadata": {
        "id": "ULVwNDPuFUsK",
        "colab": {
          "base_uri": "https://localhost:8080/",
          "height": 102
        },
        "outputId": "5031cb1d-2753-4ceb-ba1d-0f7a037da639"
      },
      "source": [
        "import numpy as np\n",
        "a=np.array([[1,-0.25,-0.25,-0.25,0],[-0.25,1,-0.25,-0.25,-0.25],[-0.25,-0.25,1,-0.25,-0.25],[-1/3,-1/3,-1/3,1,0],[0,-0.5,-0.5,0,1]])\n",
        "b=np.array([1,1,1,1,1])\n",
        "u=np.linalg.solve(a,b)\n",
        "print('\\u03BCba: '+str(u[0])+'\\n\\u03BCca: '+str(u[1])+'\\n\\u03BCda: '+str(u[2])+'\\n\\u03BCea: '+str(u[3])+'\\n\\u03BCfa: '+str(u[4]))"
      ],
      "execution_count": null,
      "outputs": [
        {
          "output_type": "stream",
          "text": [
            "μba: 16.999999999999986\n",
            "μca: 21.499999999999982\n",
            "μda: 21.49999999999998\n",
            "μea: 20.999999999999986\n",
            "μfa: 22.49999999999998\n"
          ],
          "name": "stdout"
        }
      ]
    },
    {
      "cell_type": "code",
      "metadata": {
        "id": "_bZ7Ba3ZJeh3",
        "colab": {
          "base_uri": "https://localhost:8080/",
          "height": 102
        },
        "outputId": "a08ab09a-2444-4c1f-e549-141d6bce41a9"
      },
      "source": [
        "import numpy as np\n",
        "a=np.array([[-1,0,0,0,0],[0,-1,0.25,0.25,0.25],[0,0.25,-1,0.25,0.25],[0,1/3,1/3,-1,0],[0,0.5,0.5,0,-1]])\n",
        "b=np.array([-1,-1,-1,-1,-1])\n",
        "u=np.linalg.solve(a,b)\n",
        "print('\\u03BCab: '+str(u[0])+'\\n\\u03BCcb: '+str(u[1])+'\\n\\u03BCdb: '+str(u[2])+'\\n\\u03BCeb: '+str(u[3])+'\\n\\u03BCfb: '+str(u[4]))"
      ],
      "execution_count": null,
      "outputs": [
        {
          "output_type": "stream",
          "text": [
            "μab: 1.0\n",
            "μcb: 4.5\n",
            "μdb: 4.5\n",
            "μeb: 3.9999999999999996\n",
            "μfb: 5.499999999999999\n"
          ],
          "name": "stdout"
        }
      ]
    },
    {
      "cell_type": "code",
      "metadata": {
        "id": "ZOmwp4qWPQzB",
        "colab": {
          "base_uri": "https://localhost:8080/",
          "height": 102
        },
        "outputId": "a9f6b1ea-bab4-4bec-feec-4b060df9246b"
      },
      "source": [
        "import numpy as np\n",
        "a=np.array([[-1,0.25,0.25,0.25,0],[0.25,-1,0.25,0.25,0.25],[0.25,0.25,-1,0.25,0.25],[1/3,1/3,1/3,-1,0],[0,0.5,0.5,0,-1]])\n",
        "b=np.array([-1,-1,-1,-1,-1])\n",
        "u=np.linalg.solve(a,b)\n",
        "print('\\u03BCba: '+str(u[0])+'\\n\\u03BCca: '+str(u[1])+'\\n\\u03BCda: '+str(u[2])+'\\n\\u03BCea: '+str(u[3])+'\\n\\u03BCfa: '+str(u[4]))"
      ],
      "execution_count": null,
      "outputs": [
        {
          "output_type": "stream",
          "text": [
            "μba: 16.999999999999986\n",
            "μca: 21.499999999999982\n",
            "μda: 21.49999999999998\n",
            "μea: 20.999999999999986\n",
            "μfa: 22.49999999999998\n"
          ],
          "name": "stdout"
        }
      ]
    },
    {
      "cell_type": "code",
      "metadata": {
        "id": "CHBtQazBROAg",
        "colab": {
          "base_uri": "https://localhost:8080/",
          "height": 102
        },
        "outputId": "bffb6d2f-7fe1-41aa-fdca-f59f125f96da"
      },
      "source": [
        "import numpy as np\n",
        "a=np.array([[-1,1,0,0,0],[0.25,-1,0.25,0.25,0],[0,0.25,-1,0.25,0.25],[0,1/3,1/3,-1,0],[0,0,0.5,0,-1]])\n",
        "b=np.array([-1,-1,-1,-1,-1])\n",
        "u=np.linalg.solve(a,b)\n",
        "print('\\u03BCac: '+str(u[0])+'\\n\\u03BCbc: '+str(u[1])+'\\n\\u03BCdc: '+str(u[2])+'\\n\\u03BCec: '+str(u[3])+'\\n\\u03BCfc: '+str(u[4]))"
      ],
      "execution_count": null,
      "outputs": [
        {
          "output_type": "stream",
          "text": [
            "μac: 5.05\n",
            "μbc: 4.05\n",
            "μdc: 3.5999999999999996\n",
            "μec: 3.5499999999999994\n",
            "μfc: 2.8\n"
          ],
          "name": "stdout"
        }
      ]
    },
    {
      "cell_type": "code",
      "metadata": {
        "id": "HJFT4_gtTEKD",
        "colab": {
          "base_uri": "https://localhost:8080/",
          "height": 102
        },
        "outputId": "1635ade8-dd06-4adf-b929-d1fd09f48264"
      },
      "source": [
        "import numpy as np\n",
        "a=np.array([[-1,1,0,0,0],[0.25,-1,0.25,0.25,0],[0,0.25,-1,0.25,0.25],[0,1/3,1/3,-1,0],[0,0,0.5,0,-1]])\n",
        "b=np.array([-1,-1,-1,-1,-1])\n",
        "u=np.linalg.solve(a,b)\n",
        "print('\\u03BCad: '+str(u[0])+'\\n\\u03BCbd: '+str(u[1])+'\\n\\u03BCcd: '+str(u[2])+'\\n\\u03BCed: '+str(u[3])+'\\n\\u03BCfd: '+str(u[4]))"
      ],
      "execution_count": null,
      "outputs": [
        {
          "output_type": "stream",
          "text": [
            "μad: 5.05\n",
            "μbd: 4.05\n",
            "μcd: 3.5999999999999996\n",
            "μed: 3.5499999999999994\n",
            "μfd: 2.8\n"
          ],
          "name": "stdout"
        }
      ]
    },
    {
      "cell_type": "code",
      "metadata": {
        "id": "KofOLVk0TgbZ",
        "colab": {
          "base_uri": "https://localhost:8080/",
          "height": 102
        },
        "outputId": "c7a6221a-dcc3-473c-c64e-95b025254063"
      },
      "source": [
        "import numpy as np\n",
        "a=np.array([[-1,1,0,0,0],[0.25,-1,0.25,0.25,0],[0,0.25,-1,0.25,0.25],[0,0.25,0.25,-1,0.25],[0,0,0.5,0.5,-1]])\n",
        "b=np.array([-1,-1,-1,-1,-1])\n",
        "u=np.linalg.solve(a,b)\n",
        "print('\\u03BCae: '+str(u[0])+'\\n\\u03BCbe: '+str(u[1])+'\\n\\u03BCce: '+str(u[2])+'\\n\\u03BCde: '+str(u[3])+'\\n\\u03BCfe: '+str(u[4]))"
      ],
      "execution_count": null,
      "outputs": [
        {
          "output_type": "stream",
          "text": [
            "μae: 6.0\n",
            "μbe: 5.0\n",
            "μce: 5.000000000000001\n",
            "μde: 5.000000000000001\n",
            "μfe: 6.000000000000001\n"
          ],
          "name": "stdout"
        }
      ]
    },
    {
      "cell_type": "code",
      "metadata": {
        "id": "K3vUYQ-UUvh8",
        "colab": {
          "base_uri": "https://localhost:8080/",
          "height": 102
        },
        "outputId": "5c8d6fb7-93ec-4a9e-dd96-1143c05a42be"
      },
      "source": [
        "import numpy as np\n",
        "a=np.array([[-1,1,0,0,0],[0.25,-1,0.25,0.25,0.25],[0,0.25,-1,0.25,0.25],[0,0.25,0.25,-1,0.25],[0,1/3,1/3,1/3,-1]])\n",
        "b=np.array([-1,-1,-1,-1,-1])\n",
        "u=np.linalg.solve(a,b)\n",
        "print('\\u03BCaf: '+str(u[0])+'\\n\\u03BCbf: '+str(u[1])+'\\n\\u03BCcf: '+str(u[2])+'\\n\\u03BCdf: '+str(u[3])+'\\n\\u03BCef: '+str(u[4]))"
      ],
      "execution_count": null,
      "outputs": [
        {
          "output_type": "stream",
          "text": [
            "μaf: 11.249999999999996\n",
            "μbf: 10.249999999999996\n",
            "μcf: 7.999999999999997\n",
            "μdf: 7.999999999999997\n",
            "μef: 9.749999999999996\n"
          ],
          "name": "stdout"
        }
      ]
    },
    {
      "cell_type": "code",
      "metadata": {
        "id": "XeRO0EBZgwxj",
        "colab": {
          "base_uri": "https://localhost:8080/",
          "height": 68
        },
        "outputId": "49beac1b-056b-435a-b742-3f1bb4416743"
      },
      "source": [
        "import numpy as np\n",
        "a=np.array([[-0.1,0.9,0.9],[0.1,-1,0.1],[1,1,1]])\n",
        "b=np.array([0,0,1])\n",
        "x=np.linalg.solve(a,b)\n",
        "print('\\u03C0(1,1): '+str(x[0])+'\\n\\u03C0(0,1): '+str(x[1])+'\\n\\u03C0(1,0): '+str(x[2]))"
      ],
      "execution_count": null,
      "outputs": [
        {
          "output_type": "stream",
          "text": [
            "π(1,1): 0.9\n",
            "π(0,1): 0.09090909090909091\n",
            "π(1,0): 0.009090909090909094\n"
          ],
          "name": "stdout"
        }
      ]
    },
    {
      "cell_type": "code",
      "metadata": {
        "id": "3oht0jrLlnak",
        "colab": {
          "base_uri": "https://localhost:8080/",
          "height": 34
        },
        "outputId": "ce5766ad-0a08-45d0-fea9-c3a467b79eeb"
      },
      "source": [
        "u=1/x\n",
        "print('\\u03BC(0,1): '+str(u[1]))"
      ],
      "execution_count": null,
      "outputs": [
        {
          "output_type": "stream",
          "text": [
            "μ(0,1): 11.0\n"
          ],
          "name": "stdout"
        }
      ]
    },
    {
      "cell_type": "code",
      "metadata": {
        "id": "-L1T2sHmnc3g",
        "colab": {
          "base_uri": "https://localhost:8080/",
          "height": 68
        },
        "outputId": "42bdf38e-ada2-4929-8ba9-bd105f90f90e"
      },
      "source": [
        "import numpy as np\n",
        "a= np.array([[-0.2,0,1 ],[0.2,-1,0],[1,1,1]])\n",
        "b=np.array([0,0,1])\n",
        "x=np.linalg.solve(a,b)\n",
        "print('\\u03C00: '+str(x[0])+'\\n\\u03C01: '+str(x[1])+'\\n\\u03C02: '+str(x[2]))"
      ],
      "execution_count": null,
      "outputs": [
        {
          "output_type": "stream",
          "text": [
            "π0: 0.7142857142857142\n",
            "π1: 0.14285714285714288\n",
            "π2: 0.14285714285714288\n"
          ],
          "name": "stdout"
        }
      ]
    },
    {
      "cell_type": "code",
      "metadata": {
        "id": "EhE7-VNboVoA",
        "colab": {
          "base_uri": "https://localhost:8080/",
          "height": 85
        },
        "outputId": "a5e23299-6c11-40fe-c6ec-b898735c3c63"
      },
      "source": [
        "import numpy as np\n",
        "a=np.array([[-0.2,0,0.8,0],[0.2,-1,0.2,0],[0,0,-1,1],[1,1,1,1]])\n",
        "b=np.array([0,0,0,1])\n",
        "x=np.linalg.solve(a,b)\n",
        "print('\\u03C0(0,0): '+str(x[0])+'\\n\\u03C0(0,1): '+str(x[1])+'\\n\\u03C0(1,0): '+str(x[2])+'\\n\\u03C0(1,1): '+str(x[3]))"
      ],
      "execution_count": null,
      "outputs": [
        {
          "output_type": "stream",
          "text": [
            "π(0,0): 0.5714285714285713\n",
            "π(0,1): 0.14285714285714288\n",
            "π(1,0): 0.14285714285714288\n",
            "π(1,1): 0.14285714285714288\n"
          ],
          "name": "stdout"
        }
      ]
    },
    {
      "cell_type": "code",
      "metadata": {
        "id": "23BqI4Oppxbm",
        "colab": {
          "base_uri": "https://localhost:8080/",
          "height": 34
        },
        "outputId": "70869b42-eae4-4d7a-a06e-ad73a01b99df"
      },
      "source": [
        "u=1/x\n",
        "print('\\u03BC(1,1): '+str(u[3]))"
      ],
      "execution_count": null,
      "outputs": [
        {
          "output_type": "stream",
          "text": [
            "μ(1,1): 6.999999999999999\n"
          ],
          "name": "stdout"
        }
      ]
    },
    {
      "cell_type": "code",
      "metadata": {
        "id": "G4V9UaNgz8jK",
        "colab": {
          "base_uri": "https://localhost:8080/"
        },
        "outputId": "97c89ddc-99cd-4da5-ded2-d8cfb525b6e5"
      },
      "source": [
        "import numpy as np\n",
        "a= np.array([[-0.4,0.6],[1,1]])\n",
        "b=np.array([0,1])\n",
        "x=np.linalg.solve(a,b)\n",
        "print('\\u03C0T: '+str(x[0])+'\\n\\u03C0NT: '+str(x[1]))"
      ],
      "execution_count": null,
      "outputs": [
        {
          "output_type": "stream",
          "text": [
            "πT: 0.6\n",
            "πNT: 0.4\n"
          ],
          "name": "stdout"
        }
      ]
    }
  ]
}