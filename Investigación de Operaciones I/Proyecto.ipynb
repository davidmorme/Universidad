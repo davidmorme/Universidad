{
  "nbformat": 4,
  "nbformat_minor": 0,
  "metadata": {
    "colab": {
      "name": "Proyecto.ipynb",
      "provenance": [],
      "mount_file_id": "1gj-MpnxoMPylZAzO4t3IKqBUKww5uQbZ",
      "authorship_tag": "ABX9TyMNX+MSVe5JCJjNp2w1CDxn",
      "include_colab_link": true
    },
    "kernelspec": {
      "name": "python3",
      "display_name": "Python 3"
    }
  },
  "cells": [
    {
      "cell_type": "markdown",
      "metadata": {
        "id": "view-in-github",
        "colab_type": "text"
      },
      "source": [
        "<a href=\"https://colab.research.google.com/github/davidmorme/Universidad/blob/main/Investigaci%C3%B3n%20de%20Operaciones%20I/Proyecto.ipynb\" target=\"_parent\"><img src=\"https://colab.research.google.com/assets/colab-badge.svg\" alt=\"Open In Colab\"/></a>"
      ]
    },
    {
      "cell_type": "code",
      "metadata": {
        "id": "ZVEz8HH9z7xq",
        "colab": {
          "base_uri": "https://localhost:8080/",
          "height": 153
        },
        "outputId": "ac13db2f-c023-4acf-93f6-08b2574e58e1"
      },
      "source": [
        "import pandas as pd\n",
        "Cadena = pd.read_csv('/Cadena.csv', sep=\";\",index_col=0)\n",
        "\n",
        "print(Cadena)"
      ],
      "execution_count": null,
      "outputs": [
        {
          "output_type": "stream",
          "text": [
            "          0         1         2         3         4      5         6\n",
            "0 -0.866667  0.154839  0.141975  0.096774  0.200000  0.100  0.083333\n",
            "1  0.166667 -0.748387  0.222222  0.266129  0.257143  0.200  0.166667\n",
            "2  0.344444  0.187097 -0.783951  0.266129  0.214286  0.275  0.375000\n",
            "3  0.144444  0.219355  0.209877 -0.822581  0.200000  0.150  0.208333\n",
            "4  0.122222  0.077419  0.123457  0.112903 -0.914286  0.175  0.083333\n",
            "5  0.033333  0.070968  0.067901  0.048387  0.028571 -0.925  0.083333\n",
            "6  1.000000  1.000000  1.000000  1.000000  1.000000  1.000  1.000000\n"
          ],
          "name": "stdout"
        }
      ]
    },
    {
      "cell_type": "code",
      "metadata": {
        "id": "IGVLoXog2JNI",
        "colab": {
          "base_uri": "https://localhost:8080/",
          "height": 153
        },
        "outputId": "216dfc34-de63-43c3-c98d-75769e853843"
      },
      "source": [
        "print(Cadena[0:]['0'])"
      ],
      "execution_count": null,
      "outputs": [
        {
          "output_type": "stream",
          "text": [
            "0    0.133333\n",
            "1    0.154839\n",
            "2    0.141975\n",
            "3    0.096774\n",
            "4    0.200000\n",
            "5    0.100000\n",
            "6    0.083333\n",
            "Name: 0, dtype: float64\n"
          ],
          "name": "stdout"
        }
      ]
    },
    {
      "cell_type": "code",
      "metadata": {
        "id": "Sw9ZBE2L245S",
        "colab": {
          "base_uri": "https://localhost:8080/",
          "height": 255
        },
        "outputId": "6fb89770-1b26-4a2b-afc4-b8b94c532916"
      },
      "source": [
        "cad=np.array(Cadena)\n",
        "print(cad)"
      ],
      "execution_count": null,
      "outputs": [
        {
          "output_type": "stream",
          "text": [
            "[[-0.86666667  0.15483871  0.14197531  0.09677419  0.2         0.1\n",
            "   0.08333333]\n",
            " [ 0.16666667 -0.7483871   0.22222222  0.26612903  0.25714286  0.2\n",
            "   0.16666667]\n",
            " [ 0.34444444  0.18709677 -0.78395062  0.26612903  0.21428571  0.275\n",
            "   0.375     ]\n",
            " [ 0.14444444  0.21935484  0.20987654 -0.82258065  0.2         0.15\n",
            "   0.20833333]\n",
            " [ 0.12222222  0.07741935  0.12345679  0.11290323 -0.91428571  0.175\n",
            "   0.08333333]\n",
            " [ 0.03333333  0.07096774  0.06790123  0.0483871   0.02857143 -0.925\n",
            "   0.08333333]\n",
            " [ 1.          1.          1.          1.          1.          1.\n",
            "   1.        ]]\n"
          ],
          "name": "stdout"
        }
      ]
    },
    {
      "cell_type": "code",
      "metadata": {
        "id": "H-jiQvwj7EfR"
      },
      "source": [
        "import pandas as pd\n",
        "Cadena = pd.read_csv('/Cadena.csv', sep=\";\",index_col=0)\n",
        "CadenaSinCR7 = pd.read_csv('/CadenaSinCR7.csv', sep=\";\",index_col=0)\n",
        "CadenaConCR7 = pd.read_csv('/CadenaConCR7.csv', sep=\";\",index_col=0)"
      ],
      "execution_count": null,
      "outputs": []
    },
    {
      "cell_type": "code",
      "metadata": {
        "id": "FBUtQGJV1goR",
        "colab": {
          "base_uri": "https://localhost:8080/",
          "height": 153
        },
        "outputId": "6e34507f-1eb4-49a1-9364-0c4a20d7d0c5"
      },
      "source": [
        "import numpy as np\n",
        "cad=np.array(Cadena)\n",
        "b=np.array([0,0,0,0,0,0,1])\n",
        "x=np.linalg.solve(cad,b)\n",
        "print(\"\\u03C0s de la cadena completa\")\n",
        "for i in range(0,len(x)):\n",
        "  print('\\u03C0'+str(i)+\": \"+str(x[i]))"
      ],
      "execution_count": null,
      "outputs": [
        {
          "output_type": "stream",
          "text": [
            "πs de la cadena completa\n",
            "π0: 0.13719026627279335\n",
            "π1: 0.2306641271598549\n",
            "π2: 0.24457856296990518\n",
            "π3: 0.19233125843159843\n",
            "π4: 0.1082624374272173\n",
            "π5: 0.05672454564385353\n",
            "π6: 0.030248802094777254\n"
          ],
          "name": "stdout"
        }
      ]
    },
    {
      "cell_type": "code",
      "metadata": {
        "id": "9SzLaLJm85r6",
        "colab": {
          "base_uri": "https://localhost:8080/",
          "height": 136
        },
        "outputId": "df2d22a6-82b6-4668-a495-d8192b8f3122"
      },
      "source": [
        "import numpy as np\n",
        "cad=np.array(CadenaSinCR7)\n",
        "b=np.array([0,0,0,0,0,1])\n",
        "x0=np.linalg.solve(cad,b)\n",
        "print(\"\\u03C0s de la cadena sin CR7\")\n",
        "for i in range(0,len(x0)):\n",
        "  print('\\u03C0'+str(i)+\": \"+str(x0[i]))"
      ],
      "execution_count": null,
      "outputs": [
        {
          "output_type": "stream",
          "text": [
            "πs de la cadena sin CR7\n",
            "π0: 0.16178503456594162\n",
            "π1: 0.26934427024105595\n",
            "π2: 0.228214040709041\n",
            "π3: 0.17128407841335092\n",
            "π4: 0.09256921255333331\n",
            "π5: 0.0768033635172772\n"
          ],
          "name": "stdout"
        }
      ]
    },
    {
      "cell_type": "code",
      "metadata": {
        "id": "q8PqyziJ8_hl",
        "colab": {
          "base_uri": "https://localhost:8080/",
          "height": 136
        },
        "outputId": "63937958-2a0b-40ca-dfcd-6c4cb76b63ea"
      },
      "source": [
        "import numpy as np\n",
        "cad=np.array(CadenaConCR7)\n",
        "b=np.array([0,0,0,0,0,1])\n",
        "x1=np.linalg.solve(cad,b)\n",
        "print(\"\\u03C0s de la cadena con CR7\")\n",
        "for i in range(0,len(x1)):\n",
        "  print('\\u03C0'+str(i)+\": \"+str(x1[i]))"
      ],
      "execution_count": null,
      "outputs": [
        {
          "output_type": "stream",
          "text": [
            "πs de la cadena con CR7\n",
            "π0: 0.10068563107005259\n",
            "π1: 0.12812510723316045\n",
            "π2: 0.23933465068387388\n",
            "π3: 0.2053663317745751\n",
            "π4: 0.16175939402425427\n",
            "π5: 0.1647288852140837\n"
          ],
          "name": "stdout"
        }
      ]
    },
    {
      "cell_type": "code",
      "metadata": {
        "id": "0czg9f8K9psp",
        "colab": {
          "base_uri": "https://localhost:8080/",
          "height": 136
        },
        "outputId": "74af1598-4b50-4972-fc1b-db3ae4f26e07"
      },
      "source": [
        "dif=x1-x0\n",
        "print('Diferencia de \\u03C0s Con y Sin CR7')\n",
        "for i in range(0,len(dif)):\n",
        "  print('Diferencia de \\u03C0'+str(i)+\": \"+str(dif[i]))"
      ],
      "execution_count": null,
      "outputs": [
        {
          "output_type": "stream",
          "text": [
            "Diferencia de πs Con y Sin CR7\n",
            "Diferencia de π0: -0.061099403495889035\n",
            "Diferencia de π1: -0.1412191630078955\n",
            "Diferencia de π2: 0.011120609974832885\n",
            "Diferencia de π3: 0.034082253361224196\n",
            "Diferencia de π4: 0.06919018147092096\n",
            "Diferencia de π5: 0.08792552169680648\n"
          ],
          "name": "stdout"
        }
      ]
    },
    {
      "cell_type": "code",
      "metadata": {
        "id": "i3ChEI9s-nDq",
        "colab": {
          "base_uri": "https://localhost:8080/",
          "height": 153
        },
        "outputId": "80383679-aecb-4ead-cf64-da3c00feee76"
      },
      "source": [
        "u=1/x\n",
        "print(\"\\u03BCs de la cadena completa\")\n",
        "for i in range(0,len(u)):\n",
        "  print('\\u03BC'+str(i)+\": \"+str(u[i]))"
      ],
      "execution_count": null,
      "outputs": [
        {
          "output_type": "stream",
          "text": [
            "μs de la cadena completa\n",
            "μ0: 7.289146870023338\n",
            "μ1: 4.335307844843077\n",
            "μ2: 4.088665776170448\n",
            "μ3: 5.199362850088378\n",
            "μ4: 9.236814021227632\n",
            "μ5: 17.62905261998086\n",
            "μ6: 33.05916038812855\n"
          ],
          "name": "stdout"
        }
      ]
    },
    {
      "cell_type": "code",
      "metadata": {
        "id": "UIJrVLa0-9d-",
        "colab": {
          "base_uri": "https://localhost:8080/",
          "height": 136
        },
        "outputId": "378ed46a-bf95-4460-d5f9-d2da8e27aa69"
      },
      "source": [
        "u0=1/x0\n",
        "print(\"\\u03BCs de la cadena sin CR7\")\n",
        "for i in range(0,len(u0)):\n",
        "  print('\\u03BC'+str(i)+\": \"+str(u0[i]))"
      ],
      "execution_count": null,
      "outputs": [
        {
          "output_type": "stream",
          "text": [
            "μs de la cadena sin CR7\n",
            "μ0: 6.1810414213090406\n",
            "μ1: 3.7127205234587937\n",
            "μ2: 4.381851339615598\n",
            "μ3: 5.838254257274002\n",
            "μ4: 10.802727736544748\n",
            "μ5: 13.020263100522234\n"
          ],
          "name": "stdout"
        }
      ]
    },
    {
      "cell_type": "code",
      "metadata": {
        "id": "LKKH6Sw7_EYM",
        "colab": {
          "base_uri": "https://localhost:8080/",
          "height": 136
        },
        "outputId": "5cfb748b-91dd-4178-c27e-800816f248bd"
      },
      "source": [
        "u1=1/x1\n",
        "print(\"\\u03BCs de la cadena con CR7\")\n",
        "for i in range(0,len(u1)):\n",
        "  print('\\u03BC'+str(i)+\": \"+str(u1[i]))"
      ],
      "execution_count": null,
      "outputs": [
        {
          "output_type": "stream",
          "text": [
            "μs de la cadena con CR7\n",
            "μ0: 9.931903781824087\n",
            "μ1: 7.804871516557739\n",
            "μ2: 4.17824998236822\n",
            "μ3: 4.869347333416229\n",
            "μ4: 6.182021180482783\n",
            "μ5: 6.070580752734335\n"
          ],
          "name": "stdout"
        }
      ]
    },
    {
      "cell_type": "code",
      "metadata": {
        "id": "x51AE904mplZ"
      },
      "source": [
        "import pandas as pd\n",
        "CadenaM = pd.read_csv('/CadenaM.csv', sep=\";\",index_col=0)"
      ],
      "execution_count": null,
      "outputs": []
    },
    {
      "cell_type": "code",
      "metadata": {
        "id": "iZ0CQ791m_XW"
      },
      "source": [
        "import numpy as np\n",
        "i=1 #Número desde el cual queremos ir\n",
        "CadM=np.array(CadenaM)\n",
        "CadMa=np.array([[0.0,0.0,0.0,0.0,0.0,0.0],[0,0,0,0,0,0],[0,0,0,0,0,0],[0,0,0,0,0,0],[0,0,0,0,0,0],[0,0,0,0,0,0]])\n",
        "\n",
        "for j in range(0,i):\n",
        "  CadML=list(CadM[j])\n",
        "  del(CadML[i])\n",
        "  CadMa[j]=np.array(CadML)\n",
        "for j in range(i+1,len(CadM)):\n",
        "  CadML=list(CadM[j])\n",
        "  del(CadML[i])\n",
        "  CadMa[j-1]=np.array(CadML)"
      ],
      "execution_count": null,
      "outputs": []
    },
    {
      "cell_type": "code",
      "metadata": {
        "id": "yEfBl8xUwCTk",
        "colab": {
          "base_uri": "https://localhost:8080/"
        },
        "outputId": "2f57b8be-bd52-40eb-b0c8-361795cd104e"
      },
      "source": [
        "b=np.array([-1,-1,-1,-1,-1,-1])\n",
        "u=np.linalg.solve(CadMa,b)\n",
        "for n in range(0,i):\n",
        "  print('\\u03BC'+str(n)+str(i)+': '+str(u[n]))\n",
        "for n in range(i,len(u)):\n",
        "  print('\\u03BC'+str(n+1)+str(i)+': '+str(u[n]))"
      ],
      "execution_count": null,
      "outputs": [
        {
          "output_type": "stream",
          "text": [
            "μ10: 2.836584638389052\n",
            "μ12: 2.5208719487661617\n",
            "μ13: 2.4973413469165866\n",
            "μ14: 2.7354208343795796\n",
            "μ15: 2.9095080784033294\n",
            "μ16: 3.1723992239925956\n"
          ],
          "name": "stdout"
        }
      ]
    },
    {
      "cell_type": "code",
      "metadata": {
        "id": "R2Lbh2uP0uvu"
      },
      "source": [
        "import pandas as pd\n",
        "CadenaM = pd.read_csv('/CadenaM.csv', sep=\";\",index_col=0)"
      ],
      "execution_count": null,
      "outputs": []
    },
    {
      "cell_type": "code",
      "metadata": {
        "id": "Kl7izJD60xeP",
        "colab": {
          "base_uri": "https://localhost:8080/"
        },
        "outputId": "0b517197-b4b3-4ce6-e2ed-a02d1292815a"
      },
      "source": [
        "import numpy as np\n",
        "i=0 #Número al cual queremos ir\n",
        "CadM=np.array(CadenaM)\n",
        "CadMa=np.array([[0.0,0.0,0.0,0.0,0.0,0.0],[0,0,0,0,0,0],[0,0,0,0,0,0],[0,0,0,0,0,0],[0,0,0,0,0,0],[0,0,0,0,0,0]])\n",
        "\n",
        "for j in range(0,i):\n",
        "  CadML=list(CadM[j])\n",
        "  del(CadML[i])\n",
        "  CadMa[j]=np.array(CadML)\n",
        "for j in range(i+1,len(CadM)):\n",
        "  CadML=list(CadM[j])\n",
        "  del(CadML[i])\n",
        "  CadMa[j-1]=np.array(CadML)\n",
        "b=np.array([-1,-1,-1,-1,-1,-1])\n",
        "u=np.linalg.solve(CadMa,b)\n",
        "for n in range(0,i):\n",
        "  print('\\u03BC'+str(n)+str(i)+': '+str(u[n]))\n",
        "for n in range(i,len(u)):\n",
        "  print('\\u03BC'+str(n+1)+str(i)+': '+str(u[n]))"
      ],
      "execution_count": null,
      "outputs": [
        {
          "output_type": "stream",
          "text": [
            "μ10: 2.9361402017172384\n",
            "μ20: 3.0466192512991843\n",
            "μ30: 3.253155906776735\n",
            "μ40: 3.215923920293999\n",
            "μ50: 3.5726908472870242\n",
            "μ60: 3.875297630733639\n"
          ],
          "name": "stdout"
        }
      ]
    },
    {
      "cell_type": "code",
      "metadata": {
        "id": "ljSODCQsRbXC"
      },
      "source": [
        "import pandas as pd\n",
        "CadenaM = pd.read_csv('/CadenaSinCR7M.csv', sep=\";\",index_col=0)"
      ],
      "execution_count": null,
      "outputs": []
    },
    {
      "cell_type": "code",
      "metadata": {
        "id": "nTat1b1xRi69",
        "colab": {
          "base_uri": "https://localhost:8080/"
        },
        "outputId": "3415529b-6f9b-4c4e-9985-4fd9a73f65cb"
      },
      "source": [
        "import numpy as np\n",
        "i=5 #Número al cual queremos ir\n",
        "CadM=np.array(CadenaM)\n",
        "CadMa=np.array([[0.0,0.0,0.0,0.0,0.0],[0,0,0,0,0],[0,0,0,0,0],[0,0,0,0,0],[0,0,0,0,0]])\n",
        "\n",
        "for j in range(0,i):\n",
        "  CadML=list(CadM[j])\n",
        "  del(CadML[i])\n",
        "  CadMa[j]=np.array(CadML)\n",
        "for j in range(i+1,len(CadM)):\n",
        "  CadML=list(CadM[j])\n",
        "  del(CadML[i])\n",
        "  CadMa[j-1]=np.array(CadML)\n",
        "b=np.array([-1,-1,-1,-1,-1])\n",
        "u=np.linalg.solve(CadMa,b)\n",
        "for n in range(0,i):\n",
        "  print('\\u03BC'+str(n)+str(i)+': '+str(u[n]))\n",
        "for n in range(i,len(u)):\n",
        "  print('\\u03BC'+str(n+1)+str(i)+': '+str(u[n]))"
      ],
      "execution_count": null,
      "outputs": [
        {
          "output_type": "stream",
          "text": [
            "μ05: 3.195352161728455\n",
            "μ15: 2.866542753410565\n",
            "μ25: 3.0327626905394443\n",
            "μ35: 3.0618353460258607\n",
            "μ45: 3.3374038965901702\n"
          ],
          "name": "stdout"
        }
      ]
    },
    {
      "cell_type": "code",
      "metadata": {
        "id": "SFPQGTKvbLb8"
      },
      "source": [
        "import pandas as pd\n",
        "CadenaM = pd.read_csv('/CadenaConCR7M.csv', sep=\";\",index_col=0)"
      ],
      "execution_count": null,
      "outputs": []
    },
    {
      "cell_type": "code",
      "metadata": {
        "id": "V8ofFoeqaJbe",
        "colab": {
          "base_uri": "https://localhost:8080/"
        },
        "outputId": "382448a3-93fb-4594-f955-24e2401852c6"
      },
      "source": [
        "for i in range(0,len(CadenaM)):\n",
        "  CadM=np.array(CadenaM)\n",
        "  CadMa=np.array([[0.0,0.0,0.0,0.0,0.0],[0,0,0,0,0],[0,0,0,0,0],[0,0,0,0,0],[0,0,0,0,0]])\n",
        "  for j in range(0,i):\n",
        "    CadML=list(CadM[j])\n",
        "    del(CadML[i])\n",
        "    CadMa[j]=np.array(CadML)\n",
        "  for j in range(i+1,len(CadM)):\n",
        "    CadML=list(CadM[j])\n",
        "    del(CadML[i])\n",
        "    CadMa[j-1]=np.array(CadML)\n",
        "  b=np.array([-1,-1,-1,-1,-1])\n",
        "  u=np.linalg.solve(CadMa,b)\n",
        "  for n in range(0,i):\n",
        "    print('\\u03BC'+str(n)+str(i)+': '+str(u[n]))\n",
        "  for n in range(i,len(u)):\n",
        "    print('\\u03BC'+str(n+1)+str(i)+': '+str(u[n]))"
      ],
      "execution_count": null,
      "outputs": [
        {
          "output_type": "stream",
          "text": [
            "μ10: 3.6140686655210774\n",
            "μ20: 3.4960463748385435\n",
            "μ30: 3.4560948144645036\n",
            "μ40: 3.5509394203261935\n",
            "μ50: 3.309652597682921\n",
            "μ01: 3.944681681377389\n",
            "μ21: 3.3025060695448136\n",
            "μ31: 3.0415305459350512\n",
            "μ41: 3.4636087341169803\n",
            "μ51: 3.323699537749083\n",
            "μ02: 2.5929583325349603\n",
            "μ12: 2.7537280438742866\n",
            "μ32: 2.1906972002088314\n",
            "μ42: 2.412312344066059\n",
            "μ52: 2.1899447195182042\n",
            "μ03: 3.567099675833084\n",
            "μ13: 3.126402614158524\n",
            "μ23: 3.0042543679788287\n",
            "μ43: 3.18406871564899\n",
            "μ53: 2.9888712515383187\n",
            "μ04: 3.4664280652652826\n",
            "μ14: 3.42020911678473\n",
            "μ24: 2.9173122393392887\n",
            "μ34: 2.6663626533937657\n",
            "μ54: 2.9037507220507726\n",
            "μ05: 3.482377311704706\n",
            "μ15: 3.0868196935169294\n",
            "μ25: 3.401551707062593\n",
            "μ35: 3.190001038551805\n",
            "μ45: 3.6707387257748594\n"
          ],
          "name": "stdout"
        }
      ]
    },
    {
      "cell_type": "code",
      "metadata": {
        "id": "q1sWOMmdboyG"
      },
      "source": [
        "import pandas as pd\n",
        "CadenaM = pd.read_csv('/CadenaM.csv', sep=\";\",index_col=0)"
      ],
      "execution_count": null,
      "outputs": []
    },
    {
      "cell_type": "code",
      "metadata": {
        "id": "2hYT_yE8bpaP",
        "colab": {
          "base_uri": "https://localhost:8080/"
        },
        "outputId": "36f29c61-c256-43bf-a605-8c91a1a22217"
      },
      "source": [
        "import numpy as np\n",
        "for i in range(0,len(CadenaM)):\n",
        "  CadM=np.array(CadenaM)\n",
        "  CadMa=np.array([[0.0,0.0,0.0,0.0,0.0,0.0],[0,0,0,0,0,0],[0,0,0,0,0,0],[0,0,0,0,0,0],[0,0,0,0,0,0],[0,0,0,0,0,0]])\n",
        "  for j in range(0,i):\n",
        "    CadML=list(CadM[j])\n",
        "    del(CadML[i])\n",
        "    CadMa[j]=np.array(CadML)\n",
        "  for j in range(i+1,len(CadM)):\n",
        "    CadML=list(CadM[j])\n",
        "    del(CadML[i])\n",
        "    CadMa[j-1]=np.array(CadML)\n",
        "  b=np.array([-1,-1,-1,-1,-1,-1])\n",
        "  u=np.linalg.solve(CadMa,b)\n",
        "  for n in range(0,i):\n",
        "    print('\\u03BC'+str(n)+str(i)+': '+str(u[n]))\n",
        "  for n in range(i,len(u)):\n",
        "    print('\\u03BC'+str(n+1)+str(i)+': '+str(u[n]))"
      ],
      "execution_count": null,
      "outputs": [
        {
          "output_type": "stream",
          "text": [
            "μ10: 2.9361402017172384\n",
            "μ20: 3.0466192512991843\n",
            "μ30: 3.253155906776735\n",
            "μ40: 3.215923920293999\n",
            "μ50: 3.5726908472870242\n",
            "μ60: 3.875297630733639\n",
            "μ01: 2.836584638389052\n",
            "μ21: 2.5208719487661617\n",
            "μ31: 2.4973413469165866\n",
            "μ41: 2.7354208343795796\n",
            "μ51: 2.9095080784033294\n",
            "μ61: 3.1723992239925956\n",
            "μ02: 2.2794172109932194\n",
            "μ12: 2.352721234924035\n",
            "μ32: 2.350302008155735\n",
            "μ42: 2.6403276996333886\n",
            "μ52: 2.5757483892226802\n",
            "μ62: 2.506390899173891\n",
            "μ03: 2.9545535683731465\n",
            "μ13: 2.5149308786692264\n",
            "μ23: 2.609424824693414\n",
            "μ43: 2.930515045949849\n",
            "μ53: 3.1075503516414544\n",
            "μ63: 3.147074369535273\n",
            "μ04: 3.5028441080657795\n",
            "μ14: 3.300406195833955\n",
            "μ24: 3.254937036235911\n",
            "μ34: 3.384603883566457\n",
            "μ54: 3.514678628932889\n",
            "μ64: 4.060588458387026\n",
            "μ05: 4.534258124641383\n",
            "μ15: 3.9588974604018947\n",
            "μ25: 4.093465785553517\n",
            "μ35: 4.271987478294574\n",
            "μ45: 4.725801635179801\n",
            "μ65: 4.856534950946019\n",
            "μ06: 4.846862181633866\n",
            "μ16: 4.442119610366326\n",
            "μ26: 4.671664817576514\n",
            "μ36: 4.738370808242035\n",
            "μ46: 5.211249594847337\n",
            "μ56: 5.280542265404783\n"
          ],
          "name": "stdout"
        }
      ]
    },
    {
      "cell_type": "code",
      "metadata": {
        "id": "rYAdy3pWSHyS"
      },
      "source": [
        "import pandas as pd\n",
        "CadenaR1 = pd.read_csv('/CadenaR1.csv', sep=\";\",index_col=0)\n",
        "CadenaR2 = pd.read_csv('/CadenaR2.csv', sep=\";\",index_col=0)\n",
        "CadenaR3 = pd.read_csv('/CadenaR3.csv', sep=\";\",index_col=0)\n",
        "CadenaR4 = pd.read_csv('/CadenaR4.csv', sep=\";\",index_col=0)"
      ],
      "execution_count": null,
      "outputs": []
    },
    {
      "cell_type": "code",
      "metadata": {
        "id": "RK4qBTZwSQOK",
        "colab": {
          "base_uri": "https://localhost:8080/"
        },
        "outputId": "b7139a99-aef7-4276-904b-8b67385334d2"
      },
      "source": [
        "import numpy as np\n",
        "cad=np.array(CadenaR1)\n",
        "b=np.array([0,0,0,0,0,1])\n",
        "x0=np.linalg.solve(cad,b)\n",
        "print(\"\\u03C0s de la cadena con R1\")\n",
        "for i in range(0,len(x0)):\n",
        "  print('\\u03C0'+str(i)+\": \"+str(x0[i]))"
      ],
      "execution_count": null,
      "outputs": [
        {
          "output_type": "stream",
          "text": [
            "πs de la cadena con R1\n",
            "π0: 0.10068563107005259\n",
            "π1: 0.12812510723316045\n",
            "π2: 0.23933465068387388\n",
            "π3: 0.2053663317745751\n",
            "π4: 0.16175939402425427\n",
            "π5: 0.1647288852140837\n"
          ],
          "name": "stdout"
        }
      ]
    },
    {
      "cell_type": "code",
      "metadata": {
        "id": "hjKyo3QYSUFc",
        "colab": {
          "base_uri": "https://localhost:8080/"
        },
        "outputId": "611df9f3-475e-4c4d-b753-9721a79aa985"
      },
      "source": [
        "import numpy as np\n",
        "cad=np.array(CadenaR2)\n",
        "b=np.array([0,0,0,0,0,1])\n",
        "x0=np.linalg.solve(cad,b)\n",
        "print(\"\\u03C0s de la cadena con R2\")\n",
        "for i in range(0,len(x0)):\n",
        "  print('\\u03C0'+str(i)+\": \"+str(x0[i]))"
      ],
      "execution_count": null,
      "outputs": [
        {
          "output_type": "stream",
          "text": [
            "πs de la cadena con R2\n",
            "π0: 0.16178503456594162\n",
            "π1: 0.26934427024105595\n",
            "π2: 0.228214040709041\n",
            "π3: 0.17128407841335092\n",
            "π4: 0.09256921255333331\n",
            "π5: 0.0768033635172772\n"
          ],
          "name": "stdout"
        }
      ]
    },
    {
      "cell_type": "code",
      "metadata": {
        "id": "lkhXp3PEUIbw",
        "colab": {
          "base_uri": "https://localhost:8080/"
        },
        "outputId": "df710393-134c-4dcf-cfaf-7a182df82cf3"
      },
      "source": [
        "import numpy as np\n",
        "cad=np.array(CadenaR3)\n",
        "b=np.array([0,0,0,0,0,1])\n",
        "x0=np.linalg.solve(cad,b)\n",
        "print(\"\\u03C0s de la cadena con R3\")\n",
        "for i in range(0,len(x0)):\n",
        "  print('\\u03C0'+str(i)+\": \"+str(x0[i]))"
      ],
      "execution_count": null,
      "outputs": [
        {
          "output_type": "stream",
          "text": [
            "πs de la cadena con R3\n",
            "π0: 0.12816131520345075\n",
            "π1: 0.17832590956345976\n",
            "π2: 0.19544294864147613\n",
            "π3: 0.187450376384546\n",
            "π4: 0.1269086180947919\n",
            "π5: 0.18371083211227554\n"
          ],
          "name": "stdout"
        }
      ]
    },
    {
      "cell_type": "code",
      "metadata": {
        "id": "SPZQcGBvUKYX",
        "colab": {
          "base_uri": "https://localhost:8080/"
        },
        "outputId": "ccfeee56-4745-4ce6-aff9-12e8b2dd5da1"
      },
      "source": [
        "import numpy as np\n",
        "cad=np.array(CadenaR4)\n",
        "b=np.array([0,0,0,0,0,1])\n",
        "x0=np.linalg.solve(cad,b)\n",
        "print(\"\\u03C0s de la cadena con R4\")\n",
        "for i in range(0,len(x0)):\n",
        "  print('\\u03C0'+str(i)+\": \"+str(x0[i]))"
      ],
      "execution_count": null,
      "outputs": [
        {
          "output_type": "stream",
          "text": [
            "πs de la cadena con R4\n",
            "π0: 0.13670212471020177\n",
            "π1: 0.2190960934812624\n",
            "π2: 0.26240879023614005\n",
            "π3: 0.18126991112020474\n",
            "π4: 0.11670255932670237\n",
            "π5: 0.08382052112548864\n"
          ],
          "name": "stdout"
        }
      ]
    }
  ]
}