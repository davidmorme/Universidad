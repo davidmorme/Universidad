{
  "nbformat": 4,
  "nbformat_minor": 0,
  "metadata": {
    "colab": {
      "name": "ModeloTransporte2.ipynb",
      "provenance": [],
      "include_colab_link": true
    },
    "kernelspec": {
      "name": "python3",
      "display_name": "Python 3"
    }
  },
  "cells": [
    {
      "cell_type": "markdown",
      "metadata": {
        "id": "view-in-github",
        "colab_type": "text"
      },
      "source": [
        "<a href=\"https://colab.research.google.com/github/davidmorme/Universidad/blob/main/Log%C3%ADstica%20II/ModeloTransporte2.ipynb\" target=\"_parent\"><img src=\"https://colab.research.google.com/assets/colab-badge.svg\" alt=\"Open In Colab\"/></a>"
      ]
    },
    {
      "cell_type": "code",
      "metadata": {
        "id": "O6VhIywkkOK5"
      },
      "source": [
        "import pandas as pd\n",
        "import math\n",
        "import numpy as np\n",
        "import matplotlib.pyplot as plt\n",
        "from scipy.stats import norm"
      ],
      "execution_count": null,
      "outputs": []
    },
    {
      "cell_type": "code",
      "metadata": {
        "id": "wx-kDWCbxPnk"
      },
      "source": [
        "#from google.colab import drive\n",
        "#drive.mount('/content/drive')"
      ],
      "execution_count": null,
      "outputs": []
    },
    {
      "cell_type": "code",
      "metadata": {
        "id": "Bd7Y638XqA9f"
      },
      "source": [
        "#from google.colab import files \n",
        "#uploaded = files.upload()"
      ],
      "execution_count": null,
      "outputs": []
    },
    {
      "cell_type": "code",
      "metadata": {
        "id": "1jFe7me1kTOk"
      },
      "source": [
        "#data = pd.read_excel('/content/drive/My Drive/datos_transporte.xls')\n",
        "#df = pd.DataFrame(data)\n",
        "#df"
      ],
      "execution_count": null,
      "outputs": []
    },
    {
      "cell_type": "code",
      "metadata": {
        "id": "WiZGKlBcj3n_"
      },
      "source": [
        "i=0.3\n",
        "ss = 19178\n",
        "c= 30\n",
        "D = 700000"
      ],
      "execution_count": null,
      "outputs": []
    },
    {
      "cell_type": "markdown",
      "metadata": {
        "id": "LwQFfMvP4j-s"
      },
      "source": [
        "Esta es una estructura de datos llamada diccionario: Usa claves y datos"
      ]
    },
    {
      "cell_type": "code",
      "metadata": {
        "id": "UfYa87gCdVwr"
      },
      "source": [
        "data = {'Modo': ['Ferroviario', 'Fluvial', 'Carretera', 'Aéreo'], 'tau':[0.0575, 0.0384, 0.0137, 0.0055], 'r':[0.1,0.15,0.2,1.4], 'N':[10,20,20,40],'cap':[1000000, 17500, 8750, 17500], 'A':[2000,5000,1500,1000]}"
      ],
      "execution_count": null,
      "outputs": []
    },
    {
      "cell_type": "markdown",
      "metadata": {
        "id": "bf6ZUjFxWPJ6"
      },
      "source": [
        "DataFrame es una estructura de Pandas. Es una tabla indexada"
      ]
    },
    {
      "cell_type": "code",
      "metadata": {
        "id": "GWiyDpZYmTOw"
      },
      "source": [
        "df = pd.DataFrame(data)"
      ],
      "execution_count": null,
      "outputs": []
    },
    {
      "cell_type": "code",
      "metadata": {
        "colab": {
          "base_uri": "https://localhost:8080/",
          "height": 173
        },
        "id": "qZy2gA4D2Hip",
        "outputId": "4c59a4e1-7e28-43e8-c63b-0e3c50fdce74"
      },
      "source": [
        "df"
      ],
      "execution_count": null,
      "outputs": [
        {
          "output_type": "execute_result",
          "data": {
            "text/html": [
              "<div>\n",
              "<style scoped>\n",
              "    .dataframe tbody tr th:only-of-type {\n",
              "        vertical-align: middle;\n",
              "    }\n",
              "\n",
              "    .dataframe tbody tr th {\n",
              "        vertical-align: top;\n",
              "    }\n",
              "\n",
              "    .dataframe thead th {\n",
              "        text-align: right;\n",
              "    }\n",
              "</style>\n",
              "<table border=\"1\" class=\"dataframe\">\n",
              "  <thead>\n",
              "    <tr style=\"text-align: right;\">\n",
              "      <th></th>\n",
              "      <th>Modo</th>\n",
              "      <th>tau</th>\n",
              "      <th>r</th>\n",
              "      <th>N</th>\n",
              "      <th>cap</th>\n",
              "      <th>A</th>\n",
              "    </tr>\n",
              "  </thead>\n",
              "  <tbody>\n",
              "    <tr>\n",
              "      <th>0</th>\n",
              "      <td>Ferroviario</td>\n",
              "      <td>0.0575</td>\n",
              "      <td>0.10</td>\n",
              "      <td>10</td>\n",
              "      <td>1000000</td>\n",
              "      <td>2000</td>\n",
              "    </tr>\n",
              "    <tr>\n",
              "      <th>1</th>\n",
              "      <td>Fluvial</td>\n",
              "      <td>0.0384</td>\n",
              "      <td>0.15</td>\n",
              "      <td>20</td>\n",
              "      <td>17500</td>\n",
              "      <td>5000</td>\n",
              "    </tr>\n",
              "    <tr>\n",
              "      <th>2</th>\n",
              "      <td>Carretera</td>\n",
              "      <td>0.0137</td>\n",
              "      <td>0.20</td>\n",
              "      <td>20</td>\n",
              "      <td>8750</td>\n",
              "      <td>1500</td>\n",
              "    </tr>\n",
              "    <tr>\n",
              "      <th>3</th>\n",
              "      <td>Aéreo</td>\n",
              "      <td>0.0055</td>\n",
              "      <td>1.40</td>\n",
              "      <td>40</td>\n",
              "      <td>17500</td>\n",
              "      <td>1000</td>\n",
              "    </tr>\n",
              "  </tbody>\n",
              "</table>\n",
              "</div>"
            ],
            "text/plain": [
              "          Modo     tau     r   N      cap     A\n",
              "0  Ferroviario  0.0575  0.10  10  1000000  2000\n",
              "1      Fluvial  0.0384  0.15  20    17500  5000\n",
              "2    Carretera  0.0137  0.20  20     8750  1500\n",
              "3        Aéreo  0.0055  1.40  40    17500  1000"
            ]
          },
          "metadata": {
            "tags": []
          },
          "execution_count": 8
        }
      ]
    },
    {
      "cell_type": "markdown",
      "metadata": {
        "id": "bshmK2_Z2Y1A"
      },
      "source": [
        "Un dataframe es como una matriz. Pero en lugar de decir df[0][3], decimos df.at[0, 'tau'] o df.loc[0, 'tau']"
      ]
    },
    {
      "cell_type": "code",
      "metadata": {
        "colab": {
          "base_uri": "https://localhost:8080/"
        },
        "id": "9oUxVROP2wtE",
        "outputId": "7f7826e6-d22b-4346-8059-2bb49b23eba2"
      },
      "source": [
        "print(df.at[0,'tau'])"
      ],
      "execution_count": null,
      "outputs": [
        {
          "output_type": "stream",
          "text": [
            "0.0575\n"
          ],
          "name": "stdout"
        }
      ]
    },
    {
      "cell_type": "code",
      "metadata": {
        "colab": {
          "base_uri": "https://localhost:8080/"
        },
        "id": "MwfxsuBI3A01",
        "outputId": "9eb2d69e-3903-455a-de24-5f1f4728a2be"
      },
      "source": [
        "print(df.loc[0,'tau'])"
      ],
      "execution_count": null,
      "outputs": [
        {
          "output_type": "stream",
          "text": [
            "0.0575\n"
          ],
          "name": "stdout"
        }
      ]
    },
    {
      "cell_type": "code",
      "metadata": {
        "colab": {
          "base_uri": "https://localhost:8080/"
        },
        "id": "vFpTP-Nyv4GT",
        "outputId": "7673fb99-d114-4fd9-e361-57c98326edc7"
      },
      "source": [
        "df.info()"
      ],
      "execution_count": null,
      "outputs": [
        {
          "output_type": "stream",
          "text": [
            "<class 'pandas.core.frame.DataFrame'>\n",
            "RangeIndex: 4 entries, 0 to 3\n",
            "Data columns (total 6 columns):\n",
            " #   Column  Non-Null Count  Dtype  \n",
            "---  ------  --------------  -----  \n",
            " 0   Modo    4 non-null      object \n",
            " 1   tau     4 non-null      float64\n",
            " 2   r       4 non-null      float64\n",
            " 3   N       4 non-null      int64  \n",
            " 4   cap     4 non-null      int64  \n",
            " 5   A       4 non-null      int64  \n",
            "dtypes: float64(2), int64(3), object(1)\n",
            "memory usage: 320.0+ bytes\n"
          ],
          "name": "stdout"
        }
      ]
    },
    {
      "cell_type": "code",
      "metadata": {
        "colab": {
          "base_uri": "https://localhost:8080/",
          "height": 297
        },
        "id": "5oTLbnEnt1_V",
        "outputId": "7b120658-325f-43fd-ecc4-b0e1be92246b"
      },
      "source": [
        "df.describe()"
      ],
      "execution_count": null,
      "outputs": [
        {
          "output_type": "execute_result",
          "data": {
            "text/html": [
              "<div>\n",
              "<style scoped>\n",
              "    .dataframe tbody tr th:only-of-type {\n",
              "        vertical-align: middle;\n",
              "    }\n",
              "\n",
              "    .dataframe tbody tr th {\n",
              "        vertical-align: top;\n",
              "    }\n",
              "\n",
              "    .dataframe thead th {\n",
              "        text-align: right;\n",
              "    }\n",
              "</style>\n",
              "<table border=\"1\" class=\"dataframe\">\n",
              "  <thead>\n",
              "    <tr style=\"text-align: right;\">\n",
              "      <th></th>\n",
              "      <th>tau</th>\n",
              "      <th>r</th>\n",
              "      <th>N</th>\n",
              "      <th>cap</th>\n",
              "      <th>A</th>\n",
              "    </tr>\n",
              "  </thead>\n",
              "  <tbody>\n",
              "    <tr>\n",
              "      <th>count</th>\n",
              "      <td>4.000000</td>\n",
              "      <td>4.000000</td>\n",
              "      <td>4.000000</td>\n",
              "      <td>4.000000</td>\n",
              "      <td>4.000000</td>\n",
              "    </tr>\n",
              "    <tr>\n",
              "      <th>mean</th>\n",
              "      <td>0.028775</td>\n",
              "      <td>0.462500</td>\n",
              "      <td>22.500000</td>\n",
              "      <td>260937.500000</td>\n",
              "      <td>2375.000000</td>\n",
              "    </tr>\n",
              "    <tr>\n",
              "      <th>std</th>\n",
              "      <td>0.023712</td>\n",
              "      <td>0.626332</td>\n",
              "      <td>12.583057</td>\n",
              "      <td>492725.598711</td>\n",
              "      <td>1796.988221</td>\n",
              "    </tr>\n",
              "    <tr>\n",
              "      <th>min</th>\n",
              "      <td>0.005500</td>\n",
              "      <td>0.100000</td>\n",
              "      <td>10.000000</td>\n",
              "      <td>8750.000000</td>\n",
              "      <td>1000.000000</td>\n",
              "    </tr>\n",
              "    <tr>\n",
              "      <th>25%</th>\n",
              "      <td>0.011650</td>\n",
              "      <td>0.137500</td>\n",
              "      <td>17.500000</td>\n",
              "      <td>15312.500000</td>\n",
              "      <td>1375.000000</td>\n",
              "    </tr>\n",
              "    <tr>\n",
              "      <th>50%</th>\n",
              "      <td>0.026050</td>\n",
              "      <td>0.175000</td>\n",
              "      <td>20.000000</td>\n",
              "      <td>17500.000000</td>\n",
              "      <td>1750.000000</td>\n",
              "    </tr>\n",
              "    <tr>\n",
              "      <th>75%</th>\n",
              "      <td>0.043175</td>\n",
              "      <td>0.500000</td>\n",
              "      <td>25.000000</td>\n",
              "      <td>263125.000000</td>\n",
              "      <td>2750.000000</td>\n",
              "    </tr>\n",
              "    <tr>\n",
              "      <th>max</th>\n",
              "      <td>0.057500</td>\n",
              "      <td>1.400000</td>\n",
              "      <td>40.000000</td>\n",
              "      <td>1000000.000000</td>\n",
              "      <td>5000.000000</td>\n",
              "    </tr>\n",
              "  </tbody>\n",
              "</table>\n",
              "</div>"
            ],
            "text/plain": [
              "            tau         r          N             cap            A\n",
              "count  4.000000  4.000000   4.000000        4.000000     4.000000\n",
              "mean   0.028775  0.462500  22.500000   260937.500000  2375.000000\n",
              "std    0.023712  0.626332  12.583057   492725.598711  1796.988221\n",
              "min    0.005500  0.100000  10.000000     8750.000000  1000.000000\n",
              "25%    0.011650  0.137500  17.500000    15312.500000  1375.000000\n",
              "50%    0.026050  0.175000  20.000000    17500.000000  1750.000000\n",
              "75%    0.043175  0.500000  25.000000   263125.000000  2750.000000\n",
              "max    0.057500  1.400000  40.000000  1000000.000000  5000.000000"
            ]
          },
          "metadata": {
            "tags": []
          },
          "execution_count": 12
        }
      ]
    },
    {
      "cell_type": "markdown",
      "metadata": {
        "id": "Yws39V0DiMn4"
      },
      "source": [
        "Añadamos la columna Q con Q = D/N\n"
      ]
    },
    {
      "cell_type": "code",
      "metadata": {
        "id": "pTPdou6RxyGR"
      },
      "source": [
        "df['Q']=D/df['N']"
      ],
      "execution_count": null,
      "outputs": []
    },
    {
      "cell_type": "code",
      "metadata": {
        "colab": {
          "base_uri": "https://localhost:8080/",
          "height": 173
        },
        "id": "52gv2dMfY-lU",
        "outputId": "ccfd269f-4613-408e-b439-870535c10ca6"
      },
      "source": [
        "df"
      ],
      "execution_count": null,
      "outputs": [
        {
          "output_type": "execute_result",
          "data": {
            "text/html": [
              "<div>\n",
              "<style scoped>\n",
              "    .dataframe tbody tr th:only-of-type {\n",
              "        vertical-align: middle;\n",
              "    }\n",
              "\n",
              "    .dataframe tbody tr th {\n",
              "        vertical-align: top;\n",
              "    }\n",
              "\n",
              "    .dataframe thead th {\n",
              "        text-align: right;\n",
              "    }\n",
              "</style>\n",
              "<table border=\"1\" class=\"dataframe\">\n",
              "  <thead>\n",
              "    <tr style=\"text-align: right;\">\n",
              "      <th></th>\n",
              "      <th>Modo</th>\n",
              "      <th>tau</th>\n",
              "      <th>r</th>\n",
              "      <th>N</th>\n",
              "      <th>cap</th>\n",
              "      <th>A</th>\n",
              "      <th>Q</th>\n",
              "    </tr>\n",
              "  </thead>\n",
              "  <tbody>\n",
              "    <tr>\n",
              "      <th>0</th>\n",
              "      <td>Ferroviario</td>\n",
              "      <td>0.0575</td>\n",
              "      <td>0.10</td>\n",
              "      <td>10</td>\n",
              "      <td>1000000</td>\n",
              "      <td>2000</td>\n",
              "      <td>70000.0</td>\n",
              "    </tr>\n",
              "    <tr>\n",
              "      <th>1</th>\n",
              "      <td>Fluvial</td>\n",
              "      <td>0.0384</td>\n",
              "      <td>0.15</td>\n",
              "      <td>20</td>\n",
              "      <td>17500</td>\n",
              "      <td>5000</td>\n",
              "      <td>35000.0</td>\n",
              "    </tr>\n",
              "    <tr>\n",
              "      <th>2</th>\n",
              "      <td>Carretera</td>\n",
              "      <td>0.0137</td>\n",
              "      <td>0.20</td>\n",
              "      <td>20</td>\n",
              "      <td>8750</td>\n",
              "      <td>1500</td>\n",
              "      <td>35000.0</td>\n",
              "    </tr>\n",
              "    <tr>\n",
              "      <th>3</th>\n",
              "      <td>Aéreo</td>\n",
              "      <td>0.0055</td>\n",
              "      <td>1.40</td>\n",
              "      <td>40</td>\n",
              "      <td>17500</td>\n",
              "      <td>1000</td>\n",
              "      <td>17500.0</td>\n",
              "    </tr>\n",
              "  </tbody>\n",
              "</table>\n",
              "</div>"
            ],
            "text/plain": [
              "          Modo     tau     r   N      cap     A        Q\n",
              "0  Ferroviario  0.0575  0.10  10  1000000  2000  70000.0\n",
              "1      Fluvial  0.0384  0.15  20    17500  5000  35000.0\n",
              "2    Carretera  0.0137  0.20  20     8750  1500  35000.0\n",
              "3        Aéreo  0.0055  1.40  40    17500  1000  17500.0"
            ]
          },
          "metadata": {
            "tags": []
          },
          "execution_count": 14
        }
      ]
    },
    {
      "cell_type": "markdown",
      "metadata": {
        "id": "uJhbzCsc3UHt"
      },
      "source": [
        "Cambiemos el índice de la tabla. Ahora el índice debe ser 'Modo'"
      ]
    },
    {
      "cell_type": "code",
      "metadata": {
        "id": "fFa8Q7NwyTkW"
      },
      "source": [
        "df.set_index('Modo', inplace=True)"
      ],
      "execution_count": null,
      "outputs": []
    },
    {
      "cell_type": "code",
      "metadata": {
        "colab": {
          "base_uri": "https://localhost:8080/",
          "height": 204
        },
        "id": "wigP6mubyZxu",
        "outputId": "6a497298-0efe-45c8-8a07-7f0ad4d9e549"
      },
      "source": [
        "df"
      ],
      "execution_count": null,
      "outputs": [
        {
          "output_type": "execute_result",
          "data": {
            "text/html": [
              "<div>\n",
              "<style scoped>\n",
              "    .dataframe tbody tr th:only-of-type {\n",
              "        vertical-align: middle;\n",
              "    }\n",
              "\n",
              "    .dataframe tbody tr th {\n",
              "        vertical-align: top;\n",
              "    }\n",
              "\n",
              "    .dataframe thead th {\n",
              "        text-align: right;\n",
              "    }\n",
              "</style>\n",
              "<table border=\"1\" class=\"dataframe\">\n",
              "  <thead>\n",
              "    <tr style=\"text-align: right;\">\n",
              "      <th></th>\n",
              "      <th>tau</th>\n",
              "      <th>r</th>\n",
              "      <th>N</th>\n",
              "      <th>cap</th>\n",
              "      <th>A</th>\n",
              "      <th>Q</th>\n",
              "    </tr>\n",
              "    <tr>\n",
              "      <th>Modo</th>\n",
              "      <th></th>\n",
              "      <th></th>\n",
              "      <th></th>\n",
              "      <th></th>\n",
              "      <th></th>\n",
              "      <th></th>\n",
              "    </tr>\n",
              "  </thead>\n",
              "  <tbody>\n",
              "    <tr>\n",
              "      <th>Ferroviario</th>\n",
              "      <td>0.0575</td>\n",
              "      <td>0.10</td>\n",
              "      <td>10</td>\n",
              "      <td>1000000</td>\n",
              "      <td>2000</td>\n",
              "      <td>70000.0</td>\n",
              "    </tr>\n",
              "    <tr>\n",
              "      <th>Fluvial</th>\n",
              "      <td>0.0384</td>\n",
              "      <td>0.15</td>\n",
              "      <td>20</td>\n",
              "      <td>17500</td>\n",
              "      <td>5000</td>\n",
              "      <td>35000.0</td>\n",
              "    </tr>\n",
              "    <tr>\n",
              "      <th>Carretera</th>\n",
              "      <td>0.0137</td>\n",
              "      <td>0.20</td>\n",
              "      <td>20</td>\n",
              "      <td>8750</td>\n",
              "      <td>1500</td>\n",
              "      <td>35000.0</td>\n",
              "    </tr>\n",
              "    <tr>\n",
              "      <th>Aéreo</th>\n",
              "      <td>0.0055</td>\n",
              "      <td>1.40</td>\n",
              "      <td>40</td>\n",
              "      <td>17500</td>\n",
              "      <td>1000</td>\n",
              "      <td>17500.0</td>\n",
              "    </tr>\n",
              "  </tbody>\n",
              "</table>\n",
              "</div>"
            ],
            "text/plain": [
              "                tau     r   N      cap     A        Q\n",
              "Modo                                                 \n",
              "Ferroviario  0.0575  0.10  10  1000000  2000  70000.0\n",
              "Fluvial      0.0384  0.15  20    17500  5000  35000.0\n",
              "Carretera    0.0137  0.20  20     8750  1500  35000.0\n",
              "Aéreo        0.0055  1.40  40    17500  1000  17500.0"
            ]
          },
          "metadata": {
            "tags": []
          },
          "execution_count": 16
        }
      ]
    },
    {
      "cell_type": "markdown",
      "metadata": {
        "id": "nPbAmv8S3nAW"
      },
      "source": [
        "Tomemos el modo de transporte 'Ferroviario'. df.loc['Ferroviario] toma todas las columnas de la fila 'Ferroviario'"
      ]
    },
    {
      "cell_type": "code",
      "metadata": {
        "colab": {
          "base_uri": "https://localhost:8080/"
        },
        "id": "X07w44YQZkLy",
        "outputId": "a20b7150-53d9-4dae-ad2b-5934ccd41b86"
      },
      "source": [
        "print( df.loc['Ferroviario','Q'])"
      ],
      "execution_count": null,
      "outputs": [
        {
          "output_type": "stream",
          "text": [
            "70000.0\n"
          ],
          "name": "stdout"
        }
      ]
    },
    {
      "cell_type": "markdown",
      "metadata": {
        "id": "YlJ4FbodZ3Lx"
      },
      "source": [
        "'slicing' = tomar trozos del dataframe. df_m es un nuevo dataframe"
      ]
    },
    {
      "cell_type": "code",
      "metadata": {
        "id": "_iaLg4Bdy_jf"
      },
      "source": [
        "df_m = df.loc['Aéreo']"
      ],
      "execution_count": null,
      "outputs": []
    },
    {
      "cell_type": "code",
      "metadata": {
        "colab": {
          "base_uri": "https://localhost:8080/"
        },
        "id": "C1vnLs2jzRoh",
        "outputId": "7293449b-83bd-4f6e-e2be-22383c2347c8"
      },
      "source": [
        "df_m"
      ],
      "execution_count": null,
      "outputs": [
        {
          "output_type": "execute_result",
          "data": {
            "text/plain": [
              "tau        0.0055\n",
              "r          1.4000\n",
              "N         40.0000\n",
              "cap    17500.0000\n",
              "A       1000.0000\n",
              "Q      17500.0000\n",
              "Name: Aéreo, dtype: float64"
            ]
          },
          "metadata": {
            "tags": []
          },
          "execution_count": 19
        }
      ]
    },
    {
      "cell_type": "markdown",
      "metadata": {
        "id": "Pl72253Y4Hj8"
      },
      "source": [
        "Asignemos los valores de la tabla a variables simples. Modo aéreo"
      ]
    },
    {
      "cell_type": "code",
      "metadata": {
        "id": "cRHRla8tzU__"
      },
      "source": [
        "Q = df_m.loc['Q']\n",
        "tau = df_m.loc['tau']\n",
        "cap = df_m.loc['cap']\n",
        "A = df_m.loc['A']\n",
        "N = df_m.loc['N']\n",
        "r = df_m.loc['r']"
      ],
      "execution_count": null,
      "outputs": []
    },
    {
      "cell_type": "markdown",
      "metadata": {
        "id": "0WULlaMw4QCR"
      },
      "source": [
        "Hallemos el número de camiones. Usemos la función  ceil que redondea hacia arriba:"
      ]
    },
    {
      "cell_type": "code",
      "metadata": {
        "colab": {
          "base_uri": "https://localhost:8080/"
        },
        "id": "nP0mF9ka1Khg",
        "outputId": "0816ebef-6e42-4221-c35e-c3f50705d8b5"
      },
      "source": [
        "n = math.ceil(Q/cap)\n",
        "print ('Número de vehículos por envío', n)\n"
      ],
      "execution_count": null,
      "outputs": [
        {
          "output_type": "stream",
          "text": [
            "Número de vehículos por envío 1\n"
          ],
          "name": "stdout"
        }
      ]
    },
    {
      "cell_type": "code",
      "metadata": {
        "id": "0qJEizrn3LG0"
      },
      "source": [
        "cprima = c+ r + A*n/Q\n",
        "costo_inv_planta = i*c*(Q/2+ss)\n",
        "costo_inv_cd = i*cprima*(Q/2+ss)\n",
        "costo_inv_transito =  i*c*D*tau\n",
        "costo_transporte = r*D\n",
        "costo_total= i*c*(Q/2+ss) + i*c*D*tau + r*D + A*n*D/Q + i*cprima*(Q/2+ss)"
      ],
      "execution_count": null,
      "outputs": []
    },
    {
      "cell_type": "code",
      "metadata": {
        "colab": {
          "base_uri": "https://localhost:8080/"
        },
        "id": "4AtZkiB010nt",
        "outputId": "79228644-6a03-48db-8fc3-fcedf441c424"
      },
      "source": [
        "print('c_prima', cprima)\n",
        "print('Costo inv planta', costo_inv_planta)\n",
        "print('Costo inv cd',costo_inv_cd)\n",
        "print('Costo inv tránsito', costo_inv_transito)\n",
        "print('Costo transporte', costo_transporte)\n",
        "print('Costo total anual',costo_total)"
      ],
      "execution_count": null,
      "outputs": [
        {
          "output_type": "stream",
          "text": [
            "c_prima 31.457142857142856\n",
            "Costo inv planta 251352.0\n",
            "Costo inv cd 263560.5257142857\n",
            "Costo inv tránsito 34650.0\n",
            "Costo transporte 979999.9999999999\n",
            "Costo total anual 1569562.5257142857\n"
          ],
          "name": "stdout"
        }
      ]
    },
    {
      "cell_type": "markdown",
      "metadata": {
        "id": "kqQ0dCdqBGr2"
      },
      "source": [
        "Ahora todo en unas pocas instrucciones"
      ]
    },
    {
      "cell_type": "code",
      "metadata": {
        "id": "ChKNyoz25UdI",
        "colab": {
          "base_uri": "https://localhost:8080/",
          "height": 204
        },
        "outputId": "df8bf46a-baba-4e80-a50c-43a45e018ca6"
      },
      "source": [
        "df"
      ],
      "execution_count": null,
      "outputs": [
        {
          "output_type": "execute_result",
          "data": {
            "text/html": [
              "<div>\n",
              "<style scoped>\n",
              "    .dataframe tbody tr th:only-of-type {\n",
              "        vertical-align: middle;\n",
              "    }\n",
              "\n",
              "    .dataframe tbody tr th {\n",
              "        vertical-align: top;\n",
              "    }\n",
              "\n",
              "    .dataframe thead th {\n",
              "        text-align: right;\n",
              "    }\n",
              "</style>\n",
              "<table border=\"1\" class=\"dataframe\">\n",
              "  <thead>\n",
              "    <tr style=\"text-align: right;\">\n",
              "      <th></th>\n",
              "      <th>tau</th>\n",
              "      <th>r</th>\n",
              "      <th>N</th>\n",
              "      <th>cap</th>\n",
              "      <th>A</th>\n",
              "      <th>Q</th>\n",
              "    </tr>\n",
              "    <tr>\n",
              "      <th>Modo</th>\n",
              "      <th></th>\n",
              "      <th></th>\n",
              "      <th></th>\n",
              "      <th></th>\n",
              "      <th></th>\n",
              "      <th></th>\n",
              "    </tr>\n",
              "  </thead>\n",
              "  <tbody>\n",
              "    <tr>\n",
              "      <th>Ferroviario</th>\n",
              "      <td>0.0575</td>\n",
              "      <td>0.10</td>\n",
              "      <td>10</td>\n",
              "      <td>1000000</td>\n",
              "      <td>2000</td>\n",
              "      <td>70000.0</td>\n",
              "    </tr>\n",
              "    <tr>\n",
              "      <th>Fluvial</th>\n",
              "      <td>0.0384</td>\n",
              "      <td>0.15</td>\n",
              "      <td>20</td>\n",
              "      <td>17500</td>\n",
              "      <td>5000</td>\n",
              "      <td>35000.0</td>\n",
              "    </tr>\n",
              "    <tr>\n",
              "      <th>Carretera</th>\n",
              "      <td>0.0137</td>\n",
              "      <td>0.20</td>\n",
              "      <td>20</td>\n",
              "      <td>8750</td>\n",
              "      <td>1500</td>\n",
              "      <td>35000.0</td>\n",
              "    </tr>\n",
              "    <tr>\n",
              "      <th>Aéreo</th>\n",
              "      <td>0.0055</td>\n",
              "      <td>1.40</td>\n",
              "      <td>40</td>\n",
              "      <td>17500</td>\n",
              "      <td>1000</td>\n",
              "      <td>17500.0</td>\n",
              "    </tr>\n",
              "  </tbody>\n",
              "</table>\n",
              "</div>"
            ],
            "text/plain": [
              "                tau     r   N      cap     A        Q\n",
              "Modo                                                 \n",
              "Ferroviario  0.0575  0.10  10  1000000  2000  70000.0\n",
              "Fluvial      0.0384  0.15  20    17500  5000  35000.0\n",
              "Carretera    0.0137  0.20  20     8750  1500  35000.0\n",
              "Aéreo        0.0055  1.40  40    17500  1000  17500.0"
            ]
          },
          "metadata": {
            "tags": []
          },
          "execution_count": 24
        }
      ]
    },
    {
      "cell_type": "markdown",
      "metadata": {
        "id": "CzInGpF2Ggg8"
      },
      "source": [
        "Ejercicio: Crear las otras columnas (una para cada costo y una para el costo total anual)"
      ]
    },
    {
      "cell_type": "markdown",
      "metadata": {
        "id": "pjoHD9LqMcyg"
      },
      "source": [
        "Primero calculemos el número de vehículos por envío para cada modo\n"
      ]
    },
    {
      "cell_type": "markdown",
      "metadata": {
        "id": "J5S1dgLPSbp2"
      },
      "source": [
        "Creemos una columna para 'n', el número de vehículos"
      ]
    },
    {
      "cell_type": "code",
      "metadata": {
        "id": "w7N2CjbMMiQw"
      },
      "source": [
        "df['n']=df['Q']/df['cap']\n"
      ],
      "execution_count": null,
      "outputs": []
    },
    {
      "cell_type": "code",
      "metadata": {
        "colab": {
          "base_uri": "https://localhost:8080/",
          "height": 204
        },
        "id": "8XwYS2PENE3F",
        "outputId": "eb173baf-0987-48eb-9c49-93671a59972e"
      },
      "source": [
        "df"
      ],
      "execution_count": null,
      "outputs": [
        {
          "output_type": "execute_result",
          "data": {
            "text/html": [
              "<div>\n",
              "<style scoped>\n",
              "    .dataframe tbody tr th:only-of-type {\n",
              "        vertical-align: middle;\n",
              "    }\n",
              "\n",
              "    .dataframe tbody tr th {\n",
              "        vertical-align: top;\n",
              "    }\n",
              "\n",
              "    .dataframe thead th {\n",
              "        text-align: right;\n",
              "    }\n",
              "</style>\n",
              "<table border=\"1\" class=\"dataframe\">\n",
              "  <thead>\n",
              "    <tr style=\"text-align: right;\">\n",
              "      <th></th>\n",
              "      <th>tau</th>\n",
              "      <th>r</th>\n",
              "      <th>N</th>\n",
              "      <th>cap</th>\n",
              "      <th>A</th>\n",
              "      <th>Q</th>\n",
              "      <th>n</th>\n",
              "    </tr>\n",
              "    <tr>\n",
              "      <th>Modo</th>\n",
              "      <th></th>\n",
              "      <th></th>\n",
              "      <th></th>\n",
              "      <th></th>\n",
              "      <th></th>\n",
              "      <th></th>\n",
              "      <th></th>\n",
              "    </tr>\n",
              "  </thead>\n",
              "  <tbody>\n",
              "    <tr>\n",
              "      <th>Ferroviario</th>\n",
              "      <td>0.0575</td>\n",
              "      <td>0.10</td>\n",
              "      <td>10</td>\n",
              "      <td>1000000</td>\n",
              "      <td>2000</td>\n",
              "      <td>70000.0</td>\n",
              "      <td>0.07</td>\n",
              "    </tr>\n",
              "    <tr>\n",
              "      <th>Fluvial</th>\n",
              "      <td>0.0384</td>\n",
              "      <td>0.15</td>\n",
              "      <td>20</td>\n",
              "      <td>17500</td>\n",
              "      <td>5000</td>\n",
              "      <td>35000.0</td>\n",
              "      <td>2.00</td>\n",
              "    </tr>\n",
              "    <tr>\n",
              "      <th>Carretera</th>\n",
              "      <td>0.0137</td>\n",
              "      <td>0.20</td>\n",
              "      <td>20</td>\n",
              "      <td>8750</td>\n",
              "      <td>1500</td>\n",
              "      <td>35000.0</td>\n",
              "      <td>4.00</td>\n",
              "    </tr>\n",
              "    <tr>\n",
              "      <th>Aéreo</th>\n",
              "      <td>0.0055</td>\n",
              "      <td>1.40</td>\n",
              "      <td>40</td>\n",
              "      <td>17500</td>\n",
              "      <td>1000</td>\n",
              "      <td>17500.0</td>\n",
              "      <td>1.00</td>\n",
              "    </tr>\n",
              "  </tbody>\n",
              "</table>\n",
              "</div>"
            ],
            "text/plain": [
              "                tau     r   N      cap     A        Q     n\n",
              "Modo                                                       \n",
              "Ferroviario  0.0575  0.10  10  1000000  2000  70000.0  0.07\n",
              "Fluvial      0.0384  0.15  20    17500  5000  35000.0  2.00\n",
              "Carretera    0.0137  0.20  20     8750  1500  35000.0  4.00\n",
              "Aéreo        0.0055  1.40  40    17500  1000  17500.0  1.00"
            ]
          },
          "metadata": {
            "tags": []
          },
          "execution_count": 26
        }
      ]
    },
    {
      "cell_type": "code",
      "metadata": {
        "id": "h4zMoDg35ll9"
      },
      "source": [
        "df.loc['Ferroviario','n']=1"
      ],
      "execution_count": null,
      "outputs": []
    },
    {
      "cell_type": "markdown",
      "metadata": {
        "id": "gVgdgE8LU3Wk"
      },
      "source": [
        "Corrijamos manualmente 'n' del ferroviario"
      ]
    },
    {
      "cell_type": "code",
      "metadata": {
        "colab": {
          "base_uri": "https://localhost:8080/",
          "height": 204
        },
        "id": "b_M2KhwUNNQJ",
        "outputId": "acc74485-6c6a-4c58-91d0-8912c50fdc9b"
      },
      "source": [
        "df.at['Ferroviario','n']=1\n",
        "df"
      ],
      "execution_count": null,
      "outputs": [
        {
          "output_type": "execute_result",
          "data": {
            "text/html": [
              "<div>\n",
              "<style scoped>\n",
              "    .dataframe tbody tr th:only-of-type {\n",
              "        vertical-align: middle;\n",
              "    }\n",
              "\n",
              "    .dataframe tbody tr th {\n",
              "        vertical-align: top;\n",
              "    }\n",
              "\n",
              "    .dataframe thead th {\n",
              "        text-align: right;\n",
              "    }\n",
              "</style>\n",
              "<table border=\"1\" class=\"dataframe\">\n",
              "  <thead>\n",
              "    <tr style=\"text-align: right;\">\n",
              "      <th></th>\n",
              "      <th>tau</th>\n",
              "      <th>r</th>\n",
              "      <th>N</th>\n",
              "      <th>cap</th>\n",
              "      <th>A</th>\n",
              "      <th>Q</th>\n",
              "      <th>n</th>\n",
              "    </tr>\n",
              "    <tr>\n",
              "      <th>Modo</th>\n",
              "      <th></th>\n",
              "      <th></th>\n",
              "      <th></th>\n",
              "      <th></th>\n",
              "      <th></th>\n",
              "      <th></th>\n",
              "      <th></th>\n",
              "    </tr>\n",
              "  </thead>\n",
              "  <tbody>\n",
              "    <tr>\n",
              "      <th>Ferroviario</th>\n",
              "      <td>0.0575</td>\n",
              "      <td>0.10</td>\n",
              "      <td>10</td>\n",
              "      <td>1000000</td>\n",
              "      <td>2000</td>\n",
              "      <td>70000.0</td>\n",
              "      <td>1.0</td>\n",
              "    </tr>\n",
              "    <tr>\n",
              "      <th>Fluvial</th>\n",
              "      <td>0.0384</td>\n",
              "      <td>0.15</td>\n",
              "      <td>20</td>\n",
              "      <td>17500</td>\n",
              "      <td>5000</td>\n",
              "      <td>35000.0</td>\n",
              "      <td>2.0</td>\n",
              "    </tr>\n",
              "    <tr>\n",
              "      <th>Carretera</th>\n",
              "      <td>0.0137</td>\n",
              "      <td>0.20</td>\n",
              "      <td>20</td>\n",
              "      <td>8750</td>\n",
              "      <td>1500</td>\n",
              "      <td>35000.0</td>\n",
              "      <td>4.0</td>\n",
              "    </tr>\n",
              "    <tr>\n",
              "      <th>Aéreo</th>\n",
              "      <td>0.0055</td>\n",
              "      <td>1.40</td>\n",
              "      <td>40</td>\n",
              "      <td>17500</td>\n",
              "      <td>1000</td>\n",
              "      <td>17500.0</td>\n",
              "      <td>1.0</td>\n",
              "    </tr>\n",
              "  </tbody>\n",
              "</table>\n",
              "</div>"
            ],
            "text/plain": [
              "                tau     r   N      cap     A        Q    n\n",
              "Modo                                                      \n",
              "Ferroviario  0.0575  0.10  10  1000000  2000  70000.0  1.0\n",
              "Fluvial      0.0384  0.15  20    17500  5000  35000.0  2.0\n",
              "Carretera    0.0137  0.20  20     8750  1500  35000.0  4.0\n",
              "Aéreo        0.0055  1.40  40    17500  1000  17500.0  1.0"
            ]
          },
          "metadata": {
            "tags": []
          },
          "execution_count": 28
        }
      ]
    },
    {
      "cell_type": "markdown",
      "metadata": {
        "id": "ixcekz4QU2Wn"
      },
      "source": [
        "No es muy elegante. Sería mejor aplicar una función de una vez. Para eso necesitamos una librería que nos permita hacer todos los cálculos elemento por elemento. Es numpy"
      ]
    },
    {
      "cell_type": "code",
      "metadata": {
        "id": "tsPZEQ2OTWER"
      },
      "source": [
        "import numpy as np\n"
      ],
      "execution_count": null,
      "outputs": []
    },
    {
      "cell_type": "markdown",
      "metadata": {
        "id": "feORb5VXmH0l"
      },
      "source": [
        "La función ceil redondea hacia arriba. Si lo hacemos con math.ceil nos arroja un error"
      ]
    },
    {
      "cell_type": "code",
      "metadata": {
        "colab": {
          "base_uri": "https://localhost:8080/",
          "height": 204
        },
        "id": "QV1fbIyAgk80",
        "outputId": "e50da2ab-3e90-4056-e835-35f051f196fa"
      },
      "source": [
        "df['n']= np.ceil(df['Q']/df['cap'])\n",
        "df"
      ],
      "execution_count": null,
      "outputs": [
        {
          "output_type": "execute_result",
          "data": {
            "text/html": [
              "<div>\n",
              "<style scoped>\n",
              "    .dataframe tbody tr th:only-of-type {\n",
              "        vertical-align: middle;\n",
              "    }\n",
              "\n",
              "    .dataframe tbody tr th {\n",
              "        vertical-align: top;\n",
              "    }\n",
              "\n",
              "    .dataframe thead th {\n",
              "        text-align: right;\n",
              "    }\n",
              "</style>\n",
              "<table border=\"1\" class=\"dataframe\">\n",
              "  <thead>\n",
              "    <tr style=\"text-align: right;\">\n",
              "      <th></th>\n",
              "      <th>tau</th>\n",
              "      <th>r</th>\n",
              "      <th>N</th>\n",
              "      <th>cap</th>\n",
              "      <th>A</th>\n",
              "      <th>Q</th>\n",
              "      <th>n</th>\n",
              "    </tr>\n",
              "    <tr>\n",
              "      <th>Modo</th>\n",
              "      <th></th>\n",
              "      <th></th>\n",
              "      <th></th>\n",
              "      <th></th>\n",
              "      <th></th>\n",
              "      <th></th>\n",
              "      <th></th>\n",
              "    </tr>\n",
              "  </thead>\n",
              "  <tbody>\n",
              "    <tr>\n",
              "      <th>Ferroviario</th>\n",
              "      <td>0.0575</td>\n",
              "      <td>0.10</td>\n",
              "      <td>10</td>\n",
              "      <td>1000000</td>\n",
              "      <td>2000</td>\n",
              "      <td>70000.0</td>\n",
              "      <td>1.0</td>\n",
              "    </tr>\n",
              "    <tr>\n",
              "      <th>Fluvial</th>\n",
              "      <td>0.0384</td>\n",
              "      <td>0.15</td>\n",
              "      <td>20</td>\n",
              "      <td>17500</td>\n",
              "      <td>5000</td>\n",
              "      <td>35000.0</td>\n",
              "      <td>2.0</td>\n",
              "    </tr>\n",
              "    <tr>\n",
              "      <th>Carretera</th>\n",
              "      <td>0.0137</td>\n",
              "      <td>0.20</td>\n",
              "      <td>20</td>\n",
              "      <td>8750</td>\n",
              "      <td>1500</td>\n",
              "      <td>35000.0</td>\n",
              "      <td>4.0</td>\n",
              "    </tr>\n",
              "    <tr>\n",
              "      <th>Aéreo</th>\n",
              "      <td>0.0055</td>\n",
              "      <td>1.40</td>\n",
              "      <td>40</td>\n",
              "      <td>17500</td>\n",
              "      <td>1000</td>\n",
              "      <td>17500.0</td>\n",
              "      <td>1.0</td>\n",
              "    </tr>\n",
              "  </tbody>\n",
              "</table>\n",
              "</div>"
            ],
            "text/plain": [
              "                tau     r   N      cap     A        Q    n\n",
              "Modo                                                      \n",
              "Ferroviario  0.0575  0.10  10  1000000  2000  70000.0  1.0\n",
              "Fluvial      0.0384  0.15  20    17500  5000  35000.0  2.0\n",
              "Carretera    0.0137  0.20  20     8750  1500  35000.0  4.0\n",
              "Aéreo        0.0055  1.40  40    17500  1000  17500.0  1.0"
            ]
          },
          "metadata": {
            "tags": []
          },
          "execution_count": 30
        }
      ]
    },
    {
      "cell_type": "markdown",
      "metadata": {
        "id": "BJcU29rN7F7O"
      },
      "source": [
        "Devolver el tamaño de lote más grande"
      ]
    },
    {
      "cell_type": "code",
      "metadata": {
        "colab": {
          "base_uri": "https://localhost:8080/"
        },
        "id": "csxkJqBQ7Co8",
        "outputId": "d012bd73-9c84-4e6e-d4b5-9821e6275f1a"
      },
      "source": [
        "Qmax = np.max(df['Q'])\n",
        "Qmax"
      ],
      "execution_count": null,
      "outputs": [
        {
          "output_type": "execute_result",
          "data": {
            "text/plain": [
              "70000.0"
            ]
          },
          "metadata": {
            "tags": []
          },
          "execution_count": 31
        }
      ]
    },
    {
      "cell_type": "code",
      "metadata": {
        "colab": {
          "base_uri": "https://localhost:8080/"
        },
        "id": "lEHzZCXxb5AU",
        "outputId": "5289a9b7-66e4-43f8-9dde-cd1bf5c97a19"
      },
      "source": [
        "pos = np.argmax(df['Q'])\n",
        "pos"
      ],
      "execution_count": null,
      "outputs": [
        {
          "output_type": "execute_result",
          "data": {
            "text/plain": [
              "0"
            ]
          },
          "metadata": {
            "tags": []
          },
          "execution_count": 32
        }
      ]
    },
    {
      "cell_type": "code",
      "metadata": {
        "id": "m4-MYSWsnPTD",
        "colab": {
          "base_uri": "https://localhost:8080/",
          "height": 204
        },
        "outputId": "212a80d3-8988-4e6d-8b0a-a90cba274d65"
      },
      "source": [
        "df['c_prima'] = c + df['r']+ df['A']*df['n']/df['Q']\n",
        "df"
      ],
      "execution_count": null,
      "outputs": [
        {
          "output_type": "execute_result",
          "data": {
            "text/html": [
              "<div>\n",
              "<style scoped>\n",
              "    .dataframe tbody tr th:only-of-type {\n",
              "        vertical-align: middle;\n",
              "    }\n",
              "\n",
              "    .dataframe tbody tr th {\n",
              "        vertical-align: top;\n",
              "    }\n",
              "\n",
              "    .dataframe thead th {\n",
              "        text-align: right;\n",
              "    }\n",
              "</style>\n",
              "<table border=\"1\" class=\"dataframe\">\n",
              "  <thead>\n",
              "    <tr style=\"text-align: right;\">\n",
              "      <th></th>\n",
              "      <th>tau</th>\n",
              "      <th>r</th>\n",
              "      <th>N</th>\n",
              "      <th>cap</th>\n",
              "      <th>A</th>\n",
              "      <th>Q</th>\n",
              "      <th>n</th>\n",
              "      <th>c_prima</th>\n",
              "    </tr>\n",
              "    <tr>\n",
              "      <th>Modo</th>\n",
              "      <th></th>\n",
              "      <th></th>\n",
              "      <th></th>\n",
              "      <th></th>\n",
              "      <th></th>\n",
              "      <th></th>\n",
              "      <th></th>\n",
              "      <th></th>\n",
              "    </tr>\n",
              "  </thead>\n",
              "  <tbody>\n",
              "    <tr>\n",
              "      <th>Ferroviario</th>\n",
              "      <td>0.0575</td>\n",
              "      <td>0.10</td>\n",
              "      <td>10</td>\n",
              "      <td>1000000</td>\n",
              "      <td>2000</td>\n",
              "      <td>70000.0</td>\n",
              "      <td>1.0</td>\n",
              "      <td>30.128571</td>\n",
              "    </tr>\n",
              "    <tr>\n",
              "      <th>Fluvial</th>\n",
              "      <td>0.0384</td>\n",
              "      <td>0.15</td>\n",
              "      <td>20</td>\n",
              "      <td>17500</td>\n",
              "      <td>5000</td>\n",
              "      <td>35000.0</td>\n",
              "      <td>2.0</td>\n",
              "      <td>30.435714</td>\n",
              "    </tr>\n",
              "    <tr>\n",
              "      <th>Carretera</th>\n",
              "      <td>0.0137</td>\n",
              "      <td>0.20</td>\n",
              "      <td>20</td>\n",
              "      <td>8750</td>\n",
              "      <td>1500</td>\n",
              "      <td>35000.0</td>\n",
              "      <td>4.0</td>\n",
              "      <td>30.371429</td>\n",
              "    </tr>\n",
              "    <tr>\n",
              "      <th>Aéreo</th>\n",
              "      <td>0.0055</td>\n",
              "      <td>1.40</td>\n",
              "      <td>40</td>\n",
              "      <td>17500</td>\n",
              "      <td>1000</td>\n",
              "      <td>17500.0</td>\n",
              "      <td>1.0</td>\n",
              "      <td>31.457143</td>\n",
              "    </tr>\n",
              "  </tbody>\n",
              "</table>\n",
              "</div>"
            ],
            "text/plain": [
              "                tau     r   N      cap     A        Q    n    c_prima\n",
              "Modo                                                                 \n",
              "Ferroviario  0.0575  0.10  10  1000000  2000  70000.0  1.0  30.128571\n",
              "Fluvial      0.0384  0.15  20    17500  5000  35000.0  2.0  30.435714\n",
              "Carretera    0.0137  0.20  20     8750  1500  35000.0  4.0  30.371429\n",
              "Aéreo        0.0055  1.40  40    17500  1000  17500.0  1.0  31.457143"
            ]
          },
          "metadata": {
            "tags": []
          },
          "execution_count": 33
        }
      ]
    },
    {
      "cell_type": "code",
      "metadata": {
        "id": "gTU5Ai5O2axX",
        "colab": {
          "base_uri": "https://localhost:8080/",
          "height": 204
        },
        "outputId": "9b80e350-0b6c-4e63-aa8e-41cdc7a0f7ae"
      },
      "source": [
        "df['costo_inv_planta'] = i*c*(df['Q']/2+ss)\n",
        "df"
      ],
      "execution_count": null,
      "outputs": [
        {
          "output_type": "execute_result",
          "data": {
            "text/html": [
              "<div>\n",
              "<style scoped>\n",
              "    .dataframe tbody tr th:only-of-type {\n",
              "        vertical-align: middle;\n",
              "    }\n",
              "\n",
              "    .dataframe tbody tr th {\n",
              "        vertical-align: top;\n",
              "    }\n",
              "\n",
              "    .dataframe thead th {\n",
              "        text-align: right;\n",
              "    }\n",
              "</style>\n",
              "<table border=\"1\" class=\"dataframe\">\n",
              "  <thead>\n",
              "    <tr style=\"text-align: right;\">\n",
              "      <th></th>\n",
              "      <th>tau</th>\n",
              "      <th>r</th>\n",
              "      <th>N</th>\n",
              "      <th>cap</th>\n",
              "      <th>A</th>\n",
              "      <th>Q</th>\n",
              "      <th>n</th>\n",
              "      <th>c_prima</th>\n",
              "      <th>costo_inv_planta</th>\n",
              "    </tr>\n",
              "    <tr>\n",
              "      <th>Modo</th>\n",
              "      <th></th>\n",
              "      <th></th>\n",
              "      <th></th>\n",
              "      <th></th>\n",
              "      <th></th>\n",
              "      <th></th>\n",
              "      <th></th>\n",
              "      <th></th>\n",
              "      <th></th>\n",
              "    </tr>\n",
              "  </thead>\n",
              "  <tbody>\n",
              "    <tr>\n",
              "      <th>Ferroviario</th>\n",
              "      <td>0.0575</td>\n",
              "      <td>0.10</td>\n",
              "      <td>10</td>\n",
              "      <td>1000000</td>\n",
              "      <td>2000</td>\n",
              "      <td>70000.0</td>\n",
              "      <td>1.0</td>\n",
              "      <td>30.128571</td>\n",
              "      <td>487602.0</td>\n",
              "    </tr>\n",
              "    <tr>\n",
              "      <th>Fluvial</th>\n",
              "      <td>0.0384</td>\n",
              "      <td>0.15</td>\n",
              "      <td>20</td>\n",
              "      <td>17500</td>\n",
              "      <td>5000</td>\n",
              "      <td>35000.0</td>\n",
              "      <td>2.0</td>\n",
              "      <td>30.435714</td>\n",
              "      <td>330102.0</td>\n",
              "    </tr>\n",
              "    <tr>\n",
              "      <th>Carretera</th>\n",
              "      <td>0.0137</td>\n",
              "      <td>0.20</td>\n",
              "      <td>20</td>\n",
              "      <td>8750</td>\n",
              "      <td>1500</td>\n",
              "      <td>35000.0</td>\n",
              "      <td>4.0</td>\n",
              "      <td>30.371429</td>\n",
              "      <td>330102.0</td>\n",
              "    </tr>\n",
              "    <tr>\n",
              "      <th>Aéreo</th>\n",
              "      <td>0.0055</td>\n",
              "      <td>1.40</td>\n",
              "      <td>40</td>\n",
              "      <td>17500</td>\n",
              "      <td>1000</td>\n",
              "      <td>17500.0</td>\n",
              "      <td>1.0</td>\n",
              "      <td>31.457143</td>\n",
              "      <td>251352.0</td>\n",
              "    </tr>\n",
              "  </tbody>\n",
              "</table>\n",
              "</div>"
            ],
            "text/plain": [
              "                tau     r   N  ...    n    c_prima  costo_inv_planta\n",
              "Modo                           ...                                  \n",
              "Ferroviario  0.0575  0.10  10  ...  1.0  30.128571          487602.0\n",
              "Fluvial      0.0384  0.15  20  ...  2.0  30.435714          330102.0\n",
              "Carretera    0.0137  0.20  20  ...  4.0  30.371429          330102.0\n",
              "Aéreo        0.0055  1.40  40  ...  1.0  31.457143          251352.0\n",
              "\n",
              "[4 rows x 9 columns]"
            ]
          },
          "metadata": {
            "tags": []
          },
          "execution_count": 34
        }
      ]
    },
    {
      "cell_type": "markdown",
      "metadata": {
        "id": "c3LYcvZwl1xS"
      },
      "source": [
        "Ejercicio: Crear las otras columnas (una para cada costo y una para el costo total anual)"
      ]
    },
    {
      "cell_type": "code",
      "metadata": {
        "id": "WGhd0nszdHQ-",
        "colab": {
          "base_uri": "https://localhost:8080/",
          "height": 204
        },
        "outputId": "8e16a8be-a871-454a-d2ab-686efe956fdf"
      },
      "source": [
        "df['costo_inv_tránsito']= i*c*D*df['tau']\n",
        "df"
      ],
      "execution_count": null,
      "outputs": [
        {
          "output_type": "execute_result",
          "data": {
            "text/html": [
              "<div>\n",
              "<style scoped>\n",
              "    .dataframe tbody tr th:only-of-type {\n",
              "        vertical-align: middle;\n",
              "    }\n",
              "\n",
              "    .dataframe tbody tr th {\n",
              "        vertical-align: top;\n",
              "    }\n",
              "\n",
              "    .dataframe thead th {\n",
              "        text-align: right;\n",
              "    }\n",
              "</style>\n",
              "<table border=\"1\" class=\"dataframe\">\n",
              "  <thead>\n",
              "    <tr style=\"text-align: right;\">\n",
              "      <th></th>\n",
              "      <th>tau</th>\n",
              "      <th>r</th>\n",
              "      <th>N</th>\n",
              "      <th>cap</th>\n",
              "      <th>A</th>\n",
              "      <th>Q</th>\n",
              "      <th>n</th>\n",
              "      <th>c_prima</th>\n",
              "      <th>costo_inv_planta</th>\n",
              "      <th>costo_inv_tránsito</th>\n",
              "    </tr>\n",
              "    <tr>\n",
              "      <th>Modo</th>\n",
              "      <th></th>\n",
              "      <th></th>\n",
              "      <th></th>\n",
              "      <th></th>\n",
              "      <th></th>\n",
              "      <th></th>\n",
              "      <th></th>\n",
              "      <th></th>\n",
              "      <th></th>\n",
              "      <th></th>\n",
              "    </tr>\n",
              "  </thead>\n",
              "  <tbody>\n",
              "    <tr>\n",
              "      <th>Ferroviario</th>\n",
              "      <td>0.0575</td>\n",
              "      <td>0.10</td>\n",
              "      <td>10</td>\n",
              "      <td>1000000</td>\n",
              "      <td>2000</td>\n",
              "      <td>70000.0</td>\n",
              "      <td>1.0</td>\n",
              "      <td>30.128571</td>\n",
              "      <td>487602.0</td>\n",
              "      <td>362250.0</td>\n",
              "    </tr>\n",
              "    <tr>\n",
              "      <th>Fluvial</th>\n",
              "      <td>0.0384</td>\n",
              "      <td>0.15</td>\n",
              "      <td>20</td>\n",
              "      <td>17500</td>\n",
              "      <td>5000</td>\n",
              "      <td>35000.0</td>\n",
              "      <td>2.0</td>\n",
              "      <td>30.435714</td>\n",
              "      <td>330102.0</td>\n",
              "      <td>241920.0</td>\n",
              "    </tr>\n",
              "    <tr>\n",
              "      <th>Carretera</th>\n",
              "      <td>0.0137</td>\n",
              "      <td>0.20</td>\n",
              "      <td>20</td>\n",
              "      <td>8750</td>\n",
              "      <td>1500</td>\n",
              "      <td>35000.0</td>\n",
              "      <td>4.0</td>\n",
              "      <td>30.371429</td>\n",
              "      <td>330102.0</td>\n",
              "      <td>86310.0</td>\n",
              "    </tr>\n",
              "    <tr>\n",
              "      <th>Aéreo</th>\n",
              "      <td>0.0055</td>\n",
              "      <td>1.40</td>\n",
              "      <td>40</td>\n",
              "      <td>17500</td>\n",
              "      <td>1000</td>\n",
              "      <td>17500.0</td>\n",
              "      <td>1.0</td>\n",
              "      <td>31.457143</td>\n",
              "      <td>251352.0</td>\n",
              "      <td>34650.0</td>\n",
              "    </tr>\n",
              "  </tbody>\n",
              "</table>\n",
              "</div>"
            ],
            "text/plain": [
              "                tau     r   N  ...    c_prima  costo_inv_planta  costo_inv_tránsito\n",
              "Modo                           ...                                                 \n",
              "Ferroviario  0.0575  0.10  10  ...  30.128571          487602.0            362250.0\n",
              "Fluvial      0.0384  0.15  20  ...  30.435714          330102.0            241920.0\n",
              "Carretera    0.0137  0.20  20  ...  30.371429          330102.0             86310.0\n",
              "Aéreo        0.0055  1.40  40  ...  31.457143          251352.0             34650.0\n",
              "\n",
              "[4 rows x 10 columns]"
            ]
          },
          "metadata": {
            "tags": []
          },
          "execution_count": 35
        }
      ]
    },
    {
      "cell_type": "code",
      "metadata": {
        "id": "NByW1-l1nFBw",
        "colab": {
          "base_uri": "https://localhost:8080/",
          "height": 204
        },
        "outputId": "1f5145f8-0206-442a-d91f-61095d026583"
      },
      "source": [
        "df['costo_inv_cd']= i*df['c_prima']*(df['Q']/2+ss)\n",
        "df"
      ],
      "execution_count": null,
      "outputs": [
        {
          "output_type": "execute_result",
          "data": {
            "text/html": [
              "<div>\n",
              "<style scoped>\n",
              "    .dataframe tbody tr th:only-of-type {\n",
              "        vertical-align: middle;\n",
              "    }\n",
              "\n",
              "    .dataframe tbody tr th {\n",
              "        vertical-align: top;\n",
              "    }\n",
              "\n",
              "    .dataframe thead th {\n",
              "        text-align: right;\n",
              "    }\n",
              "</style>\n",
              "<table border=\"1\" class=\"dataframe\">\n",
              "  <thead>\n",
              "    <tr style=\"text-align: right;\">\n",
              "      <th></th>\n",
              "      <th>tau</th>\n",
              "      <th>r</th>\n",
              "      <th>N</th>\n",
              "      <th>cap</th>\n",
              "      <th>A</th>\n",
              "      <th>Q</th>\n",
              "      <th>n</th>\n",
              "      <th>c_prima</th>\n",
              "      <th>costo_inv_planta</th>\n",
              "      <th>costo_inv_tránsito</th>\n",
              "      <th>costo_inv_cd</th>\n",
              "    </tr>\n",
              "    <tr>\n",
              "      <th>Modo</th>\n",
              "      <th></th>\n",
              "      <th></th>\n",
              "      <th></th>\n",
              "      <th></th>\n",
              "      <th></th>\n",
              "      <th></th>\n",
              "      <th></th>\n",
              "      <th></th>\n",
              "      <th></th>\n",
              "      <th></th>\n",
              "      <th></th>\n",
              "    </tr>\n",
              "  </thead>\n",
              "  <tbody>\n",
              "    <tr>\n",
              "      <th>Ferroviario</th>\n",
              "      <td>0.0575</td>\n",
              "      <td>0.10</td>\n",
              "      <td>10</td>\n",
              "      <td>1000000</td>\n",
              "      <td>2000</td>\n",
              "      <td>70000.0</td>\n",
              "      <td>1.0</td>\n",
              "      <td>30.128571</td>\n",
              "      <td>487602.0</td>\n",
              "      <td>362250.0</td>\n",
              "      <td>489691.722857</td>\n",
              "    </tr>\n",
              "    <tr>\n",
              "      <th>Fluvial</th>\n",
              "      <td>0.0384</td>\n",
              "      <td>0.15</td>\n",
              "      <td>20</td>\n",
              "      <td>17500</td>\n",
              "      <td>5000</td>\n",
              "      <td>35000.0</td>\n",
              "      <td>2.0</td>\n",
              "      <td>30.435714</td>\n",
              "      <td>330102.0</td>\n",
              "      <td>241920.0</td>\n",
              "      <td>334896.338571</td>\n",
              "    </tr>\n",
              "    <tr>\n",
              "      <th>Carretera</th>\n",
              "      <td>0.0137</td>\n",
              "      <td>0.20</td>\n",
              "      <td>20</td>\n",
              "      <td>8750</td>\n",
              "      <td>1500</td>\n",
              "      <td>35000.0</td>\n",
              "      <td>4.0</td>\n",
              "      <td>30.371429</td>\n",
              "      <td>330102.0</td>\n",
              "      <td>86310.0</td>\n",
              "      <td>334188.977143</td>\n",
              "    </tr>\n",
              "    <tr>\n",
              "      <th>Aéreo</th>\n",
              "      <td>0.0055</td>\n",
              "      <td>1.40</td>\n",
              "      <td>40</td>\n",
              "      <td>17500</td>\n",
              "      <td>1000</td>\n",
              "      <td>17500.0</td>\n",
              "      <td>1.0</td>\n",
              "      <td>31.457143</td>\n",
              "      <td>251352.0</td>\n",
              "      <td>34650.0</td>\n",
              "      <td>263560.525714</td>\n",
              "    </tr>\n",
              "  </tbody>\n",
              "</table>\n",
              "</div>"
            ],
            "text/plain": [
              "                tau     r  ...  costo_inv_tránsito   costo_inv_cd\n",
              "Modo                       ...                                   \n",
              "Ferroviario  0.0575  0.10  ...            362250.0  489691.722857\n",
              "Fluvial      0.0384  0.15  ...            241920.0  334896.338571\n",
              "Carretera    0.0137  0.20  ...             86310.0  334188.977143\n",
              "Aéreo        0.0055  1.40  ...             34650.0  263560.525714\n",
              "\n",
              "[4 rows x 11 columns]"
            ]
          },
          "metadata": {
            "tags": []
          },
          "execution_count": 36
        }
      ]
    },
    {
      "cell_type": "code",
      "metadata": {
        "id": "A2iiOtuPn-XC",
        "colab": {
          "base_uri": "https://localhost:8080/",
          "height": 204
        },
        "outputId": "b2d2deab-5606-4999-f5a2-92b22d6381a9"
      },
      "source": [
        "df['costo_transporte']= (df['r']+ df['A']*df['n']/df['Q'])*D\n",
        "df"
      ],
      "execution_count": null,
      "outputs": [
        {
          "output_type": "execute_result",
          "data": {
            "text/html": [
              "<div>\n",
              "<style scoped>\n",
              "    .dataframe tbody tr th:only-of-type {\n",
              "        vertical-align: middle;\n",
              "    }\n",
              "\n",
              "    .dataframe tbody tr th {\n",
              "        vertical-align: top;\n",
              "    }\n",
              "\n",
              "    .dataframe thead th {\n",
              "        text-align: right;\n",
              "    }\n",
              "</style>\n",
              "<table border=\"1\" class=\"dataframe\">\n",
              "  <thead>\n",
              "    <tr style=\"text-align: right;\">\n",
              "      <th></th>\n",
              "      <th>tau</th>\n",
              "      <th>r</th>\n",
              "      <th>N</th>\n",
              "      <th>cap</th>\n",
              "      <th>A</th>\n",
              "      <th>Q</th>\n",
              "      <th>n</th>\n",
              "      <th>c_prima</th>\n",
              "      <th>costo_inv_planta</th>\n",
              "      <th>costo_inv_tránsito</th>\n",
              "      <th>costo_inv_cd</th>\n",
              "      <th>costo_transporte</th>\n",
              "    </tr>\n",
              "    <tr>\n",
              "      <th>Modo</th>\n",
              "      <th></th>\n",
              "      <th></th>\n",
              "      <th></th>\n",
              "      <th></th>\n",
              "      <th></th>\n",
              "      <th></th>\n",
              "      <th></th>\n",
              "      <th></th>\n",
              "      <th></th>\n",
              "      <th></th>\n",
              "      <th></th>\n",
              "      <th></th>\n",
              "    </tr>\n",
              "  </thead>\n",
              "  <tbody>\n",
              "    <tr>\n",
              "      <th>Ferroviario</th>\n",
              "      <td>0.0575</td>\n",
              "      <td>0.10</td>\n",
              "      <td>10</td>\n",
              "      <td>1000000</td>\n",
              "      <td>2000</td>\n",
              "      <td>70000.0</td>\n",
              "      <td>1.0</td>\n",
              "      <td>30.128571</td>\n",
              "      <td>487602.0</td>\n",
              "      <td>362250.0</td>\n",
              "      <td>489691.722857</td>\n",
              "      <td>90000.0</td>\n",
              "    </tr>\n",
              "    <tr>\n",
              "      <th>Fluvial</th>\n",
              "      <td>0.0384</td>\n",
              "      <td>0.15</td>\n",
              "      <td>20</td>\n",
              "      <td>17500</td>\n",
              "      <td>5000</td>\n",
              "      <td>35000.0</td>\n",
              "      <td>2.0</td>\n",
              "      <td>30.435714</td>\n",
              "      <td>330102.0</td>\n",
              "      <td>241920.0</td>\n",
              "      <td>334896.338571</td>\n",
              "      <td>305000.0</td>\n",
              "    </tr>\n",
              "    <tr>\n",
              "      <th>Carretera</th>\n",
              "      <td>0.0137</td>\n",
              "      <td>0.20</td>\n",
              "      <td>20</td>\n",
              "      <td>8750</td>\n",
              "      <td>1500</td>\n",
              "      <td>35000.0</td>\n",
              "      <td>4.0</td>\n",
              "      <td>30.371429</td>\n",
              "      <td>330102.0</td>\n",
              "      <td>86310.0</td>\n",
              "      <td>334188.977143</td>\n",
              "      <td>260000.0</td>\n",
              "    </tr>\n",
              "    <tr>\n",
              "      <th>Aéreo</th>\n",
              "      <td>0.0055</td>\n",
              "      <td>1.40</td>\n",
              "      <td>40</td>\n",
              "      <td>17500</td>\n",
              "      <td>1000</td>\n",
              "      <td>17500.0</td>\n",
              "      <td>1.0</td>\n",
              "      <td>31.457143</td>\n",
              "      <td>251352.0</td>\n",
              "      <td>34650.0</td>\n",
              "      <td>263560.525714</td>\n",
              "      <td>1020000.0</td>\n",
              "    </tr>\n",
              "  </tbody>\n",
              "</table>\n",
              "</div>"
            ],
            "text/plain": [
              "                tau     r  ...   costo_inv_cd  costo_transporte\n",
              "Modo                       ...                                 \n",
              "Ferroviario  0.0575  0.10  ...  489691.722857           90000.0\n",
              "Fluvial      0.0384  0.15  ...  334896.338571          305000.0\n",
              "Carretera    0.0137  0.20  ...  334188.977143          260000.0\n",
              "Aéreo        0.0055  1.40  ...  263560.525714         1020000.0\n",
              "\n",
              "[4 rows x 12 columns]"
            ]
          },
          "metadata": {
            "tags": []
          },
          "execution_count": 37
        }
      ]
    },
    {
      "cell_type": "code",
      "metadata": {
        "id": "uOCNMPkWofoS"
      },
      "source": [
        "df['costo_total']= df['costo_inv_planta']+df['costo_inv_tránsito']+df['costo_inv_cd']+df['costo_transporte']"
      ],
      "execution_count": null,
      "outputs": []
    },
    {
      "cell_type": "code",
      "metadata": {
        "colab": {
          "base_uri": "https://localhost:8080/"
        },
        "id": "Vtoy31uCowxa",
        "outputId": "cafc685d-c8b7-44fc-a16f-c8c749c44486"
      },
      "source": [
        "df['costo_total']"
      ],
      "execution_count": null,
      "outputs": [
        {
          "output_type": "execute_result",
          "data": {
            "text/plain": [
              "Modo\n",
              "Ferroviario    1.429544e+06\n",
              "Fluvial        1.211918e+06\n",
              "Carretera      1.010601e+06\n",
              "Aéreo          1.569563e+06\n",
              "Name: costo_total, dtype: float64"
            ]
          },
          "metadata": {
            "tags": []
          },
          "execution_count": 39
        }
      ]
    },
    {
      "cell_type": "markdown",
      "metadata": {
        "id": "XlRjaG1ZsZdY"
      },
      "source": [
        "Ahora el óptimo"
      ]
    },
    {
      "cell_type": "code",
      "metadata": {
        "colab": {
          "base_uri": "https://localhost:8080/"
        },
        "id": "cihGYEtusqpY",
        "outputId": "af0a4b87-be98-4198-b110-86f1aabac056"
      },
      "source": [
        "df_m = df.loc['Fluvial',['tau','r','A','cap']]\n",
        "tau = df_m.loc['tau']\n",
        "cap = df_m.loc['cap']\n",
        "A = df_m.loc['A']\n",
        "r = df_m.loc['r']\n",
        "i=0.3\n",
        "ss = 19178\n",
        "c= 30\n",
        "D = 700000\n",
        "df_m\n",
        "\n",
        "\n",
        "\n",
        "\n"
      ],
      "execution_count": null,
      "outputs": [
        {
          "output_type": "execute_result",
          "data": {
            "text/plain": [
              "tau        0.0384\n",
              "r          0.1500\n",
              "A       5000.0000\n",
              "cap    17500.0000\n",
              "Name: Fluvial, dtype: float64"
            ]
          },
          "metadata": {
            "tags": []
          },
          "execution_count": 40
        }
      ]
    },
    {
      "cell_type": "code",
      "metadata": {
        "id": "O0MYovHuxP43"
      },
      "source": [
        "def calc_costoTotal(tau, cap, A, r, i, c, D, ss, N):\n",
        "  Q = D/N #tamaño de lote\n",
        "\n",
        "  n = math.ceil(Q/cap) #redondea hacia arriba el # de vehículos\n",
        "\n",
        "  cprima = c+ r + A*n/Q\n",
        "\n",
        "  costo_inv_planta = i*c*(Q/2+ss)\n",
        "  costo_inv_cd = i*cprima*(Q/2+ss)\n",
        "  costo_inv_transito =  i*c*D*tau\n",
        "  costo_total= i*c*(Q/2+ss) + i*c*D*tau + r*D + A*n*D/Q + i*cprima*(Q/2+ss) \n",
        "  return costo_total #devuelve el costo total anual"
      ],
      "execution_count": null,
      "outputs": []
    },
    {
      "cell_type": "code",
      "metadata": {
        "id": "Inu5ZSFqxR_I"
      },
      "source": [
        " num_val=101\n",
        "costo_array= np.zeros(num_val) # crear un arreglo de ceros con 101 posiciones\n",
        "n_array = np.zeros(num_val) #arreglo de frecuencias\n",
        "q_array = np.zeros(num_val) # arreglo tamaño de lote\n",
        "\n",
        "for k in range(0,num_val):\n",
        "  n_array[k] = k+1\n",
        "  q_array[k] = D/(k+1)\n",
        "  costo_array[k]= calc_costoTotal(tau, cap, A, r, i, c, D, ss, k+1)\n"
      ],
      "execution_count": null,
      "outputs": []
    },
    {
      "cell_type": "code",
      "metadata": {
        "colab": {
          "base_uri": "https://localhost:8080/"
        },
        "id": "yxPHHQXXvIEg",
        "outputId": "29bcbd48-25ff-4904-f63c-9ed51127cea4"
      },
      "source": [
        "np.min(costo_array) # costo mínimo"
      ],
      "execution_count": null,
      "outputs": [
        {
          "output_type": "execute_result",
          "data": {
            "text/plain": [
              "1053274.5885714286"
            ]
          },
          "metadata": {
            "tags": []
          },
          "execution_count": 43
        }
      ]
    },
    {
      "cell_type": "code",
      "metadata": {
        "id": "xmMVu7qswUe6"
      },
      "source": [
        "pos =np.argmin(costo_array) #posición del costo mínimo"
      ],
      "execution_count": null,
      "outputs": []
    },
    {
      "cell_type": "code",
      "metadata": {
        "id": "eGfc0pG9xJnx",
        "colab": {
          "base_uri": "https://localhost:8080/"
        },
        "outputId": "38c80acd-89b7-47f3-8d43-2e0bf953f467"
      },
      "source": [
        "Q_opt = q_array[pos]\n",
        "Q_opt"
      ],
      "execution_count": null,
      "outputs": [
        {
          "output_type": "execute_result",
          "data": {
            "text/plain": [
              "17500.0"
            ]
          },
          "metadata": {
            "tags": []
          },
          "execution_count": 45
        }
      ]
    },
    {
      "cell_type": "code",
      "metadata": {
        "colab": {
          "base_uri": "https://localhost:8080/",
          "height": 293
        },
        "id": "sL776GW90SgX",
        "outputId": "5b72d7d0-06b5-433b-fc09-b9bb7e0bc0a6"
      },
      "source": [
        "import matplotlib.pyplot as plt\n",
        "plt.ylim((1000000,2000000))\n",
        "plt.plot(n_array,costo_array)"
      ],
      "execution_count": null,
      "outputs": [
        {
          "output_type": "execute_result",
          "data": {
            "text/plain": [
              "[<matplotlib.lines.Line2D at 0x7f7dd329be10>]"
            ]
          },
          "metadata": {
            "tags": []
          },
          "execution_count": 46
        },
        {
          "output_type": "display_data",
          "data": {
            "image/png": "[encoded data removed]",
            "text/plain": [
              "<Figure size 432x288 with 1 Axes>"
            ]
          },
          "metadata": {
            "tags": [],
            "needs_background": "light"
          }
        }
      ]
    },
    {
      "cell_type": "markdown",
      "metadata": {
        "id": "F5pLBE8Pj_Qe"
      },
      "source": [
        "Ahora con la derivada:\n",
        "$Q*=\\sqrt{\\frac{2An(D+i \\times ss_{cd})}{i(2c+r)}}$\n",
        "\n",
        "Definición: Punto de quiebre = $Q_n = n \\times cap$ <br>\n",
        "Procedimiento\n",
        "Tomar $n$ = 1 <br>\n",
        "\n",
        "Mientras que no haya factibilidad <br>\n",
        "\n",
        "> Calcular $Q*$ con la fórmula. <br>\n",
        "\n",
        "\n",
        "\n",
        "  \n",
        "\n",
        "> a. Si $Q*$ es factible:<br>\n",
        "\n",
        "\n",
        "\n",
        ">> Calcular los costos para $Q*$ y\n",
        "  para los puntos de quiebre $Q_{n-1}, Q_{n-2}... $ <br>\n",
        "\n",
        "\n",
        "  \n",
        "> b. Si no, $n= n+1$ <br>\n",
        "\n",
        "Devolver el costo más barato\n"
      ]
    },
    {
      "cell_type": "code",
      "metadata": {
        "colab": {
          "base_uri": "https://localhost:8080/"
        },
        "id": "Jrq-NvDgcM5d",
        "outputId": "b1bef71b-84dc-465a-cf82-813951334342"
      },
      "source": [
        "df_m = df.loc['Fluvial',['tau','r','A','cap']]\n",
        "tau = df_m.loc['tau']\n",
        "cap = df_m.loc['cap']\n",
        "A = df_m.loc['A']\n",
        "r = df_m.loc['r']\n",
        "i=0.3\n",
        "ss = 19178\n",
        "c= 30\n",
        "D = 700000\n",
        "df_m"
      ],
      "execution_count": null,
      "outputs": [
        {
          "output_type": "execute_result",
          "data": {
            "text/plain": [
              "tau        0.0384\n",
              "r          0.1500\n",
              "A       5000.0000\n",
              "cap    17500.0000\n",
              "Name: Fluvial, dtype: float64"
            ]
          },
          "metadata": {
            "tags": []
          },
          "execution_count": 47
        }
      ]
    },
    {
      "cell_type": "code",
      "metadata": {
        "colab": {
          "base_uri": "https://localhost:8080/"
        },
        "id": "E8J5aGL_kU-0",
        "outputId": "0c08de84-c962-4503-98d3-e2c479e24827"
      },
      "source": [
        "n= 1\n",
        "Q = math.sqrt((2*A*n*(D+i*ss))/(i*(2*c+r)))\n",
        "print ('Q*= ', Q)"
      ],
      "execution_count": null,
      "outputs": [
        {
          "output_type": "stream",
          "text": [
            "Q*=  19776.436827402747\n"
          ],
          "name": "stdout"
        }
      ]
    },
    {
      "cell_type": "markdown",
      "metadata": {
        "id": "9UcyI0yBk0TH"
      },
      "source": [
        "¿Es factible?"
      ]
    },
    {
      "cell_type": "code",
      "metadata": {
        "colab": {
          "base_uri": "https://localhost:8080/"
        },
        "id": "gUZ4mtlIko-T",
        "outputId": "a6d5fcf2-3767-456d-b3ec-56d73935e587"
      },
      "source": [
        "n= 2\n",
        "Q = math.sqrt((2*A*n*(D+i*ss))/(i*(2*c+r)))\n",
        "print (Q)"
      ],
      "execution_count": null,
      "outputs": [
        {
          "output_type": "stream",
          "text": [
            "27968.10517672771\n"
          ],
          "name": "stdout"
        }
      ]
    },
    {
      "cell_type": "markdown",
      "metadata": {
        "id": "9qQBgO7XqtD5"
      },
      "source": [
        "¿Es factible?"
      ]
    },
    {
      "cell_type": "markdown",
      "metadata": {
        "id": "WS-OSuuxq-je"
      },
      "source": [
        "Calcular <br>\n",
        "Costo en punto de quiebre 1. $n= 1$ y $Q_1$ = 17500 <br>\n",
        "Costo en $Q*$ y $n=2$"
      ]
    },
    {
      "cell_type": "markdown",
      "metadata": {
        "id": "BUB-DW8Irfng"
      },
      "source": [
        "Primer calculemos el número de envíos ($N$):\n",
        "con $n=1$ "
      ]
    },
    {
      "cell_type": "code",
      "metadata": {
        "colab": {
          "base_uri": "https://localhost:8080/"
        },
        "id": "VBWMo4u5q0Uh",
        "outputId": "87d1016d-c81e-4aa2-f11d-0d35c099489d"
      },
      "source": [
        "n=1 #número de vehículos\n",
        "Q1= n*cap\n",
        "N= D/(n*cap) #número de envíos\n",
        "print ('Número de envíos', N)\n",
        "costo1 = calc_costoTotal(tau, cap, A, r, i, c, D, ss, N)\n",
        "print ('Tamaño de lote', Q1,' Costo total', costo1)"
      ],
      "execution_count": null,
      "outputs": [
        {
          "output_type": "stream",
          "text": [
            "Número de envíos 40.0\n",
            "Tamaño de lote 17500.0  Costo total 1053274.5885714286\n"
          ],
          "name": "stdout"
        }
      ]
    },
    {
      "cell_type": "markdown",
      "metadata": {
        "id": "NKWR-QEmr7g3"
      },
      "source": [
        "Con $Q$ = 27968.11"
      ]
    },
    {
      "cell_type": "code",
      "metadata": {
        "colab": {
          "base_uri": "https://localhost:8080/"
        },
        "id": "mtOmROLPrepF",
        "outputId": "3545bd1e-90b8-41d4-eee9-50e0793a4806"
      },
      "source": [
        "n=2\n",
        "Q = math.sqrt((2*A*n*(D+i*ss))/(i*(2*c+r)))\n",
        "N = D/Q\n",
        "print(N)"
      ],
      "execution_count": null,
      "outputs": [
        {
          "output_type": "stream",
          "text": [
            "25.028509996539587\n"
          ],
          "name": "stdout"
        }
      ]
    },
    {
      "cell_type": "code",
      "metadata": {
        "colab": {
          "base_uri": "https://localhost:8080/"
        },
        "id": "76wfCHSytKuq",
        "outputId": "e7713730-0001-46cb-b918-f82de2fdbaa9"
      },
      "source": [
        "N=25 #redondeando\n",
        "Q = D/N\n",
        "print ('Número de envíos', N)\n",
        "costo2 = calc_costoTotal(tau, cap, A, r, i, c, D, ss, N)\n",
        "print ('Tamaño de lote', Q,' Costo total', costo2)"
      ],
      "execution_count": null,
      "outputs": [
        {
          "output_type": "stream",
          "text": [
            "Número de envíos 25\n",
            "Tamaño de lote 28000.0  Costo total 1199171.7957142857\n"
          ],
          "name": "stdout"
        }
      ]
    },
    {
      "cell_type": "code",
      "metadata": {
        "id": "k_TC7mFNtgdj",
        "colab": {
          "base_uri": "https://localhost:8080/",
          "height": 173
        },
        "outputId": "9a3bc329-37e0-4f27-c25b-ad40064b8697"
      },
      "source": [
        "data2 = pd.DataFrame({'Opciones': ['Naviera', 'Aerolinea 1', 'Aerolinea 2'], 'tau':[3, 0.5, 0.4], 'cap':[800, 200, 300], 'A':[2500,9500,12500]})\n",
        "data2.set_index('Opciones', inplace=True)\n",
        "data2"
      ],
      "execution_count": null,
      "outputs": [
        {
          "output_type": "execute_result",
          "data": {
            "text/html": [
              "<div>\n",
              "<style scoped>\n",
              "    .dataframe tbody tr th:only-of-type {\n",
              "        vertical-align: middle;\n",
              "    }\n",
              "\n",
              "    .dataframe tbody tr th {\n",
              "        vertical-align: top;\n",
              "    }\n",
              "\n",
              "    .dataframe thead th {\n",
              "        text-align: right;\n",
              "    }\n",
              "</style>\n",
              "<table border=\"1\" class=\"dataframe\">\n",
              "  <thead>\n",
              "    <tr style=\"text-align: right;\">\n",
              "      <th></th>\n",
              "      <th>tau</th>\n",
              "      <th>cap</th>\n",
              "      <th>A</th>\n",
              "    </tr>\n",
              "    <tr>\n",
              "      <th>Opciones</th>\n",
              "      <th></th>\n",
              "      <th></th>\n",
              "      <th></th>\n",
              "    </tr>\n",
              "  </thead>\n",
              "  <tbody>\n",
              "    <tr>\n",
              "      <th>Naviera</th>\n",
              "      <td>3.0</td>\n",
              "      <td>800</td>\n",
              "      <td>2500</td>\n",
              "    </tr>\n",
              "    <tr>\n",
              "      <th>Aerolinea 1</th>\n",
              "      <td>0.5</td>\n",
              "      <td>200</td>\n",
              "      <td>9500</td>\n",
              "    </tr>\n",
              "    <tr>\n",
              "      <th>Aerolinea 2</th>\n",
              "      <td>0.4</td>\n",
              "      <td>300</td>\n",
              "      <td>12500</td>\n",
              "    </tr>\n",
              "  </tbody>\n",
              "</table>\n",
              "</div>"
            ],
            "text/plain": [
              "             tau  cap      A\n",
              "Opciones                    \n",
              "Naviera      3.0  800   2500\n",
              "Aerolinea 1  0.5  200   9500\n",
              "Aerolinea 2  0.4  300  12500"
            ]
          },
          "metadata": {
            "tags": []
          },
          "execution_count": 53
        }
      ]
    },
    {
      "cell_type": "code",
      "metadata": {
        "id": "yNpB5j5V91ne"
      },
      "source": [
        "SSPlanta=450\n",
        "i=0.2\n",
        "c=383\n",
        "Dsemanal=90\n",
        "DesvEstandarSemanal=15\n",
        "Alpha=0.95"
      ],
      "execution_count": null,
      "outputs": []
    },
    {
      "cell_type": "code",
      "metadata": {
        "colab": {
          "base_uri": "https://localhost:8080/",
          "height": 173
        },
        "id": "wR3N9IDmBgbf",
        "outputId": "d4e294a4-51b0-49bf-db02-6b52bf4c08af"
      },
      "source": [
        "Danual=Dsemanal*52\n",
        "data2['tauAnual']=data2['tau']/52\n",
        "data2"
      ],
      "execution_count": null,
      "outputs": [
        {
          "output_type": "execute_result",
          "data": {
            "text/html": [
              "<div>\n",
              "<style scoped>\n",
              "    .dataframe tbody tr th:only-of-type {\n",
              "        vertical-align: middle;\n",
              "    }\n",
              "\n",
              "    .dataframe tbody tr th {\n",
              "        vertical-align: top;\n",
              "    }\n",
              "\n",
              "    .dataframe thead th {\n",
              "        text-align: right;\n",
              "    }\n",
              "</style>\n",
              "<table border=\"1\" class=\"dataframe\">\n",
              "  <thead>\n",
              "    <tr style=\"text-align: right;\">\n",
              "      <th></th>\n",
              "      <th>tau</th>\n",
              "      <th>cap</th>\n",
              "      <th>A</th>\n",
              "      <th>tauAnual</th>\n",
              "    </tr>\n",
              "    <tr>\n",
              "      <th>Opciones</th>\n",
              "      <th></th>\n",
              "      <th></th>\n",
              "      <th></th>\n",
              "      <th></th>\n",
              "    </tr>\n",
              "  </thead>\n",
              "  <tbody>\n",
              "    <tr>\n",
              "      <th>Naviera</th>\n",
              "      <td>3.0</td>\n",
              "      <td>800</td>\n",
              "      <td>2500</td>\n",
              "      <td>0.057692</td>\n",
              "    </tr>\n",
              "    <tr>\n",
              "      <th>Aerolinea 1</th>\n",
              "      <td>0.5</td>\n",
              "      <td>200</td>\n",
              "      <td>9500</td>\n",
              "      <td>0.009615</td>\n",
              "    </tr>\n",
              "    <tr>\n",
              "      <th>Aerolinea 2</th>\n",
              "      <td>0.4</td>\n",
              "      <td>300</td>\n",
              "      <td>12500</td>\n",
              "      <td>0.007692</td>\n",
              "    </tr>\n",
              "  </tbody>\n",
              "</table>\n",
              "</div>"
            ],
            "text/plain": [
              "             tau  cap      A  tauAnual\n",
              "Opciones                              \n",
              "Naviera      3.0  800   2500  0.057692\n",
              "Aerolinea 1  0.5  200   9500  0.009615\n",
              "Aerolinea 2  0.4  300  12500  0.007692"
            ]
          },
          "metadata": {
            "tags": []
          },
          "execution_count": 55
        }
      ]
    },
    {
      "cell_type": "code",
      "metadata": {
        "colab": {
          "base_uri": "https://localhost:8080/"
        },
        "id": "J6QvKBZr_nnP",
        "outputId": "182943b3-b381-47d1-d009-9b70f16cf085"
      },
      "source": [
        "print('Demanda anual de:',Danual)\n",
        "for k in data2.index:\n",
        "  QOptimo=''\n",
        "  nOptimo=''\n",
        "  CostoOptimo=''\n",
        "  for Q in range(1,10001):\n",
        "    N = Danual/Q\n",
        "    n = math.ceil(Q/data2['cap'].loc[k]) #redondea hacia arriba el # de vehículos\n",
        "\n",
        "    T=Q/Danual*52\n",
        "    cprima = c + data2['A'].loc[k]*n/Q\n",
        "    SSCD=round(DesvEstandarSemanal*math.sqrt(T+data2['tau'].loc[k])*norm.ppf(Alpha))\n",
        "    #SSCD2=round(norm.ppf(Alpha,loc=Dsemanal*(T+data2['tau'].loc[k]),scale=math.sqrt(DesvEstandarSemanal**2*(T+data2['tau'].loc[k])))-Dsemanal*(T+data2['tau'].loc[k]))\n",
        "    costo_inv_planta = i*c*(Q/2+SSPlanta)\n",
        "    costo_inv_cd = i*cprima*(Q/2+SSCD)\n",
        "    costo_inv_transito =  i*c*Danual*data2['tauAnual'].loc[k]\n",
        "    Costo= costo_inv_planta + costo_inv_transito  + costo_inv_cd + data2['A'].loc[k]*n*N\n",
        "    if CostoOptimo=='':\n",
        "      CostoOptimo=Costo\n",
        "      QOptimo=Q\n",
        "      nOptimo=n\n",
        "      NOptimo=N\n",
        "    elif CostoOptimo>Costo:\n",
        "      CostoOptimo=Costo\n",
        "      QOptimo=Q\n",
        "      nOptimo=n\n",
        "      NOptimo=N\n",
        "\n",
        "  print('\\nResultado para método de transporte',k,'\\nCosto Optimo=',CostoOptimo,'\\nCon Q optimo=',QOptimo,'\\nCon n Optimo=',nOptimo,'\\nCon N Optimo=',NOptimo,'\\nInventario de seguridad anual en el centro de distribución:',SSCD)"
      ],
      "execution_count": null,
      "outputs": [
        {
          "output_type": "stream",
          "text": [
            "Demanda anual de: 4680\n",
            "\n",
            "Resultado para método de transporte Naviera \n",
            "Costo Optimo= 120429.86475195823 \n",
            "Con Q optimo= 383 \n",
            "Con n Optimo= 1 \n",
            "Con N Optimo= 12.219321148825065 \n",
            "Inventario de seguridad anual en el centro de distribución: 264\n",
            "\n",
            "Resultado para método de transporte Aerolinea 1 \n",
            "Costo Optimo= 280017.1 \n",
            "Con Q optimo= 200 \n",
            "Con n Optimo= 1 \n",
            "Con N Optimo= 23.4 \n",
            "Inventario de seguridad anual en el centro de distribución: 261\n",
            "\n",
            "Resultado para método de transporte Aerolinea 2 \n",
            "Costo Optimo= 260534.40000000002 \n",
            "Con Q optimo= 300 \n",
            "Con n Optimo= 1 \n",
            "Con N Optimo= 15.6 \n",
            "Inventario de seguridad anual en el centro de distribución: 261\n"
          ],
          "name": "stdout"
        }
      ]
    },
    {
      "cell_type": "code",
      "metadata": {
        "colab": {
          "base_uri": "https://localhost:8080/",
          "height": 173
        },
        "id": "40rLYvNbhkvr",
        "outputId": "cc59af3a-6c72-438f-fbb6-f8813090e5f9"
      },
      "source": [
        "data3 = pd.DataFrame({'Opciones': ['Naviera Sea Mariners', 'Naviera Ocean Plus', 'Naviera Trading World'], 'tau':[3, 4, 5], 'cap':[800, 800, 800] , 'Contenedores disponibles por envío':[4, 1, 2] , 'Costo por contenedor transportado':[2500, 2000, 1500], 'Costo fijo de pedido':[600,800,1000]})\n",
        "data3.set_index('Opciones', inplace=True)\n",
        "data3"
      ],
      "execution_count": null,
      "outputs": [
        {
          "output_type": "execute_result",
          "data": {
            "text/html": [
              "<div>\n",
              "<style scoped>\n",
              "    .dataframe tbody tr th:only-of-type {\n",
              "        vertical-align: middle;\n",
              "    }\n",
              "\n",
              "    .dataframe tbody tr th {\n",
              "        vertical-align: top;\n",
              "    }\n",
              "\n",
              "    .dataframe thead th {\n",
              "        text-align: right;\n",
              "    }\n",
              "</style>\n",
              "<table border=\"1\" class=\"dataframe\">\n",
              "  <thead>\n",
              "    <tr style=\"text-align: right;\">\n",
              "      <th></th>\n",
              "      <th>tau</th>\n",
              "      <th>cap</th>\n",
              "      <th>Contenedores disponibles por envío</th>\n",
              "      <th>Costo por contenedor transportado</th>\n",
              "      <th>Costo fijo de pedido</th>\n",
              "    </tr>\n",
              "    <tr>\n",
              "      <th>Opciones</th>\n",
              "      <th></th>\n",
              "      <th></th>\n",
              "      <th></th>\n",
              "      <th></th>\n",
              "      <th></th>\n",
              "    </tr>\n",
              "  </thead>\n",
              "  <tbody>\n",
              "    <tr>\n",
              "      <th>Naviera Sea Mariners</th>\n",
              "      <td>3</td>\n",
              "      <td>800</td>\n",
              "      <td>4</td>\n",
              "      <td>2500</td>\n",
              "      <td>600</td>\n",
              "    </tr>\n",
              "    <tr>\n",
              "      <th>Naviera Ocean Plus</th>\n",
              "      <td>4</td>\n",
              "      <td>800</td>\n",
              "      <td>1</td>\n",
              "      <td>2000</td>\n",
              "      <td>800</td>\n",
              "    </tr>\n",
              "    <tr>\n",
              "      <th>Naviera Trading World</th>\n",
              "      <td>5</td>\n",
              "      <td>800</td>\n",
              "      <td>2</td>\n",
              "      <td>1500</td>\n",
              "      <td>1000</td>\n",
              "    </tr>\n",
              "  </tbody>\n",
              "</table>\n",
              "</div>"
            ],
            "text/plain": [
              "                       tau  ...  Costo fijo de pedido\n",
              "Opciones                    ...                      \n",
              "Naviera Sea Mariners     3  ...                   600\n",
              "Naviera Ocean Plus       4  ...                   800\n",
              "Naviera Trading World    5  ...                  1000\n",
              "\n",
              "[3 rows x 5 columns]"
            ]
          },
          "metadata": {
            "tags": []
          },
          "execution_count": 57
        }
      ]
    },
    {
      "cell_type": "code",
      "metadata": {
        "colab": {
          "base_uri": "https://localhost:8080/",
          "height": 173
        },
        "id": "9hii2ROLidtY",
        "outputId": "1f060965-a1ab-4221-adcf-8bba31089f1b"
      },
      "source": [
        "data3['A']=data3['Costo fijo de pedido']+data3['Costo por contenedor transportado']\n",
        "data3"
      ],
      "execution_count": null,
      "outputs": [
        {
          "output_type": "execute_result",
          "data": {
            "text/html": [
              "<div>\n",
              "<style scoped>\n",
              "    .dataframe tbody tr th:only-of-type {\n",
              "        vertical-align: middle;\n",
              "    }\n",
              "\n",
              "    .dataframe tbody tr th {\n",
              "        vertical-align: top;\n",
              "    }\n",
              "\n",
              "    .dataframe thead th {\n",
              "        text-align: right;\n",
              "    }\n",
              "</style>\n",
              "<table border=\"1\" class=\"dataframe\">\n",
              "  <thead>\n",
              "    <tr style=\"text-align: right;\">\n",
              "      <th></th>\n",
              "      <th>tau</th>\n",
              "      <th>cap</th>\n",
              "      <th>Contenedores disponibles por envío</th>\n",
              "      <th>Costo por contenedor transportado</th>\n",
              "      <th>Costo fijo de pedido</th>\n",
              "      <th>A</th>\n",
              "    </tr>\n",
              "    <tr>\n",
              "      <th>Opciones</th>\n",
              "      <th></th>\n",
              "      <th></th>\n",
              "      <th></th>\n",
              "      <th></th>\n",
              "      <th></th>\n",
              "      <th></th>\n",
              "    </tr>\n",
              "  </thead>\n",
              "  <tbody>\n",
              "    <tr>\n",
              "      <th>Naviera Sea Mariners</th>\n",
              "      <td>3</td>\n",
              "      <td>800</td>\n",
              "      <td>4</td>\n",
              "      <td>2500</td>\n",
              "      <td>600</td>\n",
              "      <td>3100</td>\n",
              "    </tr>\n",
              "    <tr>\n",
              "      <th>Naviera Ocean Plus</th>\n",
              "      <td>4</td>\n",
              "      <td>800</td>\n",
              "      <td>1</td>\n",
              "      <td>2000</td>\n",
              "      <td>800</td>\n",
              "      <td>2800</td>\n",
              "    </tr>\n",
              "    <tr>\n",
              "      <th>Naviera Trading World</th>\n",
              "      <td>5</td>\n",
              "      <td>800</td>\n",
              "      <td>2</td>\n",
              "      <td>1500</td>\n",
              "      <td>1000</td>\n",
              "      <td>2500</td>\n",
              "    </tr>\n",
              "  </tbody>\n",
              "</table>\n",
              "</div>"
            ],
            "text/plain": [
              "                       tau  cap  ...  Costo fijo de pedido     A\n",
              "Opciones                         ...                            \n",
              "Naviera Sea Mariners     3  800  ...                   600  3100\n",
              "Naviera Ocean Plus       4  800  ...                   800  2800\n",
              "Naviera Trading World    5  800  ...                  1000  2500\n",
              "\n",
              "[3 rows x 6 columns]"
            ]
          },
          "metadata": {
            "tags": []
          },
          "execution_count": 58
        }
      ]
    },
    {
      "cell_type": "code",
      "metadata": {
        "colab": {
          "base_uri": "https://localhost:8080/",
          "height": 173
        },
        "id": "XsLrDpwGiohR",
        "outputId": "7fdbe830-13c5-41e4-9aa5-0f24ef168932"
      },
      "source": [
        "SSPlanta=365\n",
        "i=0.2\n",
        "c=383\n",
        "Dsemanal=90\n",
        "DesvEstandarSemanal=15\n",
        "Alpha=0.89\n",
        "Danual=Dsemanal*52\n",
        "data3['tauAnual']=data3['tau']/52\n",
        "data3"
      ],
      "execution_count": null,
      "outputs": [
        {
          "output_type": "execute_result",
          "data": {
            "text/html": [
              "<div>\n",
              "<style scoped>\n",
              "    .dataframe tbody tr th:only-of-type {\n",
              "        vertical-align: middle;\n",
              "    }\n",
              "\n",
              "    .dataframe tbody tr th {\n",
              "        vertical-align: top;\n",
              "    }\n",
              "\n",
              "    .dataframe thead th {\n",
              "        text-align: right;\n",
              "    }\n",
              "</style>\n",
              "<table border=\"1\" class=\"dataframe\">\n",
              "  <thead>\n",
              "    <tr style=\"text-align: right;\">\n",
              "      <th></th>\n",
              "      <th>tau</th>\n",
              "      <th>cap</th>\n",
              "      <th>Contenedores disponibles por envío</th>\n",
              "      <th>Costo por contenedor transportado</th>\n",
              "      <th>Costo fijo de pedido</th>\n",
              "      <th>A</th>\n",
              "      <th>tauAnual</th>\n",
              "    </tr>\n",
              "    <tr>\n",
              "      <th>Opciones</th>\n",
              "      <th></th>\n",
              "      <th></th>\n",
              "      <th></th>\n",
              "      <th></th>\n",
              "      <th></th>\n",
              "      <th></th>\n",
              "      <th></th>\n",
              "    </tr>\n",
              "  </thead>\n",
              "  <tbody>\n",
              "    <tr>\n",
              "      <th>Naviera Sea Mariners</th>\n",
              "      <td>3</td>\n",
              "      <td>800</td>\n",
              "      <td>4</td>\n",
              "      <td>2500</td>\n",
              "      <td>600</td>\n",
              "      <td>3100</td>\n",
              "      <td>0.057692</td>\n",
              "    </tr>\n",
              "    <tr>\n",
              "      <th>Naviera Ocean Plus</th>\n",
              "      <td>4</td>\n",
              "      <td>800</td>\n",
              "      <td>1</td>\n",
              "      <td>2000</td>\n",
              "      <td>800</td>\n",
              "      <td>2800</td>\n",
              "      <td>0.076923</td>\n",
              "    </tr>\n",
              "    <tr>\n",
              "      <th>Naviera Trading World</th>\n",
              "      <td>5</td>\n",
              "      <td>800</td>\n",
              "      <td>2</td>\n",
              "      <td>1500</td>\n",
              "      <td>1000</td>\n",
              "      <td>2500</td>\n",
              "      <td>0.096154</td>\n",
              "    </tr>\n",
              "  </tbody>\n",
              "</table>\n",
              "</div>"
            ],
            "text/plain": [
              "                       tau  cap  ...     A  tauAnual\n",
              "Opciones                         ...                \n",
              "Naviera Sea Mariners     3  800  ...  3100  0.057692\n",
              "Naviera Ocean Plus       4  800  ...  2800  0.076923\n",
              "Naviera Trading World    5  800  ...  2500  0.096154\n",
              "\n",
              "[3 rows x 7 columns]"
            ]
          },
          "metadata": {
            "tags": []
          },
          "execution_count": 59
        }
      ]
    },
    {
      "cell_type": "code",
      "metadata": {
        "colab": {
          "base_uri": "https://localhost:8080/"
        },
        "id": "C4MdqpypjCyd",
        "outputId": "7e71cba5-98c6-4440-845f-d32e22f4fa8c"
      },
      "source": [
        "print('Demanda anual de:',Danual)\n",
        "for k in data3.index:\n",
        "  QOptimo=''\n",
        "  nOptimo=''\n",
        "  CostoOptimo=''\n",
        "  for Q in range(1,10001):\n",
        "    N = Danual/Q\n",
        "    n = math.ceil(Q/data3['cap'].loc[k]) #redondea hacia arriba el # de vehículos\n",
        "\n",
        "    if n>data3['Contenedores disponibles por envío'].loc[k]:\n",
        "      n=data3['Contenedores disponibles por envío'].loc[k]\n",
        "      Q=n*data3['cap'].loc[k]\n",
        "      N = Danual/Q\n",
        "\n",
        "    T=Q/Danual*52\n",
        "    cprima = c + data3['Costo por contenedor transportado'].loc[k]*n/Q+ data3['Costo fijo de pedido'].loc[k]/Q\n",
        "    SSCD=round(DesvEstandarSemanal*math.sqrt(T+data3['tau'].loc[k])*norm.ppf(Alpha))\n",
        "    #SSCD2=round(norm.ppf(Alpha,loc=Dsemanal*(T+data2['tau'].loc[k]),scale=math.sqrt(DesvEstandarSemanal**2*(T+data2['tau'].loc[k])))-Dsemanal*(T+data2['tau'].loc[k]))\n",
        "    costo_inv_planta = i*c*(Q/2+SSPlanta)\n",
        "    costo_inv_cd = i*cprima*(Q/2+SSCD)\n",
        "    costo_inv_transito =  i*c*Danual*data3['tauAnual'].loc[k]\n",
        "    Costo= costo_inv_planta + costo_inv_transito  + costo_inv_cd + data3['Costo por contenedor transportado'].loc[k]*n*N+data3['Costo fijo de pedido'].loc[k]*N\n",
        "    if CostoOptimo=='':\n",
        "      CostoOptimo=Costo\n",
        "      QOptimo=Q\n",
        "      nOptimo=n\n",
        "      NOptimo=N\n",
        "    elif CostoOptimo>Costo:\n",
        "      CostoOptimo=Costo\n",
        "      QOptimo=Q\n",
        "      nOptimo=n\n",
        "      NOptimo=N\n",
        "\n",
        "  print('\\nResultado para método de transporte',k,'\\nCosto Optimo=',CostoOptimo,'\\nCon Q optimo=',QOptimo,'\\nCon n Optimo=',nOptimo,'\\nCon N Optimo=',NOptimo,'\\nInventario de seguridad anual en el centro de distribución:',SSCD)"
      ],
      "execution_count": null,
      "outputs": [
        {
          "output_type": "stream",
          "text": [
            "Demanda anual de: 4680\n",
            "\n",
            "Resultado para método de transporte Naviera Sea Mariners \n",
            "Costo Optimo= 119603.01379310346 \n",
            "Con Q optimo= 435 \n",
            "Con n Optimo= 1 \n",
            "Con N Optimo= 10.758620689655173 \n",
            "Inventario de seguridad anual en el centro de distribución: 114\n",
            "\n",
            "Resultado para método de transporte Naviera Ocean Plus \n",
            "Costo Optimo= 123343.71920199503 \n",
            "Con Q optimo= 401 \n",
            "Con n Optimo= 1 \n",
            "Con N Optimo= 11.670822942643392 \n",
            "Inventario de seguridad anual en el centro de distribución: 66\n",
            "\n",
            "Resultado para método de transporte Naviera Trading World \n",
            "Costo Optimo= 126914.08491048595 \n",
            "Con Q optimo= 391 \n",
            "Con n Optimo= 1 \n",
            "Con N Optimo= 11.969309462915602 \n",
            "Inventario de seguridad anual en el centro de distribución: 88\n"
          ],
          "name": "stdout"
        }
      ]
    },
    {
      "cell_type": "code",
      "metadata": {
        "colab": {
          "base_uri": "https://localhost:8080/"
        },
        "id": "YrleCFiElNl3",
        "outputId": "0488bbe7-c14f-4f62-b66d-ab5da03db921"
      },
      "source": [
        "print('Demanda anual de:',Danual)\n",
        "for k in data3.index:\n",
        "  QOptimo=''\n",
        "  nOptimo=''\n",
        "  CostoOptimo=''\n",
        "  Q=data3['cap'].loc[k]*data3['Contenedores disponibles por envío'].loc[k]\n",
        "  N = Danual/Q\n",
        "  n = math.ceil(Q/data3['cap'].loc[k]) #redondea hacia arriba el # de vehículos\n",
        "\n",
        "  T=Q/Danual*52\n",
        "  cprima = c + data3['Costo por contenedor transportado'].loc[k]*n/Q+ data3['Costo fijo de pedido'].loc[k]/Q\n",
        "  SSCD=round(DesvEstandarSemanal*math.sqrt(T+data3['tau'].loc[k])*norm.ppf(Alpha))\n",
        "  #SSCD2=round(norm.ppf(Alpha,loc=Dsemanal*(T+data3['tau'].loc[k]),scale=math.sqrt(DesvEstandarSemanal**2*(T+data3['tau'].loc[k])))-Dsemanal*(T+data3['tau'].loc[k]))\n",
        "  costo_inv_planta = i*c*(Q/2+SSPlanta)\n",
        "  costo_inv_cd = i*cprima*(Q/2+SSCD)\n",
        "  costo_inv_transito =  i*c*Danual*data3['tauAnual'].loc[k]\n",
        "  Costo= costo_inv_planta + costo_inv_transito  + costo_inv_cd + data3['Costo por contenedor transportado'].loc[k]*n*N+data3['Costo fijo de pedido'].loc[k]*N\n",
        "  if CostoOptimo=='':\n",
        "    CostoOptimo=Costo\n",
        "    QOptimo=Q\n",
        "    nOptimo=n\n",
        "    NOptimo=N\n",
        "  elif CostoOptimo>Costo:\n",
        "    CostoOptimo=Costo\n",
        "    QOptimo=Q\n",
        "    nOptimo=n\n",
        "    NOptimo=N\n",
        "  print('\\nResultado para método de transporte',k,'\\nCosto Optimo=',CostoOptimo,'\\nCosto Inventario planta=',costo_inv_planta,'\\nCosto Inventario cd=',costo_inv_cd,'\\nCosto Inventario en tránsito=',costo_inv_transito,'\\nCon Q optimo=',QOptimo,'\\nCon n Optimo=',nOptimo,'\\nCon N Optimo=',NOptimo,'\\nInventario de seguridad anual en el centro de distribución:',SSCD)"
      ],
      "execution_count": null,
      "outputs": [
        {
          "output_type": "stream",
          "text": [
            "Demanda anual de: 4680\n",
            "\n",
            "Resultado para método de transporte Naviera Sea Mariners \n",
            "Costo Optimo= 319131.42500000005 \n",
            "Costo Inventario planta= 150519.00000000003 \n",
            "Costo Inventario cd= 132427.92500000002 \n",
            "Costo Inventario en tránsito= 20682.000000000004 \n",
            "Con Q optimo= 3200 \n",
            "Con n Optimo= 4 \n",
            "Con N Optimo= 1.4625 \n",
            "Inventario de seguridad anual en el centro de distribución: 114\n",
            "\n",
            "Resultado para método de transporte Naviera Ocean Plus \n",
            "Costo Optimo= 138576.80000000002 \n",
            "Costo Inventario planta= 58599.00000000001 \n",
            "Costo Inventario cd= 36021.8 \n",
            "Costo Inventario en tránsito= 27576.000000000007 \n",
            "Con Q optimo= 800 \n",
            "Con n Optimo= 1 \n",
            "Con N Optimo= 5.85 \n",
            "Inventario de seguridad anual en el centro de distribución: 66\n",
            "\n",
            "Resultado para método de transporte Naviera Trading World \n",
            "Costo Optimo= 203873.80000000005 \n",
            "Costo Inventario planta= 89239.00000000001 \n",
            "Costo Inventario cd= 68464.8 \n",
            "Costo Inventario en tránsito= 34470.00000000001 \n",
            "Con Q optimo= 1600 \n",
            "Con n Optimo= 2 \n",
            "Con N Optimo= 2.925 \n",
            "Inventario de seguridad anual en el centro de distribución: 88\n"
          ],
          "name": "stdout"
        }
      ]
    }
  ]
}