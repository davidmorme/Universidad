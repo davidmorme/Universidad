{
  "nbformat": 4,
  "nbformat_minor": 0,
  "metadata": {
    "colab": {
      "name": "Caso 1.ipynb",
      "provenance": [],
      "include_colab_link": true
    },
    "kernelspec": {
      "name": "python3",
      "display_name": "Python 3"
    }
  },
  "cells": [
    {
      "cell_type": "markdown",
      "metadata": {
        "id": "view-in-github",
        "colab_type": "text"
      },
      "source": [
        "<a href=\"https://colab.research.google.com/github/davidmorme/Universidad/blob/main/Log%C3%ADstica%20II/Caso_1.ipynb\" target=\"_parent\"><img src=\"https://colab.research.google.com/assets/colab-badge.svg\" alt=\"Open In Colab\"/></a>"
      ]
    },
    {
      "cell_type": "code",
      "metadata": {
        "id": "MNtXJj3c1m7-"
      },
      "source": [
        "import math\n",
        "import numpy as np\n",
        "import pandas as pd\n",
        "import matplotlib.pyplot as plt"
      ],
      "execution_count": null,
      "outputs": []
    },
    {
      "cell_type": "code",
      "metadata": {
        "id": "sY_9pYuW1CvX"
      },
      "source": [
        "c=1524700\n",
        "i=0.2\n",
        "Cap=740\n",
        "Danual=740*4.5\n",
        "Impuesto_exportacion=0.03 #del FOB\n",
        "Formalidades_aduaneras_origen=0.05 #del FOB\n",
        "Manipulacion_origen=12000000 #/container\n",
        "Transporte_origen=7226331 #/container\n",
        "Transporte_maritimo=28683756\n",
        "Seguro=0.03 #del valor declarado\n",
        "Formalidades_aduaneras_destino=3112130 # /pedido\n",
        "Manipulacion_destino=3000000 #/container\n",
        "Comision_operador= 0.0037 # del CIF\n",
        "Transporte_destino=6608000 #/Container\n",
        "Tau=30 #días"
      ],
      "execution_count": null,
      "outputs": []
    },
    {
      "cell_type": "code",
      "metadata": {
        "colab": {
          "base_uri": "https://localhost:8080/"
        },
        "id": "Wh43PKdb5o3i",
        "outputId": "fb5047f1-2fe3-4dad-8c78-9243ebfdb0b5"
      },
      "source": [
        "CostoOptimo=''\n",
        "Qs=np.zeros(3330)\n",
        "Costos=np.zeros(3330)\n",
        "Ts=np.zeros(3330)\n",
        "for Q in range(1,3331):\n",
        "  n=math.ceil(Q/Cap)\n",
        "  N=Danual/Q\n",
        "  T=Q/Danual*12\n",
        "  FOB= (Q*c + Manipulacion_origen*n+ Transporte_origen*n)/(1-Formalidades_aduaneras_origen-Impuesto_exportacion)\n",
        "\n",
        "  Costo_Formalidades_aduaneras_origen=FOB*Formalidades_aduaneras_origen\n",
        "  Costo_Impuesto_exportacion=FOB*Impuesto_exportacion\n",
        "  Costo_Seguro=Q*c*Seguro\n",
        "\n",
        "  CIF=FOB+Transporte_maritimo*n+Costo_Seguro\n",
        "\n",
        "  Costo_Comision_operador=CIF*Comision_operador\n",
        "\n",
        "  CostoTotalImportacion=N*(CIF+Formalidades_aduaneras_destino+Manipulacion_destino*n+Transporte_destino*n+Costo_Comision_operador)\n",
        "  cprima = CostoTotalImportacion/Q/N\n",
        "  Costo_inv_bodega = i*cprima*Q/2\n",
        "  Costo_inv_transito = i*c*Danual*Tau/360\n",
        "\n",
        "  CostoTotal=CostoTotalImportacion+Costo_inv_bodega+Costo_inv_transito\n",
        "  if CostoOptimo=='':\n",
        "    CostoOptimo=CostoTotal\n",
        "    Costo_inv_bodegaOptimo=Costo_inv_bodega\n",
        "    Costo_inv_transitoOptimo=Costo_inv_transito\n",
        "    Costo_importacionOptimo=CostoTotalImportacion-c*Danual \n",
        "    QOptimo=Q\n",
        "    nOptimo=n\n",
        "    NOptimo=N\n",
        "    TOptimo=T\n",
        "  elif CostoOptimo>CostoTotal:\n",
        "    CostoOptimo=CostoTotal\n",
        "    Costo_inv_bodegaOptimo=Costo_inv_bodega\n",
        "    Costo_inv_transitoOptimo=Costo_inv_transito\n",
        "    Costo_importacionOptimo=CostoTotalImportacion-c*Danual \n",
        "    QOptimo=Q\n",
        "    nOptimo=n\n",
        "    NOptimo=N\n",
        "    TOptimo=T\n",
        "  Qs[Q-1]=Q\n",
        "  Costos[Q-1]=CostoTotal\n",
        "  Ts[Q-1]=T\n",
        "print('\\nCosto Optimo=',CostoOptimo,'\\nCon Q optimo=',QOptimo,'\\nCon n Optimo=',nOptimo,'\\nCon N Optimo=',NOptimo,'\\nCon T Optimo=',TOptimo)"
      ],
      "execution_count": null,
      "outputs": [
        {
          "output_type": "stream",
          "text": [
            "\n",
            "Costo Optimo= 6190595870.99742 \n",
            "Con Q optimo= 740 \n",
            "Con n Optimo= 1 \n",
            "Con N Optimo= 4.5 \n",
            "Con T Optimo= 2.6666666666666665\n"
          ],
          "name": "stdout"
        }
      ]
    },
    {
      "cell_type": "code",
      "metadata": {
        "colab": {
          "base_uri": "https://localhost:8080/",
          "height": 295
        },
        "id": "7EcLJLy77sdz",
        "outputId": "08a50ca8-3365-46f0-fed1-e0e03f7827c7"
      },
      "source": [
        "plt.plot(Qs,Costos)\n",
        "plt.ylim((6000000000,10000000000))\n",
        "plt.ylabel('Costo Total')\n",
        "plt.xlabel('Q')\n",
        "plt.title('Variación del costo total según Q, en FCL')\n",
        "plt.yticks([6000000000, 6500000000, 7000000000, 7500000000, 8000000000, 8500000000, 9000000000, 9500000000, 10000000000],['6MM', '6.5MM', '7MM', '7.5MM','8MM', '8.5MM','9MM', '9.5MM','10MM'])\n",
        "plt.savefig(\"Variación del costo total según Q, en FCL\")\n",
        "plt.show()"
      ],
      "execution_count": null,
      "outputs": [
        {
          "output_type": "display_data",
          "data": {
            "image/png": "[encoded data removed]",
            "text/plain": [
              "<Figure size 432x288 with 1 Axes>"
            ]
          },
          "metadata": {
            "tags": [],
            "needs_background": "light"
          }
        }
      ]
    },
    {
      "cell_type": "code",
      "metadata": {
        "colab": {
          "base_uri": "https://localhost:8080/"
        },
        "id": "L-pD6HCjAYWD",
        "outputId": "de195817-8b75-499a-cfca-d5b8765de8b1"
      },
      "source": [
        "Transporte_maritimo_parcial=Transporte_maritimo*0.7\n",
        "CostoOptimoParcial=''\n",
        "QsParciales=np.zeros(3330)\n",
        "CostosParciales=np.zeros(3330)\n",
        "TsParciales=np.zeros(3330)\n",
        "for Q in range(1,3331):\n",
        "  n=Q/Cap\n",
        "  N=Danual/Q\n",
        "  T=Q/Danual*12\n",
        "  nparcial=n%1\n",
        "  ncompleto=n//1\n",
        "  if nparcial>0.7:\n",
        "    ncompleto=ncompleto+1\n",
        "    nparcial=0\n",
        "    n=math.ceil(Q/Cap)\n",
        "  if nparcial>0:\n",
        "    Formalidades_aduaneras_destino_parcial=Formalidades_aduaneras_destino*1.5\n",
        "    Manipulacion_destino_parcial=Manipulacion_destino*1.5\n",
        "    Manipulacion_origen_parcial=Manipulacion_origen*1.5\n",
        "  else:\n",
        "    Formalidades_aduaneras_destino_parcial=Formalidades_aduaneras_destino\n",
        "    Manipulacion_destino_parcial=Manipulacion_destino\n",
        "    Manipulacion_origen_parcial=Manipulacion_origen\n",
        "  if nparcial!=0:\n",
        "    nparcial=1\n",
        "  else:\n",
        "    nparcial=0\n",
        "  FOB= (Q*c + Manipulacion_origen*ncompleto+ Manipulacion_origen_parcial*nparcial+Transporte_origen*n)/(1-Formalidades_aduaneras_origen-Impuesto_exportacion)\n",
        "\n",
        "  Costo_Formalidades_aduaneras_origen=FOB*Formalidades_aduaneras_origen\n",
        "  Costo_Impuesto_exportacion=FOB*Impuesto_exportacion\n",
        "  Costo_Seguro=Q*c*Seguro\n",
        "\n",
        "  CIF=FOB+Transporte_maritimo*ncompleto+Transporte_maritimo_parcial*nparcial+Costo_Seguro\n",
        "\n",
        "  Costo_Comision_operador=CIF*Comision_operador\n",
        "\n",
        "  CostoTotalImportacion=N*(CIF+Formalidades_aduaneras_destino_parcial+Manipulacion_destino*ncompleto+Manipulacion_destino_parcial*nparcial+Transporte_destino*n+Costo_Comision_operador)\n",
        "  cprima = CostoTotalImportacion/Q/N\n",
        "  Costo_inv_bodega = i*cprima*Q/2\n",
        "  Costo_inv_transito = i*c*Danual*Tau/360\n",
        "\n",
        "  CostoTotal=CostoTotalImportacion+Costo_inv_bodega+Costo_inv_transito\n",
        "  if CostoOptimoParcial=='':\n",
        "    CostoOptimoParcial=CostoTotal\n",
        "    Costo_inv_bodegaOptimoParcial=Costo_inv_bodega\n",
        "    Costo_inv_transitoOptimoParcial=Costo_inv_transito\n",
        "    Costo_importacionOptimoParcial=CostoTotalImportacion-c*Danual     \n",
        "    QOptimoParcial=Q\n",
        "    nOptimoParcial=n\n",
        "    NOptimoParcial=N\n",
        "    TOptimoParcial=T\n",
        "  elif CostoOptimoParcial>CostoTotal:\n",
        "    CostoOptimoParcial=CostoTotal\n",
        "    Costo_inv_bodegaOptimoParcial=Costo_inv_bodega\n",
        "    Costo_inv_transitoOptimoParcial=Costo_inv_transito\n",
        "    Costo_importacionOptimoParcial=CostoTotalImportacion-c*Danual    \n",
        "    QOptimoParcial=Q\n",
        "    nOptimoParcial=n\n",
        "    NOptimoParcial=N\n",
        "    TOptimoParcial=T\n",
        "  QsParciales[Q-1]=Q\n",
        "  CostosParciales[Q-1]=CostoTotal\n",
        "  TsParciales[Q-1]=T\n",
        "print('\\nCosto Optimo=',CostoOptimoParcial,'\\nCosto Optimo de inventario en CD=',Costo_inv_bodegaOptimoParcial,'\\nCosto Optimo de inventario en Tránsito=',Costo_inv_transitoOptimoParcial,'\\nCon Q optimo=',QOptimoParcial,'\\nCon n Optimo=',nOptimoParcial,'\\nCon N Optimo=',NOptimoParcial,'\\nCon T Optimo=',TOptimoParcial)"
      ],
      "execution_count": null,
      "outputs": [
        {
          "output_type": "stream",
          "text": [
            "\n",
            "Costo Optimo= 6190595870.99742 \n",
            "Costo Optimo de inventario en CD= 132738587.4129874 \n",
            "Costo Optimo de inventario en Tránsito= 84620850.0 \n",
            "Con Q optimo= 740 \n",
            "Con n Optimo= 1.0 \n",
            "Con N Optimo= 4.5 \n",
            "Con T Optimo= 2.6666666666666665\n"
          ],
          "name": "stdout"
        }
      ]
    },
    {
      "cell_type": "code",
      "metadata": {
        "colab": {
          "base_uri": "https://localhost:8080/",
          "height": 295
        },
        "id": "jvjL6Q_mEbfU",
        "outputId": "1bf50194-cc7c-4880-c97a-59bc63ec2bc3"
      },
      "source": [
        "plt.plot(QsParciales,CostosParciales)\n",
        "plt.ylim((6000000000,10000000000))\n",
        "plt.ylabel('Costo Total')\n",
        "plt.xlabel('Q')\n",
        "plt.title('Variación del costo total según Q, en LCL')\n",
        "plt.yticks([6000000000, 6500000000, 7000000000, 7500000000, 8000000000, 8500000000, 9000000000, 9500000000, 10000000000],['6MM', '6.5MM', '7MM', '7.5MM','8MM', '8.5MM','9MM', '9.5MM','10MM'])\n",
        "#plt.savefig(\"Variación del costo total según Q, en LCL\")\n",
        "plt.show()"
      ],
      "execution_count": null,
      "outputs": [
        {
          "output_type": "display_data",
          "data": {
            "image/png": "[encoded data removed]",
            "text/plain": [
              "<Figure size 432x288 with 1 Axes>"
            ]
          },
          "metadata": {
            "tags": [],
            "needs_background": "light"
          }
        }
      ]
    },
    {
      "cell_type": "code",
      "metadata": {
        "colab": {
          "base_uri": "https://localhost:8080/",
          "height": 295
        },
        "id": "9DbyhQy89Bp3",
        "outputId": "8e263b2d-5963-44c7-9096-386c6e31b9b9"
      },
      "source": [
        "plt.plot(Qs,Costos,label='FCL')\n",
        "plt.plot(QsParciales,CostosParciales,label='LCL')\n",
        "plt.legend()\n",
        "plt.ylim((6000000000,10000000000))\n",
        "plt.ylabel('Costo Total')\n",
        "plt.xlabel('Q')\n",
        "plt.title('Variación del costo total según Q')\n",
        "plt.yticks([6000000000, 6500000000, 7000000000, 7500000000, 8000000000, 8500000000, 9000000000, 9500000000, 10000000000],['6MM', '6.5MM', '7MM', '7.5MM','8MM', '8.5MM','9MM', '9.5MM','10MM'])\n",
        "plt.savefig(\"Variación del costo total según Q\")\n",
        "plt.show()"
      ],
      "execution_count": null,
      "outputs": [
        {
          "output_type": "display_data",
          "data": {
            "image/png": "[encoded data removed]",
            "text/plain": [
              "<Figure size 432x288 with 1 Axes>"
            ]
          },
          "metadata": {
            "tags": [],
            "needs_background": "light"
          }
        }
      ]
    },
    {
      "cell_type": "code",
      "metadata": {
        "colab": {
          "base_uri": "https://localhost:8080/",
          "height": 295
        },
        "id": "oRJYinOH-QVk",
        "outputId": "6a82d500-fa21-43f7-86cb-127a06bc7045"
      },
      "source": [
        "plt.plot(Qs,Ts,label='FCL')\n",
        "plt.plot(QsParciales,TsParciales,label='LCL')\n",
        "plt.legend()\n",
        "\n",
        "plt.ylabel('Tiempo entre pedido en meses')\n",
        "plt.xlabel('Q')\n",
        "plt.title('Variación del tiempo entre pedido según Q')\n",
        "\n",
        "#plt.savefig(\"Variación del tiempo entre pedido según Q\")\n",
        "plt.show()"
      ],
      "execution_count": null,
      "outputs": [
        {
          "output_type": "display_data",
          "data": {
            "image/png": "[encoded data removed]",
            "text/plain": [
              "<Figure size 432x288 with 1 Axes>"
            ]
          },
          "metadata": {
            "tags": [],
            "needs_background": "light"
          }
        }
      ]
    },
    {
      "cell_type": "code",
      "metadata": {
        "colab": {
          "base_uri": "https://localhost:8080/"
        },
        "id": "1dk2yYtsAsWD",
        "outputId": "810de941-c3a1-4d3b-b939-102fd535e580"
      },
      "source": [
        "dif=CostoOptimo-CostoOptimoParcial\n",
        "dif"
      ],
      "execution_count": null,
      "outputs": [
        {
          "output_type": "execute_result",
          "data": {
            "text/plain": [
              "23567365.8238945"
            ]
          },
          "metadata": {
            "tags": []
          },
          "execution_count": 144
        }
      ]
    },
    {
      "cell_type": "code",
      "metadata": {
        "colab": {
          "base_uri": "https://localhost:8080/"
        },
        "id": "2L5MAibpDD3N",
        "outputId": "41619445-edf6-41e1-c2db-eb6767048fc0"
      },
      "source": [
        "print(dif/CostoOptimoParcial*100,'%')"
      ],
      "execution_count": null,
      "outputs": [
        {
          "output_type": "stream",
          "text": [
            "0.38215107655370517 %\n"
          ],
          "name": "stdout"
        }
      ]
    },
    {
      "cell_type": "code",
      "metadata": {
        "colab": {
          "base_uri": "https://localhost:8080/",
          "height": 159
        },
        "id": "kvWWHQDi_QEn",
        "outputId": "8dff5373-e851-4d7d-b31b-ab1840e92824"
      },
      "source": [
        "Tabla = pd.DataFrame({'Opciones': ['FCL', 'LCL'],'Costo Total':[CostoOptimo, CostoOptimoParcial] , 'Tamaño de pedido':[QOptimo, QOptimoParcial],'Costo Anual de importación':[Costo_importacionOptimo,Costo_importacionOptimoParcial ], 'Costo Anual de inventario en tránsito':[Costo_inv_transitoOptimo,Costo_inv_transitoOptimoParcial],'Costo Anual de inventario en CD':[Costo_inv_bodegaOptimo,Costo_inv_bodegaOptimoParcial],'Cantidad de contenedores':[nOptimo,nOptimoParcial],'Cantidad de envíos al año':[NOptimo,NOptimoParcial]})\n",
        "Tabla.set_index('Opciones', inplace=True)\n",
        "Tabla "
      ],
      "execution_count": null,
      "outputs": [
        {
          "output_type": "execute_result",
          "data": {
            "text/html": [
              "<div>\n",
              "<style scoped>\n",
              "    .dataframe tbody tr th:only-of-type {\n",
              "        vertical-align: middle;\n",
              "    }\n",
              "\n",
              "    .dataframe tbody tr th {\n",
              "        vertical-align: top;\n",
              "    }\n",
              "\n",
              "    .dataframe thead th {\n",
              "        text-align: right;\n",
              "    }\n",
              "</style>\n",
              "<table border=\"1\" class=\"dataframe\">\n",
              "  <thead>\n",
              "    <tr style=\"text-align: right;\">\n",
              "      <th></th>\n",
              "      <th>Costo Total</th>\n",
              "      <th>Tamaño de pedido</th>\n",
              "      <th>Costo Anual de importación</th>\n",
              "      <th>Costo Anual de inventario en tránsito</th>\n",
              "      <th>Costo Anual de inventario en CD</th>\n",
              "      <th>Cantidad de contenedores</th>\n",
              "      <th>Cantidad de envíos al año</th>\n",
              "    </tr>\n",
              "    <tr>\n",
              "      <th>Opciones</th>\n",
              "      <th></th>\n",
              "      <th></th>\n",
              "      <th></th>\n",
              "      <th></th>\n",
              "      <th></th>\n",
              "      <th></th>\n",
              "      <th></th>\n",
              "    </tr>\n",
              "  </thead>\n",
              "  <tbody>\n",
              "    <tr>\n",
              "      <th>FCL</th>\n",
              "      <td>6.190596e+09</td>\n",
              "      <td>740</td>\n",
              "      <td>8.959854e+08</td>\n",
              "      <td>84620850.0</td>\n",
              "      <td>1.327386e+08</td>\n",
              "      <td>1.0</td>\n",
              "      <td>4.500000</td>\n",
              "    </tr>\n",
              "    <tr>\n",
              "      <th>LCL</th>\n",
              "      <td>6.167029e+09</td>\n",
              "      <td>518</td>\n",
              "      <td>9.119907e+08</td>\n",
              "      <td>84620850.0</td>\n",
              "      <td>9.316598e+07</td>\n",
              "      <td>0.7</td>\n",
              "      <td>6.428571</td>\n",
              "    </tr>\n",
              "  </tbody>\n",
              "</table>\n",
              "</div>"
            ],
            "text/plain": [
              "           Costo Total  ...  Cantidad de envíos al año\n",
              "Opciones                ...                           \n",
              "FCL       6.190596e+09  ...                   4.500000\n",
              "LCL       6.167029e+09  ...                   6.428571\n",
              "\n",
              "[2 rows x 7 columns]"
            ]
          },
          "metadata": {
            "tags": []
          },
          "execution_count": 146
        }
      ]
    },
    {
      "cell_type": "code",
      "metadata": {
        "id": "XkPowRGGC7xm"
      },
      "source": [
        "Utilidad=np.zeros(len(Costos))\n",
        "UtilidadParcial=np.zeros(len(Costos))\n",
        "for j in range(0,len(Costos)):\n",
        "  Utilidad[j]=Danual*3049400-Costos[j]\n",
        "  UtilidadParcial[j]=Danual*3049400-CostosParciales[j]"
      ],
      "execution_count": null,
      "outputs": []
    },
    {
      "cell_type": "code",
      "metadata": {
        "colab": {
          "base_uri": "https://localhost:8080/",
          "height": 295
        },
        "id": "c8bO7XxfC2TF",
        "outputId": "9d9b32b1-34a8-4c98-e8f3-468388cf5686"
      },
      "source": [
        "plt.plot(Qs,Utilidad,label='FCL')\n",
        "plt.plot(QsParciales,UtilidadParcial,label='LCL')\n",
        "plt.legend()\n",
        "plt.ylim((-2000000000,5000000000))\n",
        "plt.ylabel('Utilidad anual')\n",
        "plt.xlabel('Q')\n",
        "plt.title('Variación de la utilidad anual según Q')\n",
        "#plt.yticks([6000000000, 6500000000, 7000000000, 7500000000, 8000000000, 8500000000, 9000000000, 9500000000, 10000000000],['6MM', '6.5MM', '7MM', '7.5MM','8MM', '8.5MM','9MM', '9.5MM','10MM'])\n",
        "#plt.savefig(\"Variación del costo total según Q\")\n",
        "plt.show()"
      ],
      "execution_count": null,
      "outputs": [
        {
          "output_type": "display_data",
          "data": {
            "image/png": "[encoded data removed]",
            "text/plain": [
              "<Figure size 432x288 with 1 Axes>"
            ]
          },
          "metadata": {
            "tags": [],
            "needs_background": "light"
          }
        }
      ]
    },
    {
      "cell_type": "code",
      "metadata": {
        "id": "GeeCydoTklvP"
      },
      "source": [
        "Tabla.loc['Dif']=Tabla.loc['FCL']-Tabla.loc['LCL']"
      ],
      "execution_count": null,
      "outputs": []
    },
    {
      "cell_type": "code",
      "metadata": {
        "colab": {
          "base_uri": "https://localhost:8080/",
          "height": 190
        },
        "id": "REyb7Ppkkz7-",
        "outputId": "7f50cd15-dd6c-45d5-916e-5b2f928d0780"
      },
      "source": [
        "Tabla"
      ],
      "execution_count": null,
      "outputs": [
        {
          "output_type": "execute_result",
          "data": {
            "text/html": [
              "<div>\n",
              "<style scoped>\n",
              "    .dataframe tbody tr th:only-of-type {\n",
              "        vertical-align: middle;\n",
              "    }\n",
              "\n",
              "    .dataframe tbody tr th {\n",
              "        vertical-align: top;\n",
              "    }\n",
              "\n",
              "    .dataframe thead th {\n",
              "        text-align: right;\n",
              "    }\n",
              "</style>\n",
              "<table border=\"1\" class=\"dataframe\">\n",
              "  <thead>\n",
              "    <tr style=\"text-align: right;\">\n",
              "      <th></th>\n",
              "      <th>Costo Total</th>\n",
              "      <th>Tamaño de pedido</th>\n",
              "      <th>Costo Anual de importación</th>\n",
              "      <th>Costo Anual de inventario en tránsito</th>\n",
              "      <th>Costo Anual de inventario en CD</th>\n",
              "      <th>Cantidad de contenedores</th>\n",
              "      <th>Cantidad de envíos al año</th>\n",
              "    </tr>\n",
              "    <tr>\n",
              "      <th>Opciones</th>\n",
              "      <th></th>\n",
              "      <th></th>\n",
              "      <th></th>\n",
              "      <th></th>\n",
              "      <th></th>\n",
              "      <th></th>\n",
              "      <th></th>\n",
              "    </tr>\n",
              "  </thead>\n",
              "  <tbody>\n",
              "    <tr>\n",
              "      <th>FCL</th>\n",
              "      <td>6.190596e+09</td>\n",
              "      <td>740.0</td>\n",
              "      <td>8.959854e+08</td>\n",
              "      <td>84620850.0</td>\n",
              "      <td>1.327386e+08</td>\n",
              "      <td>1.0</td>\n",
              "      <td>4.500000</td>\n",
              "    </tr>\n",
              "    <tr>\n",
              "      <th>LCL</th>\n",
              "      <td>6.167029e+09</td>\n",
              "      <td>518.0</td>\n",
              "      <td>9.119907e+08</td>\n",
              "      <td>84620850.0</td>\n",
              "      <td>9.316598e+07</td>\n",
              "      <td>0.7</td>\n",
              "      <td>6.428571</td>\n",
              "    </tr>\n",
              "    <tr>\n",
              "      <th>Dif</th>\n",
              "      <td>2.356737e+07</td>\n",
              "      <td>222.0</td>\n",
              "      <td>-1.600524e+07</td>\n",
              "      <td>0.0</td>\n",
              "      <td>3.957261e+07</td>\n",
              "      <td>0.3</td>\n",
              "      <td>-1.928571</td>\n",
              "    </tr>\n",
              "  </tbody>\n",
              "</table>\n",
              "</div>"
            ],
            "text/plain": [
              "           Costo Total  ...  Cantidad de envíos al año\n",
              "Opciones                ...                           \n",
              "FCL       6.190596e+09  ...                   4.500000\n",
              "LCL       6.167029e+09  ...                   6.428571\n",
              "Dif       2.356737e+07  ...                  -1.928571\n",
              "\n",
              "[3 rows x 7 columns]"
            ]
          },
          "metadata": {
            "tags": []
          },
          "execution_count": 150
        }
      ]
    }
  ]
}