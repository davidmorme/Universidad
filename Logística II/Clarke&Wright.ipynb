{
  "nbformat": 4,
  "nbformat_minor": 0,
  "metadata": {
    "colab": {
      "name": "Clarke&Wright.ipynb",
      "provenance": [],
      "collapsed_sections": [],
      "include_colab_link": true
    },
    "kernelspec": {
      "name": "python3",
      "display_name": "Python 3"
    },
    "language_info": {
      "name": "python"
    }
  },
  "cells": [
    {
      "cell_type": "markdown",
      "metadata": {
        "id": "view-in-github",
        "colab_type": "text"
      },
      "source": [
        "<a href=\"https://colab.research.google.com/github/davidmorme/Universidad/blob/main/Log%C3%ADstica%20II/Clarke%26Wright.ipynb\" target=\"_parent\"><img src=\"https://colab.research.google.com/assets/colab-badge.svg\" alt=\"Open In Colab\"/></a>"
      ]
    },
    {
      "cell_type": "markdown",
      "metadata": {
        "id": "Gkow4VCw5Kip"
      },
      "source": [
        "Algoritmo de Clarke & Wright <br>\n",
        "por Gonzalo Mejía <br>\n",
        "Universidad de La Sabana <br>\n"
      ]
    },
    {
      "cell_type": "code",
      "metadata": {
        "id": "Mbyx4-Cp2IQK"
      },
      "source": [
        "import pandas as pd\n",
        "import numpy as np"
      ],
      "execution_count": null,
      "outputs": []
    },
    {
      "cell_type": "code",
      "metadata": {
        "colab": {
          "resources": {
            "http://localhost:8080/nbextensions/google.colab/files.js": {
              "data": "Ly8gQ29weXJpZ2h0IDIwMTcgR29vZ2xlIExMQwovLwovLyBMaWNlbnNlZCB1bmRlciB0aGUgQXBhY2hlIExpY2Vuc2UsIFZlcnNpb24gMi4wICh0aGUgIkxpY2Vuc2UiKTsKLy8geW91IG1heSBub3QgdXNlIHRoaXMgZmlsZSBleGNlcHQgaW4gY29tcGxpYW5jZSB3aXRoIHRoZSBMaWNlbnNlLgovLyBZb3UgbWF5IG9idGFpbiBhIGNvcHkgb2YgdGhlIExpY2Vuc2UgYXQKLy8KLy8gICAgICBodHRwOi8vd3d3LmFwYWNoZS5vcmcvbGljZW5zZXMvTElDRU5TRS0yLjAKLy8KLy8gVW5sZXNzIHJlcXVpcmVkIGJ5IGFwcGxpY2FibGUgbGF3IG9yIGFncmVlZCB0byBpbiB3cml0aW5nLCBzb2Z0d2FyZQovLyBkaXN0cmlidXRlZCB1bmRlciB0aGUgTGljZW5zZSBpcyBkaXN0cmlidXRlZCBvbiBhbiAiQVMgSVMiIEJBU0lTLAovLyBXSVRIT1VUIFdBUlJBTlRJRVMgT1IgQ09ORElUSU9OUyBPRiBBTlkgS0lORCwgZWl0aGVyIGV4cHJlc3Mgb3IgaW1wbGllZC4KLy8gU2VlIHRoZSBMaWNlbnNlIGZvciB0aGUgc3BlY2lmaWMgbGFuZ3VhZ2UgZ292ZXJuaW5nIHBlcm1pc3Npb25zIGFuZAovLyBsaW1pdGF0aW9ucyB1bmRlciB0aGUgTGljZW5zZS4KCi8qKgogKiBAZmlsZW92ZXJ2aWV3IEhlbHBlcnMgZm9yIGdvb2dsZS5jb2xhYiBQeXRob24gbW9kdWxlLgogKi8KKGZ1bmN0aW9uKHNjb3BlKSB7CmZ1bmN0aW9uIHNwYW4odGV4dCwgc3R5bGVBdHRyaWJ1dGVzID0ge30pIHsKICBjb25zdCBlbGVtZW50ID0gZG9jdW1lbnQuY3JlYXRlRWxlbWVudCgnc3BhbicpOwogIGVsZW1lbnQudGV4dENvbnRlbnQgPSB0ZXh0OwogIGZvciAoY29uc3Qga2V5IG9mIE9iamVjdC5rZXlzKHN0eWxlQXR0cmlidXRlcykpIHsKICAgIGVsZW1lbnQuc3R5bGVba2V5XSA9IHN0eWxlQXR0cmlidXRlc1trZXldOwogIH0KICByZXR1cm4gZWxlbWVudDsKfQoKLy8gTWF4IG51bWJlciBvZiBieXRlcyB3aGljaCB3aWxsIGJlIHVwbG9hZGVkIGF0IGEgdGltZS4KY29uc3QgTUFYX1BBWUxPQURfU0laRSA9IDEwMCAqIDEwMjQ7CgpmdW5jdGlvbiBfdXBsb2FkRmlsZXMoaW5wdXRJZCwgb3V0cHV0SWQpIHsKICBjb25zdCBzdGVwcyA9IHVwbG9hZEZpbGVzU3RlcChpbnB1dElkLCBvdXRwdXRJZCk7CiAgY29uc3Qgb3V0cHV0RWxlbWVudCA9IGRvY3VtZW50LmdldEVsZW1lbnRCeUlkKG91dHB1dElkKTsKICAvLyBDYWNoZSBzdGVwcyBvbiB0aGUgb3V0cHV0RWxlbWVudCB0byBtYWtlIGl0IGF2YWlsYWJsZSBmb3IgdGhlIG5leHQgY2FsbAogIC8vIHRvIHVwbG9hZEZpbGVzQ29udGludWUgZnJvbSBQeXRob24uCiAgb3V0cHV0RWxlbWVudC5zdGVwcyA9IHN0ZXBzOwoKICByZXR1cm4gX3VwbG9hZEZpbGVzQ29udGludWUob3V0cHV0SWQpOwp9CgovLyBUaGlzIGlzIHJvdWdobHkgYW4gYXN5bmMgZ2VuZXJhdG9yIChub3Qgc3VwcG9ydGVkIGluIHRoZSBicm93c2VyIHlldCksCi8vIHdoZXJlIHRoZXJlIGFyZSBtdWx0aXBsZSBhc3luY2hyb25vdXMgc3RlcHMgYW5kIHRoZSBQeXRob24gc2lkZSBpcyBnb2luZwovLyB0byBwb2xsIGZvciBjb21wbGV0aW9uIG9mIGVhY2ggc3RlcC4KLy8gVGhpcyB1c2VzIGEgUHJvbWlzZSB0byBibG9jayB0aGUgcHl0aG9uIHNpZGUgb24gY29tcGxldGlvbiBvZiBlYWNoIHN0ZXAsCi8vIHRoZW4gcGFzc2VzIHRoZSByZXN1bHQgb2YgdGhlIHByZXZpb3VzIHN0ZXAgYXMgdGhlIGlucHV0IHRvIHRoZSBuZXh0IHN0ZXAuCmZ1bmN0aW9uIF91cGxvYWRGaWxlc0NvbnRpbnVlKG91dHB1dElkKSB7CiAgY29uc3Qgb3V0cHV0RWxlbWVudCA9IGRvY3VtZW50LmdldEVsZW1lbnRCeUlkKG91dHB1dElkKTsKICBjb25zdCBzdGVwcyA9IG91dHB1dEVsZW1lbnQuc3RlcHM7CgogIGNvbnN0IG5leHQgPSBzdGVwcy5uZXh0KG91dHB1dEVsZW1lbnQubGFzdFByb21pc2VWYWx1ZSk7CiAgcmV0dXJuIFByb21pc2UucmVzb2x2ZShuZXh0LnZhbHVlLnByb21pc2UpLnRoZW4oKHZhbHVlKSA9PiB7CiAgICAvLyBDYWNoZSB0aGUgbGFzdCBwcm9taXNlIHZhbHVlIHRvIG1ha2UgaXQgYXZhaWxhYmxlIHRvIHRoZSBuZXh0CiAgICAvLyBzdGVwIG9mIHRoZSBnZW5lcmF0b3IuCiAgICBvdXRwdXRFbGVtZW50Lmxhc3RQcm9taXNlVmFsdWUgPSB2YWx1ZTsKICAgIHJldHVybiBuZXh0LnZhbHVlLnJlc3BvbnNlOwogIH0pOwp9CgovKioKICogR2VuZXJhdG9yIGZ1bmN0aW9uIHdoaWNoIGlzIGNhbGxlZCBiZXR3ZWVuIGVhY2ggYXN5bmMgc3RlcCBvZiB0aGUgdXBsb2FkCiAqIHByb2Nlc3MuCiAqIEBwYXJhbSB7c3RyaW5nfSBpbnB1dElkIEVsZW1lbnQgSUQgb2YgdGhlIGlucHV0IGZpbGUgcGlja2VyIGVsZW1lbnQuCiAqIEBwYXJhbSB7c3RyaW5nfSBvdXRwdXRJZCBFbGVtZW50IElEIG9mIHRoZSBvdXRwdXQgZGlzcGxheS4KICogQHJldHVybiB7IUl0ZXJhYmxlPCFPYmplY3Q+fSBJdGVyYWJsZSBvZiBuZXh0IHN0ZXBzLgogKi8KZnVuY3Rpb24qIHVwbG9hZEZpbGVzU3RlcChpbnB1dElkLCBvdXRwdXRJZCkgewogIGNvbnN0IGlucHV0RWxlbWVudCA9IGRvY3VtZW50LmdldEVsZW1lbnRCeUlkKGlucHV0SWQpOwogIGlucHV0RWxlbWVudC5kaXNhYmxlZCA9IGZhbHNlOwoKICBjb25zdCBvdXRwdXRFbGVtZW50ID0gZG9jdW1lbnQuZ2V0RWxlbWVudEJ5SWQob3V0cHV0SWQpOwogIG91dHB1dEVsZW1lbnQuaW5uZXJIVE1MID0gJyc7CgogIGNvbnN0IHBpY2tlZFByb21pc2UgPSBuZXcgUHJvbWlzZSgocmVzb2x2ZSkgPT4gewogICAgaW5wdXRFbGVtZW50LmFkZEV2ZW50TGlzdGVuZXIoJ2NoYW5nZScsIChlKSA9PiB7CiAgICAgIHJlc29sdmUoZS50YXJnZXQuZmlsZXMpOwogICAgfSk7CiAgfSk7CgogIGNvbnN0IGNhbmNlbCA9IGRvY3VtZW50LmNyZWF0ZUVsZW1lbnQoJ2J1dHRvbicpOwogIGlucHV0RWxlbWVudC5wYXJlbnRFbGVtZW50LmFwcGVuZENoaWxkKGNhbmNlbCk7CiAgY2FuY2VsLnRleHRDb250ZW50ID0gJ0NhbmNlbCB1cGxvYWQnOwogIGNvbnN0IGNhbmNlbFByb21pc2UgPSBuZXcgUHJvbWlzZSgocmVzb2x2ZSkgPT4gewogICAgY2FuY2VsLm9uY2xpY2sgPSAoKSA9PiB7CiAgICAgIHJlc29sdmUobnVsbCk7CiAgICB9OwogIH0pOwoKICAvLyBXYWl0IGZvciB0aGUgdXNlciB0byBwaWNrIHRoZSBmaWxlcy4KICBjb25zdCBmaWxlcyA9IHlpZWxkIHsKICAgIHByb21pc2U6IFByb21pc2UucmFjZShbcGlja2VkUHJvbWlzZSwgY2FuY2VsUHJvbWlzZV0pLAogICAgcmVzcG9uc2U6IHsKICAgICAgYWN0aW9uOiAnc3RhcnRpbmcnLAogICAgfQogIH07CgogIGNhbmNlbC5yZW1vdmUoKTsKCiAgLy8gRGlzYWJsZSB0aGUgaW5wdXQgZWxlbWVudCBzaW5jZSBmdXJ0aGVyIHBpY2tzIGFyZSBub3QgYWxsb3dlZC4KICBpbnB1dEVsZW1lbnQuZGlzYWJsZWQgPSB0cnVlOwoKICBpZiAoIWZpbGVzKSB7CiAgICByZXR1cm4gewogICAgICByZXNwb25zZTogewogICAgICAgIGFjdGlvbjogJ2NvbXBsZXRlJywKICAgICAgfQogICAgfTsKICB9CgogIGZvciAoY29uc3QgZmlsZSBvZiBmaWxlcykgewogICAgY29uc3QgbGkgPSBkb2N1bWVudC5jcmVhdGVFbGVtZW50KCdsaScpOwogICAgbGkuYXBwZW5kKHNwYW4oZmlsZS5uYW1lLCB7Zm9udFdlaWdodDogJ2JvbGQnfSkpOwogICAgbGkuYXBwZW5kKHNwYW4oCiAgICAgICAgYCgke2ZpbGUudHlwZSB8fCAnbi9hJ30pIC0gJHtmaWxlLnNpemV9IGJ5dGVzLCBgICsKICAgICAgICBgbGFzdCBtb2RpZmllZDogJHsKICAgICAgICAgICAgZmlsZS5sYXN0TW9kaWZpZWREYXRlID8gZmlsZS5sYXN0TW9kaWZpZWREYXRlLnRvTG9jYWxlRGF0ZVN0cmluZygpIDoKICAgICAgICAgICAgICAgICAgICAgICAgICAgICAgICAgICAgJ24vYSd9IC0gYCkpOwogICAgY29uc3QgcGVyY2VudCA9IHNwYW4oJzAlIGRvbmUnKTsKICAgIGxpLmFwcGVuZENoaWxkKHBlcmNlbnQpOwoKICAgIG91dHB1dEVsZW1lbnQuYXBwZW5kQ2hpbGQobGkpOwoKICAgIGNvbnN0IGZpbGVEYXRhUHJvbWlzZSA9IG5ldyBQcm9taXNlKChyZXNvbHZlKSA9PiB7CiAgICAgIGNvbnN0IHJlYWRlciA9IG5ldyBGaWxlUmVhZGVyKCk7CiAgICAgIHJlYWRlci5vbmxvYWQgPSAoZSkgPT4gewogICAgICAgIHJlc29sdmUoZS50YXJnZXQucmVzdWx0KTsKICAgICAgfTsKICAgICAgcmVhZGVyLnJlYWRBc0FycmF5QnVmZmVyKGZpbGUpOwogICAgfSk7CiAgICAvLyBXYWl0IGZvciB0aGUgZGF0YSB0byBiZSByZWFkeS4KICAgIGxldCBmaWxlRGF0YSA9IHlpZWxkIHsKICAgICAgcHJvbWlzZTogZmlsZURhdGFQcm9taXNlLAogICAgICByZXNwb25zZTogewogICAgICAgIGFjdGlvbjogJ2NvbnRpbnVlJywKICAgICAgfQogICAgfTsKCiAgICAvLyBVc2UgYSBjaHVua2VkIHNlbmRpbmcgdG8gYXZvaWQgbWVzc2FnZSBzaXplIGxpbWl0cy4gU2VlIGIvNjIxMTU2NjAuCiAgICBsZXQgcG9zaXRpb24gPSAwOwogICAgZG8gewogICAgICBjb25zdCBsZW5ndGggPSBNYXRoLm1pbihmaWxlRGF0YS5ieXRlTGVuZ3RoIC0gcG9zaXRpb24sIE1BWF9QQVlMT0FEX1NJWkUpOwogICAgICBjb25zdCBjaHVuayA9IG5ldyBVaW50OEFycmF5KGZpbGVEYXRhLCBwb3NpdGlvbiwgbGVuZ3RoKTsKICAgICAgcG9zaXRpb24gKz0gbGVuZ3RoOwoKICAgICAgY29uc3QgYmFzZTY0ID0gYnRvYShTdHJpbmcuZnJvbUNoYXJDb2RlLmFwcGx5KG51bGwsIGNodW5rKSk7CiAgICAgIHlpZWxkIHsKICAgICAgICByZXNwb25zZTogewogICAgICAgICAgYWN0aW9uOiAnYXBwZW5kJywKICAgICAgICAgIGZpbGU6IGZpbGUubmFtZSwKICAgICAgICAgIGRhdGE6IGJhc2U2NCwKICAgICAgICB9LAogICAgICB9OwoKICAgICAgbGV0IHBlcmNlbnREb25lID0gZmlsZURhdGEuYnl0ZUxlbmd0aCA9PT0gMCA/CiAgICAgICAgICAxMDAgOgogICAgICAgICAgTWF0aC5yb3VuZCgocG9zaXRpb24gLyBmaWxlRGF0YS5ieXRlTGVuZ3RoKSAqIDEwMCk7CiAgICAgIHBlcmNlbnQudGV4dENvbnRlbnQgPSBgJHtwZXJjZW50RG9uZX0lIGRvbmVgOwoKICAgIH0gd2hpbGUgKHBvc2l0aW9uIDwgZmlsZURhdGEuYnl0ZUxlbmd0aCk7CiAgfQoKICAvLyBBbGwgZG9uZS4KICB5aWVsZCB7CiAgICByZXNwb25zZTogewogICAgICBhY3Rpb246ICdjb21wbGV0ZScsCiAgICB9CiAgfTsKfQoKc2NvcGUuZ29vZ2xlID0gc2NvcGUuZ29vZ2xlIHx8IHt9OwpzY29wZS5nb29nbGUuY29sYWIgPSBzY29wZS5nb29nbGUuY29sYWIgfHwge307CnNjb3BlLmdvb2dsZS5jb2xhYi5fZmlsZXMgPSB7CiAgX3VwbG9hZEZpbGVzLAogIF91cGxvYWRGaWxlc0NvbnRpbnVlLAp9Owp9KShzZWxmKTsK",
              "ok": true,
              "headers": [
                [
                  "content-type",
                  "application/javascript"
                ]
              ],
              "status": 200,
              "status_text": ""
            }
          },
          "base_uri": "https://localhost:8080/",
          "height": 72
        },
        "id": "nlsLT8hGzmCo",
        "outputId": "1e00da92-bf57-4ab6-8bb6-dd97978c0b31"
      },
      "source": [
        "from google.colab import files\n",
        "uploaded = files.upload() #carga de archivos"
      ],
      "execution_count": null,
      "outputs": [
        {
          "output_type": "display_data",
          "data": {
            "text/html": [
              "\n",
              "     <input type=\"file\" id=\"files-ba635855-8576-48ca-802f-c52459b10917\" name=\"files[]\" multiple disabled\n",
              "        style=\"border:none\" />\n",
              "     <output id=\"result-ba635855-8576-48ca-802f-c52459b10917\">\n",
              "      Upload widget is only available when the cell has been executed in the\n",
              "      current browser session. Please rerun this cell to enable.\n",
              "      </output>\n",
              "      <script src=\"/nbextensions/google.colab/files.js\"></script> "
            ],
            "text/plain": [
              "<IPython.core.display.HTML object>"
            ]
          },
          "metadata": {}
        },
        {
          "output_type": "stream",
          "name": "stdout",
          "text": [
            "Saving Libro1.xlsx to Libro1.xlsx\n"
          ]
        }
      ]
    },
    {
      "cell_type": "markdown",
      "metadata": {
        "id": "TMgbPQDA0cIh"
      },
      "source": [
        "# Algoritmo C&W\n",
        "1. Calcular matriz de ahorros\n",
        "2. Iniciar rutas\n",
        "3. Hallar mayor ahorro\n",
        "4. Evaluar ahorro:\n",
        "    a) Si cumple las restricciones:\n",
        "        Anular fila y columna\n",
        "        Consolidar rutas\n",
        "    b) Si no:\n",
        "        Anular celda\n",
        "5. Continuar hasta que no haya más rutas que consolidar"
      ]
    },
    {
      "cell_type": "code",
      "metadata": {
        "id": "sW7buCHX0xaF"
      },
      "source": [
        "  def ahorros():\n",
        "    '''\n",
        "    Calcula la matriz de ahorros\n",
        "    input: matriz de distancias n x n\n",
        "    return: un arreglo numpy de n x n\n",
        "    '''\n",
        "    n = dij.shape[0]\n",
        "    sav = np.zeros(dij.shape)\n",
        "    for i in range(n):\n",
        "          for j in range(n):\n",
        "              if (i == j or i==0 or j==0):\n",
        "                  sav[i,j] = -1\n",
        "              else:\n",
        "                  sav[i,j] = dij[i,0]+dij[0,j]-dij[i,j]\n",
        "    sav= sav.astype(int)            \n",
        "    return sav"
      ],
      "execution_count": null,
      "outputs": []
    },
    {
      "cell_type": "code",
      "metadata": {
        "id": "yq-4X8Uj04Yy"
      },
      "source": [
        "def anular_f_c(f_c):\n",
        "  '''\n",
        "  Anula la fila y la columna en la matriz de ahorros\n",
        "  input: la tupla (fila, columna)\n",
        "  return:\n",
        "  '''\n",
        "  global sij\n",
        "  sij[f_c[0]]=-1\n",
        "  sij[:,f_c[1]]=-1"
      ],
      "execution_count": null,
      "outputs": []
    },
    {
      "cell_type": "code",
      "metadata": {
        "id": "C9td7pzX057H"
      },
      "source": [
        "def anular_celda(f_c):\n",
        "  '''\n",
        "  Anula la fila y la columna en la matriz de ahorros\n",
        "  input: la tupla (fila, columna)\n",
        "  return:\n",
        "  '''\n",
        "  global sij\n",
        "  sij[f_c[0], f_c[1]]=-1"
      ],
      "execution_count": null,
      "outputs": []
    },
    {
      "cell_type": "code",
      "metadata": {
        "id": "CMG5Z5b409C-"
      },
      "source": [
        "def max_ahorro(): \n",
        "  '''\n",
        "  devuelve una tupla con los índices de la matriz de ahorros\n",
        "  '''\n",
        "  index_s = np.unravel_index(np.argmax(sij, axis=None), sij.shape)\n",
        "  eval_ah(index_s)\n",
        "  return index_s"
      ],
      "execution_count": null,
      "outputs": []
    },
    {
      "cell_type": "code",
      "metadata": {
        "id": "NiYVE96k1KNf"
      },
      "source": [
        "def iniciar_rutas():\n",
        "  '''\n",
        "  Crea las rutas iniciales\n",
        "  input: la matriz de distancias\n",
        "  return\n",
        "  '''\n",
        "  rutas = [] #lista vacía\n",
        "  n = dij.shape[0]\n",
        "  for i in range(1,n):\n",
        "      rutas.append([0,i,0])\n",
        "  return rutas"
      ],
      "execution_count": null,
      "outputs": []
    },
    {
      "cell_type": "code",
      "metadata": {
        "id": "Acyvzb8Y1Ni1"
      },
      "source": [
        "def dist_ruta(ruta): \n",
        "  '''\n",
        "  Devuelve la distancia de una ruta (list)\n",
        "  Input: una ruta (list)\n",
        "  Return: distancia de la ruta\n",
        "  '''\n",
        "  dist_total=0\n",
        "  for i in range(len(ruta)-1):\n",
        "      dist_total=dist_total+ dij[ruta[i], ruta[i+1]]\n",
        "  return dist_total  "
      ],
      "execution_count": null,
      "outputs": []
    },
    {
      "cell_type": "code",
      "metadata": {
        "id": "fPgJhpJS0YmQ"
      },
      "source": [
        "  def eval_ah(ahorro):\n",
        "    '''\n",
        "    Evalúa el ahorro\n",
        "    Input. Una tupla con los índices del ahorro\n",
        "    Return:\n",
        "    '''\n",
        "   \n",
        "    r1 = input(f'¿{ahorro[0]} y {ahorro[1]} están en diferentes rutas? S/N ')\n",
        "    r2 = input(f'¿Existen los enlaces {ahorro[0]},0 y 0,{ahorro[1]}? S/N ')\n",
        "    r3 = input(f'¿Se cumplen todas las restricciones? S/N ')\n",
        "    cond1=False\n",
        "    cond2=False\n",
        "    cond3=False\n",
        "    if r1.lower() == 's':\n",
        "        cond1 = True\n",
        "    elif r1.lower() == 'n':\n",
        "        cond1 = False\n",
        "    if r2.lower() == 's':\n",
        "        cond2 =True\n",
        "    elif r2.lower() == 'n':\n",
        "        cond2 =False\n",
        "    if r3.lower() == 's':\n",
        "        cond3 =True\n",
        "    elif r3.lower() == 'n':\n",
        "        cond3 =False\n",
        "    if cond1 and cond2 and cond3:\n",
        "        print('Eliminar fila', ahorro[0] , ' y columna ', ahorro[1])\n",
        "    else:\n",
        "        print('Eliminar celda', ahorro[0] ,',', ahorro[1])\n",
        "   \n",
        "    "
      ],
      "execution_count": null,
      "outputs": []
    },
    {
      "cell_type": "code",
      "metadata": {
        "id": "uz75T3hS1Qp8"
      },
      "source": [
        "df = pd.read_excel('Libro1.xlsx', index_col='dij', sheet_name='Hoja1') #lee la matriz y la asigna a un dataframe\n",
        "df.columns = df.columns.astype(str)\n",
        "df.index = df.index.astype(str)\n",
        "dij = df.to_numpy() # crea la matriz dij como un array de numpy\n",
        "sij = np.zeros(dij.shape)"
      ],
      "execution_count": null,
      "outputs": []
    },
    {
      "cell_type": "code",
      "metadata": {
        "colab": {
          "base_uri": "https://localhost:8080/"
        },
        "id": "RB0vxCDxjDw-",
        "outputId": "02ae5307-cf59-43a7-9c13-464e5f788de8"
      },
      "source": [
        "sij= ahorros()\n",
        "sij"
      ],
      "execution_count": null,
      "outputs": [
        {
          "output_type": "execute_result",
          "data": {
            "text/plain": [
              "array([[-1, -1, -1, -1, -1, -1, -1, -1, -1],\n",
              "       [-1, -1, 22,  2, 22, 22, 18,  2, 22],\n",
              "       [-1, 22, -1,  6, 30, 30, 22,  6, 26],\n",
              "       [-1,  2,  6, -1,  6,  6,  6,  8,  6],\n",
              "       [-1, 22, 30,  6, -1, 40, 28,  8, 32],\n",
              "       [-1, 22, 30,  6, 40, -1, 34,  8, 48],\n",
              "       [-1, 18, 22,  6, 28, 34, -1,  8, 34],\n",
              "       [-1,  2,  6,  8,  8,  8,  8, -1,  8],\n",
              "       [-1, 22, 26,  6, 32, 48, 34,  8, -1]])"
            ]
          },
          "metadata": {},
          "execution_count": 12
        }
      ]
    },
    {
      "cell_type": "code",
      "metadata": {
        "colab": {
          "base_uri": "https://localhost:8080/"
        },
        "id": "l5IE21anjtTg",
        "outputId": "6a572b04-00a7-4ca6-d2e5-e9654705be2c"
      },
      "source": [
        "rutas=iniciar_rutas()\n",
        "rutas"
      ],
      "execution_count": null,
      "outputs": [
        {
          "output_type": "execute_result",
          "data": {
            "text/plain": [
              "[[0, 1, 0],\n",
              " [0, 2, 0],\n",
              " [0, 3, 0],\n",
              " [0, 4, 0],\n",
              " [0, 5, 0],\n",
              " [0, 6, 0],\n",
              " [0, 7, 0],\n",
              " [0, 8, 0]]"
            ]
          },
          "metadata": {},
          "execution_count": 13
        }
      ]
    },
    {
      "cell_type": "code",
      "metadata": {
        "colab": {
          "base_uri": "https://localhost:8080/"
        },
        "id": "EOsQcjCaj4qa",
        "outputId": "8ec3cdbd-10b1-4125-ee7a-41687dff7f03"
      },
      "source": [
        "ah=max_ahorro()\n",
        "ah"
      ],
      "execution_count": null,
      "outputs": [
        {
          "output_type": "stream",
          "name": "stdout",
          "text": [
            "¿6 y 3 están en diferentes rutas? S/N S\n",
            "¿Existen los enlaces 6,0 y 0,3? S/N S\n",
            "¿Se cumplen todas las restricciones? S/N S\n",
            "Eliminar fila 6  y columna  3\n"
          ]
        },
        {
          "output_type": "execute_result",
          "data": {
            "text/plain": [
              "(6, 3)"
            ]
          },
          "metadata": {},
          "execution_count": 41
        }
      ]
    },
    {
      "cell_type": "code",
      "metadata": {
        "id": "YQOX7X0bkbfc"
      },
      "source": [
        "anular_f_c(ah)"
      ],
      "execution_count": null,
      "outputs": []
    },
    {
      "cell_type": "code",
      "metadata": {
        "id": "u54rWUPaloiL"
      },
      "source": [
        "anular_celda(ah)"
      ],
      "execution_count": null,
      "outputs": []
    },
    {
      "cell_type": "code",
      "metadata": {
        "colab": {
          "base_uri": "https://localhost:8080/"
        },
        "id": "dJSmCks7x1a9",
        "outputId": "92d7f75f-db3e-4cdb-a875-bea95ac7593b"
      },
      "source": [
        "rutas.remove([0, 1, 2, 4, 5, 8, 6, 0])\n",
        "rutas.remove([0,3,7,0])\n",
        "rutas.append([0, 1, 2, 4, 5, 8, 6,3,7, 0])\n",
        "rutas"
      ],
      "execution_count": null,
      "outputs": [
        {
          "output_type": "execute_result",
          "data": {
            "text/plain": [
              "[[0, 1, 2, 4, 5, 8, 6, 3, 7, 0]]"
            ]
          },
          "metadata": {},
          "execution_count": 45
        }
      ]
    },
    {
      "cell_type": "code",
      "metadata": {
        "colab": {
          "base_uri": "https://localhost:8080/"
        },
        "id": "_ESBQOQikz92",
        "outputId": "b6723ed9-d8ba-4e9b-b433-bef046327b71"
      },
      "source": [
        "rutas.remove([0,1, 6,2,3,4,5,0])\n",
        "rutas.remove([0, 7, 0])\n",
        "rutas.append([0,7,1, 6,2,3,4,5,0])\n",
        "rutas"
      ],
      "execution_count": null,
      "outputs": [
        {
          "output_type": "execute_result",
          "data": {
            "text/plain": [
              "[[0, 7, 1, 6, 2, 3, 4, 5, 0]]"
            ]
          },
          "metadata": {
            "tags": []
          },
          "execution_count": 38
        }
      ]
    },
    {
      "cell_type": "code",
      "metadata": {
        "colab": {
          "base_uri": "https://localhost:8080/"
        },
        "id": "cWgIrzBNnkI9",
        "outputId": "34ce2845-85c6-4245-fd3c-6d5069576b64"
      },
      "source": [
        "ah"
      ],
      "execution_count": null,
      "outputs": [
        {
          "output_type": "execute_result",
          "data": {
            "text/plain": [
              "(5, 10)"
            ]
          },
          "metadata": {
            "tags": []
          },
          "execution_count": 74
        }
      ]
    },
    {
      "cell_type": "code",
      "metadata": {
        "colab": {
          "base_uri": "https://localhost:8080/"
        },
        "id": "PVtqjqQ8luUl",
        "outputId": "11e5a7dd-811f-4f3c-b35d-53c0ea272c1d"
      },
      "source": [
        "ah=max_ahorro()"
      ],
      "execution_count": null,
      "outputs": [
        {
          "output_type": "stream",
          "text": [
            "¿3 y 1 están en diferentes rutas? S/N S\n",
            "¿Existen los enlaces 3,0 y 0,1? S/N S\n",
            "¿Se cumplen todas las restricciones? S/N S\n",
            "Eliminar fila 3  y columna  1\n"
          ],
          "name": "stdout"
        }
      ]
    },
    {
      "cell_type": "code",
      "metadata": {
        "id": "eqfkxK1dl1-m"
      },
      "source": [
        "anular_f_c(ah)"
      ],
      "execution_count": null,
      "outputs": []
    },
    {
      "cell_type": "code",
      "metadata": {
        "colab": {
          "base_uri": "https://localhost:8080/"
        },
        "id": "SCME7ZAqmDhC",
        "outputId": "59293441-eecd-4a76-a282-e7e4589805dd"
      },
      "source": [
        "rutas.remove([0, 2, 8, 6, 3, 0])\n",
        "rutas.remove([0, 1, 7, 9, 5, 10, 0])\n",
        "rutas.append([0, 2, 8, 6,3, 1, 7, 9, 5, 10, 0])\n",
        "rutas"
      ],
      "execution_count": null,
      "outputs": [
        {
          "output_type": "execute_result",
          "data": {
            "text/plain": [
              "[[0, 4, 0], [0, 2, 8, 6, 3, 1, 7, 9, 5, 10, 0]]"
            ]
          },
          "metadata": {
            "tags": []
          },
          "execution_count": 86
        }
      ]
    },
    {
      "cell_type": "markdown",
      "metadata": {
        "id": "NerMZBg5oekg"
      },
      "source": [
        "Añadir restricción de máximo 3 nodos clientes por ruta"
      ]
    },
    {
      "cell_type": "code",
      "metadata": {
        "id": "kHvFEmm2ojjC"
      },
      "source": [
        "df = pd.read_excel('distanciasClarke.xlsx', index_col='dij') #lee la matriz y la asigna a un dataframe\n",
        "df.columns = df.columns.astype(str)\n",
        "df.index = df.index.astype(str)\n",
        "dij = df.to_numpy() # crea la matriz dij como un array de numpy\n",
        "sij = np.zeros(dij.shape)"
      ],
      "execution_count": null,
      "outputs": []
    },
    {
      "cell_type": "code",
      "metadata": {
        "colab": {
          "base_uri": "https://localhost:8080/"
        },
        "id": "0AjDBXWEotDG",
        "outputId": "61d5b512-63b4-46a1-f863-1e0498e4da55"
      },
      "source": [
        "sij= ahorros()\n",
        "sij"
      ],
      "execution_count": null,
      "outputs": [
        {
          "output_type": "execute_result",
          "data": {
            "text/plain": [
              "array([[-1, -1, -1, -1, -1, -1, -1, -1, -1, -1, -1],\n",
              "       [-1, -1,  0,  6,  2, 10,  6, 16,  0, 16, 10],\n",
              "       [-1,  0, -1,  4,  2,  6, 14,  0, 30,  0,  4],\n",
              "       [-1,  6,  4, -1,  4,  0, 10, 12,  4, 10,  0],\n",
              "       [-1,  2,  2,  4, -1,  0,  4,  2,  2,  2,  0],\n",
              "       [-1, 10,  6,  0,  0, -1,  0, 14,  6, 18, 16],\n",
              "       [-1,  6, 14, 10,  4,  0, -1,  6, 18,  6,  0],\n",
              "       [-1, 16,  0, 12,  2, 14,  6, -1,  0, 24, 12],\n",
              "       [-1,  0, 30,  4,  2,  6, 18,  0, -1,  0,  4],\n",
              "       [-1, 16,  0, 10,  2, 18,  6, 24,  0, -1, 12],\n",
              "       [-1, 10,  4,  0,  0, 16,  0, 12,  4, 12, -1]])"
            ]
          },
          "metadata": {
            "tags": []
          },
          "execution_count": 88
        }
      ]
    },
    {
      "cell_type": "code",
      "metadata": {
        "colab": {
          "base_uri": "https://localhost:8080/"
        },
        "id": "kWoohXlOovYi",
        "outputId": "15613bd5-99f1-4163-eb43-1512bc9f82ec"
      },
      "source": [
        "rutas=iniciar_rutas()\n",
        "rutas"
      ],
      "execution_count": null,
      "outputs": [
        {
          "output_type": "execute_result",
          "data": {
            "text/plain": [
              "[[0, 1, 0],\n",
              " [0, 2, 0],\n",
              " [0, 3, 0],\n",
              " [0, 4, 0],\n",
              " [0, 5, 0],\n",
              " [0, 6, 0],\n",
              " [0, 7, 0],\n",
              " [0, 8, 0],\n",
              " [0, 9, 0],\n",
              " [0, 10, 0]]"
            ]
          },
          "metadata": {
            "tags": []
          },
          "execution_count": 89
        }
      ]
    },
    {
      "cell_type": "code",
      "metadata": {
        "colab": {
          "base_uri": "https://localhost:8080/"
        },
        "id": "Z5LPGv4TowJL",
        "outputId": "cd907a71-ed90-47aa-ed4d-8d67da18fa6c"
      },
      "source": [
        "ah=max_ahorro()"
      ],
      "execution_count": null,
      "outputs": [
        {
          "output_type": "stream",
          "text": [
            "¿3 y 1 están en diferentes rutas? S/N S\n",
            "¿Existen los enlaces 3,0 y 0,1? S/N S\n",
            "¿Se cumplen todas las restricciones? S/N S\n",
            "Eliminar fila 3  y columna  1\n"
          ],
          "name": "stdout"
        }
      ]
    },
    {
      "cell_type": "code",
      "metadata": {
        "id": "en_8ef5Zo5ro"
      },
      "source": [
        "anular_celda(ah)"
      ],
      "execution_count": null,
      "outputs": []
    },
    {
      "cell_type": "code",
      "metadata": {
        "id": "KKzoVRs1o62h"
      },
      "source": [
        "anular_f_c(ah)"
      ],
      "execution_count": null,
      "outputs": []
    },
    {
      "cell_type": "code",
      "metadata": {
        "colab": {
          "base_uri": "https://localhost:8080/"
        },
        "id": "7AEZSuQCo8uf",
        "outputId": "4e325f6d-6d40-4600-ddcd-8167644a0e62"
      },
      "source": [
        "rutas.remove([0, 3, 0])\n",
        "rutas.remove([0,1,10, 0])\n",
        "rutas.append([0, 3,1, 10,0])\n",
        "rutas"
      ],
      "execution_count": null,
      "outputs": [
        {
          "output_type": "execute_result",
          "data": {
            "text/plain": [
              "[[0, 4, 0], [0, 2, 8, 6, 0], [0, 7, 9, 5, 0], [0, 3, 1, 10, 0]]"
            ]
          },
          "metadata": {
            "tags": []
          },
          "execution_count": 128
        }
      ]
    },
    {
      "cell_type": "code",
      "metadata": {
        "colab": {
          "base_uri": "https://localhost:8080/"
        },
        "id": "JFpXB5t-rEV6",
        "outputId": "c6edf1dc-69ff-423d-fca8-0ca6a1c5cc9d"
      },
      "source": [
        "for i in rutas:\n",
        "  print(8 in i)"
      ],
      "execution_count": null,
      "outputs": [
        {
          "output_type": "stream",
          "text": [
            "False\n",
            "True\n",
            "False\n",
            "False\n"
          ],
          "name": "stdout"
        }
      ]
    }
  ]
}