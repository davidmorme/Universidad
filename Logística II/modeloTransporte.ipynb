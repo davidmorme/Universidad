{
  "nbformat": 4,
  "nbformat_minor": 0,
  "metadata": {
    "colab": {
      "name": "modeloTransporte.ipynb",
      "provenance": [],
      "include_colab_link": true
    },
    "kernelspec": {
      "name": "python3",
      "display_name": "Python 3"
    }
  },
  "cells": [
    {
      "cell_type": "markdown",
      "metadata": {
        "id": "view-in-github",
        "colab_type": "text"
      },
      "source": [
        "<a href=\"https://colab.research.google.com/github/davidmorme/Universidad/blob/main/Log%C3%ADstica%20II/modeloTransporte.ipynb\" target=\"_parent\"><img src=\"https://colab.research.google.com/assets/colab-badge.svg\" alt=\"Open In Colab\"/></a>"
      ]
    },
    {
      "cell_type": "code",
      "metadata": {
        "id": "O6VhIywkkOK5"
      },
      "source": [
        "import pandas as pd\n",
        "import math"
      ],
      "execution_count": null,
      "outputs": []
    },
    {
      "cell_type": "code",
      "metadata": {
        "id": "wx-kDWCbxPnk"
      },
      "source": [
        "#from google.colab import drive\n",
        "#drive.mount('/content/drive')"
      ],
      "execution_count": null,
      "outputs": []
    },
    {
      "cell_type": "code",
      "metadata": {
        "id": "Bd7Y638XqA9f"
      },
      "source": [
        "#from google.colab import files \n",
        "#uploaded = files.upload()"
      ],
      "execution_count": null,
      "outputs": []
    },
    {
      "cell_type": "code",
      "metadata": {
        "id": "1jFe7me1kTOk"
      },
      "source": [
        "#data = pd.read_excel('/content/drive/My Drive/datos_transporte.xls')\n",
        "#df = pd.DataFrame(data)\n",
        "#df"
      ],
      "execution_count": null,
      "outputs": []
    },
    {
      "cell_type": "code",
      "metadata": {
        "id": "WiZGKlBcj3n_"
      },
      "source": [
        "i=0.3\n",
        "ss = 19178\n",
        "c= 30\n",
        "D = 700000"
      ],
      "execution_count": null,
      "outputs": []
    },
    {
      "cell_type": "markdown",
      "metadata": {
        "id": "LwQFfMvP4j-s"
      },
      "source": [
        "Esta es una estructura de datos llamada diccionario: Usa claves y datos"
      ]
    },
    {
      "cell_type": "code",
      "metadata": {
        "id": "UfYa87gCdVwr"
      },
      "source": [
        "data = {'Modo': ['Ferroviario', 'Fluvial', 'Carretera', 'Aéreo'], 'tau':[0.0575, 0.0384, 0.0137, 0.0055], 'r':[0.1,0.15,0.2,1.4], 'N':[10,20,20,40],'cap':[1000000, 17500, 8750, 17500], 'A':[2000,5000,1500,1000]}"
      ],
      "execution_count": null,
      "outputs": []
    },
    {
      "cell_type": "markdown",
      "metadata": {
        "id": "bf6ZUjFxWPJ6"
      },
      "source": [
        "DataFrame es una estructura de Pandas. Es una tabla indexada"
      ]
    },
    {
      "cell_type": "code",
      "metadata": {
        "id": "GWiyDpZYmTOw"
      },
      "source": [
        "df = pd.DataFrame(data)"
      ],
      "execution_count": null,
      "outputs": []
    },
    {
      "cell_type": "code",
      "metadata": {
        "colab": {
          "base_uri": "https://localhost:8080/",
          "height": 166
        },
        "id": "qZy2gA4D2Hip",
        "outputId": "9c3f3582-a573-46d4-fa03-abf408b0b282"
      },
      "source": [
        "df"
      ],
      "execution_count": null,
      "outputs": [
        {
          "output_type": "execute_result",
          "data": {
            "text/html": [
              "<div>\n",
              "<style scoped>\n",
              "    .dataframe tbody tr th:only-of-type {\n",
              "        vertical-align: middle;\n",
              "    }\n",
              "\n",
              "    .dataframe tbody tr th {\n",
              "        vertical-align: top;\n",
              "    }\n",
              "\n",
              "    .dataframe thead th {\n",
              "        text-align: right;\n",
              "    }\n",
              "</style>\n",
              "<table border=\"1\" class=\"dataframe\">\n",
              "  <thead>\n",
              "    <tr style=\"text-align: right;\">\n",
              "      <th></th>\n",
              "      <th>Modo</th>\n",
              "      <th>tau</th>\n",
              "      <th>r</th>\n",
              "      <th>N</th>\n",
              "      <th>cap</th>\n",
              "      <th>A</th>\n",
              "    </tr>\n",
              "  </thead>\n",
              "  <tbody>\n",
              "    <tr>\n",
              "      <th>0</th>\n",
              "      <td>Ferroviario</td>\n",
              "      <td>0.0575</td>\n",
              "      <td>0.10</td>\n",
              "      <td>10</td>\n",
              "      <td>1000000</td>\n",
              "      <td>2000</td>\n",
              "    </tr>\n",
              "    <tr>\n",
              "      <th>1</th>\n",
              "      <td>Fluvial</td>\n",
              "      <td>0.0384</td>\n",
              "      <td>0.15</td>\n",
              "      <td>20</td>\n",
              "      <td>17500</td>\n",
              "      <td>5000</td>\n",
              "    </tr>\n",
              "    <tr>\n",
              "      <th>2</th>\n",
              "      <td>Carretera</td>\n",
              "      <td>0.0137</td>\n",
              "      <td>0.20</td>\n",
              "      <td>20</td>\n",
              "      <td>8750</td>\n",
              "      <td>1500</td>\n",
              "    </tr>\n",
              "    <tr>\n",
              "      <th>3</th>\n",
              "      <td>Aéreo</td>\n",
              "      <td>0.0055</td>\n",
              "      <td>1.40</td>\n",
              "      <td>40</td>\n",
              "      <td>17500</td>\n",
              "      <td>1000</td>\n",
              "    </tr>\n",
              "  </tbody>\n",
              "</table>\n",
              "</div>"
            ],
            "text/plain": [
              "          Modo     tau     r   N      cap     A\n",
              "0  Ferroviario  0.0575  0.10  10  1000000  2000\n",
              "1      Fluvial  0.0384  0.15  20    17500  5000\n",
              "2    Carretera  0.0137  0.20  20     8750  1500\n",
              "3        Aéreo  0.0055  1.40  40    17500  1000"
            ]
          },
          "metadata": {
            "tags": []
          },
          "execution_count": 141
        }
      ]
    },
    {
      "cell_type": "markdown",
      "metadata": {
        "id": "bshmK2_Z2Y1A"
      },
      "source": [
        "Un dataframe es como una matriz. Pero en lugar de decir df[0][3], decimos df.at[0, 'tau'] o df.loc[0, 'tau']"
      ]
    },
    {
      "cell_type": "code",
      "metadata": {
        "colab": {
          "base_uri": "https://localhost:8080/"
        },
        "id": "9oUxVROP2wtE",
        "outputId": "b1e987cf-c738-4ce2-f3e7-1c57d11f093a"
      },
      "source": [
        "print(df.at[0,'tau'])"
      ],
      "execution_count": null,
      "outputs": [
        {
          "output_type": "stream",
          "text": [
            "0.0575\n"
          ],
          "name": "stdout"
        }
      ]
    },
    {
      "cell_type": "code",
      "metadata": {
        "colab": {
          "base_uri": "https://localhost:8080/"
        },
        "id": "MwfxsuBI3A01",
        "outputId": "e1db4b36-9c1e-469c-b0f9-b3a314ba6349"
      },
      "source": [
        "print(df.loc[0,'tau'])"
      ],
      "execution_count": null,
      "outputs": [
        {
          "output_type": "stream",
          "text": [
            "0.0575\n"
          ],
          "name": "stdout"
        }
      ]
    },
    {
      "cell_type": "code",
      "metadata": {
        "colab": {
          "base_uri": "https://localhost:8080/"
        },
        "id": "vFpTP-Nyv4GT",
        "outputId": "a0997103-cf51-4aa9-bdce-0e1553477210"
      },
      "source": [
        "df.info()"
      ],
      "execution_count": null,
      "outputs": [
        {
          "output_type": "stream",
          "text": [
            "<class 'pandas.core.frame.DataFrame'>\n",
            "RangeIndex: 4 entries, 0 to 3\n",
            "Data columns (total 6 columns):\n",
            " #   Column  Non-Null Count  Dtype  \n",
            "---  ------  --------------  -----  \n",
            " 0   Modo    4 non-null      object \n",
            " 1   tau     4 non-null      float64\n",
            " 2   r       4 non-null      float64\n",
            " 3   N       4 non-null      int64  \n",
            " 4   cap     4 non-null      int64  \n",
            " 5   A       4 non-null      int64  \n",
            "dtypes: float64(2), int64(3), object(1)\n",
            "memory usage: 320.0+ bytes\n"
          ],
          "name": "stdout"
        }
      ]
    },
    {
      "cell_type": "code",
      "metadata": {
        "colab": {
          "base_uri": "https://localhost:8080/",
          "height": 284
        },
        "id": "5oTLbnEnt1_V",
        "outputId": "da6f0210-26f2-4fd2-c734-16be5a04de79"
      },
      "source": [
        "df.describe()\n",
        "\n",
        "\n"
      ],
      "execution_count": null,
      "outputs": [
        {
          "output_type": "execute_result",
          "data": {
            "text/html": [
              "<div>\n",
              "<style scoped>\n",
              "    .dataframe tbody tr th:only-of-type {\n",
              "        vertical-align: middle;\n",
              "    }\n",
              "\n",
              "    .dataframe tbody tr th {\n",
              "        vertical-align: top;\n",
              "    }\n",
              "\n",
              "    .dataframe thead th {\n",
              "        text-align: right;\n",
              "    }\n",
              "</style>\n",
              "<table border=\"1\" class=\"dataframe\">\n",
              "  <thead>\n",
              "    <tr style=\"text-align: right;\">\n",
              "      <th></th>\n",
              "      <th>tau</th>\n",
              "      <th>r</th>\n",
              "      <th>N</th>\n",
              "      <th>cap</th>\n",
              "      <th>A</th>\n",
              "    </tr>\n",
              "  </thead>\n",
              "  <tbody>\n",
              "    <tr>\n",
              "      <th>count</th>\n",
              "      <td>4.000000</td>\n",
              "      <td>4.000000</td>\n",
              "      <td>4.000000</td>\n",
              "      <td>4.000000</td>\n",
              "      <td>4.000000</td>\n",
              "    </tr>\n",
              "    <tr>\n",
              "      <th>mean</th>\n",
              "      <td>0.028775</td>\n",
              "      <td>0.462500</td>\n",
              "      <td>22.500000</td>\n",
              "      <td>260937.500000</td>\n",
              "      <td>2375.000000</td>\n",
              "    </tr>\n",
              "    <tr>\n",
              "      <th>std</th>\n",
              "      <td>0.023712</td>\n",
              "      <td>0.626332</td>\n",
              "      <td>12.583057</td>\n",
              "      <td>492725.598711</td>\n",
              "      <td>1796.988221</td>\n",
              "    </tr>\n",
              "    <tr>\n",
              "      <th>min</th>\n",
              "      <td>0.005500</td>\n",
              "      <td>0.100000</td>\n",
              "      <td>10.000000</td>\n",
              "      <td>8750.000000</td>\n",
              "      <td>1000.000000</td>\n",
              "    </tr>\n",
              "    <tr>\n",
              "      <th>25%</th>\n",
              "      <td>0.011650</td>\n",
              "      <td>0.137500</td>\n",
              "      <td>17.500000</td>\n",
              "      <td>15312.500000</td>\n",
              "      <td>1375.000000</td>\n",
              "    </tr>\n",
              "    <tr>\n",
              "      <th>50%</th>\n",
              "      <td>0.026050</td>\n",
              "      <td>0.175000</td>\n",
              "      <td>20.000000</td>\n",
              "      <td>17500.000000</td>\n",
              "      <td>1750.000000</td>\n",
              "    </tr>\n",
              "    <tr>\n",
              "      <th>75%</th>\n",
              "      <td>0.043175</td>\n",
              "      <td>0.500000</td>\n",
              "      <td>25.000000</td>\n",
              "      <td>263125.000000</td>\n",
              "      <td>2750.000000</td>\n",
              "    </tr>\n",
              "    <tr>\n",
              "      <th>max</th>\n",
              "      <td>0.057500</td>\n",
              "      <td>1.400000</td>\n",
              "      <td>40.000000</td>\n",
              "      <td>1000000.000000</td>\n",
              "      <td>5000.000000</td>\n",
              "    </tr>\n",
              "  </tbody>\n",
              "</table>\n",
              "</div>"
            ],
            "text/plain": [
              "            tau         r          N             cap            A\n",
              "count  4.000000  4.000000   4.000000        4.000000     4.000000\n",
              "mean   0.028775  0.462500  22.500000   260937.500000  2375.000000\n",
              "std    0.023712  0.626332  12.583057   492725.598711  1796.988221\n",
              "min    0.005500  0.100000  10.000000     8750.000000  1000.000000\n",
              "25%    0.011650  0.137500  17.500000    15312.500000  1375.000000\n",
              "50%    0.026050  0.175000  20.000000    17500.000000  1750.000000\n",
              "75%    0.043175  0.500000  25.000000   263125.000000  2750.000000\n",
              "max    0.057500  1.400000  40.000000  1000000.000000  5000.000000"
            ]
          },
          "metadata": {
            "tags": []
          },
          "execution_count": 145
        }
      ]
    },
    {
      "cell_type": "markdown",
      "metadata": {
        "id": "Yws39V0DiMn4"
      },
      "source": [
        "Añadamos la columna Q con Q = D/N\n"
      ]
    },
    {
      "cell_type": "code",
      "metadata": {
        "id": "pTPdou6RxyGR"
      },
      "source": [
        "df['Q']=D/df['N']"
      ],
      "execution_count": null,
      "outputs": []
    },
    {
      "cell_type": "code",
      "metadata": {
        "colab": {
          "base_uri": "https://localhost:8080/",
          "height": 166
        },
        "id": "52gv2dMfY-lU",
        "outputId": "e75b1ba8-b7e1-42f9-8d0b-e38927607045"
      },
      "source": [
        "df"
      ],
      "execution_count": null,
      "outputs": [
        {
          "output_type": "execute_result",
          "data": {
            "text/html": [
              "<div>\n",
              "<style scoped>\n",
              "    .dataframe tbody tr th:only-of-type {\n",
              "        vertical-align: middle;\n",
              "    }\n",
              "\n",
              "    .dataframe tbody tr th {\n",
              "        vertical-align: top;\n",
              "    }\n",
              "\n",
              "    .dataframe thead th {\n",
              "        text-align: right;\n",
              "    }\n",
              "</style>\n",
              "<table border=\"1\" class=\"dataframe\">\n",
              "  <thead>\n",
              "    <tr style=\"text-align: right;\">\n",
              "      <th></th>\n",
              "      <th>Modo</th>\n",
              "      <th>tau</th>\n",
              "      <th>r</th>\n",
              "      <th>N</th>\n",
              "      <th>cap</th>\n",
              "      <th>A</th>\n",
              "      <th>Q</th>\n",
              "    </tr>\n",
              "  </thead>\n",
              "  <tbody>\n",
              "    <tr>\n",
              "      <th>0</th>\n",
              "      <td>Ferroviario</td>\n",
              "      <td>0.0575</td>\n",
              "      <td>0.10</td>\n",
              "      <td>10</td>\n",
              "      <td>1000000</td>\n",
              "      <td>2000</td>\n",
              "      <td>70000.0</td>\n",
              "    </tr>\n",
              "    <tr>\n",
              "      <th>1</th>\n",
              "      <td>Fluvial</td>\n",
              "      <td>0.0384</td>\n",
              "      <td>0.15</td>\n",
              "      <td>20</td>\n",
              "      <td>17500</td>\n",
              "      <td>5000</td>\n",
              "      <td>35000.0</td>\n",
              "    </tr>\n",
              "    <tr>\n",
              "      <th>2</th>\n",
              "      <td>Carretera</td>\n",
              "      <td>0.0137</td>\n",
              "      <td>0.20</td>\n",
              "      <td>20</td>\n",
              "      <td>8750</td>\n",
              "      <td>1500</td>\n",
              "      <td>35000.0</td>\n",
              "    </tr>\n",
              "    <tr>\n",
              "      <th>3</th>\n",
              "      <td>Aéreo</td>\n",
              "      <td>0.0055</td>\n",
              "      <td>1.40</td>\n",
              "      <td>40</td>\n",
              "      <td>17500</td>\n",
              "      <td>1000</td>\n",
              "      <td>17500.0</td>\n",
              "    </tr>\n",
              "  </tbody>\n",
              "</table>\n",
              "</div>"
            ],
            "text/plain": [
              "          Modo     tau     r   N      cap     A        Q\n",
              "0  Ferroviario  0.0575  0.10  10  1000000  2000  70000.0\n",
              "1      Fluvial  0.0384  0.15  20    17500  5000  35000.0\n",
              "2    Carretera  0.0137  0.20  20     8750  1500  35000.0\n",
              "3        Aéreo  0.0055  1.40  40    17500  1000  17500.0"
            ]
          },
          "metadata": {
            "tags": []
          },
          "execution_count": 147
        }
      ]
    },
    {
      "cell_type": "markdown",
      "metadata": {
        "id": "uJhbzCsc3UHt"
      },
      "source": [
        "Cambiemos el índice de la tabla. Ahora el índice debe ser 'Modo'"
      ]
    },
    {
      "cell_type": "code",
      "metadata": {
        "id": "fFa8Q7NwyTkW"
      },
      "source": [
        "df.set_index('Modo', inplace=True)"
      ],
      "execution_count": null,
      "outputs": []
    },
    {
      "cell_type": "code",
      "metadata": {
        "colab": {
          "base_uri": "https://localhost:8080/",
          "height": 195
        },
        "id": "wigP6mubyZxu",
        "outputId": "5e2b284d-7717-43a5-be2f-cb4f1a756ab9"
      },
      "source": [
        "df"
      ],
      "execution_count": null,
      "outputs": [
        {
          "output_type": "execute_result",
          "data": {
            "text/html": [
              "<div>\n",
              "<style scoped>\n",
              "    .dataframe tbody tr th:only-of-type {\n",
              "        vertical-align: middle;\n",
              "    }\n",
              "\n",
              "    .dataframe tbody tr th {\n",
              "        vertical-align: top;\n",
              "    }\n",
              "\n",
              "    .dataframe thead th {\n",
              "        text-align: right;\n",
              "    }\n",
              "</style>\n",
              "<table border=\"1\" class=\"dataframe\">\n",
              "  <thead>\n",
              "    <tr style=\"text-align: right;\">\n",
              "      <th></th>\n",
              "      <th>tau</th>\n",
              "      <th>r</th>\n",
              "      <th>N</th>\n",
              "      <th>cap</th>\n",
              "      <th>A</th>\n",
              "      <th>Q</th>\n",
              "    </tr>\n",
              "    <tr>\n",
              "      <th>Modo</th>\n",
              "      <th></th>\n",
              "      <th></th>\n",
              "      <th></th>\n",
              "      <th></th>\n",
              "      <th></th>\n",
              "      <th></th>\n",
              "    </tr>\n",
              "  </thead>\n",
              "  <tbody>\n",
              "    <tr>\n",
              "      <th>Ferroviario</th>\n",
              "      <td>0.0575</td>\n",
              "      <td>0.10</td>\n",
              "      <td>10</td>\n",
              "      <td>1000000</td>\n",
              "      <td>2000</td>\n",
              "      <td>70000.0</td>\n",
              "    </tr>\n",
              "    <tr>\n",
              "      <th>Fluvial</th>\n",
              "      <td>0.0384</td>\n",
              "      <td>0.15</td>\n",
              "      <td>20</td>\n",
              "      <td>17500</td>\n",
              "      <td>5000</td>\n",
              "      <td>35000.0</td>\n",
              "    </tr>\n",
              "    <tr>\n",
              "      <th>Carretera</th>\n",
              "      <td>0.0137</td>\n",
              "      <td>0.20</td>\n",
              "      <td>20</td>\n",
              "      <td>8750</td>\n",
              "      <td>1500</td>\n",
              "      <td>35000.0</td>\n",
              "    </tr>\n",
              "    <tr>\n",
              "      <th>Aéreo</th>\n",
              "      <td>0.0055</td>\n",
              "      <td>1.40</td>\n",
              "      <td>40</td>\n",
              "      <td>17500</td>\n",
              "      <td>1000</td>\n",
              "      <td>17500.0</td>\n",
              "    </tr>\n",
              "  </tbody>\n",
              "</table>\n",
              "</div>"
            ],
            "text/plain": [
              "                tau     r   N      cap     A        Q\n",
              "Modo                                                 \n",
              "Ferroviario  0.0575  0.10  10  1000000  2000  70000.0\n",
              "Fluvial      0.0384  0.15  20    17500  5000  35000.0\n",
              "Carretera    0.0137  0.20  20     8750  1500  35000.0\n",
              "Aéreo        0.0055  1.40  40    17500  1000  17500.0"
            ]
          },
          "metadata": {
            "tags": []
          },
          "execution_count": 149
        }
      ]
    },
    {
      "cell_type": "markdown",
      "metadata": {
        "id": "nPbAmv8S3nAW"
      },
      "source": [
        "Tomemos el modo de transporte 'Ferroviario'. df.loc['Ferroviario] toma todas las columnas de la fila 'Ferroviario'"
      ]
    },
    {
      "cell_type": "code",
      "metadata": {
        "colab": {
          "base_uri": "https://localhost:8080/"
        },
        "id": "X07w44YQZkLy",
        "outputId": "6b1a2ba8-47c8-45ad-ae01-b6d35dcf1089"
      },
      "source": [
        "print( df.loc['Ferroviario','Q'])"
      ],
      "execution_count": null,
      "outputs": [
        {
          "output_type": "stream",
          "text": [
            "70000.0\n"
          ],
          "name": "stdout"
        }
      ]
    },
    {
      "cell_type": "markdown",
      "metadata": {
        "id": "YlJ4FbodZ3Lx"
      },
      "source": [
        "'slicing' = tomar trozos del dataframe. df_m es un nuevo dataframe"
      ]
    },
    {
      "cell_type": "code",
      "metadata": {
        "id": "_iaLg4Bdy_jf"
      },
      "source": [
        "df_m = df.loc['Aéreo']"
      ],
      "execution_count": null,
      "outputs": []
    },
    {
      "cell_type": "code",
      "metadata": {
        "colab": {
          "base_uri": "https://localhost:8080/"
        },
        "id": "C1vnLs2jzRoh",
        "outputId": "be13cfa6-ca21-4b58-e04b-0ff95b4715f9"
      },
      "source": [
        "df_m"
      ],
      "execution_count": null,
      "outputs": [
        {
          "output_type": "execute_result",
          "data": {
            "text/plain": [
              "tau        0.0055\n",
              "r          1.4000\n",
              "N         40.0000\n",
              "cap    17500.0000\n",
              "A       1000.0000\n",
              "Q      17500.0000\n",
              "Name: Aéreo, dtype: float64"
            ]
          },
          "metadata": {
            "tags": []
          },
          "execution_count": 152
        }
      ]
    },
    {
      "cell_type": "markdown",
      "metadata": {
        "id": "Pl72253Y4Hj8"
      },
      "source": [
        "Asignemos los valores de la tabla a variables simples. Modo ferroviario"
      ]
    },
    {
      "cell_type": "code",
      "metadata": {
        "id": "cRHRla8tzU__"
      },
      "source": [
        "Q = df_m.loc['Q']\n",
        "tau = df_m.loc['tau']\n",
        "cap = df_m.loc['cap']\n",
        "A = df_m.loc['A']\n",
        "N = df_m.loc['N']\n",
        "r = df_m.loc['r']"
      ],
      "execution_count": null,
      "outputs": []
    },
    {
      "cell_type": "markdown",
      "metadata": {
        "id": "0WULlaMw4QCR"
      },
      "source": [
        "Hallemos el número de camiones. Usemos la función `trunc` que redondea hacia abajo:"
      ]
    },
    {
      "cell_type": "code",
      "metadata": {
        "colab": {
          "base_uri": "https://localhost:8080/"
        },
        "id": "nP0mF9ka1Khg",
        "outputId": "8c856e59-3824-4097-ff01-07e90329ab93"
      },
      "source": [
        "n = Q/cap\n",
        "\n",
        "if math.trunc(n)<n: n = math.trunc(n)+1\n",
        "print ('Número de vehículos por envío', n)\n"
      ],
      "execution_count": null,
      "outputs": [
        {
          "output_type": "stream",
          "text": [
            "Número de vehículos por envío 1.0\n"
          ],
          "name": "stdout"
        }
      ]
    },
    {
      "cell_type": "code",
      "metadata": {
        "id": "0qJEizrn3LG0"
      },
      "source": [
        "cprima = c+ r + A*n/Q\n",
        "costo_inv_planta = i*c*(Q/2+ss)\n",
        "costo_inv_cd = i*cprima*(Q/2+ss)\n",
        "costo_inv_transito =  i*c*D*tau\n",
        "costo_transporte = r*D\n",
        "costo_total= i*c*(Q/2+ss) + i*c*D*tau + r*D + A*n*D/Q + i*cprima*(Q/2+ss)"
      ],
      "execution_count": null,
      "outputs": []
    },
    {
      "cell_type": "code",
      "metadata": {
        "colab": {
          "base_uri": "https://localhost:8080/"
        },
        "id": "4AtZkiB010nt",
        "outputId": "6f8f213f-3314-4274-c979-d62827c5815a"
      },
      "source": [
        "print('c_prima', cprima)\n",
        "print('Costo inv planta', costo_inv_planta)\n",
        "print('Costo inv cd',costo_inv_cd)\n",
        "print('Costo inv tránsito', costo_inv_transito)\n",
        "print('Costo transporte', costo_transporte)\n",
        "print('Costo total anual',costo_total)"
      ],
      "execution_count": null,
      "outputs": [
        {
          "output_type": "stream",
          "text": [
            "c_prima 31.457142857142856\n",
            "Costo inv planta 251352.0\n",
            "Costo inv cd 263560.5257142857\n",
            "Costo inv tránsito 34650.0\n",
            "Costo transporte 979999.9999999999\n",
            "Costo total anual 1569562.5257142857\n"
          ],
          "name": "stdout"
        }
      ]
    },
    {
      "cell_type": "code",
      "metadata": {
        "id": "gTU5Ai5O2axX"
      },
      "source": [
        ""
      ],
      "execution_count": null,
      "outputs": []
    },
    {
      "cell_type": "code",
      "metadata": {
        "id": "ChKNyoz25UdI"
      },
      "source": [
        ""
      ],
      "execution_count": null,
      "outputs": []
    }
  ]
}