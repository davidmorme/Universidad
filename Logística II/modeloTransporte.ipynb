{
  "nbformat": 4,
  "nbformat_minor": 0,
  "metadata": {
    "colab": {
      "name": "modeloTransporte.ipynb",
      "provenance": [],
      "include_colab_link": true
    },
    "kernelspec": {
      "name": "python3",
      "display_name": "Python 3"
    }
  },
  "cells": [
    {
      "cell_type": "markdown",
      "metadata": {
        "id": "view-in-github",
        "colab_type": "text"
      },
      "source": [
        "<a href=\"https://colab.research.google.com/github/davidmorme/Universidad/blob/main/Log%C3%ADstica%20II/modeloTransporte.ipynb\" target=\"_parent\"><img src=\"https://colab.research.google.com/assets/colab-badge.svg\" alt=\"Open In Colab\"/></a>"
      ]
    },
    {
      "cell_type": "code",
      "metadata": {
        "id": "O6VhIywkkOK5"
      },
      "source": [
        "import pandas as pd\n",
        "import math"
      ],
      "execution_count": null,
      "outputs": []
    },
    {
      "cell_type": "code",
      "metadata": {
        "id": "wx-kDWCbxPnk"
      },
      "source": [
        "#from google.colab import drive\n",
        "#drive.mount('/content/drive')"
      ],
      "execution_count": null,
      "outputs": []
    },
    {
      "cell_type": "code",
      "metadata": {
        "id": "Bd7Y638XqA9f"
      },
      "source": [
        "#from google.colab import files \n",
        "#uploaded = files.upload()"
      ],
      "execution_count": null,
      "outputs": []
    },
    {
      "cell_type": "code",
      "metadata": {
        "id": "1jFe7me1kTOk"
      },
      "source": [
        "#data = pd.read_excel('/content/drive/My Drive/datos_transporte.xls')\n",
        "#df = pd.DataFrame(data)\n",
        "#df"
      ],
      "execution_count": null,
      "outputs": []
    },
    {
      "cell_type": "code",
      "metadata": {
        "id": "WiZGKlBcj3n_"
      },
      "source": [
        "i=0.3\n",
        "ss = 19178\n",
        "c= 30\n",
        "D = 700000"
      ],
      "execution_count": null,
      "outputs": []
    },
    {
      "cell_type": "markdown",
      "metadata": {
        "id": "LwQFfMvP4j-s"
      },
      "source": [
        "Esta es una estructura de datos llamada diccionario: Usa claves y datos"
      ]
    },
    {
      "cell_type": "code",
      "metadata": {
        "id": "UfYa87gCdVwr"
      },
      "source": [
        "data = {'Modo': ['Ferroviario', 'Fluvial', 'Carretera', 'Aéreo'], 'tau':[0.0575, 0.0384, 0.0137, 0.0055], 'r':[0.1,0.15,0.2,1.4], 'N':[10,20,20,40],'cap':[1000000, 17500, 8750, 17500], 'A':[2000,5000,1500,1000]}"
      ],
      "execution_count": null,
      "outputs": []
    },
    {
      "cell_type": "markdown",
      "metadata": {
        "id": "bf6ZUjFxWPJ6"
      },
      "source": [
        "DataFrame es una estructura de Pandas. Es una tabla indexada"
      ]
    },
    {
      "cell_type": "code",
      "metadata": {
        "id": "GWiyDpZYmTOw"
      },
      "source": [
        "df = pd.DataFrame(data)"
      ],
      "execution_count": null,
      "outputs": []
    },
    {
      "cell_type": "code",
      "metadata": {
        "colab": {
          "base_uri": "https://localhost:8080/",
          "height": 173
        },
        "id": "qZy2gA4D2Hip",
        "outputId": "54e7462a-2489-41fd-a9c2-9912c761ea7b"
      },
      "source": [
        "df"
      ],
      "execution_count": null,
      "outputs": [
        {
          "output_type": "execute_result",
          "data": {
            "text/html": [
              "<div>\n",
              "<style scoped>\n",
              "    .dataframe tbody tr th:only-of-type {\n",
              "        vertical-align: middle;\n",
              "    }\n",
              "\n",
              "    .dataframe tbody tr th {\n",
              "        vertical-align: top;\n",
              "    }\n",
              "\n",
              "    .dataframe thead th {\n",
              "        text-align: right;\n",
              "    }\n",
              "</style>\n",
              "<table border=\"1\" class=\"dataframe\">\n",
              "  <thead>\n",
              "    <tr style=\"text-align: right;\">\n",
              "      <th></th>\n",
              "      <th>Modo</th>\n",
              "      <th>tau</th>\n",
              "      <th>r</th>\n",
              "      <th>N</th>\n",
              "      <th>cap</th>\n",
              "      <th>A</th>\n",
              "    </tr>\n",
              "  </thead>\n",
              "  <tbody>\n",
              "    <tr>\n",
              "      <th>0</th>\n",
              "      <td>Ferroviario</td>\n",
              "      <td>0.0575</td>\n",
              "      <td>0.10</td>\n",
              "      <td>10</td>\n",
              "      <td>1000000</td>\n",
              "      <td>2000</td>\n",
              "    </tr>\n",
              "    <tr>\n",
              "      <th>1</th>\n",
              "      <td>Fluvial</td>\n",
              "      <td>0.0384</td>\n",
              "      <td>0.15</td>\n",
              "      <td>20</td>\n",
              "      <td>17500</td>\n",
              "      <td>5000</td>\n",
              "    </tr>\n",
              "    <tr>\n",
              "      <th>2</th>\n",
              "      <td>Carretera</td>\n",
              "      <td>0.0137</td>\n",
              "      <td>0.20</td>\n",
              "      <td>20</td>\n",
              "      <td>8750</td>\n",
              "      <td>1500</td>\n",
              "    </tr>\n",
              "    <tr>\n",
              "      <th>3</th>\n",
              "      <td>Aéreo</td>\n",
              "      <td>0.0055</td>\n",
              "      <td>1.40</td>\n",
              "      <td>40</td>\n",
              "      <td>17500</td>\n",
              "      <td>1000</td>\n",
              "    </tr>\n",
              "  </tbody>\n",
              "</table>\n",
              "</div>"
            ],
            "text/plain": [
              "          Modo     tau     r   N      cap     A\n",
              "0  Ferroviario  0.0575  0.10  10  1000000  2000\n",
              "1      Fluvial  0.0384  0.15  20    17500  5000\n",
              "2    Carretera  0.0137  0.20  20     8750  1500\n",
              "3        Aéreo  0.0055  1.40  40    17500  1000"
            ]
          },
          "metadata": {
            "tags": []
          },
          "execution_count": 104
        }
      ]
    },
    {
      "cell_type": "markdown",
      "metadata": {
        "id": "bshmK2_Z2Y1A"
      },
      "source": [
        "Un dataframe es como una matriz. Pero en lugar de decir df[0][3], decimos df.at[0, 'tau'] o df.loc[0, 'tau']"
      ]
    },
    {
      "cell_type": "code",
      "metadata": {
        "colab": {
          "base_uri": "https://localhost:8080/"
        },
        "id": "9oUxVROP2wtE",
        "outputId": "544aa952-ae2d-4730-e103-89a625959064"
      },
      "source": [
        "print(df.at[0,'tau'])"
      ],
      "execution_count": null,
      "outputs": [
        {
          "output_type": "stream",
          "text": [
            "0.0575\n"
          ],
          "name": "stdout"
        }
      ]
    },
    {
      "cell_type": "code",
      "metadata": {
        "colab": {
          "base_uri": "https://localhost:8080/"
        },
        "id": "MwfxsuBI3A01",
        "outputId": "eb7450c9-67b2-4f7e-c9c3-83b3da8b760d"
      },
      "source": [
        "print(df.loc[0,'tau'])"
      ],
      "execution_count": null,
      "outputs": [
        {
          "output_type": "stream",
          "text": [
            "0.0575\n"
          ],
          "name": "stdout"
        }
      ]
    },
    {
      "cell_type": "code",
      "metadata": {
        "colab": {
          "base_uri": "https://localhost:8080/"
        },
        "id": "vFpTP-Nyv4GT",
        "outputId": "3612b562-7bb4-414f-e226-581fe4aeb2f1"
      },
      "source": [
        "df.info()"
      ],
      "execution_count": null,
      "outputs": [
        {
          "output_type": "stream",
          "text": [
            "<class 'pandas.core.frame.DataFrame'>\n",
            "RangeIndex: 4 entries, 0 to 3\n",
            "Data columns (total 6 columns):\n",
            " #   Column  Non-Null Count  Dtype  \n",
            "---  ------  --------------  -----  \n",
            " 0   Modo    4 non-null      object \n",
            " 1   tau     4 non-null      float64\n",
            " 2   r       4 non-null      float64\n",
            " 3   N       4 non-null      int64  \n",
            " 4   cap     4 non-null      int64  \n",
            " 5   A       4 non-null      int64  \n",
            "dtypes: float64(2), int64(3), object(1)\n",
            "memory usage: 320.0+ bytes\n"
          ],
          "name": "stdout"
        }
      ]
    },
    {
      "cell_type": "code",
      "metadata": {
        "colab": {
          "base_uri": "https://localhost:8080/",
          "height": 297
        },
        "id": "5oTLbnEnt1_V",
        "outputId": "1b80208c-0706-4f5d-d4ae-4c609499c88f"
      },
      "source": [
        "df.describe()\n",
        "\n",
        "\n"
      ],
      "execution_count": null,
      "outputs": [
        {
          "output_type": "execute_result",
          "data": {
            "text/html": [
              "<div>\n",
              "<style scoped>\n",
              "    .dataframe tbody tr th:only-of-type {\n",
              "        vertical-align: middle;\n",
              "    }\n",
              "\n",
              "    .dataframe tbody tr th {\n",
              "        vertical-align: top;\n",
              "    }\n",
              "\n",
              "    .dataframe thead th {\n",
              "        text-align: right;\n",
              "    }\n",
              "</style>\n",
              "<table border=\"1\" class=\"dataframe\">\n",
              "  <thead>\n",
              "    <tr style=\"text-align: right;\">\n",
              "      <th></th>\n",
              "      <th>tau</th>\n",
              "      <th>r</th>\n",
              "      <th>N</th>\n",
              "      <th>cap</th>\n",
              "      <th>A</th>\n",
              "    </tr>\n",
              "  </thead>\n",
              "  <tbody>\n",
              "    <tr>\n",
              "      <th>count</th>\n",
              "      <td>4.000000</td>\n",
              "      <td>4.000000</td>\n",
              "      <td>4.000000</td>\n",
              "      <td>4.000000</td>\n",
              "      <td>4.000000</td>\n",
              "    </tr>\n",
              "    <tr>\n",
              "      <th>mean</th>\n",
              "      <td>0.028775</td>\n",
              "      <td>0.462500</td>\n",
              "      <td>22.500000</td>\n",
              "      <td>260937.500000</td>\n",
              "      <td>2375.000000</td>\n",
              "    </tr>\n",
              "    <tr>\n",
              "      <th>std</th>\n",
              "      <td>0.023712</td>\n",
              "      <td>0.626332</td>\n",
              "      <td>12.583057</td>\n",
              "      <td>492725.598711</td>\n",
              "      <td>1796.988221</td>\n",
              "    </tr>\n",
              "    <tr>\n",
              "      <th>min</th>\n",
              "      <td>0.005500</td>\n",
              "      <td>0.100000</td>\n",
              "      <td>10.000000</td>\n",
              "      <td>8750.000000</td>\n",
              "      <td>1000.000000</td>\n",
              "    </tr>\n",
              "    <tr>\n",
              "      <th>25%</th>\n",
              "      <td>0.011650</td>\n",
              "      <td>0.137500</td>\n",
              "      <td>17.500000</td>\n",
              "      <td>15312.500000</td>\n",
              "      <td>1375.000000</td>\n",
              "    </tr>\n",
              "    <tr>\n",
              "      <th>50%</th>\n",
              "      <td>0.026050</td>\n",
              "      <td>0.175000</td>\n",
              "      <td>20.000000</td>\n",
              "      <td>17500.000000</td>\n",
              "      <td>1750.000000</td>\n",
              "    </tr>\n",
              "    <tr>\n",
              "      <th>75%</th>\n",
              "      <td>0.043175</td>\n",
              "      <td>0.500000</td>\n",
              "      <td>25.000000</td>\n",
              "      <td>263125.000000</td>\n",
              "      <td>2750.000000</td>\n",
              "    </tr>\n",
              "    <tr>\n",
              "      <th>max</th>\n",
              "      <td>0.057500</td>\n",
              "      <td>1.400000</td>\n",
              "      <td>40.000000</td>\n",
              "      <td>1000000.000000</td>\n",
              "      <td>5000.000000</td>\n",
              "    </tr>\n",
              "  </tbody>\n",
              "</table>\n",
              "</div>"
            ],
            "text/plain": [
              "            tau         r          N             cap            A\n",
              "count  4.000000  4.000000   4.000000        4.000000     4.000000\n",
              "mean   0.028775  0.462500  22.500000   260937.500000  2375.000000\n",
              "std    0.023712  0.626332  12.583057   492725.598711  1796.988221\n",
              "min    0.005500  0.100000  10.000000     8750.000000  1000.000000\n",
              "25%    0.011650  0.137500  17.500000    15312.500000  1375.000000\n",
              "50%    0.026050  0.175000  20.000000    17500.000000  1750.000000\n",
              "75%    0.043175  0.500000  25.000000   263125.000000  2750.000000\n",
              "max    0.057500  1.400000  40.000000  1000000.000000  5000.000000"
            ]
          },
          "metadata": {
            "tags": []
          },
          "execution_count": 108
        }
      ]
    },
    {
      "cell_type": "markdown",
      "metadata": {
        "id": "Yws39V0DiMn4"
      },
      "source": [
        "Añadamos la columna Q con Q = D/N\n"
      ]
    },
    {
      "cell_type": "code",
      "metadata": {
        "id": "pTPdou6RxyGR"
      },
      "source": [
        "df['Q']=D/df['N']"
      ],
      "execution_count": null,
      "outputs": []
    },
    {
      "cell_type": "code",
      "metadata": {
        "colab": {
          "base_uri": "https://localhost:8080/",
          "height": 173
        },
        "id": "52gv2dMfY-lU",
        "outputId": "b732f2d0-29e6-49d6-ca26-78d11257c233"
      },
      "source": [
        "df"
      ],
      "execution_count": null,
      "outputs": [
        {
          "output_type": "execute_result",
          "data": {
            "text/html": [
              "<div>\n",
              "<style scoped>\n",
              "    .dataframe tbody tr th:only-of-type {\n",
              "        vertical-align: middle;\n",
              "    }\n",
              "\n",
              "    .dataframe tbody tr th {\n",
              "        vertical-align: top;\n",
              "    }\n",
              "\n",
              "    .dataframe thead th {\n",
              "        text-align: right;\n",
              "    }\n",
              "</style>\n",
              "<table border=\"1\" class=\"dataframe\">\n",
              "  <thead>\n",
              "    <tr style=\"text-align: right;\">\n",
              "      <th></th>\n",
              "      <th>Modo</th>\n",
              "      <th>tau</th>\n",
              "      <th>r</th>\n",
              "      <th>N</th>\n",
              "      <th>cap</th>\n",
              "      <th>A</th>\n",
              "      <th>Q</th>\n",
              "    </tr>\n",
              "  </thead>\n",
              "  <tbody>\n",
              "    <tr>\n",
              "      <th>0</th>\n",
              "      <td>Ferroviario</td>\n",
              "      <td>0.0575</td>\n",
              "      <td>0.10</td>\n",
              "      <td>10</td>\n",
              "      <td>1000000</td>\n",
              "      <td>2000</td>\n",
              "      <td>70000.0</td>\n",
              "    </tr>\n",
              "    <tr>\n",
              "      <th>1</th>\n",
              "      <td>Fluvial</td>\n",
              "      <td>0.0384</td>\n",
              "      <td>0.15</td>\n",
              "      <td>20</td>\n",
              "      <td>17500</td>\n",
              "      <td>5000</td>\n",
              "      <td>35000.0</td>\n",
              "    </tr>\n",
              "    <tr>\n",
              "      <th>2</th>\n",
              "      <td>Carretera</td>\n",
              "      <td>0.0137</td>\n",
              "      <td>0.20</td>\n",
              "      <td>20</td>\n",
              "      <td>8750</td>\n",
              "      <td>1500</td>\n",
              "      <td>35000.0</td>\n",
              "    </tr>\n",
              "    <tr>\n",
              "      <th>3</th>\n",
              "      <td>Aéreo</td>\n",
              "      <td>0.0055</td>\n",
              "      <td>1.40</td>\n",
              "      <td>40</td>\n",
              "      <td>17500</td>\n",
              "      <td>1000</td>\n",
              "      <td>17500.0</td>\n",
              "    </tr>\n",
              "  </tbody>\n",
              "</table>\n",
              "</div>"
            ],
            "text/plain": [
              "          Modo     tau     r   N      cap     A        Q\n",
              "0  Ferroviario  0.0575  0.10  10  1000000  2000  70000.0\n",
              "1      Fluvial  0.0384  0.15  20    17500  5000  35000.0\n",
              "2    Carretera  0.0137  0.20  20     8750  1500  35000.0\n",
              "3        Aéreo  0.0055  1.40  40    17500  1000  17500.0"
            ]
          },
          "metadata": {
            "tags": []
          },
          "execution_count": 110
        }
      ]
    },
    {
      "cell_type": "markdown",
      "metadata": {
        "id": "uJhbzCsc3UHt"
      },
      "source": [
        "Cambiemos el índice de la tabla. Ahora el índice debe ser 'Modo'"
      ]
    },
    {
      "cell_type": "code",
      "metadata": {
        "id": "fFa8Q7NwyTkW"
      },
      "source": [
        "df.set_index('Modo', inplace=True)"
      ],
      "execution_count": null,
      "outputs": []
    },
    {
      "cell_type": "code",
      "metadata": {
        "colab": {
          "base_uri": "https://localhost:8080/",
          "height": 204
        },
        "id": "wigP6mubyZxu",
        "outputId": "751a299e-6d81-4151-8b41-7f6812dabe51"
      },
      "source": [
        "df"
      ],
      "execution_count": null,
      "outputs": [
        {
          "output_type": "execute_result",
          "data": {
            "text/html": [
              "<div>\n",
              "<style scoped>\n",
              "    .dataframe tbody tr th:only-of-type {\n",
              "        vertical-align: middle;\n",
              "    }\n",
              "\n",
              "    .dataframe tbody tr th {\n",
              "        vertical-align: top;\n",
              "    }\n",
              "\n",
              "    .dataframe thead th {\n",
              "        text-align: right;\n",
              "    }\n",
              "</style>\n",
              "<table border=\"1\" class=\"dataframe\">\n",
              "  <thead>\n",
              "    <tr style=\"text-align: right;\">\n",
              "      <th></th>\n",
              "      <th>tau</th>\n",
              "      <th>r</th>\n",
              "      <th>N</th>\n",
              "      <th>cap</th>\n",
              "      <th>A</th>\n",
              "      <th>Q</th>\n",
              "    </tr>\n",
              "    <tr>\n",
              "      <th>Modo</th>\n",
              "      <th></th>\n",
              "      <th></th>\n",
              "      <th></th>\n",
              "      <th></th>\n",
              "      <th></th>\n",
              "      <th></th>\n",
              "    </tr>\n",
              "  </thead>\n",
              "  <tbody>\n",
              "    <tr>\n",
              "      <th>Ferroviario</th>\n",
              "      <td>0.0575</td>\n",
              "      <td>0.10</td>\n",
              "      <td>10</td>\n",
              "      <td>1000000</td>\n",
              "      <td>2000</td>\n",
              "      <td>70000.0</td>\n",
              "    </tr>\n",
              "    <tr>\n",
              "      <th>Fluvial</th>\n",
              "      <td>0.0384</td>\n",
              "      <td>0.15</td>\n",
              "      <td>20</td>\n",
              "      <td>17500</td>\n",
              "      <td>5000</td>\n",
              "      <td>35000.0</td>\n",
              "    </tr>\n",
              "    <tr>\n",
              "      <th>Carretera</th>\n",
              "      <td>0.0137</td>\n",
              "      <td>0.20</td>\n",
              "      <td>20</td>\n",
              "      <td>8750</td>\n",
              "      <td>1500</td>\n",
              "      <td>35000.0</td>\n",
              "    </tr>\n",
              "    <tr>\n",
              "      <th>Aéreo</th>\n",
              "      <td>0.0055</td>\n",
              "      <td>1.40</td>\n",
              "      <td>40</td>\n",
              "      <td>17500</td>\n",
              "      <td>1000</td>\n",
              "      <td>17500.0</td>\n",
              "    </tr>\n",
              "  </tbody>\n",
              "</table>\n",
              "</div>"
            ],
            "text/plain": [
              "                tau     r   N      cap     A        Q\n",
              "Modo                                                 \n",
              "Ferroviario  0.0575  0.10  10  1000000  2000  70000.0\n",
              "Fluvial      0.0384  0.15  20    17500  5000  35000.0\n",
              "Carretera    0.0137  0.20  20     8750  1500  35000.0\n",
              "Aéreo        0.0055  1.40  40    17500  1000  17500.0"
            ]
          },
          "metadata": {
            "tags": []
          },
          "execution_count": 112
        }
      ]
    },
    {
      "cell_type": "markdown",
      "metadata": {
        "id": "nPbAmv8S3nAW"
      },
      "source": [
        "Tomemos el modo de transporte 'Ferroviario'. df.loc['Ferroviario] toma todas las columnas de la fila 'Ferroviario'"
      ]
    },
    {
      "cell_type": "code",
      "metadata": {
        "colab": {
          "base_uri": "https://localhost:8080/"
        },
        "id": "X07w44YQZkLy",
        "outputId": "bffc162a-5362-45d4-e46f-9832bac91a17"
      },
      "source": [
        "print( df.loc['Ferroviario','Q'])"
      ],
      "execution_count": null,
      "outputs": [
        {
          "output_type": "stream",
          "text": [
            "70000.0\n"
          ],
          "name": "stdout"
        }
      ]
    },
    {
      "cell_type": "markdown",
      "metadata": {
        "id": "YlJ4FbodZ3Lx"
      },
      "source": [
        "'slicing' = tomar trozos del dataframe. df_m es un nuevo dataframe"
      ]
    },
    {
      "cell_type": "code",
      "metadata": {
        "id": "_iaLg4Bdy_jf"
      },
      "source": [
        "df_m = df.loc['Aéreo']"
      ],
      "execution_count": null,
      "outputs": []
    },
    {
      "cell_type": "code",
      "metadata": {
        "colab": {
          "base_uri": "https://localhost:8080/"
        },
        "id": "C1vnLs2jzRoh",
        "outputId": "6528dae3-9bb4-47d6-fc0d-af14f116f155"
      },
      "source": [
        "df_m"
      ],
      "execution_count": null,
      "outputs": [
        {
          "output_type": "execute_result",
          "data": {
            "text/plain": [
              "tau        0.0055\n",
              "r          1.4000\n",
              "N         40.0000\n",
              "cap    17500.0000\n",
              "A       1000.0000\n",
              "Q      17500.0000\n",
              "Name: Aéreo, dtype: float64"
            ]
          },
          "metadata": {
            "tags": []
          },
          "execution_count": 115
        }
      ]
    },
    {
      "cell_type": "markdown",
      "metadata": {
        "id": "Pl72253Y4Hj8"
      },
      "source": [
        "Asignemos los valores de la tabla a variables simples. Modo ferroviario"
      ]
    },
    {
      "cell_type": "code",
      "metadata": {
        "id": "cRHRla8tzU__"
      },
      "source": [
        "Q = df_m.loc['Q']\n",
        "tau = df_m.loc['tau']\n",
        "cap = df_m.loc['cap']\n",
        "A = df_m.loc['A']\n",
        "N = df_m.loc['N']\n",
        "r = df_m.loc['r']"
      ],
      "execution_count": null,
      "outputs": []
    },
    {
      "cell_type": "markdown",
      "metadata": {
        "id": "0WULlaMw4QCR"
      },
      "source": [
        "Hallemos el número de camiones. Usemos la función `trunc` que redondea hacia arriba:"
      ]
    },
    {
      "cell_type": "code",
      "metadata": {
        "colab": {
          "base_uri": "https://localhost:8080/"
        },
        "id": "nP0mF9ka1Khg",
        "outputId": "ebd14584-73c9-4186-d8e4-e87e56bdc5a2"
      },
      "source": [
        "n = Q/cap\n",
        "\n",
        "if math.trunc(n)<n: n = math.trunc(n)+1\n",
        "print ('Número de vehículos por envío', n)\n"
      ],
      "execution_count": null,
      "outputs": [
        {
          "output_type": "stream",
          "text": [
            "Número de vehículos por envío 1.0\n"
          ],
          "name": "stdout"
        }
      ]
    },
    {
      "cell_type": "code",
      "metadata": {
        "id": "0qJEizrn3LG0"
      },
      "source": [
        "cprima = c+ r + A*n/Q\n",
        "costo_inv_planta = i*c*(Q/2+ss)\n",
        "costo_inv_cd = i*cprima*(Q/2+ss)\n",
        "costo_inv_transito =  i*c*D*tau\n",
        "costo_transporte = r*D\n",
        "costo_total= i*c*(Q/2+ss) + i*c*D*tau + r*D + A*n*D/Q + i*cprima*(Q/2+ss)"
      ],
      "execution_count": null,
      "outputs": []
    },
    {
      "cell_type": "code",
      "metadata": {
        "colab": {
          "base_uri": "https://localhost:8080/"
        },
        "id": "4AtZkiB010nt",
        "outputId": "545538a5-48e3-4ab4-fd4f-3d4987163d9c"
      },
      "source": [
        "print('c_prima', cprima)\n",
        "print('Costo inv planta', costo_inv_planta)\n",
        "print('Costo inv cd',costo_inv_cd)\n",
        "print('Costo inv tránsito', costo_inv_transito)\n",
        "print('Costo transporte', costo_transporte)\n",
        "print('Costo total anual',costo_total)"
      ],
      "execution_count": null,
      "outputs": [
        {
          "output_type": "stream",
          "text": [
            "c_prima 31.457142857142856\n",
            "Costo inv planta 251352.0\n",
            "Costo inv cd 263560.5257142857\n",
            "Costo inv tránsito 34650.0\n",
            "Costo transporte 979999.9999999999\n",
            "Costo total anual 1569562.5257142857\n"
          ],
          "name": "stdout"
        }
      ]
    },
    {
      "cell_type": "code",
      "metadata": {
        "id": "gTU5Ai5O2axX"
      },
      "source": [
        "df['n']=df['Q']/df['cap']\n"
      ],
      "execution_count": null,
      "outputs": []
    },
    {
      "cell_type": "code",
      "metadata": {
        "id": "ChKNyoz25UdI",
        "colab": {
          "base_uri": "https://localhost:8080/",
          "height": 204
        },
        "outputId": "b92bf59a-6395-4c48-cdf7-17b70e9cbb84"
      },
      "source": [
        "df"
      ],
      "execution_count": null,
      "outputs": [
        {
          "output_type": "execute_result",
          "data": {
            "text/html": [
              "<div>\n",
              "<style scoped>\n",
              "    .dataframe tbody tr th:only-of-type {\n",
              "        vertical-align: middle;\n",
              "    }\n",
              "\n",
              "    .dataframe tbody tr th {\n",
              "        vertical-align: top;\n",
              "    }\n",
              "\n",
              "    .dataframe thead th {\n",
              "        text-align: right;\n",
              "    }\n",
              "</style>\n",
              "<table border=\"1\" class=\"dataframe\">\n",
              "  <thead>\n",
              "    <tr style=\"text-align: right;\">\n",
              "      <th></th>\n",
              "      <th>tau</th>\n",
              "      <th>r</th>\n",
              "      <th>N</th>\n",
              "      <th>cap</th>\n",
              "      <th>A</th>\n",
              "      <th>Q</th>\n",
              "      <th>n</th>\n",
              "    </tr>\n",
              "    <tr>\n",
              "      <th>Modo</th>\n",
              "      <th></th>\n",
              "      <th></th>\n",
              "      <th></th>\n",
              "      <th></th>\n",
              "      <th></th>\n",
              "      <th></th>\n",
              "      <th></th>\n",
              "    </tr>\n",
              "  </thead>\n",
              "  <tbody>\n",
              "    <tr>\n",
              "      <th>Ferroviario</th>\n",
              "      <td>0.0575</td>\n",
              "      <td>0.10</td>\n",
              "      <td>10</td>\n",
              "      <td>1000000</td>\n",
              "      <td>2000</td>\n",
              "      <td>70000.0</td>\n",
              "      <td>0.07</td>\n",
              "    </tr>\n",
              "    <tr>\n",
              "      <th>Fluvial</th>\n",
              "      <td>0.0384</td>\n",
              "      <td>0.15</td>\n",
              "      <td>20</td>\n",
              "      <td>17500</td>\n",
              "      <td>5000</td>\n",
              "      <td>35000.0</td>\n",
              "      <td>2.00</td>\n",
              "    </tr>\n",
              "    <tr>\n",
              "      <th>Carretera</th>\n",
              "      <td>0.0137</td>\n",
              "      <td>0.20</td>\n",
              "      <td>20</td>\n",
              "      <td>8750</td>\n",
              "      <td>1500</td>\n",
              "      <td>35000.0</td>\n",
              "      <td>4.00</td>\n",
              "    </tr>\n",
              "    <tr>\n",
              "      <th>Aéreo</th>\n",
              "      <td>0.0055</td>\n",
              "      <td>1.40</td>\n",
              "      <td>40</td>\n",
              "      <td>17500</td>\n",
              "      <td>1000</td>\n",
              "      <td>17500.0</td>\n",
              "      <td>1.00</td>\n",
              "    </tr>\n",
              "  </tbody>\n",
              "</table>\n",
              "</div>"
            ],
            "text/plain": [
              "                tau     r   N      cap     A        Q     n\n",
              "Modo                                                       \n",
              "Ferroviario  0.0575  0.10  10  1000000  2000  70000.0  0.07\n",
              "Fluvial      0.0384  0.15  20    17500  5000  35000.0  2.00\n",
              "Carretera    0.0137  0.20  20     8750  1500  35000.0  4.00\n",
              "Aéreo        0.0055  1.40  40    17500  1000  17500.0  1.00"
            ]
          },
          "metadata": {
            "tags": []
          },
          "execution_count": 121
        }
      ]
    },
    {
      "cell_type": "code",
      "metadata": {
        "id": "_FokFoyz6l-C"
      },
      "source": [
        "import numpy as np"
      ],
      "execution_count": null,
      "outputs": []
    },
    {
      "cell_type": "code",
      "metadata": {
        "id": "DmHaDpcs6psG"
      },
      "source": [
        "df['n']=np.ceil(df['n'])"
      ],
      "execution_count": null,
      "outputs": []
    },
    {
      "cell_type": "code",
      "metadata": {
        "colab": {
          "base_uri": "https://localhost:8080/",
          "height": 204
        },
        "id": "-_w4M8O36zWe",
        "outputId": "8572552a-973a-4b3d-9510-0330588d5560"
      },
      "source": [
        "df"
      ],
      "execution_count": null,
      "outputs": [
        {
          "output_type": "execute_result",
          "data": {
            "text/html": [
              "<div>\n",
              "<style scoped>\n",
              "    .dataframe tbody tr th:only-of-type {\n",
              "        vertical-align: middle;\n",
              "    }\n",
              "\n",
              "    .dataframe tbody tr th {\n",
              "        vertical-align: top;\n",
              "    }\n",
              "\n",
              "    .dataframe thead th {\n",
              "        text-align: right;\n",
              "    }\n",
              "</style>\n",
              "<table border=\"1\" class=\"dataframe\">\n",
              "  <thead>\n",
              "    <tr style=\"text-align: right;\">\n",
              "      <th></th>\n",
              "      <th>tau</th>\n",
              "      <th>r</th>\n",
              "      <th>N</th>\n",
              "      <th>cap</th>\n",
              "      <th>A</th>\n",
              "      <th>Q</th>\n",
              "      <th>n</th>\n",
              "    </tr>\n",
              "    <tr>\n",
              "      <th>Modo</th>\n",
              "      <th></th>\n",
              "      <th></th>\n",
              "      <th></th>\n",
              "      <th></th>\n",
              "      <th></th>\n",
              "      <th></th>\n",
              "      <th></th>\n",
              "    </tr>\n",
              "  </thead>\n",
              "  <tbody>\n",
              "    <tr>\n",
              "      <th>Ferroviario</th>\n",
              "      <td>0.0575</td>\n",
              "      <td>0.10</td>\n",
              "      <td>10</td>\n",
              "      <td>1000000</td>\n",
              "      <td>2000</td>\n",
              "      <td>70000.0</td>\n",
              "      <td>1.0</td>\n",
              "    </tr>\n",
              "    <tr>\n",
              "      <th>Fluvial</th>\n",
              "      <td>0.0384</td>\n",
              "      <td>0.15</td>\n",
              "      <td>20</td>\n",
              "      <td>17500</td>\n",
              "      <td>5000</td>\n",
              "      <td>35000.0</td>\n",
              "      <td>2.0</td>\n",
              "    </tr>\n",
              "    <tr>\n",
              "      <th>Carretera</th>\n",
              "      <td>0.0137</td>\n",
              "      <td>0.20</td>\n",
              "      <td>20</td>\n",
              "      <td>8750</td>\n",
              "      <td>1500</td>\n",
              "      <td>35000.0</td>\n",
              "      <td>4.0</td>\n",
              "    </tr>\n",
              "    <tr>\n",
              "      <th>Aéreo</th>\n",
              "      <td>0.0055</td>\n",
              "      <td>1.40</td>\n",
              "      <td>40</td>\n",
              "      <td>17500</td>\n",
              "      <td>1000</td>\n",
              "      <td>17500.0</td>\n",
              "      <td>1.0</td>\n",
              "    </tr>\n",
              "  </tbody>\n",
              "</table>\n",
              "</div>"
            ],
            "text/plain": [
              "                tau     r   N      cap     A        Q    n\n",
              "Modo                                                      \n",
              "Ferroviario  0.0575  0.10  10  1000000  2000  70000.0  1.0\n",
              "Fluvial      0.0384  0.15  20    17500  5000  35000.0  2.0\n",
              "Carretera    0.0137  0.20  20     8750  1500  35000.0  4.0\n",
              "Aéreo        0.0055  1.40  40    17500  1000  17500.0  1.0"
            ]
          },
          "metadata": {
            "tags": []
          },
          "execution_count": 124
        }
      ]
    },
    {
      "cell_type": "code",
      "metadata": {
        "colab": {
          "base_uri": "https://localhost:8080/"
        },
        "id": "Z3ilsXbg7I_n",
        "outputId": "64bdb4c5-8845-4db7-c360-295e4d0e3dd5"
      },
      "source": [
        "np.max(df['Q'])"
      ],
      "execution_count": null,
      "outputs": [
        {
          "output_type": "execute_result",
          "data": {
            "text/plain": [
              "70000.0"
            ]
          },
          "metadata": {
            "tags": []
          },
          "execution_count": 125
        }
      ]
    },
    {
      "cell_type": "code",
      "metadata": {
        "colab": {
          "base_uri": "https://localhost:8080/"
        },
        "id": "EDo1hyLR79lG",
        "outputId": "e92daf6d-93ed-4d83-b9af-d60a8305e5bf"
      },
      "source": [
        "df.index"
      ],
      "execution_count": null,
      "outputs": [
        {
          "output_type": "execute_result",
          "data": {
            "text/plain": [
              "Index(['Ferroviario', 'Fluvial', 'Carretera', 'Aéreo'], dtype='object', name='Modo')"
            ]
          },
          "metadata": {
            "tags": []
          },
          "execution_count": 126
        }
      ]
    },
    {
      "cell_type": "code",
      "metadata": {
        "colab": {
          "base_uri": "https://localhost:8080/",
          "height": 204
        },
        "id": "ApGvNWT78MZ8",
        "outputId": "5074eaca-4aec-4782-8d90-91beb3ae3703"
      },
      "source": [
        "df['C_prima']=c+df['r']+df['A']*df['n']/df['Q']\n",
        "df"
      ],
      "execution_count": null,
      "outputs": [
        {
          "output_type": "execute_result",
          "data": {
            "text/html": [
              "<div>\n",
              "<style scoped>\n",
              "    .dataframe tbody tr th:only-of-type {\n",
              "        vertical-align: middle;\n",
              "    }\n",
              "\n",
              "    .dataframe tbody tr th {\n",
              "        vertical-align: top;\n",
              "    }\n",
              "\n",
              "    .dataframe thead th {\n",
              "        text-align: right;\n",
              "    }\n",
              "</style>\n",
              "<table border=\"1\" class=\"dataframe\">\n",
              "  <thead>\n",
              "    <tr style=\"text-align: right;\">\n",
              "      <th></th>\n",
              "      <th>tau</th>\n",
              "      <th>r</th>\n",
              "      <th>N</th>\n",
              "      <th>cap</th>\n",
              "      <th>A</th>\n",
              "      <th>Q</th>\n",
              "      <th>n</th>\n",
              "      <th>C_prima</th>\n",
              "    </tr>\n",
              "    <tr>\n",
              "      <th>Modo</th>\n",
              "      <th></th>\n",
              "      <th></th>\n",
              "      <th></th>\n",
              "      <th></th>\n",
              "      <th></th>\n",
              "      <th></th>\n",
              "      <th></th>\n",
              "      <th></th>\n",
              "    </tr>\n",
              "  </thead>\n",
              "  <tbody>\n",
              "    <tr>\n",
              "      <th>Ferroviario</th>\n",
              "      <td>0.0575</td>\n",
              "      <td>0.10</td>\n",
              "      <td>10</td>\n",
              "      <td>1000000</td>\n",
              "      <td>2000</td>\n",
              "      <td>70000.0</td>\n",
              "      <td>1.0</td>\n",
              "      <td>30.128571</td>\n",
              "    </tr>\n",
              "    <tr>\n",
              "      <th>Fluvial</th>\n",
              "      <td>0.0384</td>\n",
              "      <td>0.15</td>\n",
              "      <td>20</td>\n",
              "      <td>17500</td>\n",
              "      <td>5000</td>\n",
              "      <td>35000.0</td>\n",
              "      <td>2.0</td>\n",
              "      <td>30.435714</td>\n",
              "    </tr>\n",
              "    <tr>\n",
              "      <th>Carretera</th>\n",
              "      <td>0.0137</td>\n",
              "      <td>0.20</td>\n",
              "      <td>20</td>\n",
              "      <td>8750</td>\n",
              "      <td>1500</td>\n",
              "      <td>35000.0</td>\n",
              "      <td>4.0</td>\n",
              "      <td>30.371429</td>\n",
              "    </tr>\n",
              "    <tr>\n",
              "      <th>Aéreo</th>\n",
              "      <td>0.0055</td>\n",
              "      <td>1.40</td>\n",
              "      <td>40</td>\n",
              "      <td>17500</td>\n",
              "      <td>1000</td>\n",
              "      <td>17500.0</td>\n",
              "      <td>1.0</td>\n",
              "      <td>31.457143</td>\n",
              "    </tr>\n",
              "  </tbody>\n",
              "</table>\n",
              "</div>"
            ],
            "text/plain": [
              "                tau     r   N      cap     A        Q    n    C_prima\n",
              "Modo                                                                 \n",
              "Ferroviario  0.0575  0.10  10  1000000  2000  70000.0  1.0  30.128571\n",
              "Fluvial      0.0384  0.15  20    17500  5000  35000.0  2.0  30.435714\n",
              "Carretera    0.0137  0.20  20     8750  1500  35000.0  4.0  30.371429\n",
              "Aéreo        0.0055  1.40  40    17500  1000  17500.0  1.0  31.457143"
            ]
          },
          "metadata": {
            "tags": []
          },
          "execution_count": 127
        }
      ]
    },
    {
      "cell_type": "code",
      "metadata": {
        "colab": {
          "base_uri": "https://localhost:8080/",
          "height": 204
        },
        "id": "7tC-UONJ8ewZ",
        "outputId": "76a0ce5e-cc51-4c4a-f4b2-c5df75ae8332"
      },
      "source": [
        "df['costo_inv_planta']=i*c*(df['Q']/2+ss)\n",
        "df"
      ],
      "execution_count": null,
      "outputs": [
        {
          "output_type": "execute_result",
          "data": {
            "text/html": [
              "<div>\n",
              "<style scoped>\n",
              "    .dataframe tbody tr th:only-of-type {\n",
              "        vertical-align: middle;\n",
              "    }\n",
              "\n",
              "    .dataframe tbody tr th {\n",
              "        vertical-align: top;\n",
              "    }\n",
              "\n",
              "    .dataframe thead th {\n",
              "        text-align: right;\n",
              "    }\n",
              "</style>\n",
              "<table border=\"1\" class=\"dataframe\">\n",
              "  <thead>\n",
              "    <tr style=\"text-align: right;\">\n",
              "      <th></th>\n",
              "      <th>tau</th>\n",
              "      <th>r</th>\n",
              "      <th>N</th>\n",
              "      <th>cap</th>\n",
              "      <th>A</th>\n",
              "      <th>Q</th>\n",
              "      <th>n</th>\n",
              "      <th>C_prima</th>\n",
              "      <th>costo_inv_planta</th>\n",
              "    </tr>\n",
              "    <tr>\n",
              "      <th>Modo</th>\n",
              "      <th></th>\n",
              "      <th></th>\n",
              "      <th></th>\n",
              "      <th></th>\n",
              "      <th></th>\n",
              "      <th></th>\n",
              "      <th></th>\n",
              "      <th></th>\n",
              "      <th></th>\n",
              "    </tr>\n",
              "  </thead>\n",
              "  <tbody>\n",
              "    <tr>\n",
              "      <th>Ferroviario</th>\n",
              "      <td>0.0575</td>\n",
              "      <td>0.10</td>\n",
              "      <td>10</td>\n",
              "      <td>1000000</td>\n",
              "      <td>2000</td>\n",
              "      <td>70000.0</td>\n",
              "      <td>1.0</td>\n",
              "      <td>30.128571</td>\n",
              "      <td>487602.0</td>\n",
              "    </tr>\n",
              "    <tr>\n",
              "      <th>Fluvial</th>\n",
              "      <td>0.0384</td>\n",
              "      <td>0.15</td>\n",
              "      <td>20</td>\n",
              "      <td>17500</td>\n",
              "      <td>5000</td>\n",
              "      <td>35000.0</td>\n",
              "      <td>2.0</td>\n",
              "      <td>30.435714</td>\n",
              "      <td>330102.0</td>\n",
              "    </tr>\n",
              "    <tr>\n",
              "      <th>Carretera</th>\n",
              "      <td>0.0137</td>\n",
              "      <td>0.20</td>\n",
              "      <td>20</td>\n",
              "      <td>8750</td>\n",
              "      <td>1500</td>\n",
              "      <td>35000.0</td>\n",
              "      <td>4.0</td>\n",
              "      <td>30.371429</td>\n",
              "      <td>330102.0</td>\n",
              "    </tr>\n",
              "    <tr>\n",
              "      <th>Aéreo</th>\n",
              "      <td>0.0055</td>\n",
              "      <td>1.40</td>\n",
              "      <td>40</td>\n",
              "      <td>17500</td>\n",
              "      <td>1000</td>\n",
              "      <td>17500.0</td>\n",
              "      <td>1.0</td>\n",
              "      <td>31.457143</td>\n",
              "      <td>251352.0</td>\n",
              "    </tr>\n",
              "  </tbody>\n",
              "</table>\n",
              "</div>"
            ],
            "text/plain": [
              "                tau     r   N  ...    n    C_prima  costo_inv_planta\n",
              "Modo                           ...                                  \n",
              "Ferroviario  0.0575  0.10  10  ...  1.0  30.128571          487602.0\n",
              "Fluvial      0.0384  0.15  20  ...  2.0  30.435714          330102.0\n",
              "Carretera    0.0137  0.20  20  ...  4.0  30.371429          330102.0\n",
              "Aéreo        0.0055  1.40  40  ...  1.0  31.457143          251352.0\n",
              "\n",
              "[4 rows x 9 columns]"
            ]
          },
          "metadata": {
            "tags": []
          },
          "execution_count": 128
        }
      ]
    },
    {
      "cell_type": "code",
      "metadata": {
        "colab": {
          "base_uri": "https://localhost:8080/",
          "height": 204
        },
        "id": "CI8AZgOf83sI",
        "outputId": "b023fbca-97b5-4c04-9c2e-8b9fac79d989"
      },
      "source": [
        "df['costo_anual_transporte']=D*(df['r']+df['A']*df['n']/df['Q'])\n",
        "df"
      ],
      "execution_count": null,
      "outputs": [
        {
          "output_type": "execute_result",
          "data": {
            "text/html": [
              "<div>\n",
              "<style scoped>\n",
              "    .dataframe tbody tr th:only-of-type {\n",
              "        vertical-align: middle;\n",
              "    }\n",
              "\n",
              "    .dataframe tbody tr th {\n",
              "        vertical-align: top;\n",
              "    }\n",
              "\n",
              "    .dataframe thead th {\n",
              "        text-align: right;\n",
              "    }\n",
              "</style>\n",
              "<table border=\"1\" class=\"dataframe\">\n",
              "  <thead>\n",
              "    <tr style=\"text-align: right;\">\n",
              "      <th></th>\n",
              "      <th>tau</th>\n",
              "      <th>r</th>\n",
              "      <th>N</th>\n",
              "      <th>cap</th>\n",
              "      <th>A</th>\n",
              "      <th>Q</th>\n",
              "      <th>n</th>\n",
              "      <th>C_prima</th>\n",
              "      <th>costo_inv_planta</th>\n",
              "      <th>costo_anual_transporte</th>\n",
              "    </tr>\n",
              "    <tr>\n",
              "      <th>Modo</th>\n",
              "      <th></th>\n",
              "      <th></th>\n",
              "      <th></th>\n",
              "      <th></th>\n",
              "      <th></th>\n",
              "      <th></th>\n",
              "      <th></th>\n",
              "      <th></th>\n",
              "      <th></th>\n",
              "      <th></th>\n",
              "    </tr>\n",
              "  </thead>\n",
              "  <tbody>\n",
              "    <tr>\n",
              "      <th>Ferroviario</th>\n",
              "      <td>0.0575</td>\n",
              "      <td>0.10</td>\n",
              "      <td>10</td>\n",
              "      <td>1000000</td>\n",
              "      <td>2000</td>\n",
              "      <td>70000.0</td>\n",
              "      <td>1.0</td>\n",
              "      <td>30.128571</td>\n",
              "      <td>487602.0</td>\n",
              "      <td>90000.0</td>\n",
              "    </tr>\n",
              "    <tr>\n",
              "      <th>Fluvial</th>\n",
              "      <td>0.0384</td>\n",
              "      <td>0.15</td>\n",
              "      <td>20</td>\n",
              "      <td>17500</td>\n",
              "      <td>5000</td>\n",
              "      <td>35000.0</td>\n",
              "      <td>2.0</td>\n",
              "      <td>30.435714</td>\n",
              "      <td>330102.0</td>\n",
              "      <td>305000.0</td>\n",
              "    </tr>\n",
              "    <tr>\n",
              "      <th>Carretera</th>\n",
              "      <td>0.0137</td>\n",
              "      <td>0.20</td>\n",
              "      <td>20</td>\n",
              "      <td>8750</td>\n",
              "      <td>1500</td>\n",
              "      <td>35000.0</td>\n",
              "      <td>4.0</td>\n",
              "      <td>30.371429</td>\n",
              "      <td>330102.0</td>\n",
              "      <td>260000.0</td>\n",
              "    </tr>\n",
              "    <tr>\n",
              "      <th>Aéreo</th>\n",
              "      <td>0.0055</td>\n",
              "      <td>1.40</td>\n",
              "      <td>40</td>\n",
              "      <td>17500</td>\n",
              "      <td>1000</td>\n",
              "      <td>17500.0</td>\n",
              "      <td>1.0</td>\n",
              "      <td>31.457143</td>\n",
              "      <td>251352.0</td>\n",
              "      <td>1020000.0</td>\n",
              "    </tr>\n",
              "  </tbody>\n",
              "</table>\n",
              "</div>"
            ],
            "text/plain": [
              "                tau     r  ...  costo_inv_planta  costo_anual_transporte\n",
              "Modo                       ...                                          \n",
              "Ferroviario  0.0575  0.10  ...          487602.0                 90000.0\n",
              "Fluvial      0.0384  0.15  ...          330102.0                305000.0\n",
              "Carretera    0.0137  0.20  ...          330102.0                260000.0\n",
              "Aéreo        0.0055  1.40  ...          251352.0               1020000.0\n",
              "\n",
              "[4 rows x 10 columns]"
            ]
          },
          "metadata": {
            "tags": []
          },
          "execution_count": 129
        }
      ]
    },
    {
      "cell_type": "code",
      "metadata": {
        "colab": {
          "base_uri": "https://localhost:8080/",
          "height": 204
        },
        "id": "gqyKx1709pc_",
        "outputId": "2452d86a-0cfe-4a80-aa6e-e410aa79bbf6"
      },
      "source": [
        "df['costo_anual_inv_transito']=i*c*D*df['tau']\n",
        "df"
      ],
      "execution_count": null,
      "outputs": [
        {
          "output_type": "execute_result",
          "data": {
            "text/html": [
              "<div>\n",
              "<style scoped>\n",
              "    .dataframe tbody tr th:only-of-type {\n",
              "        vertical-align: middle;\n",
              "    }\n",
              "\n",
              "    .dataframe tbody tr th {\n",
              "        vertical-align: top;\n",
              "    }\n",
              "\n",
              "    .dataframe thead th {\n",
              "        text-align: right;\n",
              "    }\n",
              "</style>\n",
              "<table border=\"1\" class=\"dataframe\">\n",
              "  <thead>\n",
              "    <tr style=\"text-align: right;\">\n",
              "      <th></th>\n",
              "      <th>tau</th>\n",
              "      <th>r</th>\n",
              "      <th>N</th>\n",
              "      <th>cap</th>\n",
              "      <th>A</th>\n",
              "      <th>Q</th>\n",
              "      <th>n</th>\n",
              "      <th>C_prima</th>\n",
              "      <th>costo_inv_planta</th>\n",
              "      <th>costo_anual_transporte</th>\n",
              "      <th>costo_anual_inv_transito</th>\n",
              "    </tr>\n",
              "    <tr>\n",
              "      <th>Modo</th>\n",
              "      <th></th>\n",
              "      <th></th>\n",
              "      <th></th>\n",
              "      <th></th>\n",
              "      <th></th>\n",
              "      <th></th>\n",
              "      <th></th>\n",
              "      <th></th>\n",
              "      <th></th>\n",
              "      <th></th>\n",
              "      <th></th>\n",
              "    </tr>\n",
              "  </thead>\n",
              "  <tbody>\n",
              "    <tr>\n",
              "      <th>Ferroviario</th>\n",
              "      <td>0.0575</td>\n",
              "      <td>0.10</td>\n",
              "      <td>10</td>\n",
              "      <td>1000000</td>\n",
              "      <td>2000</td>\n",
              "      <td>70000.0</td>\n",
              "      <td>1.0</td>\n",
              "      <td>30.128571</td>\n",
              "      <td>487602.0</td>\n",
              "      <td>90000.0</td>\n",
              "      <td>362250.0</td>\n",
              "    </tr>\n",
              "    <tr>\n",
              "      <th>Fluvial</th>\n",
              "      <td>0.0384</td>\n",
              "      <td>0.15</td>\n",
              "      <td>20</td>\n",
              "      <td>17500</td>\n",
              "      <td>5000</td>\n",
              "      <td>35000.0</td>\n",
              "      <td>2.0</td>\n",
              "      <td>30.435714</td>\n",
              "      <td>330102.0</td>\n",
              "      <td>305000.0</td>\n",
              "      <td>241920.0</td>\n",
              "    </tr>\n",
              "    <tr>\n",
              "      <th>Carretera</th>\n",
              "      <td>0.0137</td>\n",
              "      <td>0.20</td>\n",
              "      <td>20</td>\n",
              "      <td>8750</td>\n",
              "      <td>1500</td>\n",
              "      <td>35000.0</td>\n",
              "      <td>4.0</td>\n",
              "      <td>30.371429</td>\n",
              "      <td>330102.0</td>\n",
              "      <td>260000.0</td>\n",
              "      <td>86310.0</td>\n",
              "    </tr>\n",
              "    <tr>\n",
              "      <th>Aéreo</th>\n",
              "      <td>0.0055</td>\n",
              "      <td>1.40</td>\n",
              "      <td>40</td>\n",
              "      <td>17500</td>\n",
              "      <td>1000</td>\n",
              "      <td>17500.0</td>\n",
              "      <td>1.0</td>\n",
              "      <td>31.457143</td>\n",
              "      <td>251352.0</td>\n",
              "      <td>1020000.0</td>\n",
              "      <td>34650.0</td>\n",
              "    </tr>\n",
              "  </tbody>\n",
              "</table>\n",
              "</div>"
            ],
            "text/plain": [
              "                tau     r  ...  costo_anual_transporte  costo_anual_inv_transito\n",
              "Modo                       ...                                                  \n",
              "Ferroviario  0.0575  0.10  ...                 90000.0                  362250.0\n",
              "Fluvial      0.0384  0.15  ...                305000.0                  241920.0\n",
              "Carretera    0.0137  0.20  ...                260000.0                   86310.0\n",
              "Aéreo        0.0055  1.40  ...               1020000.0                   34650.0\n",
              "\n",
              "[4 rows x 11 columns]"
            ]
          },
          "metadata": {
            "tags": []
          },
          "execution_count": 130
        }
      ]
    },
    {
      "cell_type": "code",
      "metadata": {
        "colab": {
          "base_uri": "https://localhost:8080/",
          "height": 204
        },
        "id": "HUFZf6Bp90dx",
        "outputId": "f46115c0-c035-4198-e97e-2f21b831ff3a"
      },
      "source": [
        "df['costo_anual_inv_CD']=i*df['C_prima']*(df['Q']/2+ss)\n",
        "df"
      ],
      "execution_count": null,
      "outputs": [
        {
          "output_type": "execute_result",
          "data": {
            "text/html": [
              "<div>\n",
              "<style scoped>\n",
              "    .dataframe tbody tr th:only-of-type {\n",
              "        vertical-align: middle;\n",
              "    }\n",
              "\n",
              "    .dataframe tbody tr th {\n",
              "        vertical-align: top;\n",
              "    }\n",
              "\n",
              "    .dataframe thead th {\n",
              "        text-align: right;\n",
              "    }\n",
              "</style>\n",
              "<table border=\"1\" class=\"dataframe\">\n",
              "  <thead>\n",
              "    <tr style=\"text-align: right;\">\n",
              "      <th></th>\n",
              "      <th>tau</th>\n",
              "      <th>r</th>\n",
              "      <th>N</th>\n",
              "      <th>cap</th>\n",
              "      <th>A</th>\n",
              "      <th>Q</th>\n",
              "      <th>n</th>\n",
              "      <th>C_prima</th>\n",
              "      <th>costo_inv_planta</th>\n",
              "      <th>costo_anual_transporte</th>\n",
              "      <th>costo_anual_inv_transito</th>\n",
              "      <th>costo_anual_inv_CD</th>\n",
              "    </tr>\n",
              "    <tr>\n",
              "      <th>Modo</th>\n",
              "      <th></th>\n",
              "      <th></th>\n",
              "      <th></th>\n",
              "      <th></th>\n",
              "      <th></th>\n",
              "      <th></th>\n",
              "      <th></th>\n",
              "      <th></th>\n",
              "      <th></th>\n",
              "      <th></th>\n",
              "      <th></th>\n",
              "      <th></th>\n",
              "    </tr>\n",
              "  </thead>\n",
              "  <tbody>\n",
              "    <tr>\n",
              "      <th>Ferroviario</th>\n",
              "      <td>0.0575</td>\n",
              "      <td>0.10</td>\n",
              "      <td>10</td>\n",
              "      <td>1000000</td>\n",
              "      <td>2000</td>\n",
              "      <td>70000.0</td>\n",
              "      <td>1.0</td>\n",
              "      <td>30.128571</td>\n",
              "      <td>487602.0</td>\n",
              "      <td>90000.0</td>\n",
              "      <td>362250.0</td>\n",
              "      <td>489691.722857</td>\n",
              "    </tr>\n",
              "    <tr>\n",
              "      <th>Fluvial</th>\n",
              "      <td>0.0384</td>\n",
              "      <td>0.15</td>\n",
              "      <td>20</td>\n",
              "      <td>17500</td>\n",
              "      <td>5000</td>\n",
              "      <td>35000.0</td>\n",
              "      <td>2.0</td>\n",
              "      <td>30.435714</td>\n",
              "      <td>330102.0</td>\n",
              "      <td>305000.0</td>\n",
              "      <td>241920.0</td>\n",
              "      <td>334896.338571</td>\n",
              "    </tr>\n",
              "    <tr>\n",
              "      <th>Carretera</th>\n",
              "      <td>0.0137</td>\n",
              "      <td>0.20</td>\n",
              "      <td>20</td>\n",
              "      <td>8750</td>\n",
              "      <td>1500</td>\n",
              "      <td>35000.0</td>\n",
              "      <td>4.0</td>\n",
              "      <td>30.371429</td>\n",
              "      <td>330102.0</td>\n",
              "      <td>260000.0</td>\n",
              "      <td>86310.0</td>\n",
              "      <td>334188.977143</td>\n",
              "    </tr>\n",
              "    <tr>\n",
              "      <th>Aéreo</th>\n",
              "      <td>0.0055</td>\n",
              "      <td>1.40</td>\n",
              "      <td>40</td>\n",
              "      <td>17500</td>\n",
              "      <td>1000</td>\n",
              "      <td>17500.0</td>\n",
              "      <td>1.0</td>\n",
              "      <td>31.457143</td>\n",
              "      <td>251352.0</td>\n",
              "      <td>1020000.0</td>\n",
              "      <td>34650.0</td>\n",
              "      <td>263560.525714</td>\n",
              "    </tr>\n",
              "  </tbody>\n",
              "</table>\n",
              "</div>"
            ],
            "text/plain": [
              "                tau     r  ...  costo_anual_inv_transito  costo_anual_inv_CD\n",
              "Modo                       ...                                              \n",
              "Ferroviario  0.0575  0.10  ...                  362250.0       489691.722857\n",
              "Fluvial      0.0384  0.15  ...                  241920.0       334896.338571\n",
              "Carretera    0.0137  0.20  ...                   86310.0       334188.977143\n",
              "Aéreo        0.0055  1.40  ...                   34650.0       263560.525714\n",
              "\n",
              "[4 rows x 12 columns]"
            ]
          },
          "metadata": {
            "tags": []
          },
          "execution_count": 131
        }
      ]
    },
    {
      "cell_type": "code",
      "metadata": {
        "colab": {
          "base_uri": "https://localhost:8080/",
          "height": 224
        },
        "id": "FlHnuCbc-Heu",
        "outputId": "5391dca0-9c3e-4154-a25c-3ecd689a1916"
      },
      "source": [
        "df['Costo_Total']=df['costo_anual_inv_CD']+df['costo_anual_inv_transito']+df['costo_anual_transporte']+df['costo_inv_planta']\n",
        "df"
      ],
      "execution_count": null,
      "outputs": [
        {
          "output_type": "execute_result",
          "data": {
            "text/html": [
              "<div>\n",
              "<style scoped>\n",
              "    .dataframe tbody tr th:only-of-type {\n",
              "        vertical-align: middle;\n",
              "    }\n",
              "\n",
              "    .dataframe tbody tr th {\n",
              "        vertical-align: top;\n",
              "    }\n",
              "\n",
              "    .dataframe thead th {\n",
              "        text-align: right;\n",
              "    }\n",
              "</style>\n",
              "<table border=\"1\" class=\"dataframe\">\n",
              "  <thead>\n",
              "    <tr style=\"text-align: right;\">\n",
              "      <th></th>\n",
              "      <th>tau</th>\n",
              "      <th>r</th>\n",
              "      <th>N</th>\n",
              "      <th>cap</th>\n",
              "      <th>A</th>\n",
              "      <th>Q</th>\n",
              "      <th>n</th>\n",
              "      <th>C_prima</th>\n",
              "      <th>costo_inv_planta</th>\n",
              "      <th>costo_anual_transporte</th>\n",
              "      <th>costo_anual_inv_transito</th>\n",
              "      <th>costo_anual_inv_CD</th>\n",
              "      <th>Costo_Total</th>\n",
              "    </tr>\n",
              "    <tr>\n",
              "      <th>Modo</th>\n",
              "      <th></th>\n",
              "      <th></th>\n",
              "      <th></th>\n",
              "      <th></th>\n",
              "      <th></th>\n",
              "      <th></th>\n",
              "      <th></th>\n",
              "      <th></th>\n",
              "      <th></th>\n",
              "      <th></th>\n",
              "      <th></th>\n",
              "      <th></th>\n",
              "      <th></th>\n",
              "    </tr>\n",
              "  </thead>\n",
              "  <tbody>\n",
              "    <tr>\n",
              "      <th>Ferroviario</th>\n",
              "      <td>0.0575</td>\n",
              "      <td>0.10</td>\n",
              "      <td>10</td>\n",
              "      <td>1000000</td>\n",
              "      <td>2000</td>\n",
              "      <td>70000.0</td>\n",
              "      <td>1.0</td>\n",
              "      <td>30.128571</td>\n",
              "      <td>487602.0</td>\n",
              "      <td>90000.0</td>\n",
              "      <td>362250.0</td>\n",
              "      <td>489691.722857</td>\n",
              "      <td>1.429544e+06</td>\n",
              "    </tr>\n",
              "    <tr>\n",
              "      <th>Fluvial</th>\n",
              "      <td>0.0384</td>\n",
              "      <td>0.15</td>\n",
              "      <td>20</td>\n",
              "      <td>17500</td>\n",
              "      <td>5000</td>\n",
              "      <td>35000.0</td>\n",
              "      <td>2.0</td>\n",
              "      <td>30.435714</td>\n",
              "      <td>330102.0</td>\n",
              "      <td>305000.0</td>\n",
              "      <td>241920.0</td>\n",
              "      <td>334896.338571</td>\n",
              "      <td>1.211918e+06</td>\n",
              "    </tr>\n",
              "    <tr>\n",
              "      <th>Carretera</th>\n",
              "      <td>0.0137</td>\n",
              "      <td>0.20</td>\n",
              "      <td>20</td>\n",
              "      <td>8750</td>\n",
              "      <td>1500</td>\n",
              "      <td>35000.0</td>\n",
              "      <td>4.0</td>\n",
              "      <td>30.371429</td>\n",
              "      <td>330102.0</td>\n",
              "      <td>260000.0</td>\n",
              "      <td>86310.0</td>\n",
              "      <td>334188.977143</td>\n",
              "      <td>1.010601e+06</td>\n",
              "    </tr>\n",
              "    <tr>\n",
              "      <th>Aéreo</th>\n",
              "      <td>0.0055</td>\n",
              "      <td>1.40</td>\n",
              "      <td>40</td>\n",
              "      <td>17500</td>\n",
              "      <td>1000</td>\n",
              "      <td>17500.0</td>\n",
              "      <td>1.0</td>\n",
              "      <td>31.457143</td>\n",
              "      <td>251352.0</td>\n",
              "      <td>1020000.0</td>\n",
              "      <td>34650.0</td>\n",
              "      <td>263560.525714</td>\n",
              "      <td>1.569563e+06</td>\n",
              "    </tr>\n",
              "  </tbody>\n",
              "</table>\n",
              "</div>"
            ],
            "text/plain": [
              "                tau     r  ...  costo_anual_inv_CD   Costo_Total\n",
              "Modo                       ...                                  \n",
              "Ferroviario  0.0575  0.10  ...       489691.722857  1.429544e+06\n",
              "Fluvial      0.0384  0.15  ...       334896.338571  1.211918e+06\n",
              "Carretera    0.0137  0.20  ...       334188.977143  1.010601e+06\n",
              "Aéreo        0.0055  1.40  ...       263560.525714  1.569563e+06\n",
              "\n",
              "[4 rows x 13 columns]"
            ]
          },
          "metadata": {
            "tags": []
          },
          "execution_count": 132
        }
      ]
    },
    {
      "cell_type": "code",
      "metadata": {
        "colab": {
          "base_uri": "https://localhost:8080/"
        },
        "id": "sQldOlpI_KRY",
        "outputId": "f0da7b7a-202e-4a72-c0a0-5a634adb778e"
      },
      "source": [
        "df['Costo_Total']"
      ],
      "execution_count": null,
      "outputs": [
        {
          "output_type": "execute_result",
          "data": {
            "text/plain": [
              "Modo\n",
              "Ferroviario    1.429544e+06\n",
              "Fluvial        1.211918e+06\n",
              "Carretera      1.010601e+06\n",
              "Aéreo          1.569563e+06\n",
              "Name: Costo_Total, dtype: float64"
            ]
          },
          "metadata": {
            "tags": []
          },
          "execution_count": 133
        }
      ]
    },
    {
      "cell_type": "code",
      "metadata": {
        "id": "I138UkQSBJDJ",
        "colab": {
          "base_uri": "https://localhost:8080/"
        },
        "outputId": "896c04a0-18f0-40a0-d64c-d7b8b93205b0"
      },
      "source": [
        "df_m = df.loc['Fluvial',['tau','r','A','cap']]\n",
        "tau = df_m.loc['tau']\n",
        "cap = df_m.loc['cap']\n",
        "A = df_m.loc['A']\n",
        "r = df_m.loc['r']\n",
        "i=0.3\n",
        "ss = 19178\n",
        "c= 30\n",
        "D = 700000\n",
        "df_m"
      ],
      "execution_count": null,
      "outputs": [
        {
          "output_type": "execute_result",
          "data": {
            "text/plain": [
              "tau        0.0384\n",
              "r          0.1500\n",
              "A       5000.0000\n",
              "cap    17500.0000\n",
              "Name: Fluvial, dtype: float64"
            ]
          },
          "metadata": {
            "tags": []
          },
          "execution_count": 134
        }
      ]
    },
    {
      "cell_type": "code",
      "metadata": {
        "colab": {
          "base_uri": "https://localhost:8080/"
        },
        "id": "Tw4s4trzSXP8",
        "outputId": "6ca9d910-6226-41a9-ef01-61e3e7e6a7c5"
      },
      "source": [
        "n= 1\n",
        "Q = math.sqrt((2*A*n*(D+i*ss))/(i*(2*c+r)))\n",
        "print('Q=',Q)\n",
        "if Q/n > cap:\n",
        "  print('Infactible')\n",
        "else:\n",
        "    print('Factible')"
      ],
      "execution_count": null,
      "outputs": [
        {
          "output_type": "stream",
          "text": [
            "Q= 19776.436827402747\n",
            "Infactible\n"
          ],
          "name": "stdout"
        }
      ]
    },
    {
      "cell_type": "code",
      "metadata": {
        "colab": {
          "base_uri": "https://localhost:8080/"
        },
        "id": "oS5k-p_JSrjD",
        "outputId": "b67f3ac8-478e-4320-b954-36617fcbf2f9"
      },
      "source": [
        "n= 2\n",
        "Q = math.sqrt((2*A*n*(D+i*ss))/(i*(2*c+r)))\n",
        "print('Q=',Q)\n",
        "if Q/n > cap:\n",
        "  print('Infactible')\n",
        "else:\n",
        "    print('Factible')"
      ],
      "execution_count": null,
      "outputs": [
        {
          "output_type": "stream",
          "text": [
            "Q= 27968.10517672771\n",
            "Factible\n"
          ],
          "name": "stdout"
        }
      ]
    },
    {
      "cell_type": "code",
      "metadata": {
        "colab": {
          "base_uri": "https://localhost:8080/"
        },
        "id": "YGQ8S5HdT4G3",
        "outputId": "7e545d1b-f01e-4f67-c367-5217276206f5"
      },
      "source": [
        "QOptimo=''\n",
        "nOptimo=''\n",
        "CostoOptimo=''\n",
        "for n in range(1,11):\n",
        "  Q = math.sqrt((2*A*n*(D+i*ss))/(i*(2*c+r)))\n",
        "  if Q/n > cap:\n",
        "    Q=cap*n\n",
        "  Q=round(Q)\n",
        "  cprima = c+ r + A*n/Q\n",
        "  costo_inv_planta = i*c*(Q/2+ss)\n",
        "  costo_inv_cd = i*cprima*(Q/2+ss)\n",
        "  costo_inv_transito =  i*c*D*tau\n",
        "  Costo= i*c*(Q/2+ss) + i*c*D*tau + r*D + A*n*math.ceil(D/Q) + i*cprima*(Q/2+ss) \n",
        "  \n",
        "  print('Q=',Q,' con n=',n,' Con Costo=',Costo)\n",
        "  if CostoOptimo=='':\n",
        "    CostoOptimo=Costo\n",
        "    QOptimo=Q\n",
        "    nOptimo=n\n",
        "    NOptimo=math.ceil(D/Q)\n",
        "  elif CostoOptimo>Costo:\n",
        "    CostoOptimo=Costo\n",
        "    QOptimo=Q\n",
        "    nOptimo=n\n",
        "    NOptimo=math.ceil(D/Q)\n",
        "print('Costo Optimo=',CostoOptimo,'\\nCon Q optimo=',QOptimo,'\\nCon n Optimo=',nOptimo,'\\nCon N Optimo=',NOptimo)"
      ],
      "execution_count": null,
      "outputs": [
        {
          "output_type": "stream",
          "text": [
            "Q= 17500  con n= 1  Con Costo= 1053274.5885714286\n",
            "Q= 27968  con n= 2  Con Costo= 1208885.4267276889\n",
            "Q= 34254  con n= 3  Con Costo= 1321813.1679847608\n",
            "Q= 39553  con n= 4  Con Costo= 1415763.1629265163\n",
            "Q= 44221  con n= 5  Con Costo= 1498973.6226483458\n",
            "Q= 48442  con n= 6  Con Costo= 1588118.02010879\n",
            "Q= 52324  con n= 7  Con Costo= 1664178.8016436053\n",
            "Q= 55936  con n= 8  Con Costo= 1727783.8434553775\n",
            "Q= 59329  con n= 9  Con Costo= 1779396.7649161876\n",
            "Q= 62539  con n= 10  Con Costo= 1869344.987193791\n",
            "Costo Optimo= 1053274.5885714286 \n",
            "Con Q optimo= 17500 \n",
            "Con n Optimo= 1 \n",
            "Con N Optimo= 40\n"
          ],
          "name": "stdout"
        }
      ]
    },
    {
      "cell_type": "code",
      "metadata": {
        "id": "zxhBATWBVXCq"
      },
      "source": [
        "def calc_costoTotal(tau, cap, A, r, i, c, D, ss, N):\n",
        "  Q = D/N #tamaño de lote\n",
        "\n",
        "  n = math.ceil(Q/cap) #redondea hacia arriba el # de vehículos\n",
        "\n",
        "  cprima = c+ r + A*n/Q\n",
        "\n",
        "  costo_inv_planta = i*c*(Q/2+ss)\n",
        "  costo_inv_cd = i*cprima*(Q/2+ss)\n",
        "  costo_inv_transito =  i*c*D*tau\n",
        "  costo_total= i*c*(Q/2+ss) + i*c*D*tau + r*D + A*n*D/Q + i*cprima*(Q/2+ss) \n",
        "  return costo_total #devuelve el costo total anual"
      ],
      "execution_count": null,
      "outputs": []
    },
    {
      "cell_type": "code",
      "metadata": {
        "colab": {
          "base_uri": "https://localhost:8080/"
        },
        "id": "-xEpDX84VadG",
        "outputId": "3264d096-0dce-4e8c-f9cd-e4653c0a41fd"
      },
      "source": [
        "n=1 #número de vehículos\n",
        "\n",
        "Q1= n*cap\n",
        "\n",
        "N= D/(n*cap) #número de envíos\n",
        "\n",
        "print ('Número de envíos', N)\n",
        "\n",
        "costo1 = calc_costoTotal(tau, cap, A, r, i, c, D, ss, N)\n",
        "\n",
        "print ('Tamaño de lote', Q1,' Costo total', costo1)\n"
      ],
      "execution_count": null,
      "outputs": [
        {
          "output_type": "stream",
          "text": [
            "Número de envíos 40.0\n",
            "Tamaño de lote 17500.0  Costo total 1053274.5885714286\n"
          ],
          "name": "stdout"
        }
      ]
    },
    {
      "cell_type": "code",
      "metadata": {
        "id": "ivIckvQgYxjT"
      },
      "source": [
        "num_val = 101\n",
        "\n",
        "costo_array= np.zeros(num_val)\n",
        "\n",
        "n_array = np.zeros(num_val)\n",
        "\n",
        "q_array = np.zeros(num_val)\n",
        "\n",
        "\n",
        "\n",
        "for k in range(0,num_val):\n",
        "\n",
        "  n_array[k] = k+1\n",
        "\n",
        "  q_array[k] = D/(k+1)\n",
        "\n",
        "  costo_array[k]= calc_costoTotal(tau, cap, A, r, i, c, D, ss, k+1)\n"
      ],
      "execution_count": null,
      "outputs": []
    },
    {
      "cell_type": "code",
      "metadata": {
        "colab": {
          "base_uri": "https://localhost:8080/",
          "height": 293
        },
        "id": "uGGRgKHgY3ov",
        "outputId": "b69abbb8-65c6-408a-e54d-dc2c62738874"
      },
      "source": [
        "import matplotlib.pyplot as plt\n",
        "\n",
        "plt.ylim((1000000,2000000))\n",
        "\n",
        "plt.plot(n_array,costo_array)"
      ],
      "execution_count": null,
      "outputs": [
        {
          "output_type": "execute_result",
          "data": {
            "text/plain": [
              "[<matplotlib.lines.Line2D at 0x7fe4adfbf400>]"
            ]
          },
          "metadata": {
            "tags": []
          },
          "execution_count": 141
        },
        {
          "output_type": "display_data",
          "data": {
            "image/png": "[encoded data removed]",
            "text/plain": [
              "<Figure size 432x288 with 1 Axes>"
            ]
          },
          "metadata": {
            "tags": [],
            "needs_background": "light"
          }
        }
      ]
    },
    {
      "cell_type": "code",
      "metadata": {
        "colab": {
          "base_uri": "https://localhost:8080/"
        },
        "id": "YfRgkPGcbn7e",
        "outputId": "b9894010-f052-4ae4-de4f-2853c0320f7a"
      },
      "source": [
        "Metodo='Fluvial'\n",
        "df_m = df.loc[Metodo,['tau','r','A','cap']]\n",
        "tau = df_m.loc['tau']\n",
        "cap = df_m.loc['cap']\n",
        "A = df_m.loc['A']\n",
        "r = df_m.loc['r']\n",
        "\n",
        "i=0.3\n",
        "ss = 19178\n",
        "c= 30\n",
        "D = 700000\n",
        "df_m"
      ],
      "execution_count": null,
      "outputs": [
        {
          "output_type": "execute_result",
          "data": {
            "text/plain": [
              "tau        0.0384\n",
              "r          0.1500\n",
              "A       5000.0000\n",
              "cap    17500.0000\n",
              "Name: Fluvial, dtype: float64"
            ]
          },
          "metadata": {
            "tags": []
          },
          "execution_count": 198
        }
      ]
    },
    {
      "cell_type": "code",
      "metadata": {
        "colab": {
          "base_uri": "https://localhost:8080/"
        },
        "id": "zz8w1lZ7aExP",
        "outputId": "c1a47694-190a-434f-9b67-dc9ad54bd842"
      },
      "source": [
        "QOptimo=''\n",
        "nOptimo=''\n",
        "CostoOptimo=''\n",
        "for n in range(1,101):\n",
        "  Q = math.sqrt((2*A*n*(D+i*ss))/(i*(2*c+r)))\n",
        "  if Q/n > cap:\n",
        "    Q=cap*n\n",
        "  \n",
        "  Q=round(Q)\n",
        "  \n",
        "  cprima = c+ r + A*n/Q\n",
        "  costo_inv_planta = i*c*(Q/2+ss)\n",
        "  costo_inv_cd = i*cprima*(Q/2+ss)\n",
        "  costo_inv_transito =  i*c*D*tau\n",
        "  Costo= i*c*(Q/2+ss) + i*c*D*tau + r*D + A*n*math.ceil(D/Q) + i*cprima*(Q/2+ss) \n",
        "  \n",
        "  if CostoOptimo=='':\n",
        "    CostoOptimo=Costo\n",
        "    QOptimo=Q\n",
        "    nOptimo=n\n",
        "    NOptimo=math.ceil(D/Q)\n",
        "  elif CostoOptimo>Costo:\n",
        "    CostoOptimo=Costo\n",
        "    QOptimo=Q\n",
        "    nOptimo=n\n",
        "    NOptimo=math.ceil(D/Q)\n",
        "print('Resultado para método de transporte ',Metodo,'\\nCosto Optimo=',CostoOptimo,'\\nCon Q optimo=',QOptimo,'\\nCon n Optimo=',nOptimo,'\\nCon N Optimo=',NOptimo)"
      ],
      "execution_count": null,
      "outputs": [
        {
          "output_type": "stream",
          "text": [
            "Costo Optimo= 1053274.5885714286 \n",
            "Con Q optimo= 17500 \n",
            "Con n Optimo= 1 \n",
            "Con N Optimo= 40\n"
          ],
          "name": "stdout"
        }
      ]
    },
    {
      "cell_type": "code",
      "metadata": {
        "colab": {
          "base_uri": "https://localhost:8080/"
        },
        "id": "WT5jrs_9aPb5",
        "outputId": "4749dd4f-8000-4f7d-a1b7-077b5b8242c7"
      },
      "source": [
        "df_F = df.loc['Ferroviario',['tau','r','A','cap']]\n",
        "tau = df_F.loc['tau']\n",
        "cap = df_F.loc['cap']\n",
        "A = df_F.loc['A']\n",
        "r = df_F.loc['r']\n",
        "\n",
        "df_F"
      ],
      "execution_count": null,
      "outputs": [
        {
          "output_type": "execute_result",
          "data": {
            "text/plain": [
              "tau          0.0575\n",
              "r            0.1000\n",
              "A         2000.0000\n",
              "cap    1000000.0000\n",
              "Name: Ferroviario, dtype: float64"
            ]
          },
          "metadata": {
            "tags": []
          },
          "execution_count": 199
        }
      ]
    },
    {
      "cell_type": "code",
      "metadata": {
        "colab": {
          "base_uri": "https://localhost:8080/"
        },
        "id": "m8CXVYtcav-X",
        "outputId": "01b1091e-ab95-43b9-d9d6-2bd6560a04ec"
      },
      "source": [
        "QOptimo=''\n",
        "nOptimo=''\n",
        "CostoOptimo=''\n",
        "for n in range(1,101):\n",
        "  Q = math.sqrt((2*A*n*(D+i*ss))/(i*(2*c+r)))\n",
        "  if Q/n > cap:\n",
        "    Q=cap*n\n",
        "  \n",
        "  Q=round(Q)\n",
        "  \n",
        "  cprima = c+ r + A*n/Q\n",
        "  costo_inv_planta = i*c*(Q/2+ss)\n",
        "  costo_inv_cd = i*cprima*(Q/2+ss)\n",
        "  costo_inv_transito =  i*c*D*tau\n",
        "  Costo= i*c*(Q/2+ss) + i*c*D*tau + r*D + A*n*math.ceil(D/Q) + i*cprima*(Q/2+ss) \n",
        "  \n",
        "  if CostoOptimo=='':\n",
        "    CostoOptimo=Costo\n",
        "    QOptimo=Q\n",
        "    nOptimo=n\n",
        "    NOptimo=math.ceil(D/Q)\n",
        "  elif CostoOptimo>Costo:\n",
        "    CostoOptimo=Costo\n",
        "    QOptimo=Q\n",
        "    nOptimo=n\n",
        "    NOptimo=math.ceil(D/Q)\n",
        "print('Costo Optimo=',CostoOptimo,'\\nCon Q optimo=',QOptimo,'\\nCon n Optimo=',nOptimo,'\\nCon N Optimo=',NOptimo)"
      ],
      "execution_count": null,
      "outputs": [
        {
          "output_type": "stream",
          "text": [
            "Costo Optimo= 1004053.622628866 \n",
            "Con Q optimo= 12513 \n",
            "Con n Optimo= 1 \n",
            "Con N Optimo= 56\n"
          ],
          "name": "stdout"
        }
      ]
    },
    {
      "cell_type": "code",
      "metadata": {
        "colab": {
          "base_uri": "https://localhost:8080/"
        },
        "id": "CUfWJOpFa8L8",
        "outputId": "bbf31ec9-f3b3-4ecb-e84d-62181596609d"
      },
      "source": [
        "df_F = df.loc['Carretera',['tau','r','A','cap']]\n",
        "tau = df_F.loc['tau']\n",
        "cap = df_F.loc['cap']\n",
        "A = df_F.loc['A']\n",
        "r = df_F.loc['r']\n",
        "\n",
        "df_F"
      ],
      "execution_count": null,
      "outputs": [
        {
          "output_type": "execute_result",
          "data": {
            "text/plain": [
              "tau       0.0137\n",
              "r         0.2000\n",
              "A      1500.0000\n",
              "cap    8750.0000\n",
              "Name: Carretera, dtype: float64"
            ]
          },
          "metadata": {
            "tags": []
          },
          "execution_count": 146
        }
      ]
    },
    {
      "cell_type": "code",
      "metadata": {
        "colab": {
          "base_uri": "https://localhost:8080/"
        },
        "id": "yGtnvZWJbQBH",
        "outputId": "31bc22e7-554b-4f4a-de6a-6bcf23b6d76e"
      },
      "source": [
        "QOptimo=''\n",
        "nOptimo=''\n",
        "CostoOptimo=''\n",
        "for n in range(1,101):\n",
        "  Q = math.sqrt((2*A*n*(D+i*ss))/(i*(2*c+r)))\n",
        "  if Q/n > cap:\n",
        "    Q=cap*n\n",
        "  \n",
        "  Q=round(Q)\n",
        "  \n",
        "  cprima = c+ r + A*n/Q\n",
        "  costo_inv_planta = i*c*(Q/2+ss)\n",
        "  costo_inv_cd = i*cprima*(Q/2+ss)\n",
        "  costo_inv_transito =  i*c*D*tau\n",
        "  Costo= i*c*(Q/2+ss) + i*c*D*tau + r*D + A*n*math.ceil(D/Q) + i*cprima*(Q/2+ss) \n",
        "  \n",
        "  if CostoOptimo=='':\n",
        "    CostoOptimo=Costo\n",
        "    QOptimo=Q\n",
        "    nOptimo=n\n",
        "    NOptimo=math.ceil(D/Q)\n",
        "  elif CostoOptimo>Costo:\n",
        "    CostoOptimo=Costo\n",
        "    QOptimo=Q\n",
        "    nOptimo=n\n",
        "    NOptimo=math.ceil(D/Q)\n",
        "print('Costo Optimo=',CostoOptimo,'\\nCon Q optimo=',QOptimo,'\\nCon n Optimo=',nOptimo,'\\nCon N Optimo=',NOptimo)"
      ],
      "execution_count": null,
      "outputs": [
        {
          "output_type": "stream",
          "text": [
            "Costo Optimo= 772888.4771428572 \n",
            "Con Q optimo= 8750 \n",
            "Con n Optimo= 1 \n",
            "Con N Optimo= 80\n"
          ],
          "name": "stdout"
        }
      ]
    },
    {
      "cell_type": "code",
      "metadata": {
        "colab": {
          "base_uri": "https://localhost:8080/"
        },
        "id": "SzgADnUebDfE",
        "outputId": "4054ad8a-75c4-4251-b3d1-d8d9906a06c5"
      },
      "source": [
        "df_F = df.loc['Aéreo',['tau','r','A','cap']]\n",
        "tau = df_F.loc['tau']\n",
        "cap = df_F.loc['cap']\n",
        "A = df_F.loc['A']\n",
        "r = df_F.loc['r']\n",
        "\n",
        "df_F"
      ],
      "execution_count": null,
      "outputs": [
        {
          "output_type": "execute_result",
          "data": {
            "text/plain": [
              "tau        0.0055\n",
              "r          1.4000\n",
              "A       1000.0000\n",
              "cap    17500.0000\n",
              "Name: Aéreo, dtype: float64"
            ]
          },
          "metadata": {
            "tags": []
          },
          "execution_count": 201
        }
      ]
    },
    {
      "cell_type": "code",
      "metadata": {
        "colab": {
          "base_uri": "https://localhost:8080/"
        },
        "id": "5X-BrpVibStb",
        "outputId": "fc05f095-6349-4095-9ea5-7b83f2e9fd0e"
      },
      "source": [
        "QOptimo=''\n",
        "nOptimo=''\n",
        "CostoOptimo=''\n",
        "for n in range(1,101):\n",
        "  Q = math.sqrt((2*A*n*(D+i*ss))/(i*(2*c+r)))\n",
        "  if Q/n > cap:\n",
        "    Q=cap*n\n",
        "  \n",
        "  Q=round(Q)\n",
        "  \n",
        "  cprima = c+ r + A*n/Q\n",
        "  costo_inv_planta = i*c*(Q/2+ss)\n",
        "  costo_inv_cd = i*cprima*(Q/2+ss)\n",
        "  costo_inv_transito =  i*c*D*tau\n",
        "  Costo= i*c*(Q/2+ss) + i*c*D*tau + r*D + A*n*math.ceil(D/Q) + i*cprima*(Q/2+ss) \n",
        "  \n",
        "  if CostoOptimo=='':\n",
        "    CostoOptimo=Costo\n",
        "    QOptimo=Q\n",
        "    nOptimo=n\n",
        "    NOptimo=math.ceil(D/Q)\n",
        "  elif CostoOptimo>Costo:\n",
        "    CostoOptimo=Costo\n",
        "    QOptimo=Q\n",
        "    nOptimo=n\n",
        "    NOptimo=math.ceil(D/Q)\n",
        "print('Costo Optimo=',CostoOptimo,'\\nCon Q optimo=',QOptimo,'\\nCon n Optimo=',nOptimo,'\\nCon N Optimo=',NOptimo)"
      ],
      "execution_count": null,
      "outputs": [
        {
          "output_type": "stream",
          "text": [
            "Costo Optimo= 1529340.3309801233 \n",
            "Con Q optimo= 8754 \n",
            "Con n Optimo= 1 \n",
            "Con N Optimo= 80\n"
          ],
          "name": "stdout"
        }
      ]
    },
    {
      "cell_type": "code",
      "metadata": {
        "colab": {
          "base_uri": "https://localhost:8080/"
        },
        "id": "1O6mLKXFb5-K",
        "outputId": "957d4348-b54f-4458-e41d-8e3bc3d74f77"
      },
      "source": [
        "QOptimo=''\n",
        "nOptimo=''\n",
        "CostoOptimo=''\n",
        "Costos=[]\n",
        "Qs=[]\n",
        "for n in range(1,101):\n",
        "  Q = math.sqrt((2*A*n*(D+i*ss))/(i*(2*c+r)))\n",
        "  if Q/n > cap:\n",
        "    Q=cap*n\n",
        "  \n",
        "  Q=round(Q)\n",
        "  \n",
        "  cprima = c+ r + A*n/Q\n",
        "  costo_inv_planta = i*c*(Q/2+ss)\n",
        "  costo_inv_cd = i*cprima*(Q/2+ss)\n",
        "  costo_inv_transito =  i*c*D*tau\n",
        "  Costo= i*c*(Q/2+ss) + i*c*D*tau + r*D + A*n*math.ceil(D/Q) + i*cprima*(Q/2+ss) \n",
        "  \n",
        "  if CostoOptimo=='':\n",
        "    CostoOptimo=Costo\n",
        "    QOptimo=Q\n",
        "    nOptimo=n\n",
        "    NOptimo=math.ceil(D/Q)\n",
        "  elif CostoOptimo>Costo:\n",
        "    CostoOptimo=Costo\n",
        "    QOptimo=Q\n",
        "    nOptimo=n\n",
        "    NOptimo=math.ceil(D/Q)\n",
        "  Qs.append(Q)\n",
        "  Costos.append(Costo)\n",
        "print('Costo Optimo=',CostoOptimo,'\\nCon Q optimo=',QOptimo,'\\nCon n Optimo=',nOptimo,'\\nCon N Optimo=',NOptimo)"
      ],
      "execution_count": null,
      "outputs": [
        {
          "output_type": "stream",
          "text": [
            "Costo Optimo= 1529340.3309801233 \n",
            "Con Q optimo= 8754 \n",
            "Con n Optimo= 1 \n",
            "Con N Optimo= 80\n"
          ],
          "name": "stdout"
        }
      ]
    },
    {
      "cell_type": "code",
      "metadata": {
        "id": "vI5QxyNUdo_U"
      },
      "source": [
        "Costos=[]\n",
        "Ns=[]\n",
        "for N in range(1,1001):\n",
        "  Q = D/N #tamaño de lote\n",
        "\n",
        "  n = math.ceil(Q/cap) #redondea hacia arriba el # de vehículos\n",
        "\n",
        "  cprima = c+ r + A*n/Q\n",
        "\n",
        "  costo_inv_planta = i*c*(Q/2+ss)\n",
        "  costo_inv_cd = i*cprima*(Q/2+ss)\n",
        "  costo_inv_transito =  i*c*D*tau\n",
        "  Costo= i*c*(Q/2+ss) + i*c*D*tau + r*D + A*n*D/Q + i*cprima*(Q/2+ss) \n",
        "\n",
        "  Ns.append(N)\n",
        "  Costos.append(Costo)"
      ],
      "execution_count": null,
      "outputs": []
    },
    {
      "cell_type": "code",
      "metadata": {
        "colab": {
          "base_uri": "https://localhost:8080/",
          "height": 276
        },
        "id": "52l0nRO-cZNM",
        "outputId": "ac99f764-97d1-46b9-b84d-b2fb2848e538"
      },
      "source": [
        "import matplotlib.pyplot as plt \n",
        "plt.plot(Ns,Costos)\n",
        "plt.ylim((1000000,3000000))\n",
        "plt.show()"
      ],
      "execution_count": null,
      "outputs": [
        {
          "output_type": "display_data",
          "data": {
            "image/png": "[encoded data removed]",
            "text/plain": [
              "<Figure size 432x288 with 1 Axes>"
            ]
          },
          "metadata": {
            "tags": [],
            "needs_background": "light"
          }
        }
      ]
    },
    {
      "cell_type": "code",
      "metadata": {
        "id": "06MlpZaGdAEH"
      },
      "source": [
        ""
      ],
      "execution_count": null,
      "outputs": []
    }
  ]
}