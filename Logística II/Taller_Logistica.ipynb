{
  "nbformat": 4,
  "nbformat_minor": 0,
  "metadata": {
    "colab": {
      "name": "Taller Logistica.ipynb",
      "provenance": [],
      "authorship_tag": "ABX9TyNLkGs7OhTm8nWM1K2/u+ka",
      "include_colab_link": true
    },
    "kernelspec": {
      "name": "python3",
      "display_name": "Python 3"
    },
    "language_info": {
      "name": "python"
    }
  },
  "cells": [
    {
      "cell_type": "markdown",
      "metadata": {
        "id": "view-in-github",
        "colab_type": "text"
      },
      "source": [
        "<a href=\"https://colab.research.google.com/github/davidmorme/Universidad/blob/main/Log%C3%ADstica%20II/Taller_Logistica.ipynb\" target=\"_parent\"><img src=\"https://colab.research.google.com/assets/colab-badge.svg\" alt=\"Open In Colab\"/></a>"
      ]
    },
    {
      "cell_type": "code",
      "metadata": {
        "id": "xrQGKfPebisz"
      },
      "source": [
        "import numpy as np\n",
        "import matplotlib.pyplot as plt\n"
      ],
      "execution_count": null,
      "outputs": []
    },
    {
      "cell_type": "code",
      "metadata": {
        "id": "P5_Ds9j1cbPd"
      },
      "source": [
        "D=300\n",
        "i=0.02\n",
        "PedirCost=100"
      ],
      "execution_count": null,
      "outputs": []
    },
    {
      "cell_type": "code",
      "metadata": {
        "id": "SLKPsSFgcTtJ"
      },
      "source": [
        "def CostoTotal(Q,c,InvSeg):\n",
        "  Costo=(Q/2+InvSeg)*i*c+PedirCost*D/Q\n",
        "  return Costo"
      ],
      "execution_count": null,
      "outputs": []
    },
    {
      "cell_type": "markdown",
      "metadata": {
        "id": "s8ZtEQChb3d9"
      },
      "source": [
        "Base"
      ]
    },
    {
      "cell_type": "code",
      "metadata": {
        "colab": {
          "base_uri": "https://localhost:8080/"
        },
        "id": "L3QqPtwEbt4o",
        "outputId": "5d26a7f5-4d05-4ec0-9a48-f53dbafbb479"
      },
      "source": [
        "iteraciones=20\n",
        "Qs=np.zeros(iteraciones)\n",
        "Costos=np.zeros(iteraciones)\n",
        "lote=100\n",
        "InvSeg=20\n",
        "c=10\n",
        "for j in range(1,iteraciones+1):\n",
        "  Q=lote*j\n",
        "  Qs[j-1]=Q\n",
        "  Costos[j-1]=CostoTotal(Q,c,InvSeg)\n",
        "QBase=Qs[np.argmin(Costos)]\n",
        "CostoBase=Costos[np.argmin(Costos)]\n",
        "print('Q óptimo:',QBase,'\\nCosto óptimo:',CostoBase)"
      ],
      "execution_count": null,
      "outputs": [
        {
          "output_type": "stream",
          "text": [
            "Q óptimo: 500.0 \n",
            "Costo óptimo: 3114.0\n"
          ],
          "name": "stdout"
        }
      ]
    },
    {
      "cell_type": "markdown",
      "metadata": {
        "id": "2f7yFpTFfHP5"
      },
      "source": [
        "Portabombillos"
      ]
    },
    {
      "cell_type": "code",
      "metadata": {
        "colab": {
          "base_uri": "https://localhost:8080/"
        },
        "id": "h0PtijlAfMo_",
        "outputId": "69521c78-788c-4c02-8aaa-3840257f1b9b"
      },
      "source": [
        "iteraciones=20\n",
        "Qs=np.zeros(iteraciones)\n",
        "Costos=np.zeros(iteraciones)\n",
        "lote=500\n",
        "InvSeg=20\n",
        "c=1\n",
        "for j in range(1,iteraciones+1):\n",
        "  Q=lote*j\n",
        "  Qs[j-1]=Q\n",
        "  Costos[j-1]=CostoTotal(Q,c,InvSeg)\n",
        "QPortabombillos=Qs[np.argmin(Costos)]\n",
        "CostoPortabombillos=Costos[np.argmin(Costos)]\n",
        "print('Q óptimo:',QPortabombillos,'\\nCosto óptimo:',CostoPortabombillos)"
      ],
      "execution_count": null,
      "outputs": [
        {
          "output_type": "stream",
          "text": [
            "Q óptimo: 1500.0 \n",
            "Costo óptimo: 335.4\n"
          ],
          "name": "stdout"
        }
      ]
    },
    {
      "cell_type": "markdown",
      "metadata": {
        "id": "1jsE20mEfRfB"
      },
      "source": [
        "Bombillo"
      ]
    },
    {
      "cell_type": "code",
      "metadata": {
        "colab": {
          "base_uri": "https://localhost:8080/"
        },
        "id": "bSP8K5C-fTo-",
        "outputId": "0f5dcd71-16b2-4815-8ac2-534af7037437"
      },
      "source": [
        "iteraciones=20\n",
        "Qs=np.zeros(iteraciones)\n",
        "Costos=np.zeros(iteraciones)\n",
        "lote=50*20\n",
        "InvSeg=10*20\n",
        "c=3/20\n",
        "for j in range(1,iteraciones+1):\n",
        "  Q=lote*j\n",
        "  Qs[j-1]=Q\n",
        "  Costos[j-1]=CostoTotal(Q,c,InvSeg)\n",
        "QBombillos=Qs[np.argmin(Costos)]\n",
        "CostoBombillos=Costos[np.argmin(Costos)]\n",
        "print('Q óptimo:',QBombillos,'\\nCosto óptimo:',CostoBombillos)"
      ],
      "execution_count": null,
      "outputs": [
        {
          "output_type": "stream",
          "text": [
            "Q óptimo: 4000.0 \n",
            "Costo óptimo: 59.1\n"
          ],
          "name": "stdout"
        }
      ]
    },
    {
      "cell_type": "markdown",
      "metadata": {
        "id": "_KTVpIVtgWfz"
      },
      "source": [
        "Cable"
      ]
    },
    {
      "cell_type": "code",
      "metadata": {
        "id": "k9CelxKbgey9"
      },
      "source": [
        "D=300*2.5"
      ],
      "execution_count": null,
      "outputs": []
    },
    {
      "cell_type": "code",
      "metadata": {
        "colab": {
          "base_uri": "https://localhost:8080/"
        },
        "id": "m-W0ySEagTUd",
        "outputId": "3d176287-b070-4e57-b55e-c202c2a92ab3"
      },
      "source": [
        "iteraciones=20\n",
        "Qs=np.zeros(iteraciones)\n",
        "Costos=np.zeros(iteraciones)\n",
        "lote=20*50\n",
        "InvSeg=5*50\n",
        "c=5/50\n",
        "for j in range(1,iteraciones+1):\n",
        "  Q=lote*j\n",
        "  Qs[j-1]=Q\n",
        "  Costos[j-1]=CostoTotal(Q,c,InvSeg)\n",
        "QCable=Qs[np.argmin(Costos)]\n",
        "CostoCable=Costos[np.argmin(Costos)]\n",
        "print('Q óptimo:',QCable,'\\nCosto óptimo:',CostoCable)"
      ],
      "execution_count": null,
      "outputs": [
        {
          "output_type": "stream",
          "text": [
            "Q óptimo: 9000.0 \n",
            "Costo óptimo: 92.83333333333334\n"
          ],
          "name": "stdout"
        }
      ]
    },
    {
      "cell_type": "code",
      "metadata": {
        "id": "I-UOtU7QhTst"
      },
      "source": [
        "D=300\n",
        "MP=(10*100+5/50*2.5+1+3/20+4)*D\n",
        "MO=5*3*D+1000\n",
        "PrecioVenta=(MP+MO)*0.4/D"
      ],
      "execution_count": null,
      "outputs": []
    },
    {
      "cell_type": "code",
      "metadata": {
        "id": "fBD3BlsR0XLl"
      },
      "source": [
        "def CostoTotal(Q,c,InvSeg):\n",
        "  Costo=(Q/2+InvSeg)*i*c+PedirCost*D/Q\n",
        "  return Costo"
      ],
      "execution_count": null,
      "outputs": []
    },
    {
      "cell_type": "code",
      "metadata": {
        "id": "agsbCr36lID1"
      },
      "source": [
        "D=300\n",
        "i=0.02\n",
        "PedirCost=100\n",
        "CostoBase=CostoTotal(100,10,20)\n",
        "CostoBombillos=CostoTotal(50*20,3/20,10)\n",
        "CostoPortabombillos=CostoTotal(500,1,20)\n",
        "D=300*2.5\n",
        "CostoCable=CostoTotal(20*50,5/50,5*50)"
      ],
      "execution_count": null,
      "outputs": []
    },
    {
      "cell_type": "code",
      "metadata": {
        "colab": {
          "base_uri": "https://localhost:8080/"
        },
        "id": "NWC_3bQLmCSH",
        "outputId": "53ccbf12-0624-4f3c-fe1a-3333ec823b4a"
      },
      "source": [
        "CostosLogisticos=CostoBase+CostoBombillos+CostoPortabombillos+CostoCable+10*5+2*D\n",
        "Utilidad=D*PrecioVenta*0.95-MO-MA-CostosLogisticos\n",
        "print(Utilidad)"
      ],
      "execution_count": null,
      "outputs": [
        {
          "output_type": "stream",
          "text": [
            "277205.2366666667\n"
          ],
          "name": "stdout"
        }
      ]
    },
    {
      "cell_type": "code",
      "metadata": {
        "colab": {
          "base_uri": "https://localhost:8080/"
        },
        "id": "MSF6aWxEnjDg",
        "outputId": "84815c78-d705-486c-854f-04510e67a8ac"
      },
      "source": [
        "ActivosLogisticos=100000\n",
        "UtilidadAnual=Utilidad*12\n",
        "ROLA=UtilidadAnual/ActivosLogisticos\n",
        "print(ROLA)"
      ],
      "execution_count": null,
      "outputs": [
        {
          "output_type": "stream",
          "text": [
            "33.26462840000001\n"
          ],
          "name": "stdout"
        }
      ]
    },
    {
      "cell_type": "code",
      "metadata": {
        "id": "KcMrE-Qgt752"
      },
      "source": [
        "CostoTotalCadenaDeSuministro=D*(PrecioVenta)*0.95-Utilidad-#Costo de servicio\n"
      ],
      "execution_count": null,
      "outputs": []
    },
    {
      "cell_type": "code",
      "metadata": {
        "colab": {
          "base_uri": "https://localhost:8080/"
        },
        "id": "WV-MMcgG1PhM",
        "outputId": "1e848eec-0c5a-447e-e275-3ecd61b01600"
      },
      "source": [
        "MP+MO"
      ],
      "execution_count": null,
      "outputs": [
        {
          "output_type": "execute_result",
          "data": {
            "text/plain": [
              "307120.0"
            ]
          },
          "metadata": {
            "tags": []
          },
          "execution_count": 69
        }
      ]
    }
  ]
}