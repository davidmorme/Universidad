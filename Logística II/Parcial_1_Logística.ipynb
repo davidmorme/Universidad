{
  "nbformat": 4,
  "nbformat_minor": 0,
  "metadata": {
    "colab": {
      "name": "Parcial 1 Logística.ipynb",
      "provenance": [],
      "authorship_tag": "ABX9TyPeBcFdKKqN+dgiHrSjO3Q7",
      "include_colab_link": true
    },
    "kernelspec": {
      "name": "python3",
      "display_name": "Python 3"
    }
  },
  "cells": [
    {
      "cell_type": "markdown",
      "metadata": {
        "id": "view-in-github",
        "colab_type": "text"
      },
      "source": [
        "<a href=\"https://colab.research.google.com/github/davidmorme/Universidad/blob/main/Log%C3%ADstica%20II/Parcial_1_Log%C3%ADstica.ipynb\" target=\"_parent\"><img src=\"https://colab.research.google.com/assets/colab-badge.svg\" alt=\"Open In Colab\"/></a>"
      ]
    },
    {
      "cell_type": "code",
      "metadata": {
        "id": "Cm4m_xZFEkm8"
      },
      "source": [
        "import math\n",
        "import numpy as np\n",
        "from scipy.stats import norm\n",
        "import matplotlib.pyplot as plt"
      ],
      "execution_count": null,
      "outputs": []
    },
    {
      "cell_type": "code",
      "metadata": {
        "id": "c8qd9Zod5qeb"
      },
      "source": [
        "Dmensual=30\n",
        "Danual=Dmensual*12\n",
        "DesvEstMensual=8\n",
        "Costo_por_importacion=860 # si N>= 3: 760\n",
        "c=114 #/ton\n",
        "Transporte_Origen=1400 #/contenedor\n",
        "capacidad=30\n",
        "Formalidades_Aduaneras=0.002 # del FOB\n",
        "Manipulacion_origen= 937  #/Contenedor\n",
        "Transporte_principal=3800 #/contenedor\n",
        "Seguro=0.03 # del FOB\n",
        "Manipulacion_destino=1250 #/contenedor\n",
        "Costo_importacion_fijo1= 250 # + 0.1% del FOB\n",
        "Costo_importacion_fijo2=0.001 # del FOB\n",
        "Impuesto_Dian=0.3 # del FOB\n",
        "Transporte_bodega=700 #/contenedor\n",
        "Tau=1.8 # meses\n",
        "i=0.15\n",
        "Alpha=0.95"
      ],
      "execution_count": null,
      "outputs": []
    },
    {
      "cell_type": "markdown",
      "metadata": {
        "id": "3M02Is-8Avpt"
      },
      "source": [
        "Primer punto, costo de importar un contenedor:"
      ]
    },
    {
      "cell_type": "markdown",
      "metadata": {
        "id": "VncLVR1Q_3s7"
      },
      "source": [
        "FOB = Costo de mercancia + Manipulación en origen + formalidades aduaneras por exportación"
      ]
    },
    {
      "cell_type": "markdown",
      "metadata": {
        "id": "dcJEPLi1AFxJ"
      },
      "source": [
        "FOB= (Capacidad*costo unitario + Manipulación en origen)/(1-0.2%)"
      ]
    },
    {
      "cell_type": "code",
      "metadata": {
        "id": "xBPhK-CMAFV7"
      },
      "source": [
        "n=1\n",
        "Q=n*capacidad\n",
        "FOB= (Q*c + Manipulacion_origen*n+ Transporte_Origen*n)/(1-Formalidades_Aduaneras)\n",
        "if Danual/Q < 3:\n",
        "  Costo_por_importacion=860\n",
        "else:\n",
        "  Costo_por_importacion=760"
      ],
      "execution_count": null,
      "outputs": []
    },
    {
      "cell_type": "code",
      "metadata": {
        "id": "IpnJMPZIAovs"
      },
      "source": [
        "Costo_Formalidades_Aduaneras=FOB*Formalidades_Aduaneras\n",
        "Costo_Seguro=FOB*Seguro\n",
        "Costo_importacion_fijo=Costo_importacion_fijo1+Costo_importacion_fijo2*FOB\n",
        "Costo_Impuesto_Dian=Impuesto_Dian*FOB"
      ],
      "execution_count": null,
      "outputs": []
    },
    {
      "cell_type": "code",
      "metadata": {
        "colab": {
          "base_uri": "https://localhost:8080/"
        },
        "id": "4omaLXyaBH9s",
        "outputId": "5de378c7-9eab-482e-f0ac-c1fee0ab914a"
      },
      "source": [
        "CostoTotalImportacion=(Costo_por_importacion + Transporte_Origen*n + Q*c + Manipulacion_origen*n + Costo_Formalidades_Aduaneras + Transporte_principal*n + \n",
        "                      Costo_Seguro + Costo_importacion_fijo + Costo_Impuesto_Dian+ Manipulacion_destino*n)\n",
        "CostoTotalImportacion"
      ],
      "execution_count": null,
      "outputs": [
        {
          "output_type": "execute_result",
          "data": {
            "text/plain": [
              "13737.922845691384"
            ]
          },
          "metadata": {
            "tags": []
          },
          "execution_count": 6
        }
      ]
    },
    {
      "cell_type": "markdown",
      "metadata": {
        "id": "xK1Gh01LDa0G"
      },
      "source": [
        "Punto 2: Costo anual de inventario en bodega si Q= a un contenedor lleno"
      ]
    },
    {
      "cell_type": "code",
      "metadata": {
        "colab": {
          "base_uri": "https://localhost:8080/"
        },
        "id": "TjjysMSuDZE9",
        "outputId": "6cc17ab0-8f33-42e6-cf1a-496a28e44d02"
      },
      "source": [
        "cprima = CostoTotalImportacion/Q\n",
        "T=Q/Danual*12\n",
        "SSbodega=round(DesvEstMensual*math.sqrt(T+Tau)*norm.ppf(Alpha))\n",
        "Costo_inv_bodega = i*cprima*(Q/2+SSbodega)\n",
        "Costo_inv_bodega"
      ],
      "execution_count": null,
      "outputs": [
        {
          "output_type": "execute_result",
          "data": {
            "text/plain": [
              "2541.515726452906"
            ]
          },
          "metadata": {
            "tags": []
          },
          "execution_count": 7
        }
      ]
    },
    {
      "cell_type": "markdown",
      "metadata": {
        "id": "txu-5LIbFLdX"
      },
      "source": [
        "Punto 3 y 4: Tamaño de Lote Optimo y Costo Optimo"
      ]
    },
    {
      "cell_type": "code",
      "metadata": {
        "colab": {
          "base_uri": "https://localhost:8080/"
        },
        "id": "rzQe_9SVIDFp",
        "outputId": "2cb10225-f4d0-4f51-df85-121e06f47f88"
      },
      "source": [
        "CostoOptimo=''\n",
        "Qs=np.zeros(400)\n",
        "Costos=np.zeros(400)\n",
        "for Q in range(1,401):\n",
        "  n=math.ceil(Q/capacidad)\n",
        "  N=Danual/Q\n",
        "  FOB= (Q*c + Manipulacion_origen*n+ Transporte_Origen*n)/(1-Formalidades_Aduaneras)\n",
        "  if Danual/Q < 3:\n",
        "    Costo_por_importacion=860\n",
        "  else:\n",
        "    Costo_por_importacion=760\n",
        "\n",
        "\n",
        "  T=Q/Danual*12\n",
        "  SSbodega=round(DesvEstMensual*math.sqrt(T+Tau)*norm.ppf(Alpha))\n",
        "\n",
        "  Costo_Formalidades_Aduaneras=FOB*Formalidades_Aduaneras\n",
        "  Costo_Seguro=FOB*Seguro\n",
        "  Costo_importacion_fijo=Costo_importacion_fijo1+Costo_importacion_fijo2*FOB\n",
        "  Costo_Impuesto_Dian=Impuesto_Dian*FOB\n",
        "\n",
        "  CostoTotalImportacion=N*(Costo_por_importacion + Transporte_Origen*n + Q*c + Manipulacion_origen*n + Costo_Formalidades_Aduaneras + Transporte_principal*n\n",
        "                           + Costo_Seguro + Costo_importacion_fijo + Costo_Impuesto_Dian+ Manipulacion_destino*n)\n",
        "  cprima = CostoTotalImportacion/Q/N\n",
        "  Costo_inv_bodega = i*cprima*(Q/2+SSbodega)\n",
        "  Costo_inv_transito = i*c*Danual*Tau/12\n",
        "\n",
        "  CostoTotal=CostoTotalImportacion+Costo_inv_bodega+Costo_inv_transito\n",
        "  if CostoOptimo=='':\n",
        "    CostoOptimo=CostoTotal\n",
        "    QOptimo=Q\n",
        "    nOptimo=n\n",
        "    NOptimo=N\n",
        "    SSbodegaOptimo=SSbodega\n",
        "  elif CostoOptimo>CostoTotal:\n",
        "    CostoOptimo=CostoTotal\n",
        "    QOptimo=Q\n",
        "    nOptimo=n\n",
        "    NOptimo=N\n",
        "    SSbodegaOptimo=SSbodega\n",
        "  Qs[Q-1]=Q\n",
        "  Costos[Q-1]=CostoTotal\n",
        "print('\\nCosto Optimo=',CostoOptimo,'\\nCon Q optimo=',QOptimo,'\\nCon n Optimo=',nOptimo,'\\nCon N Optimo=',NOptimo,\n",
        "      '\\nInventario de seguridad en la bodega:',SSbodegaOptimo)"
      ],
      "execution_count": null,
      "outputs": [
        {
          "output_type": "stream",
          "text": [
            "\n",
            "Costo Optimo= 162532.37226786907 \n",
            "Con Q optimo= 90 \n",
            "Con n Optimo= 3 \n",
            "Con N Optimo= 4.0 \n",
            "Inventario de seguridad en la bodega: 29\n"
          ],
          "name": "stdout"
        }
      ]
    },
    {
      "cell_type": "code",
      "metadata": {
        "colab": {
          "base_uri": "https://localhost:8080/",
          "height": 269
        },
        "id": "LHtCv1z2Nh33",
        "outputId": "4fc51073-26ec-453e-d2d8-52584abb7349"
      },
      "source": [
        "plt.plot(Qs,Costos)\n",
        "plt.ylim((0,400000))\n",
        "plt.show()"
      ],
      "execution_count": null,
      "outputs": [
        {
          "output_type": "display_data",
          "data": {
            "image/png": "[encoded data removed]",
            "text/plain": [
              "<Figure size 432x288 with 1 Axes>"
            ]
          },
          "metadata": {
            "tags": [],
            "needs_background": "light"
          }
        }
      ]
    },
    {
      "cell_type": "markdown",
      "metadata": {
        "id": "RIe2nJbTPG2J"
      },
      "source": [
        "Punto Opcional"
      ]
    },
    {
      "cell_type": "code",
      "metadata": {
        "id": "OTY1iugiPUBy"
      },
      "source": [
        "i=0.3"
      ],
      "execution_count": null,
      "outputs": []
    },
    {
      "cell_type": "code",
      "metadata": {
        "colab": {
          "base_uri": "https://localhost:8080/"
        },
        "id": "TC-pF8d5Paxn",
        "outputId": "340baa72-52a6-4d3d-8106-a251dff84325"
      },
      "source": [
        "CostoOptimo2=''\n",
        "Qs2=np.zeros(400)\n",
        "Costos2=np.zeros(400)\n",
        "for Q in range(1,401):\n",
        "  n=math.ceil(Q/capacidad)\n",
        "  N=Danual/Q\n",
        "  FOB= (Q*c + Manipulacion_origen*n+ Transporte_Origen*n)/(1-Formalidades_Aduaneras)\n",
        "  if Danual/Q < 3:\n",
        "    Costo_por_importacion=860\n",
        "  else:\n",
        "    Costo_por_importacion=760\n",
        "\n",
        "  \n",
        "  T=Q/Danual*12\n",
        "  SSbodega=round(DesvEstMensual*math.sqrt(T+Tau)*norm.ppf(Alpha))\n",
        "\n",
        "  Costo_Formalidades_Aduaneras=FOB*Formalidades_Aduaneras\n",
        "  Costo_Seguro=FOB*Seguro\n",
        "  Costo_importacion_fijo=Costo_importacion_fijo1+Costo_importacion_fijo2*FOB\n",
        "  Costo_Impuesto_Dian=Impuesto_Dian*FOB\n",
        "\n",
        "  CostoTotalImportacion=N*(Costo_por_importacion + Transporte_Origen*n + Q*c + Manipulacion_origen*n + Costo_Formalidades_Aduaneras + Transporte_principal*n \n",
        "                           + Costo_Seguro + Costo_importacion_fijo + Costo_Impuesto_Dian+ Manipulacion_destino*n)\n",
        "  cprima = CostoTotalImportacion/Q/N\n",
        "  Costo_inv_bodega = i*cprima*(Q/2+SSbodega)\n",
        "  Costo_inv_transito = i*c*Danual*Tau/12\n",
        "\n",
        "  CostoTotal=CostoTotalImportacion+Costo_inv_bodega+Costo_inv_transito\n",
        "  if CostoOptimo2=='':\n",
        "    CostoOptimo2=CostoTotal\n",
        "    QOptimo2=Q\n",
        "    nOptimo2=n\n",
        "    NOptimo2=N\n",
        "    SSbodegaOptimo2=SSbodega\n",
        "  elif CostoOptimo2>CostoTotal:\n",
        "    CostoOptimo2=CostoTotal\n",
        "    QOptimo2=Q\n",
        "    nOptimo2=n\n",
        "    NOptimo2=N\n",
        "    SSbodegaOptimo2=SSbodega\n",
        "  Qs2[Q-1]=Q\n",
        "  Costos2[Q-1]=CostoTotal\n",
        "print('\\nCosto Optimo=',CostoOptimo2,'\\nCon Q optimo=',QOptimo2,'\\nCon n Optimo=',nOptimo2,'\\nCon N Optimo=',NOptimo2,\n",
        "      '\\nInventario de seguridad en la bodega:',SSbodegaOptimo2)"
      ],
      "execution_count": null,
      "outputs": [
        {
          "output_type": "stream",
          "text": [
            "\n",
            "Costo Optimo= 168052.31094188377 \n",
            "Con Q optimo= 60 \n",
            "Con n Optimo= 2 \n",
            "Con N Optimo= 6.0 \n",
            "Inventario de seguridad en la bodega: 26\n"
          ],
          "name": "stdout"
        }
      ]
    },
    {
      "cell_type": "code",
      "metadata": {
        "colab": {
          "base_uri": "https://localhost:8080/",
          "height": 269
        },
        "id": "xNV5Z93HPmu3",
        "outputId": "16cee071-f970-461d-9fd5-ad97e195ea56"
      },
      "source": [
        "plt.plot(Qs2,Costos2)\n",
        "plt.ylim((0,400000))\n",
        "plt.show()"
      ],
      "execution_count": null,
      "outputs": [
        {
          "output_type": "display_data",
          "data": {
            "image/png": "[encoded data removed]",
            "text/plain": [
              "<Figure size 432x288 with 1 Axes>"
            ]
          },
          "metadata": {
            "tags": []
          }
        }
      ]
    },
    {
      "cell_type": "code",
      "metadata": {
        "colab": {
          "base_uri": "https://localhost:8080/"
        },
        "id": "NdVwNV1_Pzaa",
        "outputId": "6656fdd6-0984-4c38-a77f-84c8efbcaee8"
      },
      "source": [
        "print('El nuevo Q óptimo con i = 30% es:',QOptimo2,'Es decir, un cambio en',(QOptimo2-QOptimo)/QOptimo*100,'%')"
      ],
      "execution_count": null,
      "outputs": [
        {
          "output_type": "stream",
          "text": [
            "El nuevo Q óptimo con i = 30% es: 300 Es decir, un cambio en -23.076923076923077 %\n"
          ],
          "name": "stdout"
        }
      ]
    }
  ]
}