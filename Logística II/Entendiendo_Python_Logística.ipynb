{
  "nbformat": 4,
  "nbformat_minor": 0,
  "metadata": {
    "colab": {
      "name": "Entendiendo Python Logística.ipynb",
      "provenance": [],
      "mount_file_id": "1ks8LqFEf76Ui_favRB7Kc2FiU7Lc9pTN",
      "authorship_tag": "ABX9TyPrz54UbkVltDyNJidkUixT",
      "include_colab_link": true
    },
    "kernelspec": {
      "name": "python3",
      "display_name": "Python 3"
    }
  },
  "cells": [
    {
      "cell_type": "markdown",
      "metadata": {
        "id": "view-in-github",
        "colab_type": "text"
      },
      "source": [
        "<a href=\"https://colab.research.google.com/github/davidmorme/Universidad/blob/main/Log%C3%ADstica%20II/Entendiendo_Python_Log%C3%ADstica.ipynb\" target=\"_parent\"><img src=\"https://colab.research.google.com/assets/colab-badge.svg\" alt=\"Open In Colab\"/></a>"
      ]
    },
    {
      "cell_type": "code",
      "metadata": {
        "id": "LyRZfwAI2tto"
      },
      "source": [
        "import math\n",
        "import numpy as np\n",
        "\n",
        "x = 7\n",
        "N = 100\n",
        "Aprox1 = 1\n",
        "\n",
        "\n",
        "Es = 0.5e-3\n",
        "Ea = 1\n",
        "\n",
        "Exacto = math.exp(x)\n",
        "\n",
        "i = 0\n",
        "\n",
        "A = np.array([])\n",
        "E = np.array([])\n",
        "\n",
        "while Ea >= Es and i < N:\n",
        "    \n",
        "    Aprox2 = Aprox1 + pow(x, i)/math.factorial(i)\n",
        "           \n",
        "    Ea = ((Aprox2 - Aprox1)/Aprox2)*100\n",
        "    \n",
        "    \n",
        "    A = np.append(A, Aprox1)\n",
        "    E = np.append(E, Ea)\n",
        "    \n",
        "    Aprox1 = Aprox2\n",
        "    i += 1\n"
      ],
      "execution_count": null,
      "outputs": []
    },
    {
      "cell_type": "code",
      "metadata": {
        "colab": {
          "base_uri": "https://localhost:8080/",
          "height": 265
        },
        "id": "1nUSqIOk2ylu",
        "outputId": "7250002d-a73a-4d58-e644-5c3e33d0c407"
      },
      "source": [
        "import matplotlib.pyplot as plt\n",
        "\n",
        "plt.plot(A)\n",
        "plt.plot(E)\n",
        "plt.show()"
      ],
      "execution_count": null,
      "outputs": [
        {
          "output_type": "display_data",
          "data": {
            "image/png": "[encoded data removed]",
            "text/plain": [
              "<Figure size 432x288 with 1 Axes>"
            ]
          },
          "metadata": {
            "tags": [],
            "needs_background": "light"
          }
        }
      ]
    },
    {
      "cell_type": "code",
      "metadata": {
        "id": "kdIgoW-ZySxO",
        "colab": {
          "base_uri": "https://localhost:8080/"
        },
        "outputId": "a435f030-b32b-43c7-af82-84163a179087"
      },
      "source": [
        "import math\n",
        "math.factorial(5)"
      ],
      "execution_count": null,
      "outputs": [
        {
          "output_type": "execute_result",
          "data": {
            "text/plain": [
              "120"
            ]
          },
          "metadata": {
            "tags": []
          },
          "execution_count": 1
        }
      ]
    },
    {
      "cell_type": "code",
      "metadata": {
        "id": "9Cer5wFnVHm2"
      },
      "source": [
        "import math\n",
        "import pandas as pd"
      ],
      "execution_count": null,
      "outputs": []
    },
    {
      "cell_type": "code",
      "metadata": {
        "id": "rHZjAV__VcXc"
      },
      "source": [
        "i=0.3\n",
        "ss=19178\n",
        "C=30\n",
        "D=700000"
      ],
      "execution_count": null,
      "outputs": []
    },
    {
      "cell_type": "code",
      "metadata": {
        "id": "TNudjCUfWg5k"
      },
      "source": [
        "data={'Modo': ['Ferroviario', 'Fluvial', 'Carretera', 'Aéreo'], 'tau':[0.0575, 0.0384, 0.0137, 0.0055], 'r':[0.1,0.15,0.2,0.1], 'N':[10,20,20,40],'cap':[1000000, 17500, 8750, 17500], 'A':[2000,5000,1500,1000]}"
      ],
      "execution_count": null,
      "outputs": []
    },
    {
      "cell_type": "code",
      "metadata": {
        "id": "rma-HcuGWFps"
      },
      "source": [
        "df=pd.DataFrame(data)"
      ],
      "execution_count": null,
      "outputs": []
    },
    {
      "cell_type": "code",
      "metadata": {
        "colab": {
          "base_uri": "https://localhost:8080/"
        },
        "id": "kNxvVDu2Y6hf",
        "outputId": "9de29b5f-a452-443d-a4fb-c1d2762b0376"
      },
      "source": [
        "print(df)"
      ],
      "execution_count": null,
      "outputs": [
        {
          "output_type": "stream",
          "text": [
            "          Modo     tau     r   N      cap     A\n",
            "0  Ferroviario  0.0575  0.10  10  1000000  2000\n",
            "1      Fluvial  0.0384  0.15  20    17500  5000\n",
            "2    Carretera  0.0137  0.20  20     8750  1500\n",
            "3        Aéreo  0.0055  0.10  40    17500  1000\n"
          ],
          "name": "stdout"
        }
      ]
    },
    {
      "cell_type": "code",
      "metadata": {
        "id": "v8I0Uon8ZXd_"
      },
      "source": [
        "df.set_index('Modo',inplace=True)"
      ],
      "execution_count": null,
      "outputs": []
    },
    {
      "cell_type": "code",
      "metadata": {
        "id": "09pArLMVZ4-K",
        "colab": {
          "base_uri": "https://localhost:8080/"
        },
        "outputId": "986dc2df-c8c1-47e9-d7ca-85ea3c200891"
      },
      "source": [
        "print(df)"
      ],
      "execution_count": null,
      "outputs": [
        {
          "output_type": "stream",
          "text": [
            "                tau     r   N      cap     A\n",
            "Modo                                        \n",
            "Ferroviario  0.0575  0.10  10  1000000  2000\n",
            "Fluvial      0.0384  0.15  20    17500  5000\n",
            "Carretera    0.0137  0.20  20     8750  1500\n",
            "Aéreo        0.0055  0.10  40    17500  1000\n"
          ],
          "name": "stdout"
        }
      ]
    }
  ]
}