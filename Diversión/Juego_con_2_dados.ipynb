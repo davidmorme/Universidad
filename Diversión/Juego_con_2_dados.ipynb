{
  "nbformat": 4,
  "nbformat_minor": 0,
  "metadata": {
    "colab": {
      "name": "Juego con 2 dados.ipynb",
      "provenance": [],
      "authorship_tag": "ABX9TyO46ZnqN+MyZGOPHV8A5Cp9",
      "include_colab_link": true
    },
    "kernelspec": {
      "name": "python3",
      "display_name": "Python 3"
    }
  },
  "cells": [
    {
      "cell_type": "markdown",
      "metadata": {
        "id": "view-in-github",
        "colab_type": "text"
      },
      "source": [
        "<a href=\"https://colab.research.google.com/github/davidmorme/Universidad/blob/main/Diversi%C3%B3n/Juego_con_2_dados.ipynb\" target=\"_parent\"><img src=\"https://colab.research.google.com/assets/colab-badge.svg\" alt=\"Open In Colab\"/></a>"
      ]
    },
    {
      "cell_type": "code",
      "metadata": {
        "id": "8vQs9ephj3NO"
      },
      "source": [
        "import numpy as np\n",
        "import random\n",
        "import matplotlib.pyplot as plt\n",
        "import pandas as pd"
      ],
      "execution_count": 1,
      "outputs": []
    },
    {
      "cell_type": "code",
      "metadata": {
        "id": "IwzbWUKTj7wt"
      },
      "source": [
        "iteraciones=20000\n",
        "Dado1=np.zeros(iteraciones)\n",
        "Dado2=np.zeros(iteraciones)\n",
        "Suma=np.zeros(iteraciones)\n",
        "for i in range(0,iteraciones):\n",
        "  Dado1[i]=random.randint(1,6)\n",
        "  Dado2[i]=random.randint(1,6)\n",
        "  Suma[i]=Dado1[i]+Dado2[i]"
      ],
      "execution_count": 2,
      "outputs": []
    },
    {
      "cell_type": "code",
      "metadata": {
        "colab": {
          "base_uri": "https://localhost:8080/",
          "height": 281
        },
        "id": "P3srm7LclGbc",
        "outputId": "a78b4aea-a9d8-4147-f144-6fd5d2308fe3"
      },
      "source": [
        "plt.hist(Suma,bins=11,density=True)\n",
        "plt.title('Combinaciones con la suma de los dos dados')\n",
        "plt.xticks(range(2,13))\n",
        "plt.show()"
      ],
      "execution_count": 7,
      "outputs": [
        {
          "output_type": "display_data",
          "data": {
            "image/png": "[encoded data removed]",
            "text/plain": [
              "<Figure size 432x288 with 1 Axes>"
            ]
          },
          "metadata": {
            "needs_background": "light"
          }
        }
      ]
    },
    {
      "cell_type": "code",
      "metadata": {
        "id": "jvCGt8zklK9l"
      },
      "source": [
        "Todos=np.concatenate((Dado1,Dado2,Suma),axis=0)"
      ],
      "execution_count": 4,
      "outputs": []
    },
    {
      "cell_type": "code",
      "metadata": {
        "colab": {
          "base_uri": "https://localhost:8080/",
          "height": 281
        },
        "id": "UhEWm1bzl7ad",
        "outputId": "4790b6d0-16e0-4307-ae38-7047116bbb1c"
      },
      "source": [
        "plt.hist(Todos,bins=12,density=True)\n",
        "plt.title('Combinaciones con la suma de los dos dados y cada dado por individual')\n",
        "plt.xticks(range(1,13))\n",
        "plt.show()"
      ],
      "execution_count": 6,
      "outputs": [
        {
          "output_type": "display_data",
          "data": {
            "image/png": "[encoded data removed]",
            "text/plain": [
              "<Figure size 432x288 with 1 Axes>"
            ]
          },
          "metadata": {
            "needs_background": "light"
          }
        }
      ]
    },
    {
      "cell_type": "code",
      "metadata": {
        "id": "kAB5-Mezmkx_"
      },
      "source": [
        "Pares=np.zeros(iteraciones)\n",
        "for i in range(0,iteraciones):\n",
        "  if Dado1[i]==Dado2[i]:\n",
        "    Pares[i]=Dado1[i]"
      ],
      "execution_count": 16,
      "outputs": []
    },
    {
      "cell_type": "code",
      "metadata": {
        "colab": {
          "base_uri": "https://localhost:8080/",
          "height": 281
        },
        "id": "e6Nkp-c1mkl_",
        "outputId": "09f0fdd3-2484-4383-fce1-37579fb42b80"
      },
      "source": [
        "plt.hist(Pares,bins=7,density=True)\n",
        "plt.title('Sacar pares de:')\n",
        "plt.show()"
      ],
      "execution_count": 18,
      "outputs": [
        {
          "output_type": "display_data",
          "data": {
            "image/png": "[encoded data removed]",
            "text/plain": [
              "<Figure size 432x288 with 1 Axes>"
            ]
          },
          "metadata": {
            "needs_background": "light"
          }
        }
      ]
    },
    {
      "cell_type": "code",
      "metadata": {
        "colab": {
          "base_uri": "https://localhost:8080/"
        },
        "id": "_9g7mdIOnoRY",
        "outputId": "bae5fa23-05ad-465f-f25a-935ba782602f"
      },
      "source": [
        "PPar=sum(Pares>0)/len(Pares)*100\n",
        "print('La probabilidad de obtener par en un lanzamiento es de:',PPar,'%')"
      ],
      "execution_count": 19,
      "outputs": [
        {
          "output_type": "stream",
          "name": "stdout",
          "text": [
            "La probabilidad de obtener par en un lanzamiento es de: 16.76 %\n"
          ]
        }
      ]
    },
    {
      "cell_type": "code",
      "metadata": {
        "colab": {
          "base_uri": "https://localhost:8080/"
        },
        "id": "f9i6h_9goC-h",
        "outputId": "789c9964-8d06-4c6b-df2a-1a22aecb95a3"
      },
      "source": [
        "P=np.zeros(12)\n",
        "for j in range(1,13):\n",
        "  P[j-1]=round(sum(Todos==j)/len(Todos)*100,2)\n",
        "print(P)"
      ],
      "execution_count": 24,
      "outputs": [
        {
          "output_type": "stream",
          "name": "stdout",
          "text": [
            "[10.95 12.2  13.12 13.97 14.92 15.43  5.59  4.58  3.72  2.82  1.85  0.84]\n"
          ]
        }
      ]
    },
    {
      "cell_type": "code",
      "metadata": {
        "colab": {
          "base_uri": "https://localhost:8080/",
          "height": 483
        },
        "id": "NHONd1-grZW3",
        "outputId": "31e88ee7-b572-4d97-e217-0dc94a4956f9"
      },
      "source": [
        "DF=pd.DataFrame({'Valor':range(1,13),'Probabilidad (%)':P})\n",
        "DF.set_index('Valor',inplace=True)\n",
        "DF.loc['Par']=PPar\n",
        "DF"
      ],
      "execution_count": 25,
      "outputs": [
        {
          "output_type": "execute_result",
          "data": {
            "text/html": [
              "<div>\n",
              "<style scoped>\n",
              "    .dataframe tbody tr th:only-of-type {\n",
              "        vertical-align: middle;\n",
              "    }\n",
              "\n",
              "    .dataframe tbody tr th {\n",
              "        vertical-align: top;\n",
              "    }\n",
              "\n",
              "    .dataframe thead th {\n",
              "        text-align: right;\n",
              "    }\n",
              "</style>\n",
              "<table border=\"1\" class=\"dataframe\">\n",
              "  <thead>\n",
              "    <tr style=\"text-align: right;\">\n",
              "      <th></th>\n",
              "      <th>Probabilidad (%)</th>\n",
              "    </tr>\n",
              "    <tr>\n",
              "      <th>Valor</th>\n",
              "      <th></th>\n",
              "    </tr>\n",
              "  </thead>\n",
              "  <tbody>\n",
              "    <tr>\n",
              "      <th>1</th>\n",
              "      <td>10.95</td>\n",
              "    </tr>\n",
              "    <tr>\n",
              "      <th>2</th>\n",
              "      <td>12.20</td>\n",
              "    </tr>\n",
              "    <tr>\n",
              "      <th>3</th>\n",
              "      <td>13.12</td>\n",
              "    </tr>\n",
              "    <tr>\n",
              "      <th>4</th>\n",
              "      <td>13.97</td>\n",
              "    </tr>\n",
              "    <tr>\n",
              "      <th>5</th>\n",
              "      <td>14.92</td>\n",
              "    </tr>\n",
              "    <tr>\n",
              "      <th>6</th>\n",
              "      <td>15.43</td>\n",
              "    </tr>\n",
              "    <tr>\n",
              "      <th>7</th>\n",
              "      <td>5.59</td>\n",
              "    </tr>\n",
              "    <tr>\n",
              "      <th>8</th>\n",
              "      <td>4.58</td>\n",
              "    </tr>\n",
              "    <tr>\n",
              "      <th>9</th>\n",
              "      <td>3.72</td>\n",
              "    </tr>\n",
              "    <tr>\n",
              "      <th>10</th>\n",
              "      <td>2.82</td>\n",
              "    </tr>\n",
              "    <tr>\n",
              "      <th>11</th>\n",
              "      <td>1.85</td>\n",
              "    </tr>\n",
              "    <tr>\n",
              "      <th>12</th>\n",
              "      <td>0.84</td>\n",
              "    </tr>\n",
              "    <tr>\n",
              "      <th>Par</th>\n",
              "      <td>16.76</td>\n",
              "    </tr>\n",
              "  </tbody>\n",
              "</table>\n",
              "</div>"
            ],
            "text/plain": [
              "       Probabilidad (%)\n",
              "Valor                  \n",
              "1                 10.95\n",
              "2                 12.20\n",
              "3                 13.12\n",
              "4                 13.97\n",
              "5                 14.92\n",
              "6                 15.43\n",
              "7                  5.59\n",
              "8                  4.58\n",
              "9                  3.72\n",
              "10                 2.82\n",
              "11                 1.85\n",
              "12                 0.84\n",
              "Par               16.76"
            ]
          },
          "metadata": {},
          "execution_count": 25
        }
      ]
    },
    {
      "cell_type": "code",
      "metadata": {
        "id": "eHeR7ipL76ju"
      },
      "source": [
        "Numero=np.zeros(12)\n",
        "Par=0\n",
        "iteracion=0\n",
        "for i in range(1,7):\n",
        "  for j in range(1,7):\n",
        "    Numero[i-1]=Numero[i-1]+1\n",
        "    Numero[j-1]=Numero[j-1]+1\n",
        "    Numero[i+j-1]=Numero[i+j-1]+1\n",
        "    if i==j:\n",
        "      Par=Par+1\n",
        "    iteracion=iteracion+1"
      ],
      "execution_count": 26,
      "outputs": []
    },
    {
      "cell_type": "code",
      "metadata": {
        "colab": {
          "base_uri": "https://localhost:8080/",
          "height": 281
        },
        "id": "k-fEZVMq84Dx",
        "outputId": "22866347-50e0-4972-b184-1d48da521f74"
      },
      "source": [
        "plt.bar(range(1,13),Numero/sum(Numero))\n",
        "plt.xticks(range(1,13))\n",
        "plt.title('Combinaciones con la suma de los dos dados y cada dado por individual')\n",
        "plt.show()"
      ],
      "execution_count": 27,
      "outputs": [
        {
          "output_type": "display_data",
          "data": {
            "image/png": "[encoded data removed]",
            "text/plain": [
              "<Figure size 432x288 with 1 Axes>"
            ]
          },
          "metadata": {
            "needs_background": "light"
          }
        }
      ]
    },
    {
      "cell_type": "code",
      "metadata": {
        "colab": {
          "base_uri": "https://localhost:8080/",
          "height": 483
        },
        "id": "5Saw4STt9dwV",
        "outputId": "96fc2263-93ee-4825-e9dd-4dc26784ef20"
      },
      "source": [
        "DF1=pd.DataFrame({'Valor':range(1,13),'Probabilidad (%)':np.around(Numero/sum(Numero)*100,2)})\n",
        "DF1.set_index('Valor',inplace=True)\n",
        "DF1.loc['Par']=round(Par/iteracion*100,2)\n",
        "DF1"
      ],
      "execution_count": 29,
      "outputs": [
        {
          "output_type": "execute_result",
          "data": {
            "text/html": [
              "<div>\n",
              "<style scoped>\n",
              "    .dataframe tbody tr th:only-of-type {\n",
              "        vertical-align: middle;\n",
              "    }\n",
              "\n",
              "    .dataframe tbody tr th {\n",
              "        vertical-align: top;\n",
              "    }\n",
              "\n",
              "    .dataframe thead th {\n",
              "        text-align: right;\n",
              "    }\n",
              "</style>\n",
              "<table border=\"1\" class=\"dataframe\">\n",
              "  <thead>\n",
              "    <tr style=\"text-align: right;\">\n",
              "      <th></th>\n",
              "      <th>Probabilidad (%)</th>\n",
              "    </tr>\n",
              "    <tr>\n",
              "      <th>Valor</th>\n",
              "      <th></th>\n",
              "    </tr>\n",
              "  </thead>\n",
              "  <tbody>\n",
              "    <tr>\n",
              "      <th>1</th>\n",
              "      <td>11.11</td>\n",
              "    </tr>\n",
              "    <tr>\n",
              "      <th>2</th>\n",
              "      <td>12.04</td>\n",
              "    </tr>\n",
              "    <tr>\n",
              "      <th>3</th>\n",
              "      <td>12.96</td>\n",
              "    </tr>\n",
              "    <tr>\n",
              "      <th>4</th>\n",
              "      <td>13.89</td>\n",
              "    </tr>\n",
              "    <tr>\n",
              "      <th>5</th>\n",
              "      <td>14.81</td>\n",
              "    </tr>\n",
              "    <tr>\n",
              "      <th>6</th>\n",
              "      <td>15.74</td>\n",
              "    </tr>\n",
              "    <tr>\n",
              "      <th>7</th>\n",
              "      <td>5.56</td>\n",
              "    </tr>\n",
              "    <tr>\n",
              "      <th>8</th>\n",
              "      <td>4.63</td>\n",
              "    </tr>\n",
              "    <tr>\n",
              "      <th>9</th>\n",
              "      <td>3.70</td>\n",
              "    </tr>\n",
              "    <tr>\n",
              "      <th>10</th>\n",
              "      <td>2.78</td>\n",
              "    </tr>\n",
              "    <tr>\n",
              "      <th>11</th>\n",
              "      <td>1.85</td>\n",
              "    </tr>\n",
              "    <tr>\n",
              "      <th>12</th>\n",
              "      <td>0.93</td>\n",
              "    </tr>\n",
              "    <tr>\n",
              "      <th>Par</th>\n",
              "      <td>16.67</td>\n",
              "    </tr>\n",
              "  </tbody>\n",
              "</table>\n",
              "</div>"
            ],
            "text/plain": [
              "       Probabilidad (%)\n",
              "Valor                  \n",
              "1                 11.11\n",
              "2                 12.04\n",
              "3                 12.96\n",
              "4                 13.89\n",
              "5                 14.81\n",
              "6                 15.74\n",
              "7                  5.56\n",
              "8                  4.63\n",
              "9                  3.70\n",
              "10                 2.78\n",
              "11                 1.85\n",
              "12                 0.93\n",
              "Par               16.67"
            ]
          },
          "metadata": {},
          "execution_count": 29
        }
      ]
    },
    {
      "cell_type": "code",
      "metadata": {
        "id": "BVBKGvl3_kGM"
      },
      "source": [
        "DF1['Simulación']=DF['Probabilidad (%)']\n",
        "DF1['% Error']=(DF1['Probabilidad (%)']-DF1['Simulación'])/DF1['Probabilidad (%)']*100"
      ],
      "execution_count": 30,
      "outputs": []
    },
    {
      "cell_type": "code",
      "metadata": {
        "colab": {
          "base_uri": "https://localhost:8080/",
          "height": 483
        },
        "id": "lYGrbgMrAJEV",
        "outputId": "8c2447c3-8c56-48e3-c1e4-5ff91e85eea0"
      },
      "source": [
        "DF1"
      ],
      "execution_count": 31,
      "outputs": [
        {
          "output_type": "execute_result",
          "data": {
            "text/html": [
              "<div>\n",
              "<style scoped>\n",
              "    .dataframe tbody tr th:only-of-type {\n",
              "        vertical-align: middle;\n",
              "    }\n",
              "\n",
              "    .dataframe tbody tr th {\n",
              "        vertical-align: top;\n",
              "    }\n",
              "\n",
              "    .dataframe thead th {\n",
              "        text-align: right;\n",
              "    }\n",
              "</style>\n",
              "<table border=\"1\" class=\"dataframe\">\n",
              "  <thead>\n",
              "    <tr style=\"text-align: right;\">\n",
              "      <th></th>\n",
              "      <th>Probabilidad (%)</th>\n",
              "      <th>Simulación</th>\n",
              "      <th>% Error</th>\n",
              "    </tr>\n",
              "    <tr>\n",
              "      <th>Valor</th>\n",
              "      <th></th>\n",
              "      <th></th>\n",
              "      <th></th>\n",
              "    </tr>\n",
              "  </thead>\n",
              "  <tbody>\n",
              "    <tr>\n",
              "      <th>1</th>\n",
              "      <td>11.11</td>\n",
              "      <td>10.95</td>\n",
              "      <td>1.440144</td>\n",
              "    </tr>\n",
              "    <tr>\n",
              "      <th>2</th>\n",
              "      <td>12.04</td>\n",
              "      <td>12.20</td>\n",
              "      <td>-1.328904</td>\n",
              "    </tr>\n",
              "    <tr>\n",
              "      <th>3</th>\n",
              "      <td>12.96</td>\n",
              "      <td>13.12</td>\n",
              "      <td>-1.234568</td>\n",
              "    </tr>\n",
              "    <tr>\n",
              "      <th>4</th>\n",
              "      <td>13.89</td>\n",
              "      <td>13.97</td>\n",
              "      <td>-0.575954</td>\n",
              "    </tr>\n",
              "    <tr>\n",
              "      <th>5</th>\n",
              "      <td>14.81</td>\n",
              "      <td>14.92</td>\n",
              "      <td>-0.742741</td>\n",
              "    </tr>\n",
              "    <tr>\n",
              "      <th>6</th>\n",
              "      <td>15.74</td>\n",
              "      <td>15.43</td>\n",
              "      <td>1.969504</td>\n",
              "    </tr>\n",
              "    <tr>\n",
              "      <th>7</th>\n",
              "      <td>5.56</td>\n",
              "      <td>5.59</td>\n",
              "      <td>-0.539568</td>\n",
              "    </tr>\n",
              "    <tr>\n",
              "      <th>8</th>\n",
              "      <td>4.63</td>\n",
              "      <td>4.58</td>\n",
              "      <td>1.079914</td>\n",
              "    </tr>\n",
              "    <tr>\n",
              "      <th>9</th>\n",
              "      <td>3.70</td>\n",
              "      <td>3.72</td>\n",
              "      <td>-0.540541</td>\n",
              "    </tr>\n",
              "    <tr>\n",
              "      <th>10</th>\n",
              "      <td>2.78</td>\n",
              "      <td>2.82</td>\n",
              "      <td>-1.438849</td>\n",
              "    </tr>\n",
              "    <tr>\n",
              "      <th>11</th>\n",
              "      <td>1.85</td>\n",
              "      <td>1.85</td>\n",
              "      <td>0.000000</td>\n",
              "    </tr>\n",
              "    <tr>\n",
              "      <th>12</th>\n",
              "      <td>0.93</td>\n",
              "      <td>0.84</td>\n",
              "      <td>9.677419</td>\n",
              "    </tr>\n",
              "    <tr>\n",
              "      <th>Par</th>\n",
              "      <td>16.67</td>\n",
              "      <td>16.76</td>\n",
              "      <td>-0.539892</td>\n",
              "    </tr>\n",
              "  </tbody>\n",
              "</table>\n",
              "</div>"
            ],
            "text/plain": [
              "       Probabilidad (%)  Simulación   % Error\n",
              "Valor                                        \n",
              "1                 11.11       10.95  1.440144\n",
              "2                 12.04       12.20 -1.328904\n",
              "3                 12.96       13.12 -1.234568\n",
              "4                 13.89       13.97 -0.575954\n",
              "5                 14.81       14.92 -0.742741\n",
              "6                 15.74       15.43  1.969504\n",
              "7                  5.56        5.59 -0.539568\n",
              "8                  4.63        4.58  1.079914\n",
              "9                  3.70        3.72 -0.540541\n",
              "10                 2.78        2.82 -1.438849\n",
              "11                 1.85        1.85  0.000000\n",
              "12                 0.93        0.84  9.677419\n",
              "Par               16.67       16.76 -0.539892"
            ]
          },
          "metadata": {},
          "execution_count": 31
        }
      ]
    }
  ]
}