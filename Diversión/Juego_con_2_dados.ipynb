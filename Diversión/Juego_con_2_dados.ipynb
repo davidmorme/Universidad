{
  "nbformat": 4,
  "nbformat_minor": 0,
  "metadata": {
    "colab": {
      "name": "Juego con 2 dados.ipynb",
      "provenance": [],
      "authorship_tag": "ABX9TyPM2ampV+h3IqkAttcDgB9D",
      "include_colab_link": true
    },
    "kernelspec": {
      "name": "python3",
      "display_name": "Python 3"
    }
  },
  "cells": [
    {
      "cell_type": "markdown",
      "metadata": {
        "id": "view-in-github",
        "colab_type": "text"
      },
      "source": [
        "<a href=\"https://colab.research.google.com/github/davidmorme/Universidad/blob/main/Diversi%C3%B3n/Juego_con_2_dados.ipynb\" target=\"_parent\"><img src=\"https://colab.research.google.com/assets/colab-badge.svg\" alt=\"Open In Colab\"/></a>"
      ]
    },
    {
      "cell_type": "code",
      "metadata": {
        "id": "8vQs9ephj3NO"
      },
      "source": [
        "import numpy as np\n",
        "import random\n",
        "import matplotlib.pyplot as plt\n",
        "import pandas as pd"
      ],
      "execution_count": null,
      "outputs": []
    },
    {
      "cell_type": "code",
      "metadata": {
        "id": "IwzbWUKTj7wt"
      },
      "source": [
        "iteraciones=20000\n",
        "Dado1=np.zeros(iteraciones)\n",
        "Dado2=np.zeros(iteraciones)\n",
        "Suma=np.zeros(iteraciones)\n",
        "for i in range(0,iteraciones):\n",
        "  Dado1[i]=random.randint(1,6)\n",
        "  Dado2[i]=random.randint(1,6)\n",
        "  Suma[i]=Dado1[i]+Dado2[i]"
      ],
      "execution_count": null,
      "outputs": []
    },
    {
      "cell_type": "code",
      "metadata": {
        "colab": {
          "base_uri": "https://localhost:8080/",
          "height": 281
        },
        "id": "P3srm7LclGbc",
        "outputId": "c482a2f1-09f9-4378-9a4a-6896cec4732c"
      },
      "source": [
        "plt.hist(Suma,bins=11)\n",
        "plt.title('Combinaciones con la suma de los dos dados')\n",
        "plt.xticks(range(2,13))\n",
        "plt.show()"
      ],
      "execution_count": null,
      "outputs": [
        {
          "output_type": "display_data",
          "data": {
            "image/png": "[encoded data removed]",
            "text/plain": [
              "<Figure size 432x288 with 1 Axes>"
            ]
          },
          "metadata": {
            "tags": [],
            "needs_background": "light"
          }
        }
      ]
    },
    {
      "cell_type": "code",
      "metadata": {
        "id": "jvCGt8zklK9l"
      },
      "source": [
        "Todos=np.concatenate((Dado1,Dado2,Suma),axis=0)"
      ],
      "execution_count": null,
      "outputs": []
    },
    {
      "cell_type": "code",
      "metadata": {
        "colab": {
          "base_uri": "https://localhost:8080/",
          "height": 281
        },
        "id": "UhEWm1bzl7ad",
        "outputId": "1802e5c9-e765-4dbd-b97b-50e8ced3b16a"
      },
      "source": [
        "plt.hist(Todos,bins=12)\n",
        "plt.title('Combinaciones con la suma de los dos dados y cada dado por individual')\n",
        "plt.xticks(range(1,13))\n",
        "plt.show()"
      ],
      "execution_count": null,
      "outputs": [
        {
          "output_type": "display_data",
          "data": {
            "image/png": "[encoded data removed]",
            "text/plain": [
              "<Figure size 432x288 with 1 Axes>"
            ]
          },
          "metadata": {
            "tags": [],
            "needs_background": "light"
          }
        }
      ]
    },
    {
      "cell_type": "code",
      "metadata": {
        "id": "kAB5-Mezmkx_"
      },
      "source": [
        "Pares=np.zeros(iteraciones)\n",
        "for i in range(0,iteraciones):\n",
        "  if Dado1[i]==Dado2[i]:\n",
        "    Pares[i]=Dado1[i]"
      ],
      "execution_count": null,
      "outputs": []
    },
    {
      "cell_type": "code",
      "metadata": {
        "colab": {
          "base_uri": "https://localhost:8080/",
          "height": 281
        },
        "id": "e6Nkp-c1mkl_",
        "outputId": "4b3ecb97-dfbd-408b-bc87-17a1205d2263"
      },
      "source": [
        "plt.hist(Pares,bins=7)\n",
        "plt.title('Sacar pares de:')\n",
        "plt.show()"
      ],
      "execution_count": null,
      "outputs": [
        {
          "output_type": "display_data",
          "data": {
            "image/png": "[encoded data removed]",
            "text/plain": [
              "<Figure size 432x288 with 1 Axes>"
            ]
          },
          "metadata": {
            "tags": [],
            "needs_background": "light"
          }
        }
      ]
    },
    {
      "cell_type": "code",
      "metadata": {
        "colab": {
          "base_uri": "https://localhost:8080/"
        },
        "id": "_9g7mdIOnoRY",
        "outputId": "84bbd99c-a33b-4b4b-ec80-aaab674cd905"
      },
      "source": [
        "PPar=sum(Pares>0)/len(Pares)*100\n",
        "print('La probabilidad de obtener par en un lanzamiento es de:',PPar,'%')"
      ],
      "execution_count": null,
      "outputs": [
        {
          "output_type": "stream",
          "text": [
            "La probabilidad de obtener par en un lanzamiento es de: 16.865 %\n"
          ],
          "name": "stdout"
        }
      ]
    },
    {
      "cell_type": "code",
      "metadata": {
        "colab": {
          "base_uri": "https://localhost:8080/"
        },
        "id": "f9i6h_9goC-h",
        "outputId": "6895ee72-bf11-4ee9-8ee1-8386565aca6a"
      },
      "source": [
        "P=np.zeros(12)\n",
        "for j in range(1,13):\n",
        "  P[j-1]=round(sum(Todos==j)/len(Todos)*100,2)\n",
        "print(P)"
      ],
      "execution_count": null,
      "outputs": [
        {
          "output_type": "stream",
          "text": [
            "[11.29 12.06 13.02 13.89 14.6  15.76  5.48  4.61  3.73  2.82  1.78  0.96]\n"
          ],
          "name": "stdout"
        }
      ]
    },
    {
      "cell_type": "code",
      "metadata": {
        "colab": {
          "base_uri": "https://localhost:8080/",
          "height": 483
        },
        "id": "NHONd1-grZW3",
        "outputId": "5c7a9f90-5c7a-4a0a-e933-60f20a235e0a"
      },
      "source": [
        "DF=pd.DataFrame({'Valor':range(1,13),'Probabilidad (%)':P})\n",
        "DF.set_index('Valor',inplace=True)\n",
        "DF.loc['Par']=PPar\n",
        "DF"
      ],
      "execution_count": null,
      "outputs": [
        {
          "output_type": "execute_result",
          "data": {
            "text/html": [
              "<div>\n",
              "<style scoped>\n",
              "    .dataframe tbody tr th:only-of-type {\n",
              "        vertical-align: middle;\n",
              "    }\n",
              "\n",
              "    .dataframe tbody tr th {\n",
              "        vertical-align: top;\n",
              "    }\n",
              "\n",
              "    .dataframe thead th {\n",
              "        text-align: right;\n",
              "    }\n",
              "</style>\n",
              "<table border=\"1\" class=\"dataframe\">\n",
              "  <thead>\n",
              "    <tr style=\"text-align: right;\">\n",
              "      <th></th>\n",
              "      <th>Probabilidad (%)</th>\n",
              "    </tr>\n",
              "    <tr>\n",
              "      <th>Valor</th>\n",
              "      <th></th>\n",
              "    </tr>\n",
              "  </thead>\n",
              "  <tbody>\n",
              "    <tr>\n",
              "      <th>1</th>\n",
              "      <td>11.290</td>\n",
              "    </tr>\n",
              "    <tr>\n",
              "      <th>2</th>\n",
              "      <td>12.060</td>\n",
              "    </tr>\n",
              "    <tr>\n",
              "      <th>3</th>\n",
              "      <td>13.020</td>\n",
              "    </tr>\n",
              "    <tr>\n",
              "      <th>4</th>\n",
              "      <td>13.890</td>\n",
              "    </tr>\n",
              "    <tr>\n",
              "      <th>5</th>\n",
              "      <td>14.600</td>\n",
              "    </tr>\n",
              "    <tr>\n",
              "      <th>6</th>\n",
              "      <td>15.760</td>\n",
              "    </tr>\n",
              "    <tr>\n",
              "      <th>7</th>\n",
              "      <td>5.480</td>\n",
              "    </tr>\n",
              "    <tr>\n",
              "      <th>8</th>\n",
              "      <td>4.610</td>\n",
              "    </tr>\n",
              "    <tr>\n",
              "      <th>9</th>\n",
              "      <td>3.730</td>\n",
              "    </tr>\n",
              "    <tr>\n",
              "      <th>10</th>\n",
              "      <td>2.820</td>\n",
              "    </tr>\n",
              "    <tr>\n",
              "      <th>11</th>\n",
              "      <td>1.780</td>\n",
              "    </tr>\n",
              "    <tr>\n",
              "      <th>12</th>\n",
              "      <td>0.960</td>\n",
              "    </tr>\n",
              "    <tr>\n",
              "      <th>Par</th>\n",
              "      <td>16.865</td>\n",
              "    </tr>\n",
              "  </tbody>\n",
              "</table>\n",
              "</div>"
            ],
            "text/plain": [
              "       Probabilidad (%)\n",
              "Valor                  \n",
              "1                11.290\n",
              "2                12.060\n",
              "3                13.020\n",
              "4                13.890\n",
              "5                14.600\n",
              "6                15.760\n",
              "7                 5.480\n",
              "8                 4.610\n",
              "9                 3.730\n",
              "10                2.820\n",
              "11                1.780\n",
              "12                0.960\n",
              "Par              16.865"
            ]
          },
          "metadata": {
            "tags": []
          },
          "execution_count": 11
        }
      ]
    },
    {
      "cell_type": "code",
      "metadata": {
        "id": "eHeR7ipL76ju"
      },
      "source": [
        "Numero=np.zeros(12)\n",
        "Par=0\n",
        "iteracion=0\n",
        "for i in range(1,7):\n",
        "  for j in range(1,7):\n",
        "    Numero[i-1]=Numero[i-1]+1\n",
        "    Numero[j-1]=Numero[j-1]+1\n",
        "    Numero[i+j-1]=Numero[i+j-1]+1\n",
        "    if i==j:\n",
        "      Par=Par+1\n",
        "    iteracion=iteracion+1"
      ],
      "execution_count": null,
      "outputs": []
    },
    {
      "cell_type": "code",
      "metadata": {
        "colab": {
          "base_uri": "https://localhost:8080/",
          "height": 281
        },
        "id": "k-fEZVMq84Dx",
        "outputId": "921f950e-0c68-4ef2-e862-e317efd4dbd2"
      },
      "source": [
        "plt.bar(range(1,13),Numero)\n",
        "plt.xticks(range(1,13))\n",
        "plt.title('Combinaciones con la suma de los dos dados y cada dado por individual')\n",
        "plt.show()"
      ],
      "execution_count": null,
      "outputs": [
        {
          "output_type": "display_data",
          "data": {
            "image/png": "[encoded data removed]",
            "text/plain": [
              "<Figure size 432x288 with 1 Axes>"
            ]
          },
          "metadata": {
            "tags": [],
            "needs_background": "light"
          }
        }
      ]
    },
    {
      "cell_type": "code",
      "metadata": {
        "colab": {
          "base_uri": "https://localhost:8080/",
          "height": 483
        },
        "id": "5Saw4STt9dwV",
        "outputId": "5e059d80-eb5a-4c5b-9f38-75f3d5e0f619"
      },
      "source": [
        "DF1=pd.DataFrame({'Valor':range(1,13),'Probabilidad (%)':np.around(Numero/sum(Numero)*100,2)})\n",
        "DF1.set_index('Valor',inplace=True)\n",
        "DF1.loc['Par']=round(Par/iteracion*100,2)\n",
        "DF1"
      ],
      "execution_count": null,
      "outputs": [
        {
          "output_type": "execute_result",
          "data": {
            "text/html": [
              "<div>\n",
              "<style scoped>\n",
              "    .dataframe tbody tr th:only-of-type {\n",
              "        vertical-align: middle;\n",
              "    }\n",
              "\n",
              "    .dataframe tbody tr th {\n",
              "        vertical-align: top;\n",
              "    }\n",
              "\n",
              "    .dataframe thead th {\n",
              "        text-align: right;\n",
              "    }\n",
              "</style>\n",
              "<table border=\"1\" class=\"dataframe\">\n",
              "  <thead>\n",
              "    <tr style=\"text-align: right;\">\n",
              "      <th></th>\n",
              "      <th>Probabilidad (%)</th>\n",
              "    </tr>\n",
              "    <tr>\n",
              "      <th>Valor</th>\n",
              "      <th></th>\n",
              "    </tr>\n",
              "  </thead>\n",
              "  <tbody>\n",
              "    <tr>\n",
              "      <th>1</th>\n",
              "      <td>11.11</td>\n",
              "    </tr>\n",
              "    <tr>\n",
              "      <th>2</th>\n",
              "      <td>12.04</td>\n",
              "    </tr>\n",
              "    <tr>\n",
              "      <th>3</th>\n",
              "      <td>12.96</td>\n",
              "    </tr>\n",
              "    <tr>\n",
              "      <th>4</th>\n",
              "      <td>13.89</td>\n",
              "    </tr>\n",
              "    <tr>\n",
              "      <th>5</th>\n",
              "      <td>14.81</td>\n",
              "    </tr>\n",
              "    <tr>\n",
              "      <th>6</th>\n",
              "      <td>15.74</td>\n",
              "    </tr>\n",
              "    <tr>\n",
              "      <th>7</th>\n",
              "      <td>5.56</td>\n",
              "    </tr>\n",
              "    <tr>\n",
              "      <th>8</th>\n",
              "      <td>4.63</td>\n",
              "    </tr>\n",
              "    <tr>\n",
              "      <th>9</th>\n",
              "      <td>3.70</td>\n",
              "    </tr>\n",
              "    <tr>\n",
              "      <th>10</th>\n",
              "      <td>2.78</td>\n",
              "    </tr>\n",
              "    <tr>\n",
              "      <th>11</th>\n",
              "      <td>1.85</td>\n",
              "    </tr>\n",
              "    <tr>\n",
              "      <th>12</th>\n",
              "      <td>0.93</td>\n",
              "    </tr>\n",
              "    <tr>\n",
              "      <th>Par</th>\n",
              "      <td>16.67</td>\n",
              "    </tr>\n",
              "  </tbody>\n",
              "</table>\n",
              "</div>"
            ],
            "text/plain": [
              "       Probabilidad (%)\n",
              "Valor                  \n",
              "1                 11.11\n",
              "2                 12.04\n",
              "3                 12.96\n",
              "4                 13.89\n",
              "5                 14.81\n",
              "6                 15.74\n",
              "7                  5.56\n",
              "8                  4.63\n",
              "9                  3.70\n",
              "10                 2.78\n",
              "11                 1.85\n",
              "12                 0.93\n",
              "Par               16.67"
            ]
          },
          "metadata": {
            "tags": []
          },
          "execution_count": 10
        }
      ]
    },
    {
      "cell_type": "code",
      "metadata": {
        "id": "BVBKGvl3_kGM"
      },
      "source": [
        "DF1['Simulación']=DF['Probabilidad (%)']\n",
        "DF1['% Error']=(DF1['Probabilidad (%)']-DF1['Simulación'])/DF1['Probabilidad (%)']*100"
      ],
      "execution_count": null,
      "outputs": []
    },
    {
      "cell_type": "code",
      "metadata": {
        "colab": {
          "base_uri": "https://localhost:8080/",
          "height": 483
        },
        "id": "lYGrbgMrAJEV",
        "outputId": "2fb1c3c7-3b64-4560-db19-2c4dd23e088a"
      },
      "source": [
        "DF1"
      ],
      "execution_count": null,
      "outputs": [
        {
          "output_type": "execute_result",
          "data": {
            "text/html": [
              "<div>\n",
              "<style scoped>\n",
              "    .dataframe tbody tr th:only-of-type {\n",
              "        vertical-align: middle;\n",
              "    }\n",
              "\n",
              "    .dataframe tbody tr th {\n",
              "        vertical-align: top;\n",
              "    }\n",
              "\n",
              "    .dataframe thead th {\n",
              "        text-align: right;\n",
              "    }\n",
              "</style>\n",
              "<table border=\"1\" class=\"dataframe\">\n",
              "  <thead>\n",
              "    <tr style=\"text-align: right;\">\n",
              "      <th></th>\n",
              "      <th>Probabilidad (%)</th>\n",
              "      <th>Simulación</th>\n",
              "      <th>% Error</th>\n",
              "    </tr>\n",
              "    <tr>\n",
              "      <th>Valor</th>\n",
              "      <th></th>\n",
              "      <th></th>\n",
              "      <th></th>\n",
              "    </tr>\n",
              "  </thead>\n",
              "  <tbody>\n",
              "    <tr>\n",
              "      <th>1</th>\n",
              "      <td>11.11</td>\n",
              "      <td>11.290</td>\n",
              "      <td>-1.620162</td>\n",
              "    </tr>\n",
              "    <tr>\n",
              "      <th>2</th>\n",
              "      <td>12.04</td>\n",
              "      <td>12.060</td>\n",
              "      <td>-0.166113</td>\n",
              "    </tr>\n",
              "    <tr>\n",
              "      <th>3</th>\n",
              "      <td>12.96</td>\n",
              "      <td>13.020</td>\n",
              "      <td>-0.462963</td>\n",
              "    </tr>\n",
              "    <tr>\n",
              "      <th>4</th>\n",
              "      <td>13.89</td>\n",
              "      <td>13.890</td>\n",
              "      <td>0.000000</td>\n",
              "    </tr>\n",
              "    <tr>\n",
              "      <th>5</th>\n",
              "      <td>14.81</td>\n",
              "      <td>14.600</td>\n",
              "      <td>1.417961</td>\n",
              "    </tr>\n",
              "    <tr>\n",
              "      <th>6</th>\n",
              "      <td>15.74</td>\n",
              "      <td>15.760</td>\n",
              "      <td>-0.127065</td>\n",
              "    </tr>\n",
              "    <tr>\n",
              "      <th>7</th>\n",
              "      <td>5.56</td>\n",
              "      <td>5.480</td>\n",
              "      <td>1.438849</td>\n",
              "    </tr>\n",
              "    <tr>\n",
              "      <th>8</th>\n",
              "      <td>4.63</td>\n",
              "      <td>4.610</td>\n",
              "      <td>0.431965</td>\n",
              "    </tr>\n",
              "    <tr>\n",
              "      <th>9</th>\n",
              "      <td>3.70</td>\n",
              "      <td>3.730</td>\n",
              "      <td>-0.810811</td>\n",
              "    </tr>\n",
              "    <tr>\n",
              "      <th>10</th>\n",
              "      <td>2.78</td>\n",
              "      <td>2.820</td>\n",
              "      <td>-1.438849</td>\n",
              "    </tr>\n",
              "    <tr>\n",
              "      <th>11</th>\n",
              "      <td>1.85</td>\n",
              "      <td>1.780</td>\n",
              "      <td>3.783784</td>\n",
              "    </tr>\n",
              "    <tr>\n",
              "      <th>12</th>\n",
              "      <td>0.93</td>\n",
              "      <td>0.960</td>\n",
              "      <td>-3.225806</td>\n",
              "    </tr>\n",
              "    <tr>\n",
              "      <th>Par</th>\n",
              "      <td>16.67</td>\n",
              "      <td>16.865</td>\n",
              "      <td>-1.169766</td>\n",
              "    </tr>\n",
              "  </tbody>\n",
              "</table>\n",
              "</div>"
            ],
            "text/plain": [
              "       Probabilidad (%)  Simulación   % Error\n",
              "Valor                                        \n",
              "1                 11.11      11.290 -1.620162\n",
              "2                 12.04      12.060 -0.166113\n",
              "3                 12.96      13.020 -0.462963\n",
              "4                 13.89      13.890  0.000000\n",
              "5                 14.81      14.600  1.417961\n",
              "6                 15.74      15.760 -0.127065\n",
              "7                  5.56       5.480  1.438849\n",
              "8                  4.63       4.610  0.431965\n",
              "9                  3.70       3.730 -0.810811\n",
              "10                 2.78       2.820 -1.438849\n",
              "11                 1.85       1.780  3.783784\n",
              "12                 0.93       0.960 -3.225806\n",
              "Par               16.67      16.865 -1.169766"
            ]
          },
          "metadata": {
            "tags": []
          },
          "execution_count": 17
        }
      ]
    },
    {
      "cell_type": "code",
      "metadata": {
        "colab": {
          "base_uri": "https://localhost:8080/"
        },
        "id": "BHGv5-MN8vDb",
        "outputId": "9bb0b269-218a-48bf-b0c9-86d508cf85a7"
      },
      "source": [
        "sum(DF1['Probabilidad (%)'].iloc[0:12])"
      ],
      "execution_count": null,
      "outputs": [
        {
          "output_type": "execute_result",
          "data": {
            "text/plain": [
              "100.0"
            ]
          },
          "metadata": {
            "tags": []
          },
          "execution_count": 25
        }
      ]
    }
  ]
}