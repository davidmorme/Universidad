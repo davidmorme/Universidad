{
  "nbformat": 4,
  "nbformat_minor": 0,
  "metadata": {
    "colab": {
      "name": "Movies Recommendation.ipynb",
      "provenance": [],
      "collapsed_sections": [
        "hNX4VwN3qwNd",
        "8gbm6SBzV58p"
      ],
      "authorship_tag": "ABX9TyPAJbt/r+ZjV0c322t7cZxA",
      "include_colab_link": true
    },
    "kernelspec": {
      "name": "python3",
      "display_name": "Python 3"
    },
    "language_info": {
      "name": "python"
    }
  },
  "cells": [
    {
      "cell_type": "markdown",
      "metadata": {
        "id": "view-in-github",
        "colab_type": "text"
      },
      "source": [
        "<a href=\"https://colab.research.google.com/github/davidmorme/Universidad/blob/main/Diversi%C3%B3n/Movies_Recommendation.ipynb\" target=\"_parent\"><img src=\"https://colab.research.google.com/assets/colab-badge.svg\" alt=\"Open In Colab\"/></a>"
      ]
    },
    {
      "cell_type": "markdown",
      "metadata": {
        "id": "hvizFcNQM909"
      },
      "source": [
        "Este Notebook está basado en un tutorial de DataCamp en el link https://www.datacamp.com/community/tutorials/streaming-platform-analysis\n",
        "\n",
        "La base de datos se encuentra en: https://www.kaggle.com/ruchi798/movies-on-netflix-prime-video-hulu-and-disney\n",
        "\n",
        "Let's describe data attributes in detail:\n",
        "\n",
        "ID: It is a unique ID for each record.\n",
        "\n",
        "Title: It is the name of the movie\n",
        "\n",
        "Year: Release year of the movie.\n",
        "\n",
        "Age: it is the target age group\n",
        "\n",
        "IMDb: IMDB rating of movies.\n",
        "\n",
        "Rotten Tomatoes: Rotten Tomatoes %\n",
        "\n",
        "Netflix: whether the movie is found on Netflix\n",
        "\n",
        "Hulu: whether the movie is found on Hulu\n",
        "\n",
        "Prime Video: whether the movie is found on Prime Video\n",
        "\n",
        "Disney+: whether the movie is found on Disney+\n",
        "\n",
        "Type: Movie or TV show\n",
        "\n",
        "Directors: Name of the director\n",
        "\n",
        "Genres: Type of genre\n",
        "\n",
        "Country: Country of origin\n",
        "\n",
        "Language: Language of origin\n",
        "\n",
        "Runtime: Duration of the movie"
      ]
    },
    {
      "cell_type": "markdown",
      "metadata": {
        "id": "3gZ9qoWPqnF5"
      },
      "source": [
        "# **Análisis de la base de datos**"
      ]
    },
    {
      "cell_type": "code",
      "metadata": {
        "id": "dipGK4slJluP"
      },
      "source": [
        "# Import required libraries\n",
        "import numpy as np\n",
        "import pandas as pd\n",
        "import matplotlib.pyplot as plt\n",
        "import seaborn as sns\n",
        "from sklearn.feature_extraction.text import TfidfVectorizer    \n",
        "from nltk.tokenize import RegexpTokenizer\n",
        "import numpy as np\n",
        "from sklearn import preprocessing\n",
        "from scipy.sparse import hstack\n",
        "import pandas_profiling"
      ],
      "execution_count": null,
      "outputs": []
    },
    {
      "cell_type": "code",
      "metadata": {
        "colab": {
          "base_uri": "https://localhost:8080/",
          "height": 394
        },
        "id": "BpN9HrFtJwGK",
        "outputId": "2ca881c3-6799-4d07-9639-4a869844f950"
      },
      "source": [
        "df=pd.read_csv('MoviesOnStreamingPlatforms_updated.csv', index_col=0)\n",
        "df.head()"
      ],
      "execution_count": null,
      "outputs": [
        {
          "output_type": "execute_result",
          "data": {
            "text/html": [
              "<div>\n",
              "<style scoped>\n",
              "    .dataframe tbody tr th:only-of-type {\n",
              "        vertical-align: middle;\n",
              "    }\n",
              "\n",
              "    .dataframe tbody tr th {\n",
              "        vertical-align: top;\n",
              "    }\n",
              "\n",
              "    .dataframe thead th {\n",
              "        text-align: right;\n",
              "    }\n",
              "</style>\n",
              "<table border=\"1\" class=\"dataframe\">\n",
              "  <thead>\n",
              "    <tr style=\"text-align: right;\">\n",
              "      <th></th>\n",
              "      <th>ID</th>\n",
              "      <th>Title</th>\n",
              "      <th>Year</th>\n",
              "      <th>Age</th>\n",
              "      <th>IMDb</th>\n",
              "      <th>Rotten Tomatoes</th>\n",
              "      <th>Netflix</th>\n",
              "      <th>Hulu</th>\n",
              "      <th>Prime Video</th>\n",
              "      <th>Disney+</th>\n",
              "      <th>Type</th>\n",
              "      <th>Directors</th>\n",
              "      <th>Genres</th>\n",
              "      <th>Country</th>\n",
              "      <th>Language</th>\n",
              "      <th>Runtime</th>\n",
              "    </tr>\n",
              "  </thead>\n",
              "  <tbody>\n",
              "    <tr>\n",
              "      <th>0</th>\n",
              "      <td>1</td>\n",
              "      <td>The Irishman</td>\n",
              "      <td>2019</td>\n",
              "      <td>18+</td>\n",
              "      <td>7.8/10</td>\n",
              "      <td>98/100</td>\n",
              "      <td>1</td>\n",
              "      <td>0</td>\n",
              "      <td>0</td>\n",
              "      <td>0</td>\n",
              "      <td>0</td>\n",
              "      <td>Martin Scorsese</td>\n",
              "      <td>Biography,Crime,Drama</td>\n",
              "      <td>United States</td>\n",
              "      <td>English,Italian,Latin,Spanish,German</td>\n",
              "      <td>209.0</td>\n",
              "    </tr>\n",
              "    <tr>\n",
              "      <th>1</th>\n",
              "      <td>2</td>\n",
              "      <td>Dangal</td>\n",
              "      <td>2016</td>\n",
              "      <td>7+</td>\n",
              "      <td>8.4/10</td>\n",
              "      <td>97/100</td>\n",
              "      <td>1</td>\n",
              "      <td>0</td>\n",
              "      <td>0</td>\n",
              "      <td>0</td>\n",
              "      <td>0</td>\n",
              "      <td>Nitesh Tiwari</td>\n",
              "      <td>Action,Biography,Drama,Sport</td>\n",
              "      <td>India,United States,United Kingdom,Australia,K...</td>\n",
              "      <td>Hindi,English</td>\n",
              "      <td>161.0</td>\n",
              "    </tr>\n",
              "    <tr>\n",
              "      <th>2</th>\n",
              "      <td>3</td>\n",
              "      <td>David Attenborough: A Life on Our Planet</td>\n",
              "      <td>2020</td>\n",
              "      <td>7+</td>\n",
              "      <td>9.0/10</td>\n",
              "      <td>95/100</td>\n",
              "      <td>1</td>\n",
              "      <td>0</td>\n",
              "      <td>0</td>\n",
              "      <td>0</td>\n",
              "      <td>0</td>\n",
              "      <td>Alastair Fothergill,Jonathan Hughes,Keith Scholey</td>\n",
              "      <td>Documentary,Biography</td>\n",
              "      <td>United Kingdom</td>\n",
              "      <td>English</td>\n",
              "      <td>83.0</td>\n",
              "    </tr>\n",
              "    <tr>\n",
              "      <th>3</th>\n",
              "      <td>4</td>\n",
              "      <td>Lagaan: Once Upon a Time in India</td>\n",
              "      <td>2001</td>\n",
              "      <td>7+</td>\n",
              "      <td>8.1/10</td>\n",
              "      <td>94/100</td>\n",
              "      <td>1</td>\n",
              "      <td>0</td>\n",
              "      <td>0</td>\n",
              "      <td>0</td>\n",
              "      <td>0</td>\n",
              "      <td>Ashutosh Gowariker</td>\n",
              "      <td>Drama,Musical,Sport</td>\n",
              "      <td>India,United Kingdom</td>\n",
              "      <td>Hindi,English</td>\n",
              "      <td>224.0</td>\n",
              "    </tr>\n",
              "    <tr>\n",
              "      <th>4</th>\n",
              "      <td>5</td>\n",
              "      <td>Roma</td>\n",
              "      <td>2018</td>\n",
              "      <td>18+</td>\n",
              "      <td>7.7/10</td>\n",
              "      <td>94/100</td>\n",
              "      <td>1</td>\n",
              "      <td>0</td>\n",
              "      <td>0</td>\n",
              "      <td>0</td>\n",
              "      <td>0</td>\n",
              "      <td>NaN</td>\n",
              "      <td>Action,Drama,History,Romance,War</td>\n",
              "      <td>United Kingdom,United States</td>\n",
              "      <td>English</td>\n",
              "      <td>52.0</td>\n",
              "    </tr>\n",
              "  </tbody>\n",
              "</table>\n",
              "</div>"
            ],
            "text/plain": [
              "   ID  ... Runtime\n",
              "0   1  ...   209.0\n",
              "1   2  ...   161.0\n",
              "2   3  ...    83.0\n",
              "3   4  ...   224.0\n",
              "4   5  ...    52.0\n",
              "\n",
              "[5 rows x 16 columns]"
            ]
          },
          "metadata": {},
          "execution_count": 4
        }
      ]
    },
    {
      "cell_type": "code",
      "metadata": {
        "colab": {
          "base_uri": "https://localhost:8080/"
        },
        "id": "QYjAA1TuKExG",
        "outputId": "de289045-d004-4f82-cfd7-4e1e79d6634a"
      },
      "source": [
        "df.info()"
      ],
      "execution_count": null,
      "outputs": [
        {
          "output_type": "stream",
          "name": "stdout",
          "text": [
            "<class 'pandas.core.frame.DataFrame'>\n",
            "Int64Index: 9515 entries, 0 to 9514\n",
            "Data columns (total 16 columns):\n",
            " #   Column           Non-Null Count  Dtype  \n",
            "---  ------           --------------  -----  \n",
            " 0   ID               9515 non-null   int64  \n",
            " 1   Title            9515 non-null   object \n",
            " 2   Year             9515 non-null   int64  \n",
            " 3   Age              5338 non-null   object \n",
            " 4   IMDb             9309 non-null   object \n",
            " 5   Rotten Tomatoes  9508 non-null   object \n",
            " 6   Netflix          9515 non-null   int64  \n",
            " 7   Hulu             9515 non-null   int64  \n",
            " 8   Prime Video      9515 non-null   int64  \n",
            " 9   Disney+          9515 non-null   int64  \n",
            " 10  Type             9515 non-null   int64  \n",
            " 11  Directors        9104 non-null   object \n",
            " 12  Genres           9399 non-null   object \n",
            " 13  Country          9261 non-null   object \n",
            " 14  Language         9202 non-null   object \n",
            " 15  Runtime          9196 non-null   float64\n",
            "dtypes: float64(1), int64(7), object(8)\n",
            "memory usage: 1.2+ MB\n"
          ]
        }
      ]
    },
    {
      "cell_type": "code",
      "metadata": {
        "colab": {
          "base_uri": "https://localhost:8080/"
        },
        "id": "rL0fCgwYKHm7",
        "outputId": "d08f6f31-b875-4cc8-f462-5ea42b6098a6"
      },
      "source": [
        "df.Type.unique() #Se ve que solo hay 0s en la columna de Type"
      ],
      "execution_count": null,
      "outputs": [
        {
          "output_type": "execute_result",
          "data": {
            "text/plain": [
              "array([0])"
            ]
          },
          "metadata": {},
          "execution_count": 6
        }
      ]
    },
    {
      "cell_type": "code",
      "metadata": {
        "id": "H96vvLuVLgfr"
      },
      "source": [
        "#df.isnull() #Me dice si cada uno de los valores es nulo del data frame en True or False\n",
        "#df.isnull().sum() #Me da la suma de los valores nulos en cada columna que tiene el data frame\n",
        "#pd.DataFrame(df.isnull().sum()) #Me guarda exactamente la misma información pero en un data frame "
      ],
      "execution_count": null,
      "outputs": []
    },
    {
      "cell_type": "code",
      "metadata": {
        "colab": {
          "base_uri": "https://localhost:8080/",
          "height": 545
        },
        "id": "5GIa0o-cLPAk",
        "outputId": "f8934196-c4dd-44ac-9016-911ec631d98b"
      },
      "source": [
        "#Finding Missing values in all columns\n",
        "miss = pd.DataFrame(df.isnull().sum()) #Me guarda la suma de los valores nulos en cada columna que tiene el data frame\n",
        "miss = miss.rename(columns={0:\"miss_count\"}) #Le pone título a la columna\n",
        "miss[\"miss_%\"] = (miss.miss_count/len(df.ID))*100 #Guarda porcentualmente cuántos datos faltantes hay por columna\n",
        "miss"
      ],
      "execution_count": null,
      "outputs": [
        {
          "output_type": "execute_result",
          "data": {
            "text/html": [
              "<div>\n",
              "<style scoped>\n",
              "    .dataframe tbody tr th:only-of-type {\n",
              "        vertical-align: middle;\n",
              "    }\n",
              "\n",
              "    .dataframe tbody tr th {\n",
              "        vertical-align: top;\n",
              "    }\n",
              "\n",
              "    .dataframe thead th {\n",
              "        text-align: right;\n",
              "    }\n",
              "</style>\n",
              "<table border=\"1\" class=\"dataframe\">\n",
              "  <thead>\n",
              "    <tr style=\"text-align: right;\">\n",
              "      <th></th>\n",
              "      <th>miss_count</th>\n",
              "      <th>miss_%</th>\n",
              "    </tr>\n",
              "  </thead>\n",
              "  <tbody>\n",
              "    <tr>\n",
              "      <th>ID</th>\n",
              "      <td>0</td>\n",
              "      <td>0.000000</td>\n",
              "    </tr>\n",
              "    <tr>\n",
              "      <th>Title</th>\n",
              "      <td>0</td>\n",
              "      <td>0.000000</td>\n",
              "    </tr>\n",
              "    <tr>\n",
              "      <th>Year</th>\n",
              "      <td>0</td>\n",
              "      <td>0.000000</td>\n",
              "    </tr>\n",
              "    <tr>\n",
              "      <th>Age</th>\n",
              "      <td>4177</td>\n",
              "      <td>43.899107</td>\n",
              "    </tr>\n",
              "    <tr>\n",
              "      <th>IMDb</th>\n",
              "      <td>206</td>\n",
              "      <td>2.165003</td>\n",
              "    </tr>\n",
              "    <tr>\n",
              "      <th>Rotten Tomatoes</th>\n",
              "      <td>7</td>\n",
              "      <td>0.073568</td>\n",
              "    </tr>\n",
              "    <tr>\n",
              "      <th>Netflix</th>\n",
              "      <td>0</td>\n",
              "      <td>0.000000</td>\n",
              "    </tr>\n",
              "    <tr>\n",
              "      <th>Hulu</th>\n",
              "      <td>0</td>\n",
              "      <td>0.000000</td>\n",
              "    </tr>\n",
              "    <tr>\n",
              "      <th>Prime Video</th>\n",
              "      <td>0</td>\n",
              "      <td>0.000000</td>\n",
              "    </tr>\n",
              "    <tr>\n",
              "      <th>Disney+</th>\n",
              "      <td>0</td>\n",
              "      <td>0.000000</td>\n",
              "    </tr>\n",
              "    <tr>\n",
              "      <th>Type</th>\n",
              "      <td>0</td>\n",
              "      <td>0.000000</td>\n",
              "    </tr>\n",
              "    <tr>\n",
              "      <th>Directors</th>\n",
              "      <td>411</td>\n",
              "      <td>4.319496</td>\n",
              "    </tr>\n",
              "    <tr>\n",
              "      <th>Genres</th>\n",
              "      <td>116</td>\n",
              "      <td>1.219128</td>\n",
              "    </tr>\n",
              "    <tr>\n",
              "      <th>Country</th>\n",
              "      <td>254</td>\n",
              "      <td>2.669469</td>\n",
              "    </tr>\n",
              "    <tr>\n",
              "      <th>Language</th>\n",
              "      <td>313</td>\n",
              "      <td>3.289543</td>\n",
              "    </tr>\n",
              "    <tr>\n",
              "      <th>Runtime</th>\n",
              "      <td>319</td>\n",
              "      <td>3.352601</td>\n",
              "    </tr>\n",
              "  </tbody>\n",
              "</table>\n",
              "</div>"
            ],
            "text/plain": [
              "                 miss_count     miss_%\n",
              "ID                        0   0.000000\n",
              "Title                     0   0.000000\n",
              "Year                      0   0.000000\n",
              "Age                    4177  43.899107\n",
              "IMDb                    206   2.165003\n",
              "Rotten Tomatoes           7   0.073568\n",
              "Netflix                   0   0.000000\n",
              "Hulu                      0   0.000000\n",
              "Prime Video               0   0.000000\n",
              "Disney+                   0   0.000000\n",
              "Type                      0   0.000000\n",
              "Directors               411   4.319496\n",
              "Genres                  116   1.219128\n",
              "Country                 254   2.669469\n",
              "Language                313   3.289543\n",
              "Runtime                 319   3.352601"
            ]
          },
          "metadata": {},
          "execution_count": 8
        }
      ]
    },
    {
      "cell_type": "code",
      "metadata": {
        "colab": {
          "base_uri": "https://localhost:8080/"
        },
        "id": "q-DLm551Nxje",
        "outputId": "d0e1706e-3861-4545-d221-9714bdf5f7cd"
      },
      "source": [
        "df.Age.unique()"
      ],
      "execution_count": null,
      "outputs": [
        {
          "output_type": "execute_result",
          "data": {
            "text/plain": [
              "array(['18+', '7+', '13+', '16+', 'all', nan], dtype=object)"
            ]
          },
          "metadata": {},
          "execution_count": 9
        }
      ]
    },
    {
      "cell_type": "markdown",
      "metadata": {
        "id": "VreD_uUaNjvB"
      },
      "source": [
        "Es alarmante que la columna de clasificación de edad (Age) esté con tantos valores vacíos. \n",
        "En el tutorial se decía que si eran mayor al 50% se hiciera un manejo, sin embargo, haré el mismo manejo para el ejemplo"
      ]
    },
    {
      "cell_type": "code",
      "metadata": {
        "id": "IRBq5FOzN62o"
      },
      "source": [
        "# Dropping values with missing % more than 50%\n",
        "df.drop(['Age'], axis = 1, inplace=True)\n",
        "# Dropping Na's from the following columns\n",
        "df.dropna(subset=['IMDb','Rotten Tomatoes','Directors', 'Genres', 'Country', 'Language', 'Runtime'],inplace=True)\n",
        "df.reset_index(inplace=True,drop=True)\n",
        "# Converting into object type\n",
        "df.Year = df.Year.astype(\"object\")"
      ],
      "execution_count": null,
      "outputs": []
    },
    {
      "cell_type": "code",
      "metadata": {
        "id": "XRXderBzU7eW"
      },
      "source": [
        "#df.IMDb = df.IMDb.astype(\"float64\")\n",
        "#df['Rotten Tomatoes'] = df['Rotten Tomatoes'].astype(\"float64\")"
      ],
      "execution_count": null,
      "outputs": []
    },
    {
      "cell_type": "code",
      "metadata": {
        "id": "P_-TjQvEVmGP"
      },
      "source": [
        "df['IMDb']=df['IMDb'].str.replace('/10','').astype(\"float64\")\n",
        "df['Rotten Tomatoes']=df['Rotten Tomatoes'].str.replace('/100','').astype(\"float64\")"
      ],
      "execution_count": null,
      "outputs": []
    },
    {
      "cell_type": "code",
      "metadata": {
        "colab": {
          "base_uri": "https://localhost:8080/"
        },
        "id": "GFKNilG_OZyQ",
        "outputId": "d4e9b756-d4fb-4e97-b971-2f2b02c4725a"
      },
      "source": [
        "df.info()"
      ],
      "execution_count": null,
      "outputs": [
        {
          "output_type": "stream",
          "name": "stdout",
          "text": [
            "<class 'pandas.core.frame.DataFrame'>\n",
            "RangeIndex: 8695 entries, 0 to 8694\n",
            "Data columns (total 15 columns):\n",
            " #   Column           Non-Null Count  Dtype  \n",
            "---  ------           --------------  -----  \n",
            " 0   ID               8695 non-null   int64  \n",
            " 1   Title            8695 non-null   object \n",
            " 2   Year             8695 non-null   object \n",
            " 3   IMDb             8695 non-null   float64\n",
            " 4   Rotten Tomatoes  8695 non-null   float64\n",
            " 5   Netflix          8695 non-null   int64  \n",
            " 6   Hulu             8695 non-null   int64  \n",
            " 7   Prime Video      8695 non-null   int64  \n",
            " 8   Disney+          8695 non-null   int64  \n",
            " 9   Type             8695 non-null   int64  \n",
            " 10  Directors        8695 non-null   object \n",
            " 11  Genres           8695 non-null   object \n",
            " 12  Country          8695 non-null   object \n",
            " 13  Language         8695 non-null   object \n",
            " 14  Runtime          8695 non-null   float64\n",
            "dtypes: float64(3), int64(6), object(6)\n",
            "memory usage: 1019.1+ KB\n"
          ]
        }
      ]
    },
    {
      "cell_type": "code",
      "metadata": {
        "colab": {
          "base_uri": "https://localhost:8080/",
          "height": 370
        },
        "id": "jOmMHdvBTdJC",
        "outputId": "3d17e503-9624-40f8-de3a-809617102aaf"
      },
      "source": [
        "#checking Distribution of years\n",
        "x=df['Year']\n",
        "sns.set()\n",
        "sns.set_context(\"paper\")\n",
        "sns.displot(x,kind=\"kde\",color='forestgreen') #sns.distplot(df['Year'])\n",
        "plt.hist(x,density=True,color='c')\n",
        "plt.show()"
      ],
      "execution_count": null,
      "outputs": [
        {
          "output_type": "display_data",
          "data": {
            "image/png": "[encoded data removed]",
            "text/plain": [
              "<Figure size 360x360 with 1 Axes>"
            ]
          },
          "metadata": {}
        }
      ]
    },
    {
      "cell_type": "code",
      "metadata": {
        "colab": {
          "base_uri": "https://localhost:8080/",
          "height": 370
        },
        "id": "QckvWpZ2UW3w",
        "outputId": "c240dae7-a266-441c-d031-9b604a2d0c1e"
      },
      "source": [
        "# Distribution of IMDb Rating\n",
        "x=df['IMDb']\n",
        "sns.set()\n",
        "sns.set_context(\"paper\")\n",
        "sns.displot(x,kind=\"kde\",color='forestgreen') # `kind` must be one of ['hist', 'kde', 'ecdf']\n",
        "plt.hist(x,density=True,color='c')\n",
        "plt.show()"
      ],
      "execution_count": null,
      "outputs": [
        {
          "output_type": "display_data",
          "data": {
            "image/png": "[encoded data removed]",
            "text/plain": [
              "<Figure size 360x360 with 1 Axes>"
            ]
          },
          "metadata": {}
        }
      ]
    },
    {
      "cell_type": "code",
      "metadata": {
        "colab": {
          "base_uri": "https://localhost:8080/",
          "height": 370
        },
        "id": "UYp1EUoXUkqB",
        "outputId": "767717a6-6d13-45c1-a00f-cda778917ea6"
      },
      "source": [
        "# Distribution of Rotten Tomatoes Rating\n",
        "x=df['Rotten Tomatoes']\n",
        "sns.set()\n",
        "sns.set_context(\"paper\")\n",
        "sns.displot(x,kind=\"kde\",color='forestgreen') # `kind` must be one of ['hist', 'kde', 'ecdf']\n",
        "plt.hist(x,density=True,color='c')\n",
        "plt.show()"
      ],
      "execution_count": null,
      "outputs": [
        {
          "output_type": "display_data",
          "data": {
            "image/png": "[encoded data removed]",
            "text/plain": [
              "<Figure size 360x360 with 1 Axes>"
            ]
          },
          "metadata": {}
        }
      ]
    },
    {
      "cell_type": "code",
      "metadata": {
        "colab": {
          "base_uri": "https://localhost:8080/",
          "height": 371
        },
        "id": "yephPNbFUqk9",
        "outputId": "b95bdf9b-e87c-46ac-da25-621e349134b5"
      },
      "source": [
        "# Distribution of Runtime\n",
        "x=df['Runtime']\n",
        "sns.set()\n",
        "sns.set_context(\"paper\")\n",
        "sns.displot(x,kind=\"kde\",color='forestgreen') # `kind` must be one of ['hist', 'kde', 'ecdf']\n",
        "plt.hist(x,density=True,color='c',bins=50)\n",
        "plt.show()"
      ],
      "execution_count": null,
      "outputs": [
        {
          "output_type": "display_data",
          "data": {
            "image/png": "[encoded data removed]",
            "text/plain": [
              "<Figure size 360x360 with 1 Axes>"
            ]
          },
          "metadata": {}
        }
      ]
    },
    {
      "cell_type": "code",
      "metadata": {
        "id": "vUztEEmLNNsf"
      },
      "source": [
        "# A function to calculate the movies in different Streaming platforms\n",
        "# Si Count es True guarda el valor de del conteo de películas en la plataforma, si es falso imprime todo el texto\n",
        "def m_cnt(plat, count=False):\n",
        "    if count==False:\n",
        "        print('Platform {} Count: {}'. format(plat, df[plat].sum()))\n",
        "    else:\n",
        "        return df[plat].sum()"
      ],
      "execution_count": null,
      "outputs": []
    },
    {
      "cell_type": "code",
      "metadata": {
        "colab": {
          "base_uri": "https://localhost:8080/"
        },
        "id": "on8TECijNg-d",
        "outputId": "084d8cd6-f34b-4845-fd4a-a7712a108782"
      },
      "source": [
        "# Let's see count of movies/shows of each streaming platform\n",
        "m_cnt('Netflix')\n",
        "m_cnt('Hulu')\n",
        "m_cnt('Prime Video')\n",
        "m_cnt('Disney+')"
      ],
      "execution_count": null,
      "outputs": [
        {
          "output_type": "stream",
          "name": "stdout",
          "text": [
            "Platform Netflix Count: 3325\n",
            "Platform Hulu Count: 998\n",
            "Platform Prime Video Count: 3799\n",
            "Platform Disney+ Count: 819\n"
          ]
        }
      ]
    },
    {
      "cell_type": "code",
      "metadata": {
        "colab": {
          "base_uri": "https://localhost:8080/",
          "height": 248
        },
        "id": "wA6tEjyrO_QF",
        "outputId": "00974af7-8935-4dc9-8f8e-b01f120f9cae"
      },
      "source": [
        "# Movies on each platform\n",
        "lab = 'Prime Video','Netflix', 'Hulu', 'Disney'\n",
        "s = [m_cnt('Prime Video', count=True),\n",
        "     m_cnt('Netflix', count=True),\n",
        "     m_cnt('Hulu', count=True),\n",
        "     m_cnt('Disney+', count=True)]\n",
        "\n",
        "explode = (0.1, 0.1, 0.1, 0.1)\n",
        "\n",
        "#plotting\n",
        "fig1, ax1 = plt.subplots()\n",
        "ax1.pie(s,\n",
        "       labels = lab,\n",
        "       autopct = '%1.1f%%', #Hace que imprima los porcentajes con la cantidad de decimales que uno ponga después del punto\n",
        "       explode = explode, #Separa las partes del pie la distancia que se le haya dicho en el arreglo\n",
        "       shadow = True,   #Es para hacer sombra para dar un efecto 3D\n",
        "       startangle = 100) #Es la cantidad de grados que se gira la figura con respecto a la presentación original\n",
        "\n",
        "ax1.axis = ('equal')\n",
        "plt.show()"
      ],
      "execution_count": null,
      "outputs": [
        {
          "output_type": "display_data",
          "data": {
            "image/png": "[encoded data removed]",
            "text/plain": [
              "<Figure size 432x288 with 1 Axes>"
            ]
          },
          "metadata": {}
        }
      ]
    },
    {
      "cell_type": "code",
      "metadata": {
        "id": "NpLn10PTVqgZ"
      },
      "source": [
        "#df['Genres'].str.split(',') #Me hace un arreglo con la cantidad de datos separados por el separador señalado\n",
        "#df['Genres'].str.split(',').apply(pd.Series,1) #Me crea un data frame con un género de la película en cada columna\n",
        "#g = df['Genres'].str.split(',').apply(pd.Series, 1).stack() #apila las columnas y crea sub indices\n",
        "#g.index = g.index.droplevel(-1) #Me quita los indices de la fila 1"
      ],
      "execution_count": null,
      "outputs": []
    },
    {
      "cell_type": "code",
      "metadata": {
        "id": "Jy07qZ3jU7y8"
      },
      "source": [
        "##split the genres by ',' & then stack it one after the other for easy analysis.\n",
        "g = df['Genres'].str.split(',').apply(pd.Series, 1).stack()\n",
        "g.index = g.index.droplevel(-1)\n",
        "# Assign name to column\n",
        "g.name = 'Genres'\n",
        "# delete column\n",
        "del df['Genres'] \n",
        "# join new column with the existing dataframe\n",
        "df_genres = df.join(g) #Me une todos los géneros con su respectiva película (Si hay más de un género la película se reescribe la cantidad de veces que sea necesaria) y se guarda en un nuevo dataframe "
      ],
      "execution_count": null,
      "outputs": []
    },
    {
      "cell_type": "code",
      "metadata": {
        "colab": {
          "base_uri": "https://localhost:8080/",
          "height": 384
        },
        "id": "AY3CXd-6bGfc",
        "outputId": "7d0ab11a-94fb-45e6-a572-699dbaa8a596"
      },
      "source": [
        "# Count of movies according to genre\n",
        "plt.figure(figsize=(15,5))\n",
        "sns.countplot(x='Genres', data=df_genres) # sns.countplot(df_genres['Genres'])\n",
        "plt.xticks(rotation=90)\n",
        "plt.show()"
      ],
      "execution_count": null,
      "outputs": [
        {
          "output_type": "display_data",
          "data": {
            "image/png": "[encoded data removed]",
            "text/plain": [
              "<Figure size 1080x360 with 1 Axes>"
            ]
          },
          "metadata": {}
        }
      ]
    },
    {
      "cell_type": "code",
      "metadata": {
        "id": "-FMOvjXpdAYI"
      },
      "source": [
        "# Split the Country by ',' & then stack it one after the other for easy analysis.\n",
        "c = df['Country'].str.split(',').apply(pd.Series, 1).stack()\n",
        "c.index = c.index.droplevel(-1)\n",
        "# Assign name to column\n",
        "c.name = 'Country'\n",
        "# delete column\n",
        "del df['Country']\n",
        "# join new column with the existing dataframe\n",
        "df_country = df.join(c)"
      ],
      "execution_count": null,
      "outputs": []
    },
    {
      "cell_type": "code",
      "metadata": {
        "id": "ioWZqZmWdm2K"
      },
      "source": [
        "#df_country['Country'].value_counts() # Hace el conteo de cuántas veces se repite un mismo valor y los organiza de mayor a menor"
      ],
      "execution_count": null,
      "outputs": []
    },
    {
      "cell_type": "code",
      "metadata": {
        "colab": {
          "base_uri": "https://localhost:8080/",
          "height": 381
        },
        "id": "UOG11ZWpdevc",
        "outputId": "27ea05e1-cccb-430c-d7c9-68e5c6d16dbd"
      },
      "source": [
        "# plotting top 10 country and movie count\n",
        "df_country['Country'].value_counts()[:10].plot(kind='bar',figsize=(15,5))\n",
        "plt.show()"
      ],
      "execution_count": null,
      "outputs": [
        {
          "output_type": "display_data",
          "data": {
            "image/png": "[encoded data removed]",
            "text/plain": [
              "<Figure size 1080x360 with 1 Axes>"
            ]
          },
          "metadata": {}
        }
      ]
    },
    {
      "cell_type": "code",
      "metadata": {
        "id": "xd_BTkj0ezmo"
      },
      "source": [
        "# perform stacking operation on language column\n",
        "l = df['Language'].str.split(',').apply(pd.Series,1).stack()\n",
        "l.index = l.index.droplevel(-1)\n",
        "# Assign name to column\n",
        "l.name = 'Language'\n",
        "# delete column\n",
        "del df['Language']\n",
        "# join new column with the existing dataframe\n",
        "df_language = df.join(l)"
      ],
      "execution_count": null,
      "outputs": []
    },
    {
      "cell_type": "code",
      "metadata": {
        "colab": {
          "base_uri": "https://localhost:8080/",
          "height": 243
        },
        "id": "idlzXDw8fP3A",
        "outputId": "77ee4376-cc46-4d78-e769-33cda8ba18a0"
      },
      "source": [
        "# plotting top 10 Language and movie count\n",
        "df_language['Language'].value_counts()[:10].plot(kind='bar',figsize=(15,3))\n",
        "plt.show()"
      ],
      "execution_count": null,
      "outputs": [
        {
          "output_type": "display_data",
          "data": {
            "image/png": "[encoded data removed]",
            "text/plain": [
              "<Figure size 1080x216 with 1 Axes>"
            ]
          },
          "metadata": {}
        }
      ]
    },
    {
      "cell_type": "code",
      "metadata": {
        "id": "oprNACeAfWMT"
      },
      "source": [
        "# melting platform columns to create visualization\n",
        "#Me agrupa en una columna todas las columnas que no meto en id_vars, y me da el valor que tenía en otra columna de value\n",
        "df2 = pd.melt(df, id_vars=[\"ID\",\"Title\",\"Year\",\"IMDb\",\"Rotten Tomatoes\",\"Type\",\"Directors\",\"Runtime\"], var_name=\"platform\")\n",
        "df2 = df2[df2.value==1] #Me guarda unicamente los que tienen como valor 1, es decir, los que sí están en esa plataforma\n",
        "df2.drop(columns=[\"value\"],axis=1,inplace=True) #Elimina la columna value"
      ],
      "execution_count": null,
      "outputs": []
    },
    {
      "cell_type": "code",
      "metadata": {
        "colab": {
          "base_uri": "https://localhost:8080/",
          "height": 226
        },
        "id": "98oIiqkDiS7C",
        "outputId": "5ac2c169-eae7-4954-aa5e-df79c7c0e7e7"
      },
      "source": [
        "# Distribution of IMDB rating in different platform\n",
        "g = sns.FacetGrid(df2, col = \"platform\")\n",
        "g.map(plt.hist, \"IMDb\")\n",
        "plt.show()"
      ],
      "execution_count": null,
      "outputs": [
        {
          "output_type": "display_data",
          "data": {
            "image/png": "[encoded data removed]",
            "text/plain": [
              "<Figure size 864x216 with 4 Axes>"
            ]
          },
          "metadata": {}
        }
      ]
    },
    {
      "cell_type": "code",
      "metadata": {
        "id": "G9YHqnwGnhfK"
      },
      "source": [
        "# Load dataset\n",
        "df = pd.read_csv('MoviesOnStreamingPlatforms_updated.csv', index_col=0)\n",
        "df.ID = df.ID.astype(\"object\")\n",
        "\n",
        "# melting platform columns to create visualization\n",
        "df2 = pd.melt(df, id_vars=[\"ID\",\"Title\",\"Year\",\"Age\",\"IMDb\",\"Rotten Tomatoes\",\"Type\",\"Runtime\"], var_name=\"platform\")\n",
        "df2 = df2[df2.value==1]\n",
        "df2.drop(columns=[\"value\"],axis=1,inplace=True)"
      ],
      "execution_count": null,
      "outputs": []
    },
    {
      "cell_type": "code",
      "metadata": {
        "colab": {
          "base_uri": "https://localhost:8080/",
          "height": 280
        },
        "id": "4G_3-mj5os9x",
        "outputId": "30270c7f-579f-458b-ea02-9bedaa4cfcff"
      },
      "source": [
        "# Total of runtime in different platform\n",
        "ax = sns.barplot(x=\"platform\", y=\"Runtime\",hue=\"Age\", estimator=sum, data=df2)"
      ],
      "execution_count": null,
      "outputs": [
        {
          "output_type": "display_data",
          "data": {
            "image/png": "[encoded data removed]",
            "text/plain": [
              "<Figure size 432x288 with 1 Axes>"
            ]
          },
          "metadata": {}
        }
      ]
    },
    {
      "cell_type": "markdown",
      "metadata": {
        "id": "hNX4VwN3qwNd"
      },
      "source": [
        "#**Recomendación de películas**"
      ]
    },
    {
      "cell_type": "code",
      "metadata": {
        "id": "oASmpWZEq29L"
      },
      "source": [
        "df=pd.read_csv('MoviesOnStreamingPlatforms_updated.csv', index_col=0)"
      ],
      "execution_count": null,
      "outputs": []
    },
    {
      "cell_type": "code",
      "metadata": {
        "colab": {
          "base_uri": "https://localhost:8080/",
          "height": 545
        },
        "id": "rSrT-lWTrC9R",
        "outputId": "44ad6348-6002-419b-91d5-0ac58bfc5d55"
      },
      "source": [
        "#Finding Missing values in all columns\n",
        "miss = pd.DataFrame(df.isnull().sum()) #Me guarda la suma de los valores nulos en cada columna que tiene el data frame\n",
        "miss = miss.rename(columns={0:\"miss_count\"}) #Le pone título a la columna\n",
        "miss[\"miss_%\"] = (miss.miss_count/len(df.ID))*100 #Guarda porcentualmente cuántos datos faltantes hay por columna\n",
        "miss"
      ],
      "execution_count": null,
      "outputs": [
        {
          "output_type": "execute_result",
          "data": {
            "text/html": [
              "<div>\n",
              "<style scoped>\n",
              "    .dataframe tbody tr th:only-of-type {\n",
              "        vertical-align: middle;\n",
              "    }\n",
              "\n",
              "    .dataframe tbody tr th {\n",
              "        vertical-align: top;\n",
              "    }\n",
              "\n",
              "    .dataframe thead th {\n",
              "        text-align: right;\n",
              "    }\n",
              "</style>\n",
              "<table border=\"1\" class=\"dataframe\">\n",
              "  <thead>\n",
              "    <tr style=\"text-align: right;\">\n",
              "      <th></th>\n",
              "      <th>miss_count</th>\n",
              "      <th>miss_%</th>\n",
              "    </tr>\n",
              "  </thead>\n",
              "  <tbody>\n",
              "    <tr>\n",
              "      <th>ID</th>\n",
              "      <td>0</td>\n",
              "      <td>0.000000</td>\n",
              "    </tr>\n",
              "    <tr>\n",
              "      <th>Title</th>\n",
              "      <td>0</td>\n",
              "      <td>0.000000</td>\n",
              "    </tr>\n",
              "    <tr>\n",
              "      <th>Year</th>\n",
              "      <td>0</td>\n",
              "      <td>0.000000</td>\n",
              "    </tr>\n",
              "    <tr>\n",
              "      <th>Age</th>\n",
              "      <td>4177</td>\n",
              "      <td>43.899107</td>\n",
              "    </tr>\n",
              "    <tr>\n",
              "      <th>IMDb</th>\n",
              "      <td>206</td>\n",
              "      <td>2.165003</td>\n",
              "    </tr>\n",
              "    <tr>\n",
              "      <th>Rotten Tomatoes</th>\n",
              "      <td>7</td>\n",
              "      <td>0.073568</td>\n",
              "    </tr>\n",
              "    <tr>\n",
              "      <th>Netflix</th>\n",
              "      <td>0</td>\n",
              "      <td>0.000000</td>\n",
              "    </tr>\n",
              "    <tr>\n",
              "      <th>Hulu</th>\n",
              "      <td>0</td>\n",
              "      <td>0.000000</td>\n",
              "    </tr>\n",
              "    <tr>\n",
              "      <th>Prime Video</th>\n",
              "      <td>0</td>\n",
              "      <td>0.000000</td>\n",
              "    </tr>\n",
              "    <tr>\n",
              "      <th>Disney+</th>\n",
              "      <td>0</td>\n",
              "      <td>0.000000</td>\n",
              "    </tr>\n",
              "    <tr>\n",
              "      <th>Type</th>\n",
              "      <td>0</td>\n",
              "      <td>0.000000</td>\n",
              "    </tr>\n",
              "    <tr>\n",
              "      <th>Directors</th>\n",
              "      <td>411</td>\n",
              "      <td>4.319496</td>\n",
              "    </tr>\n",
              "    <tr>\n",
              "      <th>Genres</th>\n",
              "      <td>116</td>\n",
              "      <td>1.219128</td>\n",
              "    </tr>\n",
              "    <tr>\n",
              "      <th>Country</th>\n",
              "      <td>254</td>\n",
              "      <td>2.669469</td>\n",
              "    </tr>\n",
              "    <tr>\n",
              "      <th>Language</th>\n",
              "      <td>313</td>\n",
              "      <td>3.289543</td>\n",
              "    </tr>\n",
              "    <tr>\n",
              "      <th>Runtime</th>\n",
              "      <td>319</td>\n",
              "      <td>3.352601</td>\n",
              "    </tr>\n",
              "  </tbody>\n",
              "</table>\n",
              "</div>"
            ],
            "text/plain": [
              "                 miss_count     miss_%\n",
              "ID                        0   0.000000\n",
              "Title                     0   0.000000\n",
              "Year                      0   0.000000\n",
              "Age                    4177  43.899107\n",
              "IMDb                    206   2.165003\n",
              "Rotten Tomatoes           7   0.073568\n",
              "Netflix                   0   0.000000\n",
              "Hulu                      0   0.000000\n",
              "Prime Video               0   0.000000\n",
              "Disney+                   0   0.000000\n",
              "Type                      0   0.000000\n",
              "Directors               411   4.319496\n",
              "Genres                  116   1.219128\n",
              "Country                 254   2.669469\n",
              "Language                313   3.289543\n",
              "Runtime                 319   3.352601"
            ]
          },
          "metadata": {},
          "execution_count": 231
        }
      ]
    },
    {
      "cell_type": "code",
      "metadata": {
        "id": "Z7IxgQMYrLOr"
      },
      "source": [
        "# Dropping values with missing % more than 50%\n",
        "df.drop(['Age'], axis = 1, inplace=True)\n",
        "# Dropping Na's from the following columns\n",
        "df.dropna(subset=['IMDb','Rotten Tomatoes','Directors', 'Genres', 'Country', 'Language', 'Runtime'],inplace=True)\n",
        "df.reset_index(inplace=True,drop=True)\n",
        "# Converting into object type\n",
        "df.ID = df.ID.astype(\"object\")\n",
        "df.Year = df.Year.astype(\"object\")"
      ],
      "execution_count": null,
      "outputs": []
    },
    {
      "cell_type": "code",
      "metadata": {
        "id": "BI9i1W_UrVqk"
      },
      "source": [
        "df['IMDb']=df['IMDb'].str.replace('/10','').astype(\"float64\")\n",
        "df['Rotten Tomatoes']=df['Rotten Tomatoes'].str.replace('/100','').astype(\"float64\")"
      ],
      "execution_count": null,
      "outputs": []
    },
    {
      "cell_type": "markdown",
      "metadata": {
        "id": "2gBw3o9_sL5p"
      },
      "source": [
        "**1. Recomendación númerica**"
      ]
    },
    {
      "cell_type": "markdown",
      "metadata": {
        "id": "-9sqUBEEtLaj"
      },
      "source": [
        "Step-1: Select the numerical variable"
      ]
    },
    {
      "cell_type": "code",
      "metadata": {
        "id": "1DiBv6KPsdq1"
      },
      "source": [
        "ndf = df.select_dtypes(include=['float64',\"int64\"])"
      ],
      "execution_count": null,
      "outputs": []
    },
    {
      "cell_type": "markdown",
      "metadata": {
        "id": "s-Q37wRetMuC"
      },
      "source": [
        "Step-2: Scaling the numerical variable using a min-max scaler to reduce model complexity and training time."
      ]
    },
    {
      "cell_type": "code",
      "metadata": {
        "colab": {
          "base_uri": "https://localhost:8080/",
          "height": 204
        },
        "id": "ymsirNUVtOZL",
        "outputId": "cc49e93a-7692-4178-8e1a-ac39cf9ec419"
      },
      "source": [
        "#importing minmax scaler\n",
        "from sklearn import preprocessing\n",
        "\n",
        "# Create MinMaxScaler Object\n",
        "scaler = preprocessing.MinMaxScaler(feature_range=(0, 1))\n",
        "\n",
        "# Create dataframe after transformation\n",
        "ndfmx = pd.DataFrame((scaler.fit_transform(ndf)))\n",
        "\n",
        "# assign column names\n",
        "ndfmx.columns=ndf.columns\n",
        "\n",
        "# Show initial 5 records\n",
        "ndfmx.head()"
      ],
      "execution_count": null,
      "outputs": [
        {
          "output_type": "execute_result",
          "data": {
            "text/html": [
              "<div>\n",
              "<style scoped>\n",
              "    .dataframe tbody tr th:only-of-type {\n",
              "        vertical-align: middle;\n",
              "    }\n",
              "\n",
              "    .dataframe tbody tr th {\n",
              "        vertical-align: top;\n",
              "    }\n",
              "\n",
              "    .dataframe thead th {\n",
              "        text-align: right;\n",
              "    }\n",
              "</style>\n",
              "<table border=\"1\" class=\"dataframe\">\n",
              "  <thead>\n",
              "    <tr style=\"text-align: right;\">\n",
              "      <th></th>\n",
              "      <th>IMDb</th>\n",
              "      <th>Rotten Tomatoes</th>\n",
              "      <th>Netflix</th>\n",
              "      <th>Hulu</th>\n",
              "      <th>Prime Video</th>\n",
              "      <th>Disney+</th>\n",
              "      <th>Type</th>\n",
              "      <th>Runtime</th>\n",
              "    </tr>\n",
              "  </thead>\n",
              "  <tbody>\n",
              "    <tr>\n",
              "      <th>0</th>\n",
              "      <td>0.770115</td>\n",
              "      <td>1.000000</td>\n",
              "      <td>1.0</td>\n",
              "      <td>0.0</td>\n",
              "      <td>0.0</td>\n",
              "      <td>0.0</td>\n",
              "      <td>0.0</td>\n",
              "      <td>0.581006</td>\n",
              "    </tr>\n",
              "    <tr>\n",
              "      <th>1</th>\n",
              "      <td>0.839080</td>\n",
              "      <td>0.986667</td>\n",
              "      <td>1.0</td>\n",
              "      <td>0.0</td>\n",
              "      <td>0.0</td>\n",
              "      <td>0.0</td>\n",
              "      <td>0.0</td>\n",
              "      <td>0.446927</td>\n",
              "    </tr>\n",
              "    <tr>\n",
              "      <th>2</th>\n",
              "      <td>0.908046</td>\n",
              "      <td>0.960000</td>\n",
              "      <td>1.0</td>\n",
              "      <td>0.0</td>\n",
              "      <td>0.0</td>\n",
              "      <td>0.0</td>\n",
              "      <td>0.0</td>\n",
              "      <td>0.229050</td>\n",
              "    </tr>\n",
              "    <tr>\n",
              "      <th>3</th>\n",
              "      <td>0.804598</td>\n",
              "      <td>0.946667</td>\n",
              "      <td>1.0</td>\n",
              "      <td>0.0</td>\n",
              "      <td>0.0</td>\n",
              "      <td>0.0</td>\n",
              "      <td>0.0</td>\n",
              "      <td>0.622905</td>\n",
              "    </tr>\n",
              "    <tr>\n",
              "      <th>4</th>\n",
              "      <td>0.689655</td>\n",
              "      <td>0.946667</td>\n",
              "      <td>1.0</td>\n",
              "      <td>0.0</td>\n",
              "      <td>0.0</td>\n",
              "      <td>0.0</td>\n",
              "      <td>0.0</td>\n",
              "      <td>0.273743</td>\n",
              "    </tr>\n",
              "  </tbody>\n",
              "</table>\n",
              "</div>"
            ],
            "text/plain": [
              "       IMDb  Rotten Tomatoes  Netflix  ...  Disney+  Type   Runtime\n",
              "0  0.770115         1.000000      1.0  ...      0.0   0.0  0.581006\n",
              "1  0.839080         0.986667      1.0  ...      0.0   0.0  0.446927\n",
              "2  0.908046         0.960000      1.0  ...      0.0   0.0  0.229050\n",
              "3  0.804598         0.946667      1.0  ...      0.0   0.0  0.622905\n",
              "4  0.689655         0.946667      1.0  ...      0.0   0.0  0.273743\n",
              "\n",
              "[5 rows x 8 columns]"
            ]
          },
          "metadata": {},
          "execution_count": 235
        }
      ]
    },
    {
      "cell_type": "markdown",
      "metadata": {
        "id": "BKQs7_TZtYcW"
      },
      "source": [
        "Step-3: Compute similarity score using cosine similarity\n",
        "\n",
        "Now, you will compute the similarity score using cosine similarity."
      ]
    },
    {
      "cell_type": "code",
      "metadata": {
        "id": "cz_TP-6MtXP7"
      },
      "source": [
        "# Import cosine similarity\n",
        "from sklearn.metrics.pairwise import cosine_similarity\n",
        "\n",
        "# Compute the cosine similarity\n",
        "sig = cosine_similarity(ndfmx, ndfmx)\n",
        "\n",
        "# Reverse mapping of indices and movie titles\n",
        "indices = pd.Series(df.index, index=df['Title']).drop_duplicates()"
      ],
      "execution_count": null,
      "outputs": []
    },
    {
      "cell_type": "code",
      "metadata": {
        "colab": {
          "base_uri": "https://localhost:8080/"
        },
        "id": "di5Z1EXIteRJ",
        "outputId": "2f95621a-8192-4c53-f2b5-7d4446563ba1"
      },
      "source": [
        "indices.head()"
      ],
      "execution_count": null,
      "outputs": [
        {
          "output_type": "execute_result",
          "data": {
            "text/plain": [
              "Title\n",
              "The Irishman                                0\n",
              "Dangal                                      1\n",
              "David Attenborough: A Life on Our Planet    2\n",
              "Lagaan: Once Upon a Time in India           3\n",
              "To All the Boys I've Loved Before           4\n",
              "dtype: int64"
            ]
          },
          "metadata": {},
          "execution_count": 237
        }
      ]
    },
    {
      "cell_type": "markdown",
      "metadata": {
        "id": "9fLkKKsrtgXW"
      },
      "source": [
        "Step-4: Writing a function to get recommendations based on the similarity score\n",
        "\n",
        "* The function takes two arguments, movie title, and similarity scores. It searches the index of the title corresponding to the original_titles index in our series of indices.\n",
        "* Get the pairwise similarity scores of all the movies.\n",
        "* Sorting the similarity scores in descending order and converting them into a list.\n",
        "* Getting the top 10 movies scores and indices and returning the title of the top 10 movies from our data frame."
      ]
    },
    {
      "cell_type": "code",
      "metadata": {
        "id": "DhWbixg1tfr_"
      },
      "source": [
        "def give_rec(title, sig=sig):\n",
        "\n",
        "    # Get the index corresponding to original_title\n",
        "    idx = indices[title]\n",
        "\n",
        "    # Get the pairwise similarity scores\n",
        "    sig_scores = list(enumerate(sig[idx]))\n",
        "\n",
        "    # Sort the movies\n",
        "    sig_scores = sorted(sig_scores, key=lambda x: x[1], reverse=True)\n",
        "\n",
        "    # Scores of the 10 most similar movies\n",
        "    sig_scores = sig_scores[1:11]\n",
        "\n",
        "    # Movie indices\n",
        "    movie_indices = [i[0] for i in sig_scores]\n",
        "\n",
        "    # Top 10 most similar movies\n",
        "    return df['Title'].iloc[movie_indices]"
      ],
      "execution_count": null,
      "outputs": []
    },
    {
      "cell_type": "code",
      "metadata": {
        "colab": {
          "base_uri": "https://localhost:8080/"
        },
        "id": "MbkUj9u9t_Kc",
        "outputId": "c49bf8c1-f722-44bf-81cf-38eefb5fa79d"
      },
      "source": [
        "# Execute get_rec() function for getting recommendation\n",
        "give_rec(\"Moana\",sig = sig)"
      ],
      "execution_count": null,
      "outputs": [
        {
          "output_type": "execute_result",
          "data": {
            "text/plain": [
              "7947        The Greatest Showman\n",
              "7942                  Home Alone\n",
              "7936              Wreck-It Ralph\n",
              "7938                     Tangled\n",
              "7934                      Frozen\n",
              "7955    Raya and the Last Dragon\n",
              "7928                  Big Hero 6\n",
              "7949                 Toy Story 4\n",
              "7937               Incredibles 2\n",
              "7941                        Luca\n",
              "Name: Title, dtype: object"
            ]
          },
          "metadata": {},
          "execution_count": 253
        }
      ]
    },
    {
      "cell_type": "markdown",
      "metadata": {
        "id": "_LnKnJJtuGdJ"
      },
      "source": [
        "Here, recommended movies are not up to the mark. The reason behind this poor result is that you are using only movie ratings, movie runtimes, and platform variables. You can improve this by using other information such as genre, directors, and country."
      ]
    },
    {
      "cell_type": "markdown",
      "metadata": {
        "id": "5RnZ6wC1uKD6"
      },
      "source": [
        "**2. Recomendación númerica y categórica**"
      ]
    },
    {
      "cell_type": "code",
      "metadata": {
        "colab": {
          "base_uri": "https://localhost:8080/",
          "height": 394
        },
        "id": "ULbgFONKuAwv",
        "outputId": "46b3a415-eb50-44c4-a786-237285efe706"
      },
      "source": [
        "df.head()"
      ],
      "execution_count": null,
      "outputs": [
        {
          "output_type": "execute_result",
          "data": {
            "text/html": [
              "<div>\n",
              "<style scoped>\n",
              "    .dataframe tbody tr th:only-of-type {\n",
              "        vertical-align: middle;\n",
              "    }\n",
              "\n",
              "    .dataframe tbody tr th {\n",
              "        vertical-align: top;\n",
              "    }\n",
              "\n",
              "    .dataframe thead th {\n",
              "        text-align: right;\n",
              "    }\n",
              "</style>\n",
              "<table border=\"1\" class=\"dataframe\">\n",
              "  <thead>\n",
              "    <tr style=\"text-align: right;\">\n",
              "      <th></th>\n",
              "      <th>ID</th>\n",
              "      <th>Title</th>\n",
              "      <th>Year</th>\n",
              "      <th>IMDb</th>\n",
              "      <th>Rotten Tomatoes</th>\n",
              "      <th>Netflix</th>\n",
              "      <th>Hulu</th>\n",
              "      <th>Prime Video</th>\n",
              "      <th>Disney+</th>\n",
              "      <th>Type</th>\n",
              "      <th>Directors</th>\n",
              "      <th>Genres</th>\n",
              "      <th>Country</th>\n",
              "      <th>Language</th>\n",
              "      <th>Runtime</th>\n",
              "    </tr>\n",
              "  </thead>\n",
              "  <tbody>\n",
              "    <tr>\n",
              "      <th>0</th>\n",
              "      <td>1</td>\n",
              "      <td>The Irishman</td>\n",
              "      <td>2019</td>\n",
              "      <td>7.8</td>\n",
              "      <td>98.0</td>\n",
              "      <td>1</td>\n",
              "      <td>0</td>\n",
              "      <td>0</td>\n",
              "      <td>0</td>\n",
              "      <td>0</td>\n",
              "      <td>Martin Scorsese</td>\n",
              "      <td>Biography,Crime,Drama</td>\n",
              "      <td>United States</td>\n",
              "      <td>English,Italian,Latin,Spanish,German</td>\n",
              "      <td>209.0</td>\n",
              "    </tr>\n",
              "    <tr>\n",
              "      <th>1</th>\n",
              "      <td>2</td>\n",
              "      <td>Dangal</td>\n",
              "      <td>2016</td>\n",
              "      <td>8.4</td>\n",
              "      <td>97.0</td>\n",
              "      <td>1</td>\n",
              "      <td>0</td>\n",
              "      <td>0</td>\n",
              "      <td>0</td>\n",
              "      <td>0</td>\n",
              "      <td>Nitesh Tiwari</td>\n",
              "      <td>Action,Biography,Drama,Sport</td>\n",
              "      <td>India,United States,United Kingdom,Australia,K...</td>\n",
              "      <td>Hindi,English</td>\n",
              "      <td>161.0</td>\n",
              "    </tr>\n",
              "    <tr>\n",
              "      <th>2</th>\n",
              "      <td>3</td>\n",
              "      <td>David Attenborough: A Life on Our Planet</td>\n",
              "      <td>2020</td>\n",
              "      <td>9.0</td>\n",
              "      <td>95.0</td>\n",
              "      <td>1</td>\n",
              "      <td>0</td>\n",
              "      <td>0</td>\n",
              "      <td>0</td>\n",
              "      <td>0</td>\n",
              "      <td>Alastair Fothergill,Jonathan Hughes,Keith Scholey</td>\n",
              "      <td>Documentary,Biography</td>\n",
              "      <td>United Kingdom</td>\n",
              "      <td>English</td>\n",
              "      <td>83.0</td>\n",
              "    </tr>\n",
              "    <tr>\n",
              "      <th>3</th>\n",
              "      <td>4</td>\n",
              "      <td>Lagaan: Once Upon a Time in India</td>\n",
              "      <td>2001</td>\n",
              "      <td>8.1</td>\n",
              "      <td>94.0</td>\n",
              "      <td>1</td>\n",
              "      <td>0</td>\n",
              "      <td>0</td>\n",
              "      <td>0</td>\n",
              "      <td>0</td>\n",
              "      <td>Ashutosh Gowariker</td>\n",
              "      <td>Drama,Musical,Sport</td>\n",
              "      <td>India,United Kingdom</td>\n",
              "      <td>Hindi,English</td>\n",
              "      <td>224.0</td>\n",
              "    </tr>\n",
              "    <tr>\n",
              "      <th>4</th>\n",
              "      <td>6</td>\n",
              "      <td>To All the Boys I've Loved Before</td>\n",
              "      <td>2018</td>\n",
              "      <td>7.1</td>\n",
              "      <td>94.0</td>\n",
              "      <td>1</td>\n",
              "      <td>0</td>\n",
              "      <td>0</td>\n",
              "      <td>0</td>\n",
              "      <td>0</td>\n",
              "      <td>Susan Johnson</td>\n",
              "      <td>Comedy,Drama,Romance</td>\n",
              "      <td>United States</td>\n",
              "      <td>English</td>\n",
              "      <td>99.0</td>\n",
              "    </tr>\n",
              "  </tbody>\n",
              "</table>\n",
              "</div>"
            ],
            "text/plain": [
              "  ID  ... Runtime\n",
              "0  1  ...   209.0\n",
              "1  2  ...   161.0\n",
              "2  3  ...    83.0\n",
              "3  4  ...   224.0\n",
              "4  6  ...    99.0\n",
              "\n",
              "[5 rows x 15 columns]"
            ]
          },
          "metadata": {},
          "execution_count": 254
        }
      ]
    },
    {
      "cell_type": "markdown",
      "metadata": {
        "id": "_CqgfcYyulCV"
      },
      "source": [
        "Step-1\n",
        "\n",
        "You will use textual columns into a single column then use tokenizer and TF-IDF Vectorizer to create a sparse matrix of all the words TF-IDF score. Then you will select and scale the numerical variables and add them into the sparse matrix. You need to perform the following steps for preprocessing:\n",
        "\n",
        "* Selecting all object data types and storing them in a list.\n",
        "* Removing ID and Title column.\n",
        "* Joining all text/object columns using commas into a single column.\n",
        "* Creating a tokenizer to remove unwanted elements from our data like symbols and numbers.\n",
        "* Converting TfidfVector from the text After that we will do numerical columns pre-processing\n",
        "* Selecting numerical variables into a data Frame\n",
        "* Scaling Numerical variables using minmax scaler (0,1) range\n",
        "* Adding numerical variables in the TF-IDF vectors sparse matrix using hstack function (hstack is used to add horizontal arrays into a sparse matrix)."
      ]
    },
    {
      "cell_type": "code",
      "metadata": {
        "id": "9gmOWYCjukIE"
      },
      "source": [
        "#the function performs all the important preprocessing steps\n",
        "def preprocess(df):\n",
        "    #combining all text columns\n",
        "    # Selecting all object data type and storing them in list\n",
        "    s = list(df.select_dtypes(include=['object']).columns)\n",
        "    # Removing ID and Title column\n",
        "    s.remove(\"Title\")\n",
        "    s.remove(\"ID\")\n",
        "    # Joining all text/object columns using commas into a single column\n",
        "    df['all_text']= df[s].apply(lambda x: ','.join(x.dropna().astype(str)),axis=1)\n",
        "\n",
        "    # Creating a tokenizer to remove unwanted elements from our data like symbols and numbers\n",
        "    token = RegexpTokenizer(r'[a-zA-Z]+')\n",
        "\n",
        "    # Converting TfidfVector from the text\n",
        "    cv = TfidfVectorizer(lowercase=True,stop_words='english',ngram_range = (1,1),tokenizer = token.tokenize)\n",
        "    text_counts= cv.fit_transform(df['all_text'])\n",
        "\n",
        "    # Aelecting numerical variables\n",
        "    ndf = df.select_dtypes(include=['float64',\"int64\"])\n",
        "\n",
        "    # Scaling Numerical variables\n",
        "    scaler = preprocessing.MinMaxScaler(feature_range=(0, 1))\n",
        "\n",
        "    # Applying scaler on our data and converting i into a data frame\n",
        "    ndfmx = pd.DataFrame((scaler.fit_transform(ndf)))\n",
        "    ndfmx.columns=ndf.columns    \n",
        "\n",
        "    # Adding our adding numerical variables in the TF-IDF vector\n",
        "    IMDb = ndfmx.IMDb.values[:, None]\n",
        "    X_train_dtm = hstack((text_counts, IMDb))\n",
        "    Netflix = ndfmx.Netflix.values[:, None]\n",
        "    X_train_dtm = hstack((X_train_dtm, Netflix))\n",
        "    Hulu = ndfmx.Hulu.values[:, None]\n",
        "    X_train_dtm = hstack((X_train_dtm, Hulu))\n",
        "    Prime = ndfmx[\"Prime Video\"].values[:, None]\n",
        "    X_train_dtm = hstack((X_train_dtm, Prime))\n",
        "    Disney = ndfmx[\"Disney+\"].values[:, None]\n",
        "    X_train_dtm = hstack((X_train_dtm, Disney))\n",
        "    Runtime = ndfmx.Runtime.values[:, None]\n",
        "    X_train_dtm = hstack((X_train_dtm, Runtime))\n",
        "    return X_train_dtm"
      ],
      "execution_count": null,
      "outputs": []
    },
    {
      "cell_type": "markdown",
      "metadata": {
        "id": "3ZB_Rc2yvGdv"
      },
      "source": [
        "Step-2: Applying the function to our data and creating a sparse matrix"
      ]
    },
    {
      "cell_type": "code",
      "metadata": {
        "colab": {
          "base_uri": "https://localhost:8080/"
        },
        "id": "UkQq-By_vDyF",
        "outputId": "732c42e5-d20b-4515-9fb7-afef79dabf05"
      },
      "source": [
        "# Preprocessing data\n",
        "mat =preprocess(df)\n",
        "mat.shape"
      ],
      "execution_count": null,
      "outputs": [
        {
          "output_type": "execute_result",
          "data": {
            "text/plain": [
              "(8695, 8190)"
            ]
          },
          "metadata": {},
          "execution_count": 256
        }
      ]
    },
    {
      "cell_type": "markdown",
      "metadata": {
        "id": "02FbAgfJvI4B"
      },
      "source": [
        "Step-3: Again, applying Cosine Similarity to compute the similarity score"
      ]
    },
    {
      "cell_type": "code",
      "metadata": {
        "id": "1rIcsta6vKnm"
      },
      "source": [
        "# using cosine similarity\n",
        "from sklearn.metrics.pairwise import cosine_similarity\n",
        "\n",
        "# Compute the sigmoid kernel\n",
        "sig2 = cosine_similarity(mat, mat)\n",
        "\n",
        "# Reverse mapping of indices and movie titles\n",
        "indices = pd.Series(df.index, index=df['Title']).drop_duplicates()"
      ],
      "execution_count": null,
      "outputs": []
    },
    {
      "cell_type": "markdown",
      "metadata": {
        "id": "_mSwc7vTvUMj"
      },
      "source": [
        "Step-4: Getting a recommendation from our improved system."
      ]
    },
    {
      "cell_type": "code",
      "metadata": {
        "colab": {
          "base_uri": "https://localhost:8080/"
        },
        "id": "maIXExp2KYEM",
        "outputId": "8c007753-59f8-4d51-df33-b1eb9cea7034"
      },
      "source": [
        "give_rec(\"Moana\",sig=sig2)"
      ],
      "execution_count": null,
      "outputs": [
        {
          "output_type": "execute_result",
          "data": {
            "text/plain": [
              "7991            The Princess and the Frog\n",
              "8010                      Treasure Planet\n",
              "7928                           Big Hero 6\n",
              "8437             The Little Mermaid Live!\n",
              "8083            The Great Mouse Detective\n",
              "7997                                 Bolt\n",
              "7951    Tinker Bell and the Lost Treasure\n",
              "7955             Raya and the Last Dragon\n",
              "7907                            Toy Story\n",
              "7981                            Frozen II\n",
              "Name: Title, dtype: object"
            ]
          },
          "metadata": {},
          "execution_count": 279
        }
      ]
    },
    {
      "cell_type": "code",
      "metadata": {
        "colab": {
          "base_uri": "https://localhost:8080/"
        },
        "id": "7anBCcqzvUqr",
        "outputId": "90c841ab-3ced-4f46-84b4-fcff8a0f2f6e"
      },
      "source": [
        "give_rec(\"Twilight\",sig=sig2)"
      ],
      "execution_count": null,
      "outputs": [
        {
          "output_type": "execute_result",
          "data": {
            "text/plain": [
              "4468      Lords of Dogtown\n",
              "629          Your Highness\n",
              "908     Yours, Mine & Ours\n",
              "155         Les Misérables\n",
              "2922        Happy Go Lucky\n",
              "565           Mother's Day\n",
              "1376               One Day\n",
              "316                   Home\n",
              "1442                 Bliss\n",
              "868              Rock On!!\n",
              "Name: Title, dtype: object"
            ]
          },
          "metadata": {},
          "execution_count": 414
        }
      ]
    },
    {
      "cell_type": "code",
      "metadata": {
        "colab": {
          "base_uri": "https://localhost:8080/"
        },
        "id": "DyNwDT6XTfAb",
        "outputId": "c2e7f3a3-85aa-44a3-9438-9cb50d4f89f5"
      },
      "source": [
        "give_rec(\"Iron Man 3\",sig=sig2)"
      ],
      "execution_count": null,
      "outputs": [
        {
          "output_type": "execute_result",
          "data": {
            "text/plain": [
              "7902                         Guardians of the Galaxy\n",
              "7920                  Guardians of the Galaxy Vol. 2\n",
              "7899                           Star Wars: A New Hope\n",
              "7970                         Solo: A Star Wars Story\n",
              "7935    Star Wars: Episode III - Revenge of the Sith\n",
              "7909                   Star Wars: Return of the Jedi\n",
              "8013                                     John Carter\n",
              "7979    Star Wars: Episode II - Attack of the Clones\n",
              "7919                    Rogue One: A Star Wars Story\n",
              "7937                                   Incredibles 2\n",
              "Name: Title, dtype: object"
            ]
          },
          "metadata": {},
          "execution_count": 406
        }
      ]
    },
    {
      "cell_type": "markdown",
      "metadata": {
        "id": "6izsy44yvp4t"
      },
      "source": [
        "This time the recommender system works way better than the older system, which shows that by adding more relevant data like description text, a content-based recommender system can be improved significantly."
      ]
    },
    {
      "cell_type": "code",
      "metadata": {
        "colab": {
          "base_uri": "https://localhost:8080/"
        },
        "id": "Dg_5aeqGL5rg",
        "outputId": "bcf5c073-9d40-4f15-ff08-e391e500cf6b"
      },
      "source": [
        "from difflib import SequenceMatcher\n",
        "SequenceMatcher(None, \"Centro Comercial de La Villa (N)\", \"CC La Villa\").ratio()\n",
        "# 0.5116279069767442"
      ],
      "execution_count": null,
      "outputs": [
        {
          "output_type": "execute_result",
          "data": {
            "text/plain": [
              "0.5116279069767442"
            ]
          },
          "metadata": {},
          "execution_count": 281
        }
      ]
    },
    {
      "cell_type": "code",
      "metadata": {
        "colab": {
          "base_uri": "https://localhost:8080/"
        },
        "id": "gYK79_rdMRQn",
        "outputId": "79d9b6e4-58a7-4fd5-96c3-dd1bbde668a4"
      },
      "source": [
        "from difflib import SequenceMatcher\n",
        "BuscarTitulo='Tangled'\n",
        "radios=np.zeros(len(df['Title']))\n",
        "\n",
        "for i in range(0,len(df['Title'])):\n",
        "  radios[i]=SequenceMatcher(None, df['Title'][i], BuscarTitulo).ratio()\n",
        "dfBusqueda=df[['Title']]\n",
        "dfBusqueda['Radios']=radios"
      ],
      "execution_count": null,
      "outputs": [
        {
          "output_type": "stream",
          "name": "stderr",
          "text": [
            "/usr/local/lib/python3.7/dist-packages/ipykernel_launcher.py:8: SettingWithCopyWarning: \n",
            "A value is trying to be set on a copy of a slice from a DataFrame.\n",
            "Try using .loc[row_indexer,col_indexer] = value instead\n",
            "\n",
            "See the caveats in the documentation: https://pandas.pydata.org/pandas-docs/stable/user_guide/indexing.html#returning-a-view-versus-a-copy\n",
            "  \n"
          ]
        }
      ]
    },
    {
      "cell_type": "code",
      "metadata": {
        "colab": {
          "base_uri": "https://localhost:8080/",
          "height": 359
        },
        "id": "JGvgaem9T4M-",
        "outputId": "c2e47de2-23b4-4eec-8d8a-46f534a15549"
      },
      "source": [
        "dfBusqueda.sort_values(by='Radios',ascending=False)[0:10]"
      ],
      "execution_count": null,
      "outputs": [
        {
          "output_type": "execute_result",
          "data": {
            "text/html": [
              "<div>\n",
              "<style scoped>\n",
              "    .dataframe tbody tr th:only-of-type {\n",
              "        vertical-align: middle;\n",
              "    }\n",
              "\n",
              "    .dataframe tbody tr th {\n",
              "        vertical-align: top;\n",
              "    }\n",
              "\n",
              "    .dataframe thead th {\n",
              "        text-align: right;\n",
              "    }\n",
              "</style>\n",
              "<table border=\"1\" class=\"dataframe\">\n",
              "  <thead>\n",
              "    <tr style=\"text-align: right;\">\n",
              "      <th></th>\n",
              "      <th>Title</th>\n",
              "      <th>Radios</th>\n",
              "    </tr>\n",
              "  </thead>\n",
              "  <tbody>\n",
              "    <tr>\n",
              "      <th>7938</th>\n",
              "      <td>Tangled</td>\n",
              "      <td>1.000000</td>\n",
              "    </tr>\n",
              "    <tr>\n",
              "      <th>5662</th>\n",
              "      <td>The Eagle</td>\n",
              "      <td>0.625000</td>\n",
              "    </tr>\n",
              "    <tr>\n",
              "      <th>2911</th>\n",
              "      <td>Target</td>\n",
              "      <td>0.615385</td>\n",
              "    </tr>\n",
              "    <tr>\n",
              "      <th>4402</th>\n",
              "      <td>Jungle</td>\n",
              "      <td>0.615385</td>\n",
              "    </tr>\n",
              "    <tr>\n",
              "      <th>1</th>\n",
              "      <td>Dangal</td>\n",
              "      <td>0.615385</td>\n",
              "    </tr>\n",
              "    <tr>\n",
              "      <th>2149</th>\n",
              "      <td>Tragic Jungle</td>\n",
              "      <td>0.600000</td>\n",
              "    </tr>\n",
              "    <tr>\n",
              "      <th>2239</th>\n",
              "      <td>Bankrolled</td>\n",
              "      <td>0.588235</td>\n",
              "    </tr>\n",
              "    <tr>\n",
              "      <th>5412</th>\n",
              "      <td>Changeland</td>\n",
              "      <td>0.588235</td>\n",
              "    </tr>\n",
              "    <tr>\n",
              "      <th>4492</th>\n",
              "      <td>Tickled</td>\n",
              "      <td>0.571429</td>\n",
              "    </tr>\n",
              "    <tr>\n",
              "      <th>5689</th>\n",
              "      <td>Branded</td>\n",
              "      <td>0.571429</td>\n",
              "    </tr>\n",
              "  </tbody>\n",
              "</table>\n",
              "</div>"
            ],
            "text/plain": [
              "              Title    Radios\n",
              "7938        Tangled  1.000000\n",
              "5662      The Eagle  0.625000\n",
              "2911         Target  0.615385\n",
              "4402         Jungle  0.615385\n",
              "1            Dangal  0.615385\n",
              "2149  Tragic Jungle  0.600000\n",
              "2239     Bankrolled  0.588235\n",
              "5412     Changeland  0.588235\n",
              "4492        Tickled  0.571429\n",
              "5689        Branded  0.571429"
            ]
          },
          "metadata": {},
          "execution_count": 410
        }
      ]
    },
    {
      "cell_type": "code",
      "metadata": {
        "id": "Xb6bZW9iOlDv"
      },
      "source": [
        "dfBusqueda[dfBusqueda['Radios']>max(dfBusqueda['Radios']*0.7)].sort_values(by='Radios',ascending=False)"
      ],
      "execution_count": null,
      "outputs": []
    },
    {
      "cell_type": "markdown",
      "metadata": {
        "id": "8gbm6SBzV58p"
      },
      "source": [
        "# **Búsqueda de películas**"
      ]
    },
    {
      "cell_type": "code",
      "metadata": {
        "id": "zK57nR-6WDLW"
      },
      "source": [
        "from difflib import SequenceMatcher\n",
        "\n",
        "BuscarTitulo='Tangled'\n",
        "\n",
        "radios=np.zeros(len(df['Title']))\n",
        "\n",
        "for i in range(0,len(df['Title'])):\n",
        "  radios[i]=SequenceMatcher(None, df['Title'][i], BuscarTitulo).ratio()\n",
        "dfBusqueda=df[['Title']]\n",
        "dfBusqueda['Radios']=radios"
      ],
      "execution_count": null,
      "outputs": []
    },
    {
      "cell_type": "code",
      "metadata": {
        "id": "t6LBEm5JWIRg"
      },
      "source": [
        "dfBusqueda.sort_values(by='Radios',ascending=False)[0:10]"
      ],
      "execution_count": null,
      "outputs": []
    },
    {
      "cell_type": "code",
      "metadata": {
        "id": "OMU5MF3dWO9f"
      },
      "source": [
        "give_rec(\"Moana\",sig=sig2)"
      ],
      "execution_count": null,
      "outputs": []
    },
    {
      "cell_type": "code",
      "metadata": {
        "id": "y-LkSgmyWPNv"
      },
      "source": [
        "give_rec(\"Moana\",sig=sig)"
      ],
      "execution_count": null,
      "outputs": []
    }
  ]
}