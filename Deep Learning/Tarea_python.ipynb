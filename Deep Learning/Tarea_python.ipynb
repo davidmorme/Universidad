{
  "nbformat": 4,
  "nbformat_minor": 0,
  "metadata": {
    "colab": {
      "name": "Tarea_python.ipynb",
      "provenance": [],
      "collapsed_sections": [],
      "include_colab_link": true
    },
    "kernelspec": {
      "name": "python3",
      "display_name": "Python 3"
    },
    "language_info": {
      "name": "python"
    }
  },
  "cells": [
    {
      "cell_type": "markdown",
      "metadata": {
        "id": "view-in-github",
        "colab_type": "text"
      },
      "source": [
        "<a href=\"https://colab.research.google.com/github/davidmorme/Universidad/blob/main/Deep%20Learning/Tarea_python.ipynb\" target=\"_parent\"><img src=\"https://colab.research.google.com/assets/colab-badge.svg\" alt=\"Open In Colab\"/></a>"
      ]
    },
    {
      "cell_type": "markdown",
      "source": [
        "# Hola!\n",
        "\n",
        "En este notebook encontraras ejercicios de Python. El objetivo es crear funciones que retornen el resultado esperado. Al ejecutar la casilla de calificación, verás que se emplea una función \"assert()\". Esta función verifica que has logrado obtener el resultado esperado, se ejecutará sin problemas si tu solución empleada es correcta, si da error, entonces deberías volver a revisar tu código. \n",
        "\n",
        "Suerte!"
      ],
      "metadata": {
        "id": "EcW8sVF5axqo"
      }
    },
    {
      "cell_type": "markdown",
      "source": [
        "# Mi nombre es: \n",
        "David Esteban Mora Meza"
      ],
      "metadata": {
        "id": "d7CoFAMfnWpS"
      }
    },
    {
      "cell_type": "markdown",
      "source": [
        "# Ejemplo #1\n",
        "Escribe una función que reciba un nombre y que luego devuelva la siguiente oración: Hola, @nombre!\n",
        "\n"
      ],
      "metadata": {
        "id": "qbFaI-xpeJNS"
      }
    },
    {
      "cell_type": "code",
      "source": [
        "#Aquí va tu código\n",
        "def holi(nombre):\n",
        "    return \"Hola, \" + nombre + \"!\""
      ],
      "metadata": {
        "id": "yBhsyieZenLk"
      },
      "execution_count": 1,
      "outputs": []
    },
    {
      "cell_type": "code",
      "source": [
        "#Casilla de calificación\n",
        "assert holi(\"Tomás\") == \"Hola, Tomás!\"\n",
        "print(\"Muy bien!\")"
      ],
      "metadata": {
        "id": "rdV89AHneiYS",
        "outputId": "be705b5f-6a4a-49a5-efaa-5e91e6e0619b",
        "colab": {
          "base_uri": "https://localhost:8080/"
        }
      },
      "execution_count": 2,
      "outputs": [
        {
          "output_type": "stream",
          "name": "stdout",
          "text": [
            "Muy bien!\n"
          ]
        }
      ]
    },
    {
      "cell_type": "markdown",
      "source": [
        "# Ejercicio #1\n",
        "\n",
        "El objetivo de este ejercicio es crear una función que saque la media de los números introducidos. Tip: puedes usar la librería statistics.\n"
      ],
      "metadata": {
        "id": "ahjZrLM3gTg5"
      }
    },
    {
      "cell_type": "code",
      "source": [
        "import statistics"
      ],
      "metadata": {
        "id": "VZlCQ_DGuFIP"
      },
      "execution_count": 10,
      "outputs": []
    },
    {
      "cell_type": "code",
      "source": [
        "#Aquí va tu código\n",
        "def sacar_media(n1, *args):\n",
        "    arreglo=[n1]\n",
        "    for i in args:\n",
        "      arreglo.append(i)\n",
        "    return statistics.mean(arreglo)"
      ],
      "metadata": {
        "id": "0khczww8zVDy"
      },
      "execution_count": 55,
      "outputs": []
    },
    {
      "cell_type": "code",
      "source": [
        "#Casilla de calificación\n",
        "assert sacar_media(2,4,2,5) == 3.25\n",
        "assert sacar_media(4,2,9,0,5) == 4\n",
        "assert sacar_media(1) == 1\n",
        "print(\"Muy bien!\")"
      ],
      "metadata": {
        "id": "UTBCLOy2wYMp",
        "outputId": "33934e0f-a42a-4a12-bc18-0b697a1c6f1c",
        "colab": {
          "base_uri": "https://localhost:8080/"
        }
      },
      "execution_count": 57,
      "outputs": [
        {
          "output_type": "stream",
          "name": "stdout",
          "text": [
            "Muy bien!\n"
          ]
        }
      ]
    },
    {
      "cell_type": "markdown",
      "source": [
        "# Ejercicio #2\n",
        "\n",
        "El objetivo de este ejercicio es crear una función que diga qué tipo de variable es el dato que recibe. \n"
      ],
      "metadata": {
        "id": "ip0nN2F5iFI3"
      }
    },
    {
      "cell_type": "code",
      "source": [
        "#Aquí va tu código\n",
        "def que_tipo(Variable):\n",
        "  return type(Variable) "
      ],
      "metadata": {
        "id": "on8IoubViFJB"
      },
      "execution_count": 24,
      "outputs": []
    },
    {
      "cell_type": "code",
      "source": [
        "#Casilla de calificación\n",
        "assert que_tipo(2) == int\n",
        "assert que_tipo(\"holi\") == str\n",
        "assert que_tipo(4.6) == float\n",
        "assert que_tipo(False) == bool\n",
        "print(\"Muy bien!\")"
      ],
      "metadata": {
        "id": "DDn6vBr4iFJB",
        "outputId": "9efe5f2a-cbe9-4caa-9491-8b8d7163c832",
        "colab": {
          "base_uri": "https://localhost:8080/"
        }
      },
      "execution_count": 25,
      "outputs": [
        {
          "output_type": "stream",
          "name": "stdout",
          "text": [
            "Muy bien!\n"
          ]
        }
      ]
    },
    {
      "cell_type": "markdown",
      "source": [
        "# Ejercicio #3\n",
        "\n",
        "El objetivo de este ejercicio es crear una función que devuelva el primer elemento de la secuencia que reciba.\n"
      ],
      "metadata": {
        "id": "neXhBiFydzR1"
      }
    },
    {
      "cell_type": "code",
      "source": [
        "#Aquí va tu código\n",
        "def primero(arreglo):\n",
        "  return arreglo[0]"
      ],
      "metadata": {
        "id": "fKoMdTeniU5a"
      },
      "execution_count": 58,
      "outputs": []
    },
    {
      "cell_type": "code",
      "execution_count": 59,
      "metadata": {
        "id": "nvQS2MhQUhtT",
        "outputId": "68e9c85e-9349-411b-9fa5-73f23cc75ab3",
        "colab": {
          "base_uri": "https://localhost:8080/"
        }
      },
      "outputs": [
        {
          "output_type": "stream",
          "name": "stdout",
          "text": [
            "Muy bien!\n"
          ]
        }
      ],
      "source": [
        "#Casilla de verificación\n",
        "assert primero(\"ubuntu\") == \"u\"\n",
        "assert primero([1, 2, 3]) == 1\n",
        "assert primero([\"python\", \"es\", \"muy\", \"chevere\"]) == \"python\"\n",
        "print(\"Muy bien!\")"
      ]
    },
    {
      "cell_type": "markdown",
      "source": [
        "#Ejercicio #4\n",
        "\n",
        "El objetivo de este ejercicio es crear una función que devuelva la palabra más corta de una lista de palabras que recibe."
      ],
      "metadata": {
        "id": "N5e8dzlIjINh"
      }
    },
    {
      "cell_type": "code",
      "source": [
        "#Aquí va tu código\n",
        "def palabra_corta(arreglo):\n",
        "  corta=arreglo[0]\n",
        "  for i in range(1,len(arreglo)):\n",
        "    if len(arreglo[i]) < len(corta):\n",
        "      corta=arreglo[i]\n",
        "  return corta"
      ],
      "metadata": {
        "id": "OWLd9TngjgfJ"
      },
      "execution_count": 75,
      "outputs": []
    },
    {
      "cell_type": "code",
      "execution_count": 77,
      "metadata": {
        "id": "UIvacF3BUht_",
        "outputId": "d82d08f8-6378-4643-a38b-0f941e421046",
        "colab": {
          "base_uri": "https://localhost:8080/"
        }
      },
      "outputs": [
        {
          "output_type": "stream",
          "name": "stdout",
          "text": [
            "Muy bien, ya casi!\n"
          ]
        }
      ],
      "source": [
        "#Casilla de verificación\n",
        "assert palabra_corta([\"kiwi\", \"mango\", \"fresita\"]) == \"kiwi\"\n",
        "assert palabra_corta([\"holiwi\", \"Chau\", \"Quiubo\", \"vemos\"]) == \"Chau\"\n",
        "assert palabra_corta([\"Me\", \"encanta\", \"aprender\", \"Python\"]) == \"Me\"\n",
        "print(\"Muy bien, ya casi!\")"
      ]
    },
    {
      "cell_type": "markdown",
      "source": [
        "#Ejercicio #5\n",
        "En este ejercicio se te dará una lista de libros, cada elemento es un diccionario con información de un libro, tiene su título, autor y precio. Debes realizar varias funciones que reciban esta lista de libros y hagan lo que indique el nombre de la función. (Ejecuta la casilla de la lista de libros)"
      ],
      "metadata": {
        "id": "PjBkpUjAkS1p"
      }
    },
    {
      "cell_type": "code",
      "execution_count": 78,
      "metadata": {
        "id": "RtdEkteYUhuI"
      },
      "outputs": [],
      "source": [
        "#Casilla de libros\n",
        "libros = [\n",
        "    {\n",
        "        \"titulo\": \"Cómo el Deep learning me ha ayudado a mejorar en LoL\",\n",
        "        \"precio\": 36900,\n",
        "        \"autor\": \"Frances Buontempo\"\n",
        "    },\n",
        "    {\n",
        "        \"titulo\": \"La incognita de por qué la profe no puede usar teams\",\n",
        "        \"precio\": 38000,\n",
        "        \"autor\": \"Saramago\"\n",
        "    },\n",
        "    {\n",
        "        \"titulo\": \"Ejercicios de Python, entre otras torturas\",\n",
        "        \"autor\": \"Paola Cañas\",\n",
        "        \"precio\": 30950\n",
        "    },\n",
        "    {\n",
        "        \"titulo\": \"Deep Learning with Python\",\n",
        "        \"autor\": \"Gabrielito Garcia Marquez\",\n",
        "        \"precio\": 17000\n",
        "    }\n",
        "]"
      ]
    },
    {
      "cell_type": "code",
      "source": [
        "#Aquí va tu código\n",
        "def total_libros(arreglo):\n",
        "  return len(arreglo)\n",
        "\n",
        "def precio_total(arreglo):\n",
        "  suma=0\n",
        "  for libro in arreglo:\n",
        "    suma += libro['precio']\n",
        "  return suma\n",
        "\n",
        "def libro_mas_barato(arreglo):\n",
        "  librobar=arreglo[0]\n",
        "  for i in range(1,len(arreglo)):\n",
        "    if arreglo[i]['precio']<librobar['precio']:\n",
        "      librobar=arreglo[i]\n",
        "  return librobar"
      ],
      "metadata": {
        "id": "9zGgXgB3lvjZ"
      },
      "execution_count": 101,
      "outputs": []
    },
    {
      "cell_type": "code",
      "source": [
        "#Casilla de calificación\n",
        "assert total_libros(libros) == 4\n",
        "assert precio_total(libros) == 122850\n",
        "assert libro_mas_barato(libros) == {\n",
        "    \"titulo\": \"Deep Learning with Python\",\n",
        "    \"autor\": \"Gabrielito Garcia Marquez\",\n",
        "    \"precio\": 17000\n",
        "}\n",
        "print(\"Perfecto! Terminaste\")"
      ],
      "metadata": {
        "id": "3-iszmszlzRe",
        "outputId": "aa2696ae-bb65-4506-8aab-c86a8d59cdaf",
        "colab": {
          "base_uri": "https://localhost:8080/"
        }
      },
      "execution_count": 102,
      "outputs": [
        {
          "output_type": "stream",
          "name": "stdout",
          "text": [
            "Perfecto! Terminaste\n"
          ]
        }
      ]
    },
    {
      "cell_type": "markdown",
      "source": [
        "#Buen trabajo\n",
        "\n",
        "Ahora debes descargar este notebook. Ve a Archivo->Descargar->Descargar .ipynb. Eso te descargará el notebook que debes enviar a antes del sábado 19 de Febrero (hasta el viernes) al correo paolacanrod@unisabana.edu.co\n",
        "\n",
        "Gracias!"
      ],
      "metadata": {
        "id": "1KkhwNY_mojG"
      }
    }
  ]
}