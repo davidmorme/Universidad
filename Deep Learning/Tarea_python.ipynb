{
  "nbformat": 4,
  "nbformat_minor": 0,
  "metadata": {
    "colab": {
      "name": "Tarea_python.ipynb",
      "provenance": [],
      "collapsed_sections": []
    },
    "kernelspec": {
      "name": "python3",
      "display_name": "Python 3"
    },
    "language_info": {
      "name": "python"
    }
  },
  "cells": [
    {
      "cell_type": "markdown",
      "source": [
        "# Hola!\n",
        "\n",
        "En este notebook encontraras ejercicios de Python. El objetivo es crear funciones que retornen el resultado esperado. Al ejecutar la casilla de calificación, verás que se emplea una función \"assert()\". Esta función verifica que has logrado obtener el resultado esperado, se ejecutará sin problemas si tu solución empleada es correcta, si da error, entonces deberías volver a revisar tu código. \n",
        "\n",
        "Suerte!"
      ],
      "metadata": {
        "id": "EcW8sVF5axqo"
      }
    },
    {
      "cell_type": "markdown",
      "source": [
        "# Mi nombre es: \n",
        "(inserta tu nombre por fa)"
      ],
      "metadata": {
        "id": "d7CoFAMfnWpS"
      }
    },
    {
      "cell_type": "markdown",
      "source": [
        "# Ejemplo #1\n",
        "Escribe una función que reciba un nombre y que luego devuelva la siguiente oración: Hola, @nombre!\n",
        "\n"
      ],
      "metadata": {
        "id": "qbFaI-xpeJNS"
      }
    },
    {
      "cell_type": "code",
      "source": [
        "#Aquí va tu código\n",
        "def holi(nombre):\n",
        "    return \"Hola, \" + nombre + \"!\""
      ],
      "metadata": {
        "id": "yBhsyieZenLk"
      },
      "execution_count": 1,
      "outputs": []
    },
    {
      "cell_type": "code",
      "source": [
        "#Casilla de calificación\n",
        "assert holi(\"Tomás\") == \"Hola, Tomás!\"\n",
        "print(\"Muy bien!\")"
      ],
      "metadata": {
        "id": "rdV89AHneiYS"
      },
      "execution_count": null,
      "outputs": []
    },
    {
      "cell_type": "markdown",
      "source": [
        "# Ejercicio #1\n",
        "\n",
        "El objetivo de este ejercicio es crear una función que saque la media de los números introducidos. Tip: puedes usar la librería statistics.\n"
      ],
      "metadata": {
        "id": "ahjZrLM3gTg5"
      }
    },
    {
      "cell_type": "code",
      "source": [
        "#Aquí va tu código"
      ],
      "metadata": {
        "id": "4MF2bhWCfMY8"
      },
      "execution_count": null,
      "outputs": []
    },
    {
      "cell_type": "code",
      "source": [
        "#Casilla de calificación\n",
        "assert sacar_media(2,4,2,5) == 3.25\n",
        "assert sacar_media(4,2,9,0,5) == 4\n",
        "assert sacar_media(1) == 4\n",
        "print(\"Muy bien!\")"
      ],
      "metadata": {
        "id": "Qsygber4fO8G"
      },
      "execution_count": null,
      "outputs": []
    },
    {
      "cell_type": "markdown",
      "source": [
        "# Ejercicio #2\n",
        "\n",
        "El objetivo de este ejercicio es crear una función que diga qué tipo de variable es el dato que recibe. \n"
      ],
      "metadata": {
        "id": "ip0nN2F5iFI3"
      }
    },
    {
      "cell_type": "code",
      "source": [
        "#Aquí va tu código"
      ],
      "metadata": {
        "id": "on8IoubViFJB"
      },
      "execution_count": null,
      "outputs": []
    },
    {
      "cell_type": "code",
      "source": [
        "#Casilla de calificación\n",
        "assert que_tipo(2) == int\n",
        "assert que_tipo(\"holi\") == str\n",
        "assert que_tipo(4.6) == float\n",
        "assert que_tipo(False) == bool\n",
        "print(\"Muy bien!\")"
      ],
      "metadata": {
        "id": "DDn6vBr4iFJB"
      },
      "execution_count": null,
      "outputs": []
    },
    {
      "cell_type": "markdown",
      "source": [
        "# Ejercicio #3\n",
        "\n",
        "El objetivo de este ejercicio es crear una función que devuelva el primer elemento de la secuencia que reciba.\n"
      ],
      "metadata": {
        "id": "neXhBiFydzR1"
      }
    },
    {
      "cell_type": "code",
      "source": [
        "#Aquí va tu código"
      ],
      "metadata": {
        "id": "fKoMdTeniU5a"
      },
      "execution_count": null,
      "outputs": []
    },
    {
      "cell_type": "code",
      "execution_count": null,
      "metadata": {
        "id": "nvQS2MhQUhtT"
      },
      "outputs": [],
      "source": [
        "#Casilla de verificación\n",
        "assert primero(\"ubuntu\") == \"u\"\n",
        "assert primero([1, 2, 3]) == 1\n",
        "assert primero([\"python\", \"es\", \"muy\", \"chevere\"]) == \"python\"\n",
        "print(\"Muy bien!\")"
      ]
    },
    {
      "cell_type": "markdown",
      "source": [
        "#Ejercicio #4\n",
        "\n",
        "El objetivo de este ejercicio es crear una función que devuelva la palabra más corta de una lista de palabras que recibe."
      ],
      "metadata": {
        "id": "N5e8dzlIjINh"
      }
    },
    {
      "cell_type": "code",
      "source": [
        "#Aquí va tu código"
      ],
      "metadata": {
        "id": "OWLd9TngjgfJ"
      },
      "execution_count": null,
      "outputs": []
    },
    {
      "cell_type": "code",
      "execution_count": null,
      "metadata": {
        "id": "UIvacF3BUht_"
      },
      "outputs": [],
      "source": [
        "#Casilla de verificación\n",
        "assert palabra_corta([\"kiwi\", \"mango\", \"fresita\"]) == \"kiwi\"\n",
        "assert palabra_corta([\"holiwi\", \"Chau\", \"Quiubo\", \"vemos\"]) == \"Chau\"\n",
        "assert palabra_corta([\"Me\", \"encanta\", \"aprender\", \"Python\"]) == \"Me\"\n",
        "print(\"Muy bien, ya casi!\")"
      ]
    },
    {
      "cell_type": "markdown",
      "source": [
        "#Ejercicio #5\n",
        "En este ejercicio se te dará una lista de libros, cada elemento es un diccionario con información de un libro, tiene su título, autor y precio. Debes realizar varias funciones que reciban esta lista de libros y hagan lo que indique el nombre de la función. (Ejecuta la casilla de la lista de libros)"
      ],
      "metadata": {
        "id": "PjBkpUjAkS1p"
      }
    },
    {
      "cell_type": "code",
      "execution_count": 18,
      "metadata": {
        "id": "RtdEkteYUhuI"
      },
      "outputs": [],
      "source": [
        "#Casilla de libros\n",
        "libros = [\n",
        "    {\n",
        "        \"titulo\": \"Cómo el Deep learning me ha ayudado a mejorar en LoL\",\n",
        "        \"precio\": 36900,\n",
        "        \"autor\": \"Frances Buontempo\"\n",
        "    },\n",
        "    {\n",
        "        \"titulo\": \"La incognita de por qué la profe no puede usar teams\",\n",
        "        \"precio\": 38000,\n",
        "        \"autor\": \"Saramago\"\n",
        "    },\n",
        "    {\n",
        "        \"titulo\": \"Ejercicios de Python, entre otras torturas\",\n",
        "        \"autor\": \"Paola Cañas\",\n",
        "        \"precio\": 30950\n",
        "    },\n",
        "    {\n",
        "        \"titulo\": \"Deep Learning with Python\",\n",
        "        \"autor\": \"Gabrielito Garcia Marquez\",\n",
        "        \"precio\": 17000\n",
        "    }\n",
        "]"
      ]
    },
    {
      "cell_type": "code",
      "source": [
        "#Aquí va tu código"
      ],
      "metadata": {
        "id": "9zGgXgB3lvjZ"
      },
      "execution_count": null,
      "outputs": []
    },
    {
      "cell_type": "code",
      "source": [
        "#Casilla de calificación\n",
        "assert total_libros(libros) == 4\n",
        "assert precio_total(libros) == 122850\n",
        "assert libro_mas_barato(libros) == {\n",
        "    \"titulo\": \"Deep Learning with Python\",\n",
        "    \"autor\": \"Gabrielito Garcia Marquez\",\n",
        "    \"precio\": 17000\n",
        "}\n",
        "print(\"Perfecto! Terminaste\")"
      ],
      "metadata": {
        "id": "3-iszmszlzRe"
      },
      "execution_count": null,
      "outputs": []
    },
    {
      "cell_type": "markdown",
      "source": [
        "#Buen trabajo\n",
        "\n",
        "Ahora debes descargar este notebook. Ve a Archivo->Descargar->Descargar .ipynb. Eso te descargará el notebook que debes enviar a antes del sábado 19 de Febrero (hasta el viernes) al correo paolacanrod@unisabana.edu.co\n",
        "\n",
        "Gracias!"
      ],
      "metadata": {
        "id": "1KkhwNY_mojG"
      }
    }
  ]
}