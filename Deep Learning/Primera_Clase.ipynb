{
  "nbformat": 4,
  "nbformat_minor": 0,
  "metadata": {
    "colab": {
      "name": "Primera Clase",
      "provenance": [],
      "authorship_tag": "ABX9TyO2FctZoSWtJJ2tHSM/SJ8Q",
      "include_colab_link": true
    },
    "kernelspec": {
      "name": "python3",
      "display_name": "Python 3"
    },
    "language_info": {
      "name": "python"
    }
  },
  "cells": [
    {
      "cell_type": "markdown",
      "metadata": {
        "id": "view-in-github",
        "colab_type": "text"
      },
      "source": [
        "<a href=\"https://colab.research.google.com/github/davidmorme/Universidad/blob/main/Deep%20Learning/Primera_Clase.ipynb\" target=\"_parent\"><img src=\"https://colab.research.google.com/assets/colab-badge.svg\" alt=\"Open In Colab\"/></a>"
      ]
    },
    {
      "cell_type": "code",
      "execution_count": 15,
      "metadata": {
        "id": "qosNQM-7eJHc"
      },
      "outputs": [],
      "source": [
        "#Listas\n",
        "animalChino=['rata','tigre''buey','conejo']\n",
        "nombres=['Diego','Isaac','Vivian','Pedro']\n",
        "semestre=[6,7,8,9,\"Practicas\"]\n",
        "#Tuplas\n",
        "MyTupla= (3,5)\n",
        "#Diccionarios\n",
        "MyDictonary= {'key':'value'}\n",
        "\n",
        "MyTupla2=(nombres,animalChino)\n",
        "ListaFinal=[MyTupla2,semestre]"
      ]
    },
    {
      "cell_type": "code",
      "source": [
        "animalChino[0]"
      ],
      "metadata": {
        "colab": {
          "base_uri": "https://localhost:8080/",
          "height": 35
        },
        "id": "YUNYDRCpjehZ",
        "outputId": "3d605088-04f1-4af5-b268-9338adcf0884"
      },
      "execution_count": 14,
      "outputs": [
        {
          "output_type": "execute_result",
          "data": {
            "application/vnd.google.colaboratory.intrinsic+json": {
              "type": "string"
            },
            "text/plain": [
              "'rata'"
            ]
          },
          "metadata": {},
          "execution_count": 14
        }
      ]
    }
  ]
}