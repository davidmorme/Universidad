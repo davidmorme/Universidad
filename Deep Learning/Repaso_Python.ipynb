{
  "cells": [
    {
      "cell_type": "markdown",
      "source": [
        "**Repaso Python**\n",
        "\n",
        "Tipos de variable. \n",
        "No se define el tipo de variable, solo se asigna el valor deseado"
      ],
      "metadata": {
        "id": "UZOeDmW3d_ET"
      }
    },
    {
      "cell_type": "code",
      "source": [
        "myVar = 7\n",
        "mySecondVar = \"mund\" \n",
        "myThirdVar = 4.6\n",
        "myFrouthVar = False #True\n"
      ],
      "metadata": {
        "id": "REhQwMIyeM_X"
      },
      "execution_count": null,
      "outputs": []
    },
    {
      "cell_type": "code",
      "source": [
        "#Comentario de línea\n",
        "\"\"\"\n",
        "Comentario \n",
        "de holi \n",
        "bloque\n",
        "\"\"\"\n"
      ],
      "metadata": {
        "id": "vBteTy8peqSd"
      },
      "execution_count": null,
      "outputs": []
    },
    {
      "cell_type": "markdown",
      "source": [
        "# Listas. \n",
        "Las listas en python son un conjunto de datos (de cualquier tipo) organizados por comas dentro de [] paréntesis cuadrados"
      ],
      "metadata": {
        "id": "-JgPK0coLiy5"
      }
    },
    {
      "cell_type": "code",
      "source": [
        "#listas\n",
        "animalChino = [\"dragon\",\"tigre\",\"buey\",\"conejo\"]\n",
        "nombres = [\"Diego\",\"Isaac\",\"Vivian\",\"Pedro\"]\n",
        "semestre = [7,8,9,\"practica\"]\n",
        "myList = [4,6,False,\"true\"]\n",
        "#Diccionarios\n",
        "myDictionary = {\"key\":\"value\"}\n",
        "myTupla = (nombres,animalChino)\n",
        "listaFinal = [myTupla, semestre]\n"
      ],
      "metadata": {
        "id": "tRSoUmOCfIyr"
      },
      "execution_count": null,
      "outputs": []
    },
    {
      "cell_type": "markdown",
      "source": [
        "Se puede acceder a un elemento específico de una lista mediante su posición (contando desde cero)."
      ],
      "metadata": {
        "id": "IHi8yRzHL13X"
      }
    },
    {
      "cell_type": "code",
      "source": [
        "print(\"Mi nombre es\", nombres[1], \"y mi animal es el\",animalChino[2])\n",
        "print(f\"Mi nombre es {nombres[1]} y mi animal es el {animalChino[2]}\")\n",
        "print(\"Mi nombre es %s y mi animal es el %s\" %(nombres[1], animalChino[2]))\n",
        "#Estoy cursando x semestre y mi animal es el conejo.\n",
        "semestre = listaFinal[1][0]\n",
        "print(\"Estoy cursando %s semestre y  mi animal es el %s\" %(listaFinal[1][0],listaFinal[0][1][3]))"
      ],
      "metadata": {
        "colab": {
          "base_uri": "https://localhost:8080/"
        },
        "id": "LuJQkeKef7bL",
        "outputId": "d761b306-d964-40a7-e94a-cb021bba557b"
      },
      "execution_count": null,
      "outputs": [
        {
          "output_type": "stream",
          "name": "stdout",
          "text": [
            "Mi nombre es Isaac y mi animal es el buey\n",
            "Mi nombre es Isaac y mi animal es el buey\n",
            "Mi nombre es Isaac y mi animal es el buey\n",
            "Estoy cursando 7 semestre y  mi animal es el conejo\n"
          ]
        }
      ]
    },
    {
      "cell_type": "markdown",
      "source": [
        "# Bucles"
      ],
      "metadata": {
        "id": "9BSGO12JMA4M"
      }
    },
    {
      "cell_type": "code",
      "source": [
        "# for\n",
        "for nombre in nombres:\n",
        "  print(nombre)\n",
        "\n",
        "for i in range(len(nombres)):\n",
        "  print(nombres[i])\n",
        "  #esto entra\n",
        "  #esto tambien\n",
        "#esto ya no\n"
      ],
      "metadata": {
        "colab": {
          "base_uri": "https://localhost:8080/"
        },
        "id": "aG2nxYBImREz",
        "outputId": "6d52a769-7f7a-42bf-81bf-95dfe90ccd7f"
      },
      "execution_count": null,
      "outputs": [
        {
          "output_type": "stream",
          "name": "stdout",
          "text": [
            "Diego\n",
            "Isaac\n",
            "Vivian\n",
            "Pedro\n"
          ]
        }
      ]
    },
    {
      "cell_type": "markdown",
      "source": [
        "## Condicionales"
      ],
      "metadata": {
        "id": "pIubH2BxMHh-"
      }
    },
    {
      "cell_type": "code",
      "source": [
        "#If's\n",
        "\n",
        "if myList[2]:\n",
        "  print(\"es imposible\")\n",
        "elif myList[2]:\n",
        "  print(\"esto si\")\n",
        "else:\n",
        "  print(\"no fue elif\")"
      ],
      "metadata": {
        "colab": {
          "base_uri": "https://localhost:8080/"
        },
        "id": "GMqIHzhioV3g",
        "outputId": "fc6f5b24-ebbc-4dc7-d751-33872834e2bc"
      },
      "execution_count": null,
      "outputs": [
        {
          "output_type": "stream",
          "name": "stdout",
          "text": [
            "no fue elif\n"
          ]
        }
      ]
    },
    {
      "cell_type": "markdown",
      "source": [
        "# Funciones"
      ],
      "metadata": {
        "id": "xe-t4pRsMLu7"
      }
    },
    {
      "cell_type": "code",
      "source": [
        "#Funciones\n",
        "def miImpresora(semes,ani,nom):\n",
        "  return (\"soy %s, mi animal es %s y estoy en %s\" %(nom,ani,semes))\n",
        "\n",
        "variable = miImpresora(8,\"Tigre\",\"Felipe Arenas\")\n",
        "print(variable)\n",
        "  "
      ],
      "metadata": {
        "colab": {
          "base_uri": "https://localhost:8080/"
        },
        "id": "YwfcR7etp4jL",
        "outputId": "8506c13b-62d2-41f6-d93d-25a9ec1cbc4e"
      },
      "execution_count": null,
      "outputs": [
        {
          "output_type": "stream",
          "name": "stdout",
          "text": [
            "soy Felipe Arenas, mi animal es Tigre y estoy en 8\n"
          ]
        }
      ]
    },
    {
      "cell_type": "markdown",
      "source": [
        "NUMPY"
      ],
      "metadata": {
        "id": "vv4S9ib6rb7j"
      }
    },
    {
      "cell_type": "markdown",
      "source": [
        "# Numpy\n",
        "Numpy es una librería de python que permite operaciones matriciales, entre otras cosas.\n",
        "Se definen los array numpy, que son distintos a las listas de python. "
      ],
      "metadata": {
        "id": "AtB9OQuoMPJU"
      }
    },
    {
      "cell_type": "code",
      "source": [
        "import numpy as np\n",
        "\n",
        "altura = [1.87,1.70,1.56,1.78]\n",
        "peso = [56,80,67,76]\n",
        "\n",
        "np_altura = np.array(altura)\n",
        "np_peso = np.array(peso)\n",
        "\n",
        "print(type(altura[3]))"
      ],
      "metadata": {
        "colab": {
          "base_uri": "https://localhost:8080/"
        },
        "id": "2TIi7vnarhmU",
        "outputId": "283779ce-67a1-42d7-9139-56a7fb4a5072"
      },
      "execution_count": null,
      "outputs": [
        {
          "output_type": "stream",
          "name": "stdout",
          "text": [
            "<class 'float'>\n"
          ]
        }
      ]
    }
  ],
  "metadata": {
    "colab": {
      "collapsed_sections": [],
      "name": "Repaso Python",
      "provenance": []
    },
    "kernelspec": {
      "display_name": "Python 3",
      "name": "python3"
    }
  },
  "nbformat": 4,
  "nbformat_minor": 0
}