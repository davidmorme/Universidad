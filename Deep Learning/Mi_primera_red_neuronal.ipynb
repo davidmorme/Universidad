{
  "nbformat": 4,
  "nbformat_minor": 0,
  "metadata": {
    "colab": {
      "name": "Mi primera red neuronal.ipynb",
      "provenance": [],
      "collapsed_sections": []
    },
    "kernelspec": {
      "name": "python3",
      "display_name": "Python 3"
    }
  },
  "cells": [
    {
      "cell_type": "markdown",
      "metadata": {
        "id": "ynC72-7Tc6pF"
      },
      "source": [
        "# **Neural networks** - Creando redes con Keras\n",
        "En este notebook se muestra cómo se puede crear una red neuronal con keras."
      ]
    },
    {
      "cell_type": "markdown",
      "metadata": {
        "id": "tCjv7jdkUgTb"
      },
      "source": [
        "## Importar módulos"
      ]
    },
    {
      "cell_type": "code",
      "metadata": {
        "id": "1oNcuLWC5f1j"
      },
      "source": [
        "\n",
        "# Para manejar vectores y hacer operaciones con ellas\n",
        "import numpy as np\n",
        "\n",
        "# Usaremos Keras como API para crear y entrenar nuestra red neuronal\n",
        "import tensorflow as tf\n",
        "from tensorflow import keras\n",
        "from tensorflow.keras import layers\n"
      ],
      "execution_count": 1,
      "outputs": []
    },
    {
      "cell_type": "markdown",
      "source": [
        "**Forma 1.** Se crean las capas a manera de \"stack\" (haciendo uso de los \"()\" y luego se crea el modelo especificando cuál es mi entrada y cuál es mi salida."
      ],
      "metadata": {
        "id": "lEy9HbrQvZQk"
      }
    },
    {
      "cell_type": "code",
      "metadata": {
        "id": "vLOkTi6zbYNT"
      },
      "source": [
        "#Creo mi input\n",
        "inp = keras.Input(shape=(1,), name=\"Input\")\n",
        "#Creo mis demás capas\n",
        "x = layers.Dense(3, activation=None, name=\"hidden1\")(inp)\n",
        "x = layers.Dense(3, activation=None, name=\"hidden2\")(x)\n",
        "x = layers.Dense(3, activation=None, name=\"hidden3\")(x)\n",
        "dense = layers.Dense(1, activation=None, name=\"Output\")(x)\n",
        "\n",
        "#Creo el modelo, especificando input y output\n",
        "model = keras.Model(inputs=inp, outputs=dense, name=\"Toy Regressor\")"
      ],
      "execution_count": 3,
      "outputs": []
    },
    {
      "cell_type": "code",
      "metadata": {
        "id": "FKBN8ptLbYIn",
        "colab": {
          "base_uri": "https://localhost:8080/"
        },
        "outputId": "2b0f2a6f-fb87-43aa-f817-b749596a6e25"
      },
      "source": [
        "model.summary()"
      ],
      "execution_count": 4,
      "outputs": [
        {
          "output_type": "stream",
          "name": "stdout",
          "text": [
            "Model: \"Toy Regressor\"\n",
            "_________________________________________________________________\n",
            " Layer (type)                Output Shape              Param #   \n",
            "=================================================================\n",
            " Input (InputLayer)          [(None, 1)]               0         \n",
            "                                                                 \n",
            " hidden1 (Dense)             (None, 3)                 6         \n",
            "                                                                 \n",
            " hidden2 (Dense)             (None, 3)                 12        \n",
            "                                                                 \n",
            " hidden3 (Dense)             (None, 3)                 12        \n",
            "                                                                 \n",
            " Output (Dense)              (None, 1)                 4         \n",
            "                                                                 \n",
            "=================================================================\n",
            "Total params: 34\n",
            "Trainable params: 34\n",
            "Non-trainable params: 0\n",
            "_________________________________________________________________\n"
          ]
        }
      ]
    },
    {
      "cell_type": "markdown",
      "source": [
        "**Forma 2.** Se crea el modelo primero (Sequential) y luego se van añadiendo las capas con .add(). La capa de input viene de la función Input. La capa de output se entiende que es la última capa que se agrega."
      ],
      "metadata": {
        "id": "2pCltSCLwoyX"
      }
    },
    {
      "cell_type": "code",
      "source": [
        "model = keras.models.Sequential(name=\"Modeeel\")\n",
        "model.add(keras.Input(shape=(1,), name=\"Input\"))\n",
        "model.add(layers.Dense(1, activation=None, name=\"Output\"))"
      ],
      "metadata": {
        "id": "9EXpVAVWkkuo"
      },
      "execution_count": 13,
      "outputs": []
    },
    {
      "cell_type": "code",
      "metadata": {
        "colab": {
          "base_uri": "https://localhost:8080/"
        },
        "outputId": "8cb4f4bf-0da8-45f5-dcc1-48b27941b65f",
        "id": "0gvmnlpxw-Pt"
      },
      "source": [
        "model.summary()"
      ],
      "execution_count": 14,
      "outputs": [
        {
          "output_type": "stream",
          "name": "stdout",
          "text": [
            "Model: \"Modeeel\"\n",
            "_________________________________________________________________\n",
            " Layer (type)                Output Shape              Param #   \n",
            "=================================================================\n",
            " Output (Dense)              (None, 1)                 2         \n",
            "                                                                 \n",
            "=================================================================\n",
            "Total params: 2\n",
            "Trainable params: 2\n",
            "Non-trainable params: 0\n",
            "_________________________________________________________________\n"
          ]
        }
      ]
    },
    {
      "cell_type": "markdown",
      "source": [
        "Luego de que definimos la arquitectura de la red (número de capas y neuronas)."
      ],
      "metadata": {
        "id": "CdWSb_SBxcMI"
      }
    },
    {
      "cell_type": "code",
      "source": [
        "model = keras.models.Sequential()\n",
        "model.add(keras.Input(shape=(3,), name=\"Input\"))\n",
        "model.add(layers.Dense(4, activation='relu', name=\"hidden1\"))\n",
        "model.add(layers.Dense(4, activation='relu', name=\"hidden2\"))\n",
        "model.add(layers.Dense(2, activation='softmax', name=\"Output\"))\n",
        "\n",
        "model.compile(optimizer='adam')\n"
      ],
      "metadata": {
        "id": "gHpVMfPRi6uh"
      },
      "execution_count": 15,
      "outputs": []
    },
    {
      "cell_type": "code",
      "metadata": {
        "colab": {
          "base_uri": "https://localhost:8080/"
        },
        "outputId": "7fd2c21f-5b76-4f57-b52a-74a9da0a6d0c",
        "id": "Wm8jGbN3xBJM"
      },
      "source": [
        "model.summary()"
      ],
      "execution_count": 16,
      "outputs": [
        {
          "output_type": "stream",
          "name": "stdout",
          "text": [
            "Model: \"sequential_5\"\n",
            "_________________________________________________________________\n",
            " Layer (type)                Output Shape              Param #   \n",
            "=================================================================\n",
            " hidden1 (Dense)             (None, 4)                 16        \n",
            "                                                                 \n",
            " hidden2 (Dense)             (None, 4)                 20        \n",
            "                                                                 \n",
            " Output (Dense)              (None, 2)                 10        \n",
            "                                                                 \n",
            "=================================================================\n",
            "Total params: 46\n",
            "Trainable params: 46\n",
            "Non-trainable params: 0\n",
            "_________________________________________________________________\n"
          ]
        }
      ]
    },
    {
      "cell_type": "markdown",
      "source": [
        "Con la función [.compile()](https://keras.io/api/models/model_training_apis/) se definen otros hyperparametros para nuestro modelo. Por ejemplo, el optimizador.\n",
        "También podemos definir el loss y la métrica que queremos que nuestro modelo evalúe. "
      ],
      "metadata": {
        "id": "h8IZBGq3y8WN"
      }
    },
    {
      "cell_type": "code",
      "source": [
        "model.compile(optimizer='rmsprop',\n",
        "              loss='binary_crossentropy',\n",
        "              metrics=['accuracy'])"
      ],
      "metadata": {
        "id": "Ns_pxagHyWWS"
      },
      "execution_count": 17,
      "outputs": []
    },
    {
      "cell_type": "markdown",
      "source": [
        "**Ejemplo de entrenamiento.** Sí con una sola neurona :)"
      ],
      "metadata": {
        "id": "3q4_p8UVxR5m"
      }
    },
    {
      "cell_type": "markdown",
      "source": [
        "Los datos en este ejercicio son datos aleatorios (líneas 5-8) y no tienen ningún otro prósito más que aportar como ejemplo en la función .fit() y así la celda se pueda ejecutar sin error."
      ],
      "metadata": {
        "id": "A_Eav-GfzBBg"
      }
    },
    {
      "cell_type": "code",
      "source": [
        "# generate dummy data\n",
        "import numpy as np\n",
        "data = np.random.random((1000, 784))\n",
        "labels = np.random.randint(2, size=(1000, 1))"
      ],
      "metadata": {
        "id": "WZJOhd600_B_"
      },
      "execution_count": 18,
      "outputs": []
    },
    {
      "cell_type": "markdown",
      "source": [
        "Para empezar a entrenar, usamos la función [.fit](https://keras.io/api/models/model_training_apis/#fit-method) con nuestro modelo. Allí le podemos definir el material de entrenamiento con X (el material que va a entrar a la red) y con Y (las etiquetas correspondientes al dataset, batch size, entre otras características.\n",
        "\n",
        "En esta ocasión solo se entrenó durante una epoch. Se puede ver en el resultado que el modelo alcanzó un accuracy de más o menos 50% con un error cercano a 0.7."
      ],
      "metadata": {
        "id": "UATxQPqvzY_q"
      }
    },
    {
      "cell_type": "code",
      "source": [
        "model = keras.models.Sequential()\n",
        "model.add(layers.Dense(1, input_dim=784, activation='sigmoid'))\n",
        "model.compile(optimizer='rmsprop',\n",
        "              loss='binary_crossentropy',\n",
        "              metrics=['accuracy'])\n",
        "\n",
        "# train the model, iterating on the data in batches\n",
        "# of 32 samples\n",
        "model.fit(x = data, y=labels,  batch_size=32)\n"
      ],
      "metadata": {
        "colab": {
          "base_uri": "https://localhost:8080/"
        },
        "id": "TZsKjafdlwDs",
        "outputId": "69b6cb9a-7373-405c-b9fe-9ad9c1184faf"
      },
      "execution_count": 19,
      "outputs": [
        {
          "output_type": "stream",
          "name": "stdout",
          "text": [
            "32/32 [==============================] - 0s 2ms/step - loss: 0.7302 - accuracy: 0.4820\n"
          ]
        },
        {
          "output_type": "execute_result",
          "data": {
            "text/plain": [
              "<keras.callbacks.History at 0x7faed56b2510>"
            ]
          },
          "metadata": {},
          "execution_count": 19
        }
      ]
    },
    {
      "cell_type": "markdown",
      "source": [
        "Los pasos son:\n",
        "\n",
        "\n",
        "*   Definición de arquitectura del **@modelo**.\n",
        "*   Complilación del modelo y especificaciones de aprendizaje (optimizador y función de coste) con **modelo.compile()**.\n",
        "*   Preparación y separación de datos por material y etiquetas **(X y Y)**\n",
        "*   Ejecución de entrenamiento, especificando el material, las etiquetas y batch size con la función **modelo.fit()**\n",
        "\n",
        "\n",
        "\n"
      ],
      "metadata": {
        "id": "w-Nww9Dq0K4z"
      }
    }
  ]
}