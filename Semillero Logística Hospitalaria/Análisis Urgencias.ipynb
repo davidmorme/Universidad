{
  "nbformat": 4,
  "nbformat_minor": 0,
  "metadata": {
    "kernelspec": {
      "display_name": "Python 3",
      "language": "python",
      "name": "python3"
    },
    "language_info": {
      "codemirror_mode": {
        "name": "ipython",
        "version": 3
      },
      "file_extension": ".py",
      "mimetype": "text/x-python",
      "name": "python",
      "nbconvert_exporter": "python",
      "pygments_lexer": "ipython3",
      "version": "3.8.3"
    },
    "toc": {
      "base_numbering": 1,
      "nav_menu": {},
      "number_sections": true,
      "sideBar": true,
      "skip_h1_title": false,
      "title_cell": "Table of Contents",
      "title_sidebar": "Contents",
      "toc_cell": false,
      "toc_position": {},
      "toc_section_display": true,
      "toc_window_display": false
    },
    "varInspector": {
      "cols": {
        "lenName": 16,
        "lenType": 16,
        "lenVar": 40
      },
      "kernels_config": {
        "python": {
          "delete_cmd_postfix": "",
          "delete_cmd_prefix": "del ",
          "library": "var_list.py",
          "varRefreshCmd": "print(var_dic_list())"
        },
        "r": {
          "delete_cmd_postfix": ") ",
          "delete_cmd_prefix": "rm(",
          "library": "var_list.r",
          "varRefreshCmd": "cat(var_dic_list()) "
        }
      },
      "types_to_exclude": [
        "module",
        "function",
        "builtin_function_or_method",
        "instance",
        "_Feature"
      ],
      "window_display": false
    },
    "colab": {
      "name": "pandas-intro.ipynb",
      "provenance": [],
      "include_colab_link": true
    }
  },
  "cells": [
    {
      "cell_type": "markdown",
      "metadata": {
        "id": "view-in-github",
        "colab_type": "text"
      },
      "source": [
        "<a href=\"https://colab.research.google.com/github/davidmorme/Universidad/blob/main/Semillero%20Log%C3%ADstica%20Hospitalaria/An%C3%A1lisis%20Urgencias.ipynb\" target=\"_parent\"><img src=\"https://colab.research.google.com/assets/colab-badge.svg\" alt=\"Open In Colab\"/></a>"
      ]
    },
    {
      "cell_type": "code",
      "metadata": {
        "ExecuteTime": {
          "end_time": "2020-09-19T17:27:27.848636Z",
          "start_time": "2020-09-19T17:27:27.836951Z"
        },
        "id": "9HEe7IRj0oUG"
      },
      "source": [
        "import pandas as pd\n",
        "import numpy as np\n",
        "import matplotlib.pyplot as plt\n",
        "import seaborn as sns"
      ],
      "execution_count": 17,
      "outputs": []
    },
    {
      "cell_type": "code",
      "metadata": {
        "id": "R9-YeZnWN6Hr"
      },
      "source": [
        "link1='https://raw.githubusercontent.com/davidmorme/Universidad/main/Semillero%20Log%C3%ADstica%20Hospitalaria/Estancia%20media%20seg%C3%BAn%20el%20sexo%2C%20la%20urgencia%20del%20ingreso%20y%20el%20diagn%C3%B3stico%20principal..csv'\n",
        "link2='https://raw.githubusercontent.com/davidmorme/Universidad/main/Semillero%20Log%C3%ADstica%20Hospitalaria/In-Patient%20Discharges%20Mean%20and%20Median%20Length%20of%20Stay%20(Days)%20by%20Principal%20Procedure%2C%20Sex%20and%20Age%20Group%2C%202016.csv'\n",
        "\n",
        "df1=pd.read_csv(link1, sep=';')\n",
        "df2=pd.read_csv(link2, sep=',')"
      ],
      "execution_count": 52,
      "outputs": []
    },
    {
      "cell_type": "code",
      "metadata": {
        "id": "4wJIHtHel3U2",
        "outputId": "5bc202d8-f3e9-4cbb-bc0d-036c43dc8698",
        "colab": {
          "base_uri": "https://localhost:8080/"
        }
      },
      "source": [
        "df1.Total"
      ],
      "execution_count": 53,
      "outputs": [
        {
          "output_type": "execute_result",
          "data": {
            "text/plain": [
              "0       6,66\n",
              "1       5,98\n",
              "2       6,27\n",
              "3       5,69\n",
              "4       7,08\n",
              "        ... \n",
              "1388    7,02\n",
              "1389    6,06\n",
              "1390    8,60\n",
              "1391    9,16\n",
              "1392    8,01\n",
              "Name: Total, Length: 1393, dtype: object"
            ]
          },
          "metadata": {},
          "execution_count": 53
        }
      ]
    },
    {
      "cell_type": "code",
      "metadata": {
        "id": "xCckrBSOlaNl",
        "outputId": "dbe7134d-03f4-4ff6-d3f9-b6de8513907e",
        "colab": {
          "base_uri": "https://localhost:8080/",
          "height": 345
        }
      },
      "source": [
        "Totales=df1['Total'].str.replace(',','.')#.astype('float64')\n",
        "Totales=Totales.str.replace(' ','').astype('float64')\n",
        "Totales"
      ],
      "execution_count": 65,
      "outputs": [
        {
          "output_type": "error",
          "ename": "ValueError",
          "evalue": "ignored",
          "traceback": [
            "\u001b[0;31m---------------------------------------------------------------------------\u001b[0m",
            "\u001b[0;31mValueError\u001b[0m                                Traceback (most recent call last)",
            "\u001b[0;32m<ipython-input-65-679cca36a81a>\u001b[0m in \u001b[0;36m<module>\u001b[0;34m()\u001b[0m\n\u001b[1;32m      1\u001b[0m \u001b[0mTotales\u001b[0m\u001b[0;34m=\u001b[0m\u001b[0mdf1\u001b[0m\u001b[0;34m[\u001b[0m\u001b[0;34m'Total'\u001b[0m\u001b[0;34m]\u001b[0m\u001b[0;34m.\u001b[0m\u001b[0mstr\u001b[0m\u001b[0;34m.\u001b[0m\u001b[0mreplace\u001b[0m\u001b[0;34m(\u001b[0m\u001b[0;34m','\u001b[0m\u001b[0;34m,\u001b[0m\u001b[0;34m'.'\u001b[0m\u001b[0;34m)\u001b[0m\u001b[0;31m#.astype('float64')\u001b[0m\u001b[0;34m\u001b[0m\u001b[0;34m\u001b[0m\u001b[0m\n\u001b[0;32m----> 2\u001b[0;31m \u001b[0mTotales\u001b[0m\u001b[0;34m=\u001b[0m\u001b[0mTotales\u001b[0m\u001b[0;34m.\u001b[0m\u001b[0mstr\u001b[0m\u001b[0;34m.\u001b[0m\u001b[0mreplace\u001b[0m\u001b[0;34m(\u001b[0m\u001b[0;34m' '\u001b[0m\u001b[0;34m,\u001b[0m\u001b[0;34m''\u001b[0m\u001b[0;34m)\u001b[0m\u001b[0;34m.\u001b[0m\u001b[0mastype\u001b[0m\u001b[0;34m(\u001b[0m\u001b[0;34m'float64'\u001b[0m\u001b[0;34m)\u001b[0m\u001b[0;34m\u001b[0m\u001b[0;34m\u001b[0m\u001b[0m\n\u001b[0m\u001b[1;32m      3\u001b[0m \u001b[0mTotales\u001b[0m\u001b[0;34m\u001b[0m\u001b[0;34m\u001b[0m\u001b[0m\n",
            "\u001b[0;32m/usr/local/lib/python3.7/dist-packages/pandas/core/generic.py\u001b[0m in \u001b[0;36mastype\u001b[0;34m(self, dtype, copy, errors)\u001b[0m\n\u001b[1;32m   5546\u001b[0m         \u001b[0;32melse\u001b[0m\u001b[0;34m:\u001b[0m\u001b[0;34m\u001b[0m\u001b[0;34m\u001b[0m\u001b[0m\n\u001b[1;32m   5547\u001b[0m             \u001b[0;31m# else, only a single dtype is given\u001b[0m\u001b[0;34m\u001b[0m\u001b[0;34m\u001b[0m\u001b[0;34m\u001b[0m\u001b[0m\n\u001b[0;32m-> 5548\u001b[0;31m             \u001b[0mnew_data\u001b[0m \u001b[0;34m=\u001b[0m \u001b[0mself\u001b[0m\u001b[0;34m.\u001b[0m\u001b[0m_mgr\u001b[0m\u001b[0;34m.\u001b[0m\u001b[0mastype\u001b[0m\u001b[0;34m(\u001b[0m\u001b[0mdtype\u001b[0m\u001b[0;34m=\u001b[0m\u001b[0mdtype\u001b[0m\u001b[0;34m,\u001b[0m \u001b[0mcopy\u001b[0m\u001b[0;34m=\u001b[0m\u001b[0mcopy\u001b[0m\u001b[0;34m,\u001b[0m \u001b[0merrors\u001b[0m\u001b[0;34m=\u001b[0m\u001b[0merrors\u001b[0m\u001b[0;34m,\u001b[0m\u001b[0;34m)\u001b[0m\u001b[0;34m\u001b[0m\u001b[0;34m\u001b[0m\u001b[0m\n\u001b[0m\u001b[1;32m   5549\u001b[0m             \u001b[0;32mreturn\u001b[0m \u001b[0mself\u001b[0m\u001b[0;34m.\u001b[0m\u001b[0m_constructor\u001b[0m\u001b[0;34m(\u001b[0m\u001b[0mnew_data\u001b[0m\u001b[0;34m)\u001b[0m\u001b[0;34m.\u001b[0m\u001b[0m__finalize__\u001b[0m\u001b[0;34m(\u001b[0m\u001b[0mself\u001b[0m\u001b[0;34m,\u001b[0m \u001b[0mmethod\u001b[0m\u001b[0;34m=\u001b[0m\u001b[0;34m\"astype\"\u001b[0m\u001b[0;34m)\u001b[0m\u001b[0;34m\u001b[0m\u001b[0;34m\u001b[0m\u001b[0m\n\u001b[1;32m   5550\u001b[0m \u001b[0;34m\u001b[0m\u001b[0m\n",
            "\u001b[0;32m/usr/local/lib/python3.7/dist-packages/pandas/core/internals/managers.py\u001b[0m in \u001b[0;36mastype\u001b[0;34m(self, dtype, copy, errors)\u001b[0m\n\u001b[1;32m    602\u001b[0m         \u001b[0mself\u001b[0m\u001b[0;34m,\u001b[0m \u001b[0mdtype\u001b[0m\u001b[0;34m,\u001b[0m \u001b[0mcopy\u001b[0m\u001b[0;34m:\u001b[0m \u001b[0mbool\u001b[0m \u001b[0;34m=\u001b[0m \u001b[0;32mFalse\u001b[0m\u001b[0;34m,\u001b[0m \u001b[0merrors\u001b[0m\u001b[0;34m:\u001b[0m \u001b[0mstr\u001b[0m \u001b[0;34m=\u001b[0m \u001b[0;34m\"raise\"\u001b[0m\u001b[0;34m\u001b[0m\u001b[0;34m\u001b[0m\u001b[0m\n\u001b[1;32m    603\u001b[0m     ) -> \"BlockManager\":\n\u001b[0;32m--> 604\u001b[0;31m         \u001b[0;32mreturn\u001b[0m \u001b[0mself\u001b[0m\u001b[0;34m.\u001b[0m\u001b[0mapply\u001b[0m\u001b[0;34m(\u001b[0m\u001b[0;34m\"astype\"\u001b[0m\u001b[0;34m,\u001b[0m \u001b[0mdtype\u001b[0m\u001b[0;34m=\u001b[0m\u001b[0mdtype\u001b[0m\u001b[0;34m,\u001b[0m \u001b[0mcopy\u001b[0m\u001b[0;34m=\u001b[0m\u001b[0mcopy\u001b[0m\u001b[0;34m,\u001b[0m \u001b[0merrors\u001b[0m\u001b[0;34m=\u001b[0m\u001b[0merrors\u001b[0m\u001b[0;34m)\u001b[0m\u001b[0;34m\u001b[0m\u001b[0;34m\u001b[0m\u001b[0m\n\u001b[0m\u001b[1;32m    605\u001b[0m \u001b[0;34m\u001b[0m\u001b[0m\n\u001b[1;32m    606\u001b[0m     def convert(\n",
            "\u001b[0;32m/usr/local/lib/python3.7/dist-packages/pandas/core/internals/managers.py\u001b[0m in \u001b[0;36mapply\u001b[0;34m(self, f, align_keys, **kwargs)\u001b[0m\n\u001b[1;32m    407\u001b[0m                 \u001b[0mapplied\u001b[0m \u001b[0;34m=\u001b[0m \u001b[0mb\u001b[0m\u001b[0;34m.\u001b[0m\u001b[0mapply\u001b[0m\u001b[0;34m(\u001b[0m\u001b[0mf\u001b[0m\u001b[0;34m,\u001b[0m \u001b[0;34m**\u001b[0m\u001b[0mkwargs\u001b[0m\u001b[0;34m)\u001b[0m\u001b[0;34m\u001b[0m\u001b[0;34m\u001b[0m\u001b[0m\n\u001b[1;32m    408\u001b[0m             \u001b[0;32melse\u001b[0m\u001b[0;34m:\u001b[0m\u001b[0;34m\u001b[0m\u001b[0;34m\u001b[0m\u001b[0m\n\u001b[0;32m--> 409\u001b[0;31m                 \u001b[0mapplied\u001b[0m \u001b[0;34m=\u001b[0m \u001b[0mgetattr\u001b[0m\u001b[0;34m(\u001b[0m\u001b[0mb\u001b[0m\u001b[0;34m,\u001b[0m \u001b[0mf\u001b[0m\u001b[0;34m)\u001b[0m\u001b[0;34m(\u001b[0m\u001b[0;34m**\u001b[0m\u001b[0mkwargs\u001b[0m\u001b[0;34m)\u001b[0m\u001b[0;34m\u001b[0m\u001b[0;34m\u001b[0m\u001b[0m\n\u001b[0m\u001b[1;32m    410\u001b[0m             \u001b[0mresult_blocks\u001b[0m \u001b[0;34m=\u001b[0m \u001b[0m_extend_blocks\u001b[0m\u001b[0;34m(\u001b[0m\u001b[0mapplied\u001b[0m\u001b[0;34m,\u001b[0m \u001b[0mresult_blocks\u001b[0m\u001b[0;34m)\u001b[0m\u001b[0;34m\u001b[0m\u001b[0;34m\u001b[0m\u001b[0m\n\u001b[1;32m    411\u001b[0m \u001b[0;34m\u001b[0m\u001b[0m\n",
            "\u001b[0;32m/usr/local/lib/python3.7/dist-packages/pandas/core/internals/blocks.py\u001b[0m in \u001b[0;36mastype\u001b[0;34m(self, dtype, copy, errors)\u001b[0m\n\u001b[1;32m    593\u001b[0m             \u001b[0mvals1d\u001b[0m \u001b[0;34m=\u001b[0m \u001b[0mvalues\u001b[0m\u001b[0;34m.\u001b[0m\u001b[0mravel\u001b[0m\u001b[0;34m(\u001b[0m\u001b[0;34m)\u001b[0m\u001b[0;34m\u001b[0m\u001b[0;34m\u001b[0m\u001b[0m\n\u001b[1;32m    594\u001b[0m             \u001b[0;32mtry\u001b[0m\u001b[0;34m:\u001b[0m\u001b[0;34m\u001b[0m\u001b[0;34m\u001b[0m\u001b[0m\n\u001b[0;32m--> 595\u001b[0;31m                 \u001b[0mvalues\u001b[0m \u001b[0;34m=\u001b[0m \u001b[0mastype_nansafe\u001b[0m\u001b[0;34m(\u001b[0m\u001b[0mvals1d\u001b[0m\u001b[0;34m,\u001b[0m \u001b[0mdtype\u001b[0m\u001b[0;34m,\u001b[0m \u001b[0mcopy\u001b[0m\u001b[0;34m=\u001b[0m\u001b[0;32mTrue\u001b[0m\u001b[0;34m)\u001b[0m\u001b[0;34m\u001b[0m\u001b[0;34m\u001b[0m\u001b[0m\n\u001b[0m\u001b[1;32m    596\u001b[0m             \u001b[0;32mexcept\u001b[0m \u001b[0;34m(\u001b[0m\u001b[0mValueError\u001b[0m\u001b[0;34m,\u001b[0m \u001b[0mTypeError\u001b[0m\u001b[0;34m)\u001b[0m\u001b[0;34m:\u001b[0m\u001b[0;34m\u001b[0m\u001b[0;34m\u001b[0m\u001b[0m\n\u001b[1;32m    597\u001b[0m                 \u001b[0;31m# e.g. astype_nansafe can fail on object-dtype of strings\u001b[0m\u001b[0;34m\u001b[0m\u001b[0;34m\u001b[0m\u001b[0;34m\u001b[0m\u001b[0m\n",
            "\u001b[0;32m/usr/local/lib/python3.7/dist-packages/pandas/core/dtypes/cast.py\u001b[0m in \u001b[0;36mastype_nansafe\u001b[0;34m(arr, dtype, copy, skipna)\u001b[0m\n\u001b[1;32m    995\u001b[0m     \u001b[0;32mif\u001b[0m \u001b[0mcopy\u001b[0m \u001b[0;32mor\u001b[0m \u001b[0mis_object_dtype\u001b[0m\u001b[0;34m(\u001b[0m\u001b[0marr\u001b[0m\u001b[0;34m)\u001b[0m \u001b[0;32mor\u001b[0m \u001b[0mis_object_dtype\u001b[0m\u001b[0;34m(\u001b[0m\u001b[0mdtype\u001b[0m\u001b[0;34m)\u001b[0m\u001b[0;34m:\u001b[0m\u001b[0;34m\u001b[0m\u001b[0;34m\u001b[0m\u001b[0m\n\u001b[1;32m    996\u001b[0m         \u001b[0;31m# Explicit copy, or required since NumPy can't view from / to object.\u001b[0m\u001b[0;34m\u001b[0m\u001b[0;34m\u001b[0m\u001b[0;34m\u001b[0m\u001b[0m\n\u001b[0;32m--> 997\u001b[0;31m         \u001b[0;32mreturn\u001b[0m \u001b[0marr\u001b[0m\u001b[0;34m.\u001b[0m\u001b[0mastype\u001b[0m\u001b[0;34m(\u001b[0m\u001b[0mdtype\u001b[0m\u001b[0;34m,\u001b[0m \u001b[0mcopy\u001b[0m\u001b[0;34m=\u001b[0m\u001b[0;32mTrue\u001b[0m\u001b[0;34m)\u001b[0m\u001b[0;34m\u001b[0m\u001b[0;34m\u001b[0m\u001b[0m\n\u001b[0m\u001b[1;32m    998\u001b[0m \u001b[0;34m\u001b[0m\u001b[0m\n\u001b[1;32m    999\u001b[0m     \u001b[0;32mreturn\u001b[0m \u001b[0marr\u001b[0m\u001b[0;34m.\u001b[0m\u001b[0mview\u001b[0m\u001b[0;34m(\u001b[0m\u001b[0mdtype\u001b[0m\u001b[0;34m)\u001b[0m\u001b[0;34m\u001b[0m\u001b[0;34m\u001b[0m\u001b[0m\n",
            "\u001b[0;31mValueError\u001b[0m: could not convert string to float: '..'"
          ]
        }
      ]
    },
    {
      "cell_type": "code",
      "metadata": {
        "id": "w6celaAxlIVF",
        "outputId": "1e15b3e9-37df-4870-d4f4-fb039505ed6b",
        "colab": {
          "base_uri": "https://localhost:8080/",
          "height": 429
        }
      },
      "source": [
        "sns.set()\n",
        "sns.set_context(\"paper\")\n",
        "\n",
        "fig, ax= plt.subplots(figsize=(17, 7))\n",
        "\n",
        "ax.hist(df1['Total'])\n",
        "\n",
        "fig.show()"
      ],
      "execution_count": 35,
      "outputs": [
        {
          "output_type": "display_data",
          "data": {
            "image/png": "[encoded data removed]",
            "text/plain": [
              "<Figure size 1224x504 with 1 Axes>"
            ]
          },
          "metadata": {}
        }
      ]
    },
    {
      "cell_type": "code",
      "metadata": {
        "id": "7NqbHVHzhaCM",
        "outputId": "a26b6711-6113-4197-eb89-f7f6c070f9f0",
        "colab": {
          "base_uri": "https://localhost:8080/",
          "height": 429
        }
      },
      "source": [
        "sns.set()\n",
        "sns.set_context(\"paper\")\n",
        "\n",
        "fig, ax= plt.subplots(figsize=(17, 7))\n",
        "\n",
        "ax.bar(df1['Urgencia del ingreso y sexo'],df1['Total'])\n",
        "fig.show()"
      ],
      "execution_count": 34,
      "outputs": [
        {
          "output_type": "display_data",
          "data": {
            "image/png": "[encoded data removed]",
            "text/plain": [
              "<Figure size 1224x504 with 1 Axes>"
            ]
          },
          "metadata": {}
        }
      ]
    },
    {
      "cell_type": "code",
      "metadata": {
        "id": "jYO3scV7hq4q",
        "outputId": "4c066f3a-da59-4240-b809-ac20740886b1",
        "colab": {
          "base_uri": "https://localhost:8080/",
          "height": 860
        }
      },
      "source": [
        "df2"
      ],
      "execution_count": 11,
      "outputs": [
        {
          "output_type": "execute_result",
          "data": {
            "text/html": [
              "<div>\n",
              "<style scoped>\n",
              "    .dataframe tbody tr th:only-of-type {\n",
              "        vertical-align: middle;\n",
              "    }\n",
              "\n",
              "    .dataframe tbody tr th {\n",
              "        vertical-align: top;\n",
              "    }\n",
              "\n",
              "    .dataframe thead th {\n",
              "        text-align: right;\n",
              "    }\n",
              "</style>\n",
              "<table border=\"1\" class=\"dataframe\">\n",
              "  <thead>\n",
              "    <tr style=\"text-align: right;\">\n",
              "      <th></th>\n",
              "      <th>Title</th>\n",
              "      <th>Category</th>\n",
              "      <th>Total In-Patient Discharges</th>\n",
              "      <th>Total In-Patient Discharges .1</th>\n",
              "      <th>Total In-Patient Discharges .2</th>\n",
              "      <th>Total In-Patient Discharges .3</th>\n",
              "      <th>Total In-Patient Discharges .4</th>\n",
              "      <th>Total In-Patient Discharges .5</th>\n",
              "      <th>Total In-Patient Discharges .6</th>\n",
              "      <th>Total In-Patient Discharges .7</th>\n",
              "      <th>Total In-Patient Discharges .8</th>\n",
              "      <th>Total In-Patient Discharges .9</th>\n",
              "      <th>Total In-Patient Discharges .10</th>\n",
              "      <th>Total In-Patient Discharges .11</th>\n",
              "      <th>Total In-Patient Discharges .12</th>\n",
              "      <th>Total In-Patient Discharges .13</th>\n",
              "      <th>Total In-Patient Discharges .14</th>\n",
              "    </tr>\n",
              "  </thead>\n",
              "  <tbody>\n",
              "    <tr>\n",
              "      <th>0</th>\n",
              "      <td>Title</td>\n",
              "      <td>Category</td>\n",
              "      <td>Male</td>\n",
              "      <td>Male</td>\n",
              "      <td>Male</td>\n",
              "      <td>Male</td>\n",
              "      <td>Male</td>\n",
              "      <td>Female</td>\n",
              "      <td>Female</td>\n",
              "      <td>Female</td>\n",
              "      <td>Female</td>\n",
              "      <td>Female</td>\n",
              "      <td>Total In-Patient Discharges</td>\n",
              "      <td>Total In-Patient Discharges</td>\n",
              "      <td>Total In-Patient Discharges</td>\n",
              "      <td>Total In-Patient Discharges</td>\n",
              "      <td>Total In-Patient Discharges</td>\n",
              "    </tr>\n",
              "    <tr>\n",
              "      <th>1</th>\n",
              "      <td>Procedure Block</td>\n",
              "      <td>NaN</td>\n",
              "      <td>&lt; 15</td>\n",
              "      <td>15–44</td>\n",
              "      <td>45–64</td>\n",
              "      <td>65 years and over</td>\n",
              "      <td>Total</td>\n",
              "      <td>&lt; 15</td>\n",
              "      <td>15–44</td>\n",
              "      <td>45–64</td>\n",
              "      <td>65 years and over</td>\n",
              "      <td>Total</td>\n",
              "      <td>&lt; 15</td>\n",
              "      <td>15–44</td>\n",
              "      <td>45–64</td>\n",
              "      <td>65 years and over</td>\n",
              "      <td>Total</td>\n",
              "    </tr>\n",
              "    <tr>\n",
              "      <th>2</th>\n",
              "      <td>Total In-Patient Discharges</td>\n",
              "      <td>Mean</td>\n",
              "      <td>3.4</td>\n",
              "      <td>3.9</td>\n",
              "      <td>6</td>\n",
              "      <td>9.2</td>\n",
              "      <td>6.4</td>\n",
              "      <td>3.4</td>\n",
              "      <td>2.9</td>\n",
              "      <td>5.2</td>\n",
              "      <td>9.8</td>\n",
              "      <td>5.2</td>\n",
              "      <td>3.4</td>\n",
              "      <td>3.1</td>\n",
              "      <td>5.6</td>\n",
              "      <td>9.5</td>\n",
              "      <td>5.7</td>\n",
              "    </tr>\n",
              "    <tr>\n",
              "      <th>3</th>\n",
              "      <td>Total In-Patient Discharges</td>\n",
              "      <td>Median</td>\n",
              "      <td>1</td>\n",
              "      <td>1</td>\n",
              "      <td>2</td>\n",
              "      <td>4</td>\n",
              "      <td>2</td>\n",
              "      <td>2</td>\n",
              "      <td>2</td>\n",
              "      <td>2</td>\n",
              "      <td>5</td>\n",
              "      <td>2</td>\n",
              "      <td>1</td>\n",
              "      <td>2</td>\n",
              "      <td>2</td>\n",
              "      <td>5</td>\n",
              "      <td>2</td>\n",
              "    </tr>\n",
              "    <tr>\n",
              "      <th>4</th>\n",
              "      <td>All Principal Procedures 0001–2016</td>\n",
              "      <td>Mean</td>\n",
              "      <td>5.4</td>\n",
              "      <td>5.7</td>\n",
              "      <td>8.5</td>\n",
              "      <td>12.2</td>\n",
              "      <td>9.2</td>\n",
              "      <td>5.6</td>\n",
              "      <td>3.9</td>\n",
              "      <td>7.4</td>\n",
              "      <td>13.1</td>\n",
              "      <td>7.6</td>\n",
              "      <td>5.5</td>\n",
              "      <td>4.3</td>\n",
              "      <td>8</td>\n",
              "      <td>12.7</td>\n",
              "      <td>8.3</td>\n",
              "    </tr>\n",
              "    <tr>\n",
              "      <th>...</th>\n",
              "      <td>...</td>\n",
              "      <td>...</td>\n",
              "      <td>...</td>\n",
              "      <td>...</td>\n",
              "      <td>...</td>\n",
              "      <td>...</td>\n",
              "      <td>...</td>\n",
              "      <td>...</td>\n",
              "      <td>...</td>\n",
              "      <td>...</td>\n",
              "      <td>...</td>\n",
              "      <td>...</td>\n",
              "      <td>...</td>\n",
              "      <td>...</td>\n",
              "      <td>...</td>\n",
              "      <td>...</td>\n",
              "      <td>...</td>\n",
              "    </tr>\n",
              "    <tr>\n",
              "      <th>133</th>\n",
              "      <td>Imaging services 1940–2016</td>\n",
              "      <td>Median</td>\n",
              "      <td>1</td>\n",
              "      <td>4</td>\n",
              "      <td>5</td>\n",
              "      <td>7</td>\n",
              "      <td>4</td>\n",
              "      <td>2</td>\n",
              "      <td>3</td>\n",
              "      <td>5</td>\n",
              "      <td>7</td>\n",
              "      <td>5</td>\n",
              "      <td>1</td>\n",
              "      <td>3</td>\n",
              "      <td>5</td>\n",
              "      <td>7</td>\n",
              "      <td>4</td>\n",
              "    </tr>\n",
              "    <tr>\n",
              "      <th>134</th>\n",
              "      <td>Computerised tomography scan 1952-1966</td>\n",
              "      <td>Mean</td>\n",
              "      <td>4.6</td>\n",
              "      <td>11.7</td>\n",
              "      <td>6.7</td>\n",
              "      <td>8.9</td>\n",
              "      <td>8.3</td>\n",
              "      <td>7.2</td>\n",
              "      <td>1.5</td>\n",
              "      <td>2.1</td>\n",
              "      <td>5.9</td>\n",
              "      <td>4.3</td>\n",
              "      <td>6</td>\n",
              "      <td>6.2</td>\n",
              "      <td>4.4</td>\n",
              "      <td>7.3</td>\n",
              "      <td>6.2</td>\n",
              "    </tr>\n",
              "    <tr>\n",
              "      <th>135</th>\n",
              "      <td>Computerised tomography scan 1952-1966</td>\n",
              "      <td>Median</td>\n",
              "      <td>1</td>\n",
              "      <td>1</td>\n",
              "      <td>1</td>\n",
              "      <td>1</td>\n",
              "      <td>1</td>\n",
              "      <td>3</td>\n",
              "      <td>1</td>\n",
              "      <td>1</td>\n",
              "      <td>1</td>\n",
              "      <td>1</td>\n",
              "      <td>2</td>\n",
              "      <td>1</td>\n",
              "      <td>1</td>\n",
              "      <td>1</td>\n",
              "      <td>1</td>\n",
              "    </tr>\n",
              "    <tr>\n",
              "      <th>136</th>\n",
              "      <td>Magnetic resonance imaging 2015</td>\n",
              "      <td>Mean</td>\n",
              "      <td>6.7</td>\n",
              "      <td>10</td>\n",
              "      <td>6.9</td>\n",
              "      <td>22.2</td>\n",
              "      <td>7.8</td>\n",
              "      <td>6.9</td>\n",
              "      <td>5.2</td>\n",
              "      <td>15.9</td>\n",
              "      <td>11.1</td>\n",
              "      <td>8</td>\n",
              "      <td>6.8</td>\n",
              "      <td>7.6</td>\n",
              "      <td>12</td>\n",
              "      <td>14.9</td>\n",
              "      <td>7.9</td>\n",
              "    </tr>\n",
              "    <tr>\n",
              "      <th>137</th>\n",
              "      <td>Magnetic resonance imaging 2015</td>\n",
              "      <td>Median</td>\n",
              "      <td>1</td>\n",
              "      <td>2</td>\n",
              "      <td>3</td>\n",
              "      <td>10</td>\n",
              "      <td>1</td>\n",
              "      <td>3</td>\n",
              "      <td>1</td>\n",
              "      <td>3</td>\n",
              "      <td>5</td>\n",
              "      <td>3</td>\n",
              "      <td>2</td>\n",
              "      <td>1</td>\n",
              "      <td>3</td>\n",
              "      <td>6</td>\n",
              "      <td>2</td>\n",
              "    </tr>\n",
              "  </tbody>\n",
              "</table>\n",
              "<p>138 rows × 17 columns</p>\n",
              "</div>"
            ],
            "text/plain": [
              "                                      Title  ... Total In-Patient Discharges .14\n",
              "0                                     Title  ...    Total In-Patient Discharges \n",
              "1                           Procedure Block  ...                           Total\n",
              "2               Total In-Patient Discharges  ...                             5.7\n",
              "3               Total In-Patient Discharges  ...                               2\n",
              "4        All Principal Procedures 0001–2016  ...                             8.3\n",
              "..                                      ...  ...                             ...\n",
              "133              Imaging services 1940–2016  ...                               4\n",
              "134  Computerised tomography scan 1952-1966  ...                             6.2\n",
              "135  Computerised tomography scan 1952-1966  ...                               1\n",
              "136         Magnetic resonance imaging 2015  ...                             7.9\n",
              "137         Magnetic resonance imaging 2015  ...                               2\n",
              "\n",
              "[138 rows x 17 columns]"
            ]
          },
          "metadata": {},
          "execution_count": 11
        }
      ]
    },
    {
      "cell_type": "markdown",
      "metadata": {
        "id": "n2gM_GtY0oUG"
      },
      "source": [
        "## Series\n",
        "A series is a convenient container for one-dimensional arrays, which can use descriptive name for indexing and allows for quick access to some descriptive statistics."
      ]
    },
    {
      "cell_type": "code",
      "metadata": {
        "ExecuteTime": {
          "end_time": "2020-09-19T17:29:07.177622Z",
          "start_time": "2020-09-19T17:29:07.163844Z"
        },
        "id": "d1a4QTXD0oUH",
        "outputId": "7495b6d7-5a61-473e-f62f-ffd020fc949b"
      },
      "source": [
        "import pandas as pd\n",
        "import numpy as np\n",
        "import matplotlib.pyplot as plt\n",
        "\n",
        "datalist = [909976, 8615246, 2872086, 2273305]\n",
        "print(f\"{datalist = }\")\n",
        "s = pd.Series(datalist)\n",
        "print(s)"
      ],
      "execution_count": null,
      "outputs": [
        {
          "name": "stdout",
          "output_type": "stream",
          "text": [
            "datalist = [909976, 8615246, 2872086, 2273305]\n",
            "0     909976\n",
            "1    8615246\n",
            "2    2872086\n",
            "3    2273305\n",
            "dtype: int64\n"
          ]
        }
      ]
    },
    {
      "cell_type": "markdown",
      "metadata": {
        "id": "AVBh6EPN0oUI"
      },
      "source": [
        "The indexes are, by default, of dtype int64. You can access them directly (or by values) as follows"
      ]
    },
    {
      "cell_type": "code",
      "metadata": {
        "ExecuteTime": {
          "end_time": "2020-09-14T20:12:14.069846Z",
          "start_time": "2020-09-14T20:12:14.044633Z"
        },
        "id": "M9HufKmu0oUI",
        "outputId": "c2bbf8b4-0970-4130-bcf0-f45ba2182201"
      },
      "source": [
        "print(s.index)\n",
        "print(s.values)"
      ],
      "execution_count": null,
      "outputs": [
        {
          "name": "stdout",
          "output_type": "stream",
          "text": [
            "RangeIndex(start=0, stop=4, step=1)\n",
            "[ 909976 8615246 2872086 2273305]\n"
          ]
        }
      ]
    },
    {
      "cell_type": "markdown",
      "metadata": {
        "id": "8oHP7gPm0oUJ"
      },
      "source": [
        "You can change the index to something more descriptive. In this case, those numbers represent the population on a given city, so it would be much more descriptive to use the city name as index:"
      ]
    },
    {
      "cell_type": "code",
      "metadata": {
        "ExecuteTime": {
          "end_time": "2020-09-19T17:32:00.776607Z",
          "start_time": "2020-09-19T17:32:00.757394Z"
        },
        "id": "wT0CUGCW0oUK",
        "outputId": "aed6694f-0031-4d9b-86bc-67dce0723707"
      },
      "source": [
        "s.index = [\"Stockholm\", \"London\", \"Rome\", \"Paris\"]\n",
        "s.name = \"Population\"\n",
        "print(s)"
      ],
      "execution_count": null,
      "outputs": [
        {
          "name": "stdout",
          "output_type": "stream",
          "text": [
            "Stockholm     909976\n",
            "London       8615246\n",
            "Rome         2872086\n",
            "Paris        2273305\n",
            "Name: Population, dtype: int64\n"
          ]
        }
      ]
    },
    {
      "cell_type": "markdown",
      "metadata": {
        "id": "e1F7uial0oUL"
      },
      "source": [
        "And you can access to the data directly"
      ]
    },
    {
      "cell_type": "code",
      "metadata": {
        "ExecuteTime": {
          "end_time": "2020-09-19T17:32:48.435104Z",
          "start_time": "2020-09-19T17:32:48.413173Z"
        },
        "id": "f1B2GQ7z0oUM",
        "outputId": "5c469cbe-b0a8-40bf-f8e4-f82dd7ed61bc"
      },
      "source": [
        "print(s[\"London\"])\n",
        "print(s.Stockholm)"
      ],
      "execution_count": null,
      "outputs": [
        {
          "name": "stdout",
          "output_type": "stream",
          "text": [
            "8615246\n",
            "909976\n"
          ]
        }
      ]
    },
    {
      "cell_type": "markdown",
      "metadata": {
        "id": "q7NEWKMU0oUN"
      },
      "source": [
        "You can use several indexes to generate a sub-series:"
      ]
    },
    {
      "cell_type": "code",
      "metadata": {
        "ExecuteTime": {
          "end_time": "2020-09-19T17:33:36.033951Z",
          "start_time": "2020-09-19T17:33:36.011674Z"
        },
        "id": "bEGv537D0oUN",
        "outputId": "b70262f4-0868-43da-da96-b40e82b32b71"
      },
      "source": [
        "t = s[[\"Paris\", \"Rome\"]]\n",
        "print(t)"
      ],
      "execution_count": null,
      "outputs": [
        {
          "name": "stdout",
          "output_type": "stream",
          "text": [
            "Paris    2273305\n",
            "Rome     2872086\n",
            "Name: Population, dtype: int64\n"
          ]
        }
      ]
    },
    {
      "cell_type": "markdown",
      "metadata": {
        "id": "sXNTbKwx0oUO"
      },
      "source": [
        "You can access basic statistics at a hand:"
      ]
    },
    {
      "cell_type": "code",
      "metadata": {
        "ExecuteTime": {
          "end_time": "2020-09-19T17:34:13.949418Z",
          "start_time": "2020-09-19T17:34:13.866811Z"
        },
        "id": "Cg7bN7rD0oUO",
        "outputId": "6c8ad64a-5a4f-4a81-d00f-c22a39a62206"
      },
      "source": [
        "s.mean(), s.std(), s.median(), s.quantile(0.5)"
      ],
      "execution_count": null,
      "outputs": [
        {
          "data": {
            "text/plain": [
              "(3667653.25, 3399048.5005155364, 2572695.5, 2572695.5)"
            ]
          },
          "execution_count": 10,
          "metadata": {},
          "output_type": "execute_result"
        }
      ]
    },
    {
      "cell_type": "code",
      "metadata": {
        "ExecuteTime": {
          "end_time": "2020-09-19T17:35:16.781095Z",
          "start_time": "2020-09-19T17:35:16.754442Z"
        },
        "id": "N6yMQV1W0oUO",
        "outputId": "1697db50-97d2-48dd-d40c-c427d088b11a"
      },
      "source": [
        "s.describe()"
      ],
      "execution_count": null,
      "outputs": [
        {
          "data": {
            "text/plain": [
              "count    4.000000e+00\n",
              "mean     3.667653e+06\n",
              "std      3.399049e+06\n",
              "min      9.099760e+05\n",
              "25%      1.932473e+06\n",
              "50%      2.572696e+06\n",
              "75%      4.307876e+06\n",
              "max      8.615246e+06\n",
              "Name: Population, dtype: float64"
            ]
          },
          "execution_count": 11,
          "metadata": {},
          "output_type": "execute_result"
        }
      ]
    },
    {
      "cell_type": "markdown",
      "metadata": {
        "id": "cskDlNpG0oUP"
      },
      "source": [
        "And you can also plot easily, "
      ]
    },
    {
      "cell_type": "code",
      "metadata": {
        "ExecuteTime": {
          "end_time": "2020-09-19T17:36:27.018419Z",
          "start_time": "2020-09-19T17:36:25.961623Z"
        },
        "id": "wo0j3MPe0oUP",
        "outputId": "c1ff413d-49ed-4474-bb7d-66aafdefd9ea"
      },
      "source": [
        "fig, axes = plt.subplots(1, 3, figsize=(12, 3))\n",
        "s.plot(ax=axes[0], kind='line', title='line')\n",
        "s.plot(ax=axes[1], kind='bar', title='bar')\n",
        "s.plot(ax=axes[2], kind='pie', title='pie')\n",
        "fig.savefig(\"fig.pdf\", bbox_inches='tight')"
      ],
      "execution_count": null,
      "outputs": [
        {
          "data": {
            "image/png": "[encoded data removed]",
            "text/plain": [
              "<Figure size 864x216 with 3 Axes>"
            ]
          },
          "metadata": {
            "needs_background": "light"
          },
          "output_type": "display_data"
        }
      ]
    },
    {
      "cell_type": "markdown",
      "metadata": {
        "id": "h6cI6pjr0oUQ"
      },
      "source": [
        "## Dataframe\n",
        "The dataframe is the most important object inside pandas. It allows to represent, access, process, etc multi-dimensional data. \n",
        "\n",
        "![Pandas dataframe](https://www.w3resource.com/w3r_images/pandas-data-structure.svg)\n",
        "Source: https://www.w3resource.com/python-exercises/pandas/index.php\n",
        "\n",
        "![Pandas dataframe example](https://miro.medium.com/max/1400/1*ZSehcrMtBWN7_qCWq_HiSg.png)\n",
        "Source: https://medium.com/dunder-data/selecting-subsets-of-data-in-pandas-6fcd0170be9c\n",
        "\n",
        "You can initialize a dataframe in several ways. For example, you can use a dictionary or a nested list. For example, you can do something like"
      ]
    },
    {
      "cell_type": "code",
      "metadata": {
        "ExecuteTime": {
          "end_time": "2020-09-19T17:43:49.679426Z",
          "start_time": "2020-09-19T17:43:49.652487Z"
        },
        "id": "7whLQTEn0oUQ",
        "outputId": "eb132b96-8fb2-48e8-886b-d51ad4fb6da0"
      },
      "source": [
        "import pandas as pd\n",
        "import numpy as np\n",
        "import matplotlib.pyplot as plt\n",
        "\n",
        "df = pd.DataFrame([[909976, \"Sweden\"],\n",
        "                   [8615246, \"United Kingdom\"],\n",
        "                   [2872086, \"Italy\"],\n",
        "                   [2273305, \"France\"],\n",
        "                   [344444, np.nan]])\n",
        "df"
      ],
      "execution_count": null,
      "outputs": [
        {
          "data": {
            "text/html": [
              "<div>\n",
              "<style scoped>\n",
              "    .dataframe tbody tr th:only-of-type {\n",
              "        vertical-align: middle;\n",
              "    }\n",
              "\n",
              "    .dataframe tbody tr th {\n",
              "        vertical-align: top;\n",
              "    }\n",
              "\n",
              "    .dataframe thead th {\n",
              "        text-align: right;\n",
              "    }\n",
              "</style>\n",
              "<table border=\"1\" class=\"dataframe\">\n",
              "  <thead>\n",
              "    <tr style=\"text-align: right;\">\n",
              "      <th></th>\n",
              "      <th>0</th>\n",
              "      <th>1</th>\n",
              "    </tr>\n",
              "  </thead>\n",
              "  <tbody>\n",
              "    <tr>\n",
              "      <th>0</th>\n",
              "      <td>909976</td>\n",
              "      <td>Sweden</td>\n",
              "    </tr>\n",
              "    <tr>\n",
              "      <th>1</th>\n",
              "      <td>8615246</td>\n",
              "      <td>United Kingdom</td>\n",
              "    </tr>\n",
              "    <tr>\n",
              "      <th>2</th>\n",
              "      <td>2872086</td>\n",
              "      <td>Italy</td>\n",
              "    </tr>\n",
              "    <tr>\n",
              "      <th>3</th>\n",
              "      <td>2273305</td>\n",
              "      <td>France</td>\n",
              "    </tr>\n",
              "    <tr>\n",
              "      <th>4</th>\n",
              "      <td>344444</td>\n",
              "      <td>NaN</td>\n",
              "    </tr>\n",
              "  </tbody>\n",
              "</table>\n",
              "</div>"
            ],
            "text/plain": [
              "         0               1\n",
              "0   909976          Sweden\n",
              "1  8615246  United Kingdom\n",
              "2  2872086           Italy\n",
              "3  2273305          France\n",
              "4   344444             NaN"
            ]
          },
          "execution_count": 13,
          "metadata": {},
          "output_type": "execute_result"
        }
      ]
    },
    {
      "cell_type": "code",
      "metadata": {
        "ExecuteTime": {
          "end_time": "2020-09-19T17:46:47.690729Z",
          "start_time": "2020-09-19T17:46:47.655049Z"
        },
        "id": "spEPBkqs0oUS",
        "outputId": "361e5973-d907-4c30-ee82-053550e1a937"
      },
      "source": [
        "dftemp = df.dropna()\n",
        "dftemp"
      ],
      "execution_count": null,
      "outputs": [
        {
          "data": {
            "text/html": [
              "<div>\n",
              "<style scoped>\n",
              "    .dataframe tbody tr th:only-of-type {\n",
              "        vertical-align: middle;\n",
              "    }\n",
              "\n",
              "    .dataframe tbody tr th {\n",
              "        vertical-align: top;\n",
              "    }\n",
              "\n",
              "    .dataframe thead th {\n",
              "        text-align: right;\n",
              "    }\n",
              "</style>\n",
              "<table border=\"1\" class=\"dataframe\">\n",
              "  <thead>\n",
              "    <tr style=\"text-align: right;\">\n",
              "      <th></th>\n",
              "      <th>0</th>\n",
              "      <th>1</th>\n",
              "    </tr>\n",
              "  </thead>\n",
              "  <tbody>\n",
              "    <tr>\n",
              "      <th>0</th>\n",
              "      <td>909976</td>\n",
              "      <td>Sweden</td>\n",
              "    </tr>\n",
              "    <tr>\n",
              "      <th>1</th>\n",
              "      <td>8615246</td>\n",
              "      <td>United Kingdom</td>\n",
              "    </tr>\n",
              "    <tr>\n",
              "      <th>2</th>\n",
              "      <td>2872086</td>\n",
              "      <td>Italy</td>\n",
              "    </tr>\n",
              "    <tr>\n",
              "      <th>3</th>\n",
              "      <td>2273305</td>\n",
              "      <td>France</td>\n",
              "    </tr>\n",
              "  </tbody>\n",
              "</table>\n",
              "</div>"
            ],
            "text/plain": [
              "         0               1\n",
              "0   909976          Sweden\n",
              "1  8615246  United Kingdom\n",
              "2  2872086           Italy\n",
              "3  2273305          France"
            ]
          },
          "execution_count": 17,
          "metadata": {},
          "output_type": "execute_result"
        }
      ]
    },
    {
      "cell_type": "code",
      "metadata": {
        "ExecuteTime": {
          "end_time": "2020-09-19T17:45:22.121869Z",
          "start_time": "2020-09-19T17:45:22.091500Z"
        },
        "id": "HRX4bsKC0oUT",
        "outputId": "4571e37d-c6d8-47e6-aad7-569b5d826604"
      },
      "source": [
        "df.fillna(\"Unknown\")"
      ],
      "execution_count": null,
      "outputs": [
        {
          "data": {
            "text/html": [
              "<div>\n",
              "<style scoped>\n",
              "    .dataframe tbody tr th:only-of-type {\n",
              "        vertical-align: middle;\n",
              "    }\n",
              "\n",
              "    .dataframe tbody tr th {\n",
              "        vertical-align: top;\n",
              "    }\n",
              "\n",
              "    .dataframe thead th {\n",
              "        text-align: right;\n",
              "    }\n",
              "</style>\n",
              "<table border=\"1\" class=\"dataframe\">\n",
              "  <thead>\n",
              "    <tr style=\"text-align: right;\">\n",
              "      <th></th>\n",
              "      <th>0</th>\n",
              "      <th>1</th>\n",
              "    </tr>\n",
              "  </thead>\n",
              "  <tbody>\n",
              "    <tr>\n",
              "      <th>0</th>\n",
              "      <td>909976</td>\n",
              "      <td>Sweden</td>\n",
              "    </tr>\n",
              "    <tr>\n",
              "      <th>1</th>\n",
              "      <td>8615246</td>\n",
              "      <td>United Kingdom</td>\n",
              "    </tr>\n",
              "    <tr>\n",
              "      <th>2</th>\n",
              "      <td>2872086</td>\n",
              "      <td>Italy</td>\n",
              "    </tr>\n",
              "    <tr>\n",
              "      <th>3</th>\n",
              "      <td>2273305</td>\n",
              "      <td>France</td>\n",
              "    </tr>\n",
              "    <tr>\n",
              "      <th>4</th>\n",
              "      <td>344444</td>\n",
              "      <td>Unknown</td>\n",
              "    </tr>\n",
              "  </tbody>\n",
              "</table>\n",
              "</div>"
            ],
            "text/plain": [
              "         0               1\n",
              "0   909976          Sweden\n",
              "1  8615246  United Kingdom\n",
              "2  2872086           Italy\n",
              "3  2273305          France\n",
              "4   344444         Unknown"
            ]
          },
          "execution_count": 15,
          "metadata": {},
          "output_type": "execute_result"
        }
      ]
    },
    {
      "cell_type": "code",
      "metadata": {
        "ExecuteTime": {
          "end_time": "2020-09-19T17:45:54.003021Z",
          "start_time": "2020-09-19T17:45:53.974952Z"
        },
        "id": "vn4avG3x0oUT",
        "outputId": "54b31eb0-6ab3-44a9-a276-313b9aff128a"
      },
      "source": [
        "df = df.dropna()\n",
        "df"
      ],
      "execution_count": null,
      "outputs": [
        {
          "data": {
            "text/html": [
              "<div>\n",
              "<style scoped>\n",
              "    .dataframe tbody tr th:only-of-type {\n",
              "        vertical-align: middle;\n",
              "    }\n",
              "\n",
              "    .dataframe tbody tr th {\n",
              "        vertical-align: top;\n",
              "    }\n",
              "\n",
              "    .dataframe thead th {\n",
              "        text-align: right;\n",
              "    }\n",
              "</style>\n",
              "<table border=\"1\" class=\"dataframe\">\n",
              "  <thead>\n",
              "    <tr style=\"text-align: right;\">\n",
              "      <th></th>\n",
              "      <th>0</th>\n",
              "      <th>1</th>\n",
              "    </tr>\n",
              "  </thead>\n",
              "  <tbody>\n",
              "    <tr>\n",
              "      <th>0</th>\n",
              "      <td>909976</td>\n",
              "      <td>Sweden</td>\n",
              "    </tr>\n",
              "    <tr>\n",
              "      <th>1</th>\n",
              "      <td>8615246</td>\n",
              "      <td>United Kingdom</td>\n",
              "    </tr>\n",
              "    <tr>\n",
              "      <th>2</th>\n",
              "      <td>2872086</td>\n",
              "      <td>Italy</td>\n",
              "    </tr>\n",
              "    <tr>\n",
              "      <th>3</th>\n",
              "      <td>2273305</td>\n",
              "      <td>France</td>\n",
              "    </tr>\n",
              "  </tbody>\n",
              "</table>\n",
              "</div>"
            ],
            "text/plain": [
              "         0               1\n",
              "0   909976          Sweden\n",
              "1  8615246  United Kingdom\n",
              "2  2872086           Italy\n",
              "3  2273305          France"
            ]
          },
          "execution_count": 16,
          "metadata": {},
          "output_type": "execute_result"
        }
      ]
    },
    {
      "cell_type": "code",
      "metadata": {
        "ExecuteTime": {
          "end_time": "2020-09-19T17:50:34.343986Z",
          "start_time": "2020-09-19T17:50:34.323691Z"
        },
        "id": "-dbAT6YM0oUT",
        "outputId": "8db3b9bd-bd7b-4cd2-c35e-75da4f844697"
      },
      "source": [
        "#indexes = [\"A\"+str(i) for i in range(1,5)]\n",
        "df.index = indexes \n",
        "df.index = [\"Stockholm\", \"London\", \"Rome\", \"Paris\"]\n",
        "df.columns = [\"Population\", \"State\"]\n",
        "df"
      ],
      "execution_count": null,
      "outputs": [
        {
          "data": {
            "text/html": [
              "<div>\n",
              "<style scoped>\n",
              "    .dataframe tbody tr th:only-of-type {\n",
              "        vertical-align: middle;\n",
              "    }\n",
              "\n",
              "    .dataframe tbody tr th {\n",
              "        vertical-align: top;\n",
              "    }\n",
              "\n",
              "    .dataframe thead th {\n",
              "        text-align: right;\n",
              "    }\n",
              "</style>\n",
              "<table border=\"1\" class=\"dataframe\">\n",
              "  <thead>\n",
              "    <tr style=\"text-align: right;\">\n",
              "      <th></th>\n",
              "      <th>Population</th>\n",
              "      <th>State</th>\n",
              "    </tr>\n",
              "  </thead>\n",
              "  <tbody>\n",
              "    <tr>\n",
              "      <th>Stockholm</th>\n",
              "      <td>909976</td>\n",
              "      <td>Sweden</td>\n",
              "    </tr>\n",
              "    <tr>\n",
              "      <th>London</th>\n",
              "      <td>8615246</td>\n",
              "      <td>United Kingdom</td>\n",
              "    </tr>\n",
              "    <tr>\n",
              "      <th>Rome</th>\n",
              "      <td>2872086</td>\n",
              "      <td>Italy</td>\n",
              "    </tr>\n",
              "    <tr>\n",
              "      <th>Paris</th>\n",
              "      <td>2273305</td>\n",
              "      <td>France</td>\n",
              "    </tr>\n",
              "  </tbody>\n",
              "</table>\n",
              "</div>"
            ],
            "text/plain": [
              "           Population           State\n",
              "Stockholm      909976          Sweden\n",
              "London        8615246  United Kingdom\n",
              "Rome          2872086           Italy\n",
              "Paris         2273305          France"
            ]
          },
          "execution_count": 22,
          "metadata": {},
          "output_type": "execute_result"
        }
      ]
    },
    {
      "cell_type": "code",
      "metadata": {
        "ExecuteTime": {
          "end_time": "2020-09-14T20:31:38.236021Z",
          "start_time": "2020-09-14T20:31:38.206369Z"
        },
        "id": "mZwwVJd-0oUU",
        "outputId": "552a3676-c360-4200-8562-9dc31fad4d43"
      },
      "source": [
        "df.Population"
      ],
      "execution_count": null,
      "outputs": [
        {
          "data": {
            "text/plain": [
              "Stockholm     909976\n",
              "London       8615246\n",
              "Rome         2872086\n",
              "Paris        2273305\n",
              "Name: Population, dtype: int64"
            ]
          },
          "execution_count": 27,
          "metadata": {},
          "output_type": "execute_result"
        }
      ]
    },
    {
      "cell_type": "code",
      "metadata": {
        "ExecuteTime": {
          "end_time": "2020-08-28T21:42:09.665158Z",
          "start_time": "2020-08-28T21:42:09.638297Z"
        },
        "id": "qiGFuNjm0oUU",
        "outputId": "f07c8d1a-be49-45dd-bb9a-94b950d80d3b"
      },
      "source": [
        "df.State"
      ],
      "execution_count": null,
      "outputs": [
        {
          "data": {
            "text/plain": [
              "Stockholm            Sweden\n",
              "London       United Kingdom\n",
              "Rome                  Italy\n",
              "Paris                France\n",
              "Name: State, dtype: object"
            ]
          },
          "execution_count": 19,
          "metadata": {},
          "output_type": "execute_result"
        }
      ]
    },
    {
      "cell_type": "markdown",
      "metadata": {
        "id": "HTkLUSXu0oUU"
      },
      "source": [
        "You can access a specific column using the `loc` method, which produces a series object (previously you could use `ix` but it is now deprecated. Now use `.loc` or `iloc`)"
      ]
    },
    {
      "cell_type": "code",
      "metadata": {
        "ExecuteTime": {
          "end_time": "2020-09-19T17:55:08.368779Z",
          "start_time": "2020-09-19T17:55:08.347072Z"
        },
        "id": "EE2I_Z1P0oUV",
        "outputId": "a2ad9f75-647c-4b03-9ea9-ccf5b44b5cf7"
      },
      "source": [
        "df.loc[[\"London\", \"Paris\"]] # This produces another data frame\n",
        "#df.iloc[[1, 3]] # This produces another data frame"
      ],
      "execution_count": null,
      "outputs": [
        {
          "data": {
            "text/html": [
              "<div>\n",
              "<style scoped>\n",
              "    .dataframe tbody tr th:only-of-type {\n",
              "        vertical-align: middle;\n",
              "    }\n",
              "\n",
              "    .dataframe tbody tr th {\n",
              "        vertical-align: top;\n",
              "    }\n",
              "\n",
              "    .dataframe thead th {\n",
              "        text-align: right;\n",
              "    }\n",
              "</style>\n",
              "<table border=\"1\" class=\"dataframe\">\n",
              "  <thead>\n",
              "    <tr style=\"text-align: right;\">\n",
              "      <th></th>\n",
              "      <th>Population</th>\n",
              "      <th>State</th>\n",
              "    </tr>\n",
              "  </thead>\n",
              "  <tbody>\n",
              "    <tr>\n",
              "      <th>London</th>\n",
              "      <td>8615246</td>\n",
              "      <td>United Kingdom</td>\n",
              "    </tr>\n",
              "    <tr>\n",
              "      <th>Paris</th>\n",
              "      <td>2273305</td>\n",
              "      <td>France</td>\n",
              "    </tr>\n",
              "  </tbody>\n",
              "</table>\n",
              "</div>"
            ],
            "text/plain": [
              "        Population           State\n",
              "London     8615246  United Kingdom\n",
              "Paris      2273305          France"
            ]
          },
          "execution_count": 30,
          "metadata": {},
          "output_type": "execute_result"
        }
      ]
    },
    {
      "cell_type": "code",
      "metadata": {
        "ExecuteTime": {
          "end_time": "2020-09-19T17:53:27.618496Z",
          "start_time": "2020-09-19T17:53:27.581723Z"
        },
        "id": "dLXTokLr0oUV",
        "outputId": "bc52ad9f-9d21-4c10-fd8c-b1c252ed73de"
      },
      "source": [
        "dftemp = df.loc[[\"London\", \"Paris\"], \"Population\"] # This produces another data frame, and access a specific column\n",
        "dftemp"
      ],
      "execution_count": null,
      "outputs": [
        {
          "data": {
            "text/plain": [
              "London    8615246\n",
              "Paris     2273305\n",
              "Name: Population, dtype: int64"
            ]
          },
          "execution_count": 27,
          "metadata": {},
          "output_type": "execute_result"
        }
      ]
    },
    {
      "cell_type": "code",
      "metadata": {
        "ExecuteTime": {
          "end_time": "2020-09-19T17:56:11.885269Z",
          "start_time": "2020-09-19T17:56:11.867342Z"
        },
        "id": "QucVPkMn0oUV",
        "outputId": "c47b33fa-8d6b-444d-af4f-e7570058f88c"
      },
      "source": [
        "df2 = df\n",
        "df2.index = df.State\n",
        "df2"
      ],
      "execution_count": null,
      "outputs": [
        {
          "data": {
            "text/html": [
              "<div>\n",
              "<style scoped>\n",
              "    .dataframe tbody tr th:only-of-type {\n",
              "        vertical-align: middle;\n",
              "    }\n",
              "\n",
              "    .dataframe tbody tr th {\n",
              "        vertical-align: top;\n",
              "    }\n",
              "\n",
              "    .dataframe thead th {\n",
              "        text-align: right;\n",
              "    }\n",
              "</style>\n",
              "<table border=\"1\" class=\"dataframe\">\n",
              "  <thead>\n",
              "    <tr style=\"text-align: right;\">\n",
              "      <th></th>\n",
              "      <th>Population</th>\n",
              "      <th>State</th>\n",
              "    </tr>\n",
              "    <tr>\n",
              "      <th>State</th>\n",
              "      <th></th>\n",
              "      <th></th>\n",
              "    </tr>\n",
              "  </thead>\n",
              "  <tbody>\n",
              "    <tr>\n",
              "      <th>Sweden</th>\n",
              "      <td>909976</td>\n",
              "      <td>Sweden</td>\n",
              "    </tr>\n",
              "    <tr>\n",
              "      <th>United Kingdom</th>\n",
              "      <td>8615246</td>\n",
              "      <td>United Kingdom</td>\n",
              "    </tr>\n",
              "    <tr>\n",
              "      <th>Italy</th>\n",
              "      <td>2872086</td>\n",
              "      <td>Italy</td>\n",
              "    </tr>\n",
              "    <tr>\n",
              "      <th>France</th>\n",
              "      <td>2273305</td>\n",
              "      <td>France</td>\n",
              "    </tr>\n",
              "  </tbody>\n",
              "</table>\n",
              "</div>"
            ],
            "text/plain": [
              "                Population           State\n",
              "State                                     \n",
              "Sweden              909976          Sweden\n",
              "United Kingdom     8615246  United Kingdom\n",
              "Italy              2872086           Italy\n",
              "France             2273305          France"
            ]
          },
          "execution_count": 31,
          "metadata": {},
          "output_type": "execute_result"
        }
      ]
    },
    {
      "cell_type": "markdown",
      "metadata": {
        "id": "qk9XtxI00oUW"
      },
      "source": [
        "## Reading a large csv into a dataframe\n",
        "Download the population for many european cities from the url: https://en.wikipedia.org/wiki/List_of_cities_in_the_European_Union_by_population_within_city_limits or directly from https://raw.githubusercontent.com/jrjohansson/numerical-python-book-code/master/european_cities.csv\n",
        "        "
      ]
    },
    {
      "cell_type": "code",
      "metadata": {
        "ExecuteTime": {
          "end_time": "2020-09-19T18:01:50.322385Z",
          "start_time": "2020-09-19T18:01:45.123519Z"
        },
        "id": "A72FjzTW0oUW",
        "outputId": "564424d6-b227-4c83-ca3a-dc890f78b453"
      },
      "source": [
        "import pandas as pd\n",
        "import numpy as np\n",
        "import matplotlib.pyplot as plt\n",
        "\n",
        "df = pd.read_csv(\"https://raw.githubusercontent.com/jrjohansson/numerical-python-book-code/master/european_cities.csv\")\n",
        "df.info()"
      ],
      "execution_count": null,
      "outputs": [
        {
          "name": "stdout",
          "output_type": "stream",
          "text": [
            "<class 'pandas.core.frame.DataFrame'>\n",
            "RangeIndex: 105 entries, 0 to 104\n",
            "Data columns (total 5 columns):\n",
            " #   Column                   Non-Null Count  Dtype \n",
            "---  ------                   --------------  ----- \n",
            " 0   Rank                     105 non-null    int64 \n",
            " 1   City                     105 non-null    object\n",
            " 2   State                    105 non-null    object\n",
            " 3   Population               105 non-null    object\n",
            " 4   Date of census/estimate  105 non-null    object\n",
            "dtypes: int64(1), object(4)\n",
            "memory usage: 4.2+ KB\n"
          ]
        }
      ]
    },
    {
      "cell_type": "code",
      "metadata": {
        "ExecuteTime": {
          "end_time": "2020-09-19T18:03:43.968158Z",
          "start_time": "2020-09-19T18:03:43.938771Z"
        },
        "id": "MPJ9CSGY0oUW",
        "outputId": "12f8a629-aaa1-4eb7-8125-d1275892c1aa"
      },
      "source": [
        "df.head(7)"
      ],
      "execution_count": null,
      "outputs": [
        {
          "data": {
            "text/html": [
              "<div>\n",
              "<style scoped>\n",
              "    .dataframe tbody tr th:only-of-type {\n",
              "        vertical-align: middle;\n",
              "    }\n",
              "\n",
              "    .dataframe tbody tr th {\n",
              "        vertical-align: top;\n",
              "    }\n",
              "\n",
              "    .dataframe thead th {\n",
              "        text-align: right;\n",
              "    }\n",
              "</style>\n",
              "<table border=\"1\" class=\"dataframe\">\n",
              "  <thead>\n",
              "    <tr style=\"text-align: right;\">\n",
              "      <th></th>\n",
              "      <th>Rank</th>\n",
              "      <th>City</th>\n",
              "      <th>State</th>\n",
              "      <th>Population</th>\n",
              "      <th>Date of census/estimate</th>\n",
              "    </tr>\n",
              "  </thead>\n",
              "  <tbody>\n",
              "    <tr>\n",
              "      <th>0</th>\n",
              "      <td>1</td>\n",
              "      <td>London[2]</td>\n",
              "      <td>United Kingdom</td>\n",
              "      <td>8,615,246</td>\n",
              "      <td>1 June 2014</td>\n",
              "    </tr>\n",
              "    <tr>\n",
              "      <th>1</th>\n",
              "      <td>2</td>\n",
              "      <td>Berlin</td>\n",
              "      <td>Germany</td>\n",
              "      <td>3,437,916</td>\n",
              "      <td>31 May 2014</td>\n",
              "    </tr>\n",
              "    <tr>\n",
              "      <th>2</th>\n",
              "      <td>3</td>\n",
              "      <td>Madrid</td>\n",
              "      <td>Spain</td>\n",
              "      <td>3,165,235</td>\n",
              "      <td>1 January 2014</td>\n",
              "    </tr>\n",
              "    <tr>\n",
              "      <th>3</th>\n",
              "      <td>4</td>\n",
              "      <td>Rome</td>\n",
              "      <td>Italy</td>\n",
              "      <td>2,872,086</td>\n",
              "      <td>30 September 2014</td>\n",
              "    </tr>\n",
              "    <tr>\n",
              "      <th>4</th>\n",
              "      <td>5</td>\n",
              "      <td>Paris</td>\n",
              "      <td>France</td>\n",
              "      <td>2,273,305</td>\n",
              "      <td>1 January 2013</td>\n",
              "    </tr>\n",
              "    <tr>\n",
              "      <th>5</th>\n",
              "      <td>6</td>\n",
              "      <td>Bucharest</td>\n",
              "      <td>Romania</td>\n",
              "      <td>1,883,425</td>\n",
              "      <td>20 October 2011</td>\n",
              "    </tr>\n",
              "    <tr>\n",
              "      <th>6</th>\n",
              "      <td>7</td>\n",
              "      <td>Vienna</td>\n",
              "      <td>Austria</td>\n",
              "      <td>1,794,770</td>\n",
              "      <td>1 January 2015</td>\n",
              "    </tr>\n",
              "  </tbody>\n",
              "</table>\n",
              "</div>"
            ],
            "text/plain": [
              "   Rank       City            State Population Date of census/estimate\n",
              "0     1  London[2]   United Kingdom  8,615,246             1 June 2014\n",
              "1     2     Berlin          Germany  3,437,916             31 May 2014\n",
              "2     3     Madrid            Spain  3,165,235          1 January 2014\n",
              "3     4       Rome            Italy  2,872,086       30 September 2014\n",
              "4     5      Paris           France  2,273,305          1 January 2013\n",
              "5     6  Bucharest          Romania  1,883,425         20 October 2011\n",
              "6     7     Vienna          Austria  1,794,770          1 January 2015"
            ]
          },
          "execution_count": 33,
          "metadata": {},
          "output_type": "execute_result"
        }
      ]
    },
    {
      "cell_type": "code",
      "metadata": {
        "ExecuteTime": {
          "end_time": "2020-09-19T18:04:32.647073Z",
          "start_time": "2020-09-19T18:04:32.613111Z"
        },
        "id": "TTIgHq1n0oUW",
        "outputId": "d921b288-bb63-4a09-9d4e-aa0dbe9c1700"
      },
      "source": [
        "df.tail()"
      ],
      "execution_count": null,
      "outputs": [
        {
          "data": {
            "text/html": [
              "<div>\n",
              "<style scoped>\n",
              "    .dataframe tbody tr th:only-of-type {\n",
              "        vertical-align: middle;\n",
              "    }\n",
              "\n",
              "    .dataframe tbody tr th {\n",
              "        vertical-align: top;\n",
              "    }\n",
              "\n",
              "    .dataframe thead th {\n",
              "        text-align: right;\n",
              "    }\n",
              "</style>\n",
              "<table border=\"1\" class=\"dataframe\">\n",
              "  <thead>\n",
              "    <tr style=\"text-align: right;\">\n",
              "      <th></th>\n",
              "      <th>Rank</th>\n",
              "      <th>City</th>\n",
              "      <th>State</th>\n",
              "      <th>Population</th>\n",
              "      <th>Date of census/estimate</th>\n",
              "    </tr>\n",
              "  </thead>\n",
              "  <tbody>\n",
              "    <tr>\n",
              "      <th>100</th>\n",
              "      <td>101</td>\n",
              "      <td>Bonn</td>\n",
              "      <td>Germany</td>\n",
              "      <td>309,869</td>\n",
              "      <td>31 December 2012</td>\n",
              "    </tr>\n",
              "    <tr>\n",
              "      <th>101</th>\n",
              "      <td>102</td>\n",
              "      <td>Malmö</td>\n",
              "      <td>Sweden</td>\n",
              "      <td>309,105</td>\n",
              "      <td>31 March 2013</td>\n",
              "    </tr>\n",
              "    <tr>\n",
              "      <th>102</th>\n",
              "      <td>103</td>\n",
              "      <td>Nottingham</td>\n",
              "      <td>United Kingdom</td>\n",
              "      <td>308,735</td>\n",
              "      <td>30 June 2012</td>\n",
              "    </tr>\n",
              "    <tr>\n",
              "      <th>103</th>\n",
              "      <td>104</td>\n",
              "      <td>Katowice</td>\n",
              "      <td>Poland</td>\n",
              "      <td>308,269</td>\n",
              "      <td>30 June 2012</td>\n",
              "    </tr>\n",
              "    <tr>\n",
              "      <th>104</th>\n",
              "      <td>105</td>\n",
              "      <td>Kaunas</td>\n",
              "      <td>Lithuania</td>\n",
              "      <td>306,888</td>\n",
              "      <td>1 January 2013</td>\n",
              "    </tr>\n",
              "  </tbody>\n",
              "</table>\n",
              "</div>"
            ],
            "text/plain": [
              "     Rank        City            State Population Date of census/estimate\n",
              "100   101        Bonn          Germany    309,869        31 December 2012\n",
              "101   102       Malmö           Sweden    309,105           31 March 2013\n",
              "102   103  Nottingham   United Kingdom    308,735            30 June 2012\n",
              "103   104    Katowice           Poland    308,269            30 June 2012\n",
              "104   105      Kaunas        Lithuania    306,888          1 January 2013"
            ]
          },
          "execution_count": 34,
          "metadata": {},
          "output_type": "execute_result"
        }
      ]
    },
    {
      "cell_type": "code",
      "metadata": {
        "ExecuteTime": {
          "end_time": "2020-09-19T18:06:57.118593Z",
          "start_time": "2020-09-19T18:06:57.104817Z"
        },
        "id": "RFfCeULL0oUX",
        "outputId": "d5a6a8c9-3b2a-485c-e4fe-c5a4eaf081a1"
      },
      "source": [
        "ex = \"123,987\"\n",
        "ex = int(ex.replace(',', ''))\n",
        "print(ex)\n",
        "type(ex)"
      ],
      "execution_count": null,
      "outputs": [
        {
          "name": "stdout",
          "output_type": "stream",
          "text": [
            "123987\n"
          ]
        },
        {
          "data": {
            "text/plain": [
              "int"
            ]
          },
          "execution_count": 37,
          "metadata": {},
          "output_type": "execute_result"
        }
      ]
    },
    {
      "cell_type": "markdown",
      "metadata": {
        "id": "fG50QA-K0oUX"
      },
      "source": [
        "### Processing info\n",
        "Let's say that you want to have the population as integers. You will need to extract the population , to replace the ',' and to cast the values to integers. You could use the `apply` method to do that "
      ]
    },
    {
      "cell_type": "code",
      "metadata": {
        "ExecuteTime": {
          "end_time": "2020-09-19T18:10:09.349605Z",
          "start_time": "2020-09-19T18:10:09.323679Z"
        },
        "id": "jox281Ty0oUX",
        "outputId": "0b181157-4ebe-474f-b356-c88d9e90666d"
      },
      "source": [
        "def str_to_int(x):\n",
        "    return int(x.replace(',', ''))\n",
        "df['Numeric Population'] = df.Population.apply(str_to_int) # create a new column\n",
        "df.head()"
      ],
      "execution_count": null,
      "outputs": [
        {
          "data": {
            "text/html": [
              "<div>\n",
              "<style scoped>\n",
              "    .dataframe tbody tr th:only-of-type {\n",
              "        vertical-align: middle;\n",
              "    }\n",
              "\n",
              "    .dataframe tbody tr th {\n",
              "        vertical-align: top;\n",
              "    }\n",
              "\n",
              "    .dataframe thead th {\n",
              "        text-align: right;\n",
              "    }\n",
              "</style>\n",
              "<table border=\"1\" class=\"dataframe\">\n",
              "  <thead>\n",
              "    <tr style=\"text-align: right;\">\n",
              "      <th></th>\n",
              "      <th>Rank</th>\n",
              "      <th>City</th>\n",
              "      <th>State</th>\n",
              "      <th>Population</th>\n",
              "      <th>Date of census/estimate</th>\n",
              "      <th>Numeric Population</th>\n",
              "    </tr>\n",
              "  </thead>\n",
              "  <tbody>\n",
              "    <tr>\n",
              "      <th>0</th>\n",
              "      <td>1</td>\n",
              "      <td>London[2]</td>\n",
              "      <td>United Kingdom</td>\n",
              "      <td>8,615,246</td>\n",
              "      <td>1 June 2014</td>\n",
              "      <td>8615246</td>\n",
              "    </tr>\n",
              "    <tr>\n",
              "      <th>1</th>\n",
              "      <td>2</td>\n",
              "      <td>Berlin</td>\n",
              "      <td>Germany</td>\n",
              "      <td>3,437,916</td>\n",
              "      <td>31 May 2014</td>\n",
              "      <td>3437916</td>\n",
              "    </tr>\n",
              "    <tr>\n",
              "      <th>2</th>\n",
              "      <td>3</td>\n",
              "      <td>Madrid</td>\n",
              "      <td>Spain</td>\n",
              "      <td>3,165,235</td>\n",
              "      <td>1 January 2014</td>\n",
              "      <td>3165235</td>\n",
              "    </tr>\n",
              "    <tr>\n",
              "      <th>3</th>\n",
              "      <td>4</td>\n",
              "      <td>Rome</td>\n",
              "      <td>Italy</td>\n",
              "      <td>2,872,086</td>\n",
              "      <td>30 September 2014</td>\n",
              "      <td>2872086</td>\n",
              "    </tr>\n",
              "    <tr>\n",
              "      <th>4</th>\n",
              "      <td>5</td>\n",
              "      <td>Paris</td>\n",
              "      <td>France</td>\n",
              "      <td>2,273,305</td>\n",
              "      <td>1 January 2013</td>\n",
              "      <td>2273305</td>\n",
              "    </tr>\n",
              "  </tbody>\n",
              "</table>\n",
              "</div>"
            ],
            "text/plain": [
              "   Rank       City            State Population Date of census/estimate  \\\n",
              "0     1  London[2]   United Kingdom  8,615,246             1 June 2014   \n",
              "1     2     Berlin          Germany  3,437,916             31 May 2014   \n",
              "2     3     Madrid            Spain  3,165,235          1 January 2014   \n",
              "3     4       Rome            Italy  2,872,086       30 September 2014   \n",
              "4     5      Paris           France  2,273,305          1 January 2013   \n",
              "\n",
              "   Numeric Population  \n",
              "0             8615246  \n",
              "1             3437916  \n",
              "2             3165235  \n",
              "3             2872086  \n",
              "4             2273305  "
            ]
          },
          "execution_count": 38,
          "metadata": {},
          "output_type": "execute_result"
        }
      ]
    },
    {
      "cell_type": "code",
      "metadata": {
        "ExecuteTime": {
          "end_time": "2020-09-19T18:10:19.012976Z",
          "start_time": "2020-09-19T18:10:18.998088Z"
        },
        "id": "WeHEtEt80oUY",
        "outputId": "f0de7721-9ba6-409f-9fc2-4d45ccbc838e"
      },
      "source": [
        "df.dtypes"
      ],
      "execution_count": null,
      "outputs": [
        {
          "data": {
            "text/plain": [
              "Rank                        int64\n",
              "City                       object\n",
              "State                      object\n",
              "Population                 object\n",
              "Date of census/estimate    object\n",
              "Numeric Population          int64\n",
              "dtype: object"
            ]
          },
          "execution_count": 39,
          "metadata": {},
          "output_type": "execute_result"
        }
      ]
    },
    {
      "cell_type": "code",
      "metadata": {
        "ExecuteTime": {
          "end_time": "2020-09-19T18:11:22.112174Z",
          "start_time": "2020-09-19T18:11:22.091344Z"
        },
        "id": "Gxp-uuws0oUY",
        "outputId": "29f96836-23c1-4a2c-e6c3-5214d8cc9c61"
      },
      "source": [
        "print(df[\"State\"].values[:3])"
      ],
      "execution_count": null,
      "outputs": [
        {
          "name": "stdout",
          "output_type": "stream",
          "text": [
            "[' United Kingdom' ' Germany' ' Spain']\n"
          ]
        }
      ]
    },
    {
      "cell_type": "code",
      "metadata": {
        "ExecuteTime": {
          "end_time": "2020-09-19T18:17:06.393484Z",
          "start_time": "2020-09-19T18:17:06.385753Z"
        },
        "id": "hEP3ES2B0oUY",
        "outputId": "65ad057a-2236-4a3c-f40e-cb6592b49295"
      },
      "source": [
        "ex = '    United Kingdom  ABC  '\n",
        "ex = ex.strip().replace('  ', ' ')\n",
        "print(ex)"
      ],
      "execution_count": null,
      "outputs": [
        {
          "name": "stdout",
          "output_type": "stream",
          "text": [
            "United Kingdom ABC\n"
          ]
        }
      ]
    },
    {
      "cell_type": "code",
      "metadata": {
        "ExecuteTime": {
          "end_time": "2020-09-19T18:13:49.251841Z",
          "start_time": "2020-09-19T18:13:49.220423Z"
        },
        "id": "y6wqGS960oUZ",
        "outputId": "f372a01c-b9ef-4501-8454-0b5db08850b0"
      },
      "source": [
        "df[\"State\"] = df[\"State\"].apply(lambda x: x.strip())\n",
        "df.head()\n",
        "print(df[\"State\"].values[:3])"
      ],
      "execution_count": null,
      "outputs": [
        {
          "name": "stdout",
          "output_type": "stream",
          "text": [
            "['United Kingdom' 'Germany' 'Spain']\n"
          ]
        }
      ]
    },
    {
      "cell_type": "markdown",
      "metadata": {
        "id": "3WZeMdyT0oUZ"
      },
      "source": [
        "You can also change the index,"
      ]
    },
    {
      "cell_type": "code",
      "metadata": {
        "ExecuteTime": {
          "end_time": "2020-09-19T18:20:19.505443Z",
          "start_time": "2020-09-19T18:20:19.480559Z"
        },
        "id": "_Rqm0GQU0oUZ",
        "outputId": "6cb03760-f126-451d-e8a4-96646fddf1e2"
      },
      "source": [
        "df2 = df.set_index(\"City\")\n",
        "df2 = df2.sort_index(ascending=True)\n",
        "df2.head()"
      ],
      "execution_count": null,
      "outputs": [
        {
          "data": {
            "text/html": [
              "<div>\n",
              "<style scoped>\n",
              "    .dataframe tbody tr th:only-of-type {\n",
              "        vertical-align: middle;\n",
              "    }\n",
              "\n",
              "    .dataframe tbody tr th {\n",
              "        vertical-align: top;\n",
              "    }\n",
              "\n",
              "    .dataframe thead th {\n",
              "        text-align: right;\n",
              "    }\n",
              "</style>\n",
              "<table border=\"1\" class=\"dataframe\">\n",
              "  <thead>\n",
              "    <tr style=\"text-align: right;\">\n",
              "      <th></th>\n",
              "      <th>Rank</th>\n",
              "      <th>State</th>\n",
              "      <th>Population</th>\n",
              "      <th>Date of census/estimate</th>\n",
              "      <th>Numeric Population</th>\n",
              "    </tr>\n",
              "    <tr>\n",
              "      <th>City</th>\n",
              "      <th></th>\n",
              "      <th></th>\n",
              "      <th></th>\n",
              "      <th></th>\n",
              "      <th></th>\n",
              "    </tr>\n",
              "  </thead>\n",
              "  <tbody>\n",
              "    <tr>\n",
              "      <th>Aarhus</th>\n",
              "      <td>92</td>\n",
              "      <td>Denmark</td>\n",
              "      <td>326,676</td>\n",
              "      <td>1 October 2014</td>\n",
              "      <td>326676</td>\n",
              "    </tr>\n",
              "    <tr>\n",
              "      <th>Alicante</th>\n",
              "      <td>86</td>\n",
              "      <td>Spain</td>\n",
              "      <td>334,678</td>\n",
              "      <td>1 January 2012</td>\n",
              "      <td>334678</td>\n",
              "    </tr>\n",
              "    <tr>\n",
              "      <th>Amsterdam</th>\n",
              "      <td>23</td>\n",
              "      <td>Netherlands</td>\n",
              "      <td>813,562</td>\n",
              "      <td>31 May 2014</td>\n",
              "      <td>813562</td>\n",
              "    </tr>\n",
              "    <tr>\n",
              "      <th>Antwerp</th>\n",
              "      <td>59</td>\n",
              "      <td>Belgium</td>\n",
              "      <td>510,610</td>\n",
              "      <td>1 January 2014</td>\n",
              "      <td>510610</td>\n",
              "    </tr>\n",
              "    <tr>\n",
              "      <th>Athens</th>\n",
              "      <td>34</td>\n",
              "      <td>Greece</td>\n",
              "      <td>664,046</td>\n",
              "      <td>24 May 2011</td>\n",
              "      <td>664046</td>\n",
              "    </tr>\n",
              "  </tbody>\n",
              "</table>\n",
              "</div>"
            ],
            "text/plain": [
              "           Rank        State Population Date of census/estimate  \\\n",
              "City                                                              \n",
              "Aarhus       92      Denmark    326,676          1 October 2014   \n",
              "Alicante     86        Spain    334,678          1 January 2012   \n",
              "Amsterdam    23  Netherlands    813,562             31 May 2014   \n",
              "Antwerp      59      Belgium    510,610          1 January 2014   \n",
              "Athens       34       Greece    664,046             24 May 2011   \n",
              "\n",
              "           Numeric Population  \n",
              "City                           \n",
              "Aarhus                 326676  \n",
              "Alicante               334678  \n",
              "Amsterdam              813562  \n",
              "Antwerp                510610  \n",
              "Athens                 664046  "
            ]
          },
          "execution_count": 50,
          "metadata": {},
          "output_type": "execute_result"
        }
      ]
    },
    {
      "cell_type": "code",
      "metadata": {
        "ExecuteTime": {
          "end_time": "2020-09-19T18:21:55.790810Z",
          "start_time": "2020-09-19T18:21:55.735768Z"
        },
        "id": "Z6UXl7Fm0oUZ",
        "outputId": "71776d25-0c8a-4738-c03a-fee6340445ac"
      },
      "source": [
        "df3 = df.set_index([\"State\", \"City\"]).sort_index(0)\n",
        "df3.head(7)"
      ],
      "execution_count": null,
      "outputs": [
        {
          "data": {
            "text/html": [
              "<div>\n",
              "<style scoped>\n",
              "    .dataframe tbody tr th:only-of-type {\n",
              "        vertical-align: middle;\n",
              "    }\n",
              "\n",
              "    .dataframe tbody tr th {\n",
              "        vertical-align: top;\n",
              "    }\n",
              "\n",
              "    .dataframe thead th {\n",
              "        text-align: right;\n",
              "    }\n",
              "</style>\n",
              "<table border=\"1\" class=\"dataframe\">\n",
              "  <thead>\n",
              "    <tr style=\"text-align: right;\">\n",
              "      <th></th>\n",
              "      <th></th>\n",
              "      <th>Rank</th>\n",
              "      <th>Population</th>\n",
              "      <th>Date of census/estimate</th>\n",
              "      <th>Numeric Population</th>\n",
              "    </tr>\n",
              "    <tr>\n",
              "      <th>State</th>\n",
              "      <th>City</th>\n",
              "      <th></th>\n",
              "      <th></th>\n",
              "      <th></th>\n",
              "      <th></th>\n",
              "    </tr>\n",
              "  </thead>\n",
              "  <tbody>\n",
              "    <tr>\n",
              "      <th>Austria</th>\n",
              "      <th>Vienna</th>\n",
              "      <td>7</td>\n",
              "      <td>1,794,770</td>\n",
              "      <td>1 January 2015</td>\n",
              "      <td>1794770</td>\n",
              "    </tr>\n",
              "    <tr>\n",
              "      <th rowspan=\"2\" valign=\"top\">Belgium</th>\n",
              "      <th>Antwerp</th>\n",
              "      <td>59</td>\n",
              "      <td>510,610</td>\n",
              "      <td>1 January 2014</td>\n",
              "      <td>510610</td>\n",
              "    </tr>\n",
              "    <tr>\n",
              "      <th>Brussels[17]</th>\n",
              "      <td>16</td>\n",
              "      <td>1,175,831</td>\n",
              "      <td>1 January 2014</td>\n",
              "      <td>1175831</td>\n",
              "    </tr>\n",
              "    <tr>\n",
              "      <th rowspan=\"3\" valign=\"top\">Bulgaria</th>\n",
              "      <th>Plovdiv</th>\n",
              "      <td>84</td>\n",
              "      <td>341,041</td>\n",
              "      <td>31 December 2013</td>\n",
              "      <td>341041</td>\n",
              "    </tr>\n",
              "    <tr>\n",
              "      <th>Sofia</th>\n",
              "      <td>14</td>\n",
              "      <td>1,291,895</td>\n",
              "      <td>14 December 2014</td>\n",
              "      <td>1291895</td>\n",
              "    </tr>\n",
              "    <tr>\n",
              "      <th>Varna</th>\n",
              "      <td>85</td>\n",
              "      <td>335,819</td>\n",
              "      <td>31 December 2013</td>\n",
              "      <td>335819</td>\n",
              "    </tr>\n",
              "    <tr>\n",
              "      <th>Croatia</th>\n",
              "      <th>Zagreb</th>\n",
              "      <td>24</td>\n",
              "      <td>790,017</td>\n",
              "      <td>31 March 2011</td>\n",
              "      <td>790017</td>\n",
              "    </tr>\n",
              "  </tbody>\n",
              "</table>\n",
              "</div>"
            ],
            "text/plain": [
              "                       Rank Population Date of census/estimate  \\\n",
              "State    City                                                    \n",
              "Austria  Vienna           7  1,794,770          1 January 2015   \n",
              "Belgium  Antwerp         59    510,610          1 January 2014   \n",
              "         Brussels[17]    16  1,175,831          1 January 2014   \n",
              "Bulgaria Plovdiv         84    341,041        31 December 2013   \n",
              "         Sofia           14  1,291,895        14 December 2014   \n",
              "         Varna           85    335,819        31 December 2013   \n",
              "Croatia  Zagreb          24    790,017           31 March 2011   \n",
              "\n",
              "                       Numeric Population  \n",
              "State    City                              \n",
              "Austria  Vienna                   1794770  \n",
              "Belgium  Antwerp                   510610  \n",
              "         Brussels[17]             1175831  \n",
              "Bulgaria Plovdiv                   341041  \n",
              "         Sofia                    1291895  \n",
              "         Varna                     335819  \n",
              "Croatia  Zagreb                    790017  "
            ]
          },
          "execution_count": 54,
          "metadata": {},
          "output_type": "execute_result"
        }
      ]
    },
    {
      "cell_type": "code",
      "metadata": {
        "ExecuteTime": {
          "end_time": "2020-09-14T20:56:39.141489Z",
          "start_time": "2020-09-14T20:56:39.117385Z"
        },
        "id": "YvOKASeQ0oUZ",
        "outputId": "17f82424-eead-490e-d1bc-ac2879ea4126"
      },
      "source": [
        "df3.loc[\"Sweden\"]"
      ],
      "execution_count": null,
      "outputs": [
        {
          "data": {
            "text/html": [
              "<div>\n",
              "<style scoped>\n",
              "    .dataframe tbody tr th:only-of-type {\n",
              "        vertical-align: middle;\n",
              "    }\n",
              "\n",
              "    .dataframe tbody tr th {\n",
              "        vertical-align: top;\n",
              "    }\n",
              "\n",
              "    .dataframe thead th {\n",
              "        text-align: right;\n",
              "    }\n",
              "</style>\n",
              "<table border=\"1\" class=\"dataframe\">\n",
              "  <thead>\n",
              "    <tr style=\"text-align: right;\">\n",
              "      <th></th>\n",
              "      <th>Rank</th>\n",
              "      <th>Population</th>\n",
              "      <th>Date of census/estimate</th>\n",
              "      <th>Numeric Population</th>\n",
              "    </tr>\n",
              "    <tr>\n",
              "      <th>City</th>\n",
              "      <th></th>\n",
              "      <th></th>\n",
              "      <th></th>\n",
              "      <th></th>\n",
              "    </tr>\n",
              "  </thead>\n",
              "  <tbody>\n",
              "    <tr>\n",
              "      <th>Gothenburg</th>\n",
              "      <td>53</td>\n",
              "      <td>528,014</td>\n",
              "      <td>31 March 2013</td>\n",
              "      <td>528014</td>\n",
              "    </tr>\n",
              "    <tr>\n",
              "      <th>Malmö</th>\n",
              "      <td>102</td>\n",
              "      <td>309,105</td>\n",
              "      <td>31 March 2013</td>\n",
              "      <td>309105</td>\n",
              "    </tr>\n",
              "    <tr>\n",
              "      <th>Stockholm</th>\n",
              "      <td>20</td>\n",
              "      <td>909,976</td>\n",
              "      <td>31 January 2014</td>\n",
              "      <td>909976</td>\n",
              "    </tr>\n",
              "  </tbody>\n",
              "</table>\n",
              "</div>"
            ],
            "text/plain": [
              "            Rank Population Date of census/estimate  Numeric Population\n",
              "City                                                                   \n",
              "Gothenburg    53    528,014           31 March 2013              528014\n",
              "Malmö        102    309,105           31 March 2013              309105\n",
              "Stockholm     20    909,976         31 January 2014              909976"
            ]
          },
          "execution_count": 45,
          "metadata": {},
          "output_type": "execute_result"
        }
      ]
    },
    {
      "cell_type": "code",
      "metadata": {
        "ExecuteTime": {
          "end_time": "2020-09-14T20:57:53.119142Z",
          "start_time": "2020-09-14T20:57:53.087650Z"
        },
        "id": "l2hkeqQA0oUa",
        "outputId": "0212f5c8-c71b-4523-eb83-4d394e03c36f"
      },
      "source": [
        "df3.loc[\"Sweden\"].sort_values(\"Numeric Population\") # Sort by another column"
      ],
      "execution_count": null,
      "outputs": [
        {
          "data": {
            "text/html": [
              "<div>\n",
              "<style scoped>\n",
              "    .dataframe tbody tr th:only-of-type {\n",
              "        vertical-align: middle;\n",
              "    }\n",
              "\n",
              "    .dataframe tbody tr th {\n",
              "        vertical-align: top;\n",
              "    }\n",
              "\n",
              "    .dataframe thead th {\n",
              "        text-align: right;\n",
              "    }\n",
              "</style>\n",
              "<table border=\"1\" class=\"dataframe\">\n",
              "  <thead>\n",
              "    <tr style=\"text-align: right;\">\n",
              "      <th></th>\n",
              "      <th>Rank</th>\n",
              "      <th>Population</th>\n",
              "      <th>Date of census/estimate</th>\n",
              "      <th>Numeric Population</th>\n",
              "    </tr>\n",
              "    <tr>\n",
              "      <th>City</th>\n",
              "      <th></th>\n",
              "      <th></th>\n",
              "      <th></th>\n",
              "      <th></th>\n",
              "    </tr>\n",
              "  </thead>\n",
              "  <tbody>\n",
              "    <tr>\n",
              "      <th>Malmö</th>\n",
              "      <td>102</td>\n",
              "      <td>309,105</td>\n",
              "      <td>31 March 2013</td>\n",
              "      <td>309105</td>\n",
              "    </tr>\n",
              "    <tr>\n",
              "      <th>Gothenburg</th>\n",
              "      <td>53</td>\n",
              "      <td>528,014</td>\n",
              "      <td>31 March 2013</td>\n",
              "      <td>528014</td>\n",
              "    </tr>\n",
              "    <tr>\n",
              "      <th>Stockholm</th>\n",
              "      <td>20</td>\n",
              "      <td>909,976</td>\n",
              "      <td>31 January 2014</td>\n",
              "      <td>909976</td>\n",
              "    </tr>\n",
              "  </tbody>\n",
              "</table>\n",
              "</div>"
            ],
            "text/plain": [
              "            Rank Population Date of census/estimate  Numeric Population\n",
              "City                                                                   \n",
              "Malmö        102    309,105           31 March 2013              309105\n",
              "Gothenburg    53    528,014           31 March 2013              528014\n",
              "Stockholm     20    909,976         31 January 2014              909976"
            ]
          },
          "execution_count": 49,
          "metadata": {},
          "output_type": "execute_result"
        }
      ]
    },
    {
      "cell_type": "markdown",
      "metadata": {
        "id": "-zOgtekS0oUa"
      },
      "source": [
        "You can count the categorical data:"
      ]
    },
    {
      "cell_type": "code",
      "metadata": {
        "ExecuteTime": {
          "end_time": "2020-09-19T18:26:12.141638Z",
          "start_time": "2020-09-19T18:26:12.099867Z"
        },
        "id": "0xSJkxle0oUa",
        "outputId": "736bce63-907c-43d6-b127-c06da701ef10"
      },
      "source": [
        "df"
      ],
      "execution_count": null,
      "outputs": [
        {
          "data": {
            "text/html": [
              "<div>\n",
              "<style scoped>\n",
              "    .dataframe tbody tr th:only-of-type {\n",
              "        vertical-align: middle;\n",
              "    }\n",
              "\n",
              "    .dataframe tbody tr th {\n",
              "        vertical-align: top;\n",
              "    }\n",
              "\n",
              "    .dataframe thead th {\n",
              "        text-align: right;\n",
              "    }\n",
              "</style>\n",
              "<table border=\"1\" class=\"dataframe\">\n",
              "  <thead>\n",
              "    <tr style=\"text-align: right;\">\n",
              "      <th></th>\n",
              "      <th>Rank</th>\n",
              "      <th>City</th>\n",
              "      <th>State</th>\n",
              "      <th>Population</th>\n",
              "      <th>Date of census/estimate</th>\n",
              "      <th>Numeric Population</th>\n",
              "    </tr>\n",
              "  </thead>\n",
              "  <tbody>\n",
              "    <tr>\n",
              "      <th>0</th>\n",
              "      <td>1</td>\n",
              "      <td>London[2]</td>\n",
              "      <td>United Kingdom</td>\n",
              "      <td>8,615,246</td>\n",
              "      <td>1 June 2014</td>\n",
              "      <td>8615246</td>\n",
              "    </tr>\n",
              "    <tr>\n",
              "      <th>1</th>\n",
              "      <td>2</td>\n",
              "      <td>Berlin</td>\n",
              "      <td>Germany</td>\n",
              "      <td>3,437,916</td>\n",
              "      <td>31 May 2014</td>\n",
              "      <td>3437916</td>\n",
              "    </tr>\n",
              "    <tr>\n",
              "      <th>2</th>\n",
              "      <td>3</td>\n",
              "      <td>Madrid</td>\n",
              "      <td>Spain</td>\n",
              "      <td>3,165,235</td>\n",
              "      <td>1 January 2014</td>\n",
              "      <td>3165235</td>\n",
              "    </tr>\n",
              "    <tr>\n",
              "      <th>3</th>\n",
              "      <td>4</td>\n",
              "      <td>Rome</td>\n",
              "      <td>Italy</td>\n",
              "      <td>2,872,086</td>\n",
              "      <td>30 September 2014</td>\n",
              "      <td>2872086</td>\n",
              "    </tr>\n",
              "    <tr>\n",
              "      <th>4</th>\n",
              "      <td>5</td>\n",
              "      <td>Paris</td>\n",
              "      <td>France</td>\n",
              "      <td>2,273,305</td>\n",
              "      <td>1 January 2013</td>\n",
              "      <td>2273305</td>\n",
              "    </tr>\n",
              "    <tr>\n",
              "      <th>...</th>\n",
              "      <td>...</td>\n",
              "      <td>...</td>\n",
              "      <td>...</td>\n",
              "      <td>...</td>\n",
              "      <td>...</td>\n",
              "      <td>...</td>\n",
              "    </tr>\n",
              "    <tr>\n",
              "      <th>100</th>\n",
              "      <td>101</td>\n",
              "      <td>Bonn</td>\n",
              "      <td>Germany</td>\n",
              "      <td>309,869</td>\n",
              "      <td>31 December 2012</td>\n",
              "      <td>309869</td>\n",
              "    </tr>\n",
              "    <tr>\n",
              "      <th>101</th>\n",
              "      <td>102</td>\n",
              "      <td>Malmö</td>\n",
              "      <td>Sweden</td>\n",
              "      <td>309,105</td>\n",
              "      <td>31 March 2013</td>\n",
              "      <td>309105</td>\n",
              "    </tr>\n",
              "    <tr>\n",
              "      <th>102</th>\n",
              "      <td>103</td>\n",
              "      <td>Nottingham</td>\n",
              "      <td>United Kingdom</td>\n",
              "      <td>308,735</td>\n",
              "      <td>30 June 2012</td>\n",
              "      <td>308735</td>\n",
              "    </tr>\n",
              "    <tr>\n",
              "      <th>103</th>\n",
              "      <td>104</td>\n",
              "      <td>Katowice</td>\n",
              "      <td>Poland</td>\n",
              "      <td>308,269</td>\n",
              "      <td>30 June 2012</td>\n",
              "      <td>308269</td>\n",
              "    </tr>\n",
              "    <tr>\n",
              "      <th>104</th>\n",
              "      <td>105</td>\n",
              "      <td>Kaunas</td>\n",
              "      <td>Lithuania</td>\n",
              "      <td>306,888</td>\n",
              "      <td>1 January 2013</td>\n",
              "      <td>306888</td>\n",
              "    </tr>\n",
              "  </tbody>\n",
              "</table>\n",
              "<p>105 rows × 6 columns</p>\n",
              "</div>"
            ],
            "text/plain": [
              "     Rank        City           State Population Date of census/estimate  \\\n",
              "0       1   London[2]  United Kingdom  8,615,246             1 June 2014   \n",
              "1       2      Berlin         Germany  3,437,916             31 May 2014   \n",
              "2       3      Madrid           Spain  3,165,235          1 January 2014   \n",
              "3       4        Rome           Italy  2,872,086       30 September 2014   \n",
              "4       5       Paris          France  2,273,305          1 January 2013   \n",
              "..    ...         ...             ...        ...                     ...   \n",
              "100   101        Bonn         Germany    309,869        31 December 2012   \n",
              "101   102       Malmö          Sweden    309,105           31 March 2013   \n",
              "102   103  Nottingham  United Kingdom    308,735            30 June 2012   \n",
              "103   104    Katowice          Poland    308,269            30 June 2012   \n",
              "104   105      Kaunas       Lithuania    306,888          1 January 2013   \n",
              "\n",
              "     Numeric Population  \n",
              "0               8615246  \n",
              "1               3437916  \n",
              "2               3165235  \n",
              "3               2872086  \n",
              "4               2273305  \n",
              "..                  ...  \n",
              "100              309869  \n",
              "101              309105  \n",
              "102              308735  \n",
              "103              308269  \n",
              "104              306888  \n",
              "\n",
              "[105 rows x 6 columns]"
            ]
          },
          "execution_count": 55,
          "metadata": {},
          "output_type": "execute_result"
        }
      ]
    },
    {
      "cell_type": "code",
      "metadata": {
        "ExecuteTime": {
          "end_time": "2020-09-19T18:26:39.656853Z",
          "start_time": "2020-09-19T18:26:39.641061Z"
        },
        "id": "znk40Owj0oUa",
        "outputId": "f6e3d8ee-f403-4aa3-d4e9-ef315d2ef924"
      },
      "source": [
        "city_counts = df.State.value_counts()\n",
        "city_counts.head(10)"
      ],
      "execution_count": null,
      "outputs": [
        {
          "data": {
            "text/plain": [
              "Germany           19\n",
              "United Kingdom    16\n",
              "Spain             13\n",
              "Italy             10\n",
              "Poland            10\n",
              "France             5\n",
              "Netherlands        4\n",
              "Sweden             3\n",
              "Bulgaria           3\n",
              "Romania            3\n",
              "Name: State, dtype: int64"
            ]
          },
          "execution_count": 56,
          "metadata": {},
          "output_type": "execute_result"
        }
      ]
    },
    {
      "cell_type": "markdown",
      "metadata": {
        "id": "9kfYN3VS0oUb"
      },
      "source": [
        "**Exercise: ** How large the total population of all cities within a state? Hint: Use the sum function"
      ]
    },
    {
      "cell_type": "code",
      "metadata": {
        "ExecuteTime": {
          "end_time": "2020-09-19T18:28:34.134809Z",
          "start_time": "2020-09-19T18:28:34.091427Z"
        },
        "id": "pBE1QPvk0oUb",
        "outputId": "960d0b7b-58c9-4ba7-e854-dc398d7e5d0a"
      },
      "source": [
        "# extract the data indexed by state abd city\n",
        "dfaux = df[[\"State\", \"City\", \"Numeric Population\"]].set_index([\"State\", \"City\"])\n",
        "dfaux.head(5)"
      ],
      "execution_count": null,
      "outputs": [
        {
          "data": {
            "text/html": [
              "<div>\n",
              "<style scoped>\n",
              "    .dataframe tbody tr th:only-of-type {\n",
              "        vertical-align: middle;\n",
              "    }\n",
              "\n",
              "    .dataframe tbody tr th {\n",
              "        vertical-align: top;\n",
              "    }\n",
              "\n",
              "    .dataframe thead th {\n",
              "        text-align: right;\n",
              "    }\n",
              "</style>\n",
              "<table border=\"1\" class=\"dataframe\">\n",
              "  <thead>\n",
              "    <tr style=\"text-align: right;\">\n",
              "      <th></th>\n",
              "      <th></th>\n",
              "      <th>Numeric Population</th>\n",
              "    </tr>\n",
              "    <tr>\n",
              "      <th>State</th>\n",
              "      <th>City</th>\n",
              "      <th></th>\n",
              "    </tr>\n",
              "  </thead>\n",
              "  <tbody>\n",
              "    <tr>\n",
              "      <th>United Kingdom</th>\n",
              "      <th>London[2]</th>\n",
              "      <td>8615246</td>\n",
              "    </tr>\n",
              "    <tr>\n",
              "      <th>Germany</th>\n",
              "      <th>Berlin</th>\n",
              "      <td>3437916</td>\n",
              "    </tr>\n",
              "    <tr>\n",
              "      <th>Spain</th>\n",
              "      <th>Madrid</th>\n",
              "      <td>3165235</td>\n",
              "    </tr>\n",
              "    <tr>\n",
              "      <th>Italy</th>\n",
              "      <th>Rome</th>\n",
              "      <td>2872086</td>\n",
              "    </tr>\n",
              "    <tr>\n",
              "      <th>France</th>\n",
              "      <th>Paris</th>\n",
              "      <td>2273305</td>\n",
              "    </tr>\n",
              "  </tbody>\n",
              "</table>\n",
              "</div>"
            ],
            "text/plain": [
              "                          Numeric Population\n",
              "State          City                         \n",
              "United Kingdom London[2]             8615246\n",
              "Germany        Berlin                3437916\n",
              "Spain          Madrid                3165235\n",
              "Italy          Rome                  2872086\n",
              "France         Paris                 2273305"
            ]
          },
          "execution_count": 58,
          "metadata": {},
          "output_type": "execute_result"
        }
      ]
    },
    {
      "cell_type": "code",
      "metadata": {
        "ExecuteTime": {
          "end_time": "2020-09-19T18:30:27.122187Z",
          "start_time": "2020-09-19T18:30:27.102579Z"
        },
        "id": "YReeCy940oUb",
        "outputId": "11ace7ed-295b-4a17-faa2-2809fc6e7250"
      },
      "source": [
        "dfaux = dfaux.sum(level=\"State\")\n",
        "dfaux.head(50)"
      ],
      "execution_count": null,
      "outputs": [
        {
          "data": {
            "text/html": [
              "<div>\n",
              "<style scoped>\n",
              "    .dataframe tbody tr th:only-of-type {\n",
              "        vertical-align: middle;\n",
              "    }\n",
              "\n",
              "    .dataframe tbody tr th {\n",
              "        vertical-align: top;\n",
              "    }\n",
              "\n",
              "    .dataframe thead th {\n",
              "        text-align: right;\n",
              "    }\n",
              "</style>\n",
              "<table border=\"1\" class=\"dataframe\">\n",
              "  <thead>\n",
              "    <tr style=\"text-align: right;\">\n",
              "      <th></th>\n",
              "      <th>Numeric Population</th>\n",
              "    </tr>\n",
              "    <tr>\n",
              "      <th>State</th>\n",
              "      <th></th>\n",
              "    </tr>\n",
              "  </thead>\n",
              "  <tbody>\n",
              "    <tr>\n",
              "      <th>United Kingdom</th>\n",
              "      <td>16011877</td>\n",
              "    </tr>\n",
              "    <tr>\n",
              "      <th>Germany</th>\n",
              "      <td>15119548</td>\n",
              "    </tr>\n",
              "    <tr>\n",
              "      <th>Spain</th>\n",
              "      <td>10041639</td>\n",
              "    </tr>\n",
              "    <tr>\n",
              "      <th>Italy</th>\n",
              "      <td>8764067</td>\n",
              "    </tr>\n",
              "    <tr>\n",
              "      <th>France</th>\n",
              "      <td>4395271</td>\n",
              "    </tr>\n",
              "    <tr>\n",
              "      <th>Romania</th>\n",
              "      <td>2527280</td>\n",
              "    </tr>\n",
              "    <tr>\n",
              "      <th>Austria</th>\n",
              "      <td>1794770</td>\n",
              "    </tr>\n",
              "    <tr>\n",
              "      <th>Hungary</th>\n",
              "      <td>1744665</td>\n",
              "    </tr>\n",
              "    <tr>\n",
              "      <th>Poland</th>\n",
              "      <td>6267409</td>\n",
              "    </tr>\n",
              "    <tr>\n",
              "      <th>Bulgaria</th>\n",
              "      <td>1968755</td>\n",
              "    </tr>\n",
              "    <tr>\n",
              "      <th>Czech Republic</th>\n",
              "      <td>1625107</td>\n",
              "    </tr>\n",
              "    <tr>\n",
              "      <th>Belgium</th>\n",
              "      <td>1686441</td>\n",
              "    </tr>\n",
              "    <tr>\n",
              "      <th>Sweden</th>\n",
              "      <td>1747095</td>\n",
              "    </tr>\n",
              "    <tr>\n",
              "      <th>Netherlands</th>\n",
              "      <td>2271771</td>\n",
              "    </tr>\n",
              "    <tr>\n",
              "      <th>Croatia</th>\n",
              "      <td>790017</td>\n",
              "    </tr>\n",
              "    <tr>\n",
              "      <th>Latvia</th>\n",
              "      <td>701185</td>\n",
              "    </tr>\n",
              "    <tr>\n",
              "      <th>Greece</th>\n",
              "      <td>986286</td>\n",
              "    </tr>\n",
              "    <tr>\n",
              "      <th>Finland</th>\n",
              "      <td>605523</td>\n",
              "    </tr>\n",
              "    <tr>\n",
              "      <th>Denmark</th>\n",
              "      <td>886116</td>\n",
              "    </tr>\n",
              "    <tr>\n",
              "      <th>Portugal</th>\n",
              "      <td>547631</td>\n",
              "    </tr>\n",
              "    <tr>\n",
              "      <th>Lithuania</th>\n",
              "      <td>844040</td>\n",
              "    </tr>\n",
              "    <tr>\n",
              "      <th>Ireland</th>\n",
              "      <td>527612</td>\n",
              "    </tr>\n",
              "    <tr>\n",
              "      <th>Estonia</th>\n",
              "      <td>434810</td>\n",
              "    </tr>\n",
              "    <tr>\n",
              "      <th>Slovakia Slovak Republic</th>\n",
              "      <td>417389</td>\n",
              "    </tr>\n",
              "  </tbody>\n",
              "</table>\n",
              "</div>"
            ],
            "text/plain": [
              "                          Numeric Population\n",
              "State                                       \n",
              "United Kingdom                      16011877\n",
              "Germany                             15119548\n",
              "Spain                               10041639\n",
              "Italy                                8764067\n",
              "France                               4395271\n",
              "Romania                              2527280\n",
              "Austria                              1794770\n",
              "Hungary                              1744665\n",
              "Poland                               6267409\n",
              "Bulgaria                             1968755\n",
              "Czech Republic                       1625107\n",
              "Belgium                              1686441\n",
              "Sweden                               1747095\n",
              "Netherlands                          2271771\n",
              "Croatia                               790017\n",
              "Latvia                                701185\n",
              "Greece                                986286\n",
              "Finland                               605523\n",
              "Denmark                               886116\n",
              "Portugal                              547631\n",
              "Lithuania                             844040\n",
              "Ireland                               527612\n",
              "Estonia                               434810\n",
              "Slovakia Slovak Republic              417389"
            ]
          },
          "execution_count": 63,
          "metadata": {},
          "output_type": "execute_result"
        }
      ]
    },
    {
      "cell_type": "code",
      "metadata": {
        "ExecuteTime": {
          "end_time": "2020-09-19T18:31:23.636155Z",
          "start_time": "2020-09-19T18:31:23.607017Z"
        },
        "id": "yTcho6GU0oUb",
        "outputId": "ec107fa7-793b-45fb-e407-363dd0ebef2b"
      },
      "source": [
        "# Or you can use the groupby method\n",
        "dfaux = df.groupby(\"State\").sum().sort_values(\"Numeric Population\", ascending=False)\n",
        "dfaux.head(5)"
      ],
      "execution_count": null,
      "outputs": [
        {
          "data": {
            "text/html": [
              "<div>\n",
              "<style scoped>\n",
              "    .dataframe tbody tr th:only-of-type {\n",
              "        vertical-align: middle;\n",
              "    }\n",
              "\n",
              "    .dataframe tbody tr th {\n",
              "        vertical-align: top;\n",
              "    }\n",
              "\n",
              "    .dataframe thead th {\n",
              "        text-align: right;\n",
              "    }\n",
              "</style>\n",
              "<table border=\"1\" class=\"dataframe\">\n",
              "  <thead>\n",
              "    <tr style=\"text-align: right;\">\n",
              "      <th></th>\n",
              "      <th>Rank</th>\n",
              "      <th>Numeric Population</th>\n",
              "    </tr>\n",
              "    <tr>\n",
              "      <th>State</th>\n",
              "      <th></th>\n",
              "      <th></th>\n",
              "    </tr>\n",
              "  </thead>\n",
              "  <tbody>\n",
              "    <tr>\n",
              "      <th>United Kingdom</th>\n",
              "      <td>989</td>\n",
              "      <td>16011877</td>\n",
              "    </tr>\n",
              "    <tr>\n",
              "      <th>Germany</th>\n",
              "      <td>918</td>\n",
              "      <td>15119548</td>\n",
              "    </tr>\n",
              "    <tr>\n",
              "      <th>Spain</th>\n",
              "      <td>714</td>\n",
              "      <td>10041639</td>\n",
              "    </tr>\n",
              "    <tr>\n",
              "      <th>Italy</th>\n",
              "      <td>472</td>\n",
              "      <td>8764067</td>\n",
              "    </tr>\n",
              "    <tr>\n",
              "      <th>Poland</th>\n",
              "      <td>545</td>\n",
              "      <td>6267409</td>\n",
              "    </tr>\n",
              "  </tbody>\n",
              "</table>\n",
              "</div>"
            ],
            "text/plain": [
              "                Rank  Numeric Population\n",
              "State                                   \n",
              "United Kingdom   989            16011877\n",
              "Germany          918            15119548\n",
              "Spain            714            10041639\n",
              "Italy            472             8764067\n",
              "Poland           545             6267409"
            ]
          },
          "execution_count": 64,
          "metadata": {},
          "output_type": "execute_result"
        }
      ]
    },
    {
      "cell_type": "code",
      "metadata": {
        "ExecuteTime": {
          "end_time": "2020-08-28T21:57:42.864208Z",
          "start_time": "2020-08-28T21:57:42.820377Z"
        },
        "id": "BGVIllGu0oUc",
        "outputId": "b1b46705-970a-465e-978a-b537e24afd4c"
      },
      "source": [
        "dfaux.head(5).drop(\"Rank\", axis=1)"
      ],
      "execution_count": null,
      "outputs": [
        {
          "data": {
            "text/html": [
              "<div>\n",
              "<style scoped>\n",
              "    .dataframe tbody tr th:only-of-type {\n",
              "        vertical-align: middle;\n",
              "    }\n",
              "\n",
              "    .dataframe tbody tr th {\n",
              "        vertical-align: top;\n",
              "    }\n",
              "\n",
              "    .dataframe thead th {\n",
              "        text-align: right;\n",
              "    }\n",
              "</style>\n",
              "<table border=\"1\" class=\"dataframe\">\n",
              "  <thead>\n",
              "    <tr style=\"text-align: right;\">\n",
              "      <th></th>\n",
              "      <th>Numeric Population</th>\n",
              "    </tr>\n",
              "    <tr>\n",
              "      <th>State</th>\n",
              "      <th></th>\n",
              "    </tr>\n",
              "  </thead>\n",
              "  <tbody>\n",
              "    <tr>\n",
              "      <th>United Kingdom</th>\n",
              "      <td>16011877</td>\n",
              "    </tr>\n",
              "    <tr>\n",
              "      <th>Germany</th>\n",
              "      <td>15119548</td>\n",
              "    </tr>\n",
              "    <tr>\n",
              "      <th>Spain</th>\n",
              "      <td>10041639</td>\n",
              "    </tr>\n",
              "    <tr>\n",
              "      <th>Italy</th>\n",
              "      <td>8764067</td>\n",
              "    </tr>\n",
              "    <tr>\n",
              "      <th>Poland</th>\n",
              "      <td>6267409</td>\n",
              "    </tr>\n",
              "  </tbody>\n",
              "</table>\n",
              "</div>"
            ],
            "text/plain": [
              "                Numeric Population\n",
              "State                             \n",
              "United Kingdom            16011877\n",
              "Germany                   15119548\n",
              "Spain                     10041639\n",
              "Italy                      8764067\n",
              "Poland                     6267409"
            ]
          },
          "execution_count": 38,
          "metadata": {},
          "output_type": "execute_result"
        }
      ]
    },
    {
      "cell_type": "markdown",
      "metadata": {
        "id": "0ZpMyYyD0oUc"
      },
      "source": [
        "We can also plot"
      ]
    },
    {
      "cell_type": "code",
      "metadata": {
        "ExecuteTime": {
          "end_time": "2020-09-19T18:31:59.701132Z",
          "start_time": "2020-09-19T18:31:58.676830Z"
        },
        "id": "09WS3GOc0oUc",
        "outputId": "8473112c-a6d1-4979-dfad-8ce0f2bc668a"
      },
      "source": [
        "fig, (ax1, ax2) = plt.subplots(1, 2, figsize=(12, 4))\n",
        "city_counts.plot(kind='barh', ax=ax1)\n",
        "ax1.set_xlabel(\"# cities in top 105\")\n",
        "dfaux[\"Numeric Population\"].plot(kind='barh', ax=ax2)\n",
        "ax2.set_xlabel(\"Total pop. in top 105 cities\")"
      ],
      "execution_count": null,
      "outputs": [
        {
          "data": {
            "text/plain": [
              "Text(0.5, 0, 'Total pop. in top 105 cities')"
            ]
          },
          "execution_count": 65,
          "metadata": {},
          "output_type": "execute_result"
        },
        {
          "data": {
            "image/png": "[encoded data removed]",
            "text/plain": [
              "<Figure size 864x288 with 2 Axes>"
            ]
          },
          "metadata": {
            "needs_background": "light"
          },
          "output_type": "display_data"
        }
      ]
    },
    {
      "cell_type": "code",
      "metadata": {
        "ExecuteTime": {
          "end_time": "2020-08-28T21:59:34.078755Z",
          "start_time": "2020-08-28T21:59:34.020440Z"
        },
        "id": "OxiID7R40oUc",
        "outputId": "61cd482b-b148-4b3d-d71f-d131d4041b74"
      },
      "source": [
        "# Pivot tables\n",
        "# https://pandas.pydata.org/pandas-docs/stable/reference/api/pandas.pivot_table.html\n",
        "print(df[df.State == \"France\"])\n",
        "df.pivot_table(values=\"Numeric Population\", index=[\"State\"], aggfunc=np.sum)"
      ],
      "execution_count": null,
      "outputs": [
        {
          "name": "stdout",
          "output_type": "stream",
          "text": [
            "    Rank       City   State Population Date of census/estimate  \\\n",
            "4      5      Paris  France  2,273,305          1 January 2013   \n",
            "21    22  Marseille  France    852,516        31 December 2012   \n",
            "62    63       Lyon  France    484,344        31 December 2010   \n",
            "65    66   Toulouse  France    441,802        31 December 2010   \n",
            "81    82       Nice  France    343,304        31 December 2010   \n",
            "\n",
            "    Numeric Population  \n",
            "4              2273305  \n",
            "21              852516  \n",
            "62              484344  \n",
            "65              441802  \n",
            "81              343304  \n"
          ]
        },
        {
          "data": {
            "text/html": [
              "<div>\n",
              "<style scoped>\n",
              "    .dataframe tbody tr th:only-of-type {\n",
              "        vertical-align: middle;\n",
              "    }\n",
              "\n",
              "    .dataframe tbody tr th {\n",
              "        vertical-align: top;\n",
              "    }\n",
              "\n",
              "    .dataframe thead th {\n",
              "        text-align: right;\n",
              "    }\n",
              "</style>\n",
              "<table border=\"1\" class=\"dataframe\">\n",
              "  <thead>\n",
              "    <tr style=\"text-align: right;\">\n",
              "      <th></th>\n",
              "      <th>Numeric Population</th>\n",
              "    </tr>\n",
              "    <tr>\n",
              "      <th>State</th>\n",
              "      <th></th>\n",
              "    </tr>\n",
              "  </thead>\n",
              "  <tbody>\n",
              "    <tr>\n",
              "      <th>Austria</th>\n",
              "      <td>1794770</td>\n",
              "    </tr>\n",
              "    <tr>\n",
              "      <th>Belgium</th>\n",
              "      <td>1686441</td>\n",
              "    </tr>\n",
              "    <tr>\n",
              "      <th>Bulgaria</th>\n",
              "      <td>1968755</td>\n",
              "    </tr>\n",
              "    <tr>\n",
              "      <th>Croatia</th>\n",
              "      <td>790017</td>\n",
              "    </tr>\n",
              "    <tr>\n",
              "      <th>Czech Republic</th>\n",
              "      <td>1625107</td>\n",
              "    </tr>\n",
              "    <tr>\n",
              "      <th>Denmark</th>\n",
              "      <td>886116</td>\n",
              "    </tr>\n",
              "    <tr>\n",
              "      <th>Estonia</th>\n",
              "      <td>434810</td>\n",
              "    </tr>\n",
              "    <tr>\n",
              "      <th>Finland</th>\n",
              "      <td>605523</td>\n",
              "    </tr>\n",
              "    <tr>\n",
              "      <th>France</th>\n",
              "      <td>4395271</td>\n",
              "    </tr>\n",
              "    <tr>\n",
              "      <th>Germany</th>\n",
              "      <td>15119548</td>\n",
              "    </tr>\n",
              "    <tr>\n",
              "      <th>Greece</th>\n",
              "      <td>986286</td>\n",
              "    </tr>\n",
              "    <tr>\n",
              "      <th>Hungary</th>\n",
              "      <td>1744665</td>\n",
              "    </tr>\n",
              "    <tr>\n",
              "      <th>Ireland</th>\n",
              "      <td>527612</td>\n",
              "    </tr>\n",
              "    <tr>\n",
              "      <th>Italy</th>\n",
              "      <td>8764067</td>\n",
              "    </tr>\n",
              "    <tr>\n",
              "      <th>Latvia</th>\n",
              "      <td>701185</td>\n",
              "    </tr>\n",
              "    <tr>\n",
              "      <th>Lithuania</th>\n",
              "      <td>844040</td>\n",
              "    </tr>\n",
              "    <tr>\n",
              "      <th>Netherlands</th>\n",
              "      <td>2271771</td>\n",
              "    </tr>\n",
              "    <tr>\n",
              "      <th>Poland</th>\n",
              "      <td>6267409</td>\n",
              "    </tr>\n",
              "    <tr>\n",
              "      <th>Portugal</th>\n",
              "      <td>547631</td>\n",
              "    </tr>\n",
              "    <tr>\n",
              "      <th>Romania</th>\n",
              "      <td>2527280</td>\n",
              "    </tr>\n",
              "    <tr>\n",
              "      <th>Slovakia Slovak Republic</th>\n",
              "      <td>417389</td>\n",
              "    </tr>\n",
              "    <tr>\n",
              "      <th>Spain</th>\n",
              "      <td>10041639</td>\n",
              "    </tr>\n",
              "    <tr>\n",
              "      <th>Sweden</th>\n",
              "      <td>1747095</td>\n",
              "    </tr>\n",
              "    <tr>\n",
              "      <th>United Kingdom</th>\n",
              "      <td>16011877</td>\n",
              "    </tr>\n",
              "  </tbody>\n",
              "</table>\n",
              "</div>"
            ],
            "text/plain": [
              "                          Numeric Population\n",
              "State                                       \n",
              "Austria                              1794770\n",
              "Belgium                              1686441\n",
              "Bulgaria                             1968755\n",
              "Croatia                               790017\n",
              "Czech Republic                       1625107\n",
              "Denmark                               886116\n",
              "Estonia                               434810\n",
              "Finland                               605523\n",
              "France                               4395271\n",
              "Germany                             15119548\n",
              "Greece                                986286\n",
              "Hungary                              1744665\n",
              "Ireland                               527612\n",
              "Italy                                8764067\n",
              "Latvia                                701185\n",
              "Lithuania                             844040\n",
              "Netherlands                          2271771\n",
              "Poland                               6267409\n",
              "Portugal                              547631\n",
              "Romania                              2527280\n",
              "Slovakia Slovak Republic              417389\n",
              "Spain                               10041639\n",
              "Sweden                               1747095\n",
              "United Kingdom                      16011877"
            ]
          },
          "execution_count": 43,
          "metadata": {},
          "output_type": "execute_result"
        }
      ]
    },
    {
      "cell_type": "markdown",
      "metadata": {
        "id": "5GPvA4x40oUd"
      },
      "source": [
        "### Date series and data frames"
      ]
    },
    {
      "cell_type": "code",
      "metadata": {
        "ExecuteTime": {
          "end_time": "2020-08-27T03:01:44.603150Z",
          "start_time": "2020-08-27T03:01:44.587883Z"
        },
        "id": "zQGF-5K50oUd"
      },
      "source": [
        "dates = pd.date_range('20130101', periods=6)\n",
        "print(dates)\n",
        "df = pd.DataFrame(np.random.randn(6,4), index=dates, columns=list('ABCD'))\n",
        "print(df)"
      ],
      "execution_count": null,
      "outputs": []
    },
    {
      "cell_type": "code",
      "metadata": {
        "ExecuteTime": {
          "end_time": "2020-08-27T03:02:00.551674Z",
          "start_time": "2020-08-27T03:02:00.525045Z"
        },
        "id": "GQ2HTzcj0oUd"
      },
      "source": [
        "df.sort_index(axis=1, ascending=False)"
      ],
      "execution_count": null,
      "outputs": []
    },
    {
      "cell_type": "code",
      "metadata": {
        "ExecuteTime": {
          "end_time": "2020-08-27T03:02:08.834400Z",
          "start_time": "2020-08-27T03:02:08.817019Z"
        },
        "id": "j8dHfVyj0oUd"
      },
      "source": [
        "df[df.A > 0]"
      ],
      "execution_count": null,
      "outputs": []
    },
    {
      "cell_type": "code",
      "metadata": {
        "ExecuteTime": {
          "end_time": "2020-08-27T03:02:16.405238Z",
          "start_time": "2020-08-27T03:02:16.389663Z"
        },
        "id": "i6buX9tg0oUd"
      },
      "source": [
        "df[df > 0]"
      ],
      "execution_count": null,
      "outputs": []
    },
    {
      "cell_type": "code",
      "metadata": {
        "ExecuteTime": {
          "end_time": "2020-08-27T03:02:17.505314Z",
          "start_time": "2020-08-27T03:02:17.492415Z"
        },
        "id": "FXp42fyb0oUe"
      },
      "source": [
        "df[df > 0].fillna(value=5)"
      ],
      "execution_count": null,
      "outputs": []
    },
    {
      "cell_type": "markdown",
      "metadata": {
        "ExecuteTime": {
          "end_time": "2020-08-27T13:57:28.991214Z",
          "start_time": "2020-08-27T13:57:28.986286Z"
        },
        "id": "kZAyOyCD0oUe"
      },
      "source": [
        "## Practice\n",
        "1) The Colombian government offers public dataset regarding its functioning, at the webpage https://www.datos.gov.co/. As an example, we will get the budget info from Cali, and extract the departments with budget execution smaller than 90%. REF: https://www.datos.gov.co/dataset/Ejecuci-n-Presupuestal-de-Gastos-por-Organismos-a-/qiu9-tp3c\n",
        "  - Load the data from \"http://datos.cali.gov.co/dataset/f7c0d30f-233a-4dbb-bf9e-66d5bf358410/resource/d37f213d-5e5c-4066-bd8f-fc84ca2da0de/download/ejecucion-presupuestal-de-gastos-por-organismos-a-diciembre-31-de-2019.xlsx\"\n",
        "  - (Data cleaning) As you can see, there are several columns that have spaces on their titles. Remove those spaces for easier indexing. Use the method `df.rename` on one column, then devise a way to do it for all columns.\n",
        "  - Select the departments with budget execution smaller than 90% and print them.\n",
        "  - For those departments, compute the ratio between the initial budget and any budget addition.\n",
        "\n",
        "2) Load the gapminder data from \"http://bit.ly/2cLzoxH\".\n",
        "  - Plot the gdppercapita as function of the life expectancy. Is there any correlation?\n"
      ]
    },
    {
      "cell_type": "markdown",
      "metadata": {
        "id": "PUCGzORZ0oUe"
      },
      "source": [
        "## Exercises\n",
        "\n",
        "From : https://www.w3resource.com/python-exercises/pandas/index.php , https://github.com/ajcr/100-pandas-puzzles/blob/master/100-pandas-puzzles.ipynb , https://github.com/guipsamora/pandas_exercises\n",
        "\n",
        "1. Write a Python program to create and display a DataFrame from a specified dictionary data which has the index labels.\n",
        "\n",
        "    - `exam_data = {'name': ['Anastasia', 'Dima', 'Katherine', 'James', 'Emily', 'Michael', 'Matthew',   'Laura', 'Kevin', 'Jonas']`,\n",
        "    `'score': [12.5, 9, 16.5, np.nan, 9, 20, 14.5, np.nan, 8, 19],`\n",
        "    `'attempts': [1, 3, 2, 3, 2, 3, 1, 1, 2, 1],`\n",
        "    `'qualify': ['yes', 'no', 'yes', 'no', 'no', 'yes', 'yes', 'no', 'no', 'yes']}`\n",
        "    - `labels = ['a', 'b', 'c', 'd', 'e', 'f', 'g', 'h', 'i', 'j']`\n",
        "    \n",
        "2. Print the `name` and `score` of the previous dataframe.\n",
        "\n",
        "3. Plot the socoreper student using matplotlib and seaborn.\n",
        "\n",
        "4. Show the students with tries larger or equal than 2.\n",
        "\n",
        "5. Compute the average examination attemps.\n",
        "\n",
        "6. Save the previous dataframe onto a csv and verify.\n",
        "\n",
        "7. Save the previous dictionary onto an excel file and verify.\n",
        "\n",
        "6. Solve the even exercises on https://github.com/ajcr/100-pandas-puzzles/blob/master/100-pandas-puzzles.ipynb "
      ]
    }
  ]
}