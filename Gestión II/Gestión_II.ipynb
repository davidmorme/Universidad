{
  "nbformat": 4,
  "nbformat_minor": 0,
  "metadata": {
    "colab": {
      "name": "Gestión II.ipynb",
      "provenance": [],
      "collapsed_sections": [],
      "authorship_tag": "ABX9TyOwuVlTbv/2ZkKNi6tVvUt6",
      "include_colab_link": true
    },
    "kernelspec": {
      "name": "python3",
      "display_name": "Python 3"
    }
  },
  "cells": [
    {
      "cell_type": "markdown",
      "metadata": {
        "id": "view-in-github",
        "colab_type": "text"
      },
      "source": [
        "<a href=\"https://colab.research.google.com/github/davidmorme/Universidad/blob/main/Gesti%C3%B3n%20II/Gesti%C3%B3n_II.ipynb\" target=\"_parent\"><img src=\"https://colab.research.google.com/assets/colab-badge.svg\" alt=\"Open In Colab\"/></a>"
      ]
    },
    {
      "cell_type": "code",
      "metadata": {
        "id": "Q-k4HDUzG8to"
      },
      "source": [
        "import numpy as np\n",
        "import pandas as pd\n",
        "import scipy.stats as st"
      ],
      "execution_count": 1,
      "outputs": []
    },
    {
      "cell_type": "code",
      "metadata": {
        "id": "w34n0U_fMDdI"
      },
      "source": [
        "POptimos=[]\n",
        "D=2\n",
        "Demanda=np.zeros(1000)\n",
        "for i in range(0,1000):\n",
        "  Demanda[i]=round(sum(st.t(11,loc=227.83,scale=23.478).rvs(D)))"
      ],
      "execution_count": null,
      "outputs": []
    },
    {
      "cell_type": "code",
      "metadata": {
        "id": "bQ0wUzUmRpji"
      },
      "source": [
        "h=2000\n",
        "CP=192141.486570962\n",
        "PV=CP*1.3/0.4\n",
        "CF=PV-CP/0.4\n",
        "min=400\n",
        "max=1001"
      ],
      "execution_count": null,
      "outputs": []
    },
    {
      "cell_type": "code",
      "metadata": {
        "id": "6hUcOfdHPkAL"
      },
      "source": [
        "UtilidadPromedio=np.zeros(max-min)\n",
        "for P in range(min,max):\n",
        "  Utilidades=np.zeros(1000)\n",
        "  for i in range (0,1000):\n",
        "    if P < Demanda[i]:\n",
        "      Inventario=0\n",
        "      Faltantes=Demanda[i]-P\n",
        "      Ventas=P\n",
        "    else:\n",
        "      Inventario=P-Demanda[i]\n",
        "      Faltantes=0\n",
        "      Ventas=Demanda[i]\n",
        "    CostoInventario=h*Inventario*D\n",
        "    CostoFaltantes=Faltantes*CF\n",
        "    CostoProducir=CP*P\n",
        "    IngresosVentas=Ventas*PV\n",
        "    Utilidad=IngresosVentas-CostoProducir-CostoFaltantes-CostoInventario\n",
        "    CostoTotal=CostoProducir+CostoFaltantes+CostoInventario\n",
        "    Utilidades[i]=Utilidad\n",
        "  UtilidadPromedio[P-min]=Utilidades.mean()"
      ],
      "execution_count": null,
      "outputs": []
    },
    {
      "cell_type": "code",
      "metadata": {
        "id": "WB1E9NZpYd7w"
      },
      "source": [
        "j=np.argmax(UtilidadPromedio)\n",
        "POptimo=min+j\n",
        "POptimos.append(POptimo)"
      ],
      "execution_count": null,
      "outputs": []
    },
    {
      "cell_type": "code",
      "metadata": {
        "id": "CMONUR5ndPFe"
      },
      "source": [
        "Demanda=np.zeros(1000)\n",
        "D=2\n",
        "for i in range(0,1000):\n",
        "  Demanda[i]=round(sum(st.t(11,loc=248.75,scale=16.9).rvs(D)))"
      ],
      "execution_count": null,
      "outputs": []
    },
    {
      "cell_type": "code",
      "metadata": {
        "id": "5LA8EvH0dUd-"
      },
      "source": [
        "h=2000\n",
        "CP=118733.121114396\n",
        "PV=CP*1.3/0.4\n",
        "CF=PV-CP/0.4\n",
        "min=400\n",
        "max=1001"
      ],
      "execution_count": null,
      "outputs": []
    },
    {
      "cell_type": "code",
      "metadata": {
        "id": "arCE_VFOdWfj"
      },
      "source": [
        "UtilidadPromedio=np.zeros(max-min)\n",
        "CostoPromedio=np.zeros(max-min)\n",
        "for P in range(min,max):\n",
        "  Utilidades=np.zeros(1000)\n",
        "  Costos=np.zeros(1000)\n",
        "  for i in range (0,1000):\n",
        "    if P < Demanda[i]:\n",
        "      Inventario=0\n",
        "      Faltantes=Demanda[i]-P\n",
        "      Ventas=P\n",
        "    else:\n",
        "      Inventario=P-Demanda[i]\n",
        "      Faltantes=0\n",
        "      Ventas=Demanda[i]\n",
        "    CostoInventario=h*Inventario*D\n",
        "    CostoFaltantes=Faltantes*CF\n",
        "    CostoProducir=CP*P\n",
        "    IngresosVentas=Ventas*PV\n",
        "    Utilidad=IngresosVentas-CostoProducir-CostoFaltantes-CostoInventario\n",
        "    CostoTotal=CostoProducir+CostoFaltantes+CostoInventario\n",
        "    Utilidades[i]=Utilidad\n",
        "    Costos[i]=CostoTotal\n",
        "  UtilidadPromedio[P-min]=Utilidades.mean()\n",
        "  CostoPromedio[P-min]=Costos.mean()"
      ],
      "execution_count": null,
      "outputs": []
    },
    {
      "cell_type": "code",
      "metadata": {
        "colab": {
          "base_uri": "https://localhost:8080/"
        },
        "id": "4MIdKpsMdaBl",
        "outputId": "fd357694-b2a3-425b-95b1-48d0b9ab7295"
      },
      "source": [
        "print(np.max(UtilidadPromedio))\n",
        "j=np.argmax(UtilidadPromedio)\n",
        "POptimo=min+j\n",
        "print(POptimo)\n",
        "POptimos.append(POptimo)"
      ],
      "execution_count": null,
      "outputs": [
        {
          "output_type": "stream",
          "text": [
            "129182924.28845404\n",
            "515\n"
          ],
          "name": "stdout"
        }
      ]
    },
    {
      "cell_type": "code",
      "metadata": {
        "id": "vLA8dibGd8HV"
      },
      "source": [
        "Demanda=np.zeros(1000)\n",
        "D=2\n",
        "for i in range(0,1000):\n",
        "  Demanda[i]=round(sum(st.t(11,loc=227.33,scale=24.626).rvs(D)))"
      ],
      "execution_count": null,
      "outputs": []
    },
    {
      "cell_type": "code",
      "metadata": {
        "id": "9yB4tNokePCw"
      },
      "source": [
        "h=2000\n",
        "CP=107857.207297273\n",
        "PV=CP*1.3/0.4\n",
        "CF=PV-CP/0.4\n",
        "min=400\n",
        "max=1001"
      ],
      "execution_count": null,
      "outputs": []
    },
    {
      "cell_type": "code",
      "metadata": {
        "id": "t--xe2pSeOQZ"
      },
      "source": [
        "UtilidadPromedio=np.zeros(max-min)\n",
        "CostoPromedio=np.zeros(max-min)\n",
        "for P in range(min,max):\n",
        "  Utilidades=np.zeros(1000)\n",
        "  Costos=np.zeros(1000)\n",
        "  for i in range (0,1000):\n",
        "    if P < Demanda[i]:\n",
        "      Inventario=0\n",
        "      Faltantes=Demanda[i]-P\n",
        "      Ventas=P\n",
        "    else:\n",
        "      Inventario=P-Demanda[i]\n",
        "      Faltantes=0\n",
        "      Ventas=Demanda[i]\n",
        "    CostoInventario=h*Inventario*D\n",
        "    CostoFaltantes=Faltantes*CF\n",
        "    CostoProducir=CP*P\n",
        "    IngresosVentas=Ventas*PV\n",
        "    Utilidad=IngresosVentas-CostoProducir-CostoFaltantes-CostoInventario\n",
        "    CostoTotal=CostoProducir+CostoFaltantes+CostoInventario\n",
        "    Utilidades[i]=Utilidad\n",
        "    Costos[i]=CostoTotal\n",
        "  UtilidadPromedio[P-min]=Utilidades.mean()\n",
        "  CostoPromedio[P-min]=Costos.mean()"
      ],
      "execution_count": null,
      "outputs": []
    },
    {
      "cell_type": "code",
      "metadata": {
        "colab": {
          "base_uri": "https://localhost:8080/"
        },
        "id": "Dz397JMBeWNm",
        "outputId": "8ee6f1f3-b72c-413f-a178-f3edacfb87b6"
      },
      "source": [
        "print(np.max(UtilidadPromedio))\n",
        "j=np.argmax(UtilidadPromedio)\n",
        "POptimo=min+j\n",
        "print(POptimo)\n",
        "POptimos.append(POptimo)"
      ],
      "execution_count": null,
      "outputs": [
        {
          "output_type": "stream",
          "text": [
            "105223255.87108073\n",
            "482\n"
          ],
          "name": "stdout"
        }
      ]
    },
    {
      "cell_type": "code",
      "metadata": {
        "id": "EDFS0F6BeZl1"
      },
      "source": [
        "Demanda=np.zeros(1000)\n",
        "D=1\n",
        "for i in range(0,1000):\n",
        "  Demanda[i]=round(sum(st.t(11,loc=404.5,scale=11.658).rvs(1)))"
      ],
      "execution_count": null,
      "outputs": []
    },
    {
      "cell_type": "code",
      "metadata": {
        "id": "A42-So0remyt"
      },
      "source": [
        "h=2000\n",
        "CP=127056.346657243\n",
        "PV=CP*1.3/0.4\n",
        "CF=PV-CP/0.4\n",
        "min=400\n",
        "max=1001"
      ],
      "execution_count": null,
      "outputs": []
    },
    {
      "cell_type": "code",
      "metadata": {
        "id": "o0qCjMRyeqcP"
      },
      "source": [
        "UtilidadPromedio=np.zeros(max-min)\n",
        "CostoPromedio=np.zeros(max-min)\n",
        "for P in range(min,max):\n",
        "  Utilidades=np.zeros(1000)\n",
        "  Costos=np.zeros(1000)\n",
        "  for i in range (0,1000):\n",
        "    if P < Demanda[i]:\n",
        "      Inventario=0\n",
        "      Faltantes=Demanda[i]-P\n",
        "      Ventas=P\n",
        "    else:\n",
        "      Inventario=P-Demanda[i]\n",
        "      Faltantes=0\n",
        "      Ventas=Demanda[i]\n",
        "    CostoInventario=h*Inventario*D\n",
        "    CostoFaltantes=Faltantes*CF\n",
        "    CostoProducir=CP*P\n",
        "    IngresosVentas=Ventas*PV\n",
        "    Utilidad=IngresosVentas-CostoProducir-CostoFaltantes-CostoInventario\n",
        "    CostoTotal=CostoProducir+CostoFaltantes+CostoInventario\n",
        "    Utilidades[i]=Utilidad\n",
        "    Costos[i]=CostoTotal\n",
        "  UtilidadPromedio[P-min]=Utilidades.mean()\n",
        "  CostoPromedio[P-min]=Costos.mean()"
      ],
      "execution_count": null,
      "outputs": []
    },
    {
      "cell_type": "code",
      "metadata": {
        "colab": {
          "base_uri": "https://localhost:8080/"
        },
        "id": "a0LtVUaVevtj",
        "outputId": "5ea311f6-6b76-474b-fe9f-a7eca75d441d"
      },
      "source": [
        "print(np.max(UtilidadPromedio))\n",
        "j=np.argmax(UtilidadPromedio)\n",
        "POptimo=min+j\n",
        "print(POptimo)\n",
        "POptimos.append(POptimo)"
      ],
      "execution_count": null,
      "outputs": [
        {
          "output_type": "stream",
          "text": [
            "113707351.79073158\n",
            "413\n"
          ],
          "name": "stdout"
        }
      ]
    },
    {
      "cell_type": "code",
      "metadata": {
        "colab": {
          "base_uri": "https://localhost:8080/"
        },
        "id": "peQZSrB4hKdi",
        "outputId": "ecc9c02f-db78-4cf3-c535-c09ca3f5a8f9"
      },
      "source": [
        "POptimos=np.array(POptimos)\n",
        "print(POptimos)"
      ],
      "execution_count": null,
      "outputs": [
        {
          "output_type": "stream",
          "text": [
            "[478 515 482 413]\n"
          ],
          "name": "stdout"
        }
      ]
    },
    {
      "cell_type": "code",
      "metadata": {
        "colab": {
          "base_uri": "https://localhost:8080/"
        },
        "id": "mLneSRdCiPTU",
        "outputId": "e2d3bed5-4f6c-48bc-d696-2000a919764d"
      },
      "source": [
        "PlanP=np.array([456,498,454,404])\n",
        "SS=POptimos-PlanP\n",
        "print(SS)"
      ],
      "execution_count": null,
      "outputs": [
        {
          "output_type": "stream",
          "text": [
            "[22 17 28  9]\n"
          ],
          "name": "stdout"
        }
      ]
    },
    {
      "cell_type": "code",
      "metadata": {
        "colab": {
          "base_uri": "https://localhost:8080/"
        },
        "id": "ekxlFYZWCjnJ",
        "outputId": "8fe62a6d-3b14-4db7-a685-eb1d26efa6df"
      },
      "source": [
        "Nombre=input('Nombre de mi amorcito ')\n",
        "if Nombre.capitalize() == 'Catalina'.capitalize():\n",
        "  print('Te amo',Nombre)\n",
        "else:\n",
        "  print('Suerte',Nombre)"
      ],
      "execution_count": null,
      "outputs": [
        {
          "output_type": "stream",
          "text": [
            "Nombre de mi amorcito CAda\n",
            "Suerte CAda\n"
          ],
          "name": "stdout"
        }
      ]
    },
    {
      "cell_type": "code",
      "metadata": {
        "id": "hS32OcwrONw8"
      },
      "source": [
        "import pandas as pd\n",
        "import numpy as np\n",
        "import scipy.stats as st"
      ],
      "execution_count": null,
      "outputs": []
    },
    {
      "cell_type": "code",
      "metadata": {
        "id": "UH3lCAl0OPSP"
      },
      "source": [
        "Data = pd.DataFrame({'Referencia': ['Referencia 1', 'Referencia 2', 'Referencia 3', 'Referencia 4'],'Plan_Producción':[456,498,454,404], 'CostoUnitario':[192141.486570962, 118733.121114396,107857.207297273, 127056.346657243], 'h':[2000,2000,2000,2000],'Media':[227.83, 248.75,227.33 ,404.5], 'Desv.Est':[23.478,16.9,24.626,11.658], 'N':[12,12,12,12], 'Periodos':[2,2,2,1]})\n",
        "Data.set_index('Referencia', inplace=True)\n",
        "Data['PrecioVenta']=Data['CostoUnitario']/0.4*1.3\n",
        "Data['CostoFaltantes']=Data['PrecioVenta']-Data['CostoUnitario']/0.4\n",
        "down=400\n",
        "up=1001\n",
        "Repeticiones=1000\n",
        "POptimos=[]"
      ],
      "execution_count": null,
      "outputs": []
    },
    {
      "cell_type": "code",
      "metadata": {
        "id": "TMYg8C4cOQuk"
      },
      "source": [
        "for k in Data.index:\n",
        "    Demanda=np.zeros(Repeticiones)\n",
        "    for i in range(0,Repeticiones):\n",
        "        Demanda[i]=round(sum(st.t(Data['N'].loc[k]-1,loc=Data['Media'].loc[k],scale=Data['Desv.Est'].loc[k]).rvs(Data['Periodos'].loc[k])))\n",
        "    UtilidadPromedio=np.zeros(up-down)\n",
        "    for P in range(down,up):\n",
        "        Utilidades=np.zeros(Repeticiones)\n",
        "        for i in range(0,Repeticiones):\n",
        "            if P < Demanda[i]:\n",
        "                Inventario=0\n",
        "                Faltantes=Demanda[i]-P\n",
        "                Ventas=P\n",
        "            else:\n",
        "                Inventario=P-Demanda[i]\n",
        "                Faltantes=0\n",
        "                Ventas=Demanda[i]\n",
        "            CostoInventario=Data['h'].loc[k]*Inventario*Data['Periodos'].loc[k]\n",
        "            CostoFaltantes=Faltantes*Data['CostoFaltantes'].loc[k]\n",
        "            CostoProducir=P*Data['CostoUnitario'].loc[k]\n",
        "            IngresosVentas=Ventas*Data['PrecioVenta'].loc[k]\n",
        "            Utilidad=IngresosVentas-CostoProducir-CostoFaltantes-CostoInventario\n",
        "            Utilidades[i]=Utilidad\n",
        "        UtilidadPromedio[P-down]=Utilidades.mean()\n",
        "    j=np.argmax(UtilidadPromedio)\n",
        "    POptimo=down+j\n",
        "    POptimos.append(POptimo)"
      ],
      "execution_count": null,
      "outputs": []
    },
    {
      "cell_type": "code",
      "metadata": {
        "id": "lHd5z3ivOTJe"
      },
      "source": [
        "Data['POptimos']=np.array(POptimos)\n",
        "Data['SS']=Data['POptimos']-Data['Plan_Producción']\n",
        "Data"
      ],
      "execution_count": null,
      "outputs": []
    },
    {
      "cell_type": "markdown",
      "metadata": {
        "id": "W-GvCPw2E8SG"
      },
      "source": [
        "Datos para cadenas"
      ]
    },
    {
      "cell_type": "code",
      "metadata": {
        "id": "RHEngfKrFDIe"
      },
      "source": [
        "data=pd.DataFrame({'Tarea':[1,2,3,4,5,6,7],'wj':[6,18,12,8,8,17,18],'pj':[3,6,6,5,4,8,10]})\n",
        "data.set_index('Tarea', inplace=True)\n",
        "data"
      ],
      "execution_count": null,
      "outputs": []
    },
    {
      "cell_type": "code",
      "metadata": {
        "id": "yu87_vHIGKUn"
      },
      "source": [
        "Cadena1=[1,2,3,4]\n",
        "Cadena2=[5,6,7]"
      ],
      "execution_count": null,
      "outputs": []
    },
    {
      "cell_type": "markdown",
      "metadata": {
        "id": "FORt0Nh6T57v"
      },
      "source": [
        "Cadena sin interrupción"
      ]
    },
    {
      "cell_type": "code",
      "metadata": {
        "id": "BlIJZ2xOSmkD"
      },
      "source": [
        "Secuencia=[]\n",
        "sumawj=0\n",
        "sumapj=0\n",
        "for i in Cadena1:\n",
        "  sumawj=sumawj+data['wj'].loc[i]\n",
        "  sumapj=sumapj+data['pj'].loc[i]\n",
        "Div1=sumawj/sumapj\n",
        "sumawj=0\n",
        "sumapj=0\n",
        "for i in Cadena2:\n",
        "  sumawj=sumawj+data['wj'].loc[i]\n",
        "  sumapj=sumapj+data['pj'].loc[i]\n",
        "Div2=sumawj/sumapj\n",
        "if Div1<Div2:\n",
        "  Secuencia=Cadena2+Cadena1\n",
        "else:\n",
        "  Secuencia=Cadena1+Cadena2\n",
        "print(Secuencia)"
      ],
      "execution_count": null,
      "outputs": []
    },
    {
      "cell_type": "markdown",
      "metadata": {
        "id": "tdjPMohEUD4s"
      },
      "source": [
        "Cadena con Interrupción"
      ]
    },
    {
      "cell_type": "code",
      "metadata": {
        "id": "1RPqM7tKGjnN"
      },
      "source": [
        "RCadena1=list(Cadena1)\n",
        "RCadena2=list(Cadena2)\n",
        "Secuencia=[]\n",
        "while RCadena1 or RCadena2 != []:\n",
        "  sumawj=0\n",
        "  sumapj=0\n",
        "  Rho1=[]\n",
        "  Rho2=[]\n",
        "  for i in RCadena1:\n",
        "  \n",
        "    sumawj=sumawj+data['wj'].loc[i]\n",
        "    sumapj=sumapj+data['pj'].loc[i]\n",
        "    Rho1.append(sumawj/sumapj)\n",
        "  sumawj=0\n",
        "  sumapj=0\n",
        "  for i in RCadena2:\n",
        "  \n",
        "    sumawj=sumawj+data['wj'].loc[i]\n",
        "    sumapj=sumapj+data['pj'].loc[i]\n",
        "    Rho2.append(sumawj/sumapj)\n",
        "  Rho1.append(0)\n",
        "  Rho2.append(0)\n",
        "  if max(Rho1)<max(Rho2):\n",
        "    Rho=Rho2\n",
        "    RCadena=RCadena2\n",
        "  else:\n",
        "    Rho=Rho1\n",
        "    RCadena=RCadena1\n",
        "  for d in range(0,np.argmax(Rho)+1):\n",
        "    Secuencia.append(RCadena[0])\n",
        "    del(RCadena[0])\n",
        "print(Secuencia)"
      ],
      "execution_count": null,
      "outputs": []
    },
    {
      "cell_type": "markdown",
      "metadata": {
        "id": "kNHR-UB9UkiF"
      },
      "source": [
        "###Datos para Heurística NEH "
      ]
    },
    {
      "cell_type": "markdown",
      "metadata": {
        "id": "RP-1gQn75r6w"
      },
      "source": [
        "Ejemplo en clase"
      ]
    },
    {
      "cell_type": "code",
      "metadata": {
        "id": "9GjV4BOs6_0Y"
      },
      "source": [
        "Data = pd.DataFrame({'Trabajo': ['4', '3', '5', '1','2'],'M1':[19,13,15,16,14], 'M2':[15,20,16,18,10],'M3':[19,15,16,12,11]})\n",
        "Data.set_index('Trabajo', inplace=True)"
      ],
      "execution_count": null,
      "outputs": []
    },
    {
      "cell_type": "code",
      "metadata": {
        "colab": {
          "base_uri": "https://localhost:8080/",
          "height": 235
        },
        "id": "PfuYkeoO7n-4",
        "outputId": "5f11475e-d386-4984-b34f-85ba6e5686ea"
      },
      "source": [
        "Data"
      ],
      "execution_count": null,
      "outputs": [
        {
          "output_type": "execute_result",
          "data": {
            "text/html": [
              "<div>\n",
              "<style scoped>\n",
              "    .dataframe tbody tr th:only-of-type {\n",
              "        vertical-align: middle;\n",
              "    }\n",
              "\n",
              "    .dataframe tbody tr th {\n",
              "        vertical-align: top;\n",
              "    }\n",
              "\n",
              "    .dataframe thead th {\n",
              "        text-align: right;\n",
              "    }\n",
              "</style>\n",
              "<table border=\"1\" class=\"dataframe\">\n",
              "  <thead>\n",
              "    <tr style=\"text-align: right;\">\n",
              "      <th></th>\n",
              "      <th>M1</th>\n",
              "      <th>M2</th>\n",
              "      <th>M3</th>\n",
              "    </tr>\n",
              "    <tr>\n",
              "      <th>Trabajo</th>\n",
              "      <th></th>\n",
              "      <th></th>\n",
              "      <th></th>\n",
              "    </tr>\n",
              "  </thead>\n",
              "  <tbody>\n",
              "    <tr>\n",
              "      <th>4</th>\n",
              "      <td>19</td>\n",
              "      <td>15</td>\n",
              "      <td>19</td>\n",
              "    </tr>\n",
              "    <tr>\n",
              "      <th>3</th>\n",
              "      <td>13</td>\n",
              "      <td>20</td>\n",
              "      <td>15</td>\n",
              "    </tr>\n",
              "    <tr>\n",
              "      <th>5</th>\n",
              "      <td>15</td>\n",
              "      <td>16</td>\n",
              "      <td>16</td>\n",
              "    </tr>\n",
              "    <tr>\n",
              "      <th>1</th>\n",
              "      <td>16</td>\n",
              "      <td>18</td>\n",
              "      <td>12</td>\n",
              "    </tr>\n",
              "    <tr>\n",
              "      <th>2</th>\n",
              "      <td>14</td>\n",
              "      <td>10</td>\n",
              "      <td>11</td>\n",
              "    </tr>\n",
              "  </tbody>\n",
              "</table>\n",
              "</div>"
            ],
            "text/plain": [
              "         M1  M2  M3\n",
              "Trabajo            \n",
              "4        19  15  19\n",
              "3        13  20  15\n",
              "5        15  16  16\n",
              "1        16  18  12\n",
              "2        14  10  11"
            ]
          },
          "metadata": {
            "tags": []
          },
          "execution_count": 238
        }
      ]
    },
    {
      "cell_type": "code",
      "metadata": {
        "id": "OEKdvmy-zwVs"
      },
      "source": [
        "def CalcularCMax(Lista,Maquinas,Data1):\n",
        "  Matriz=np.zeros((len(Lista),Maquinas))\n",
        "  for i in Lista:\n",
        "    Data1.loc[str(i)]=Data.loc[str(i)]\n",
        "  Matriz[[0],[0]]=Data1.iloc[0,0]\n",
        "  for i in range(1,len(Lista)):\n",
        "    Matriz[[i],[0]]=Matriz[[i-1],[0]]+Data1.iloc[i,0]\n",
        "  for j in range(0,Maquinas):\n",
        "    Matriz[[0],[j]]=Data1.iloc[0,j]+Matriz[[0],[j-1]]\n",
        "  for i in range(1,len(Lista)):\n",
        "    for j in range(1,Maquinas):\n",
        "      Matriz[[i],[j]]=Data1.iloc[i,j]+np.max([Matriz[[i],[j-1]],Matriz[[i-1],[j]]])\n",
        "  CMax=Matriz[[-1],[-1]]\n",
        "  return CMax"
      ],
      "execution_count": null,
      "outputs": []
    },
    {
      "cell_type": "code",
      "metadata": {
        "colab": {
          "base_uri": "https://localhost:8080/"
        },
        "id": "p4EGqc7Y8Yoz",
        "outputId": "460c546a-13b8-46f2-bdf8-76e3937d5f54"
      },
      "source": [
        "Maquinas=len(Data.columns)\n",
        "ListaP=[]\n",
        "ListaOp=[]\n",
        "for l in Data.index:\n",
        "  CmaxMin=0\n",
        "  ListaP.append(l)\n",
        "  for j in range(0,len(ListaP)):\n",
        "    Lista1=[]\n",
        "    Data1=pd.DataFrame({'Trabajo': [],'M1':[], 'M2':[],'M3':[]})\n",
        "    Data1.set_index('Trabajo', inplace=True)\n",
        "    for i in range(0,j):\n",
        "      Lista1.append(ListaP[i])\n",
        "    Lista1.append(ListaP[-1])\n",
        "    for i in range(j,len(ListaP)-1):\n",
        "      Lista1.append(ListaP[i])\n",
        "    Cmax=CalcularCMax(Lista1,Maquinas,Data1)\n",
        "    if CmaxMin==0:\n",
        "      CmaxMin=Cmax\n",
        "      ListaOp=Lista1\n",
        "    if Cmax<CmaxMin:\n",
        "      CmaxMin=Cmax\n",
        "      ListaOp=Lista1\n",
        "  ListaP=ListaOp\n",
        "  print(CmaxMin,ListaOp)"
      ],
      "execution_count": null,
      "outputs": [
        {
          "output_type": "stream",
          "text": [
            "[53.] ['4']\n",
            "[67.] ['3', '4']\n",
            "[83.] ['3', '4', '5']\n",
            "[95.] ['3', '4', '5', '1']\n",
            "[106.] ['3', '4', '5', '1', '2']\n"
          ],
          "name": "stdout"
        }
      ]
    },
    {
      "cell_type": "markdown",
      "metadata": {
        "id": "b39Fd0Z55vAD"
      },
      "source": [
        "###Parte 1 Parcial 2 Examen 2"
      ]
    },
    {
      "cell_type": "code",
      "metadata": {
        "colab": {
          "base_uri": "https://localhost:8080/",
          "height": 669
        },
        "id": "G_eha7C2VRP3",
        "outputId": "069711ef-984a-4352-cdaf-5050220d017e"
      },
      "source": [
        "Data = pd.read_csv('/Parte 1 Sin Ordenar.csv', sep=\";\")\n",
        "Data"
      ],
      "execution_count": null,
      "outputs": [
        {
          "output_type": "execute_result",
          "data": {
            "text/html": [
              "<div>\n",
              "<style scoped>\n",
              "    .dataframe tbody tr th:only-of-type {\n",
              "        vertical-align: middle;\n",
              "    }\n",
              "\n",
              "    .dataframe tbody tr th {\n",
              "        vertical-align: top;\n",
              "    }\n",
              "\n",
              "    .dataframe thead th {\n",
              "        text-align: right;\n",
              "    }\n",
              "</style>\n",
              "<table border=\"1\" class=\"dataframe\">\n",
              "  <thead>\n",
              "    <tr style=\"text-align: right;\">\n",
              "      <th></th>\n",
              "      <th>Trabajo</th>\n",
              "      <th>M1</th>\n",
              "      <th>M2</th>\n",
              "      <th>M3</th>\n",
              "      <th>M4</th>\n",
              "      <th>M5</th>\n",
              "      <th>M6</th>\n",
              "    </tr>\n",
              "  </thead>\n",
              "  <tbody>\n",
              "    <tr>\n",
              "      <th>0</th>\n",
              "      <td>1001</td>\n",
              "      <td>34</td>\n",
              "      <td>13</td>\n",
              "      <td>46</td>\n",
              "      <td>17</td>\n",
              "      <td>18</td>\n",
              "      <td>32</td>\n",
              "    </tr>\n",
              "    <tr>\n",
              "      <th>1</th>\n",
              "      <td>1002</td>\n",
              "      <td>47</td>\n",
              "      <td>24</td>\n",
              "      <td>18</td>\n",
              "      <td>10</td>\n",
              "      <td>35</td>\n",
              "      <td>23</td>\n",
              "    </tr>\n",
              "    <tr>\n",
              "      <th>2</th>\n",
              "      <td>1003</td>\n",
              "      <td>37</td>\n",
              "      <td>27</td>\n",
              "      <td>36</td>\n",
              "      <td>45</td>\n",
              "      <td>23</td>\n",
              "      <td>45</td>\n",
              "    </tr>\n",
              "    <tr>\n",
              "      <th>3</th>\n",
              "      <td>1004</td>\n",
              "      <td>38</td>\n",
              "      <td>30</td>\n",
              "      <td>15</td>\n",
              "      <td>49</td>\n",
              "      <td>13</td>\n",
              "      <td>16</td>\n",
              "    </tr>\n",
              "    <tr>\n",
              "      <th>4</th>\n",
              "      <td>1005</td>\n",
              "      <td>35</td>\n",
              "      <td>23</td>\n",
              "      <td>41</td>\n",
              "      <td>37</td>\n",
              "      <td>30</td>\n",
              "      <td>22</td>\n",
              "    </tr>\n",
              "    <tr>\n",
              "      <th>5</th>\n",
              "      <td>1006</td>\n",
              "      <td>39</td>\n",
              "      <td>25</td>\n",
              "      <td>19</td>\n",
              "      <td>50</td>\n",
              "      <td>28</td>\n",
              "      <td>43</td>\n",
              "    </tr>\n",
              "    <tr>\n",
              "      <th>6</th>\n",
              "      <td>1007</td>\n",
              "      <td>20</td>\n",
              "      <td>22</td>\n",
              "      <td>11</td>\n",
              "      <td>23</td>\n",
              "      <td>22</td>\n",
              "      <td>44</td>\n",
              "    </tr>\n",
              "    <tr>\n",
              "      <th>7</th>\n",
              "      <td>1008</td>\n",
              "      <td>49</td>\n",
              "      <td>49</td>\n",
              "      <td>14</td>\n",
              "      <td>44</td>\n",
              "      <td>17</td>\n",
              "      <td>40</td>\n",
              "    </tr>\n",
              "    <tr>\n",
              "      <th>8</th>\n",
              "      <td>1009</td>\n",
              "      <td>41</td>\n",
              "      <td>21</td>\n",
              "      <td>35</td>\n",
              "      <td>41</td>\n",
              "      <td>16</td>\n",
              "      <td>39</td>\n",
              "    </tr>\n",
              "    <tr>\n",
              "      <th>9</th>\n",
              "      <td>1010</td>\n",
              "      <td>30</td>\n",
              "      <td>11</td>\n",
              "      <td>50</td>\n",
              "      <td>20</td>\n",
              "      <td>27</td>\n",
              "      <td>29</td>\n",
              "    </tr>\n",
              "    <tr>\n",
              "      <th>10</th>\n",
              "      <td>1011</td>\n",
              "      <td>23</td>\n",
              "      <td>41</td>\n",
              "      <td>10</td>\n",
              "      <td>18</td>\n",
              "      <td>32</td>\n",
              "      <td>17</td>\n",
              "    </tr>\n",
              "    <tr>\n",
              "      <th>11</th>\n",
              "      <td>1012</td>\n",
              "      <td>40</td>\n",
              "      <td>48</td>\n",
              "      <td>49</td>\n",
              "      <td>21</td>\n",
              "      <td>48</td>\n",
              "      <td>15</td>\n",
              "    </tr>\n",
              "    <tr>\n",
              "      <th>12</th>\n",
              "      <td>1013</td>\n",
              "      <td>15</td>\n",
              "      <td>44</td>\n",
              "      <td>22</td>\n",
              "      <td>28</td>\n",
              "      <td>49</td>\n",
              "      <td>12</td>\n",
              "    </tr>\n",
              "    <tr>\n",
              "      <th>13</th>\n",
              "      <td>1014</td>\n",
              "      <td>21</td>\n",
              "      <td>47</td>\n",
              "      <td>37</td>\n",
              "      <td>47</td>\n",
              "      <td>43</td>\n",
              "      <td>26</td>\n",
              "    </tr>\n",
              "    <tr>\n",
              "      <th>14</th>\n",
              "      <td>1015</td>\n",
              "      <td>13</td>\n",
              "      <td>31</td>\n",
              "      <td>47</td>\n",
              "      <td>13</td>\n",
              "      <td>41</td>\n",
              "      <td>14</td>\n",
              "    </tr>\n",
              "    <tr>\n",
              "      <th>15</th>\n",
              "      <td>1016</td>\n",
              "      <td>42</td>\n",
              "      <td>43</td>\n",
              "      <td>44</td>\n",
              "      <td>12</td>\n",
              "      <td>31</td>\n",
              "      <td>41</td>\n",
              "    </tr>\n",
              "    <tr>\n",
              "      <th>16</th>\n",
              "      <td>1017</td>\n",
              "      <td>44</td>\n",
              "      <td>14</td>\n",
              "      <td>27</td>\n",
              "      <td>38</td>\n",
              "      <td>19</td>\n",
              "      <td>19</td>\n",
              "    </tr>\n",
              "    <tr>\n",
              "      <th>17</th>\n",
              "      <td>1018</td>\n",
              "      <td>12</td>\n",
              "      <td>28</td>\n",
              "      <td>21</td>\n",
              "      <td>31</td>\n",
              "      <td>29</td>\n",
              "      <td>34</td>\n",
              "    </tr>\n",
              "    <tr>\n",
              "      <th>18</th>\n",
              "      <td>1019</td>\n",
              "      <td>31</td>\n",
              "      <td>38</td>\n",
              "      <td>16</td>\n",
              "      <td>11</td>\n",
              "      <td>20</td>\n",
              "      <td>48</td>\n",
              "    </tr>\n",
              "    <tr>\n",
              "      <th>19</th>\n",
              "      <td>1020</td>\n",
              "      <td>28</td>\n",
              "      <td>50</td>\n",
              "      <td>20</td>\n",
              "      <td>27</td>\n",
              "      <td>11</td>\n",
              "      <td>13</td>\n",
              "    </tr>\n",
              "  </tbody>\n",
              "</table>\n",
              "</div>"
            ],
            "text/plain": [
              "    Trabajo  M1  M2  M3  M4  M5  M6\n",
              "0      1001  34  13  46  17  18  32\n",
              "1      1002  47  24  18  10  35  23\n",
              "2      1003  37  27  36  45  23  45\n",
              "3      1004  38  30  15  49  13  16\n",
              "4      1005  35  23  41  37  30  22\n",
              "5      1006  39  25  19  50  28  43\n",
              "6      1007  20  22  11  23  22  44\n",
              "7      1008  49  49  14  44  17  40\n",
              "8      1009  41  21  35  41  16  39\n",
              "9      1010  30  11  50  20  27  29\n",
              "10     1011  23  41  10  18  32  17\n",
              "11     1012  40  48  49  21  48  15\n",
              "12     1013  15  44  22  28  49  12\n",
              "13     1014  21  47  37  47  43  26\n",
              "14     1015  13  31  47  13  41  14\n",
              "15     1016  42  43  44  12  31  41\n",
              "16     1017  44  14  27  38  19  19\n",
              "17     1018  12  28  21  31  29  34\n",
              "18     1019  31  38  16  11  20  48\n",
              "19     1020  28  50  20  27  11  13"
            ]
          },
          "metadata": {
            "tags": []
          },
          "execution_count": 97
        }
      ]
    },
    {
      "cell_type": "code",
      "metadata": {
        "id": "NadI9gzzV8f1"
      },
      "source": [
        "def CalcularCMax(Lista,Maquinas,Data1):\n",
        "  Matriz=np.zeros((len(Lista),Maquinas))\n",
        "  for k in Lista:\n",
        "    Data1.loc[str(k)]=Data.loc[k]\n",
        "  Matriz[[0],[0]]=Data1.iloc[0,0]\n",
        "  for i in range(1,len(Lista)):\n",
        "    Matriz[[i],[0]]=Matriz[[i-1],[0]]+Data1.iloc[i,0]\n",
        "  for j in range(0,Maquinas):\n",
        "    Matriz[[0],[j]]=Data1.iloc[0,j]+Matriz[[0],[j-1]]\n",
        "  for i in range(1,len(Lista)):\n",
        "    for j in range(1,Maquinas):\n",
        "      Matriz[[i],[j]]=Data1.iloc[i,j]+np.max([Matriz[[i],[j-1]],Matriz[[i-1],[j]]])\n",
        "  CMax=Matriz[[-1],[-1]]\n",
        "  return CMax"
      ],
      "execution_count": null,
      "outputs": []
    },
    {
      "cell_type": "code",
      "metadata": {
        "colab": {
          "base_uri": "https://localhost:8080/"
        },
        "id": "dypN7c6XLIed",
        "outputId": "ba010055-8fe5-4c8f-8221-b05f96a08721"
      },
      "source": [
        "Maquinas=len(Data.columns)-1\n",
        "ListaP=[]\n",
        "ListaOp=[]\n",
        "Lista=[]\n",
        "Lista25=[]\n",
        "l25=[]\n",
        "\n",
        "for l in Data.index:\n",
        "  CmaxMin=0\n",
        "  ListaP.append(l)\n",
        "  for j in range(0,len(ListaP)):\n",
        "    Lista=[]\n",
        "    Data1=pd.DataFrame({'Trabajo': [],'M1':[], 'M2':[],'M3':[],'M4':[], 'M5':[],'M6':[]})\n",
        "    Data1.set_index('Trabajo', inplace=True)\n",
        "    for i in range(0,j):\n",
        "      Lista.append(ListaP[i])\n",
        "    Lista.append(ListaP[-1])\n",
        "    for i in range(j,len(ListaP)-1):\n",
        "      Lista.append(ListaP[i])\n",
        "    Cmax=CalcularCMax(Lista,Maquinas,Data1)\n",
        "    if CmaxMin==0:\n",
        "      CmaxMin=Cmax\n",
        "      ListaOp=Lista\n",
        "    elif Cmax<CmaxMin:\n",
        "      CmaxMin=Cmax\n",
        "      ListaOp=Lista\n",
        "    elif Cmax==CmaxMin:\n",
        "      l25.append(l)\n",
        "      Lista25.append(Lista)\n",
        "  ListaP=ListaOp\n",
        "ListaOptima=Data['Trabajo'].loc[ListaOp]\n",
        "CmaxMinMIN=CmaxMin\n",
        "print(CmaxMinMIN,ListaOptima.values)\n",
        "#Alfabetico\n",
        "# < [760.] [1013, 1019, 1010, 1018, 1007, 1006, 1015, 1014, 1009, 1016, 1005, 1003, 1012, 1008, 1001, 1011, 1004, 1002, 1017, 1020]\n",
        "# <=[770.] [1015, 1007, 1019, 1006, 1013, 1003, 1014, 1005, 1018, 1012, 1001, 1011, 1008, 1009, 1002, 1010, 1016, 1004, 1017, 1020]\n",
        "#LPT\n",
        "# < [762.] [1015, 1007, 1019, 1010, 1013, 1006, 1014, 1003, 1018, 1016, 1009, 1012, 1011, 1008, 1017, 1005, 1020, 1001, 1002, 1004]\n",
        "# <=[762.] [1018, 1015, 1007, 1014, 1003, 1016, 1006, 1013, 1010, 1019, 1012, 1008, 1009, 1005, 1017, 1001, 1011, 1002, 1004, 1020]\n",
        "#SPT\n",
        "# < [785.] [1014, 1006, 1010, 1013, 1008, 1009, 1019, 1003, 1018, 1016, 1005, 1001, 1007, 1011, 1012, 1002, 1017, 1015, 1004, 1020]\n",
        "# <=[775.] [1018, 1007, 1011, 1001, 1013, 1002, 1010, 1006, 1014, 1003, 1012, 1016, 1008, 1005, 1019, 1009, 1017, 1015, 1004, 1020]"
      ],
      "execution_count": null,
      "outputs": [
        {
          "output_type": "stream",
          "text": [
            "[760.] [12, 18, 9, 17, 6, 5, 14, 13, 8, 15, 4, 2, 11, 7, 0, 10, 3, 1, 16, 19]\n",
            "[760.] [1013 1019 1010 1018 1007 1006 1015 1014 1009 1016 1005 1003 1012 1008\n",
            " 1001 1011 1004 1002 1017 1020]\n"
          ],
          "name": "stdout"
        }
      ]
    },
    {
      "cell_type": "code",
      "metadata": {
        "colab": {
          "base_uri": "https://localhost:8080/"
        },
        "id": "yQ7u4vucM65H",
        "outputId": "4b5a0c57-ec29-4653-cbb3-d86341930229"
      },
      "source": [
        "Maquinas=len(Data.columns)-1\n",
        "ListaP=[]\n",
        "ListaOp=[]\n",
        "Lista=[]\n",
        "for z in range(0,len(l25)):\n",
        "  ListaP=Lista25[z]\n",
        "  for l in Data.index[Data.index>l25[z]]:\n",
        "    CmaxMin=0\n",
        "    ListaP.append(l) \n",
        "    for j in range(0,len(ListaP)):\n",
        "      Lista=[]\n",
        "      Data1=pd.DataFrame({'Trabajo': [],'M1':[], 'M2':[],'M3':[],'M4':[], 'M5':[],'M6':[]})\n",
        "      Data1.set_index('Trabajo', inplace=True)\n",
        "      for i in range(0,j):\n",
        "        Lista.append(ListaP[i])\n",
        "      Lista.append(ListaP[-1])\n",
        "      for i in range(j,len(ListaP)-1):\n",
        "        Lista.append(ListaP[i])\n",
        "      Cmax=CalcularCMax(Lista,Maquinas,Data1)\n",
        "      if CmaxMin==0:\n",
        "        CmaxMin=Cmax\n",
        "        ListaOp=Lista\n",
        "      elif Cmax<CmaxMin:\n",
        "        CmaxMin=Cmax\n",
        "        ListaOp=Lista\n",
        "    ListaP=ListaOp\n",
        "  if CmaxMin<CmaxMinMIN:\n",
        "    CmaxMinMIN=CmaxMin\n",
        "    ListaOptima=Data['Trabajo'].loc[ListaOp]\n",
        "print(CmaxMinMIN,ListaOptima.values)"
      ],
      "execution_count": null,
      "outputs": [
        {
          "output_type": "stream",
          "text": [
            "[762.] [17, 12, 9, 10, 8, 6, 13, 18, 5, 14, 16, 2, 15, 11, 7, 4, 19, 0, 1, 3]\n",
            "[760.] [12, 18, 9, 17, 6, 5, 14, 13, 4, 8, 15, 2, 11, 7, 0, 10, 3, 1, 16, 19]\n",
            "[760.] [12, 18, 9, 17, 6, 5, 14, 13, 4, 2, 15, 8, 11, 7, 0, 10, 3, 1, 16, 19]\n",
            "[759.] [12, 6, 9, 17, 5, 14, 18, 8, 13, 15, 4, 2, 11, 7, 0, 10, 3, 19, 1, 16]\n",
            "[760.] [14, 18, 12, 6, 5, 9, 17, 8, 13, 15, 4, 2, 11, 7, 0, 10, 3, 1, 16, 19]\n",
            "[757.] [17, 14, 12, 6, 5, 8, 18, 4, 13, 2, 9, 19, 11, 7, 0, 15, 10, 3, 1, 16]\n",
            "[771.] [12, 18, 9, 6, 14, 10, 5, 13, 17, 8, 15, 4, 2, 11, 7, 0, 3, 1, 16, 19]\n",
            "[760.] [12, 9, 6, 17, 18, 5, 14, 13, 10, 8, 4, 2, 11, 7, 0, 15, 3, 1, 16, 19]\n",
            "[759.] [12, 9, 6, 17, 18, 5, 14, 13, 8, 4, 15, 10, 2, 11, 7, 0, 3, 19, 1, 16]\n",
            "[758.] [17, 12, 9, 18, 6, 5, 13, 8, 4, 2, 10, 11, 7, 0, 14, 3, 15, 19, 1, 16]\n",
            "[760.] [17, 9, 12, 6, 5, 8, 14, 13, 18, 4, 2, 11, 7, 0, 15, 10, 3, 1, 16, 19]\n",
            "[760.] [17, 9, 6, 12, 5, 8, 14, 13, 18, 4, 2, 11, 7, 0, 15, 10, 3, 1, 16, 19]\n",
            "[759.] [17, 9, 6, 14, 18, 5, 12, 8, 4, 13, 2, 15, 11, 7, 0, 10, 3, 19, 1, 16]\n",
            "[760.] [17, 9, 6, 14, 18, 5, 8, 12, 4, 13, 2, 15, 11, 7, 0, 10, 3, 1, 16, 19]\n",
            "[759.] [12, 9, 17, 6, 5, 14, 18, 8, 13, 15, 4, 2, 11, 7, 0, 10, 3, 19, 1, 16]\n",
            "[756.] [12, 9, 6, 17, 5, 14, 18, 8, 4, 13, 2, 15, 11, 7, 0, 10, 3, 19, 1, 16]\n",
            "[760.] [12, 18, 9, 17, 6, 5, 14, 13, 8, 4, 15, 2, 11, 7, 0, 10, 3, 1, 16, 19]\n",
            "[760.] [12, 18, 9, 17, 6, 5, 14, 13, 8, 4, 2, 15, 11, 7, 0, 10, 3, 1, 16, 19]\n",
            "[769.] [17, 12, 18, 9, 16, 6, 5, 14, 13, 8, 15, 4, 2, 11, 7, 0, 10, 3, 1, 19]\n",
            "[769.] [17, 12, 18, 9, 6, 16, 5, 14, 13, 8, 15, 4, 2, 11, 7, 0, 10, 3, 1, 19]\n",
            "[763.] [12, 18, 9, 17, 6, 5, 14, 13, 16, 8, 15, 4, 2, 11, 7, 0, 10, 3, 1, 19]\n",
            "[763.] [12, 18, 9, 17, 6, 5, 14, 13, 8, 16, 15, 4, 2, 11, 7, 0, 10, 3, 1, 19]\n",
            "[760.] [12, 18, 9, 6, 17, 5, 14, 13, 8, 15, 4, 2, 11, 7, 0, 10, 3, 1, 16, 19]\n",
            "[760.] [12, 9, 6, 18, 5, 14, 13, 17, 8, 15, 4, 2, 11, 7, 0, 10, 3, 1, 16, 19]\n",
            "[760.] [12, 9, 6, 18, 5, 14, 13, 8, 17, 15, 4, 2, 11, 7, 0, 10, 3, 1, 16, 19]\n",
            "[760.] [12, 9, 6, 18, 5, 14, 13, 8, 15, 17, 4, 2, 11, 7, 0, 10, 3, 1, 16, 19]\n",
            "[760.] [12, 9, 17, 18, 6, 5, 14, 13, 8, 15, 4, 2, 11, 7, 0, 10, 3, 1, 16, 19]\n",
            "[760.] [12, 9, 17, 6, 18, 5, 14, 13, 8, 15, 4, 2, 11, 7, 0, 10, 3, 1, 16, 19]\n",
            "[760.] [12, 9, 17, 6, 5, 14, 18, 13, 8, 15, 4, 2, 11, 7, 0, 10, 3, 1, 16, 19]\n",
            "[760.] [12, 9, 17, 6, 5, 14, 18, 13, 8, 15, 4, 2, 11, 7, 0, 10, 3, 1, 16, 19]\n",
            "[760.] [12, 9, 17, 6, 5, 14, 18, 13, 8, 15, 4, 2, 11, 7, 0, 10, 3, 1, 16, 19]\n",
            "[760.] [12, 9, 17, 6, 5, 14, 18, 13, 8, 15, 4, 2, 11, 7, 0, 10, 3, 1, 16, 19]\n",
            "[760.] [12, 9, 17, 6, 5, 14, 18, 13, 8, 15, 4, 2, 11, 7, 0, 10, 3, 1, 16, 19]\n",
            "[760.] [12, 9, 17, 6, 5, 14, 18, 13, 8, 15, 4, 2, 11, 7, 0, 10, 3, 1, 16, 19]\n",
            "[760.] [12, 9, 17, 6, 5, 14, 18, 13, 8, 15, 4, 2, 11, 7, 0, 10, 3, 1, 16, 19]\n",
            "[756.] [1013 1010 1007 1018 1006 1015 1019 1009 1005 1014 1003 1016 1012 1008\n",
            " 1001 1011 1004 1020 1002 1017]\n"
          ],
          "name": "stdout"
        }
      ]
    },
    {
      "cell_type": "code",
      "metadata": {
        "colab": {
          "base_uri": "https://localhost:8080/"
        },
        "id": "VVIoG0oTLfkK",
        "outputId": "6b852fe6-a34d-4804-917a-5dc8c323d1b5"
      },
      "source": [
        "Texto=''\n",
        "for a in range(0,len(ListaOptima)-1):\n",
        "  Texto=Texto+str(ListaOptima.iloc[a])+'-'\n",
        "Texto=Texto+str(ListaOptima.iloc[-1])\n",
        "print(Texto)"
      ],
      "execution_count": null,
      "outputs": [
        {
          "output_type": "stream",
          "text": [
            "1013-1010-1007-1018-1006-1015-1019-1009-1005-1014-1003-1016-1012-1008-1001-1011-1004-1020-1002-1017\n"
          ],
          "name": "stdout"
        }
      ]
    },
    {
      "cell_type": "code",
      "metadata": {
        "id": "0uL7dP16XTNp"
      },
      "source": [
        "Secuencia=pd.DataFrame(ListaOptima)\n",
        "Secuencia.to_excel('Secuencia Parte 1.xlsx')"
      ],
      "execution_count": null,
      "outputs": []
    },
    {
      "cell_type": "markdown",
      "metadata": {
        "id": "MUAdctMT50A7"
      },
      "source": [
        "Parte 2 Parcial 2 Examen 2"
      ]
    },
    {
      "cell_type": "code",
      "metadata": {
        "colab": {
          "base_uri": "https://localhost:8080/",
          "height": 359
        },
        "id": "E29AdMDGcPmz",
        "outputId": "51eba122-0ef8-4bad-eb61-7ceec978e416"
      },
      "source": [
        "Data = pd.read_csv('/Parte 2.csv', sep=\";\")\n",
        "Data"
      ],
      "execution_count": null,
      "outputs": [
        {
          "output_type": "execute_result",
          "data": {
            "text/html": [
              "<div>\n",
              "<style scoped>\n",
              "    .dataframe tbody tr th:only-of-type {\n",
              "        vertical-align: middle;\n",
              "    }\n",
              "\n",
              "    .dataframe tbody tr th {\n",
              "        vertical-align: top;\n",
              "    }\n",
              "\n",
              "    .dataframe thead th {\n",
              "        text-align: right;\n",
              "    }\n",
              "</style>\n",
              "<table border=\"1\" class=\"dataframe\">\n",
              "  <thead>\n",
              "    <tr style=\"text-align: right;\">\n",
              "      <th></th>\n",
              "      <th>Trabajo</th>\n",
              "      <th>M1</th>\n",
              "      <th>M2</th>\n",
              "      <th>M3</th>\n",
              "      <th>M4</th>\n",
              "    </tr>\n",
              "  </thead>\n",
              "  <tbody>\n",
              "    <tr>\n",
              "      <th>0</th>\n",
              "      <td>V1</td>\n",
              "      <td>16</td>\n",
              "      <td>30</td>\n",
              "      <td>10</td>\n",
              "      <td>25</td>\n",
              "    </tr>\n",
              "    <tr>\n",
              "      <th>1</th>\n",
              "      <td>V2</td>\n",
              "      <td>19</td>\n",
              "      <td>27</td>\n",
              "      <td>11</td>\n",
              "      <td>19</td>\n",
              "    </tr>\n",
              "    <tr>\n",
              "      <th>2</th>\n",
              "      <td>V3</td>\n",
              "      <td>27</td>\n",
              "      <td>14</td>\n",
              "      <td>17</td>\n",
              "      <td>17</td>\n",
              "    </tr>\n",
              "    <tr>\n",
              "      <th>3</th>\n",
              "      <td>V4</td>\n",
              "      <td>12</td>\n",
              "      <td>14</td>\n",
              "      <td>13</td>\n",
              "      <td>28</td>\n",
              "    </tr>\n",
              "    <tr>\n",
              "      <th>4</th>\n",
              "      <td>V5</td>\n",
              "      <td>19</td>\n",
              "      <td>28</td>\n",
              "      <td>26</td>\n",
              "      <td>29</td>\n",
              "    </tr>\n",
              "    <tr>\n",
              "      <th>5</th>\n",
              "      <td>V6</td>\n",
              "      <td>19</td>\n",
              "      <td>14</td>\n",
              "      <td>13</td>\n",
              "      <td>13</td>\n",
              "    </tr>\n",
              "    <tr>\n",
              "      <th>6</th>\n",
              "      <td>V7</td>\n",
              "      <td>13</td>\n",
              "      <td>25</td>\n",
              "      <td>27</td>\n",
              "      <td>19</td>\n",
              "    </tr>\n",
              "    <tr>\n",
              "      <th>7</th>\n",
              "      <td>V8</td>\n",
              "      <td>24</td>\n",
              "      <td>16</td>\n",
              "      <td>29</td>\n",
              "      <td>18</td>\n",
              "    </tr>\n",
              "    <tr>\n",
              "      <th>8</th>\n",
              "      <td>V9</td>\n",
              "      <td>12</td>\n",
              "      <td>20</td>\n",
              "      <td>27</td>\n",
              "      <td>23</td>\n",
              "    </tr>\n",
              "    <tr>\n",
              "      <th>9</th>\n",
              "      <td>V10</td>\n",
              "      <td>19</td>\n",
              "      <td>15</td>\n",
              "      <td>21</td>\n",
              "      <td>15</td>\n",
              "    </tr>\n",
              "  </tbody>\n",
              "</table>\n",
              "</div>"
            ],
            "text/plain": [
              "  Trabajo  M1  M2  M3  M4\n",
              "0      V1  16  30  10  25\n",
              "1      V2  19  27  11  19\n",
              "2      V3  27  14  17  17\n",
              "3      V4  12  14  13  28\n",
              "4      V5  19  28  26  29\n",
              "5      V6  19  14  13  13\n",
              "6      V7  13  25  27  19\n",
              "7      V8  24  16  29  18\n",
              "8      V9  12  20  27  23\n",
              "9     V10  19  15  21  15"
            ]
          },
          "metadata": {
            "tags": []
          },
          "execution_count": 106
        }
      ]
    },
    {
      "cell_type": "code",
      "metadata": {
        "id": "8bWsIq-uSR62"
      },
      "source": [
        "def CalcularCMax(Lista,Maquinas,Data1):\n",
        "  Matriz=np.zeros((len(Lista),Maquinas))\n",
        "  for i in Lista:\n",
        "    Data1.loc[str(i)]=Data.loc[i]\n",
        "  Matriz[[0],[0]]=Data1.iloc[0,0]\n",
        "  for i in range(1,len(Lista)):\n",
        "    Matriz[[i],[0]]=Matriz[[i-1],[0]]+Data1.iloc[i,0]\n",
        "  for j in range(0,Maquinas):\n",
        "    Matriz[[0],[j]]=Data1.iloc[0,j]+Matriz[[0],[j-1]]\n",
        "  for i in range(1,len(Lista)):\n",
        "    for j in range(1,Maquinas):\n",
        "      Matriz[[i],[j]]=Data1.iloc[i,j]+np.max([Matriz[[i],[j-1]],Matriz[[i-1],[j]]])\n",
        "  CMax=Matriz[[-1],[-1]]\n",
        "  return CMax"
      ],
      "execution_count": null,
      "outputs": []
    },
    {
      "cell_type": "code",
      "metadata": {
        "colab": {
          "base_uri": "https://localhost:8080/"
        },
        "id": "EC0-SQdGSGv6",
        "outputId": "16375719-0a3a-4404-c970-551641f6f2ab"
      },
      "source": [
        "Maquinas=len(Data.columns)-1\n",
        "ListaP=[]\n",
        "ListaOp=[]\n",
        "Lista=[]\n",
        "Lista25=[]\n",
        "l25=[]\n",
        "\n",
        "for l in Data.index:\n",
        "  CmaxMin=0\n",
        "  ListaP.append(l)\n",
        "  for j in range(0,len(ListaP)):\n",
        "    Lista=[]\n",
        "    Data1=pd.DataFrame({'Trabajo': [],'M1':[], 'M2':[],'M3':[],'M4':[], 'M5':[],'M6':[]})\n",
        "    Data1.set_index('Trabajo', inplace=True)\n",
        "    for i in range(0,j):\n",
        "      Lista.append(ListaP[i])\n",
        "    Lista.append(ListaP[-1])\n",
        "    for i in range(j,len(ListaP)-1):\n",
        "      Lista.append(ListaP[i])\n",
        "    Cmax=CalcularCMax(Lista,Maquinas,Data1)\n",
        "    if CmaxMin==0:\n",
        "      CmaxMin=Cmax\n",
        "      ListaOp=Lista\n",
        "    elif Cmax<CmaxMin:\n",
        "      CmaxMin=Cmax\n",
        "      ListaOp=Lista\n",
        "    elif Cmax==CmaxMin:\n",
        "      l25.append(l)\n",
        "      Lista25.append(Lista)\n",
        "  ListaP=ListaOp\n",
        "ListaOptima=Data['Trabajo'].loc[ListaOp]\n",
        "CmaxMinMIN=CmaxMin\n",
        "print(CmaxMinMIN,ListaOptima.values)"
      ],
      "execution_count": null,
      "outputs": [
        {
          "output_type": "stream",
          "text": [
            "[255.] ['V4' 'V9' 'V5' 'V7' 'V10' 'V6' 'V1' 'V3' 'V8' 'V2']\n"
          ],
          "name": "stdout"
        }
      ]
    },
    {
      "cell_type": "code",
      "metadata": {
        "colab": {
          "base_uri": "https://localhost:8080/"
        },
        "id": "nyIGbY9qSTow",
        "outputId": "a6b8693c-f1e8-4276-c3f9-2bbbe84e9505"
      },
      "source": [
        "Maquinas=len(Data.columns)-1\n",
        "ListaP=[]\n",
        "ListaOp=[]\n",
        "Lista=[]\n",
        "for z in range(0,len(l25)):\n",
        "  ListaP=Lista25[z]\n",
        "  for l in Data.index[Data.index>l25[z]]:\n",
        "    CmaxMin=0\n",
        "    ListaP.append(l) \n",
        "    for j in range(0,len(ListaP)):\n",
        "      Lista=[]\n",
        "      Data1=pd.DataFrame({'Trabajo': [],'M1':[], 'M2':[],'M3':[],'M4':[], 'M5':[],'M6':[]})\n",
        "      Data1.set_index('Trabajo', inplace=True)\n",
        "      for i in range(0,j):\n",
        "        Lista.append(ListaP[i])\n",
        "      Lista.append(ListaP[-1])\n",
        "      for i in range(j,len(ListaP)-1):\n",
        "        Lista.append(ListaP[i])\n",
        "      Cmax=CalcularCMax(Lista,Maquinas,Data1)\n",
        "      if CmaxMin==0:\n",
        "        CmaxMin=Cmax\n",
        "        ListaOp=Lista\n",
        "      elif Cmax<CmaxMin:\n",
        "        CmaxMin=Cmax\n",
        "        ListaOp=Lista\n",
        "    ListaP=ListaOp\n",
        "  if CmaxMin<CmaxMinMIN:\n",
        "    CmaxMinMIN=CmaxMin\n",
        "    ListaOptima=Data['Trabajo'].loc[ListaOp]\n",
        "print(CmaxMinMIN,ListaOptima.values)"
      ],
      "execution_count": null,
      "outputs": [
        {
          "output_type": "stream",
          "text": [
            "[255.] ['V4' 'V9' 'V5' 'V7' 'V10' 'V6' 'V1' 'V3' 'V8' 'V2']\n"
          ],
          "name": "stdout"
        }
      ]
    },
    {
      "cell_type": "code",
      "metadata": {
        "colab": {
          "base_uri": "https://localhost:8080/"
        },
        "id": "QpjATimlSdyg",
        "outputId": "dae8843a-b898-4a86-aed8-f702ef09e282"
      },
      "source": [
        "Texto=''\n",
        "for a in range(0,len(ListaOptima)-1):\n",
        "  Texto=Texto+str(ListaOptima.iloc[a])+'-'\n",
        "Texto=Texto+str(ListaOptima.iloc[-1])\n",
        "print(Texto)"
      ],
      "execution_count": null,
      "outputs": [
        {
          "output_type": "stream",
          "text": [
            "V4-V9-V5-V7-V10-V6-V1-V3-V8-V2\n"
          ],
          "name": "stdout"
        }
      ]
    },
    {
      "cell_type": "code",
      "metadata": {
        "id": "ZOdowYMrcb-1"
      },
      "source": [
        "Secuencia=pd.DataFrame(ListaOptima)\n",
        "Secuencia.to_excel('Secuencia Parte 2.xlsx')"
      ],
      "execution_count": null,
      "outputs": []
    },
    {
      "cell_type": "markdown",
      "metadata": {
        "id": "DMi-zOGfMQ7Z"
      },
      "source": [
        "Taller 2"
      ]
    },
    {
      "cell_type": "code",
      "metadata": {
        "colab": {
          "base_uri": "https://localhost:8080/",
          "height": 419
        },
        "id": "KE1wx4UHMOxR",
        "outputId": "38325240-35c2-44d7-c795-91f963218f23"
      },
      "source": [
        "Data = pd.read_csv('Datos Taller 2 Arreglados.csv', sep=\";\")\n",
        "Data"
      ],
      "execution_count": null,
      "outputs": [
        {
          "output_type": "execute_result",
          "data": {
            "text/html": [
              "<div>\n",
              "<style scoped>\n",
              "    .dataframe tbody tr th:only-of-type {\n",
              "        vertical-align: middle;\n",
              "    }\n",
              "\n",
              "    .dataframe tbody tr th {\n",
              "        vertical-align: top;\n",
              "    }\n",
              "\n",
              "    .dataframe thead th {\n",
              "        text-align: right;\n",
              "    }\n",
              "</style>\n",
              "<table border=\"1\" class=\"dataframe\">\n",
              "  <thead>\n",
              "    <tr style=\"text-align: right;\">\n",
              "      <th></th>\n",
              "      <th>Paciente</th>\n",
              "      <th>Wj</th>\n",
              "      <th>Liberacion</th>\n",
              "      <th>Fecha entrega</th>\n",
              "      <th>M1</th>\n",
              "      <th>M2</th>\n",
              "      <th>M3</th>\n",
              "      <th>M4</th>\n",
              "      <th>M5</th>\n",
              "    </tr>\n",
              "  </thead>\n",
              "  <tbody>\n",
              "    <tr>\n",
              "      <th>0</th>\n",
              "      <td>45</td>\n",
              "      <td>5</td>\n",
              "      <td>0</td>\n",
              "      <td>3</td>\n",
              "      <td>24</td>\n",
              "      <td>6</td>\n",
              "      <td>41</td>\n",
              "      <td>7</td>\n",
              "      <td>2</td>\n",
              "    </tr>\n",
              "    <tr>\n",
              "      <th>1</th>\n",
              "      <td>107</td>\n",
              "      <td>5</td>\n",
              "      <td>0</td>\n",
              "      <td>3</td>\n",
              "      <td>13</td>\n",
              "      <td>2</td>\n",
              "      <td>36</td>\n",
              "      <td>9</td>\n",
              "      <td>6</td>\n",
              "    </tr>\n",
              "    <tr>\n",
              "      <th>2</th>\n",
              "      <td>2</td>\n",
              "      <td>4</td>\n",
              "      <td>0</td>\n",
              "      <td>4</td>\n",
              "      <td>23</td>\n",
              "      <td>3</td>\n",
              "      <td>30</td>\n",
              "      <td>11</td>\n",
              "      <td>3</td>\n",
              "    </tr>\n",
              "    <tr>\n",
              "      <th>3</th>\n",
              "      <td>36</td>\n",
              "      <td>4</td>\n",
              "      <td>0</td>\n",
              "      <td>2</td>\n",
              "      <td>22</td>\n",
              "      <td>8</td>\n",
              "      <td>28</td>\n",
              "      <td>6</td>\n",
              "      <td>4</td>\n",
              "    </tr>\n",
              "    <tr>\n",
              "      <th>4</th>\n",
              "      <td>44</td>\n",
              "      <td>4</td>\n",
              "      <td>0</td>\n",
              "      <td>2</td>\n",
              "      <td>28</td>\n",
              "      <td>4</td>\n",
              "      <td>31</td>\n",
              "      <td>6</td>\n",
              "      <td>5</td>\n",
              "    </tr>\n",
              "    <tr>\n",
              "      <th>...</th>\n",
              "      <td>...</td>\n",
              "      <td>...</td>\n",
              "      <td>...</td>\n",
              "      <td>...</td>\n",
              "      <td>...</td>\n",
              "      <td>...</td>\n",
              "      <td>...</td>\n",
              "      <td>...</td>\n",
              "      <td>...</td>\n",
              "    </tr>\n",
              "    <tr>\n",
              "      <th>115</th>\n",
              "      <td>72</td>\n",
              "      <td>2</td>\n",
              "      <td>4</td>\n",
              "      <td>7</td>\n",
              "      <td>16</td>\n",
              "      <td>6</td>\n",
              "      <td>31</td>\n",
              "      <td>17</td>\n",
              "      <td>6</td>\n",
              "    </tr>\n",
              "    <tr>\n",
              "      <th>116</th>\n",
              "      <td>17</td>\n",
              "      <td>1</td>\n",
              "      <td>4</td>\n",
              "      <td>6</td>\n",
              "      <td>20</td>\n",
              "      <td>5</td>\n",
              "      <td>26</td>\n",
              "      <td>13</td>\n",
              "      <td>6</td>\n",
              "    </tr>\n",
              "    <tr>\n",
              "      <th>117</th>\n",
              "      <td>22</td>\n",
              "      <td>1</td>\n",
              "      <td>4</td>\n",
              "      <td>7</td>\n",
              "      <td>21</td>\n",
              "      <td>5</td>\n",
              "      <td>35</td>\n",
              "      <td>6</td>\n",
              "      <td>4</td>\n",
              "    </tr>\n",
              "    <tr>\n",
              "      <th>118</th>\n",
              "      <td>83</td>\n",
              "      <td>1</td>\n",
              "      <td>4</td>\n",
              "      <td>7</td>\n",
              "      <td>20</td>\n",
              "      <td>5</td>\n",
              "      <td>30</td>\n",
              "      <td>11</td>\n",
              "      <td>4</td>\n",
              "    </tr>\n",
              "    <tr>\n",
              "      <th>119</th>\n",
              "      <td>118</td>\n",
              "      <td>1</td>\n",
              "      <td>4</td>\n",
              "      <td>7</td>\n",
              "      <td>18</td>\n",
              "      <td>4</td>\n",
              "      <td>26</td>\n",
              "      <td>13</td>\n",
              "      <td>6</td>\n",
              "    </tr>\n",
              "  </tbody>\n",
              "</table>\n",
              "<p>120 rows × 9 columns</p>\n",
              "</div>"
            ],
            "text/plain": [
              "     Paciente  Wj  Liberacion  Fecha entrega  M1  M2  M3  M4  M5\n",
              "0          45   5           0              3  24   6  41   7   2\n",
              "1         107   5           0              3  13   2  36   9   6\n",
              "2           2   4           0              4  23   3  30  11   3\n",
              "3          36   4           0              2  22   8  28   6   4\n",
              "4          44   4           0              2  28   4  31   6   5\n",
              "..        ...  ..         ...            ...  ..  ..  ..  ..  ..\n",
              "115        72   2           4              7  16   6  31  17   6\n",
              "116        17   1           4              6  20   5  26  13   6\n",
              "117        22   1           4              7  21   5  35   6   4\n",
              "118        83   1           4              7  20   5  30  11   4\n",
              "119       118   1           4              7  18   4  26  13   6\n",
              "\n",
              "[120 rows x 9 columns]"
            ]
          },
          "metadata": {
            "tags": []
          },
          "execution_count": 27
        }
      ]
    },
    {
      "cell_type": "code",
      "metadata": {
        "colab": {
          "base_uri": "https://localhost:8080/",
          "height": 419
        },
        "id": "xZghkCY31pZo",
        "outputId": "e84d6e35-b8f7-4cb6-cbb0-638bb01879ab"
      },
      "source": [
        "Data['Liberacion']=Data['Liberacion']*24*60\n",
        "Data['Fecha entrega']=Data['Fecha entrega']*24*60\n",
        "Data"
      ],
      "execution_count": null,
      "outputs": [
        {
          "output_type": "execute_result",
          "data": {
            "text/html": [
              "<div>\n",
              "<style scoped>\n",
              "    .dataframe tbody tr th:only-of-type {\n",
              "        vertical-align: middle;\n",
              "    }\n",
              "\n",
              "    .dataframe tbody tr th {\n",
              "        vertical-align: top;\n",
              "    }\n",
              "\n",
              "    .dataframe thead th {\n",
              "        text-align: right;\n",
              "    }\n",
              "</style>\n",
              "<table border=\"1\" class=\"dataframe\">\n",
              "  <thead>\n",
              "    <tr style=\"text-align: right;\">\n",
              "      <th></th>\n",
              "      <th>Paciente</th>\n",
              "      <th>Wj</th>\n",
              "      <th>Liberacion</th>\n",
              "      <th>Fecha entrega</th>\n",
              "      <th>M1</th>\n",
              "      <th>M2</th>\n",
              "      <th>M3</th>\n",
              "      <th>M4</th>\n",
              "      <th>M5</th>\n",
              "    </tr>\n",
              "  </thead>\n",
              "  <tbody>\n",
              "    <tr>\n",
              "      <th>0</th>\n",
              "      <td>45</td>\n",
              "      <td>5</td>\n",
              "      <td>0</td>\n",
              "      <td>4320</td>\n",
              "      <td>24</td>\n",
              "      <td>6</td>\n",
              "      <td>41</td>\n",
              "      <td>7</td>\n",
              "      <td>2</td>\n",
              "    </tr>\n",
              "    <tr>\n",
              "      <th>1</th>\n",
              "      <td>107</td>\n",
              "      <td>5</td>\n",
              "      <td>0</td>\n",
              "      <td>4320</td>\n",
              "      <td>13</td>\n",
              "      <td>2</td>\n",
              "      <td>36</td>\n",
              "      <td>9</td>\n",
              "      <td>6</td>\n",
              "    </tr>\n",
              "    <tr>\n",
              "      <th>2</th>\n",
              "      <td>2</td>\n",
              "      <td>4</td>\n",
              "      <td>0</td>\n",
              "      <td>5760</td>\n",
              "      <td>23</td>\n",
              "      <td>3</td>\n",
              "      <td>30</td>\n",
              "      <td>11</td>\n",
              "      <td>3</td>\n",
              "    </tr>\n",
              "    <tr>\n",
              "      <th>3</th>\n",
              "      <td>36</td>\n",
              "      <td>4</td>\n",
              "      <td>0</td>\n",
              "      <td>2880</td>\n",
              "      <td>22</td>\n",
              "      <td>8</td>\n",
              "      <td>28</td>\n",
              "      <td>6</td>\n",
              "      <td>4</td>\n",
              "    </tr>\n",
              "    <tr>\n",
              "      <th>4</th>\n",
              "      <td>44</td>\n",
              "      <td>4</td>\n",
              "      <td>0</td>\n",
              "      <td>2880</td>\n",
              "      <td>28</td>\n",
              "      <td>4</td>\n",
              "      <td>31</td>\n",
              "      <td>6</td>\n",
              "      <td>5</td>\n",
              "    </tr>\n",
              "    <tr>\n",
              "      <th>...</th>\n",
              "      <td>...</td>\n",
              "      <td>...</td>\n",
              "      <td>...</td>\n",
              "      <td>...</td>\n",
              "      <td>...</td>\n",
              "      <td>...</td>\n",
              "      <td>...</td>\n",
              "      <td>...</td>\n",
              "      <td>...</td>\n",
              "    </tr>\n",
              "    <tr>\n",
              "      <th>115</th>\n",
              "      <td>72</td>\n",
              "      <td>2</td>\n",
              "      <td>5760</td>\n",
              "      <td>10080</td>\n",
              "      <td>16</td>\n",
              "      <td>6</td>\n",
              "      <td>31</td>\n",
              "      <td>17</td>\n",
              "      <td>6</td>\n",
              "    </tr>\n",
              "    <tr>\n",
              "      <th>116</th>\n",
              "      <td>17</td>\n",
              "      <td>1</td>\n",
              "      <td>5760</td>\n",
              "      <td>8640</td>\n",
              "      <td>20</td>\n",
              "      <td>5</td>\n",
              "      <td>26</td>\n",
              "      <td>13</td>\n",
              "      <td>6</td>\n",
              "    </tr>\n",
              "    <tr>\n",
              "      <th>117</th>\n",
              "      <td>22</td>\n",
              "      <td>1</td>\n",
              "      <td>5760</td>\n",
              "      <td>10080</td>\n",
              "      <td>21</td>\n",
              "      <td>5</td>\n",
              "      <td>35</td>\n",
              "      <td>6</td>\n",
              "      <td>4</td>\n",
              "    </tr>\n",
              "    <tr>\n",
              "      <th>118</th>\n",
              "      <td>83</td>\n",
              "      <td>1</td>\n",
              "      <td>5760</td>\n",
              "      <td>10080</td>\n",
              "      <td>20</td>\n",
              "      <td>5</td>\n",
              "      <td>30</td>\n",
              "      <td>11</td>\n",
              "      <td>4</td>\n",
              "    </tr>\n",
              "    <tr>\n",
              "      <th>119</th>\n",
              "      <td>118</td>\n",
              "      <td>1</td>\n",
              "      <td>5760</td>\n",
              "      <td>10080</td>\n",
              "      <td>18</td>\n",
              "      <td>4</td>\n",
              "      <td>26</td>\n",
              "      <td>13</td>\n",
              "      <td>6</td>\n",
              "    </tr>\n",
              "  </tbody>\n",
              "</table>\n",
              "<p>120 rows × 9 columns</p>\n",
              "</div>"
            ],
            "text/plain": [
              "     Paciente  Wj  Liberacion  Fecha entrega  M1  M2  M3  M4  M5\n",
              "0          45   5           0           4320  24   6  41   7   2\n",
              "1         107   5           0           4320  13   2  36   9   6\n",
              "2           2   4           0           5760  23   3  30  11   3\n",
              "3          36   4           0           2880  22   8  28   6   4\n",
              "4          44   4           0           2880  28   4  31   6   5\n",
              "..        ...  ..         ...            ...  ..  ..  ..  ..  ..\n",
              "115        72   2        5760          10080  16   6  31  17   6\n",
              "116        17   1        5760           8640  20   5  26  13   6\n",
              "117        22   1        5760          10080  21   5  35   6   4\n",
              "118        83   1        5760          10080  20   5  30  11   4\n",
              "119       118   1        5760          10080  18   4  26  13   6\n",
              "\n",
              "[120 rows x 9 columns]"
            ]
          },
          "metadata": {
            "tags": []
          },
          "execution_count": 28
        }
      ]
    },
    {
      "cell_type": "code",
      "metadata": {
        "colab": {
          "base_uri": "https://localhost:8080/",
          "height": 359
        },
        "id": "PioAROZqV_Q6",
        "outputId": "8de8d872-94e9-4056-ca2f-5529826bc1de"
      },
      "source": [
        "Data[0:10]"
      ],
      "execution_count": null,
      "outputs": [
        {
          "output_type": "execute_result",
          "data": {
            "text/html": [
              "<div>\n",
              "<style scoped>\n",
              "    .dataframe tbody tr th:only-of-type {\n",
              "        vertical-align: middle;\n",
              "    }\n",
              "\n",
              "    .dataframe tbody tr th {\n",
              "        vertical-align: top;\n",
              "    }\n",
              "\n",
              "    .dataframe thead th {\n",
              "        text-align: right;\n",
              "    }\n",
              "</style>\n",
              "<table border=\"1\" class=\"dataframe\">\n",
              "  <thead>\n",
              "    <tr style=\"text-align: right;\">\n",
              "      <th></th>\n",
              "      <th>Paciente</th>\n",
              "      <th>Wj</th>\n",
              "      <th>Liberacion</th>\n",
              "      <th>Fecha entrega</th>\n",
              "      <th>M1</th>\n",
              "      <th>M2</th>\n",
              "      <th>M3</th>\n",
              "      <th>M4</th>\n",
              "      <th>M5</th>\n",
              "    </tr>\n",
              "  </thead>\n",
              "  <tbody>\n",
              "    <tr>\n",
              "      <th>0</th>\n",
              "      <td>45</td>\n",
              "      <td>5</td>\n",
              "      <td>0</td>\n",
              "      <td>4320</td>\n",
              "      <td>24</td>\n",
              "      <td>6</td>\n",
              "      <td>41</td>\n",
              "      <td>7</td>\n",
              "      <td>2</td>\n",
              "    </tr>\n",
              "    <tr>\n",
              "      <th>1</th>\n",
              "      <td>107</td>\n",
              "      <td>5</td>\n",
              "      <td>0</td>\n",
              "      <td>4320</td>\n",
              "      <td>13</td>\n",
              "      <td>2</td>\n",
              "      <td>36</td>\n",
              "      <td>9</td>\n",
              "      <td>6</td>\n",
              "    </tr>\n",
              "    <tr>\n",
              "      <th>2</th>\n",
              "      <td>2</td>\n",
              "      <td>4</td>\n",
              "      <td>0</td>\n",
              "      <td>5760</td>\n",
              "      <td>23</td>\n",
              "      <td>3</td>\n",
              "      <td>30</td>\n",
              "      <td>11</td>\n",
              "      <td>3</td>\n",
              "    </tr>\n",
              "    <tr>\n",
              "      <th>3</th>\n",
              "      <td>36</td>\n",
              "      <td>4</td>\n",
              "      <td>0</td>\n",
              "      <td>2880</td>\n",
              "      <td>22</td>\n",
              "      <td>8</td>\n",
              "      <td>28</td>\n",
              "      <td>6</td>\n",
              "      <td>4</td>\n",
              "    </tr>\n",
              "    <tr>\n",
              "      <th>4</th>\n",
              "      <td>44</td>\n",
              "      <td>4</td>\n",
              "      <td>0</td>\n",
              "      <td>2880</td>\n",
              "      <td>28</td>\n",
              "      <td>4</td>\n",
              "      <td>31</td>\n",
              "      <td>6</td>\n",
              "      <td>5</td>\n",
              "    </tr>\n",
              "    <tr>\n",
              "      <th>5</th>\n",
              "      <td>48</td>\n",
              "      <td>4</td>\n",
              "      <td>0</td>\n",
              "      <td>1440</td>\n",
              "      <td>17</td>\n",
              "      <td>5</td>\n",
              "      <td>27</td>\n",
              "      <td>9</td>\n",
              "      <td>4</td>\n",
              "    </tr>\n",
              "    <tr>\n",
              "      <th>6</th>\n",
              "      <td>61</td>\n",
              "      <td>4</td>\n",
              "      <td>0</td>\n",
              "      <td>5760</td>\n",
              "      <td>20</td>\n",
              "      <td>5</td>\n",
              "      <td>21</td>\n",
              "      <td>7</td>\n",
              "      <td>4</td>\n",
              "    </tr>\n",
              "    <tr>\n",
              "      <th>7</th>\n",
              "      <td>79</td>\n",
              "      <td>4</td>\n",
              "      <td>0</td>\n",
              "      <td>5760</td>\n",
              "      <td>10</td>\n",
              "      <td>4</td>\n",
              "      <td>43</td>\n",
              "      <td>7</td>\n",
              "      <td>2</td>\n",
              "    </tr>\n",
              "    <tr>\n",
              "      <th>8</th>\n",
              "      <td>81</td>\n",
              "      <td>4</td>\n",
              "      <td>0</td>\n",
              "      <td>4320</td>\n",
              "      <td>17</td>\n",
              "      <td>4</td>\n",
              "      <td>22</td>\n",
              "      <td>8</td>\n",
              "      <td>4</td>\n",
              "    </tr>\n",
              "    <tr>\n",
              "      <th>9</th>\n",
              "      <td>102</td>\n",
              "      <td>4</td>\n",
              "      <td>0</td>\n",
              "      <td>4320</td>\n",
              "      <td>18</td>\n",
              "      <td>3</td>\n",
              "      <td>26</td>\n",
              "      <td>6</td>\n",
              "      <td>4</td>\n",
              "    </tr>\n",
              "  </tbody>\n",
              "</table>\n",
              "</div>"
            ],
            "text/plain": [
              "   Paciente  Wj  Liberacion  Fecha entrega  M1  M2  M3  M4  M5\n",
              "0        45   5           0           4320  24   6  41   7   2\n",
              "1       107   5           0           4320  13   2  36   9   6\n",
              "2         2   4           0           5760  23   3  30  11   3\n",
              "3        36   4           0           2880  22   8  28   6   4\n",
              "4        44   4           0           2880  28   4  31   6   5\n",
              "5        48   4           0           1440  17   5  27   9   4\n",
              "6        61   4           0           5760  20   5  21   7   4\n",
              "7        79   4           0           5760  10   4  43   7   2\n",
              "8        81   4           0           4320  17   4  22   8   4\n",
              "9       102   4           0           4320  18   3  26   6   4"
            ]
          },
          "metadata": {
            "tags": []
          },
          "execution_count": 29
        }
      ]
    },
    {
      "cell_type": "code",
      "metadata": {
        "id": "vnCu9WiaULRj"
      },
      "source": [
        "def CalcularTardanzaPonderada(Lista,Maquinas,Data1):\n",
        "  Cjs=np.zeros((len(Lista),Maquinas))\n",
        "  Inicios=np.zeros(len(Lista))\n",
        "  for i in Lista:\n",
        "    Data1.loc[i]=Data.loc[i]\n",
        "  for i in range(0,len(Lista)):\n",
        "    Inicios[i]=np.max([Cjs[[i-1],[0]],Data1.iloc[i,5]])\n",
        "    Cjs[[i],[0]]=Inicios[i]+Data1.iloc[i,0]\n",
        "  for j in range(1,Maquinas):\n",
        "    Cjs[[0],[j]]=Data1.iloc[0,j]+Cjs[[0],[j-1]]\n",
        "  for i in range(1,len(Lista)):\n",
        "    for j in range(1,Maquinas):\n",
        "      Cjs[[i],[j]]=Data1.iloc[i,j]+np.max([Cjs[[i],[j-1]],Cjs[[i-1],[j]]])\n",
        "  \n",
        "  Data1['Tardanza']=Cjs[:,[-1]]-Data1[['Fecha entrega']]\n",
        "  Data1['Tardanza'][Data1['Tardanza']<0]=0\n",
        "\n",
        "  CMax=Cjs[[-1],[-1]]\n",
        "  TardanzaPonderada=sum(Data1['Tardanza']*Data1['Wj'])\n",
        "  TardanzaPonderada=sum(Data1['Tardanza']*Data1['Wj'])\n",
        "\n",
        "  InicioPonderado=sum(Inicios*Data1['Wj'])\n",
        "\n",
        "  return CMax, TardanzaPonderada, InicioPonderado"
      ],
      "execution_count": null,
      "outputs": []
    },
    {
      "cell_type": "code",
      "metadata": {
        "colab": {
          "base_uri": "https://localhost:8080/"
        },
        "id": "HzGQkvpXUhQW",
        "outputId": "4d7ac446-4b60-4d52-8777-2edf4936b415"
      },
      "source": [
        "Maquinas=5\n",
        "Lista=[0,1,2,3,4,5,6,7,8,9]\n",
        "Data1=pd.DataFrame({'Paciente': [],'M1':[], 'M2':[],'M3':[],'M4':[], 'M5':[],'Liberacion':[],'Fecha entrega':[],'Wj':[]})\n",
        "Data1.set_index('Paciente', inplace=True)\n",
        "Cmax, TardanzaPonderada,InicioPonderado=CalcularTardanzaPonderada(Lista,Maquinas,Data1)"
      ],
      "execution_count": null,
      "outputs": [
        {
          "output_type": "stream",
          "text": [
            "/usr/local/lib/python3.7/dist-packages/numpy/core/fromnumeric.py:87: VisibleDeprecationWarning: Creating an ndarray from ragged nested sequences (which is a list-or-tuple of lists-or-tuples-or ndarrays with different lengths or shapes) is deprecated. If you meant to do this, you must specify 'dtype=object' when creating the ndarray\n",
            "  return ufunc.reduce(obj, axis, dtype, out, **passkwargs)\n"
          ],
          "name": "stderr"
        }
      ]
    },
    {
      "cell_type": "code",
      "metadata": {
        "colab": {
          "base_uri": "https://localhost:8080/"
        },
        "id": "4sdPuzdpVW0X",
        "outputId": "a06d816b-a414-4b76-a206-3e3d6547bbd9"
      },
      "source": [
        "InicioPonderado"
      ],
      "execution_count": null,
      "outputs": [
        {
          "output_type": "execute_result",
          "data": {
            "text/plain": [
              "3696.0"
            ]
          },
          "metadata": {
            "tags": []
          },
          "execution_count": 32
        }
      ]
    },
    {
      "cell_type": "code",
      "metadata": {
        "colab": {
          "base_uri": "https://localhost:8080/"
        },
        "id": "IaavCZOzOeL3",
        "outputId": "c1d98487-290a-4a2f-f4f0-4eade91ab8f8"
      },
      "source": [
        "np.warnings.filterwarnings('ignore', category=np.VisibleDeprecationWarning)\n",
        "Maquinas=5\n",
        "ListaP=[]\n",
        "ListaOp=[]\n",
        "Lista=[]\n",
        "Lista25=[]\n",
        "l25=[]\n",
        "\n",
        "for l in Data.index:\n",
        "  CmaxMin=0\n",
        "  ListaP.append(l)\n",
        "  for j in range(0,len(ListaP)):\n",
        "    Lista=[]\n",
        "    Data1=pd.DataFrame({'Paciente': [],'M1':[], 'M2':[],'M3':[],'M4':[], 'M5':[],'Liberacion':[],'Fecha entrega':[],'Wj':[]})\n",
        "    Data1.set_index('Paciente', inplace=True)\n",
        "    for i in range(0,j):\n",
        "      Lista.append(ListaP[i])\n",
        "    Lista.append(ListaP[-1])\n",
        "    for i in range(j,len(ListaP)-1):\n",
        "      Lista.append(ListaP[i])\n",
        "    Cmax, TardanzaPonderada, InicioPonderado=CalcularTardanzaPonderada(Lista,Maquinas,Data1)\n",
        "    if CmaxMin==0:\n",
        "      CmaxMin=Cmax\n",
        "      ListaOp=Lista\n",
        "      TardanzaPonderadaOp=TardanzaPonderada\n",
        "      InicioPonderadoOp=InicioPonderado\n",
        "    elif Cmax<CmaxMin:\n",
        "      CmaxMin=Cmax\n",
        "      ListaOp=Lista\n",
        "      TardanzaPonderadaOp=TardanzaPonderada\n",
        "      InicioPonderadoOp=InicioPonderado\n",
        "    elif Cmax==CmaxMin and TardanzaPonderada<TardanzaPonderadaOp:\n",
        "      CmaxMin=Cmax\n",
        "      ListaOp=Lista\n",
        "      TardanzaPonderadaOp=TardanzaPonderada\n",
        "      InicioPonderadoOp=InicioPonderado\n",
        "    elif Cmax==CmaxMin and InicioPonderado<InicioPonderadoOp:\n",
        "      CmaxMin=Cmax\n",
        "      ListaOp=Lista\n",
        "      TardanzaPonderadaOp=TardanzaPonderada\n",
        "      InicioPonderadoOp=InicioPonderado\n",
        "  ListaP=ListaOp\n",
        "ListaOptima=Data['Paciente'].loc[ListaOp]\n",
        "CmaxMinMIN=CmaxMin\n",
        "TardanzaPonderadaOptima=TardanzaPonderadaOp\n",
        "print(InicioPonderadoOp,TardanzaPonderadaOptima,CmaxMinMIN,ListaOptima.values)"
      ],
      "execution_count": null,
      "outputs": [
        {
          "output_type": "stream",
          "text": [
            "768999.0 0.0 [6051.] [ 79 107  81  48 108 102 110 106  61  36   2  44  63  45  16  98  54  75\n",
            "  66 112  37  73  65  95  91  84  11  97 120 114  46  25   5  19 109  18\n",
            "  42  23 119  82  35 115  70  78   4 117 100  40  56   1  52  77  20  89\n",
            "  43  80  69  59  32  92   9  71  21 105  85  51  29  49  14  62   3  12\n",
            " 113  38  15  58  53  13  41   7  93  31  68   8  60  26  33  10 111  99\n",
            "  76  94  30   6  24  55 103  96  28  64  74  88 116  39  34  87  86  27\n",
            "  67  50 104 101  47  90  72  17  57 118  83  22]\n"
          ],
          "name": "stdout"
        }
      ]
    },
    {
      "cell_type": "code",
      "metadata": {
        "colab": {
          "base_uri": "https://localhost:8080/"
        },
        "id": "1UOfZyWkMPwA",
        "outputId": "cb86fe04-21de-4d1e-8286-21091f09884b"
      },
      "source": [
        "ListaOptima=Data['Paciente'].loc[ListaOp]\n",
        "CmaxMinMIN=CmaxMin\n",
        "TardanzaPonderadaOptima=TardanzaPonderadaOp\n",
        "print(TardanzaPonderadaOptima,CmaxMinMIN,ListaOptima.values)"
      ],
      "execution_count": null,
      "outputs": [
        {
          "output_type": "stream",
          "text": [
            "0.0 [6051.] [120 114 112 110 109 108 107 106 102  98  97  95  91  84  81  79  75  73\n",
            "  66  65  63  61  54  48  46  45  44  37  36  25  19  16  11   5 119 117\n",
            " 115 100  92  89  82  80  78  77  70  69  59  56  52  43  42 113 111 105\n",
            " 103  99  96  94  93  85  76  71  68  62  60  58  55  53  51  49  41  40\n",
            "  38  35  33  32  31  30  29  28  26  24  23  21  20  18   9   4   2   1\n",
            " 116 104  88  87  86  74  67  64  50  39  34  27   8  15  14  12  13   6\n",
            "   3   7  10 101 118  72  90  83  47  57  17  22]\n"
          ],
          "name": "stdout"
        }
      ]
    },
    {
      "cell_type": "code",
      "metadata": {
        "id": "01vYJpcOgNqw"
      },
      "source": [
        "'''0.0 [6051.] [ 79 120 114 112  97  95  91  84  73  65  46  37  25  19  11   5  98  75\n",
        "  54  16  66  63 110 108 106 102  81 107  61  48  44  36   2  45 109  18\n",
        "  43  92  80  69  59  32  77  89  56  20   9   1  40  42 119  82 117 100\n",
        "  35  52  23 115  78  70   4  71 103  96  94  30  28  24   6 111  99  76\n",
        "  33  31  26   8  21  68  60  53  49  38   7 113  93  58  51  41  29 105\n",
        "  15  13  10   3  85  14  62  12  55  67  64  74  50  87  86  27  88 116\n",
        "  39  34 104 101 118  83  17  72  47  90  57  22]\n",
        "  0.0 [6051.] [120 114 112 110 109 108 107 106 102  98  97  95  91  84  81  79  75  73\n",
        "  66  65  63  61  54  48  46  45  44  37  36  25  19  16  11   5 119 117\n",
        " 115 100  92  89  82  80  78  77  70  69  59  56  52  43  42 113 111 105\n",
        " 103  99  96  94  93  85  76  71  68  62  60  58  55  53  51  49  41  40\n",
        "  38  35  33  32  31  30  29  28  26  24  23  21  20  18   9   4   2   1\n",
        " 116 104  88  87  86  74  67  64  50  39  34  27   8  15  14  12  13   6\n",
        "   3   7  10 101 118  72  90  83  47  57  17  22]\n",
        "   '''"
      ],
      "execution_count": null,
      "outputs": []
    },
    {
      "cell_type": "code",
      "metadata": {
        "id": "tx3r4kZAMekL"
      },
      "source": [
        "Secuencia=pd.DataFrame(ListaOptima)\n",
        "Secuencia.to_excel('Secuencia Taller 2.xlsx')"
      ],
      "execution_count": null,
      "outputs": []
    },
    {
      "cell_type": "code",
      "metadata": {
        "id": "KJwDuCPRGnFl"
      },
      "source": [
        "np.warnings.filterwarnings('ignore', category=np.VisibleDeprecationWarning)\n",
        "Maquinas=5\n",
        "ListaP=[]\n",
        "ListaOp=[]\n",
        "Lista=[]\n",
        "Lista25=[]\n",
        "l25=[]\n",
        "\n",
        "for l in Data.index:\n",
        "  TardanzaPonderadaOp=''\n",
        "  ListaP.append(l)\n",
        "  for j in range(0,len(ListaP)):\n",
        "    Lista=[]\n",
        "    Data1=pd.DataFrame({'Paciente': [],'M1':[], 'M2':[],'M3':[],'M4':[], 'M5':[],'Liberacion':[],'Fecha entrega':[],'Wj':[]})\n",
        "    Data1.set_index('Paciente', inplace=True)\n",
        "    for i in range(0,j):\n",
        "      Lista.append(ListaP[i])\n",
        "    Lista.append(ListaP[-1])\n",
        "    for i in range(j,len(ListaP)-1):\n",
        "      Lista.append(ListaP[i])\n",
        "    Cmax, TardanzaPonderada=CalcularTardanzaPonderada(Lista,Maquinas,Data1)\n",
        "    if TardanzaPonderadaOp=='':\n",
        "      CmaxMin=Cmax\n",
        "      ListaOp=Lista\n",
        "      TardanzaPonderadaOp=TardanzaPonderada\n",
        "    elif TardanzaPonderada<TardanzaPonderadaOp:\n",
        "      CmaxMin=Cmax\n",
        "      ListaOp=Lista\n",
        "      TardanzaPonderadaOp=TardanzaPonderada\n",
        "    elif TardanzaPonderada==TardanzaPonderadaOp and Cmax<CmaxMin:\n",
        "      CmaxMin=Cmax\n",
        "      ListaOp=Lista\n",
        "      TardanzaPonderadaOp=TardanzaPonderada\n",
        "  ListaP=ListaOp\n",
        "ListaOptima=Data['Trabajo'].loc[ListaOp]\n",
        "CmaxMinMIN=CmaxMin\n",
        "TardanzaPonderadaOptima=TardanzaPonderadaOp\n",
        "print(TardanzaPonderadaOptima,CmaxMinMIN,ListaOptima.values)"
      ],
      "execution_count": null,
      "outputs": []
    },
    {
      "cell_type": "code",
      "metadata": {
        "id": "RABpsiZi__ih"
      },
      "source": [
        "Data1.loc[4]=Data.loc[4]"
      ],
      "execution_count": null,
      "outputs": []
    },
    {
      "cell_type": "code",
      "metadata": {
        "id": "iNx8uCUiBOAr"
      },
      "source": [
        "Data1=pd.DataFrame({'Paciente': [],'M1':[], 'M2':[],'M3':[],'M4':[], 'M5':[],'Liberacion':[],'Fecha entrega':[],'Wj':[]})"
      ],
      "execution_count": null,
      "outputs": []
    },
    {
      "cell_type": "code",
      "metadata": {
        "colab": {
          "base_uri": "https://localhost:8080/"
        },
        "id": "HHoB3eoVEkpj",
        "outputId": "55b8a4ea-24ea-477c-a58c-61e3366c661f"
      },
      "source": [
        "CalcularTardanzaPonderada(Lista,Maquinas,Data1)"
      ],
      "execution_count": null,
      "outputs": [
        {
          "output_type": "execute_result",
          "data": {
            "text/plain": [
              "(array([875.]), 0.0)"
            ]
          },
          "metadata": {
            "tags": []
          },
          "execution_count": 161
        }
      ]
    },
    {
      "cell_type": "code",
      "metadata": {
        "colab": {
          "base_uri": "https://localhost:8080/",
          "height": 111
        },
        "id": "mNjb7F1gA_u4",
        "outputId": "5d782047-d7b2-4334-c408-49c91fd22e85"
      },
      "source": [
        "Data1"
      ],
      "execution_count": null,
      "outputs": [
        {
          "output_type": "execute_result",
          "data": {
            "text/html": [
              "<div>\n",
              "<style scoped>\n",
              "    .dataframe tbody tr th:only-of-type {\n",
              "        vertical-align: middle;\n",
              "    }\n",
              "\n",
              "    .dataframe tbody tr th {\n",
              "        vertical-align: top;\n",
              "    }\n",
              "\n",
              "    .dataframe thead th {\n",
              "        text-align: right;\n",
              "    }\n",
              "</style>\n",
              "<table border=\"1\" class=\"dataframe\">\n",
              "  <thead>\n",
              "    <tr style=\"text-align: right;\">\n",
              "      <th></th>\n",
              "      <th>Paciente</th>\n",
              "      <th>M1</th>\n",
              "      <th>M2</th>\n",
              "      <th>M3</th>\n",
              "      <th>M4</th>\n",
              "      <th>M5</th>\n",
              "      <th>Liberacion</th>\n",
              "      <th>Fecha entrega</th>\n",
              "      <th>Wj</th>\n",
              "      <th>Retardo</th>\n",
              "      <th>Tardanza</th>\n",
              "    </tr>\n",
              "  </thead>\n",
              "  <tbody>\n",
              "    <tr>\n",
              "      <th>1</th>\n",
              "      <td>2.0</td>\n",
              "      <td>23.0</td>\n",
              "      <td>3.0</td>\n",
              "      <td>30.0</td>\n",
              "      <td>11.0</td>\n",
              "      <td>3.0</td>\n",
              "      <td>0.0</td>\n",
              "      <td>5760.0</td>\n",
              "      <td>4.0</td>\n",
              "      <td>-5759.0</td>\n",
              "      <td>0.0</td>\n",
              "    </tr>\n",
              "    <tr>\n",
              "      <th>4</th>\n",
              "      <td>5.0</td>\n",
              "      <td>28.0</td>\n",
              "      <td>8.0</td>\n",
              "      <td>21.0</td>\n",
              "      <td>8.0</td>\n",
              "      <td>5.0</td>\n",
              "      <td>0.0</td>\n",
              "      <td>1440.0</td>\n",
              "      <td>1.0</td>\n",
              "      <td>560.0</td>\n",
              "      <td>560.0</td>\n",
              "    </tr>\n",
              "  </tbody>\n",
              "</table>\n",
              "</div>"
            ],
            "text/plain": [
              "   Paciente    M1   M2    M3  ...  Fecha entrega   Wj  Retardo  Tardanza\n",
              "1       2.0  23.0  3.0  30.0  ...         5760.0  4.0  -5759.0       0.0\n",
              "4       5.0  28.0  8.0  21.0  ...         1440.0  1.0    560.0     560.0\n",
              "\n",
              "[2 rows x 11 columns]"
            ]
          },
          "metadata": {
            "tags": []
          },
          "execution_count": 139
        }
      ]
    },
    {
      "cell_type": "code",
      "metadata": {
        "id": "OObZ6uf3BYXY"
      },
      "source": [
        "Cjs=np.ones((2,7))\n",
        "Cjs[1]=2000"
      ],
      "execution_count": null,
      "outputs": []
    },
    {
      "cell_type": "code",
      "metadata": {
        "id": "JSJuwpmXAHJe"
      },
      "source": [
        "Data1['Retardo']\n"
      ],
      "execution_count": null,
      "outputs": []
    },
    {
      "cell_type": "code",
      "metadata": {
        "id": "WxR9dJiaC1yj"
      },
      "source": [
        "Data1['Tardanza']=np.max([0,Data1['Retardo'].values.all()])"
      ],
      "execution_count": null,
      "outputs": []
    },
    {
      "cell_type": "markdown",
      "source": [
        "###Parcial II Johnny"
      ],
      "metadata": {
        "id": "OIRBzulUyEeX"
      }
    },
    {
      "cell_type": "code",
      "source": [
        "Bases = pd.read_excel('Info P2 Johnny.xlsx', sheet_name=\"Bases\")\n",
        "Tapas = pd.read_excel('Info P2 Johnny.xlsx', sheet_name=\"Tapas\")\n",
        "Entrepaños = pd.read_excel('Info P2 Johnny.xlsx', sheet_name=\"Entrepaños\")"
      ],
      "metadata": {
        "id": "Er6z6qBFyI1V"
      },
      "execution_count": 30,
      "outputs": []
    },
    {
      "cell_type": "code",
      "source": [
        "Bases = pd.read_excel('Info P2 Johnny 2.xlsx', sheet_name=\"Bases\")\n",
        "Tapas = pd.read_excel('Info P2 Johnny 2.xlsx', sheet_name=\"Tapas\")\n",
        "Entrepaños = pd.read_excel('Info P2 Johnny 2.xlsx', sheet_name=\"Entrepaños\")"
      ],
      "metadata": {
        "id": "yTJm7mq3Kzhc"
      },
      "execution_count": 37,
      "outputs": []
    },
    {
      "cell_type": "code",
      "source": [
        "def CalcularCMax(Lista,Maquinas,Data1):\n",
        "  Matriz=np.zeros((len(Lista),Maquinas))\n",
        "  for k in Lista:\n",
        "    Data1.loc[str(k)]=Bases.loc[k]\n",
        "  Matriz[[0],[0]]=Data1.iloc[0,0]\n",
        "  for i in range(1,len(Lista)):\n",
        "    Matriz[[i],[0]]=Matriz[[i-1],[0]]+Data1.iloc[i,0]\n",
        "  for j in range(0,Maquinas):\n",
        "    Matriz[[0],[j]]=Data1.iloc[0,j]+Matriz[[0],[j-1]]\n",
        "  for i in range(1,len(Lista)):\n",
        "    for j in range(1,Maquinas):\n",
        "      Matriz[[i],[j]]=Data1.iloc[i,j]+np.max([Matriz[[i],[j-1]],Matriz[[i-1],[j]]])\n",
        "  CMax=Matriz[[-1],[-1]]\n",
        "  return CMax"
      ],
      "metadata": {
        "id": "tGkAHYsMBV6E"
      },
      "execution_count": 39,
      "outputs": []
    },
    {
      "cell_type": "code",
      "source": [
        "Maquinas=len(Bases.columns)-1\n",
        "ListaP=[]\n",
        "ListaOp=[]\n",
        "Lista=[]\n",
        "Lista25=[]\n",
        "l25=[]\n",
        "\n",
        "for l in Bases.index:\n",
        "  CmaxMin=0\n",
        "  ListaP.append(l)\n",
        "  for j in range(0,len(ListaP)):\n",
        "    Lista=[]\n",
        "    Data1=pd.DataFrame({'Producto ': [],'Corte':[], 'Pulido ':[],'Ensamble':[]})\n",
        "    Data1.set_index('Producto ', inplace=True)\n",
        "    for i in range(0,j):\n",
        "      Lista.append(ListaP[i])\n",
        "    Lista.append(ListaP[-1])\n",
        "    for i in range(j,len(ListaP)-1):\n",
        "      Lista.append(ListaP[i])\n",
        "    Cmax=CalcularCMax(Lista,Maquinas,Data1)\n",
        "    if CmaxMin==0:\n",
        "      CmaxMin=Cmax\n",
        "      ListaOp=Lista\n",
        "    elif Cmax<CmaxMin:\n",
        "      CmaxMin=Cmax\n",
        "      ListaOp=Lista\n",
        "    elif Cmax==CmaxMin:\n",
        "      l25.append(l)\n",
        "      Lista25.append(Lista)\n",
        "  ListaP=ListaOp\n",
        "ListaOptima=Bases['Producto '].loc[ListaOp]\n",
        "CmaxMinMIN=CmaxMin\n",
        "print(CmaxMinMIN,ListaOptima.values)\n",
        "#[318.] ['Biblioteca 3' 'Biblioteca 8' 'Biblioteca 7' 'Biblioteca 6' 'Biblioteca 5' 'Biblioteca 4' 'Biblioteca 2' 'Biblioteca 1']"
      ],
      "metadata": {
        "id": "c5jC8eTPB8k0",
        "outputId": "d11d60e8-e303-4138-e533-295d0c1ee170",
        "colab": {
          "base_uri": "https://localhost:8080/"
        }
      },
      "execution_count": 40,
      "outputs": [
        {
          "output_type": "stream",
          "name": "stdout",
          "text": [
            "[318.] ['Biblioteca 3' 'Biblioteca 8' 'Biblioteca 7' 'Biblioteca 6'\n",
            " 'Biblioteca 5' 'Biblioteca 4' 'Biblioteca 2' 'Biblioteca 1']\n"
          ]
        }
      ]
    },
    {
      "cell_type": "code",
      "source": [
        "def CalcularCMax(Lista,Maquinas,Data1):\n",
        "  Matriz=np.zeros((len(Lista),Maquinas))\n",
        "  for k in Lista:\n",
        "    Data1.loc[str(k)]=Tapas.loc[k]\n",
        "  Matriz[[0],[0]]=Data1.iloc[0,0]\n",
        "  for i in range(1,len(Lista)):\n",
        "    Matriz[[i],[0]]=Matriz[[i-1],[0]]+Data1.iloc[i,0]\n",
        "  for j in range(0,Maquinas):\n",
        "    Matriz[[0],[j]]=Data1.iloc[0,j]+Matriz[[0],[j-1]]\n",
        "  for i in range(1,len(Lista)):\n",
        "    for j in range(1,Maquinas):\n",
        "      Matriz[[i],[j]]=Data1.iloc[i,j]+np.max([Matriz[[i],[j-1]],Matriz[[i-1],[j]]])\n",
        "  CMax=Matriz[[-1],[-1]]\n",
        "  return CMax"
      ],
      "metadata": {
        "id": "0eyhKJhtITjI"
      },
      "execution_count": 41,
      "outputs": []
    },
    {
      "cell_type": "code",
      "source": [
        "Maquinas=len(Tapas.columns)-1\n",
        "ListaP=[]\n",
        "ListaOp=[]\n",
        "Lista=[]\n",
        "Lista25=[]\n",
        "l25=[]\n",
        "\n",
        "for l in Tapas.index:\n",
        "  CmaxMin=0\n",
        "  ListaP.append(l)\n",
        "  for j in range(0,len(ListaP)):\n",
        "    Lista=[]\n",
        "    Data1=pd.DataFrame({'Producto ': [],'Corte':[], 'Pulido ':[],'Ensamble':[]})\n",
        "    Data1.set_index('Producto ', inplace=True)\n",
        "    for i in range(0,j):\n",
        "      Lista.append(ListaP[i])\n",
        "    Lista.append(ListaP[-1])\n",
        "    for i in range(j,len(ListaP)-1):\n",
        "      Lista.append(ListaP[i])\n",
        "    Cmax=CalcularCMax(Lista,Maquinas,Data1)\n",
        "    if CmaxMin==0:\n",
        "      CmaxMin=Cmax\n",
        "      ListaOp=Lista\n",
        "    elif Cmax<CmaxMin:\n",
        "      CmaxMin=Cmax\n",
        "      ListaOp=Lista\n",
        "    elif Cmax==CmaxMin:\n",
        "      l25.append(l)\n",
        "      Lista25.append(Lista)\n",
        "  ListaP=ListaOp\n",
        "ListaOptima=Tapas['Producto '].loc[ListaOp]\n",
        "CmaxMinMIN=CmaxMin\n",
        "print(CmaxMinMIN,ListaOptima.values)\n",
        "#[325.] ['Biblioteca 8' 'Biblioteca 2' 'Biblioteca 7' 'Biblioteca 6' 'Biblioteca 5' 'Biblioteca 4' 'Biblioteca 3' 'Biblioteca 1']"
      ],
      "metadata": {
        "id": "qGItZCXaImTu",
        "outputId": "5216fb32-3523-4206-ab1b-caec23c3a930",
        "colab": {
          "base_uri": "https://localhost:8080/"
        }
      },
      "execution_count": 42,
      "outputs": [
        {
          "output_type": "stream",
          "name": "stdout",
          "text": [
            "[321.] ['Biblioteca 8' 'Biblioteca 2' 'Biblioteca 7' 'Biblioteca 6'\n",
            " 'Biblioteca 5' 'Biblioteca 4' 'Biblioteca 3' 'Biblioteca 1']\n"
          ]
        }
      ]
    },
    {
      "cell_type": "code",
      "source": [
        "def CalcularCMax(Lista,Maquinas,Data1):\n",
        "  Matriz=np.zeros((len(Lista),Maquinas))\n",
        "  for k in Lista:\n",
        "    Data1.loc[str(k)]=Entrepaños.loc[k]\n",
        "  Matriz[[0],[0]]=Data1.iloc[0,0]\n",
        "  for i in range(1,len(Lista)):\n",
        "    Matriz[[i],[0]]=Matriz[[i-1],[0]]+Data1.iloc[i,0]\n",
        "  for j in range(0,Maquinas):\n",
        "    Matriz[[0],[j]]=Data1.iloc[0,j]+Matriz[[0],[j-1]]\n",
        "  for i in range(1,len(Lista)):\n",
        "    for j in range(1,Maquinas):\n",
        "      Matriz[[i],[j]]=Data1.iloc[i,j]+np.max([Matriz[[i],[j-1]],Matriz[[i-1],[j]]])\n",
        "  CMax=Matriz[[-1],[-1]]\n",
        "  return CMax"
      ],
      "metadata": {
        "id": "GBkiwZ_CJqWY"
      },
      "execution_count": 43,
      "outputs": []
    },
    {
      "cell_type": "code",
      "source": [
        "Maquinas=len(Entrepaños.columns)-1\n",
        "ListaP=[]\n",
        "ListaOp=[]\n",
        "Lista=[]\n",
        "Lista25=[]\n",
        "l25=[]\n",
        "\n",
        "for l in Entrepaños.index:\n",
        "  CmaxMin=0\n",
        "  ListaP.append(l)\n",
        "  for j in range(0,len(ListaP)):\n",
        "    Lista=[]\n",
        "    Data1=pd.DataFrame({'Producto ': [],'Corte':[], 'Pulido ':[],'Ensamble':[]})\n",
        "    Data1.set_index('Producto ', inplace=True)\n",
        "    for i in range(0,j):\n",
        "      Lista.append(ListaP[i])\n",
        "    Lista.append(ListaP[-1])\n",
        "    for i in range(j,len(ListaP)-1):\n",
        "      Lista.append(ListaP[i])\n",
        "    Cmax=CalcularCMax(Lista,Maquinas,Data1)\n",
        "    if CmaxMin==0:\n",
        "      CmaxMin=Cmax\n",
        "      ListaOp=Lista\n",
        "    elif Cmax<CmaxMin:\n",
        "      CmaxMin=Cmax\n",
        "      ListaOp=Lista\n",
        "    elif Cmax==CmaxMin:\n",
        "      l25.append(l)\n",
        "      Lista25.append(Lista)\n",
        "  ListaP=ListaOp\n",
        "ListaOptima=Entrepaños['Producto '].loc[ListaOp]\n",
        "CmaxMinMIN=CmaxMin\n",
        "print(CmaxMinMIN,ListaOptima.values)\n",
        "#[300.] ['Biblioteca 1' 'Biblioteca 8' 'Biblioteca 7' 'Biblioteca 6''Biblioteca 5' 'Biblioteca 4' 'Biblioteca 2' 'Biblioteca 3']"
      ],
      "metadata": {
        "id": "4B_BpU1GId2h",
        "outputId": "dbda9255-1bb9-457b-fd2d-b00e1c59ddc2",
        "colab": {
          "base_uri": "https://localhost:8080/"
        }
      },
      "execution_count": 36,
      "outputs": [
        {
          "output_type": "stream",
          "name": "stdout",
          "text": [
            "[300.] ['Biblioteca 1' 'Biblioteca 8' 'Biblioteca 7' 'Biblioteca 6'\n",
            " 'Biblioteca 5' 'Biblioteca 4' 'Biblioteca 2' 'Biblioteca 3']\n"
          ]
        }
      ]
    }
  ]
}