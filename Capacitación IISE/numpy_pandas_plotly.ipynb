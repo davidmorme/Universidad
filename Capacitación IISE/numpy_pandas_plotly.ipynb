{
  "nbformat": 4,
  "nbformat_minor": 0,
  "metadata": {
    "language_info": {
      "codemirror_mode": {
        "name": "ipython",
        "version": 3
      },
      "file_extension": ".py",
      "mimetype": "text/x-python",
      "name": "python",
      "nbconvert_exporter": "python",
      "pygments_lexer": "ipython3",
      "version": "3.8.5"
    },
    "orig_nbformat": 2,
    "kernelspec": {
      "name": "python385jvsc74a57bd048b2dac2427e5c4bd2b5479f4e612135ec3351219f6a8504495dceeac711d204",
      "display_name": "Python 3.8.5 64-bit ('base': conda)"
    },
    "metadata": {
      "interpreter": {
        "hash": "48b2dac2427e5c4bd2b5479f4e612135ec3351219f6a8504495dceeac711d204"
      }
    },
    "colab": {
      "name": "numpy_pandas_plotly.ipynb",
      "provenance": [],
      "include_colab_link": true
    }
  },
  "cells": [
    {
      "cell_type": "markdown",
      "metadata": {
        "id": "view-in-github",
        "colab_type": "text"
      },
      "source": [
        "<a href=\"https://colab.research.google.com/github/davidmorme/Universidad/blob/main/Capacitaci%C3%B3n%20IISE/numpy_pandas_plotly.ipynb\" target=\"_parent\"><img src=\"https://colab.research.google.com/assets/colab-badge.svg\" alt=\"Open In Colab\"/></a>"
      ]
    },
    {
      "cell_type": "markdown",
      "metadata": {
        "id": "VUaVKJjDQpB8"
      },
      "source": [
        "# **Numpy** \n",
        "\n",
        "Esta biblioteca, cuyo nombre significa numerical Python, constituye el núcleo de muchas otras bibliotecas de Python que se han originado a partir de ella. De hecho, NumPy es la biblioteca básica para la computación científica en Python, ya que proporciona estructuras de datos y funciones de alto rendimiento que el paquete básico de Python no proporciona.\n",
        "\n",
        "NumPy es una biblioteca para el lenguaje de programación Python que da soporte para crear vectores y matrices grandes multidimensionales, junto con una gran colección de funciones matemáticas de alto nivel para operar con ellas."
      ]
    },
    {
      "cell_type": "markdown",
      "metadata": {
        "id": "qkk4_WxzQpB-"
      },
      "source": [
        "## Importar la libreria NumPy"
      ]
    },
    {
      "cell_type": "code",
      "metadata": {
        "id": "3lFi9-GYQpB_"
      },
      "source": [
        "import numpy as np "
      ],
      "execution_count": null,
      "outputs": []
    },
    {
      "cell_type": "code",
      "metadata": {
        "id": "pHP1wSSwQpCA"
      },
      "source": [
        "x = np.array([1,2,3])"
      ],
      "execution_count": null,
      "outputs": []
    },
    {
      "cell_type": "code",
      "metadata": {
        "id": "LCux_48kQpCA",
        "colab": {
          "base_uri": "https://localhost:8080/"
        },
        "outputId": "e7a3f791-a804-43e1-856b-cc08e9cdad08"
      },
      "source": [
        "np.sin(x)"
      ],
      "execution_count": null,
      "outputs": [
        {
          "output_type": "execute_result",
          "data": {
            "text/plain": [
              "array([0.84147098, 0.90929743, 0.14112001])"
            ]
          },
          "metadata": {
            "tags": []
          },
          "execution_count": 3
        }
      ]
    },
    {
      "cell_type": "code",
      "metadata": {
        "id": "Uy2SPcTvTj9a"
      },
      "source": [
        "from math import sin \n",
        "z=[1,2,3]\n",
        "sin(z) #Sale error porque está como lista y no como arreglo"
      ],
      "execution_count": null,
      "outputs": []
    },
    {
      "cell_type": "code",
      "metadata": {
        "id": "o20tWILNQpCE"
      },
      "source": [
        "x = np.array([[1,2,3], [4,5,6]])"
      ],
      "execution_count": null,
      "outputs": []
    },
    {
      "cell_type": "code",
      "metadata": {
        "id": "aOEzABr4QpCF"
      },
      "source": [
        "y = np.array([[1,2,3,4], [5,6,7,8],[9,10,11,12]])"
      ],
      "execution_count": null,
      "outputs": []
    },
    {
      "cell_type": "markdown",
      "metadata": {
        "id": "pTRFvDE2QpCG"
      },
      "source": [
        "## **Creación intrinseca de arreglos**\n",
        "\n",
        "La biblioteca NumPy proporciona un conjunto de funciones que generan ndarrays con contenido inicial, creados con diferentes valores según la función.\n",
        "\n"
      ]
    },
    {
      "cell_type": "code",
      "metadata": {
        "id": "K4cx6UxVQpCH"
      },
      "source": [
        "np.zeros((3,3))"
      ],
      "execution_count": null,
      "outputs": []
    },
    {
      "cell_type": "code",
      "metadata": {
        "id": "5TbhghV0QpCH"
      },
      "source": [
        "np.ones((3,3))"
      ],
      "execution_count": null,
      "outputs": []
    },
    {
      "cell_type": "code",
      "metadata": {
        "id": "LlkqHEIWQpCI"
      },
      "source": [
        "np.arange(0,10)"
      ],
      "execution_count": null,
      "outputs": []
    },
    {
      "cell_type": "code",
      "metadata": {
        "id": "aSDKJRwmQpCI"
      },
      "source": [
        "np.arange(4,10)"
      ],
      "execution_count": null,
      "outputs": []
    },
    {
      "cell_type": "code",
      "metadata": {
        "id": "uOHWVj6YQpCI"
      },
      "source": [
        "np.arange(0,12,3)"
      ],
      "execution_count": null,
      "outputs": []
    },
    {
      "cell_type": "markdown",
      "metadata": {
        "id": "5S8gYgfDQpCJ"
      },
      "source": [
        "## **Operaciones básicas**"
      ]
    },
    {
      "cell_type": "code",
      "metadata": {
        "id": "RxOo0MIBQpCJ"
      },
      "source": [
        "a = np.arange(0,4)"
      ],
      "execution_count": null,
      "outputs": []
    },
    {
      "cell_type": "markdown",
      "metadata": {
        "id": "IUNb3SZ2QpCJ"
      },
      "source": [
        "\n",
        "## **Funciones universales**"
      ]
    },
    {
      "cell_type": "code",
      "metadata": {
        "id": "XEB0cHf5QpCK"
      },
      "source": [
        "a = np.arange(1,6)\n"
      ],
      "execution_count": null,
      "outputs": []
    },
    {
      "cell_type": "code",
      "metadata": {
        "id": "wcB7HK8JQpCK",
        "colab": {
          "base_uri": "https://localhost:8080/"
        },
        "outputId": "1d24cf4c-561b-4973-8b48-78c361f91a29"
      },
      "source": [
        "np.sqrt(a)"
      ],
      "execution_count": null,
      "outputs": [
        {
          "output_type": "execute_result",
          "data": {
            "text/plain": [
              "array([1.        , 1.41421356, 1.73205081, 2.        , 2.23606798])"
            ]
          },
          "metadata": {
            "tags": []
          },
          "execution_count": 6
        }
      ]
    },
    {
      "cell_type": "code",
      "metadata": {
        "id": "7-PXXDhtQpCK",
        "colab": {
          "base_uri": "https://localhost:8080/"
        },
        "outputId": "cc322552-e1a6-4aca-d10b-84512e8dbbe8"
      },
      "source": [
        "np.log(a)"
      ],
      "execution_count": null,
      "outputs": [
        {
          "output_type": "execute_result",
          "data": {
            "text/plain": [
              "array([0.        , 0.69314718, 1.09861229, 1.38629436, 1.60943791])"
            ]
          },
          "metadata": {
            "tags": []
          },
          "execution_count": 7
        }
      ]
    },
    {
      "cell_type": "code",
      "metadata": {
        "id": "i4I_xErUQpCL",
        "colab": {
          "base_uri": "https://localhost:8080/"
        },
        "outputId": "c83b0d36-b11b-4161-b30c-6c9a5676fa80"
      },
      "source": [
        "np.cos(a)"
      ],
      "execution_count": null,
      "outputs": [
        {
          "output_type": "execute_result",
          "data": {
            "text/plain": [
              "array([ 0.54030231, -0.41614684, -0.9899925 , -0.65364362,  0.28366219])"
            ]
          },
          "metadata": {
            "tags": []
          },
          "execution_count": 8
        }
      ]
    },
    {
      "cell_type": "markdown",
      "metadata": {
        "id": "HcKxlcMBQpCL"
      },
      "source": [
        "## **Indexando**"
      ]
    },
    {
      "cell_type": "code",
      "metadata": {
        "id": "BFbqcY9YQpCM"
      },
      "source": [
        "a = np.arange(10, 16)"
      ],
      "execution_count": null,
      "outputs": []
    },
    {
      "cell_type": "code",
      "metadata": {
        "id": "Qt_qUCArQpCM"
      },
      "source": [
        "A = np.arange(10,19).reshape((3,3))"
      ],
      "execution_count": null,
      "outputs": []
    },
    {
      "cell_type": "code",
      "metadata": {
        "id": "xGGclxV4QpCM",
        "colab": {
          "base_uri": "https://localhost:8080/"
        },
        "outputId": "39f66f81-df1c-4180-9066-ce6239ea0ad2"
      },
      "source": [
        "A[1,2]"
      ],
      "execution_count": null,
      "outputs": [
        {
          "output_type": "execute_result",
          "data": {
            "text/plain": [
              "15"
            ]
          },
          "metadata": {
            "tags": []
          },
          "execution_count": 20
        }
      ]
    },
    {
      "cell_type": "markdown",
      "metadata": {
        "id": "ONC_jTN7QpCL"
      },
      "source": [
        "## **Agregar funciones**"
      ]
    },
    {
      "cell_type": "code",
      "metadata": {
        "colab": {
          "base_uri": "https://localhost:8080/"
        },
        "id": "dnx63ZwPhKyz",
        "outputId": "773819a5-a40d-41a2-c3f4-655ec40e9e96"
      },
      "source": [
        "np.random.random()"
      ],
      "execution_count": null,
      "outputs": [
        {
          "output_type": "execute_result",
          "data": {
            "text/plain": [
              "0.6476401288821971"
            ]
          },
          "metadata": {
            "tags": []
          },
          "execution_count": 24
        }
      ]
    },
    {
      "cell_type": "code",
      "metadata": {
        "id": "iPNu_jvEQpCL",
        "colab": {
          "base_uri": "https://localhost:8080/"
        },
        "outputId": "c71b84b0-9c6d-4d9a-9ccf-6b14d1bf7ad8"
      },
      "source": [
        "a = 5*np.random.random(5)+1\n",
        "a"
      ],
      "execution_count": null,
      "outputs": [
        {
          "output_type": "execute_result",
          "data": {
            "text/plain": [
              "array([4.22895295, 2.92734505, 1.51584049, 5.09151668, 5.0695158 ])"
            ]
          },
          "metadata": {
            "tags": []
          },
          "execution_count": 17
        }
      ]
    },
    {
      "cell_type": "code",
      "metadata": {
        "colab": {
          "base_uri": "https://localhost:8080/"
        },
        "id": "aRmj6mKIiL8K",
        "outputId": "c7b0418a-8857-40de-fe2a-27917ef14981"
      },
      "source": [
        "np.random.randint(20,100,5)"
      ],
      "execution_count": null,
      "outputs": [
        {
          "output_type": "execute_result",
          "data": {
            "text/plain": [
              "array([61, 68, 85, 95, 27])"
            ]
          },
          "metadata": {
            "tags": []
          },
          "execution_count": 43
        }
      ]
    },
    {
      "cell_type": "code",
      "metadata": {
        "colab": {
          "base_uri": "https://localhost:8080/"
        },
        "id": "fvyqPqVgh7Nw",
        "outputId": "b7e6601b-598b-4fa3-e2b8-38388687992f"
      },
      "source": [
        "a.max()"
      ],
      "execution_count": null,
      "outputs": [
        {
          "output_type": "execute_result",
          "data": {
            "text/plain": [
              "15"
            ]
          },
          "metadata": {
            "tags": []
          },
          "execution_count": 29
        }
      ]
    },
    {
      "cell_type": "markdown",
      "metadata": {
        "id": "39KCdVHfQpCN"
      },
      "source": [
        "## **Slicing**\n"
      ]
    },
    {
      "cell_type": "code",
      "metadata": {
        "id": "dZl5IFdoQpCN",
        "colab": {
          "base_uri": "https://localhost:8080/"
        },
        "outputId": "47871151-0fca-4c8a-bf90-f9be0d8283f7"
      },
      "source": [
        "a = np.arange(10,16)\n",
        "a"
      ],
      "execution_count": null,
      "outputs": [
        {
          "output_type": "execute_result",
          "data": {
            "text/plain": [
              "array([10, 11, 12, 13, 14, 15])"
            ]
          },
          "metadata": {
            "tags": []
          },
          "execution_count": 49
        }
      ]
    },
    {
      "cell_type": "code",
      "metadata": {
        "id": "llPIM3WZQpCN",
        "colab": {
          "base_uri": "https://localhost:8080/"
        },
        "outputId": "f14e562c-73c0-4928-a6bb-b56c3a8b7c67"
      },
      "source": [
        "a[1:4]"
      ],
      "execution_count": null,
      "outputs": [
        {
          "output_type": "execute_result",
          "data": {
            "text/plain": [
              "array([11, 12, 13])"
            ]
          },
          "metadata": {
            "tags": []
          },
          "execution_count": 51
        }
      ]
    },
    {
      "cell_type": "code",
      "metadata": {
        "id": "bo2eDiVIQpCN",
        "colab": {
          "base_uri": "https://localhost:8080/"
        },
        "outputId": "5a51d173-766b-4981-b35f-f46555cc0d25"
      },
      "source": [
        "a[1:5:2]"
      ],
      "execution_count": null,
      "outputs": [
        {
          "output_type": "execute_result",
          "data": {
            "text/plain": [
              "array([11, 13])"
            ]
          },
          "metadata": {
            "tags": []
          },
          "execution_count": 54
        }
      ]
    },
    {
      "cell_type": "code",
      "metadata": {
        "id": "p434Np3kQpCO",
        "colab": {
          "base_uri": "https://localhost:8080/"
        },
        "outputId": "ddd516d1-1a94-4605-cb98-62e346c87466"
      },
      "source": [
        "a[::2]"
      ],
      "execution_count": null,
      "outputs": [
        {
          "output_type": "execute_result",
          "data": {
            "text/plain": [
              "array([10, 12, 14])"
            ]
          },
          "metadata": {
            "tags": []
          },
          "execution_count": 48
        }
      ]
    },
    {
      "cell_type": "code",
      "metadata": {
        "id": "lX4moej0QpCO",
        "outputId": "a4c12b66-67f1-4ebc-b0c9-17716d718973"
      },
      "source": [
        "a[:5:2]"
      ],
      "execution_count": null,
      "outputs": [
        {
          "output_type": "execute_result",
          "data": {
            "text/plain": [
              "array([10, 12, 14])"
            ]
          },
          "metadata": {
            "tags": []
          },
          "execution_count": 47
        }
      ]
    },
    {
      "cell_type": "code",
      "metadata": {
        "id": "2uPuQET0QpCP",
        "outputId": "995252dd-f1c9-48ff-d7bb-396cc34bb8e5"
      },
      "source": [
        "a[:5:]"
      ],
      "execution_count": null,
      "outputs": [
        {
          "output_type": "execute_result",
          "data": {
            "text/plain": [
              "array([10, 11, 12, 13, 14])"
            ]
          },
          "metadata": {
            "tags": []
          },
          "execution_count": 48
        }
      ]
    },
    {
      "cell_type": "code",
      "metadata": {
        "id": "ciYdfIrBQpCP"
      },
      "source": [
        "b = np.arange(10,31)"
      ],
      "execution_count": null,
      "outputs": []
    },
    {
      "cell_type": "code",
      "metadata": {
        "id": "3q1dGL9eQpCQ",
        "colab": {
          "base_uri": "https://localhost:8080/"
        },
        "outputId": "23c49c53-4e95-4514-e9f9-0c153e92ddba"
      },
      "source": [
        "A = np.arange(10,19).reshape((3,3))\n",
        "A"
      ],
      "execution_count": null,
      "outputs": [
        {
          "output_type": "execute_result",
          "data": {
            "text/plain": [
              "array([[10, 11, 12],\n",
              "       [13, 14, 15],\n",
              "       [16, 17, 18]])"
            ]
          },
          "metadata": {
            "tags": []
          },
          "execution_count": 56
        }
      ]
    },
    {
      "cell_type": "code",
      "metadata": {
        "colab": {
          "base_uri": "https://localhost:8080/"
        },
        "id": "yMiX2CkOjGuW",
        "outputId": "f9b5a939-9706-4954-ec22-4ccc9a4e15ba"
      },
      "source": [
        "A[[0,2],[0,2]]"
      ],
      "execution_count": null,
      "outputs": [
        {
          "output_type": "execute_result",
          "data": {
            "text/plain": [
              "array([10, 18])"
            ]
          },
          "metadata": {
            "tags": []
          },
          "execution_count": 59
        }
      ]
    },
    {
      "cell_type": "code",
      "metadata": {
        "id": "rhFvprJXjVLg",
        "colab": {
          "base_uri": "https://localhost:8080/"
        },
        "outputId": "54ed53f5-8911-43e6-c377-95f4d92a8f94"
      },
      "source": [
        "A[[0,2],0:2]"
      ],
      "execution_count": null,
      "outputs": [
        {
          "output_type": "execute_result",
          "data": {
            "text/plain": [
              "array([[10, 11],\n",
              "       [16, 17]])"
            ]
          },
          "metadata": {
            "tags": []
          },
          "execution_count": 60
        }
      ]
    },
    {
      "cell_type": "markdown",
      "metadata": {
        "id": "reUayZ8_QpCQ"
      },
      "source": [
        "## **Condicionales y arreglos Booleanos**"
      ]
    },
    {
      "cell_type": "code",
      "metadata": {
        "id": "2np15jYaQpCQ"
      },
      "source": [
        "A = np.random.random((4,4))"
      ],
      "execution_count": null,
      "outputs": []
    },
    {
      "cell_type": "markdown",
      "metadata": {
        "id": "bpvJ-QMPQpCQ"
      },
      "source": [
        "# **Pandas**\n",
        "\n",
        "La librería pandas es una biblioteca de Python de código abierto para análisis de datos altamente especializados. Actualmente es el punto de referencia que todos los profesionales que utilizan el lenguaje Python deben estudiar con fines estadísticos de análisis y toma de decisiones."
      ]
    },
    {
      "cell_type": "code",
      "metadata": {
        "id": "D4D6Te4oQpCR"
      },
      "source": [
        "import pandas as pd "
      ],
      "execution_count": null,
      "outputs": []
    },
    {
      "cell_type": "code",
      "metadata": {
        "id": "JfDmUIEKQpCS"
      },
      "source": [
        "s = pd.Series([12, -4, 7,9])"
      ],
      "execution_count": null,
      "outputs": []
    },
    {
      "cell_type": "code",
      "metadata": {
        "id": "63huiOhpQpCT"
      },
      "source": [
        "s = pd.Series([12, -4, 7,9], index= ['a', 'b', 'c', 'd'])"
      ],
      "execution_count": null,
      "outputs": []
    },
    {
      "cell_type": "code",
      "metadata": {
        "id": "70fZFXVcQpCT"
      },
      "source": [
        "s.values, s.index"
      ],
      "execution_count": null,
      "outputs": []
    },
    {
      "cell_type": "markdown",
      "metadata": {
        "id": "SaToTr1eQpCT"
      },
      "source": [
        "## **Seleccionando elementos internos**"
      ]
    },
    {
      "cell_type": "code",
      "metadata": {
        "id": "NYJ1nGciQpCU"
      },
      "source": [
        "s[2]"
      ],
      "execution_count": null,
      "outputs": []
    },
    {
      "cell_type": "code",
      "metadata": {
        "id": "AQ51zpnPQpCV"
      },
      "source": [
        "s['b']"
      ],
      "execution_count": null,
      "outputs": []
    },
    {
      "cell_type": "code",
      "metadata": {
        "id": "Ajw047tEQpCV"
      },
      "source": [
        "s[0:2]"
      ],
      "execution_count": null,
      "outputs": []
    },
    {
      "cell_type": "code",
      "metadata": {
        "id": "IWYyhzQHQpCW"
      },
      "source": [
        "s[[0,2]], s[['a', 'c']]"
      ],
      "execution_count": null,
      "outputs": []
    },
    {
      "cell_type": "markdown",
      "metadata": {
        "id": "bnuBAca2QpCY"
      },
      "source": [
        "## **Asignando valores a los elementos**"
      ]
    },
    {
      "cell_type": "code",
      "metadata": {
        "id": "k34tw8VsQpCZ"
      },
      "source": [
        "s[1]= 0"
      ],
      "execution_count": null,
      "outputs": []
    },
    {
      "cell_type": "code",
      "metadata": {
        "id": "CPmUuaz_QpCZ"
      },
      "source": [
        "s['b'] = 1"
      ],
      "execution_count": null,
      "outputs": []
    },
    {
      "cell_type": "markdown",
      "metadata": {
        "id": "UrvSsfphQpCa"
      },
      "source": [
        "## **Definiendo una serie a partir de una array y otras series**"
      ]
    },
    {
      "cell_type": "code",
      "metadata": {
        "id": "n4_iFtEmQpCa"
      },
      "source": [
        "arr = np.arange(1,10,2)\n",
        "s3 = pd.Series(arr)"
      ],
      "execution_count": null,
      "outputs": []
    },
    {
      "cell_type": "code",
      "metadata": {
        "id": "EYFa2ToJQpCa"
      },
      "source": [
        "s4 = pd.Series(s)"
      ],
      "execution_count": null,
      "outputs": []
    },
    {
      "cell_type": "markdown",
      "metadata": {
        "id": "mE-IDjTLQpCb"
      },
      "source": [
        "## **Operaciones y funciones matemáticas**\n",
        "\n",
        "De forma similar que las filtraciones las operciones matemáticas (+,-,*,/) y las funciones matemáticas de NumPy se pueden aplicar a las series."
      ]
    },
    {
      "cell_type": "code",
      "metadata": {
        "id": "NbXx1U2HQpCb"
      },
      "source": [
        "s/2"
      ],
      "execution_count": null,
      "outputs": []
    },
    {
      "cell_type": "code",
      "metadata": {
        "id": "MEKxWMDBQpCb"
      },
      "source": [
        "np.log(s)"
      ],
      "execution_count": null,
      "outputs": []
    },
    {
      "cell_type": "markdown",
      "metadata": {
        "id": "tZ_7UFuCQpCc"
      },
      "source": [
        "## **Filtrando valores**\n",
        "\n",
        "Gracias a la elección de la libreria NumPy como la base para libreria pandas, como resultado para su estructura de datos, muchas operaciones que son aplicables a los arrays de NumPy, se pueden extender a las series. "
      ]
    },
    {
      "cell_type": "code",
      "metadata": {
        "id": "fuoi8sbBQpCc"
      },
      "source": [
        "s[s>8]"
      ],
      "execution_count": null,
      "outputs": []
    },
    {
      "cell_type": "code",
      "metadata": {
        "id": "50X3s7ZKQpCc"
      },
      "source": [
        "colors = pd.Series([1,0,2,1,2,3], index=['white','white','blue','green','green','yellow'])"
      ],
      "execution_count": null,
      "outputs": []
    },
    {
      "cell_type": "markdown",
      "metadata": {
        "id": "1W13LuMnQpCc"
      },
      "source": [
        "## **Valores NaN**"
      ]
    },
    {
      "cell_type": "code",
      "metadata": {
        "id": "QxTs-Zm6QpCd"
      },
      "source": [
        "s2 = pd.Series([5,-3,np.NaN,14])"
      ],
      "execution_count": null,
      "outputs": []
    },
    {
      "cell_type": "markdown",
      "metadata": {
        "id": "0NNRWNteQpCd"
      },
      "source": [
        "## **Series y diccionarios**"
      ]
    },
    {
      "cell_type": "code",
      "metadata": {
        "id": "yy4mINXRQpCd"
      },
      "source": [
        "mydict = {'red': 2000, 'blue': 1000, 'yellow': 500,\n",
        "'orange': 1000}"
      ],
      "execution_count": null,
      "outputs": []
    },
    {
      "cell_type": "code",
      "metadata": {
        "id": "tG2HCeXpQpCe"
      },
      "source": [
        "s5 = pd.Series(mydict)"
      ],
      "execution_count": null,
      "outputs": []
    },
    {
      "cell_type": "code",
      "metadata": {
        "id": "P_LOUKwYQpCe"
      },
      "source": [
        "colors = ['red','yellow','orange','blue','green']\n",
        "myseries = pd.Series(mydict, index=colors)\n"
      ],
      "execution_count": null,
      "outputs": []
    },
    {
      "cell_type": "markdown",
      "metadata": {
        "id": "abtXPJW5QpCe"
      },
      "source": [
        "## **Dataframe**\n",
        "\n",
        "El dataframe es una estructura de datos tabular muy similar a una hoja de cálculo. Esta estructura de datos esta diseñada para extender las series a multiples dimensiones."
      ]
    },
    {
      "cell_type": "code",
      "metadata": {
        "id": "25cQKcU3QpCf"
      },
      "source": [
        "data = {'color' : ['blue','green','yellow','red','white'],       \n",
        "        'object' : ['ball','pen','pencil','paper','mug'],\n",
        "        'price' : [1.2,1.0,0.6,0.9,1.7]}"
      ],
      "execution_count": null,
      "outputs": []
    },
    {
      "cell_type": "code",
      "metadata": {
        "id": "3yZqUpFUQpCg"
      },
      "source": [
        "frame = pd.DataFrame(data)"
      ],
      "execution_count": null,
      "outputs": []
    },
    {
      "cell_type": "code",
      "metadata": {
        "id": "uB7b4AWDQpCg"
      },
      "source": [
        "frame2 = pd.DataFrame(data, columns= ['object', 'price'])"
      ],
      "execution_count": null,
      "outputs": []
    },
    {
      "cell_type": "code",
      "metadata": {
        "id": "dqEUEteMQpCh"
      },
      "source": [
        "frame2 = pd.DataFrame(data, index=['one','two','three','four','five'])\n"
      ],
      "execution_count": null,
      "outputs": []
    },
    {
      "cell_type": "code",
      "metadata": {
        "id": "1BB1cS7OQpCh"
      },
      "source": [
        "frame3 = pd.DataFrame(np.arange(16).reshape((4,4)),\n",
        "                   index=['red','blue','yellow','white'],                   \n",
        "                   columns=['ball','pen','pencil','paper'])"
      ],
      "execution_count": null,
      "outputs": []
    },
    {
      "cell_type": "markdown",
      "metadata": {
        "id": "xetW6AaOQpCj"
      },
      "source": [
        "## **Seleccionar elementos**"
      ]
    },
    {
      "cell_type": "code",
      "metadata": {
        "id": "RfdRj68mQpCj"
      },
      "source": [
        "frame.columns"
      ],
      "execution_count": null,
      "outputs": []
    },
    {
      "cell_type": "code",
      "metadata": {
        "id": "ufE6X695QpCk"
      },
      "source": [
        "frame.index"
      ],
      "execution_count": null,
      "outputs": []
    },
    {
      "cell_type": "code",
      "metadata": {
        "id": "bPs-gfYeQpCk"
      },
      "source": [
        "frame.values"
      ],
      "execution_count": null,
      "outputs": []
    },
    {
      "cell_type": "code",
      "metadata": {
        "id": "SBsBNv0cQpCl"
      },
      "source": [
        "frame['price']"
      ],
      "execution_count": null,
      "outputs": []
    },
    {
      "cell_type": "code",
      "metadata": {
        "id": "Twv9FHT8QpCl"
      },
      "source": [
        "frame.loc[2]"
      ],
      "execution_count": null,
      "outputs": []
    },
    {
      "cell_type": "code",
      "metadata": {
        "id": "EDYp5DQjQpCl"
      },
      "source": [
        "frame.loc[[2,4]]"
      ],
      "execution_count": null,
      "outputs": []
    },
    {
      "cell_type": "code",
      "metadata": {
        "id": "USBsGouJQpCm"
      },
      "source": [
        "frame[0:1]"
      ],
      "execution_count": null,
      "outputs": []
    },
    {
      "cell_type": "code",
      "metadata": {
        "id": "qIPZTEpRQpCm"
      },
      "source": [
        "frame[1:3]"
      ],
      "execution_count": null,
      "outputs": []
    },
    {
      "cell_type": "code",
      "metadata": {
        "id": "0jScr2ngQpCm"
      },
      "source": [
        "frame['object'][3]"
      ],
      "execution_count": null,
      "outputs": []
    },
    {
      "cell_type": "code",
      "metadata": {
        "id": "spISW7l7QpCn"
      },
      "source": [
        "frame.index.name = 'id'\n",
        "frame.columns.name = 'item'"
      ],
      "execution_count": null,
      "outputs": []
    },
    {
      "cell_type": "code",
      "metadata": {
        "id": "Ws34m_TMQpCn"
      },
      "source": [
        "frame['new'] = 12"
      ],
      "execution_count": null,
      "outputs": []
    },
    {
      "cell_type": "code",
      "metadata": {
        "id": "oN6iE4kRQpCn"
      },
      "source": [
        "frame['new'] = [3.0,1.3,2.2,0.8,1.1]"
      ],
      "execution_count": null,
      "outputs": []
    },
    {
      "cell_type": "code",
      "metadata": {
        "id": "a6_WF2WrQpCo"
      },
      "source": [
        "ser = pd.Series(np.arange(5))"
      ],
      "execution_count": null,
      "outputs": []
    },
    {
      "cell_type": "code",
      "metadata": {
        "id": "uN8NPW7RQpCo"
      },
      "source": [
        "frame['new'] = ser"
      ],
      "execution_count": null,
      "outputs": []
    },
    {
      "cell_type": "code",
      "metadata": {
        "id": "DfarTEaUQpCo",
        "outputId": "c35a8704-e60b-4043-8a97-2b8063ad6050"
      },
      "source": [
        "frame['price'][2] = 3.3\n"
      ],
      "execution_count": null,
      "outputs": [
        {
          "output_type": "stream",
          "text": [
            "<ipython-input-71-e8152927d759>:1: SettingWithCopyWarning: \n",
            "A value is trying to be set on a copy of a slice from a DataFrame\n",
            "\n",
            "See the caveats in the documentation: https://pandas.pydata.org/pandas-docs/stable/user_guide/indexing.html#returning-a-view-versus-a-copy\n",
            "  frame['price'][2] = 3.3\n"
          ],
          "name": "stderr"
        }
      ]
    },
    {
      "cell_type": "code",
      "metadata": {
        "id": "1l8YZQHDQpCp"
      },
      "source": [
        "frame.isin([1.0,'pen'])"
      ],
      "execution_count": null,
      "outputs": []
    },
    {
      "cell_type": "code",
      "metadata": {
        "id": "K1sMJhHBQpCp"
      },
      "source": [
        "a = frame[frame.isin([1.0,'pen'])]"
      ],
      "execution_count": null,
      "outputs": []
    },
    {
      "cell_type": "code",
      "metadata": {
        "id": "NZDynH8PQpCp"
      },
      "source": [
        "del frame['new']\n"
      ],
      "execution_count": null,
      "outputs": []
    },
    {
      "cell_type": "code",
      "metadata": {
        "id": "eKjxxYmwQpCq"
      },
      "source": [
        "frame[frame['price'] < 1.2]"
      ],
      "execution_count": null,
      "outputs": []
    },
    {
      "cell_type": "markdown",
      "metadata": {
        "id": "IPEIqU7IQpCq"
      },
      "source": [
        "# **Visualización de datos con Matplotlib**"
      ]
    },
    {
      "cell_type": "code",
      "metadata": {
        "id": "JZcEK2GzQpCq"
      },
      "source": [
        "import matplotlib.pyplot as plt \n"
      ],
      "execution_count": null,
      "outputs": []
    },
    {
      "cell_type": "code",
      "metadata": {
        "id": "xlZ78GJ1QpCr",
        "outputId": "d43daa8a-de98-40c7-b634-c994631d09d2"
      },
      "source": [
        "plt.plot(np.arange(0,5))\n",
        "plt.show()"
      ],
      "execution_count": null,
      "outputs": [
        {
          "output_type": "display_data",
          "data": {
            "text/plain": [
              "<Figure size 432x288 with 1 Axes>"
            ],
            "image/svg+xml": "<?xml version=\"1.0\" encoding=\"utf-8\" standalone=\"no\"?>\n<!DOCTYPE svg PUBLIC \"-//W3C//DTD SVG 1.1//EN\"\n  \"http://www.w3.org/Graphics/SVG/1.1/DTD/svg11.dtd\">\n<!-- Created with matplotlib (https://matplotlib.org/) -->\n<svg height=\"248.518125pt\" version=\"1.1\" viewBox=\"0 0 372.103125 248.518125\" width=\"372.103125pt\" xmlns=\"http://www.w3.org/2000/svg\" xmlns:xlink=\"http://www.w3.org/1999/xlink\">\n <metadata>\n  <rdf:RDF xmlns:cc=\"http://creativecommons.org/ns#\" xmlns:dc=\"http://purl.org/dc/elements/1.1/\" xmlns:rdf=\"http://www.w3.org/1999/02/22-rdf-syntax-ns#\">\n   <cc:Work>\n    <dc:type rdf:resource=\"http://purl.org/dc/dcmitype/StillImage\"/>\n    <dc:date>2021-04-28T20:42:23.284349</dc:date>\n    <dc:format>image/svg+xml</dc:format>\n    <dc:creator>\n     <cc:Agent>\n      <dc:title>Matplotlib v3.3.2, https://matplotlib.org/</dc:title>\n     </cc:Agent>\n    </dc:creator>\n   </cc:Work>\n  </rdf:RDF>\n </metadata>\n <defs>\n  <style type=\"text/css\">*{stroke-linecap:butt;stroke-linejoin:round;}</style>\n </defs>\n <g id=\"figure_1\">\n  <g id=\"patch_1\">\n   <path d=\"M 0 248.518125 \nL 372.103125 248.518125 \nL 372.103125 0 \nL 0 0 \nz\n\" style=\"fill:none;\"/>\n  </g>\n  <g id=\"axes_1\">\n   <g id=\"patch_2\">\n    <path d=\"M 30.103125 224.64 \nL 364.903125 224.64 \nL 364.903125 7.2 \nL 30.103125 7.2 \nz\n\" style=\"fill:#ffffff;\"/>\n   </g>\n   <g id=\"matplotlib.axis_1\">\n    <g id=\"xtick_1\">\n     <g id=\"line2d_1\">\n      <defs>\n       <path d=\"M 0 0 \nL 0 3.5 \n\" id=\"m4e7dbeaa8d\" style=\"stroke:#000000;stroke-width:0.8;\"/>\n      </defs>\n      <g>\n       <use style=\"stroke:#000000;stroke-width:0.8;\" x=\"45.321307\" xlink:href=\"#m4e7dbeaa8d\" y=\"224.64\"/>\n      </g>\n     </g>\n     <g id=\"text_1\">\n      <!-- 0.0 -->\n      <g transform=\"translate(37.369744 239.238437)scale(0.1 -0.1)\">\n       <defs>\n        <path d=\"M 31.78125 66.40625 \nQ 24.171875 66.40625 20.328125 58.90625 \nQ 16.5 51.421875 16.5 36.375 \nQ 16.5 21.390625 20.328125 13.890625 \nQ 24.171875 6.390625 31.78125 6.390625 \nQ 39.453125 6.390625 43.28125 13.890625 \nQ 47.125 21.390625 47.125 36.375 \nQ 47.125 51.421875 43.28125 58.90625 \nQ 39.453125 66.40625 31.78125 66.40625 \nz\nM 31.78125 74.21875 \nQ 44.046875 74.21875 50.515625 64.515625 \nQ 56.984375 54.828125 56.984375 36.375 \nQ 56.984375 17.96875 50.515625 8.265625 \nQ 44.046875 -1.421875 31.78125 -1.421875 \nQ 19.53125 -1.421875 13.0625 8.265625 \nQ 6.59375 17.96875 6.59375 36.375 \nQ 6.59375 54.828125 13.0625 64.515625 \nQ 19.53125 74.21875 31.78125 74.21875 \nz\n\" id=\"DejaVuSans-48\"/>\n        <path d=\"M 10.6875 12.40625 \nL 21 12.40625 \nL 21 0 \nL 10.6875 0 \nz\n\" id=\"DejaVuSans-46\"/>\n       </defs>\n       <use xlink:href=\"#DejaVuSans-48\"/>\n       <use x=\"63.623047\" xlink:href=\"#DejaVuSans-46\"/>\n       <use x=\"95.410156\" xlink:href=\"#DejaVuSans-48\"/>\n      </g>\n     </g>\n    </g>\n    <g id=\"xtick_2\">\n     <g id=\"line2d_2\">\n      <g>\n       <use style=\"stroke:#000000;stroke-width:0.8;\" x=\"83.366761\" xlink:href=\"#m4e7dbeaa8d\" y=\"224.64\"/>\n      </g>\n     </g>\n     <g id=\"text_2\">\n      <!-- 0.5 -->\n      <g transform=\"translate(75.415199 239.238437)scale(0.1 -0.1)\">\n       <defs>\n        <path d=\"M 10.796875 72.90625 \nL 49.515625 72.90625 \nL 49.515625 64.59375 \nL 19.828125 64.59375 \nL 19.828125 46.734375 \nQ 21.96875 47.46875 24.109375 47.828125 \nQ 26.265625 48.1875 28.421875 48.1875 \nQ 40.625 48.1875 47.75 41.5 \nQ 54.890625 34.8125 54.890625 23.390625 \nQ 54.890625 11.625 47.5625 5.09375 \nQ 40.234375 -1.421875 26.90625 -1.421875 \nQ 22.3125 -1.421875 17.546875 -0.640625 \nQ 12.796875 0.140625 7.71875 1.703125 \nL 7.71875 11.625 \nQ 12.109375 9.234375 16.796875 8.0625 \nQ 21.484375 6.890625 26.703125 6.890625 \nQ 35.15625 6.890625 40.078125 11.328125 \nQ 45.015625 15.765625 45.015625 23.390625 \nQ 45.015625 31 40.078125 35.4375 \nQ 35.15625 39.890625 26.703125 39.890625 \nQ 22.75 39.890625 18.8125 39.015625 \nQ 14.890625 38.140625 10.796875 36.28125 \nz\n\" id=\"DejaVuSans-53\"/>\n       </defs>\n       <use xlink:href=\"#DejaVuSans-48\"/>\n       <use x=\"63.623047\" xlink:href=\"#DejaVuSans-46\"/>\n       <use x=\"95.410156\" xlink:href=\"#DejaVuSans-53\"/>\n      </g>\n     </g>\n    </g>\n    <g id=\"xtick_3\">\n     <g id=\"line2d_3\">\n      <g>\n       <use style=\"stroke:#000000;stroke-width:0.8;\" x=\"121.412216\" xlink:href=\"#m4e7dbeaa8d\" y=\"224.64\"/>\n      </g>\n     </g>\n     <g id=\"text_3\">\n      <!-- 1.0 -->\n      <g transform=\"translate(113.460653 239.238437)scale(0.1 -0.1)\">\n       <defs>\n        <path d=\"M 12.40625 8.296875 \nL 28.515625 8.296875 \nL 28.515625 63.921875 \nL 10.984375 60.40625 \nL 10.984375 69.390625 \nL 28.421875 72.90625 \nL 38.28125 72.90625 \nL 38.28125 8.296875 \nL 54.390625 8.296875 \nL 54.390625 0 \nL 12.40625 0 \nz\n\" id=\"DejaVuSans-49\"/>\n       </defs>\n       <use xlink:href=\"#DejaVuSans-49\"/>\n       <use x=\"63.623047\" xlink:href=\"#DejaVuSans-46\"/>\n       <use x=\"95.410156\" xlink:href=\"#DejaVuSans-48\"/>\n      </g>\n     </g>\n    </g>\n    <g id=\"xtick_4\">\n     <g id=\"line2d_4\">\n      <g>\n       <use style=\"stroke:#000000;stroke-width:0.8;\" x=\"159.45767\" xlink:href=\"#m4e7dbeaa8d\" y=\"224.64\"/>\n      </g>\n     </g>\n     <g id=\"text_4\">\n      <!-- 1.5 -->\n      <g transform=\"translate(151.506108 239.238437)scale(0.1 -0.1)\">\n       <use xlink:href=\"#DejaVuSans-49\"/>\n       <use x=\"63.623047\" xlink:href=\"#DejaVuSans-46\"/>\n       <use x=\"95.410156\" xlink:href=\"#DejaVuSans-53\"/>\n      </g>\n     </g>\n    </g>\n    <g id=\"xtick_5\">\n     <g id=\"line2d_5\">\n      <g>\n       <use style=\"stroke:#000000;stroke-width:0.8;\" x=\"197.503125\" xlink:href=\"#m4e7dbeaa8d\" y=\"224.64\"/>\n      </g>\n     </g>\n     <g id=\"text_5\">\n      <!-- 2.0 -->\n      <g transform=\"translate(189.551563 239.238437)scale(0.1 -0.1)\">\n       <defs>\n        <path d=\"M 19.1875 8.296875 \nL 53.609375 8.296875 \nL 53.609375 0 \nL 7.328125 0 \nL 7.328125 8.296875 \nQ 12.9375 14.109375 22.625 23.890625 \nQ 32.328125 33.6875 34.8125 36.53125 \nQ 39.546875 41.84375 41.421875 45.53125 \nQ 43.3125 49.21875 43.3125 52.78125 \nQ 43.3125 58.59375 39.234375 62.25 \nQ 35.15625 65.921875 28.609375 65.921875 \nQ 23.96875 65.921875 18.8125 64.3125 \nQ 13.671875 62.703125 7.8125 59.421875 \nL 7.8125 69.390625 \nQ 13.765625 71.78125 18.9375 73 \nQ 24.125 74.21875 28.421875 74.21875 \nQ 39.75 74.21875 46.484375 68.546875 \nQ 53.21875 62.890625 53.21875 53.421875 \nQ 53.21875 48.921875 51.53125 44.890625 \nQ 49.859375 40.875 45.40625 35.40625 \nQ 44.1875 33.984375 37.640625 27.21875 \nQ 31.109375 20.453125 19.1875 8.296875 \nz\n\" id=\"DejaVuSans-50\"/>\n       </defs>\n       <use xlink:href=\"#DejaVuSans-50\"/>\n       <use x=\"63.623047\" xlink:href=\"#DejaVuSans-46\"/>\n       <use x=\"95.410156\" xlink:href=\"#DejaVuSans-48\"/>\n      </g>\n     </g>\n    </g>\n    <g id=\"xtick_6\">\n     <g id=\"line2d_6\">\n      <g>\n       <use style=\"stroke:#000000;stroke-width:0.8;\" x=\"235.54858\" xlink:href=\"#m4e7dbeaa8d\" y=\"224.64\"/>\n      </g>\n     </g>\n     <g id=\"text_6\">\n      <!-- 2.5 -->\n      <g transform=\"translate(227.597017 239.238437)scale(0.1 -0.1)\">\n       <use xlink:href=\"#DejaVuSans-50\"/>\n       <use x=\"63.623047\" xlink:href=\"#DejaVuSans-46\"/>\n       <use x=\"95.410156\" xlink:href=\"#DejaVuSans-53\"/>\n      </g>\n     </g>\n    </g>\n    <g id=\"xtick_7\">\n     <g id=\"line2d_7\">\n      <g>\n       <use style=\"stroke:#000000;stroke-width:0.8;\" x=\"273.594034\" xlink:href=\"#m4e7dbeaa8d\" y=\"224.64\"/>\n      </g>\n     </g>\n     <g id=\"text_7\">\n      <!-- 3.0 -->\n      <g transform=\"translate(265.642472 239.238437)scale(0.1 -0.1)\">\n       <defs>\n        <path d=\"M 40.578125 39.3125 \nQ 47.65625 37.796875 51.625 33 \nQ 55.609375 28.21875 55.609375 21.1875 \nQ 55.609375 10.40625 48.1875 4.484375 \nQ 40.765625 -1.421875 27.09375 -1.421875 \nQ 22.515625 -1.421875 17.65625 -0.515625 \nQ 12.796875 0.390625 7.625 2.203125 \nL 7.625 11.71875 \nQ 11.71875 9.328125 16.59375 8.109375 \nQ 21.484375 6.890625 26.8125 6.890625 \nQ 36.078125 6.890625 40.9375 10.546875 \nQ 45.796875 14.203125 45.796875 21.1875 \nQ 45.796875 27.640625 41.28125 31.265625 \nQ 36.765625 34.90625 28.71875 34.90625 \nL 20.21875 34.90625 \nL 20.21875 43.015625 \nL 29.109375 43.015625 \nQ 36.375 43.015625 40.234375 45.921875 \nQ 44.09375 48.828125 44.09375 54.296875 \nQ 44.09375 59.90625 40.109375 62.90625 \nQ 36.140625 65.921875 28.71875 65.921875 \nQ 24.65625 65.921875 20.015625 65.03125 \nQ 15.375 64.15625 9.8125 62.3125 \nL 9.8125 71.09375 \nQ 15.4375 72.65625 20.34375 73.4375 \nQ 25.25 74.21875 29.59375 74.21875 \nQ 40.828125 74.21875 47.359375 69.109375 \nQ 53.90625 64.015625 53.90625 55.328125 \nQ 53.90625 49.265625 50.4375 45.09375 \nQ 46.96875 40.921875 40.578125 39.3125 \nz\n\" id=\"DejaVuSans-51\"/>\n       </defs>\n       <use xlink:href=\"#DejaVuSans-51\"/>\n       <use x=\"63.623047\" xlink:href=\"#DejaVuSans-46\"/>\n       <use x=\"95.410156\" xlink:href=\"#DejaVuSans-48\"/>\n      </g>\n     </g>\n    </g>\n    <g id=\"xtick_8\">\n     <g id=\"line2d_8\">\n      <g>\n       <use style=\"stroke:#000000;stroke-width:0.8;\" x=\"311.639489\" xlink:href=\"#m4e7dbeaa8d\" y=\"224.64\"/>\n      </g>\n     </g>\n     <g id=\"text_8\">\n      <!-- 3.5 -->\n      <g transform=\"translate(303.687926 239.238437)scale(0.1 -0.1)\">\n       <use xlink:href=\"#DejaVuSans-51\"/>\n       <use x=\"63.623047\" xlink:href=\"#DejaVuSans-46\"/>\n       <use x=\"95.410156\" xlink:href=\"#DejaVuSans-53\"/>\n      </g>\n     </g>\n    </g>\n    <g id=\"xtick_9\">\n     <g id=\"line2d_9\">\n      <g>\n       <use style=\"stroke:#000000;stroke-width:0.8;\" x=\"349.684943\" xlink:href=\"#m4e7dbeaa8d\" y=\"224.64\"/>\n      </g>\n     </g>\n     <g id=\"text_9\">\n      <!-- 4.0 -->\n      <g transform=\"translate(341.733381 239.238437)scale(0.1 -0.1)\">\n       <defs>\n        <path d=\"M 37.796875 64.3125 \nL 12.890625 25.390625 \nL 37.796875 25.390625 \nz\nM 35.203125 72.90625 \nL 47.609375 72.90625 \nL 47.609375 25.390625 \nL 58.015625 25.390625 \nL 58.015625 17.1875 \nL 47.609375 17.1875 \nL 47.609375 0 \nL 37.796875 0 \nL 37.796875 17.1875 \nL 4.890625 17.1875 \nL 4.890625 26.703125 \nz\n\" id=\"DejaVuSans-52\"/>\n       </defs>\n       <use xlink:href=\"#DejaVuSans-52\"/>\n       <use x=\"63.623047\" xlink:href=\"#DejaVuSans-46\"/>\n       <use x=\"95.410156\" xlink:href=\"#DejaVuSans-48\"/>\n      </g>\n     </g>\n    </g>\n   </g>\n   <g id=\"matplotlib.axis_2\">\n    <g id=\"ytick_1\">\n     <g id=\"line2d_10\">\n      <defs>\n       <path d=\"M 0 0 \nL -3.5 0 \n\" id=\"m28c387ee2d\" style=\"stroke:#000000;stroke-width:0.8;\"/>\n      </defs>\n      <g>\n       <use style=\"stroke:#000000;stroke-width:0.8;\" x=\"30.103125\" xlink:href=\"#m28c387ee2d\" y=\"214.756364\"/>\n      </g>\n     </g>\n     <g id=\"text_10\">\n      <!-- 0.0 -->\n      <g transform=\"translate(7.2 218.555582)scale(0.1 -0.1)\">\n       <use xlink:href=\"#DejaVuSans-48\"/>\n       <use x=\"63.623047\" xlink:href=\"#DejaVuSans-46\"/>\n       <use x=\"95.410156\" xlink:href=\"#DejaVuSans-48\"/>\n      </g>\n     </g>\n    </g>\n    <g id=\"ytick_2\">\n     <g id=\"line2d_11\">\n      <g>\n       <use style=\"stroke:#000000;stroke-width:0.8;\" x=\"30.103125\" xlink:href=\"#m28c387ee2d\" y=\"190.047273\"/>\n      </g>\n     </g>\n     <g id=\"text_11\">\n      <!-- 0.5 -->\n      <g transform=\"translate(7.2 193.846491)scale(0.1 -0.1)\">\n       <use xlink:href=\"#DejaVuSans-48\"/>\n       <use x=\"63.623047\" xlink:href=\"#DejaVuSans-46\"/>\n       <use x=\"95.410156\" xlink:href=\"#DejaVuSans-53\"/>\n      </g>\n     </g>\n    </g>\n    <g id=\"ytick_3\">\n     <g id=\"line2d_12\">\n      <g>\n       <use style=\"stroke:#000000;stroke-width:0.8;\" x=\"30.103125\" xlink:href=\"#m28c387ee2d\" y=\"165.338182\"/>\n      </g>\n     </g>\n     <g id=\"text_12\">\n      <!-- 1.0 -->\n      <g transform=\"translate(7.2 169.137401)scale(0.1 -0.1)\">\n       <use xlink:href=\"#DejaVuSans-49\"/>\n       <use x=\"63.623047\" xlink:href=\"#DejaVuSans-46\"/>\n       <use x=\"95.410156\" xlink:href=\"#DejaVuSans-48\"/>\n      </g>\n     </g>\n    </g>\n    <g id=\"ytick_4\">\n     <g id=\"line2d_13\">\n      <g>\n       <use style=\"stroke:#000000;stroke-width:0.8;\" x=\"30.103125\" xlink:href=\"#m28c387ee2d\" y=\"140.629091\"/>\n      </g>\n     </g>\n     <g id=\"text_13\">\n      <!-- 1.5 -->\n      <g transform=\"translate(7.2 144.42831)scale(0.1 -0.1)\">\n       <use xlink:href=\"#DejaVuSans-49\"/>\n       <use x=\"63.623047\" xlink:href=\"#DejaVuSans-46\"/>\n       <use x=\"95.410156\" xlink:href=\"#DejaVuSans-53\"/>\n      </g>\n     </g>\n    </g>\n    <g id=\"ytick_5\">\n     <g id=\"line2d_14\">\n      <g>\n       <use style=\"stroke:#000000;stroke-width:0.8;\" x=\"30.103125\" xlink:href=\"#m28c387ee2d\" y=\"115.92\"/>\n      </g>\n     </g>\n     <g id=\"text_14\">\n      <!-- 2.0 -->\n      <g transform=\"translate(7.2 119.719219)scale(0.1 -0.1)\">\n       <use xlink:href=\"#DejaVuSans-50\"/>\n       <use x=\"63.623047\" xlink:href=\"#DejaVuSans-46\"/>\n       <use x=\"95.410156\" xlink:href=\"#DejaVuSans-48\"/>\n      </g>\n     </g>\n    </g>\n    <g id=\"ytick_6\">\n     <g id=\"line2d_15\">\n      <g>\n       <use style=\"stroke:#000000;stroke-width:0.8;\" x=\"30.103125\" xlink:href=\"#m28c387ee2d\" y=\"91.210909\"/>\n      </g>\n     </g>\n     <g id=\"text_15\">\n      <!-- 2.5 -->\n      <g transform=\"translate(7.2 95.010128)scale(0.1 -0.1)\">\n       <use xlink:href=\"#DejaVuSans-50\"/>\n       <use x=\"63.623047\" xlink:href=\"#DejaVuSans-46\"/>\n       <use x=\"95.410156\" xlink:href=\"#DejaVuSans-53\"/>\n      </g>\n     </g>\n    </g>\n    <g id=\"ytick_7\">\n     <g id=\"line2d_16\">\n      <g>\n       <use style=\"stroke:#000000;stroke-width:0.8;\" x=\"30.103125\" xlink:href=\"#m28c387ee2d\" y=\"66.501818\"/>\n      </g>\n     </g>\n     <g id=\"text_16\">\n      <!-- 3.0 -->\n      <g transform=\"translate(7.2 70.301037)scale(0.1 -0.1)\">\n       <use xlink:href=\"#DejaVuSans-51\"/>\n       <use x=\"63.623047\" xlink:href=\"#DejaVuSans-46\"/>\n       <use x=\"95.410156\" xlink:href=\"#DejaVuSans-48\"/>\n      </g>\n     </g>\n    </g>\n    <g id=\"ytick_8\">\n     <g id=\"line2d_17\">\n      <g>\n       <use style=\"stroke:#000000;stroke-width:0.8;\" x=\"30.103125\" xlink:href=\"#m28c387ee2d\" y=\"41.792727\"/>\n      </g>\n     </g>\n     <g id=\"text_17\">\n      <!-- 3.5 -->\n      <g transform=\"translate(7.2 45.591946)scale(0.1 -0.1)\">\n       <use xlink:href=\"#DejaVuSans-51\"/>\n       <use x=\"63.623047\" xlink:href=\"#DejaVuSans-46\"/>\n       <use x=\"95.410156\" xlink:href=\"#DejaVuSans-53\"/>\n      </g>\n     </g>\n    </g>\n    <g id=\"ytick_9\">\n     <g id=\"line2d_18\">\n      <g>\n       <use style=\"stroke:#000000;stroke-width:0.8;\" x=\"30.103125\" xlink:href=\"#m28c387ee2d\" y=\"17.083636\"/>\n      </g>\n     </g>\n     <g id=\"text_18\">\n      <!-- 4.0 -->\n      <g transform=\"translate(7.2 20.882855)scale(0.1 -0.1)\">\n       <use xlink:href=\"#DejaVuSans-52\"/>\n       <use x=\"63.623047\" xlink:href=\"#DejaVuSans-46\"/>\n       <use x=\"95.410156\" xlink:href=\"#DejaVuSans-48\"/>\n      </g>\n     </g>\n    </g>\n   </g>\n   <g id=\"line2d_19\">\n    <path clip-path=\"url(#p55e5563e6b)\" d=\"M 45.321307 214.756364 \nL 121.412216 165.338182 \nL 197.503125 115.92 \nL 273.594034 66.501818 \nL 349.684943 17.083636 \n\" style=\"fill:none;stroke:#1f77b4;stroke-linecap:square;stroke-width:1.5;\"/>\n   </g>\n   <g id=\"patch_3\">\n    <path d=\"M 30.103125 224.64 \nL 30.103125 7.2 \n\" style=\"fill:none;stroke:#000000;stroke-linecap:square;stroke-linejoin:miter;stroke-width:0.8;\"/>\n   </g>\n   <g id=\"patch_4\">\n    <path d=\"M 364.903125 224.64 \nL 364.903125 7.2 \n\" style=\"fill:none;stroke:#000000;stroke-linecap:square;stroke-linejoin:miter;stroke-width:0.8;\"/>\n   </g>\n   <g id=\"patch_5\">\n    <path d=\"M 30.103125 224.64 \nL 364.903125 224.64 \n\" style=\"fill:none;stroke:#000000;stroke-linecap:square;stroke-linejoin:miter;stroke-width:0.8;\"/>\n   </g>\n   <g id=\"patch_6\">\n    <path d=\"M 30.103125 7.2 \nL 364.903125 7.2 \n\" style=\"fill:none;stroke:#000000;stroke-linecap:square;stroke-linejoin:miter;stroke-width:0.8;\"/>\n   </g>\n  </g>\n </g>\n <defs>\n  <clipPath id=\"p55e5563e6b\">\n   <rect height=\"217.44\" width=\"334.8\" x=\"30.103125\" y=\"7.2\"/>\n  </clipPath>\n </defs>\n</svg>\n",
            "image/png": "[encoded data removed]"
          },
          "metadata": {
            "tags": [],
            "needs_background": "light"
          }
        }
      ]
    },
    {
      "cell_type": "markdown",
      "metadata": {
        "id": "c5Wh722vQpCr"
      },
      "source": [
        "## **Matplotlib y NumPy**"
      ]
    },
    {
      "cell_type": "code",
      "metadata": {
        "id": "l0UkAyy6QpCs",
        "outputId": "51f46897-0561-4a6b-82ea-2fb030f4a199"
      },
      "source": [
        "t = np.arange(0,2.5,0.1)\n",
        "y1 = np.sin(np.pi*t)\n",
        "y2 = np.sin(np.pi*t+np.pi/2)\n",
        "y3 = np.sin(np.pi*t-np.pi/2)\n",
        "plt.plot(t,y1, 'b*', t,y2, 'g^', t, y3, 'ys')"
      ],
      "execution_count": null,
      "outputs": [
        {
          "output_type": "execute_result",
          "data": {
            "text/plain": [
              "[<matplotlib.lines.Line2D at 0x7f6778f21640>,\n",
              " <matplotlib.lines.Line2D at 0x7f6778f21fd0>,\n",
              " <matplotlib.lines.Line2D at 0x7f6778f21910>]"
            ]
          },
          "metadata": {
            "tags": []
          },
          "execution_count": 169
        },
        {
          "output_type": "display_data",
          "data": {
            "text/plain": [
              "<Figure size 432x288 with 1 Axes>"
            ],
            "image/svg+xml": "<?xml version=\"1.0\" encoding=\"utf-8\" standalone=\"no\"?>\n<!DOCTYPE svg PUBLIC \"-//W3C//DTD SVG 1.1//EN\"\n  \"http://www.w3.org/Graphics/SVG/1.1/DTD/svg11.dtd\">\n<!-- Created with matplotlib (https://matplotlib.org/) -->\n<svg height=\"248.518125pt\" version=\"1.1\" viewBox=\"0 0 392.260511 248.518125\" width=\"392.260511pt\" xmlns=\"http://www.w3.org/2000/svg\" xmlns:xlink=\"http://www.w3.org/1999/xlink\">\n <metadata>\n  <rdf:RDF xmlns:cc=\"http://creativecommons.org/ns#\" xmlns:dc=\"http://purl.org/dc/elements/1.1/\" xmlns:rdf=\"http://www.w3.org/1999/02/22-rdf-syntax-ns#\">\n   <cc:Work>\n    <dc:type rdf:resource=\"http://purl.org/dc/dcmitype/StillImage\"/>\n    <dc:date>2021-04-28T21:10:44.585763</dc:date>\n    <dc:format>image/svg+xml</dc:format>\n    <dc:creator>\n     <cc:Agent>\n      <dc:title>Matplotlib v3.3.2, https://matplotlib.org/</dc:title>\n     </cc:Agent>\n    </dc:creator>\n   </cc:Work>\n  </rdf:RDF>\n </metadata>\n <defs>\n  <style type=\"text/css\">*{stroke-linecap:butt;stroke-linejoin:round;}</style>\n </defs>\n <g id=\"figure_1\">\n  <g id=\"patch_1\">\n   <path d=\"M 0 248.518125 \nL 392.260511 248.518125 \nL 392.260511 0 \nL 0 0 \nz\n\" style=\"fill:none;\"/>\n  </g>\n  <g id=\"axes_1\">\n   <g id=\"patch_2\">\n    <path d=\"M 44.845313 224.64 \nL 379.645313 224.64 \nL 379.645313 7.2 \nL 44.845313 7.2 \nz\n\" style=\"fill:#ffffff;\"/>\n   </g>\n   <g id=\"matplotlib.axis_1\">\n    <g id=\"xtick_1\">\n     <g id=\"line2d_1\">\n      <defs>\n       <path d=\"M 0 0 \nL 0 3.5 \n\" id=\"m8be7d5d8e8\" style=\"stroke:#000000;stroke-width:0.8;\"/>\n      </defs>\n      <g>\n       <use style=\"stroke:#000000;stroke-width:0.8;\" x=\"60.063494\" xlink:href=\"#m8be7d5d8e8\" y=\"224.64\"/>\n      </g>\n     </g>\n     <g id=\"text_1\">\n      <!-- 0.0 -->\n      <g transform=\"translate(52.111932 239.238437)scale(0.1 -0.1)\">\n       <defs>\n        <path d=\"M 31.78125 66.40625 \nQ 24.171875 66.40625 20.328125 58.90625 \nQ 16.5 51.421875 16.5 36.375 \nQ 16.5 21.390625 20.328125 13.890625 \nQ 24.171875 6.390625 31.78125 6.390625 \nQ 39.453125 6.390625 43.28125 13.890625 \nQ 47.125 21.390625 47.125 36.375 \nQ 47.125 51.421875 43.28125 58.90625 \nQ 39.453125 66.40625 31.78125 66.40625 \nz\nM 31.78125 74.21875 \nQ 44.046875 74.21875 50.515625 64.515625 \nQ 56.984375 54.828125 56.984375 36.375 \nQ 56.984375 17.96875 50.515625 8.265625 \nQ 44.046875 -1.421875 31.78125 -1.421875 \nQ 19.53125 -1.421875 13.0625 8.265625 \nQ 6.59375 17.96875 6.59375 36.375 \nQ 6.59375 54.828125 13.0625 64.515625 \nQ 19.53125 74.21875 31.78125 74.21875 \nz\n\" id=\"DejaVuSans-48\"/>\n        <path d=\"M 10.6875 12.40625 \nL 21 12.40625 \nL 21 0 \nL 10.6875 0 \nz\n\" id=\"DejaVuSans-46\"/>\n       </defs>\n       <use xlink:href=\"#DejaVuSans-48\"/>\n       <use x=\"63.623047\" xlink:href=\"#DejaVuSans-46\"/>\n       <use x=\"95.410156\" xlink:href=\"#DejaVuSans-48\"/>\n      </g>\n     </g>\n    </g>\n    <g id=\"xtick_2\">\n     <g id=\"line2d_2\">\n      <g>\n       <use style=\"stroke:#000000;stroke-width:0.8;\" x=\"123.472585\" xlink:href=\"#m8be7d5d8e8\" y=\"224.64\"/>\n      </g>\n     </g>\n     <g id=\"text_2\">\n      <!-- 0.5 -->\n      <g transform=\"translate(115.521023 239.238437)scale(0.1 -0.1)\">\n       <defs>\n        <path d=\"M 10.796875 72.90625 \nL 49.515625 72.90625 \nL 49.515625 64.59375 \nL 19.828125 64.59375 \nL 19.828125 46.734375 \nQ 21.96875 47.46875 24.109375 47.828125 \nQ 26.265625 48.1875 28.421875 48.1875 \nQ 40.625 48.1875 47.75 41.5 \nQ 54.890625 34.8125 54.890625 23.390625 \nQ 54.890625 11.625 47.5625 5.09375 \nQ 40.234375 -1.421875 26.90625 -1.421875 \nQ 22.3125 -1.421875 17.546875 -0.640625 \nQ 12.796875 0.140625 7.71875 1.703125 \nL 7.71875 11.625 \nQ 12.109375 9.234375 16.796875 8.0625 \nQ 21.484375 6.890625 26.703125 6.890625 \nQ 35.15625 6.890625 40.078125 11.328125 \nQ 45.015625 15.765625 45.015625 23.390625 \nQ 45.015625 31 40.078125 35.4375 \nQ 35.15625 39.890625 26.703125 39.890625 \nQ 22.75 39.890625 18.8125 39.015625 \nQ 14.890625 38.140625 10.796875 36.28125 \nz\n\" id=\"DejaVuSans-53\"/>\n       </defs>\n       <use xlink:href=\"#DejaVuSans-48\"/>\n       <use x=\"63.623047\" xlink:href=\"#DejaVuSans-46\"/>\n       <use x=\"95.410156\" xlink:href=\"#DejaVuSans-53\"/>\n      </g>\n     </g>\n    </g>\n    <g id=\"xtick_3\">\n     <g id=\"line2d_3\">\n      <g>\n       <use style=\"stroke:#000000;stroke-width:0.8;\" x=\"186.881676\" xlink:href=\"#m8be7d5d8e8\" y=\"224.64\"/>\n      </g>\n     </g>\n     <g id=\"text_3\">\n      <!-- 1.0 -->\n      <g transform=\"translate(178.930114 239.238437)scale(0.1 -0.1)\">\n       <defs>\n        <path d=\"M 12.40625 8.296875 \nL 28.515625 8.296875 \nL 28.515625 63.921875 \nL 10.984375 60.40625 \nL 10.984375 69.390625 \nL 28.421875 72.90625 \nL 38.28125 72.90625 \nL 38.28125 8.296875 \nL 54.390625 8.296875 \nL 54.390625 0 \nL 12.40625 0 \nz\n\" id=\"DejaVuSans-49\"/>\n       </defs>\n       <use xlink:href=\"#DejaVuSans-49\"/>\n       <use x=\"63.623047\" xlink:href=\"#DejaVuSans-46\"/>\n       <use x=\"95.410156\" xlink:href=\"#DejaVuSans-48\"/>\n      </g>\n     </g>\n    </g>\n    <g id=\"xtick_4\">\n     <g id=\"line2d_4\">\n      <g>\n       <use style=\"stroke:#000000;stroke-width:0.8;\" x=\"250.290767\" xlink:href=\"#m8be7d5d8e8\" y=\"224.64\"/>\n      </g>\n     </g>\n     <g id=\"text_4\">\n      <!-- 1.5 -->\n      <g transform=\"translate(242.339205 239.238437)scale(0.1 -0.1)\">\n       <use xlink:href=\"#DejaVuSans-49\"/>\n       <use x=\"63.623047\" xlink:href=\"#DejaVuSans-46\"/>\n       <use x=\"95.410156\" xlink:href=\"#DejaVuSans-53\"/>\n      </g>\n     </g>\n    </g>\n    <g id=\"xtick_5\">\n     <g id=\"line2d_5\">\n      <g>\n       <use style=\"stroke:#000000;stroke-width:0.8;\" x=\"313.699858\" xlink:href=\"#m8be7d5d8e8\" y=\"224.64\"/>\n      </g>\n     </g>\n     <g id=\"text_5\">\n      <!-- 2.0 -->\n      <g transform=\"translate(305.748295 239.238437)scale(0.1 -0.1)\">\n       <defs>\n        <path d=\"M 19.1875 8.296875 \nL 53.609375 8.296875 \nL 53.609375 0 \nL 7.328125 0 \nL 7.328125 8.296875 \nQ 12.9375 14.109375 22.625 23.890625 \nQ 32.328125 33.6875 34.8125 36.53125 \nQ 39.546875 41.84375 41.421875 45.53125 \nQ 43.3125 49.21875 43.3125 52.78125 \nQ 43.3125 58.59375 39.234375 62.25 \nQ 35.15625 65.921875 28.609375 65.921875 \nQ 23.96875 65.921875 18.8125 64.3125 \nQ 13.671875 62.703125 7.8125 59.421875 \nL 7.8125 69.390625 \nQ 13.765625 71.78125 18.9375 73 \nQ 24.125 74.21875 28.421875 74.21875 \nQ 39.75 74.21875 46.484375 68.546875 \nQ 53.21875 62.890625 53.21875 53.421875 \nQ 53.21875 48.921875 51.53125 44.890625 \nQ 49.859375 40.875 45.40625 35.40625 \nQ 44.1875 33.984375 37.640625 27.21875 \nQ 31.109375 20.453125 19.1875 8.296875 \nz\n\" id=\"DejaVuSans-50\"/>\n       </defs>\n       <use xlink:href=\"#DejaVuSans-50\"/>\n       <use x=\"63.623047\" xlink:href=\"#DejaVuSans-46\"/>\n       <use x=\"95.410156\" xlink:href=\"#DejaVuSans-48\"/>\n      </g>\n     </g>\n    </g>\n    <g id=\"xtick_6\">\n     <g id=\"line2d_6\">\n      <g>\n       <use style=\"stroke:#000000;stroke-width:0.8;\" x=\"377.108949\" xlink:href=\"#m8be7d5d8e8\" y=\"224.64\"/>\n      </g>\n     </g>\n     <g id=\"text_6\">\n      <!-- 2.5 -->\n      <g transform=\"translate(369.157386 239.238437)scale(0.1 -0.1)\">\n       <use xlink:href=\"#DejaVuSans-50\"/>\n       <use x=\"63.623047\" xlink:href=\"#DejaVuSans-46\"/>\n       <use x=\"95.410156\" xlink:href=\"#DejaVuSans-53\"/>\n      </g>\n     </g>\n    </g>\n   </g>\n   <g id=\"matplotlib.axis_2\">\n    <g id=\"ytick_1\">\n     <g id=\"line2d_7\">\n      <defs>\n       <path d=\"M 0 0 \nL -3.5 0 \n\" id=\"md97015e590\" style=\"stroke:#000000;stroke-width:0.8;\"/>\n      </defs>\n      <g>\n       <use style=\"stroke:#000000;stroke-width:0.8;\" x=\"44.845313\" xlink:href=\"#md97015e590\" y=\"214.756364\"/>\n      </g>\n     </g>\n     <g id=\"text_7\">\n      <!-- −1.00 -->\n      <g transform=\"translate(7.2 218.555582)scale(0.1 -0.1)\">\n       <defs>\n        <path d=\"M 10.59375 35.5 \nL 73.1875 35.5 \nL 73.1875 27.203125 \nL 10.59375 27.203125 \nz\n\" id=\"DejaVuSans-8722\"/>\n       </defs>\n       <use xlink:href=\"#DejaVuSans-8722\"/>\n       <use x=\"83.789062\" xlink:href=\"#DejaVuSans-49\"/>\n       <use x=\"147.412109\" xlink:href=\"#DejaVuSans-46\"/>\n       <use x=\"179.199219\" xlink:href=\"#DejaVuSans-48\"/>\n       <use x=\"242.822266\" xlink:href=\"#DejaVuSans-48\"/>\n      </g>\n     </g>\n    </g>\n    <g id=\"ytick_2\">\n     <g id=\"line2d_8\">\n      <g>\n       <use style=\"stroke:#000000;stroke-width:0.8;\" x=\"44.845313\" xlink:href=\"#md97015e590\" y=\"190.047273\"/>\n      </g>\n     </g>\n     <g id=\"text_8\">\n      <!-- −0.75 -->\n      <g transform=\"translate(7.2 193.846491)scale(0.1 -0.1)\">\n       <defs>\n        <path d=\"M 8.203125 72.90625 \nL 55.078125 72.90625 \nL 55.078125 68.703125 \nL 28.609375 0 \nL 18.3125 0 \nL 43.21875 64.59375 \nL 8.203125 64.59375 \nz\n\" id=\"DejaVuSans-55\"/>\n       </defs>\n       <use xlink:href=\"#DejaVuSans-8722\"/>\n       <use x=\"83.789062\" xlink:href=\"#DejaVuSans-48\"/>\n       <use x=\"147.412109\" xlink:href=\"#DejaVuSans-46\"/>\n       <use x=\"179.199219\" xlink:href=\"#DejaVuSans-55\"/>\n       <use x=\"242.822266\" xlink:href=\"#DejaVuSans-53\"/>\n      </g>\n     </g>\n    </g>\n    <g id=\"ytick_3\">\n     <g id=\"line2d_9\">\n      <g>\n       <use style=\"stroke:#000000;stroke-width:0.8;\" x=\"44.845313\" xlink:href=\"#md97015e590\" y=\"165.338182\"/>\n      </g>\n     </g>\n     <g id=\"text_9\">\n      <!-- −0.50 -->\n      <g transform=\"translate(7.2 169.137401)scale(0.1 -0.1)\">\n       <use xlink:href=\"#DejaVuSans-8722\"/>\n       <use x=\"83.789062\" xlink:href=\"#DejaVuSans-48\"/>\n       <use x=\"147.412109\" xlink:href=\"#DejaVuSans-46\"/>\n       <use x=\"179.199219\" xlink:href=\"#DejaVuSans-53\"/>\n       <use x=\"242.822266\" xlink:href=\"#DejaVuSans-48\"/>\n      </g>\n     </g>\n    </g>\n    <g id=\"ytick_4\">\n     <g id=\"line2d_10\">\n      <g>\n       <use style=\"stroke:#000000;stroke-width:0.8;\" x=\"44.845313\" xlink:href=\"#md97015e590\" y=\"140.629091\"/>\n      </g>\n     </g>\n     <g id=\"text_10\">\n      <!-- −0.25 -->\n      <g transform=\"translate(7.2 144.42831)scale(0.1 -0.1)\">\n       <use xlink:href=\"#DejaVuSans-8722\"/>\n       <use x=\"83.789062\" xlink:href=\"#DejaVuSans-48\"/>\n       <use x=\"147.412109\" xlink:href=\"#DejaVuSans-46\"/>\n       <use x=\"179.199219\" xlink:href=\"#DejaVuSans-50\"/>\n       <use x=\"242.822266\" xlink:href=\"#DejaVuSans-53\"/>\n      </g>\n     </g>\n    </g>\n    <g id=\"ytick_5\">\n     <g id=\"line2d_11\">\n      <g>\n       <use style=\"stroke:#000000;stroke-width:0.8;\" x=\"44.845313\" xlink:href=\"#md97015e590\" y=\"115.92\"/>\n      </g>\n     </g>\n     <g id=\"text_11\">\n      <!-- 0.00 -->\n      <g transform=\"translate(15.579688 119.719219)scale(0.1 -0.1)\">\n       <use xlink:href=\"#DejaVuSans-48\"/>\n       <use x=\"63.623047\" xlink:href=\"#DejaVuSans-46\"/>\n       <use x=\"95.410156\" xlink:href=\"#DejaVuSans-48\"/>\n       <use x=\"159.033203\" xlink:href=\"#DejaVuSans-48\"/>\n      </g>\n     </g>\n    </g>\n    <g id=\"ytick_6\">\n     <g id=\"line2d_12\">\n      <g>\n       <use style=\"stroke:#000000;stroke-width:0.8;\" x=\"44.845313\" xlink:href=\"#md97015e590\" y=\"91.210909\"/>\n      </g>\n     </g>\n     <g id=\"text_12\">\n      <!-- 0.25 -->\n      <g transform=\"translate(15.579688 95.010128)scale(0.1 -0.1)\">\n       <use xlink:href=\"#DejaVuSans-48\"/>\n       <use x=\"63.623047\" xlink:href=\"#DejaVuSans-46\"/>\n       <use x=\"95.410156\" xlink:href=\"#DejaVuSans-50\"/>\n       <use x=\"159.033203\" xlink:href=\"#DejaVuSans-53\"/>\n      </g>\n     </g>\n    </g>\n    <g id=\"ytick_7\">\n     <g id=\"line2d_13\">\n      <g>\n       <use style=\"stroke:#000000;stroke-width:0.8;\" x=\"44.845313\" xlink:href=\"#md97015e590\" y=\"66.501818\"/>\n      </g>\n     </g>\n     <g id=\"text_13\">\n      <!-- 0.50 -->\n      <g transform=\"translate(15.579688 70.301037)scale(0.1 -0.1)\">\n       <use xlink:href=\"#DejaVuSans-48\"/>\n       <use x=\"63.623047\" xlink:href=\"#DejaVuSans-46\"/>\n       <use x=\"95.410156\" xlink:href=\"#DejaVuSans-53\"/>\n       <use x=\"159.033203\" xlink:href=\"#DejaVuSans-48\"/>\n      </g>\n     </g>\n    </g>\n    <g id=\"ytick_8\">\n     <g id=\"line2d_14\">\n      <g>\n       <use style=\"stroke:#000000;stroke-width:0.8;\" x=\"44.845313\" xlink:href=\"#md97015e590\" y=\"41.792727\"/>\n      </g>\n     </g>\n     <g id=\"text_14\">\n      <!-- 0.75 -->\n      <g transform=\"translate(15.579688 45.591946)scale(0.1 -0.1)\">\n       <use xlink:href=\"#DejaVuSans-48\"/>\n       <use x=\"63.623047\" xlink:href=\"#DejaVuSans-46\"/>\n       <use x=\"95.410156\" xlink:href=\"#DejaVuSans-55\"/>\n       <use x=\"159.033203\" xlink:href=\"#DejaVuSans-53\"/>\n      </g>\n     </g>\n    </g>\n    <g id=\"ytick_9\">\n     <g id=\"line2d_15\">\n      <g>\n       <use style=\"stroke:#000000;stroke-width:0.8;\" x=\"44.845313\" xlink:href=\"#md97015e590\" y=\"17.083636\"/>\n      </g>\n     </g>\n     <g id=\"text_15\">\n      <!-- 1.00 -->\n      <g transform=\"translate(15.579688 20.882855)scale(0.1 -0.1)\">\n       <use xlink:href=\"#DejaVuSans-49\"/>\n       <use x=\"63.623047\" xlink:href=\"#DejaVuSans-46\"/>\n       <use x=\"95.410156\" xlink:href=\"#DejaVuSans-48\"/>\n       <use x=\"159.033203\" xlink:href=\"#DejaVuSans-48\"/>\n      </g>\n     </g>\n    </g>\n   </g>\n   <g id=\"line2d_16\">\n    <defs>\n     <path d=\"M 0 -3 \nL -0.673542 -0.927051 \nL -2.85317 -0.927051 \nL -1.089814 0.354102 \nL -1.763356 2.427051 \nL -0 1.145898 \nL 1.763356 2.427051 \nL 1.089814 0.354102 \nL 2.85317 -0.927051 \nL 0.673542 -0.927051 \nz\n\" id=\"mab8daad51c\" style=\"stroke:#0000ff;stroke-linejoin:bevel;\"/>\n    </defs>\n    <g clip-path=\"url(#p0f9005d07a)\">\n     <use style=\"fill:#0000ff;stroke:#0000ff;stroke-linejoin:bevel;\" x=\"60.063494\" xlink:href=\"#mab8daad51c\" y=\"115.92\"/>\n     <use style=\"fill:#0000ff;stroke:#0000ff;stroke-linejoin:bevel;\" x=\"72.745313\" xlink:href=\"#mab8daad51c\" y=\"85.377884\"/>\n     <use style=\"fill:#0000ff;stroke:#0000ff;stroke-linejoin:bevel;\" x=\"85.427131\" xlink:href=\"#mab8daad51c\" y=\"57.825443\"/>\n     <use style=\"fill:#0000ff;stroke:#0000ff;stroke-linejoin:bevel;\" x=\"98.108949\" xlink:href=\"#mab8daad51c\" y=\"35.959702\"/>\n     <use style=\"fill:#0000ff;stroke:#0000ff;stroke-linejoin:bevel;\" x=\"110.790767\" xlink:href=\"#mab8daad51c\" y=\"21.921032\"/>\n     <use style=\"fill:#0000ff;stroke:#0000ff;stroke-linejoin:bevel;\" x=\"123.472585\" xlink:href=\"#mab8daad51c\" y=\"17.083636\"/>\n     <use style=\"fill:#0000ff;stroke:#0000ff;stroke-linejoin:bevel;\" x=\"136.154403\" xlink:href=\"#mab8daad51c\" y=\"21.921032\"/>\n     <use style=\"fill:#0000ff;stroke:#0000ff;stroke-linejoin:bevel;\" x=\"148.836222\" xlink:href=\"#mab8daad51c\" y=\"35.959702\"/>\n     <use style=\"fill:#0000ff;stroke:#0000ff;stroke-linejoin:bevel;\" x=\"161.51804\" xlink:href=\"#mab8daad51c\" y=\"57.825443\"/>\n     <use style=\"fill:#0000ff;stroke:#0000ff;stroke-linejoin:bevel;\" x=\"174.199858\" xlink:href=\"#mab8daad51c\" y=\"85.377884\"/>\n     <use style=\"fill:#0000ff;stroke:#0000ff;stroke-linejoin:bevel;\" x=\"186.881676\" xlink:href=\"#mab8daad51c\" y=\"115.92\"/>\n     <use style=\"fill:#0000ff;stroke:#0000ff;stroke-linejoin:bevel;\" x=\"199.563494\" xlink:href=\"#mab8daad51c\" y=\"146.462116\"/>\n     <use style=\"fill:#0000ff;stroke:#0000ff;stroke-linejoin:bevel;\" x=\"212.245313\" xlink:href=\"#mab8daad51c\" y=\"174.014557\"/>\n     <use style=\"fill:#0000ff;stroke:#0000ff;stroke-linejoin:bevel;\" x=\"224.927131\" xlink:href=\"#mab8daad51c\" y=\"195.880298\"/>\n     <use style=\"fill:#0000ff;stroke:#0000ff;stroke-linejoin:bevel;\" x=\"237.608949\" xlink:href=\"#mab8daad51c\" y=\"209.918968\"/>\n     <use style=\"fill:#0000ff;stroke:#0000ff;stroke-linejoin:bevel;\" x=\"250.290767\" xlink:href=\"#mab8daad51c\" y=\"214.756364\"/>\n     <use style=\"fill:#0000ff;stroke:#0000ff;stroke-linejoin:bevel;\" x=\"262.972585\" xlink:href=\"#mab8daad51c\" y=\"209.918968\"/>\n     <use style=\"fill:#0000ff;stroke:#0000ff;stroke-linejoin:bevel;\" x=\"275.654403\" xlink:href=\"#mab8daad51c\" y=\"195.880298\"/>\n     <use style=\"fill:#0000ff;stroke:#0000ff;stroke-linejoin:bevel;\" x=\"288.336222\" xlink:href=\"#mab8daad51c\" y=\"174.014557\"/>\n     <use style=\"fill:#0000ff;stroke:#0000ff;stroke-linejoin:bevel;\" x=\"301.01804\" xlink:href=\"#mab8daad51c\" y=\"146.462116\"/>\n     <use style=\"fill:#0000ff;stroke:#0000ff;stroke-linejoin:bevel;\" x=\"313.699858\" xlink:href=\"#mab8daad51c\" y=\"115.92\"/>\n     <use style=\"fill:#0000ff;stroke:#0000ff;stroke-linejoin:bevel;\" x=\"326.381676\" xlink:href=\"#mab8daad51c\" y=\"85.377884\"/>\n     <use style=\"fill:#0000ff;stroke:#0000ff;stroke-linejoin:bevel;\" x=\"339.063494\" xlink:href=\"#mab8daad51c\" y=\"57.825443\"/>\n     <use style=\"fill:#0000ff;stroke:#0000ff;stroke-linejoin:bevel;\" x=\"351.745313\" xlink:href=\"#mab8daad51c\" y=\"35.959702\"/>\n     <use style=\"fill:#0000ff;stroke:#0000ff;stroke-linejoin:bevel;\" x=\"364.427131\" xlink:href=\"#mab8daad51c\" y=\"21.921032\"/>\n    </g>\n   </g>\n   <g id=\"line2d_17\">\n    <defs>\n     <path d=\"M 0 -3 \nL -3 3 \nL 3 3 \nz\n\" id=\"m74e8a65dde\" style=\"stroke:#008000;stroke-linejoin:miter;\"/>\n    </defs>\n    <g clip-path=\"url(#p0f9005d07a)\">\n     <use style=\"fill:#008000;stroke:#008000;stroke-linejoin:miter;\" x=\"60.063494\" xlink:href=\"#m74e8a65dde\" y=\"17.083636\"/>\n     <use style=\"fill:#008000;stroke:#008000;stroke-linejoin:miter;\" x=\"72.745313\" xlink:href=\"#m74e8a65dde\" y=\"21.921032\"/>\n     <use style=\"fill:#008000;stroke:#008000;stroke-linejoin:miter;\" x=\"85.427131\" xlink:href=\"#m74e8a65dde\" y=\"35.959702\"/>\n     <use style=\"fill:#008000;stroke:#008000;stroke-linejoin:miter;\" x=\"98.108949\" xlink:href=\"#m74e8a65dde\" y=\"57.825443\"/>\n     <use style=\"fill:#008000;stroke:#008000;stroke-linejoin:miter;\" x=\"110.790767\" xlink:href=\"#m74e8a65dde\" y=\"85.377884\"/>\n     <use style=\"fill:#008000;stroke:#008000;stroke-linejoin:miter;\" x=\"123.472585\" xlink:href=\"#m74e8a65dde\" y=\"115.92\"/>\n     <use style=\"fill:#008000;stroke:#008000;stroke-linejoin:miter;\" x=\"136.154403\" xlink:href=\"#m74e8a65dde\" y=\"146.462116\"/>\n     <use style=\"fill:#008000;stroke:#008000;stroke-linejoin:miter;\" x=\"148.836222\" xlink:href=\"#m74e8a65dde\" y=\"174.014557\"/>\n     <use style=\"fill:#008000;stroke:#008000;stroke-linejoin:miter;\" x=\"161.51804\" xlink:href=\"#m74e8a65dde\" y=\"195.880298\"/>\n     <use style=\"fill:#008000;stroke:#008000;stroke-linejoin:miter;\" x=\"174.199858\" xlink:href=\"#m74e8a65dde\" y=\"209.918968\"/>\n     <use style=\"fill:#008000;stroke:#008000;stroke-linejoin:miter;\" x=\"186.881676\" xlink:href=\"#m74e8a65dde\" y=\"214.756364\"/>\n     <use style=\"fill:#008000;stroke:#008000;stroke-linejoin:miter;\" x=\"199.563494\" xlink:href=\"#m74e8a65dde\" y=\"209.918968\"/>\n     <use style=\"fill:#008000;stroke:#008000;stroke-linejoin:miter;\" x=\"212.245313\" xlink:href=\"#m74e8a65dde\" y=\"195.880298\"/>\n     <use style=\"fill:#008000;stroke:#008000;stroke-linejoin:miter;\" x=\"224.927131\" xlink:href=\"#m74e8a65dde\" y=\"174.014557\"/>\n     <use style=\"fill:#008000;stroke:#008000;stroke-linejoin:miter;\" x=\"237.608949\" xlink:href=\"#m74e8a65dde\" y=\"146.462116\"/>\n     <use style=\"fill:#008000;stroke:#008000;stroke-linejoin:miter;\" x=\"250.290767\" xlink:href=\"#m74e8a65dde\" y=\"115.92\"/>\n     <use style=\"fill:#008000;stroke:#008000;stroke-linejoin:miter;\" x=\"262.972585\" xlink:href=\"#m74e8a65dde\" y=\"85.377884\"/>\n     <use style=\"fill:#008000;stroke:#008000;stroke-linejoin:miter;\" x=\"275.654403\" xlink:href=\"#m74e8a65dde\" y=\"57.825443\"/>\n     <use style=\"fill:#008000;stroke:#008000;stroke-linejoin:miter;\" x=\"288.336222\" xlink:href=\"#m74e8a65dde\" y=\"35.959702\"/>\n     <use style=\"fill:#008000;stroke:#008000;stroke-linejoin:miter;\" x=\"301.01804\" xlink:href=\"#m74e8a65dde\" y=\"21.921032\"/>\n     <use style=\"fill:#008000;stroke:#008000;stroke-linejoin:miter;\" x=\"313.699858\" xlink:href=\"#m74e8a65dde\" y=\"17.083636\"/>\n     <use style=\"fill:#008000;stroke:#008000;stroke-linejoin:miter;\" x=\"326.381676\" xlink:href=\"#m74e8a65dde\" y=\"21.921032\"/>\n     <use style=\"fill:#008000;stroke:#008000;stroke-linejoin:miter;\" x=\"339.063494\" xlink:href=\"#m74e8a65dde\" y=\"35.959702\"/>\n     <use style=\"fill:#008000;stroke:#008000;stroke-linejoin:miter;\" x=\"351.745313\" xlink:href=\"#m74e8a65dde\" y=\"57.825443\"/>\n     <use style=\"fill:#008000;stroke:#008000;stroke-linejoin:miter;\" x=\"364.427131\" xlink:href=\"#m74e8a65dde\" y=\"85.377884\"/>\n    </g>\n   </g>\n   <g id=\"line2d_18\">\n    <defs>\n     <path d=\"M -3 3 \nL 3 3 \nL 3 -3 \nL -3 -3 \nz\n\" id=\"mee6d74f250\" style=\"stroke:#bfbf00;stroke-linejoin:miter;\"/>\n    </defs>\n    <g clip-path=\"url(#p0f9005d07a)\">\n     <use style=\"fill:#bfbf00;stroke:#bfbf00;stroke-linejoin:miter;\" x=\"60.063494\" xlink:href=\"#mee6d74f250\" y=\"214.756364\"/>\n     <use style=\"fill:#bfbf00;stroke:#bfbf00;stroke-linejoin:miter;\" x=\"72.745313\" xlink:href=\"#mee6d74f250\" y=\"209.918968\"/>\n     <use style=\"fill:#bfbf00;stroke:#bfbf00;stroke-linejoin:miter;\" x=\"85.427131\" xlink:href=\"#mee6d74f250\" y=\"195.880298\"/>\n     <use style=\"fill:#bfbf00;stroke:#bfbf00;stroke-linejoin:miter;\" x=\"98.108949\" xlink:href=\"#mee6d74f250\" y=\"174.014557\"/>\n     <use style=\"fill:#bfbf00;stroke:#bfbf00;stroke-linejoin:miter;\" x=\"110.790767\" xlink:href=\"#mee6d74f250\" y=\"146.462116\"/>\n     <use style=\"fill:#bfbf00;stroke:#bfbf00;stroke-linejoin:miter;\" x=\"123.472585\" xlink:href=\"#mee6d74f250\" y=\"115.92\"/>\n     <use style=\"fill:#bfbf00;stroke:#bfbf00;stroke-linejoin:miter;\" x=\"136.154403\" xlink:href=\"#mee6d74f250\" y=\"85.377884\"/>\n     <use style=\"fill:#bfbf00;stroke:#bfbf00;stroke-linejoin:miter;\" x=\"148.836222\" xlink:href=\"#mee6d74f250\" y=\"57.825443\"/>\n     <use style=\"fill:#bfbf00;stroke:#bfbf00;stroke-linejoin:miter;\" x=\"161.51804\" xlink:href=\"#mee6d74f250\" y=\"35.959702\"/>\n     <use style=\"fill:#bfbf00;stroke:#bfbf00;stroke-linejoin:miter;\" x=\"174.199858\" xlink:href=\"#mee6d74f250\" y=\"21.921032\"/>\n     <use style=\"fill:#bfbf00;stroke:#bfbf00;stroke-linejoin:miter;\" x=\"186.881676\" xlink:href=\"#mee6d74f250\" y=\"17.083636\"/>\n     <use style=\"fill:#bfbf00;stroke:#bfbf00;stroke-linejoin:miter;\" x=\"199.563494\" xlink:href=\"#mee6d74f250\" y=\"21.921032\"/>\n     <use style=\"fill:#bfbf00;stroke:#bfbf00;stroke-linejoin:miter;\" x=\"212.245313\" xlink:href=\"#mee6d74f250\" y=\"35.959702\"/>\n     <use style=\"fill:#bfbf00;stroke:#bfbf00;stroke-linejoin:miter;\" x=\"224.927131\" xlink:href=\"#mee6d74f250\" y=\"57.825443\"/>\n     <use style=\"fill:#bfbf00;stroke:#bfbf00;stroke-linejoin:miter;\" x=\"237.608949\" xlink:href=\"#mee6d74f250\" y=\"85.377884\"/>\n     <use style=\"fill:#bfbf00;stroke:#bfbf00;stroke-linejoin:miter;\" x=\"250.290767\" xlink:href=\"#mee6d74f250\" y=\"115.92\"/>\n     <use style=\"fill:#bfbf00;stroke:#bfbf00;stroke-linejoin:miter;\" x=\"262.972585\" xlink:href=\"#mee6d74f250\" y=\"146.462116\"/>\n     <use style=\"fill:#bfbf00;stroke:#bfbf00;stroke-linejoin:miter;\" x=\"275.654403\" xlink:href=\"#mee6d74f250\" y=\"174.014557\"/>\n     <use style=\"fill:#bfbf00;stroke:#bfbf00;stroke-linejoin:miter;\" x=\"288.336222\" xlink:href=\"#mee6d74f250\" y=\"195.880298\"/>\n     <use style=\"fill:#bfbf00;stroke:#bfbf00;stroke-linejoin:miter;\" x=\"301.01804\" xlink:href=\"#mee6d74f250\" y=\"209.918968\"/>\n     <use style=\"fill:#bfbf00;stroke:#bfbf00;stroke-linejoin:miter;\" x=\"313.699858\" xlink:href=\"#mee6d74f250\" y=\"214.756364\"/>\n     <use style=\"fill:#bfbf00;stroke:#bfbf00;stroke-linejoin:miter;\" x=\"326.381676\" xlink:href=\"#mee6d74f250\" y=\"209.918968\"/>\n     <use style=\"fill:#bfbf00;stroke:#bfbf00;stroke-linejoin:miter;\" x=\"339.063494\" xlink:href=\"#mee6d74f250\" y=\"195.880298\"/>\n     <use style=\"fill:#bfbf00;stroke:#bfbf00;stroke-linejoin:miter;\" x=\"351.745313\" xlink:href=\"#mee6d74f250\" y=\"174.014557\"/>\n     <use style=\"fill:#bfbf00;stroke:#bfbf00;stroke-linejoin:miter;\" x=\"364.427131\" xlink:href=\"#mee6d74f250\" y=\"146.462116\"/>\n    </g>\n   </g>\n   <g id=\"patch_3\">\n    <path d=\"M 44.845313 224.64 \nL 44.845313 7.2 \n\" style=\"fill:none;stroke:#000000;stroke-linecap:square;stroke-linejoin:miter;stroke-width:0.8;\"/>\n   </g>\n   <g id=\"patch_4\">\n    <path d=\"M 379.645313 224.64 \nL 379.645313 7.2 \n\" style=\"fill:none;stroke:#000000;stroke-linecap:square;stroke-linejoin:miter;stroke-width:0.8;\"/>\n   </g>\n   <g id=\"patch_5\">\n    <path d=\"M 44.845313 224.64 \nL 379.645313 224.64 \n\" style=\"fill:none;stroke:#000000;stroke-linecap:square;stroke-linejoin:miter;stroke-width:0.8;\"/>\n   </g>\n   <g id=\"patch_6\">\n    <path d=\"M 44.845313 7.2 \nL 379.645313 7.2 \n\" style=\"fill:none;stroke:#000000;stroke-linecap:square;stroke-linejoin:miter;stroke-width:0.8;\"/>\n   </g>\n  </g>\n </g>\n <defs>\n  <clipPath id=\"p0f9005d07a\">\n   <rect height=\"217.44\" width=\"334.8\" x=\"44.845313\" y=\"7.2\"/>\n  </clipPath>\n </defs>\n</svg>\n",
            "image/png": "[encoded data removed]"
          },
          "metadata": {
            "tags": [],
            "needs_background": "light"
          }
        }
      ]
    },
    {
      "cell_type": "code",
      "metadata": {
        "id": "s3BVx-BrQpCt"
      },
      "source": [
        ""
      ],
      "execution_count": null,
      "outputs": []
    },
    {
      "cell_type": "markdown",
      "metadata": {
        "id": "GiHvuz7vQpCt"
      },
      "source": [
        "# **Referencias**\n",
        "\n",
        "[1]. https://es.wikipedia.org/wiki/NumPy \n",
        "\n",
        "[2]. Unpingo J. Python for Probability, Statistics and Machine Learning. Second Edition. Ed. \n",
        "Springer.\n",
        "\n",
        "[3]. Nelli F. Python Data Analytics. With Pandas, NumPy and Matplotlib. Second Ed."
      ]
    }
  ]
}