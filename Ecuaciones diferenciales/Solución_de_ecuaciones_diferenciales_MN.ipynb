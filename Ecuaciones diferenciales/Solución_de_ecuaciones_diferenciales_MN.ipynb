{
  "nbformat": 4,
  "nbformat_minor": 0,
  "metadata": {
    "kernelspec": {
      "display_name": "Python 3",
      "language": "python",
      "name": "python3"
    },
    "language_info": {
      "codemirror_mode": {
        "name": "ipython",
        "version": 3
      },
      "file_extension": ".py",
      "mimetype": "text/x-python",
      "name": "python",
      "nbconvert_exporter": "python",
      "pygments_lexer": "ipython3",
      "version": "3.6.5"
    },
    "colab": {
      "name": "Solución de ecuaciones diferenciales MN.ipynb",
      "provenance": [],
      "include_colab_link": true
    }
  },
  "cells": [
    {
      "cell_type": "markdown",
      "metadata": {
        "id": "view-in-github",
        "colab_type": "text"
      },
      "source": [
        "<a href=\"https://colab.research.google.com/github/davidmorme/Universidad/blob/main/Ecuaciones%20diferenciales/Soluci%C3%B3n_de_ecuaciones_diferenciales_MN.ipynb\" target=\"_parent\"><img src=\"https://colab.research.google.com/assets/colab-badge.svg\" alt=\"Open In Colab\"/></a>"
      ]
    },
    {
      "cell_type": "markdown",
      "metadata": {
        "id": "6o7f5wUyIzKZ"
      },
      "source": [
        "<h1 style=\"font-size: 20pt; color: black; text-align: center\">Métodos númericos para solución de ecuaciones diferenciales \n",
        "<h3 style=\"color: black; text-align: center\">Departamento de matemáticas Física y Estadística</h3>\n",
        "<h3 style=\"color: black; text-align: center\">Universidad de La Sabana - Facultad de Ingeniería</h3>\n",
        "<div style=\"float: center\">\n",
        "    <img src=\"./images/Sabana.png\" style=\"width: 28%; float: left; padding-top: 20pt\">\n",
        "    <img src=\"./images/logoPython.png\" style=\"width: 30%; float: right; padding-top: 20pt\">\n",
        "   \n",
        "</div>\n",
        "<br><br><br><br>\n",
        "\n",
        "\n",
        "<br><br>"
      ]
    },
    {
      "cell_type": "markdown",
      "metadata": {
        "id": "I1RLKl-UIzKn"
      },
      "source": [
        "<h1 style=\"color: blue\">Introducción</h1>\n",
        "<h2>El método de Euler (pendiente constante)</h2>\n",
        "<br><br>\n",
        "<div style=\"float: center\">\n",
        "    <img src=\"./images/euler applet.gif\" style=\"width: 40%; float: center; padding-top: 0pt\">\n",
        "    \n",
        "</div>\n",
        "<br><br><br>\n",
        "<ul>\n",
        "    <li>\n",
        "        <h3>Rara vez se emplea en la practica.</h3>\n",
        "    </li>\n",
        "    <li>\n",
        "        <h3>Su simplicidad sirve para explicar metodos mas elaborados.</h3>\n",
        "    </li>\n",
        "    <li>\n",
        "        <h3>Su objetivo es obtener una aproximación de un problema de valor inicial bien planteado de la forma $\\frac{dy}{dt}=f(t,y)$.</h3>\n",
        "    </li>\n",
        "     <li>\n",
        "        <h3>Este metodo no permite obtener una aproximación continua a la solución, en lugar de esto se obtiene una aproximación en varios puntos en un intervalo $[a,b]$, dicho conjuntos de puntos, puede ser pensado como los vertices de una poligonal.</h3>\n",
        "    </li>\n",
        "</ul>"
      ]
    },
    {
      "cell_type": "markdown",
      "metadata": {
        "id": "4CCe-39DIzKq"
      },
      "source": [
        "<br><br>\n",
        "<div style=\"float: center\">\n",
        "    <img src=\"./images/euler1.png\" style=\"width: 80%; float: center; padding-top: 0pt\">\n",
        "    \n",
        "</div>\n"
      ]
    },
    {
      "cell_type": "markdown",
      "metadata": {
        "id": "BYS7-6AFIzKs"
      },
      "source": [
        "\n",
        "<div style=\"float: center\">\n",
        "    <img src=\"./images/euler2.png\" style=\"width: 80%; float: center; padding-top: 0pt\">\n",
        "    \n",
        "</div>\n",
        "<br><br>\n",
        "(tomado de Análisis numérico, Richard L.Burden,septima edición)"
      ]
    },
    {
      "cell_type": "code",
      "metadata": {
        "id": "xyKB7Yh2IzKt"
      },
      "source": [
        "import pandas as pd #bases dedatos, tablas\n",
        "import numpy as np #arreglos, funciones matematicas\n",
        "import matplotlib.pyplot as plt #graficos\n",
        "import sympy #cálculo simbolico"
      ],
      "execution_count": 1,
      "outputs": []
    },
    {
      "cell_type": "code",
      "metadata": {
        "id": "KrY5hmc7IzKx"
      },
      "source": [
        "#Método de Euler\n",
        "def euler (a,b,n,yinicial,funcion): #función con parametros necesarios para el método\n",
        "    h=(b-a)/n\n",
        "    t=a\n",
        "    w=yinicial\n",
        "    lista=[[t,w]]\n",
        "    for i in range(n):\n",
        "        w=w+h*funcion(t,w)\n",
        "        t=a+(i+1)*h\n",
        "        lista.append([t,w])\n",
        "    return lista #El resultado es una lista con los puntos aproximando la solución    "
      ],
      "execution_count": 2,
      "outputs": []
    },
    {
      "cell_type": "markdown",
      "metadata": {
        "id": "UDtATfBzIzKz"
      },
      "source": [
        "# Ejemplo 1"
      ]
    },
    {
      "cell_type": "markdown",
      "metadata": {
        "id": "6sn6GMjmIzK1"
      },
      "source": [
        "Aproxime la solución para la ecuación diferencial $\\frac{dy}{dx}=x+y$, en el punto $x=1$ con la condición inicial $y(0)=1$. Utilice una partición de $10$ puntos. Dibuje la aproximación dada por el metodo de Euler, y la solución analitica.\n"
      ]
    },
    {
      "cell_type": "code",
      "metadata": {
        "colab": {
          "base_uri": "https://localhost:8080/"
        },
        "id": "r73LNN9iIzK3",
        "outputId": "18b9a2a1-85c6-4aad-ae40-e2106bf8f08f"
      },
      "source": [
        "def suma (x,y):\n",
        "    return x+y\n",
        "A=np.array(euler(0,1,10,1,suma))\n",
        "#A=euler(0,1,10,1,suma)\n",
        "A"
      ],
      "execution_count": 3,
      "outputs": [
        {
          "output_type": "execute_result",
          "data": {
            "text/plain": [
              "array([[0.        , 1.        ],\n",
              "       [0.1       , 1.1       ],\n",
              "       [0.2       , 1.22      ],\n",
              "       [0.3       , 1.362     ],\n",
              "       [0.4       , 1.5282    ],\n",
              "       [0.5       , 1.72102   ],\n",
              "       [0.6       , 1.943122  ],\n",
              "       [0.7       , 2.1974342 ],\n",
              "       [0.8       , 2.48717762],\n",
              "       [0.9       , 2.81589538],\n",
              "       [1.        , 3.18748492]])"
            ]
          },
          "metadata": {},
          "execution_count": 3
        }
      ]
    },
    {
      "cell_type": "code",
      "metadata": {
        "colab": {
          "base_uri": "https://localhost:8080/",
          "height": 265
        },
        "id": "A423aQOBIzK7",
        "outputId": "942599ca-01d6-4f76-bab7-47ddecf72775"
      },
      "source": [
        "def suma (x,y):\n",
        "    return x+y\n",
        "A=np.array(euler(0,1,10,1,suma))\n",
        "plt.scatter(A[:,0], A[:,1])\n",
        "plt.show()\n"
      ],
      "execution_count": 4,
      "outputs": [
        {
          "output_type": "display_data",
          "data": {
            "image/png": "[encoded data removed]",
            "text/plain": [
              "<Figure size 432x288 with 1 Axes>"
            ]
          },
          "metadata": {
            "needs_background": "light"
          }
        }
      ]
    },
    {
      "cell_type": "code",
      "metadata": {
        "colab": {
          "base_uri": "https://localhost:8080/",
          "height": 52
        },
        "id": "gNr3WMRtIzK8",
        "outputId": "da738251-8bde-4b19-a2bf-9cf00c90a0f6"
      },
      "source": [
        "sympy.init_printing(use_latex='mathjax')# escribe simbolicamente la ecuación diferencial.\n",
        "x = sympy.Symbol('x')\n",
        "y = sympy.Function('y')\n",
        "# expreso la ecuacion\n",
        "f = x+(y(x))\n",
        "sympy.Eq(y(x).diff(x), f)\n"
      ],
      "execution_count": 5,
      "outputs": [
        {
          "output_type": "execute_result",
          "data": {
            "text/latex": "$\\displaystyle \\frac{d}{d x} y{\\left(x \\right)} = x + y{\\left(x \\right)}$",
            "text/plain": [
              "d                  \n",
              "──(y(x)) = x + y(x)\n",
              "dx                 "
            ]
          },
          "metadata": {},
          "execution_count": 5
        }
      ]
    },
    {
      "cell_type": "code",
      "metadata": {
        "colab": {
          "base_uri": "https://localhost:8080/",
          "height": 38
        },
        "id": "qN_u8zmzIzK-",
        "outputId": "9a6fe08f-7c86-4073-cb1c-6d129a56071e"
      },
      "source": [
        "sol=sympy.dsolve(y(x).diff(x) - f) #Resuelve la ecuación diferencial\n",
        "ics={ y (0): 1} #condiciones iniciales\n",
        "sol"
      ],
      "execution_count": 6,
      "outputs": [
        {
          "output_type": "execute_result",
          "data": {
            "text/latex": "$\\displaystyle y{\\left(x \\right)} = \\left(C_{1} + \\left(- x - 1\\right) e^{- x}\\right) e^{x}$",
            "text/plain": [
              "       ⎛               -x⎞  x\n",
              "y(x) = ⎝C₁ + (-x - 1)⋅ℯ  ⎠⋅ℯ "
            ]
          },
          "metadata": {},
          "execution_count": 6
        }
      ]
    },
    {
      "cell_type": "code",
      "metadata": {
        "colab": {
          "base_uri": "https://localhost:8080/",
          "height": 37
        },
        "id": "e_izGwSkIzK_",
        "outputId": "9664f79b-2fad-4f11-84e0-46fa78285bbe"
      },
      "source": [
        "C_eq = sympy.Eq(sol.lhs.subs(x, 0).subs(ics), sol.rhs.subs(x, 0))#reemplaza condiciones iniciales\n",
        "C=sympy.solve(C_eq)#soluciona la ecuación del paso anterior\n",
        "C[0]#imprime la solución"
      ],
      "execution_count": 7,
      "outputs": [
        {
          "output_type": "execute_result",
          "data": {
            "text/latex": "$\\displaystyle 2$",
            "text/plain": [
              "2"
            ]
          },
          "metadata": {},
          "execution_count": 7
        }
      ]
    },
    {
      "cell_type": "code",
      "metadata": {
        "id": "pOg3d30SIzLB"
      },
      "source": [
        "y=(2+(-x-1)*sympy.exp(-x))*sympy.exp(x)"
      ],
      "execution_count": 8,
      "outputs": []
    },
    {
      "cell_type": "code",
      "metadata": {
        "colab": {
          "base_uri": "https://localhost:8080/",
          "height": 265
        },
        "id": "fjYtVlYUIzLC",
        "outputId": "dabb4a37-44a0-4ec8-8ad2-1718a4b8b393"
      },
      "source": [
        "x = np.linspace(0, 1, 100) # Graficar solución analitica\n",
        "y=(2+(-x-1)*np.exp(-x))*np.exp(x)\n",
        "plt.plot(x, y)\n",
        "\n",
        "A=np.array(euler(0,1,10,1,suma))# Graficar puntos solución metodo euler\n",
        "plt.scatter(A[:,0], A[:,1])\n",
        "\n",
        "X = np.linspace(0, 1, 11) #graficar poligonal\n",
        "Y = list(A[:,1])\n",
        "plt.plot(X, Y)\n",
        "\n",
        "plt.show()\n"
      ],
      "execution_count": 9,
      "outputs": [
        {
          "output_type": "display_data",
          "data": {
            "image/png": "[encoded data removed]",
            "text/plain": [
              "<Figure size 432x288 with 1 Axes>"
            ]
          },
          "metadata": {
            "needs_background": "light"
          }
        }
      ]
    },
    {
      "cell_type": "markdown",
      "metadata": {
        "id": "H4cgTUNEIzLE"
      },
      "source": [
        "<h2>El método de Heun (pendiente promedio)</h2>\n",
        "\n",
        "<h3>Este metodo no permite obtener una aproximación continua a la solución, en lugar de esto se obtiene una aproximación en varios puntos en un intervalo $[a,b]$, dicho conjuntos de puntos, puede ser pensado como los vertices de una poligonal. La diferencia principal respecto al metodo de Euler es que toma los dos extremos de cada subintervalo de la partición para calcular la pendiente.</h3>\n",
        "    </li>\n",
        "</ul>"
      ]
    },
    {
      "cell_type": "code",
      "metadata": {
        "id": "57_sxpiMIzLF"
      },
      "source": [
        "#METODO DE HEUN\n",
        "def heun (a,b,n,yinicial,funcion):\n",
        "    h=(b-a)/n\n",
        "    t=a\n",
        "    w=yinicial\n",
        "    listaH=[[t,w]]\n",
        "    for i in range(n):\n",
        "        f=funcion(t,w)\n",
        "        v=w+h*f\n",
        "        t=a+((i+1)*h)\n",
        "        w=w+((f+funcion(t,v))*h/2)\n",
        "        listaH.append([t,w])\n",
        "    return listaH\n"
      ],
      "execution_count": 10,
      "outputs": []
    },
    {
      "cell_type": "markdown",
      "metadata": {
        "id": "B6svefPKIzLG"
      },
      "source": [
        "# Ejemplo 2\n",
        "Para la ecuación del ejemplo 1, use tambien el metodo de Heun para aproximar la solución, grafique las soluciones dadas por los dos metodos numéricos, ademas encuentre los errores (usando la solución analítca) de los metodos de Heun y Euler.\n",
        "\n",
        "\n",
        "\n",
        "\n"
      ]
    },
    {
      "cell_type": "code",
      "metadata": {
        "colab": {
          "base_uri": "https://localhost:8080/",
          "height": 295
        },
        "id": "HUfKvI4mIzLH",
        "outputId": "41a2096e-d0a5-450a-db61-6cbabe97e2d7"
      },
      "source": [
        "B=heun(0,1,10,1,suma)\n",
        "B=np.array(B)\n",
        "\n",
        "plt.scatter(A[:,0], A[:,1], color = 'blue', label='Euler')\n",
        "\n",
        "plt.scatter(B[:,0], B[:,1], color = 'purple', label='Heun')\n",
        "#y=e^x\\left(-e^{-x}x-e^{-x}+2\\right)\n",
        "X = np.linspace(0, 1, 100)\n",
        "Ya = np.exp(X)*(-np.exp(-X)*X-np.exp(-X)+2)\n",
        "plt.plot(X, Ya)\n",
        "\n",
        "XE = np.linspace(0, 1, 11) #graficar poligonal Euler\n",
        "YE = list(A[:,1])\n",
        "plt.plot(XE, YE)\n",
        "\n",
        "XH = np.linspace(0, 1, 11) #graficar poligonal Heun\n",
        "YH = list(B[:,1])\n",
        "plt.plot(XH, YH)\n",
        "\n",
        "plt.title('Heun vs Euler') #titulo de la grafica\n",
        "plt.xlabel('$x$') #nombra los ejes\n",
        "plt.ylabel('$f(x)$')\n",
        "plt.legend()\n",
        "plt.show()"
      ],
      "execution_count": 11,
      "outputs": [
        {
          "output_type": "display_data",
          "data": {
            "image/png": "[encoded data removed]",
            "text/plain": [
              "<Figure size 432x288 with 1 Axes>"
            ]
          },
          "metadata": {
            "needs_background": "light"
          }
        }
      ]
    },
    {
      "cell_type": "code",
      "metadata": {
        "id": "GBMNEXuiIzLI"
      },
      "source": [
        "X = np.linspace(0, 1, 11)\n",
        "YA = np.exp(X)*(-np.exp(-X)*X-np.exp(-X)+2)\n",
        "YA=list(YA)\n"
      ],
      "execution_count": 12,
      "outputs": []
    },
    {
      "cell_type": "code",
      "metadata": {
        "colab": {
          "base_uri": "https://localhost:8080/"
        },
        "id": "fZKMjqGHIzLJ",
        "outputId": "a0923895-7756-48f0-e339-2105df65d5d0"
      },
      "source": [
        "YAYE=[]\n",
        "YAYH=[]\n",
        "for i in range (11):\n",
        "    y=YA[i]-YE[i]\n",
        "    z=YA[i]-YH[i]\n",
        "    YAYE.append(y)\n",
        "    YAYH.append(z)\n",
        "Errores = {'Analítica' : YA, 'Euler': YE, 'Heun':YH, 'A-E':YAYE, 'A-H':YAYH}\n",
        "data_frame = pd.DataFrame(Errores)\n",
        "print (data_frame)"
      ],
      "execution_count": 13,
      "outputs": [
        {
          "output_type": "stream",
          "name": "stdout",
          "text": [
            "    Analítica     Euler      Heun       A-E       A-H\n",
            "0    1.000000  1.000000  1.000000  0.000000  0.000000\n",
            "1    1.110342  1.100000  1.110000  0.010342  0.000342\n",
            "2    1.242806  1.220000  1.242050  0.022806  0.000756\n",
            "3    1.399718  1.362000  1.398465  0.037718  0.001252\n",
            "4    1.583649  1.528200  1.581804  0.055449  0.001845\n",
            "5    1.797443  1.721020  1.794894  0.076423  0.002549\n",
            "6    2.044238  1.943122  2.040857  0.101116  0.003380\n",
            "7    2.327505  2.197434  2.323147  0.130071  0.004358\n",
            "8    2.651082  2.487178  2.645578  0.163904  0.005504\n",
            "9    3.019206  2.815895  3.012364  0.203311  0.006843\n",
            "10   3.436564  3.187485  3.428162  0.249079  0.008402\n"
          ]
        }
      ]
    },
    {
      "cell_type": "markdown",
      "metadata": {
        "id": "3FvX3cq4IzLK"
      },
      "source": [
        "<h2>El método de Runge-Kutta </h2>\n",
        "\n",
        "<br><br>\n",
        "<div style=\"float: center\">\n",
        "    <img src=\"./images/runge.png\" style=\"width: 80%; float: center; padding-top: 0pt\">\n",
        "    \n",
        "</div>\n",
        "    </li>\n",
        "</ul>\n",
        "(tomado de Análisis numérico, Richard L.Burden,septima edición)"
      ]
    },
    {
      "cell_type": "code",
      "metadata": {
        "id": "5WZVJy-TIzLK"
      },
      "source": [
        "#Runge kutta\n",
        "def Runge (a,b,n,yinicial,funcion):\n",
        "    h=(b-a)/n\n",
        "    t=a\n",
        "    w=yinicial\n",
        "    listaR=[[t,w]]\n",
        "    for i in range(n):\n",
        "        m_1=h*funcion(t,w)\n",
        "        m_2=h*funcion(t+h/2,w+m_1/2)\n",
        "        m_3=h*funcion(t+h/2,w+m_2/2)\n",
        "        m_4=h*funcion(t+h,w+m_3)\n",
        "        w=w+1.0/6.0*(m_1+2.0*m_2+2.0*m_3+m_4)\n",
        "        t=a+((i+1)*h)\n",
        "        listaR.append([t,w])\n",
        "    return listaR\n"
      ],
      "execution_count": 14,
      "outputs": []
    },
    {
      "cell_type": "markdown",
      "metadata": {
        "id": "BbK766KrIzLL"
      },
      "source": [
        "# Ejemplo 3\n",
        "Para la ecuación del ejemplo 1, use también el metodo de Runge Kutta para aproximar la solución, grafique las soluciones dadas por los tres metodos numéricos, ademas encuentre los errores (usando la solución analítca) de los metodos de Heun, Euler, Runge Kutta."
      ]
    },
    {
      "cell_type": "code",
      "metadata": {
        "colab": {
          "base_uri": "https://localhost:8080/",
          "height": 295
        },
        "id": "hlQN8zKJIzLM",
        "outputId": "28bf01de-12f5-4f3b-c707-5fd37f8e189b"
      },
      "source": [
        "C=Runge(0,1,10,1,suma)\n",
        "C=np.array(C)\n",
        "\n",
        "plt.scatter(C[:,0], C[:,1], color = 'red', label='Runge') \n",
        "\n",
        "plt.scatter(A[:,0], A[:,1], color = 'blue', label='Euler')\n",
        "\n",
        "#plt.scatter(B[:,0], B[:,1], color = 'purple', label='Heun')\n",
        "#y=e^x\\left(-e^{-x}x-e^{-x}+2\\right)\n",
        "X = np.linspace(0, 1, 100)\n",
        "Ya = np.exp(X)*(-np.exp(-X)*X-np.exp(-X)+2)\n",
        "plt.plot(X, Ya)\n",
        "\n",
        "XE = np.linspace(0, 1, 11) #graficar poligonal Euler\n",
        "YE = list(A[:,1])\n",
        "plt.plot(XE, YE)\n",
        "\n",
        "XH = np.linspace(0, 1, 11) #graficar poligonal Heun\n",
        "YH = list(B[:,1])\n",
        "plt.plot(XH, YH)\n",
        "\n",
        "XR = np.linspace(0, 1, 11) #graficar poligonal Runge\n",
        "YR = list(C[:,1])\n",
        "plt.plot(XR, YR)\n",
        "\n",
        "plt.title('Heun vs Euler vs Runge') #titulo de la grafica\n",
        "plt.xlabel('$x$') #nombra los ejes\n",
        "plt.ylabel('$f(x)$')\n",
        "plt.legend()\n",
        "plt.show()"
      ],
      "execution_count": 15,
      "outputs": [
        {
          "output_type": "display_data",
          "data": {
            "image/png": "[encoded data removed]",
            "text/plain": [
              "<Figure size 432x288 with 1 Axes>"
            ]
          },
          "metadata": {
            "needs_background": "light"
          }
        }
      ]
    },
    {
      "cell_type": "code",
      "metadata": {
        "colab": {
          "base_uri": "https://localhost:8080/"
        },
        "id": "CEA9bTbgIzLM",
        "outputId": "1bc72e9a-6b91-44f3-9b39-42257848463d"
      },
      "source": [
        "YAYE=[]\n",
        "YAYH=[]\n",
        "YAYR=[]\n",
        "for i in range (11):\n",
        "    y=YA[i]-YE[i]\n",
        "    z=YA[i]-YH[i]\n",
        "    w=YA[i]-YR[i]\n",
        "    YAYE.append(y)\n",
        "    YAYH.append(z)\n",
        "    YAYR.append(w)\n",
        "Errores = {'Analítica' : YA, 'Euler': YE, 'Heun':YH, 'Runge':YR, 'A-E':YAYE, 'A-H':YAYH, 'A-R':YAYR}\n",
        "data_frame = pd.DataFrame(Errores)\n",
        "print (data_frame)"
      ],
      "execution_count": 16,
      "outputs": [
        {
          "output_type": "stream",
          "name": "stdout",
          "text": [
            "    Analítica     Euler      Heun     Runge       A-E       A-H           A-R\n",
            "0    1.000000  1.000000  1.000000  1.000000  0.000000  0.000000  0.000000e+00\n",
            "1    1.110342  1.100000  1.110000  1.110342  0.010342  0.000342  1.694846e-07\n",
            "2    1.242806  1.220000  1.242050  1.242805  0.022806  0.000756  3.746190e-07\n",
            "3    1.399718  1.362000  1.398465  1.399717  0.037718  0.001252  6.210269e-07\n",
            "4    1.583649  1.528200  1.581804  1.583648  0.055449  0.001845  9.151212e-07\n",
            "5    1.797443  1.721020  1.794894  1.797441  0.076423  0.002549  1.264207e-06\n",
            "6    2.044238  1.943122  2.040857  2.044236  0.101116  0.003380  1.676597e-06\n",
            "7    2.327505  2.197434  2.323147  2.327503  0.130071  0.004358  2.161747e-06\n",
            "8    2.651082  2.487178  2.645578  2.651079  0.163904  0.005504  2.730400e-06\n",
            "9    3.019206  2.815895  3.012364  3.019203  0.203311  0.006843  3.394754e-06\n",
            "10   3.436564  3.187485  3.428162  3.436559  0.249079  0.008402  4.168648e-06\n"
          ]
        }
      ]
    },
    {
      "cell_type": "markdown",
      "metadata": {
        "id": "9hgxpZHLIzLN"
      },
      "source": [
        "# Ejercicios"
      ]
    },
    {
      "cell_type": "markdown",
      "metadata": {
        "id": "RED03WiRIzLN"
      },
      "source": [
        "## 1) Dadas las siguientes ecuaciones diferenciales, resuelvalas numericamente usando los tres metodos vistos anteriormente, encuentre su solución analítica, y compare el error real de los  metodos. $$y'=te^3t-2y,\\ \\ \\ \\ 0\\leq t\\leq 1, \\ \\ \\ \\ y(0)=0, \\ \\ \\ h=0.5,$$  $$y'=1+(t-y)^2,\\ \\ \\ \\ 2\\leq t\\leq 3, \\ \\ \\ \\ y(2)=1, \\ \\ \\ h=0.5, $$   $$y'=1+\\frac{y}{t},\\ \\ \\ \\ 1\\leq t\\leq 2, \\ \\ \\ \\ y(1)=2, \\ \\ \\ h=0.25,$$   $$y'=\\cos (2t)+\\sin (3t),\\ \\ \\ \\ 0\\leq t\\leq 1, \\ \\ \\ \\ y(0)=1, \\ \\ \\ h=0.25,$$"
      ]
    },
    {
      "cell_type": "code",
      "metadata": {
        "id": "zpxtLQVMIzLO"
      },
      "source": [
        ""
      ],
      "execution_count": null,
      "outputs": []
    },
    {
      "cell_type": "markdown",
      "metadata": {
        "id": "hj-OtqvsIzLO"
      },
      "source": [
        "## 2) Dado el problema de valor inicial,  $$y'=te^3t-2y,\\ \\ \\ \\ 0\\leq t\\leq 1, \\ \\ \\ \\ y(0)=0, \\ \\ \\ h=0.5,$$ Aproxime $y(5)$ aplicando los tres métodos para $h=0.2$, $h=0.1$, $h=0.05$. Encuentre un h optimo para cada metodo, (Donde el error es mínimo)\n"
      ]
    },
    {
      "cell_type": "code",
      "metadata": {
        "id": "GO1ThnqlIzLO"
      },
      "source": [
        ""
      ],
      "execution_count": null,
      "outputs": []
    },
    {
      "cell_type": "markdown",
      "metadata": {
        "id": "S6i4YthRIzLO"
      },
      "source": [
        "## 3) Dado el problema de valor inicial,  $$y'=-10y,\\ \\ \\ \\ 0\\leq t\\leq 2, \\ \\ \\ \\ y(0)=1.$$ Explique que sucede cuando aplicamos el metodo de Euler a este problema con $h=0.1$. ¿Sucede el mismo inconveniente con los otros dos métodos?, ¿se soluciona el problema cambiando el valor de $h$?  \n"
      ]
    },
    {
      "cell_type": "code",
      "metadata": {
        "id": "tfP_6YekIzLP"
      },
      "source": [
        ""
      ],
      "execution_count": null,
      "outputs": []
    },
    {
      "cell_type": "markdown",
      "metadata": {
        "id": "itNBBrCxIzLP"
      },
      "source": [
        "## 4) Fluye agua de un tanque cónico invertido provisto de un orificio circular (truncando el cono), con una velocidad $$\\frac{dx}{dt}=-0.6 \\pi r^2\\sqrt{2g}\\frac{\\sqrt{x}}{A(x)},$$  donde r es el radio del orificio, $x$ es la altura del nivel del líquido medido desde el vértice del cono, y $A(x)$ es el área de la sección transversal del tanque, a x uinidades por arriba del orificio. Suponga que $r=0.1$ pies, $g=32.1 pies/s^2$, y que el tanque tiene un nivel inicial de agua de $8$ pies y un volumen inicial de $512(\\frac{\\pi}{3})pies^3$. Calcule el nivel del agua sdespués de $10$ min con $h=20\\ s $. Determine cuando se vaciara el tanque. "
      ]
    },
    {
      "cell_type": "code",
      "metadata": {
        "id": "oqEXiOqZIzLP"
      },
      "source": [
        ""
      ],
      "execution_count": null,
      "outputs": []
    }
  ]
}