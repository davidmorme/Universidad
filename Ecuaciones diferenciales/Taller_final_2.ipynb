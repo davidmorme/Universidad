{
  "nbformat": 4,
  "nbformat_minor": 0,
  "metadata": {
    "colab": {
      "name": "Taller final 2",
      "provenance": [],
      "collapsed_sections": [],
      "include_colab_link": true
    },
    "kernelspec": {
      "display_name": "Python 3",
      "name": "python3"
    }
  },
  "cells": [
    {
      "cell_type": "markdown",
      "metadata": {
        "id": "view-in-github",
        "colab_type": "text"
      },
      "source": [
        "<a href=\"https://colab.research.google.com/github/davidmorme/Universidad/blob/main/Ecuaciones%20diferenciales/Taller_final_2.ipynb\" target=\"_parent\"><img src=\"https://colab.research.google.com/assets/colab-badge.svg\" alt=\"Open In Colab\"/></a>"
      ]
    },
    {
      "cell_type": "code",
      "metadata": {
        "id": "qM1PIxbrcJtM"
      },
      "source": [
        "import pandas as pd #bases dedatos, tablas\n",
        "import numpy as np #arreglos, funciones matematicas\n",
        "import matplotlib.pyplot as plt #graficos\n",
        "import sympy #cálculo simbolico"
      ],
      "execution_count": 1,
      "outputs": []
    },
    {
      "cell_type": "code",
      "metadata": {
        "id": "ope0OeKFAg82"
      },
      "source": [
        "#Metodo de Euler\n",
        "def euler (a,b,n,yinicial,funcion): #funcion con parámetros necesarios para el metodo.\n",
        "  h=(b-a)/n\n",
        "  t=a\n",
        "  w=yinicial\n",
        "  lista=[[t,w]]\n",
        "  for i in range(n):\n",
        "      w=w+h*funcion(t,w)\n",
        "      t=a+(i+1)*h\n",
        "      lista.append([t,w])\n",
        "  return lista #El resultado es una lista con los puntos aproximando la solución"
      ],
      "execution_count": 2,
      "outputs": []
    },
    {
      "cell_type": "code",
      "metadata": {
        "id": "0RCwQsxvfwiq"
      },
      "source": [
        "#METODO DE HEUN\n",
        "def heun (a,b,n,yinicial,funcion):\n",
        "    h=(b-a)/n\n",
        "    t=a\n",
        "    w=yinicial\n",
        "    listaH=[[t,w]]\n",
        "    for i in range(n):\n",
        "        f=funcion(t,w)\n",
        "        v=w+h*f\n",
        "        t=a+((i+1)*h)\n",
        "        w=w+((f+funcion(t,v))*h/2)\n",
        "        listaH.append([t,w])\n",
        "    return listaH\n"
      ],
      "execution_count": 3,
      "outputs": []
    },
    {
      "cell_type": "code",
      "metadata": {
        "id": "k3dZxYmlYcuP"
      },
      "source": [
        "#Runge kutta\n",
        "def Runge (a,b,n,yinicial,funcion):\n",
        "    h=(b-a)/n\n",
        "    t=a\n",
        "    w=yinicial\n",
        "    listaR=[[t,w]]\n",
        "    for i in range(n):\n",
        "        m_1=h*funcion(t,w)\n",
        "        m_2=h*funcion(t+h/2,w+m_1/2)\n",
        "        m_3=h*funcion(t+h/2,w+m_2/2)\n",
        "        m_4=h*funcion(t+h,w+m_3)\n",
        "        w=w+1.0/6.0*(m_1+2.0*m_2+2.0*m_3+m_4)\n",
        "        t=a+((i+1)*h)\n",
        "        listaR.append([t,w])\n",
        "    return listaR"
      ],
      "execution_count": 4,
      "outputs": []
    },
    {
      "cell_type": "code",
      "metadata": {
        "id": "Q-fjOJbydxnL",
        "colab": {
          "base_uri": "https://localhost:8080/"
        },
        "outputId": "7ede78e3-f22e-46e1-a7df-dabc4dfe5cc6"
      },
      "source": [
        "def suma (t,y):\n",
        "  return t*sympy.exp(3*t)-2*y \n",
        "A=np.array(euler(0,1,2,0,suma))\n",
        "A"
      ],
      "execution_count": 5,
      "outputs": [
        {
          "output_type": "execute_result",
          "data": {
            "text/plain": [
              "array([[0, 0],\n",
              "       [0.5, 0],\n",
              "       [1.0, 1.12042226758452]], dtype=object)"
            ]
          },
          "metadata": {},
          "execution_count": 5
        }
      ]
    },
    {
      "cell_type": "code",
      "metadata": {
        "id": "tZnwRzoQh6RA",
        "colab": {
          "base_uri": "https://localhost:8080/",
          "height": 52
        },
        "outputId": "72080240-5e46-48ae-bf34-c9c19565be4a"
      },
      "source": [
        "sympy.init_printing(use_latex='mathjax')# escribe simbolicamente la ecuación diferencial.\n",
        "t = sympy.Symbol('t')\n",
        "y = sympy.Function('y')\n",
        "# expreso la ecuacion\n",
        "f = t*sympy.exp(3*t)-2*(y(t))\n",
        "sympy.Eq(y(t).diff(t), f)"
      ],
      "execution_count": 6,
      "outputs": [
        {
          "output_type": "execute_result",
          "data": {
            "text/latex": "$\\displaystyle \\frac{d}{d t} y{\\left(t \\right)} = t e^{3 t} - 2 y{\\left(t \\right)}$",
            "text/plain": [
              "d             3⋅t         \n",
              "──(y(t)) = t⋅ℯ    - 2⋅y(t)\n",
              "dt                        "
            ]
          },
          "metadata": {},
          "execution_count": 6
        }
      ]
    },
    {
      "cell_type": "code",
      "metadata": {
        "id": "8Ob4s4MPmU_S",
        "colab": {
          "base_uri": "https://localhost:8080/",
          "height": 58
        },
        "outputId": "0e83719c-463c-452f-ab5e-d53c7bb21a6d"
      },
      "source": [
        "sol=sympy.dsolve(y(t).diff(t) - f) #Resuelve la ecuación diferencial\n",
        "ics={ y (0): 0} #condiciones iniciales\n",
        "sol"
      ],
      "execution_count": 7,
      "outputs": [
        {
          "output_type": "execute_result",
          "data": {
            "text/latex": "$\\displaystyle y{\\left(t \\right)} = \\left(C_{1} + \\frac{\\left(5 t - 1\\right) e^{5 t}}{25}\\right) e^{- 2 t}$",
            "text/plain": [
              "       ⎛                5⋅t⎞      \n",
              "       ⎜     (5⋅t - 1)⋅ℯ   ⎟  -2⋅t\n",
              "y(t) = ⎜C₁ + ──────────────⎟⋅ℯ    \n",
              "       ⎝           25      ⎠      "
            ]
          },
          "metadata": {},
          "execution_count": 7
        }
      ]
    },
    {
      "cell_type": "code",
      "metadata": {
        "id": "9r_w3JPfmrMk",
        "colab": {
          "base_uri": "https://localhost:8080/",
          "height": 51
        },
        "outputId": "2a636796-6acb-4c39-d7e7-8e05f6ec47b4"
      },
      "source": [
        "C_eq = sympy.Eq(sol.lhs.subs(t, 0).subs(ics), sol.rhs.subs(t, 0))#reemplaza condiciones iniciales\n",
        "C=sympy.solve(C_eq)#soluciona la ecuación del paso anterior\n",
        "C[0]#imprime la solución "
      ],
      "execution_count": 8,
      "outputs": [
        {
          "output_type": "execute_result",
          "data": {
            "text/latex": "$\\displaystyle \\frac{1}{25}$",
            "text/plain": [
              "1/25"
            ]
          },
          "metadata": {},
          "execution_count": 8
        }
      ]
    },
    {
      "cell_type": "code",
      "metadata": {
        "id": "4enGoCVroNYg"
      },
      "source": [
        "y=(1/25 +(sympy.exp(5*t)/25)*(5*t-1))*sympy.exp(-2*t)"
      ],
      "execution_count": 9,
      "outputs": []
    },
    {
      "cell_type": "code",
      "metadata": {
        "id": "VGl1nPA3o78m",
        "colab": {
          "base_uri": "https://localhost:8080/",
          "height": 265
        },
        "outputId": "7f81d488-6354-40c2-967b-7a04acd86508"
      },
      "source": [
        "t = np.linspace(0,1,100)\n",
        "y=(1/25 +(np.exp(5*t)/25)*(5*t-1))*np.exp(-2*t)\n",
        "plt.plot(t, y)\n",
        "\n",
        "A=np.array(euler(0,1,2,0,suma))# Graficar puntos solución metodo euler\n",
        "plt.scatter(A[:,0], A[:,1])\n",
        "\n",
        "T = np.linspace(0, 1, 3) #graficar poligonal\n",
        "Y = list(A[:,1])\n",
        "plt.plot(T, Y)\n",
        "\n",
        "plt.show()"
      ],
      "execution_count": 10,
      "outputs": [
        {
          "output_type": "display_data",
          "data": {
            "image/png": "[encoded data removed]",
            "text/plain": [
              "<Figure size 432x288 with 1 Axes>"
            ]
          },
          "metadata": {
            "needs_background": "light"
          }
        }
      ]
    },
    {
      "cell_type": "code",
      "metadata": {
        "id": "kkueldkaYcuT",
        "colab": {
          "base_uri": "https://localhost:8080/",
          "height": 297
        },
        "outputId": "47957753-0dde-4234-df99-1f89293e4f21"
      },
      "source": [
        "A=euler(0,1,2,0,suma)\n",
        "A=np.array(A)\n",
        "\n",
        "B=heun(0,1,2,0,suma)\n",
        "B=np.array(B)\n",
        "\n",
        "C=Runge(0,1,2,0,suma)\n",
        "C=np.array(C)\n",
        "\n",
        "plt.scatter(A[:,0], A[:,1], color = 'blue', label='Euler')\n",
        "\n",
        "plt.scatter(B[:,0], B[:,1], color = 'purple', label='Heun')\n",
        "\n",
        "plt.scatter(C[:,0], C[:,1], color = 'red', label='Runge')\n",
        "\n",
        "TE = np.linspace(0, 1, 3) #graficar poligonal Euler\n",
        "YE = list(A[:,1])\n",
        "plt.plot(TE, YE)\n",
        "\n",
        "TH = np.linspace(0, 1, 3) #graficar poligonal Heun\n",
        "YH = list(B[:,1])\n",
        "plt.plot(TH, YH)\n",
        "\n",
        "TR = np.linspace(0, 1, 3) #graficar poligonal Runge\n",
        "YR = list(C[:,1])\n",
        "plt.plot(TR, YR)\n",
        "\n",
        "t = np.linspace(0,1,100) #Graficar solución analítica\n",
        "y=(1/25 +(np.exp(5*t)/25)*(5*t-1))*np.exp(-2*t)\n",
        "plt.plot(t, y)\n",
        "\n",
        "plt.title('Heun vs Euler vs Runge') #titulo de la grafica\n",
        "plt.xlabel('$t$') #nombra los ejes\n",
        "plt.ylabel('$f(t)$')\n",
        "plt.legend()\n",
        "plt.show()"
      ],
      "execution_count": 11,
      "outputs": [
        {
          "output_type": "display_data",
          "data": {
            "image/png": "[encoded data removed]",
            "text/plain": [
              "<Figure size 432x288 with 1 Axes>"
            ]
          },
          "metadata": {
            "needs_background": "light"
          }
        }
      ]
    },
    {
      "cell_type": "code",
      "metadata": {
        "id": "4kd5ZTwM-oRc",
        "colab": {
          "base_uri": "https://localhost:8080/"
        },
        "outputId": "4578bd85-73db-4b9d-cc73-3e9b77145faa"
      },
      "source": [
        "T = np.linspace(0, 1, 3)\n",
        "YA = (1/25 +(np.exp(5*T)/25)*(5*T-1))*np.exp(-2*T)\n",
        "YA=list(YA)\n",
        "YAYR=[]\n",
        "YAYE=[]\n",
        "YAYH=[]\n",
        "for i in range (3):\n",
        "    y=YA[i]-YE[i]\n",
        "    z=YA[i]-YH[i]\n",
        "    r=YA[i]-YR[i]\n",
        "    YAYE.append(y)\n",
        "    YAYH.append(z)\n",
        "    YAYR.append(r)\n",
        "Errores = {'Analítica' : YA, 'Euler': YE, 'Heun':YH, 'Runge':YR}\n",
        "data_frame = pd.DataFrame(Errores)\n",
        "print (data_frame)"
      ],
      "execution_count": 12,
      "outputs": [
        {
          "output_type": "stream",
          "name": "stdout",
          "text": [
            "   Analítica             Euler               Heun              Runge\n",
            "0   0.000000                 0                  0                  0\n",
            "1   0.283617                 0  0.560211133792258  0.296997462129329\n",
            "2   3.219099  1.12042226758452   5.30148979769305   3.31431177747785\n"
          ]
        }
      ]
    },
    {
      "cell_type": "code",
      "metadata": {
        "id": "AlQqUqSP_F2V",
        "colab": {
          "base_uri": "https://localhost:8080/"
        },
        "outputId": "804146e3-df1e-447e-8fbd-75f3590e5b98"
      },
      "source": [
        "Errores1 = {'A-E':YAYE, 'A-H':YAYH, 'A-R':YAYR}\n",
        "data_frame1 = pd.DataFrame(Errores1)\n",
        "print (data_frame1)"
      ],
      "execution_count": 13,
      "outputs": [
        {
          "output_type": "stream",
          "name": "stdout",
          "text": [
            "                 A-E                 A-H                  A-R\n",
            "0                  0                   0                    0\n",
            "1  0.283616521867142  -0.276594611925116  -0.0133809402621879\n",
            "2   2.09867705145497   -2.08239047865355  -0.0952124584383545\n"
          ]
        }
      ]
    },
    {
      "cell_type": "code",
      "metadata": {
        "id": "1lUaBxrJgon3",
        "colab": {
          "base_uri": "https://localhost:8080/"
        },
        "outputId": "ac27f9ad-34b8-4e0a-da1e-f968b8bd4ac2"
      },
      "source": [
        "#Para el error en porcentaje se determina de la siguiente forma\n",
        "YAYR1=[]\n",
        "YAYE1=[]\n",
        "YAYH1=[]\n",
        "for i in range (3):\n",
        "    a=100*sympy.Abs(YA[i]-YE[i])/YA[i]\n",
        "    b=100*sympy.Abs(YA[i]-YH[i])/YA[i]\n",
        "    c=100*sympy.Abs(YA[i]-YR[i])/YA[i]\n",
        "    YAYE1.append(a)\n",
        "    YAYH1.append(b)\n",
        "    YAYR1.append(c)\n",
        "Errores12 = {'%Error Euler' : YAYE1, '%Error Heun': YAYH1, '%Error Runge': YAYR1}\n",
        "data_frame12 = pd.DataFrame(Errores12)\n",
        "print (data_frame12)"
      ],
      "execution_count": 14,
      "outputs": [
        {
          "output_type": "stream",
          "name": "stdout",
          "text": [
            "       %Error Euler       %Error Heun      %Error Runge\n",
            "0               nan               nan               nan\n",
            "1  100.000000000000  97.5241534252668  4.71796924033083\n",
            "2  65.1945418099487  64.6886061059742  2.95773596904005\n"
          ]
        }
      ]
    },
    {
      "cell_type": "code",
      "metadata": {
        "id": "hVIZ2hE5A7Py",
        "colab": {
          "base_uri": "https://localhost:8080/"
        },
        "outputId": "f6016109-8be7-4c1b-9732-479ba75a01ad"
      },
      "source": [
        "#Punto 1)b\n",
        "def suma2 (t,y):\n",
        "  return 1+ sympy.expand_power_exp((t-y)**2)\n",
        "A2=np.array(euler(2,3,2,1,suma2))\n",
        "A2"
      ],
      "execution_count": 15,
      "outputs": [
        {
          "output_type": "execute_result",
          "data": {
            "text/plain": [
              "array([[2, 1],\n",
              "       [2.5, 2.00000000000000],\n",
              "       [3.0, 2.62500000000000]], dtype=object)"
            ]
          },
          "metadata": {},
          "execution_count": 15
        }
      ]
    },
    {
      "cell_type": "code",
      "metadata": {
        "id": "jufM7_ytDY_P",
        "colab": {
          "base_uri": "https://localhost:8080/",
          "height": 265
        },
        "outputId": "bac61596-544a-4346-c5ee-64cfe5f690f7"
      },
      "source": [
        "plt.scatter(A2[:,0], A2[:,1])\n",
        "plt.show()"
      ],
      "execution_count": 16,
      "outputs": [
        {
          "output_type": "display_data",
          "data": {
            "image/png": "[encoded data removed]",
            "text/plain": [
              "<Figure size 432x288 with 1 Axes>"
            ]
          },
          "metadata": {
            "needs_background": "light"
          }
        }
      ]
    },
    {
      "cell_type": "code",
      "metadata": {
        "id": "ZAn88xodDxXg",
        "colab": {
          "base_uri": "https://localhost:8080/",
          "height": 52
        },
        "outputId": "4a1b1341-131d-40ba-fe1c-52ea5ad50987"
      },
      "source": [
        "sympy.init_printing(use_latex='mathjax')# escribe simbolicamente la ecuación diferencial.\n",
        "t = sympy.Symbol('t')\n",
        "y = sympy.Function('y')\n",
        "# expreso la ecuacion\n",
        "f2 = 1+ sympy.expand_power_exp((t-(y(t)))**2)\n",
        "sympy.Eq(y(t).diff(t), f2)"
      ],
      "execution_count": 17,
      "outputs": [
        {
          "output_type": "execute_result",
          "data": {
            "text/latex": "$\\displaystyle \\frac{d}{d t} y{\\left(t \\right)} = \\left(t - y{\\left(t \\right)}\\right)^{2} + 1$",
            "text/plain": [
              "d                    2    \n",
              "──(y(t)) = (t - y(t))  + 1\n",
              "dt                        "
            ]
          },
          "metadata": {},
          "execution_count": 17
        }
      ]
    },
    {
      "cell_type": "code",
      "metadata": {
        "id": "0JWJhyOkFZDS",
        "colab": {
          "base_uri": "https://localhost:8080/",
          "height": 38
        },
        "outputId": "403c4bb4-7567-4b31-ba49-2410c5dec837"
      },
      "source": [
        "sol= sympy.dsolve(y(t).diff(t)-f2)  #Resuelve la ecuación diferencial\n",
        "ics={ y (2): 1} #condiciones iniciales\n",
        "sol"
      ],
      "execution_count": 18,
      "outputs": [
        {
          "output_type": "execute_result",
          "data": {
            "text/latex": "$\\displaystyle y{\\left(t \\right)} = t \\left(C_{1}^{2} + 1\\right) + C_{1} + C_{1}^{3} t^{2} + C_{1}^{4} t^{3} + C_{1}^{5} t^{4} + C_{1}^{6} t^{5} + O\\left(t^{6}\\right)$",
            "text/plain": [
              "         ⎛  2    ⎞          3  2     4  3     5  4     6  5    ⎛ 6⎞\n",
              "y(t) = t⋅⎝C₁  + 1⎠ + C₁ + C₁ ⋅t  + C₁ ⋅t  + C₁ ⋅t  + C₁ ⋅t  + O⎝t ⎠"
            ]
          },
          "metadata": {},
          "execution_count": 18
        }
      ]
    },
    {
      "cell_type": "code",
      "metadata": {
        "id": "tOJPi8MrF98j",
        "colab": {
          "base_uri": "https://localhost:8080/",
          "height": 37
        },
        "outputId": "0e2e56a5-1669-4414-cd55-8cc1dbff8b69"
      },
      "source": [
        "C_eq = sympy.Eq(sol.lhs.subs(t, 2).subs(ics), sol.rhs.subs(t, 2))#reemplaza condiciones iniciales\n",
        "C=sympy.solve(C_eq)#soluciona la ecuación del paso anterior\n",
        "C#imprime la solución"
      ],
      "execution_count": 20,
      "outputs": [
        {
          "output_type": "execute_result",
          "data": {
            "text/latex": "$\\displaystyle \\left[ \\right]$",
            "text/plain": [
              "[]"
            ]
          },
          "metadata": {},
          "execution_count": 20
        }
      ]
    },
    {
      "cell_type": "code",
      "metadata": {
        "id": "Le__k_Z8GoYb"
      },
      "source": [
        "#No hay solución análitica para esta ecuación debio a que no se puede hallar C. \n",
        "#Sin embargo se sabe que es de la forma \n",
        "# y= C + Ct + Ct^(2)/2 + Ct^(3) + Ct^(4)/24 + Ct^(5)/120*[C(C+1) - C - 1] + t^(6)"
      ],
      "execution_count": null,
      "outputs": []
    },
    {
      "cell_type": "code",
      "metadata": {
        "id": "qqbD7NEQRtX4",
        "colab": {
          "base_uri": "https://localhost:8080/",
          "height": 265
        },
        "outputId": "7ffb455a-5fd4-49f3-80e9-20d8b7a6497b"
      },
      "source": [
        "A2=np.array(euler(2,3,2,1,suma2))# Graficar puntos solución metodo euler\n",
        "plt.scatter(A2[:,0], A2[:,1])\n",
        "\n",
        "T = np.linspace(2, 3, 3) #graficar poligonal\n",
        "Y = list(A2[:,1])\n",
        "plt.plot(T, Y)\n",
        "plt.show()"
      ],
      "execution_count": 21,
      "outputs": [
        {
          "output_type": "display_data",
          "data": {
            "image/png": "[encoded data removed]",
            "text/plain": [
              "<Figure size 432x288 with 1 Axes>"
            ]
          },
          "metadata": {
            "needs_background": "light"
          }
        }
      ]
    },
    {
      "cell_type": "code",
      "metadata": {
        "id": "5gdupvLwSRH-",
        "colab": {
          "base_uri": "https://localhost:8080/",
          "height": 297
        },
        "outputId": "dc0ca4c8-3b81-481a-8e28-bd7c9f0c7353"
      },
      "source": [
        "A2=euler(2,3,2,1,suma2)\n",
        "A2=np.array(A2)\n",
        "\n",
        "B2=heun(2,3,2,1,suma2)\n",
        "B2=np.array(B2)\n",
        "\n",
        "C2=Runge(2,3,2,1,suma2)\n",
        "C2=np.array(C2)\n",
        "\n",
        "plt.scatter(C2[:,0], C2[:,1], color = 'red', label='Runge')\n",
        "\n",
        "plt.scatter(A2[:,0], A2[:,1], color = 'blue', label='Euler')\n",
        "\n",
        "plt.scatter(B2[:,0], B2[:,1], color = 'purple', label='Heun')\n",
        "\n",
        "TE2 = np.linspace(2, 3, 3) #graficar poligonal Euler\n",
        "YE2 = list(A2[:,1])\n",
        "plt.plot(TE2, YE2)\n",
        "\n",
        "TH2 = np.linspace(2, 3, 3) #graficar poligonal Heun\n",
        "YH2 = list(B2[:,1])\n",
        "plt.plot(TH2, YH2)\n",
        "\n",
        "TR2 = np.linspace(2, 3, 3) #graficar poligonal Runge\n",
        "YR2 = list(C2[:,1])\n",
        "plt.plot(TR2, YR2)\n",
        "\n",
        "plt.title('Heun vs Euler vs Runge') #titulo de la grafica\n",
        "plt.xlabel('$t$') #nombra los ejes\n",
        "plt.ylabel('$f(t)$')\n",
        "plt.legend()\n",
        "plt.show()"
      ],
      "execution_count": 22,
      "outputs": [
        {
          "output_type": "display_data",
          "data": {
            "image/png": "[encoded data removed]",
            "text/plain": [
              "<Figure size 432x288 with 1 Axes>"
            ]
          },
          "metadata": {
            "needs_background": "light"
          }
        }
      ]
    },
    {
      "cell_type": "code",
      "metadata": {
        "id": "uxyGh6E4Yg3r",
        "colab": {
          "base_uri": "https://localhost:8080/"
        },
        "outputId": "d5bb7325-2d06-4207-f1a7-1cabd89e8b4f"
      },
      "source": [
        "#Como no se pudo hallar un valor analítico no se puede encotrar la solución de este\n",
        "Errores2 = {'Euler': YE2, 'Heun':YH2, 'Runge':YR2}\n",
        "data_frame2 = pd.DataFrame(Errores2)\n",
        "print (data_frame2)"
      ],
      "execution_count": 23,
      "outputs": [
        {
          "output_type": "stream",
          "name": "stdout",
          "text": [
            "              Euler              Heun             Runge\n",
            "0                 1                 1                 1\n",
            "1  2.00000000000000  1.81250000000000  1.83332336073120\n",
            "2  2.62500000000000  2.48155307769775  2.49997119342618\n"
          ]
        }
      ]
    },
    {
      "cell_type": "code",
      "metadata": {
        "id": "LtRKB1Qjnu_P"
      },
      "source": [
        "#Punto 1)c\n",
        "def suma3 (t,y):\n",
        "  return 1+ y/t"
      ],
      "execution_count": 24,
      "outputs": []
    },
    {
      "cell_type": "code",
      "metadata": {
        "id": "SJU8iF8UoCpy",
        "colab": {
          "base_uri": "https://localhost:8080/",
          "height": 53
        },
        "outputId": "ac30c28f-f4ef-4b6c-ff39-de467a8b93b7"
      },
      "source": [
        "#Solución analítica\n",
        "sympy.init_printing(use_latex='mathjax')# escribe simbolicamente la ecuación diferencial.\n",
        "t = sympy.Symbol('t')\n",
        "y = sympy.Function('y')\n",
        "# expreso la ecuacion\n",
        "f3 = 1 + (y(t))/t\n",
        "sympy.Eq(y(t).diff(t), f3)"
      ],
      "execution_count": 25,
      "outputs": [
        {
          "output_type": "execute_result",
          "data": {
            "text/latex": "$\\displaystyle \\frac{d}{d t} y{\\left(t \\right)} = 1 + \\frac{y{\\left(t \\right)}}{t}$",
            "text/plain": [
              "d              y(t)\n",
              "──(y(t)) = 1 + ────\n",
              "dt              t  "
            ]
          },
          "metadata": {},
          "execution_count": 25
        }
      ]
    },
    {
      "cell_type": "code",
      "metadata": {
        "id": "w6TVqFNYo39b",
        "colab": {
          "base_uri": "https://localhost:8080/",
          "height": 38
        },
        "outputId": "932c5c7b-a2f7-47a7-abec-7a1bdec021c8"
      },
      "source": [
        "sol= sympy.dsolve(y(t).diff(t)-f3)  #Resuelve la ecuación diferencial\n",
        "ics={ y (1): 2} #condiciones iniciales\n",
        "sol"
      ],
      "execution_count": 26,
      "outputs": [
        {
          "output_type": "execute_result",
          "data": {
            "text/latex": "$\\displaystyle y{\\left(t \\right)} = t \\left(C_{1} + \\log{\\left(t \\right)}\\right)$",
            "text/plain": [
              "y(t) = t⋅(C₁ + log(t))"
            ]
          },
          "metadata": {},
          "execution_count": 26
        }
      ]
    },
    {
      "cell_type": "code",
      "metadata": {
        "id": "SYN6_xZ9pDgw",
        "colab": {
          "base_uri": "https://localhost:8080/",
          "height": 37
        },
        "outputId": "b8beab04-dc21-413d-8b31-ebba6d8c2a53"
      },
      "source": [
        "C_eq = sympy.Eq(sol.lhs.subs(t, 1).subs(ics), sol.rhs.subs(t, 1))#reemplaza condiciones iniciales\n",
        "C=sympy.solve(C_eq)#soluciona la ecuación del paso anterior\n",
        "C[0]#imprime la solución"
      ],
      "execution_count": 27,
      "outputs": [
        {
          "output_type": "execute_result",
          "data": {
            "text/latex": "$\\displaystyle 2$",
            "text/plain": [
              "2"
            ]
          },
          "metadata": {},
          "execution_count": 27
        }
      ]
    },
    {
      "cell_type": "code",
      "metadata": {
        "id": "G2eigwqrpWH5",
        "colab": {
          "base_uri": "https://localhost:8080/",
          "height": 283
        },
        "outputId": "6b941c17-b37f-4e92-c106-f5fcc064f509"
      },
      "source": [
        "t = np.linspace(1,2,100)\n",
        "y= t*(2+np.log(t))\n",
        "plt.plot(t, y)"
      ],
      "execution_count": 28,
      "outputs": [
        {
          "output_type": "execute_result",
          "data": {
            "text/plain": [
              "[<matplotlib.lines.Line2D at 0x7ff5681cf690>]"
            ]
          },
          "metadata": {},
          "execution_count": 28
        },
        {
          "output_type": "display_data",
          "data": {
            "image/png": "[encoded data removed]",
            "text/plain": [
              "<Figure size 432x288 with 1 Axes>"
            ]
          },
          "metadata": {
            "needs_background": "light"
          }
        }
      ]
    },
    {
      "cell_type": "code",
      "metadata": {
        "id": "khFsWaW9queW",
        "colab": {
          "base_uri": "https://localhost:8080/",
          "height": 297
        },
        "outputId": "a44780d0-42d3-4e8d-d375-4fe7245b56e7"
      },
      "source": [
        "A3=euler(1,2,4,2,suma3)\n",
        "A3=np.array(A3)\n",
        "\n",
        "B3=heun(1,2,4,2,suma3)\n",
        "B3=np.array(B3)\n",
        "\n",
        "C3=Runge(1,2,4,2,suma3)\n",
        "C3=np.array(C3)\n",
        "\n",
        "plt.scatter(A3[:,0], A3[:,1], color = 'blue', label='Euler')\n",
        "\n",
        "plt.scatter(B3[:,0], B3[:,1], color = 'purple', label='Heun')\n",
        "\n",
        "plt.scatter(C3[:,0], C3[:,1], color = 'red', label='Runge')\n",
        "\n",
        "TE3 = np.linspace(1, 2, 5) #graficar poligonal Euler\n",
        "YE3 = list(A3[:,1])\n",
        "plt.plot(TE3, YE3)\n",
        "\n",
        "TH3 = np.linspace(1, 2, 5) #graficar poligonal Heun\n",
        "YH3 = list(B3[:,1])\n",
        "plt.plot(TH3, YH3)\n",
        "\n",
        "TR3 = np.linspace(1, 2, 5) #graficar poligonal Runge\n",
        "YR3 = list(C3[:,1])\n",
        "plt.plot(TR3, YR3)\n",
        "\n",
        "t = np.linspace(1,2,100) #Graficar solución analítica\n",
        "y= t*(2+np.log(t))\n",
        "plt.plot(t, y)\n",
        "\n",
        "plt.title('Heun vs Euler vs Runge') #titulo de la grafica\n",
        "plt.xlabel('$t$') #nombra los ejes\n",
        "plt.ylabel('$f(t)$')\n",
        "plt.legend()\n",
        "plt.show()"
      ],
      "execution_count": 29,
      "outputs": [
        {
          "output_type": "display_data",
          "data": {
            "image/png": "[encoded data removed]",
            "text/plain": [
              "<Figure size 432x288 with 1 Axes>"
            ]
          },
          "metadata": {
            "needs_background": "light"
          }
        }
      ]
    },
    {
      "cell_type": "code",
      "metadata": {
        "id": "TyzJUNrSs3y3",
        "colab": {
          "base_uri": "https://localhost:8080/"
        },
        "outputId": "fb94e1e7-7f01-483f-dae2-b96336dc5a9b"
      },
      "source": [
        "T = np.linspace(1, 2, 5)\n",
        "YA3 = T*(2 + np.log(T))\n",
        "YA3=list(YA3)\n",
        "\n",
        "YAYE3=[]\n",
        "YAYR3=[]\n",
        "YAYH3=[]\n",
        "\n",
        "for i in range (5):\n",
        "    y3=YA3[i]-YE3[i]\n",
        "    z3=YA3[i]-YH3[i]\n",
        "    r3=YA3[i]-YR3[i]\n",
        "    YAYE3.append(y3)\n",
        "    YAYH3.append(z3)\n",
        "    YAYR3.append(r3)\n",
        "Errores3 = {'Analítica' : YA3, 'Euler': YE3, 'Heun':YH3, 'Runge':YR3}\n",
        "data_frame3 = pd.DataFrame(Errores3)\n",
        "print (data_frame3)"
      ],
      "execution_count": 30,
      "outputs": [
        {
          "output_type": "stream",
          "name": "stdout",
          "text": [
            "   Analítica     Euler      Heun     Runge\n",
            "0   2.000000  2.000000  2.000000  2.000000\n",
            "1   2.778929  2.750000  2.775000  2.778909\n",
            "2   3.608198  3.550000  3.600833  3.608165\n",
            "3   4.479328  4.391667  4.468829  4.479285\n",
            "4   5.386294  5.269048  5.372859  5.386243\n"
          ]
        }
      ]
    },
    {
      "cell_type": "code",
      "metadata": {
        "id": "fOVU4Yg5tCG7",
        "colab": {
          "base_uri": "https://localhost:8080/"
        },
        "outputId": "632d5699-46d4-4d60-ff13-a74ffaf28d08"
      },
      "source": [
        "Errores31 = {'A-E':YAYE3, 'A-H':YAYH3, 'A-R':YAYR3}\n",
        "data_frame31 = pd.DataFrame(Errores31)\n",
        "print (data_frame31)"
      ],
      "execution_count": 31,
      "outputs": [
        {
          "output_type": "stream",
          "name": "stdout",
          "text": [
            "        A-E       A-H       A-R\n",
            "0  0.000000  0.000000  0.000000\n",
            "1  0.028929  0.003929  0.000020\n",
            "2  0.058198  0.007364  0.000033\n",
            "3  0.087661  0.010498  0.000043\n",
            "4  0.117247  0.013436  0.000052\n"
          ]
        }
      ]
    },
    {
      "cell_type": "code",
      "metadata": {
        "id": "xVmktcrttHT2",
        "colab": {
          "base_uri": "https://localhost:8080/"
        },
        "outputId": "30fb3b64-f6e6-4825-8117-fb8833f319e6"
      },
      "source": [
        "#Para el error en porcentaje se determina de la siguiente forma\n",
        "YAYR31=[]\n",
        "YAYE31=[]\n",
        "YAYH31=[]\n",
        "for i in range (5):\n",
        "    a3=100*sympy.Abs(YA3[i]-YE3[i])/YA3[i]\n",
        "    b3=100*sympy.Abs(YA3[i]-YH3[i])/YA3[i]\n",
        "    c3=100*sympy.Abs(YA3[i]-YR3[i])/YA3[i]\n",
        "    YAYE31.append(a3)\n",
        "    YAYH31.append(b3)\n",
        "    YAYR31.append(c3)\n",
        "Errores32 = {'%Error Euler' : YAYE31, '%Error Heun': YAYH31, '%Error Runge': YAYR31}\n",
        "data_frame32 = pd.DataFrame(Errores32)\n",
        "print (data_frame32)"
      ],
      "execution_count": 32,
      "outputs": [
        {
          "output_type": "stream",
          "name": "stdout",
          "text": [
            "       %Error Euler        %Error Heun          %Error Runge\n",
            "0                 0                  0                     0\n",
            "1  1.04102820083428  0.141401184478227  0.000718770397845536\n",
            "2  1.61292888060272  0.204099927954076  0.000912756904131350\n",
            "3  1.95701162056112  0.234371420833830  0.000960539616134197\n",
            "4  2.17676076002453  0.249444239924418  0.000961186071841531\n"
          ]
        }
      ]
    },
    {
      "cell_type": "code",
      "metadata": {
        "id": "YmzFqVYExH4R"
      },
      "source": [
        "################  Punto 1)d  ##################\n",
        "def suma4 (t,y):\n",
        "  return sympy.cos(2*t) + sympy.sin(3*t)"
      ],
      "execution_count": 33,
      "outputs": []
    },
    {
      "cell_type": "code",
      "metadata": {
        "id": "tY4KwonSxgjM",
        "colab": {
          "base_uri": "https://localhost:8080/",
          "height": 52
        },
        "outputId": "67fa97bd-ad2b-4179-8e8d-ddf3f87e8652"
      },
      "source": [
        "#Solución analítica\n",
        "sympy.init_printing(use_latex='mathjax')# escribe simbolicamente la ecuación diferencial.\n",
        "t = sympy.Symbol('t')\n",
        "y = sympy.Function('y')\n",
        "# expreso la ecuacion\n",
        "f4 = sympy.cos(2*t) + sympy.sin(3*t)\n",
        "sympy.Eq(y(t).diff(t), f4)"
      ],
      "execution_count": 34,
      "outputs": [
        {
          "output_type": "execute_result",
          "data": {
            "text/latex": "$\\displaystyle \\frac{d}{d t} y{\\left(t \\right)} = \\sin{\\left(3 t \\right)} + \\cos{\\left(2 t \\right)}$",
            "text/plain": [
              "d                             \n",
              "──(y(t)) = sin(3⋅t) + cos(2⋅t)\n",
              "dt                            "
            ]
          },
          "metadata": {},
          "execution_count": 34
        }
      ]
    },
    {
      "cell_type": "code",
      "metadata": {
        "id": "7Q7SXzcaxsQZ",
        "colab": {
          "base_uri": "https://localhost:8080/",
          "height": 53
        },
        "outputId": "a6321ecf-fa32-4cf4-b2a4-66cc0e312c51"
      },
      "source": [
        "sol= sympy.dsolve(y(t).diff(t)-f4)  #Resuelve la ecuación diferencial\n",
        "ics={ y (0): 1} #condiciones iniciales\n",
        "sol"
      ],
      "execution_count": 35,
      "outputs": [
        {
          "output_type": "execute_result",
          "data": {
            "text/latex": "$\\displaystyle y{\\left(t \\right)} = C_{1} + \\frac{\\sin{\\left(2 t \\right)}}{2} - \\frac{\\cos{\\left(3 t \\right)}}{3}$",
            "text/plain": [
              "            sin(2⋅t)   cos(3⋅t)\n",
              "y(t) = C₁ + ──────── - ────────\n",
              "               2          3    "
            ]
          },
          "metadata": {},
          "execution_count": 35
        }
      ]
    },
    {
      "cell_type": "code",
      "metadata": {
        "id": "vQ26Tl-9x990",
        "colab": {
          "base_uri": "https://localhost:8080/",
          "height": 51
        },
        "outputId": "95a1537e-5698-4f21-ece3-a431096a35bb"
      },
      "source": [
        "C_eq = sympy.Eq(sol.lhs.subs(t, 0).subs(ics), sol.rhs.subs(t, 0))#reemplaza condiciones iniciales\n",
        "C=sympy.solve(C_eq)#soluciona la ecuación del paso anterior\n",
        "C[0]#imprime la solución"
      ],
      "execution_count": 36,
      "outputs": [
        {
          "output_type": "execute_result",
          "data": {
            "text/latex": "$\\displaystyle \\frac{4}{3}$",
            "text/plain": [
              "4/3"
            ]
          },
          "metadata": {},
          "execution_count": 36
        }
      ]
    },
    {
      "cell_type": "code",
      "metadata": {
        "id": "ioCfdK3AyM_R",
        "colab": {
          "base_uri": "https://localhost:8080/",
          "height": 282
        },
        "outputId": "a64cc4e7-0561-4f4f-eaea-81222eef4dcc"
      },
      "source": [
        "t = np.linspace(0,1,100)\n",
        "y= 4/3 + np.sin(2*t)/2 - np.cos(3*t)/3\n",
        "plt.plot(t, y)"
      ],
      "execution_count": 37,
      "outputs": [
        {
          "output_type": "execute_result",
          "data": {
            "text/plain": [
              "[<matplotlib.lines.Line2D at 0x7ff568164d10>]"
            ]
          },
          "metadata": {},
          "execution_count": 37
        },
        {
          "output_type": "display_data",
          "data": {
            "image/png": "[encoded data removed]",
            "text/plain": [
              "<Figure size 432x288 with 1 Axes>"
            ]
          },
          "metadata": {
            "needs_background": "light"
          }
        }
      ]
    },
    {
      "cell_type": "code",
      "metadata": {
        "id": "POW5HDrAzFnZ",
        "colab": {
          "base_uri": "https://localhost:8080/",
          "height": 297
        },
        "outputId": "eb5f9765-c074-43e6-eecf-934d5e38e04b"
      },
      "source": [
        "A4=euler(0,1,4,1,suma4)\n",
        "A4=np.array(A4)\n",
        "\n",
        "B4=heun(0,1,4,1,suma4)\n",
        "B4=np.array(B4)\n",
        "\n",
        "C4=Runge(0,1,4,1,suma4)\n",
        "C4=np.array(C4)\n",
        "\n",
        "plt.scatter(A4[:,0], A4[:,1], color = 'blue', label='Euler')\n",
        "\n",
        "plt.scatter(B4[:,0], B4[:,1], color = 'purple', label='Heun')\n",
        "\n",
        "plt.scatter(C4[:,0], C4[:,1], color = 'red', label='Runge')\n",
        "\n",
        "TE4 = np.linspace(0, 1, 5) #graficar poligonal Euler\n",
        "YE4 = list(A4[:,1])\n",
        "plt.plot(TE4, YE4)\n",
        "\n",
        "TH4 = np.linspace(0, 1, 5) #graficar poligonal Heun\n",
        "YH4 = list(B4[:,1])\n",
        "plt.plot(TH4, YH4)\n",
        "\n",
        "TR4 = np.linspace(0, 1, 5) #graficar poligonal Runge\n",
        "YR4 = list(C4[:,1])\n",
        "plt.plot(TR4, YR4)\n",
        "\n",
        "t = np.linspace(0,1,100) #Graficar solución analítica\n",
        "y= 4/3 + np.sin(2*t)/2 - np.cos(3*t)/3\n",
        "plt.plot(t, y)\n",
        "\n",
        "plt.title('Heun vs Euler vs Runge') #titulo de la grafica\n",
        "plt.xlabel('$t$') #nombra los ejes\n",
        "plt.ylabel('$f(t)$')\n",
        "plt.legend()\n",
        "plt.show()"
      ],
      "execution_count": 38,
      "outputs": [
        {
          "output_type": "display_data",
          "data": {
            "image/png": "[encoded data removed]",
            "text/plain": [
              "<Figure size 432x288 with 1 Axes>"
            ]
          },
          "metadata": {
            "needs_background": "light"
          }
        }
      ]
    },
    {
      "cell_type": "code",
      "metadata": {
        "id": "vPPRtfU92HuR",
        "colab": {
          "base_uri": "https://localhost:8080/"
        },
        "outputId": "975cc959-672b-427e-fc8b-4223f2c1965a"
      },
      "source": [
        "T = np.linspace(0, 1, 5)\n",
        "YA4 = 4/3 + np.sin(2*T)/2 - np.cos(3*T)/3\n",
        "YA4=list(YA4)\n",
        "\n",
        "YAYE4=[]\n",
        "YAYR4=[]\n",
        "YAYH4=[]\n",
        "\n",
        "for i in range (5):\n",
        "    y4=YA4[i]-YE4[i]\n",
        "    z4=YA4[i]-YH4[i]\n",
        "    r4=YA4[i]-YR4[i]\n",
        "    YAYE4.append(y4)\n",
        "    YAYH4.append(z4)\n",
        "    YAYR4.append(r4)\n",
        "Errores4 = {'Analítica' : YA4, 'Euler': YE4, 'Heun':YH4, 'Runge':YR4}\n",
        "data_frame4 = pd.DataFrame(Errores4)\n",
        "print (data_frame4)"
      ],
      "execution_count": 39,
      "outputs": [
        {
          "output_type": "stream",
          "name": "stdout",
          "text": [
            "   Analítica             Euler              Heun             Runge\n",
            "0   1.000000                 1                 1                 1\n",
            "1   1.329150  1.25000000000000  1.31990266523921  1.32916504687919\n",
            "2   1.730490  1.63980533047843  1.70702999203745  1.73053356630742\n",
            "3   2.041472  2.02425465359648  2.00535595341593  2.04154357743440\n",
            "4   2.117980  2.23645725323538  2.07707889967447  2.11806360001402\n"
          ]
        }
      ]
    },
    {
      "cell_type": "code",
      "metadata": {
        "id": "5WG379O02Mft",
        "colab": {
          "base_uri": "https://localhost:8080/"
        },
        "outputId": "32aaefe5-fb4a-46ae-9c69-021b8ed8e07e"
      },
      "source": [
        "Errores41 = {'A-E':YAYE4, 'A-H':YAYH4, 'A-R':YAYR4}\n",
        "data_frame41 = pd.DataFrame(Errores41)\n",
        "print (data_frame41)"
      ],
      "execution_count": 40,
      "outputs": [
        {
          "output_type": "stream",
          "name": "stdout",
          "text": [
            "                  A-E                  A-H                   A-R\n",
            "0                   0                    0                     0\n",
            "1  0.0791498130108277  0.00924714777161428  -1.52338683587772e-5\n",
            "2  0.0906844280362871   0.0234597664772629  -4.38077927042979e-5\n",
            "3  0.0172173806131313   0.0361160807936787  -7.15432247972991e-5\n",
            "4  -0.118477707622393   0.0409006459385171  -8.40544010292099e-5\n"
          ]
        }
      ]
    },
    {
      "cell_type": "code",
      "metadata": {
        "id": "H02ahpuE2Pqk",
        "colab": {
          "base_uri": "https://localhost:8080/"
        },
        "outputId": "c63858cb-8d11-4260-85f4-50cd96e2f8c7"
      },
      "source": [
        "#Para el error en porcentaje se determina de la siguiente forma\n",
        "YAYR41=[]\n",
        "YAYE41=[]\n",
        "YAYH41=[]\n",
        "for i in range (5):\n",
        "    a4=100*sympy.Abs(YA4[i]-YE4[i])/YA4[i]\n",
        "    b4=100*sympy.Abs(YA4[i]-YH4[i])/YA4[i]\n",
        "    c4=100*sympy.Abs(YA4[i]-YR4[i])/YA4[i]\n",
        "    YAYE41.append(a4)\n",
        "    YAYH41.append(b4)\n",
        "    YAYR41.append(c4)\n",
        "Errores42 = {'%Error Euler' : YAYE41, '%Error Heun': YAYH41, '%Error Runge': YAYR41}\n",
        "data_frame42 = pd.DataFrame(Errores42)\n",
        "print (data_frame42)"
      ],
      "execution_count": 41,
      "outputs": [
        {
          "output_type": "stream",
          "name": "stdout",
          "text": [
            "        %Error Euler        %Error Heun         %Error Runge\n",
            "0                  0                  0                    0\n",
            "1   5.95492037361351  0.695718998798742  0.00114613629025527\n",
            "2   5.24039091188392   1.35567207848710  0.00253152568449167\n",
            "3  0.843380674562965   1.76911954650712  0.00350449203312248\n",
            "4   5.59390235225820   1.93111619152486  0.00396861250163220\n"
          ]
        }
      ]
    },
    {
      "cell_type": "code",
      "metadata": {
        "id": "fUETIe8B6TsY",
        "colab": {
          "base_uri": "https://localhost:8080/",
          "height": 297
        },
        "outputId": "28247be2-6331-427d-fdb6-6bdfb2e87abe"
      },
      "source": [
        "#################### Punto 2 ############################\n",
        "############# con h=0.2  ##################\n",
        "\n",
        "A51=euler(0,5,25,0,suma)\n",
        "A51=np.array(A51)\n",
        "\n",
        "B51=heun(0,5,25,0,suma)\n",
        "B51=np.array(B51)\n",
        "\n",
        "C51=Runge(0,5,25,0,suma)\n",
        "C51=np.array(C51)\n",
        "\n",
        "plt.scatter(A51[:,0], A51[:,1], color = 'blue', label='Euler')\n",
        "\n",
        "plt.scatter(B51[:,0], B51[:,1], color = 'purple', label='Heun')\n",
        "\n",
        "plt.scatter(C51[:,0], C51[:,1], color = 'red', label='Runge')\n",
        "\n",
        "TE51 = np.linspace(0, 5, 26) #graficar poligonal Euler\n",
        "YE51 = list(A51[:,1])\n",
        "plt.plot(TE51, YE51)\n",
        "\n",
        "TH51 = np.linspace(0, 5, 26) #graficar poligonal Heun\n",
        "YH51 = list(B51[:,1])\n",
        "plt.plot(TH51, YH51)\n",
        "\n",
        "TR51 = np.linspace(0, 5, 26) #graficar poligonal Runge\n",
        "YR51 = list(C51[:,1])\n",
        "plt.plot(TR51, YR51)\n",
        "\n",
        "t = np.linspace(0,5,100) #Graficar solución analítica\n",
        "y= (1/25 +(np.exp(5*t)/25)*(5*t-1))*np.exp(-2*t)\n",
        "plt.plot(t, y)\n",
        "\n",
        "plt.title('Heun vs Euler vs Runge con h=0.2') #titulo de la grafica\n",
        "plt.xlabel('$t$') #nombra los ejes\n",
        "plt.ylabel('$f(t)$')\n",
        "plt.legend()\n",
        "plt.show()\n"
      ],
      "execution_count": 42,
      "outputs": [
        {
          "output_type": "display_data",
          "data": {
            "image/png": "[encoded data removed]",
            "text/plain": [
              "<Figure size 432x288 with 1 Axes>"
            ]
          },
          "metadata": {
            "needs_background": "light"
          }
        }
      ]
    },
    {
      "cell_type": "code",
      "metadata": {
        "id": "56bDpiCj603G",
        "colab": {
          "base_uri": "https://localhost:8080/"
        },
        "outputId": "7ec21a94-2295-4585-93d6-0b523d5d456b"
      },
      "source": [
        "YA = float((1/25 +(sympy.exp(5*5)/25)*(5*5-1))*sympy.exp(-2*5))\n",
        "\n",
        "print('Analítica\\n', YA, '\\nEuler\\n', YE51[25], '\\nHeun\\n',YH51[25], '\\nRunge\\n',YR51[25])"
      ],
      "execution_count": 43,
      "outputs": [
        {
          "output_type": "stream",
          "name": "stdout",
          "text": [
            "Analítica\n",
            " 3138256.677575042 \n",
            "Euler\n",
            " 2515352.54225275 \n",
            "Heun\n",
            " 3349442.72845725 \n",
            "Runge\n",
            " 3139993.21228042\n"
          ]
        }
      ]
    },
    {
      "cell_type": "code",
      "metadata": {
        "id": "Feazpipq667G",
        "colab": {
          "base_uri": "https://localhost:8080/"
        },
        "outputId": "962b8458-05b8-407c-e837-ee0f3d031528"
      },
      "source": [
        "YAYE51=sympy.Abs(YA-YE51[25])\n",
        "YAYH51=sympy.Abs(YA-YH51[25])\n",
        "YAYR51=sympy.Abs(YA-YR51[25])\n",
        "print('Analítica - Euler\\n',YAYE51 , '\\nAnalítica - Heun\\n',YAYH51, '\\nAnalítica - Runge\\n',YAYR51)"
      ],
      "execution_count": 44,
      "outputs": [
        {
          "output_type": "stream",
          "name": "stdout",
          "text": [
            "Analítica - Euler\n",
            " 622904.135322296 \n",
            "Analítica - Heun\n",
            " 211186.050882210 \n",
            "Analítica - Runge\n",
            " 1736.53470538277\n"
          ]
        }
      ]
    },
    {
      "cell_type": "code",
      "metadata": {
        "id": "jyTC4_LO6_ax",
        "colab": {
          "base_uri": "https://localhost:8080/"
        },
        "outputId": "dfdc4fda-ffb8-4086-f6e3-3a95b2b2f7bf"
      },
      "source": [
        "#Para el error en porcentaje se determina de la siguiente forma\n",
        "YAYEp5=[]\n",
        "YAYHp5=[]\n",
        "YAYRp5=[]\n",
        "\n",
        "YAYEp51=100*sympy.Abs(YA-YE51[25])/YA\n",
        "YAYHp51=100*sympy.Abs(YA-YH51[25])/YA\n",
        "YAYRp51=100*sympy.Abs(YA-YR51[25])/YA\n",
        "\n",
        "YAYEp5.append(YAYEp51)\n",
        "YAYHp5.append(YAYHp51)\n",
        "YAYRp5.append(YAYRp51)\n",
        "print('% Error Euler\\n',YAYEp51 , '\\n% Error Heun\\n',YAYHp51, '\\n% Error Runge\\n',YAYRp51)"
      ],
      "execution_count": 45,
      "outputs": [
        {
          "output_type": "stream",
          "name": "stdout",
          "text": [
            "% Error Euler\n",
            " 19.8487312963712 \n",
            "% Error Heun\n",
            " 6.72940656483826 \n",
            "% Error Runge\n",
            " 0.0553343745841913\n"
          ]
        }
      ]
    },
    {
      "cell_type": "code",
      "metadata": {
        "id": "Sn3V-AD1gCS1",
        "colab": {
          "base_uri": "https://localhost:8080/",
          "height": 297
        },
        "outputId": "daef90c0-42e9-4bbc-9ee5-afceee0ae03a"
      },
      "source": [
        "################## con h=0.1 ################\n",
        "\n",
        "A52=euler(0,5,50,0,suma)\n",
        "A52=np.array(A52)\n",
        "\n",
        "B52=heun(0,5,50,0,suma)\n",
        "B52=np.array(B52)\n",
        "\n",
        "C52=Runge(0,5,50,0,suma)\n",
        "C52=np.array(C52)\n",
        "\n",
        "plt.scatter(A52[:,0], A52[:,1], color = 'blue', label='Euler')\n",
        "\n",
        "plt.scatter(B52[:,0], B52[:,1], color = 'purple', label='Heun')\n",
        "\n",
        "plt.scatter(C52[:,0], C52[:,1], color = 'red', label='Runge')\n",
        "\n",
        "TE52 = np.linspace(0, 5, 51) #graficar poligonal Euler\n",
        "YE52 = list(A52[:,1])\n",
        "plt.plot(TE52, YE52)\n",
        "\n",
        "TH52 = np.linspace(0, 5, 51) #graficar poligonal Heun\n",
        "YH52 = list(B52[:,1])\n",
        "plt.plot(TH52, YH52)\n",
        "\n",
        "TR52 = np.linspace(0, 5, 51) #graficar poligonal Runge\n",
        "YR52 = list(C52[:,1])\n",
        "plt.plot(TR52, YR52)\n",
        "\n",
        "t = np.linspace(0,5,100) #Graficar solución analítica\n",
        "y= (1/25 +(np.exp(5*t)/25)*(5*t-1))*np.exp(-2*t)\n",
        "plt.plot(t, y)\n",
        "\n",
        "plt.title('Heun vs Euler vs Runge con h=0.1') #titulo de la grafica\n",
        "plt.xlabel('$t$') #nombra los ejes\n",
        "plt.ylabel('$f(t)$')\n",
        "plt.legend()\n",
        "plt.show()\n"
      ],
      "execution_count": 46,
      "outputs": [
        {
          "output_type": "display_data",
          "data": {
            "image/png": "[encoded data removed]",
            "text/plain": [
              "<Figure size 432x288 with 1 Axes>"
            ]
          },
          "metadata": {
            "needs_background": "light"
          }
        }
      ]
    },
    {
      "cell_type": "code",
      "metadata": {
        "id": "7-doGH4coKVh",
        "colab": {
          "base_uri": "https://localhost:8080/"
        },
        "outputId": "6c4c86a7-d1ee-411f-c8a0-7e7f66493569"
      },
      "source": [
        "YA = float((1/25 +(sympy.exp(5*5)/25)*(5*5-1))*sympy.exp(-2*5))\n",
        "\n",
        "print('Analítica\\n', YA, '\\nEuler\\n', YE52[50], '\\nHeun\\n',YH52[50], '\\nRunge\\n',YR52[50])"
      ],
      "execution_count": 47,
      "outputs": [
        {
          "output_type": "stream",
          "name": "stdout",
          "text": [
            "Analítica\n",
            " 3138256.677575042 \n",
            "Euler\n",
            " 2826647.38257291 \n",
            "Heun\n",
            " 3188630.43055348 \n",
            "Runge\n",
            " 3138365.90161438\n"
          ]
        }
      ]
    },
    {
      "cell_type": "code",
      "metadata": {
        "id": "iscJD29DpL4B",
        "colab": {
          "base_uri": "https://localhost:8080/"
        },
        "outputId": "6e3262a9-6840-4a8d-b615-36472718a12a"
      },
      "source": [
        "YAYE52=sympy.Abs(YA-YE52[50])\n",
        "YAYH52=sympy.Abs(YA-YH52[50])\n",
        "YAYR52=sympy.Abs(YA-YR52[50])\n",
        "print('Analítica - Euler\\n',YAYE52 , '\\nAnalítica - Heun\\n',YAYH52, '\\nAnalítica - Runge\\n',YAYR52)"
      ],
      "execution_count": 48,
      "outputs": [
        {
          "output_type": "stream",
          "name": "stdout",
          "text": [
            "Analítica - Euler\n",
            " 311609.295002137 \n",
            "Analítica - Heun\n",
            " 50373.7529784343 \n",
            "Analítica - Runge\n",
            " 109.224039339926\n"
          ]
        }
      ]
    },
    {
      "cell_type": "code",
      "metadata": {
        "id": "ph_I-zwcpN7o",
        "colab": {
          "base_uri": "https://localhost:8080/"
        },
        "outputId": "d1136c62-a786-4cd2-cfc2-2222ae37bd4a"
      },
      "source": [
        "#Para el error en porcentaje se determina de la siguiente forma\n",
        "YAYEp52=100*sympy.Abs(YA-YE52[50])/YA\n",
        "YAYHp52=100*sympy.Abs(YA-YH52[50])/YA\n",
        "YAYRp52=100*sympy.Abs(YA-YR52[50])/YA\n",
        "\n",
        "YAYEp5.append(YAYEp52)\n",
        "YAYHp5.append(YAYHp52)\n",
        "YAYRp5.append(YAYRp52)\n",
        "\n",
        "print('% Error Euler\\n',YAYEp52 , '\\n% Error Heun\\n',YAYHp52, '\\n% Error Runge\\n',YAYRp52)"
      ],
      "execution_count": 49,
      "outputs": [
        {
          "output_type": "stream",
          "name": "stdout",
          "text": [
            "% Error Euler\n",
            " 9.92937566989963 \n",
            "% Error Heun\n",
            " 1.60515082588332 \n",
            "% Error Runge\n",
            " 0.00348040490506737\n"
          ]
        }
      ]
    },
    {
      "cell_type": "code",
      "metadata": {
        "id": "13hhqPTxq30j",
        "colab": {
          "base_uri": "https://localhost:8080/",
          "height": 297
        },
        "outputId": "331dd485-e3e3-437f-ac7d-d9ed020af87b"
      },
      "source": [
        "################## con h=0.05 ################\n",
        "\n",
        "A53=euler(0,5,100,0,suma)\n",
        "A53=np.array(A53)\n",
        "\n",
        "B53=heun(0,5,100,0,suma)\n",
        "B53=np.array(B53)\n",
        "\n",
        "C53=Runge(0,5,100,0,suma)\n",
        "C53=np.array(C53)\n",
        "\n",
        "plt.scatter(A53[:,0], A53[:,1], color = 'blue', label='Euler')\n",
        "\n",
        "plt.scatter(B53[:,0], B53[:,1], color = 'purple', label='Heun')\n",
        "\n",
        "plt.scatter(C53[:,0], C53[:,1], color = 'red', label='Runge')\n",
        "\n",
        "TE53 = np.linspace(0, 5, 101) #graficar poligonal Euler\n",
        "YE53 = list(A53[:,1])\n",
        "plt.plot(TE53, YE53)\n",
        "\n",
        "TH53 = np.linspace(0, 5, 101) #graficar poligonal Heun\n",
        "YH53 = list(B53[:,1])\n",
        "plt.plot(TH53, YH53)\n",
        "\n",
        "TR53 = np.linspace(0, 5, 101) #graficar poligonal Runge\n",
        "YR53 = list(C53[:,1])\n",
        "plt.plot(TR53, YR53)\n",
        "\n",
        "t = np.linspace(0,5,100) #Graficar solución analítica\n",
        "y= (1/25 +(np.exp(5*t)/25)*(5*t-1))*np.exp(-2*t)\n",
        "plt.plot(t, y)\n",
        "\n",
        "plt.title('Heun vs Euler vs Runge con h=0.05') #titulo de la grafica\n",
        "plt.xlabel('$t$') #nombra los ejes\n",
        "plt.ylabel('$f(t)$')\n",
        "plt.legend()\n",
        "plt.show()\n"
      ],
      "execution_count": 50,
      "outputs": [
        {
          "output_type": "display_data",
          "data": {
            "image/png": "[encoded data removed]",
            "text/plain": [
              "<Figure size 432x288 with 1 Axes>"
            ]
          },
          "metadata": {
            "needs_background": "light"
          }
        }
      ]
    },
    {
      "cell_type": "code",
      "metadata": {
        "id": "aApVyrLMrh_u",
        "colab": {
          "base_uri": "https://localhost:8080/"
        },
        "outputId": "c66b0f46-6bd7-4593-ca64-bee86f21349d"
      },
      "source": [
        "YA = float((1/25 +(sympy.exp(5*5)/25)*(5*5-1))*sympy.exp(-2*5))\n",
        "\n",
        "print('Analítica\\n', YA, '\\nEuler\\n', YE53[100], '\\nHeun\\n',YH53[100], '\\nRunge\\n',YR53[100])"
      ],
      "execution_count": 51,
      "outputs": [
        {
          "output_type": "stream",
          "name": "stdout",
          "text": [
            "Analítica\n",
            " 3138256.677575042 \n",
            "Euler\n",
            " 2982766.48896736 \n",
            "Heun\n",
            " 3150499.46431334 \n",
            "Runge\n",
            " 3138263.47730195\n"
          ]
        }
      ]
    },
    {
      "cell_type": "code",
      "metadata": {
        "id": "_cSIXy1krtlP",
        "colab": {
          "base_uri": "https://localhost:8080/"
        },
        "outputId": "b9cae6af-df5f-468f-982a-461ad2aadbf9"
      },
      "source": [
        "YAYE53=sympy.Abs(YA-YE53[100])\n",
        "YAYH53=sympy.Abs(YA-YH53[100])\n",
        "YAYR53=sympy.Abs(YA-YR53[100])\n",
        "print('Analítica - Euler\\n',YAYE53 , '\\nAnalítica - Heun\\n',YAYH53, '\\nAnalítica - Runge\\n',YAYR53)"
      ],
      "execution_count": 52,
      "outputs": [
        {
          "output_type": "stream",
          "name": "stdout",
          "text": [
            "Analítica - Euler\n",
            " 155490.188607678 \n",
            "Analítica - Heun\n",
            " 12242.7867383012 \n",
            "Analítica - Runge\n",
            " 6.79972691088915\n"
          ]
        }
      ]
    },
    {
      "cell_type": "code",
      "metadata": {
        "id": "NbkvaZdbrwLe",
        "colab": {
          "base_uri": "https://localhost:8080/"
        },
        "outputId": "078145da-8499-4941-f2b4-cf3bde33107c"
      },
      "source": [
        "#Para el error en porcentaje se determina de la siguiente forma\n",
        "YAYEp53=100*sympy.Abs(YA-YE53[100])/YA\n",
        "YAYHp53=100*sympy.Abs(YA-YH53[100])/YA\n",
        "YAYRp53=100*sympy.Abs(YA-YR53[100])/YA\n",
        "\n",
        "YAYEp5.append(YAYEp53)\n",
        "YAYHp5.append(YAYHp53)\n",
        "YAYRp5.append(YAYRp53)\n",
        "\n",
        "print('% Error Euler\\n',YAYEp53 , '\\n% Error Heun\\n',YAYHp53, '\\n% Error Runge\\n',YAYRp53)"
      ],
      "execution_count": 53,
      "outputs": [
        {
          "output_type": "stream",
          "name": "stdout",
          "text": [
            "% Error Euler\n",
            " 4.95466765732580 \n",
            "% Error Heun\n",
            " 0.390114257568035 \n",
            "% Error Runge\n",
            " 0.000216672108418594\n"
          ]
        }
      ]
    },
    {
      "cell_type": "code",
      "metadata": {
        "id": "ecQ7PudOsL5-",
        "colab": {
          "base_uri": "https://localhost:8080/"
        },
        "outputId": "6f1bfbf2-3416-4be6-f5e5-67130ba32c36"
      },
      "source": [
        "#Comparamos los errores de cada modelo con los diferentes h comenzando con h=0.2, h=0.1 y h=0.05\n",
        "Errores5 = {'%Error Euler' : YAYEp5, '%Error Heun': YAYHp5, '%Error Runge': YAYRp5}\n",
        "data_frame5 = pd.DataFrame(Errores5)\n",
        "print (data_frame5)"
      ],
      "execution_count": 54,
      "outputs": [
        {
          "output_type": "stream",
          "name": "stdout",
          "text": [
            "       %Error Euler        %Error Heun          %Error Runge\n",
            "0  19.8487312963712   6.72940656483826    0.0553343745841913\n",
            "1  9.92937566989963   1.60515082588332   0.00348040490506737\n",
            "2  4.95466765732580  0.390114257568035  0.000216672108418594\n"
          ]
        }
      ]
    },
    {
      "cell_type": "markdown",
      "metadata": {
        "id": "Hk5-K6VftVIJ"
      },
      "source": [
        "**Se puede concluir que el mejor h para cada uno de los modelos es el de 0.05  teniendo una mejor exactitud**"
      ]
    },
    {
      "cell_type": "code",
      "metadata": {
        "id": "LBmMXvPEuUGN"
      },
      "source": [
        "################  Punto 3  ##################\n",
        "def suma6 (t,y):\n",
        "  return -10*y"
      ],
      "execution_count": 55,
      "outputs": []
    },
    {
      "cell_type": "code",
      "metadata": {
        "id": "t4a_ZkHGupm1",
        "colab": {
          "base_uri": "https://localhost:8080/",
          "height": 52
        },
        "outputId": "8758c1a6-ceba-4fe3-a1b0-37f57a7fa561"
      },
      "source": [
        "#Solución analítica\n",
        "sympy.init_printing(use_latex='mathjax')# escribe simbolicamente la ecuación diferencial.\n",
        "t = sympy.Symbol('t')\n",
        "y = sympy.Function('y')\n",
        "# expreso la ecuacion\n",
        "f6 = -10*(y(t))\n",
        "sympy.Eq(y(t).diff(t), f6)"
      ],
      "execution_count": 56,
      "outputs": [
        {
          "output_type": "execute_result",
          "data": {
            "text/latex": "$\\displaystyle \\frac{d}{d t} y{\\left(t \\right)} = - 10 y{\\left(t \\right)}$",
            "text/plain": [
              "d                  \n",
              "──(y(t)) = -10⋅y(t)\n",
              "dt                 "
            ]
          },
          "metadata": {},
          "execution_count": 56
        }
      ]
    },
    {
      "cell_type": "code",
      "metadata": {
        "id": "sEoNw2a3upm6",
        "colab": {
          "base_uri": "https://localhost:8080/",
          "height": 38
        },
        "outputId": "e40a2d03-3aab-4d27-e5c0-4f647c9f44ed"
      },
      "source": [
        "sol= sympy.dsolve(y(t).diff(t)-f6)  #Resuelve la ecuación diferencial\n",
        "ics={ y (0): 1} #condiciones iniciales\n",
        "sol"
      ],
      "execution_count": 57,
      "outputs": [
        {
          "output_type": "execute_result",
          "data": {
            "text/latex": "$\\displaystyle y{\\left(t \\right)} = C_{1} e^{- 10 t}$",
            "text/plain": [
              "           -10⋅t\n",
              "y(t) = C₁⋅ℯ     "
            ]
          },
          "metadata": {},
          "execution_count": 57
        }
      ]
    },
    {
      "cell_type": "code",
      "metadata": {
        "id": "9H5O-DqQupm8",
        "colab": {
          "base_uri": "https://localhost:8080/",
          "height": 37
        },
        "outputId": "c8d8e732-748e-4fad-d185-935c87040d19"
      },
      "source": [
        "C_eq = sympy.Eq(sol.lhs.subs(t, 0).subs(ics), sol.rhs.subs(t, 0))#reemplaza condiciones iniciales\n",
        "C=sympy.solve(C_eq)#soluciona la ecuación del paso anterior\n",
        "C[0]#imprime la solución"
      ],
      "execution_count": 58,
      "outputs": [
        {
          "output_type": "execute_result",
          "data": {
            "text/latex": "$\\displaystyle 1$",
            "text/plain": [
              "1"
            ]
          },
          "metadata": {},
          "execution_count": 58
        }
      ]
    },
    {
      "cell_type": "code",
      "metadata": {
        "id": "lM4OpdbKupm_",
        "colab": {
          "base_uri": "https://localhost:8080/",
          "height": 282
        },
        "outputId": "83a8e95b-07ee-4912-92d9-9e4d0eabb03c"
      },
      "source": [
        "t = np.linspace(0,2,100)\n",
        "y= np.exp(-10*t)\n",
        "plt.plot(t, y)"
      ],
      "execution_count": 59,
      "outputs": [
        {
          "output_type": "execute_result",
          "data": {
            "text/plain": [
              "[<matplotlib.lines.Line2D at 0x7ff567cadcd0>]"
            ]
          },
          "metadata": {},
          "execution_count": 59
        },
        {
          "output_type": "display_data",
          "data": {
            "image/png": "[encoded data removed]",
            "text/plain": [
              "<Figure size 432x288 with 1 Axes>"
            ]
          },
          "metadata": {
            "needs_background": "light"
          }
        }
      ]
    },
    {
      "cell_type": "code",
      "metadata": {
        "id": "fXhgSY8Twg9x",
        "colab": {
          "base_uri": "https://localhost:8080/",
          "height": 297
        },
        "outputId": "6bd3007f-0cc2-4482-e369-101ad3134d88"
      },
      "source": [
        "A6=euler(0,2,20,1,suma6)\n",
        "A6=np.array(A6)\n",
        "\n",
        "B6=heun(0,2,20,1,suma6)\n",
        "B6=np.array(B6)\n",
        "\n",
        "C6=Runge(0,2,20,1,suma6)\n",
        "C6=np.array(C6)\n",
        "\n",
        "plt.scatter(A6[:,0], A6[:,1], color = 'blue', label='Euler')\n",
        "\n",
        "plt.scatter(B6[:,0], B6[:,1], color = 'purple', label='Heun')\n",
        "\n",
        "plt.scatter(C6[:,0], C6[:,1], color = 'red', label='Runge')\n",
        "\n",
        "TE6 = np.linspace(0, 2, 21) #graficar poligonal Euler\n",
        "YE6 = list(A6[:,1])\n",
        "plt.plot(TE6, YE6)\n",
        "\n",
        "TH6 = np.linspace(0, 2, 21) #graficar poligonal Heun\n",
        "YH6 = list(B6[:,1])\n",
        "plt.plot(TH6, YH6)\n",
        "\n",
        "TR6 = np.linspace(0, 2, 21) #graficar poligonal Runge\n",
        "YR6 = list(C6[:,1])\n",
        "plt.plot(TR6, YR6)\n",
        "\n",
        "t = np.linspace(0,2,100) #Graficar solución analítica\n",
        "y= np.exp(-10*t)\n",
        "plt.plot(t, y)\n",
        "\n",
        "plt.title('Heun vs Euler vs Runge') #titulo de la grafica\n",
        "plt.xlabel('$t$') #nombra los ejes\n",
        "plt.ylabel('$f(t)$')\n",
        "plt.legend()\n",
        "plt.show()"
      ],
      "execution_count": 60,
      "outputs": [
        {
          "output_type": "display_data",
          "data": {
            "image/png": "[encoded data removed]",
            "text/plain": [
              "<Figure size 432x288 with 1 Axes>"
            ]
          },
          "metadata": {
            "needs_background": "light"
          }
        }
      ]
    },
    {
      "cell_type": "markdown",
      "metadata": {
        "id": "bCNvW49kxYVf"
      },
      "source": [
        "Se ve claramente que el módelo de Euler baja abruptamente en el segundo punto cuando no debería ser así.\n",
        "\n",
        "A continuación cambiaremos el dato h para todos con h=0.02"
      ]
    },
    {
      "cell_type": "code",
      "metadata": {
        "id": "5s2JPG1KyED0",
        "colab": {
          "base_uri": "https://localhost:8080/",
          "height": 297
        },
        "outputId": "6df3f963-16f5-4ac4-bc1f-2c597962b2d1"
      },
      "source": [
        "A61=euler(0,2,100,1,suma6)\n",
        "A61=np.array(A61)\n",
        "\n",
        "B61=heun(0,2,100,1,suma6)\n",
        "B61=np.array(B61)\n",
        "\n",
        "C61=Runge(0,2,100,1,suma6)\n",
        "C61=np.array(C61)\n",
        "\n",
        "plt.scatter(A61[:,0], A61[:,1], color = 'blue', label='Euler')\n",
        "\n",
        "plt.scatter(B61[:,0], B61[:,1], color = 'purple', label='Heun')\n",
        "\n",
        "plt.scatter(C61[:,0], C61[:,1], color = 'red', label='Runge')\n",
        "\n",
        "TE61 = np.linspace(0, 2, 101) #graficar poligonal Euler\n",
        "YE61 = list(A61[:,1])\n",
        "plt.plot(TE61, YE61)\n",
        "\n",
        "TH61 = np.linspace(0, 2, 101) #graficar poligonal Heun\n",
        "YH61 = list(B61[:,1])\n",
        "plt.plot(TH61, YH61)\n",
        "\n",
        "TR61 = np.linspace(0, 2, 101) #graficar poligonal Runge\n",
        "YR61 = list(C61[:,1])\n",
        "plt.plot(TR61, YR61)\n",
        "\n",
        "t = np.linspace(0,2,100) #Graficar solución analítica\n",
        "y= np.exp(-10*t)\n",
        "plt.plot(t, y)\n",
        "\n",
        "plt.title('Heun vs Euler vs Runge') #titulo de la grafica\n",
        "plt.xlabel('$t$') #nombra los ejes\n",
        "plt.ylabel('$f(t)$')\n",
        "plt.legend()\n",
        "plt.show()"
      ],
      "execution_count": 61,
      "outputs": [
        {
          "output_type": "display_data",
          "data": {
            "image/png": "[encoded data removed]",
            "text/plain": [
              "<Figure size 432x288 with 1 Axes>"
            ]
          },
          "metadata": {
            "needs_background": "light"
          }
        }
      ]
    },
    {
      "cell_type": "markdown",
      "metadata": {
        "id": "VuCqJsu2yhfC"
      },
      "source": [
        "En este caso alaumentar el numero de h sí se ve un cambio y mejoría en el módelo de Euler, en este caso no teniendo el cambio abrupto."
      ]
    },
    {
      "cell_type": "markdown",
      "metadata": {
        "id": "-4095x9OCgMz"
      },
      "source": [
        "#################### Punto 4 ################\n",
        "Sabemos que A(x)=π*r^2, entonces debemos hallar cómo varía r según x.\n",
        "\n",
        "Debido a la forma del cono, sabemos que r va a variar de la siguiente forma:\n",
        "\n",
        "r=ro + B*X\n",
        "\n",
        "siendo ro el radio de salida y B la pendiente con la que varía el radio, y esta la podemos hallar con los valores iniciales.\n",
        "\n",
        "V(0)=512*π/3    \n",
        " x(0)=8\n",
        "\n",
        "teniendo en cuenta la ecuación de volumen según su altura:\n",
        "\n",
        "V=π/3*x*(ro^2 + r^2 + ro*r)\n",
        "\n",
        "Reemplazando e igualando a 0\n",
        "\n",
        "r^2 + 0.1 - 63.99 = 0\n",
        "\n",
        "Se hace cuadrática para determinar r en esa altura"
      ]
    },
    {
      "cell_type": "code",
      "metadata": {
        "id": "3BupXMYUFTKq",
        "colab": {
          "base_uri": "https://localhost:8080/",
          "height": 37
        },
        "outputId": "29658829-c85f-424f-9831-3b3338eb07cd"
      },
      "source": [
        "r1=(-0.1+sympy.sqrt((0.1)**2+4*63.99))/2\n",
        "r1"
      ],
      "execution_count": 62,
      "outputs": [
        {
          "output_type": "execute_result",
          "data": {
            "text/latex": "$\\displaystyle 7.94953123626629$",
            "text/plain": [
              "7.94953123626629"
            ]
          },
          "metadata": {},
          "execution_count": 62
        }
      ]
    },
    {
      "cell_type": "markdown",
      "metadata": {
        "id": "40W0-MKIGNKl"
      },
      "source": [
        "Sabemos que B = (r1-ro)/x(0)"
      ]
    },
    {
      "cell_type": "code",
      "metadata": {
        "id": "U-K6Aw_SGx4R",
        "colab": {
          "base_uri": "https://localhost:8080/",
          "height": 37
        },
        "outputId": "fa915ba3-2aca-486b-c39e-02f6133145c1"
      },
      "source": [
        "B=(r1-0.1)/8\n",
        "B"
      ],
      "execution_count": 63,
      "outputs": [
        {
          "output_type": "execute_result",
          "data": {
            "text/latex": "$\\displaystyle 0.981191404533286$",
            "text/plain": [
              "0.981191404533286"
            ]
          },
          "metadata": {},
          "execution_count": 63
        }
      ]
    },
    {
      "cell_type": "markdown",
      "metadata": {
        "id": "eVdEbrzIG-Pf"
      },
      "source": [
        "Por lo tanto, A(x) = π**(ro + B*x)^2"
      ]
    },
    {
      "cell_type": "code",
      "metadata": {
        "id": "TCflJM-MHTe2"
      },
      "source": [
        "def suma7 (t,x):\n",
        "  return -0.006*sympy.sqrt(2*32.1)*sympy.sqrt(x)/((0.1+B*x)**2)"
      ],
      "execution_count": 64,
      "outputs": []
    },
    {
      "cell_type": "code",
      "metadata": {
        "id": "HUBI25vkIqbX",
        "colab": {
          "base_uri": "https://localhost:8080/",
          "height": 63
        },
        "outputId": "3d57199a-6997-40b0-86b4-749fdcab280b"
      },
      "source": [
        "#Solución analítica\n",
        "sympy.init_printing(use_latex='mathjax')# escribe simbolicamente la ecuación diferencial.\n",
        "t = sympy.Symbol('t')\n",
        "x = sympy.Function('x')\n",
        "# expreso la ecuacion\n",
        "f7 = -0.006*sympy.sqrt(2*32.1)*sympy.sqrt((x(t)))/((0.1+B*(x(t)))**2)\n",
        "sympy.Eq(x(t).diff(t), f7)"
      ],
      "execution_count": 65,
      "outputs": [
        {
          "output_type": "execute_result",
          "data": {
            "text/latex": "$\\displaystyle \\frac{d}{d t} x{\\left(t \\right)} = - \\frac{0.0499357174946351 \\sqrt{x{\\left(t \\right)}}}{\\left(x{\\left(t \\right)} + 0.101916914006769\\right)^{2}}$",
            "text/plain": [
              "                                 ______ \n",
              "d          -0.0499357174946351⋅╲╱ x(t)  \n",
              "──(x(t)) = ─────────────────────────────\n",
              "dt                                    2 \n",
              "            (x(t) + 0.101916914006769)  "
            ]
          },
          "metadata": {},
          "execution_count": 65
        }
      ]
    },
    {
      "cell_type": "code",
      "metadata": {
        "id": "CPqxgPpZIqbe",
        "colab": {
          "base_uri": "https://localhost:8080/",
          "height": 408
        },
        "outputId": "13ca93a4-864e-4574-ba94-6c774db631cc"
      },
      "source": [
        "sol= sympy.dsolve(x(t).diff(t)-f7)  #Resuelve la ecuación diferencial\n",
        "ics={ x (0): 8} #condiciones iniciales\n",
        "sol"
      ],
      "execution_count": 66,
      "outputs": [
        {
          "output_type": "error",
          "ename": "PolynomialDivisionFailed",
          "evalue": "ignored",
          "traceback": [
            "\u001b[0;31m---------------------------------------------------------------------------\u001b[0m",
            "\u001b[0;31mPolynomialDivisionFailed\u001b[0m                  Traceback (most recent call last)",
            "\u001b[0;32m<ipython-input-66-67257a0496b4>\u001b[0m in \u001b[0;36m<module>\u001b[0;34m()\u001b[0m\n\u001b[0;32m----> 1\u001b[0;31m \u001b[0msol\u001b[0m\u001b[0;34m=\u001b[0m \u001b[0msympy\u001b[0m\u001b[0;34m.\u001b[0m\u001b[0mdsolve\u001b[0m\u001b[0;34m(\u001b[0m\u001b[0mx\u001b[0m\u001b[0;34m(\u001b[0m\u001b[0mt\u001b[0m\u001b[0;34m)\u001b[0m\u001b[0;34m.\u001b[0m\u001b[0mdiff\u001b[0m\u001b[0;34m(\u001b[0m\u001b[0mt\u001b[0m\u001b[0;34m)\u001b[0m\u001b[0;34m-\u001b[0m\u001b[0mf7\u001b[0m\u001b[0;34m)\u001b[0m  \u001b[0;31m#Resuelve la ecuación diferencial\u001b[0m\u001b[0;34m\u001b[0m\u001b[0;34m\u001b[0m\u001b[0m\n\u001b[0m\u001b[1;32m      2\u001b[0m \u001b[0mics\u001b[0m\u001b[0;34m=\u001b[0m\u001b[0;34m{\u001b[0m \u001b[0mx\u001b[0m \u001b[0;34m(\u001b[0m\u001b[0;36m0\u001b[0m\u001b[0;34m)\u001b[0m\u001b[0;34m:\u001b[0m \u001b[0;36m8\u001b[0m\u001b[0;34m}\u001b[0m \u001b[0;31m#condiciones iniciales\u001b[0m\u001b[0;34m\u001b[0m\u001b[0;34m\u001b[0m\u001b[0m\n\u001b[1;32m      3\u001b[0m \u001b[0msol\u001b[0m\u001b[0;34m\u001b[0m\u001b[0;34m\u001b[0m\u001b[0m\n",
            "\u001b[0;32m/usr/local/lib/python3.7/dist-packages/sympy/solvers/ode/ode.py\u001b[0m in \u001b[0;36mdsolve\u001b[0;34m(eq, func, hint, simplify, ics, xi, eta, x0, n, **kwargs)\u001b[0m\n\u001b[1;32m    629\u001b[0m         hints = _desolve(eq, func=func,\n\u001b[1;32m    630\u001b[0m             \u001b[0mhint\u001b[0m\u001b[0;34m=\u001b[0m\u001b[0mhint\u001b[0m\u001b[0;34m,\u001b[0m \u001b[0msimplify\u001b[0m\u001b[0;34m=\u001b[0m\u001b[0;32mTrue\u001b[0m\u001b[0;34m,\u001b[0m \u001b[0mxi\u001b[0m\u001b[0;34m=\u001b[0m\u001b[0mxi\u001b[0m\u001b[0;34m,\u001b[0m \u001b[0meta\u001b[0m\u001b[0;34m=\u001b[0m\u001b[0meta\u001b[0m\u001b[0;34m,\u001b[0m \u001b[0mtype\u001b[0m\u001b[0;34m=\u001b[0m\u001b[0;34m'ode'\u001b[0m\u001b[0;34m,\u001b[0m \u001b[0mics\u001b[0m\u001b[0;34m=\u001b[0m\u001b[0mics\u001b[0m\u001b[0;34m,\u001b[0m\u001b[0;34m\u001b[0m\u001b[0;34m\u001b[0m\u001b[0m\n\u001b[0;32m--> 631\u001b[0;31m             x0=x0, n=n, **kwargs)\n\u001b[0m\u001b[1;32m    632\u001b[0m         \u001b[0meq\u001b[0m \u001b[0;34m=\u001b[0m \u001b[0mhints\u001b[0m\u001b[0;34m.\u001b[0m\u001b[0mpop\u001b[0m\u001b[0;34m(\u001b[0m\u001b[0;34m'eq'\u001b[0m\u001b[0;34m,\u001b[0m \u001b[0meq\u001b[0m\u001b[0;34m)\u001b[0m\u001b[0;34m\u001b[0m\u001b[0;34m\u001b[0m\u001b[0m\n\u001b[1;32m    633\u001b[0m         \u001b[0mall_\u001b[0m \u001b[0;34m=\u001b[0m \u001b[0mhints\u001b[0m\u001b[0;34m.\u001b[0m\u001b[0mpop\u001b[0m\u001b[0;34m(\u001b[0m\u001b[0;34m'all'\u001b[0m\u001b[0;34m,\u001b[0m \u001b[0;32mFalse\u001b[0m\u001b[0;34m)\u001b[0m\u001b[0;34m\u001b[0m\u001b[0;34m\u001b[0m\u001b[0m\n",
            "\u001b[0;32m/usr/local/lib/python3.7/dist-packages/sympy/solvers/deutils.py\u001b[0m in \u001b[0;36m_desolve\u001b[0;34m(eq, func, hint, ics, simplify, prep, **kwargs)\u001b[0m\n\u001b[1;32m    210\u001b[0m     \u001b[0;32mif\u001b[0m \u001b[0mkwargs\u001b[0m\u001b[0;34m.\u001b[0m\u001b[0mget\u001b[0m\u001b[0;34m(\u001b[0m\u001b[0;34m'classify'\u001b[0m\u001b[0;34m,\u001b[0m \u001b[0;32mTrue\u001b[0m\u001b[0;34m)\u001b[0m\u001b[0;34m:\u001b[0m\u001b[0;34m\u001b[0m\u001b[0;34m\u001b[0m\u001b[0m\n\u001b[1;32m    211\u001b[0m         hints = classifier(eq, func, dict=True, ics=ics, xi=xi, eta=eta,\n\u001b[0;32m--> 212\u001b[0;31m         n=terms, x0=x0, prep=prep)\n\u001b[0m\u001b[1;32m    213\u001b[0m \u001b[0;34m\u001b[0m\u001b[0m\n\u001b[1;32m    214\u001b[0m     \u001b[0;32melse\u001b[0m\u001b[0;34m:\u001b[0m\u001b[0;34m\u001b[0m\u001b[0;34m\u001b[0m\u001b[0m\n",
            "\u001b[0;32m/usr/local/lib/python3.7/dist-packages/sympy/solvers/ode/ode.py\u001b[0m in \u001b[0;36mclassify_ode\u001b[0;34m(eq, func, dict, ics, prep, xi, eta, n, **kwargs)\u001b[0m\n\u001b[1;32m   1131\u001b[0m                             \u001b[0mvariables\u001b[0m \u001b[0;34m=\u001b[0m \u001b[0mfactor\u001b[0m\u001b[0;34m.\u001b[0m\u001b[0mfree_symbols\u001b[0m\u001b[0;34m\u001b[0m\u001b[0;34m\u001b[0m\u001b[0m\n\u001b[1;32m   1132\u001b[0m                             \u001b[0;32mif\u001b[0m \u001b[0mlen\u001b[0m\u001b[0;34m(\u001b[0m\u001b[0mvariables\u001b[0m\u001b[0;34m)\u001b[0m \u001b[0;34m==\u001b[0m \u001b[0;36m1\u001b[0m \u001b[0;32mand\u001b[0m \u001b[0my\u001b[0m \u001b[0;34m==\u001b[0m \u001b[0mvariables\u001b[0m\u001b[0;34m.\u001b[0m\u001b[0mpop\u001b[0m\u001b[0;34m(\u001b[0m\u001b[0;34m)\u001b[0m\u001b[0;34m:\u001b[0m\u001b[0;34m\u001b[0m\u001b[0;34m\u001b[0m\u001b[0m\n\u001b[0;32m-> 1133\u001b[0;31m                                 \u001b[0mfactor\u001b[0m \u001b[0;34m=\u001b[0m \u001b[0mexp\u001b[0m\u001b[0;34m(\u001b[0m\u001b[0mIntegral\u001b[0m\u001b[0;34m(\u001b[0m\u001b[0mfactor\u001b[0m\u001b[0;34m)\u001b[0m\u001b[0;34m.\u001b[0m\u001b[0mdoit\u001b[0m\u001b[0;34m(\u001b[0m\u001b[0;34m)\u001b[0m\u001b[0;34m)\u001b[0m\u001b[0;34m\u001b[0m\u001b[0;34m\u001b[0m\u001b[0m\n\u001b[0m\u001b[1;32m   1134\u001b[0m                                 \u001b[0mr\u001b[0m\u001b[0;34m[\u001b[0m\u001b[0md\u001b[0m\u001b[0;34m]\u001b[0m \u001b[0;34m*=\u001b[0m \u001b[0mfactor\u001b[0m\u001b[0;34m\u001b[0m\u001b[0;34m\u001b[0m\u001b[0m\n\u001b[1;32m   1135\u001b[0m                                 \u001b[0mr\u001b[0m\u001b[0;34m[\u001b[0m\u001b[0me\u001b[0m\u001b[0;34m]\u001b[0m \u001b[0;34m*=\u001b[0m \u001b[0mfactor\u001b[0m\u001b[0;34m\u001b[0m\u001b[0;34m\u001b[0m\u001b[0m\n",
            "\u001b[0;32m/usr/local/lib/python3.7/dist-packages/sympy/integrals/integrals.py\u001b[0m in \u001b[0;36mdoit\u001b[0;34m(self, **hints)\u001b[0m\n\u001b[1;32m    592\u001b[0m                 \u001b[0;32melse\u001b[0m\u001b[0;34m:\u001b[0m\u001b[0;34m\u001b[0m\u001b[0;34m\u001b[0m\u001b[0m\n\u001b[1;32m    593\u001b[0m                     antideriv = self._eval_integral(\n\u001b[0;32m--> 594\u001b[0;31m                         function, xab[0], **eval_kwargs)\n\u001b[0m\u001b[1;32m    595\u001b[0m                     \u001b[0;32mif\u001b[0m \u001b[0mantideriv\u001b[0m \u001b[0;32mis\u001b[0m \u001b[0;32mNone\u001b[0m \u001b[0;32mand\u001b[0m \u001b[0mmeijerg\u001b[0m \u001b[0;32mis\u001b[0m \u001b[0;32mTrue\u001b[0m\u001b[0;34m:\u001b[0m\u001b[0;34m\u001b[0m\u001b[0;34m\u001b[0m\u001b[0m\n\u001b[1;32m    596\u001b[0m                         \u001b[0mret\u001b[0m \u001b[0;34m=\u001b[0m \u001b[0mtry_meijerg\u001b[0m\u001b[0;34m(\u001b[0m\u001b[0mfunction\u001b[0m\u001b[0;34m,\u001b[0m \u001b[0mxab\u001b[0m\u001b[0;34m)\u001b[0m\u001b[0;34m\u001b[0m\u001b[0;34m\u001b[0m\u001b[0m\n",
            "\u001b[0;32m/usr/local/lib/python3.7/dist-packages/sympy/integrals/integrals.py\u001b[0m in \u001b[0;36m_eval_integral\u001b[0;34m(self, f, x, meijerg, risch, manual, heurisch, conds)\u001b[0m\n\u001b[1;32m    928\u001b[0m             \u001b[0;32mtry\u001b[0m\u001b[0;34m:\u001b[0m\u001b[0;34m\u001b[0m\u001b[0;34m\u001b[0m\u001b[0m\n\u001b[1;32m    929\u001b[0m                 result, i = risch_integrate(f, x, separate_integral=True,\n\u001b[0;32m--> 930\u001b[0;31m                     conds=conds)\n\u001b[0m\u001b[1;32m    931\u001b[0m             \u001b[0;32mexcept\u001b[0m \u001b[0mNotImplementedError\u001b[0m\u001b[0;34m:\u001b[0m\u001b[0;34m\u001b[0m\u001b[0;34m\u001b[0m\u001b[0m\n\u001b[1;32m    932\u001b[0m                 \u001b[0;32mpass\u001b[0m\u001b[0;34m\u001b[0m\u001b[0;34m\u001b[0m\u001b[0m\n",
            "\u001b[0;32m/usr/local/lib/python3.7/dist-packages/sympy/integrals/risch.py\u001b[0m in \u001b[0;36mrisch_integrate\u001b[0;34m(f, x, extension, handle_first, separate_integral, rewrite_complex, conds)\u001b[0m\n\u001b[1;32m   1754\u001b[0m             \u001b[0;31m# XXX: We can't call ratint() directly here because it doesn't\u001b[0m\u001b[0;34m\u001b[0m\u001b[0;34m\u001b[0m\u001b[0;34m\u001b[0m\u001b[0m\n\u001b[1;32m   1755\u001b[0m             \u001b[0;31m# handle polynomials correctly.\u001b[0m\u001b[0;34m\u001b[0m\u001b[0;34m\u001b[0m\u001b[0;34m\u001b[0m\u001b[0m\n\u001b[0;32m-> 1756\u001b[0;31m             \u001b[0mans\u001b[0m \u001b[0;34m=\u001b[0m \u001b[0mintegrate\u001b[0m\u001b[0;34m(\u001b[0m\u001b[0mfa\u001b[0m\u001b[0;34m.\u001b[0m\u001b[0mas_expr\u001b[0m\u001b[0;34m(\u001b[0m\u001b[0;34m)\u001b[0m\u001b[0;34m/\u001b[0m\u001b[0mfd\u001b[0m\u001b[0;34m.\u001b[0m\u001b[0mas_expr\u001b[0m\u001b[0;34m(\u001b[0m\u001b[0;34m)\u001b[0m\u001b[0;34m,\u001b[0m \u001b[0mDE\u001b[0m\u001b[0;34m.\u001b[0m\u001b[0mx\u001b[0m\u001b[0;34m,\u001b[0m \u001b[0mrisch\u001b[0m\u001b[0;34m=\u001b[0m\u001b[0;32mFalse\u001b[0m\u001b[0;34m)\u001b[0m\u001b[0;34m\u001b[0m\u001b[0;34m\u001b[0m\u001b[0m\n\u001b[0m\u001b[1;32m   1757\u001b[0m             \u001b[0mb\u001b[0m \u001b[0;34m=\u001b[0m \u001b[0;32mFalse\u001b[0m\u001b[0;34m\u001b[0m\u001b[0;34m\u001b[0m\u001b[0m\n\u001b[1;32m   1758\u001b[0m             \u001b[0mi\u001b[0m \u001b[0;34m=\u001b[0m \u001b[0mS\u001b[0m\u001b[0;34m.\u001b[0m\u001b[0mZero\u001b[0m\u001b[0;34m\u001b[0m\u001b[0;34m\u001b[0m\u001b[0m\n",
            "\u001b[0;32m/usr/local/lib/python3.7/dist-packages/sympy/integrals/integrals.py\u001b[0m in \u001b[0;36mintegrate\u001b[0;34m(meijerg, conds, risch, heurisch, manual, *args, **kwargs)\u001b[0m\n\u001b[1;32m   1542\u001b[0m \u001b[0;34m\u001b[0m\u001b[0m\n\u001b[1;32m   1543\u001b[0m     \u001b[0;32mif\u001b[0m \u001b[0misinstance\u001b[0m\u001b[0;34m(\u001b[0m\u001b[0mintegral\u001b[0m\u001b[0;34m,\u001b[0m \u001b[0mIntegral\u001b[0m\u001b[0;34m)\u001b[0m\u001b[0;34m:\u001b[0m\u001b[0;34m\u001b[0m\u001b[0;34m\u001b[0m\u001b[0m\n\u001b[0;32m-> 1544\u001b[0;31m         \u001b[0;32mreturn\u001b[0m \u001b[0mintegral\u001b[0m\u001b[0;34m.\u001b[0m\u001b[0mdoit\u001b[0m\u001b[0;34m(\u001b[0m\u001b[0;34m**\u001b[0m\u001b[0mdoit_flags\u001b[0m\u001b[0;34m)\u001b[0m\u001b[0;34m\u001b[0m\u001b[0;34m\u001b[0m\u001b[0m\n\u001b[0m\u001b[1;32m   1545\u001b[0m     \u001b[0;32melse\u001b[0m\u001b[0;34m:\u001b[0m\u001b[0;34m\u001b[0m\u001b[0;34m\u001b[0m\u001b[0m\n\u001b[1;32m   1546\u001b[0m         new_args = [a.doit(**doit_flags) if isinstance(a, Integral) else a\n",
            "\u001b[0;32m/usr/local/lib/python3.7/dist-packages/sympy/integrals/integrals.py\u001b[0m in \u001b[0;36mdoit\u001b[0;34m(self, **hints)\u001b[0m\n\u001b[1;32m    592\u001b[0m                 \u001b[0;32melse\u001b[0m\u001b[0;34m:\u001b[0m\u001b[0;34m\u001b[0m\u001b[0;34m\u001b[0m\u001b[0m\n\u001b[1;32m    593\u001b[0m                     antideriv = self._eval_integral(\n\u001b[0;32m--> 594\u001b[0;31m                         function, xab[0], **eval_kwargs)\n\u001b[0m\u001b[1;32m    595\u001b[0m                     \u001b[0;32mif\u001b[0m \u001b[0mantideriv\u001b[0m \u001b[0;32mis\u001b[0m \u001b[0;32mNone\u001b[0m \u001b[0;32mand\u001b[0m \u001b[0mmeijerg\u001b[0m \u001b[0;32mis\u001b[0m \u001b[0;32mTrue\u001b[0m\u001b[0;34m:\u001b[0m\u001b[0;34m\u001b[0m\u001b[0;34m\u001b[0m\u001b[0m\n\u001b[1;32m    596\u001b[0m                         \u001b[0mret\u001b[0m \u001b[0;34m=\u001b[0m \u001b[0mtry_meijerg\u001b[0m\u001b[0;34m(\u001b[0m\u001b[0mfunction\u001b[0m\u001b[0;34m,\u001b[0m \u001b[0mxab\u001b[0m\u001b[0;34m)\u001b[0m\u001b[0;34m\u001b[0m\u001b[0;34m\u001b[0m\u001b[0m\n",
            "\u001b[0;32m/usr/local/lib/python3.7/dist-packages/sympy/integrals/integrals.py\u001b[0m in \u001b[0;36m_eval_integral\u001b[0;34m(self, f, x, meijerg, risch, manual, heurisch, conds)\u001b[0m\n\u001b[1;32m   1013\u001b[0m             \u001b[0;31m#        poly(x)\u001b[0m\u001b[0;34m\u001b[0m\u001b[0;34m\u001b[0m\u001b[0;34m\u001b[0m\u001b[0m\n\u001b[1;32m   1014\u001b[0m             \u001b[0;32mif\u001b[0m \u001b[0mg\u001b[0m\u001b[0;34m.\u001b[0m\u001b[0mis_rational_function\u001b[0m\u001b[0;34m(\u001b[0m\u001b[0mx\u001b[0m\u001b[0;34m)\u001b[0m \u001b[0;32mand\u001b[0m \u001b[0;32mnot\u001b[0m \u001b[0;34m(\u001b[0m\u001b[0mmanual\u001b[0m \u001b[0;32mor\u001b[0m \u001b[0mmeijerg\u001b[0m \u001b[0;32mor\u001b[0m \u001b[0mrisch\u001b[0m\u001b[0;34m)\u001b[0m\u001b[0;34m:\u001b[0m\u001b[0;34m\u001b[0m\u001b[0;34m\u001b[0m\u001b[0m\n\u001b[0;32m-> 1015\u001b[0;31m                 \u001b[0mparts\u001b[0m\u001b[0;34m.\u001b[0m\u001b[0mappend\u001b[0m\u001b[0;34m(\u001b[0m\u001b[0mcoeff\u001b[0m \u001b[0;34m*\u001b[0m \u001b[0mratint\u001b[0m\u001b[0;34m(\u001b[0m\u001b[0mg\u001b[0m\u001b[0;34m,\u001b[0m \u001b[0mx\u001b[0m\u001b[0;34m)\u001b[0m\u001b[0;34m)\u001b[0m\u001b[0;34m\u001b[0m\u001b[0;34m\u001b[0m\u001b[0m\n\u001b[0m\u001b[1;32m   1016\u001b[0m                 \u001b[0;32mcontinue\u001b[0m\u001b[0;34m\u001b[0m\u001b[0;34m\u001b[0m\u001b[0m\n\u001b[1;32m   1017\u001b[0m \u001b[0;34m\u001b[0m\u001b[0m\n",
            "\u001b[0;32m/usr/local/lib/python3.7/dist-packages/sympy/integrals/rationaltools.py\u001b[0m in \u001b[0;36mratint\u001b[0;34m(f, x, **flags)\u001b[0m\n\u001b[1;32m     68\u001b[0m             \u001b[0mt\u001b[0m \u001b[0;34m=\u001b[0m \u001b[0msymbol\u001b[0m\u001b[0;34m.\u001b[0m\u001b[0mas_dummy\u001b[0m\u001b[0;34m(\u001b[0m\u001b[0;34m)\u001b[0m\u001b[0;34m\u001b[0m\u001b[0;34m\u001b[0m\u001b[0m\n\u001b[1;32m     69\u001b[0m \u001b[0;34m\u001b[0m\u001b[0m\n\u001b[0;32m---> 70\u001b[0;31m         \u001b[0mL\u001b[0m \u001b[0;34m=\u001b[0m \u001b[0mratint_logpart\u001b[0m\u001b[0;34m(\u001b[0m\u001b[0mr\u001b[0m\u001b[0;34m,\u001b[0m \u001b[0mQ\u001b[0m\u001b[0;34m,\u001b[0m \u001b[0mx\u001b[0m\u001b[0;34m,\u001b[0m \u001b[0mt\u001b[0m\u001b[0;34m)\u001b[0m\u001b[0;34m\u001b[0m\u001b[0;34m\u001b[0m\u001b[0m\n\u001b[0m\u001b[1;32m     71\u001b[0m \u001b[0;34m\u001b[0m\u001b[0m\n\u001b[1;32m     72\u001b[0m         \u001b[0mreal\u001b[0m \u001b[0;34m=\u001b[0m \u001b[0mflags\u001b[0m\u001b[0;34m.\u001b[0m\u001b[0mget\u001b[0m\u001b[0;34m(\u001b[0m\u001b[0;34m'real'\u001b[0m\u001b[0;34m)\u001b[0m\u001b[0;34m\u001b[0m\u001b[0;34m\u001b[0m\u001b[0m\n",
            "\u001b[0;32m/usr/local/lib/python3.7/dist-packages/sympy/integrals/rationaltools.py\u001b[0m in \u001b[0;36mratint_logpart\u001b[0;34m(f, g, x, t)\u001b[0m\n\u001b[1;32m    210\u001b[0m     \u001b[0ma\u001b[0m\u001b[0;34m,\u001b[0m \u001b[0mb\u001b[0m \u001b[0;34m=\u001b[0m \u001b[0mg\u001b[0m\u001b[0;34m,\u001b[0m \u001b[0mf\u001b[0m \u001b[0;34m-\u001b[0m \u001b[0mg\u001b[0m\u001b[0;34m.\u001b[0m\u001b[0mdiff\u001b[0m\u001b[0;34m(\u001b[0m\u001b[0;34m)\u001b[0m\u001b[0;34m*\u001b[0m\u001b[0mPoly\u001b[0m\u001b[0;34m(\u001b[0m\u001b[0mt\u001b[0m\u001b[0;34m,\u001b[0m \u001b[0mx\u001b[0m\u001b[0;34m)\u001b[0m\u001b[0;34m\u001b[0m\u001b[0;34m\u001b[0m\u001b[0m\n\u001b[1;32m    211\u001b[0m \u001b[0;34m\u001b[0m\u001b[0m\n\u001b[0;32m--> 212\u001b[0;31m     \u001b[0mres\u001b[0m\u001b[0;34m,\u001b[0m \u001b[0mR\u001b[0m \u001b[0;34m=\u001b[0m \u001b[0mresultant\u001b[0m\u001b[0;34m(\u001b[0m\u001b[0ma\u001b[0m\u001b[0;34m,\u001b[0m \u001b[0mb\u001b[0m\u001b[0;34m,\u001b[0m \u001b[0mincludePRS\u001b[0m\u001b[0;34m=\u001b[0m\u001b[0;32mTrue\u001b[0m\u001b[0;34m)\u001b[0m\u001b[0;34m\u001b[0m\u001b[0;34m\u001b[0m\u001b[0m\n\u001b[0m\u001b[1;32m    213\u001b[0m     \u001b[0mres\u001b[0m \u001b[0;34m=\u001b[0m \u001b[0mPoly\u001b[0m\u001b[0;34m(\u001b[0m\u001b[0mres\u001b[0m\u001b[0;34m,\u001b[0m \u001b[0mt\u001b[0m\u001b[0;34m,\u001b[0m \u001b[0mcomposite\u001b[0m\u001b[0;34m=\u001b[0m\u001b[0;32mFalse\u001b[0m\u001b[0;34m)\u001b[0m\u001b[0;34m\u001b[0m\u001b[0;34m\u001b[0m\u001b[0m\n\u001b[1;32m    214\u001b[0m \u001b[0;34m\u001b[0m\u001b[0m\n",
            "\u001b[0;32m/usr/local/lib/python3.7/dist-packages/sympy/polys/polytools.py\u001b[0m in \u001b[0;36mresultant\u001b[0;34m(f, g, includePRS, *gens, **args)\u001b[0m\n\u001b[1;32m   5088\u001b[0m \u001b[0;34m\u001b[0m\u001b[0m\n\u001b[1;32m   5089\u001b[0m     \u001b[0;32mif\u001b[0m \u001b[0mincludePRS\u001b[0m\u001b[0;34m:\u001b[0m\u001b[0;34m\u001b[0m\u001b[0;34m\u001b[0m\u001b[0m\n\u001b[0;32m-> 5090\u001b[0;31m         \u001b[0mresult\u001b[0m\u001b[0;34m,\u001b[0m \u001b[0mR\u001b[0m \u001b[0;34m=\u001b[0m \u001b[0mF\u001b[0m\u001b[0;34m.\u001b[0m\u001b[0mresultant\u001b[0m\u001b[0;34m(\u001b[0m\u001b[0mG\u001b[0m\u001b[0;34m,\u001b[0m \u001b[0mincludePRS\u001b[0m\u001b[0;34m=\u001b[0m\u001b[0mincludePRS\u001b[0m\u001b[0;34m)\u001b[0m\u001b[0;34m\u001b[0m\u001b[0;34m\u001b[0m\u001b[0m\n\u001b[0m\u001b[1;32m   5091\u001b[0m     \u001b[0;32melse\u001b[0m\u001b[0;34m:\u001b[0m\u001b[0;34m\u001b[0m\u001b[0;34m\u001b[0m\u001b[0m\n\u001b[1;32m   5092\u001b[0m         \u001b[0mresult\u001b[0m \u001b[0;34m=\u001b[0m \u001b[0mF\u001b[0m\u001b[0;34m.\u001b[0m\u001b[0mresultant\u001b[0m\u001b[0;34m(\u001b[0m\u001b[0mG\u001b[0m\u001b[0;34m)\u001b[0m\u001b[0;34m\u001b[0m\u001b[0;34m\u001b[0m\u001b[0m\n",
            "\u001b[0;32m/usr/local/lib/python3.7/dist-packages/sympy/polys/polytools.py\u001b[0m in \u001b[0;36mresultant\u001b[0;34m(f, g, includePRS)\u001b[0m\n\u001b[1;32m   2653\u001b[0m         \u001b[0;32mif\u001b[0m \u001b[0mhasattr\u001b[0m\u001b[0;34m(\u001b[0m\u001b[0mf\u001b[0m\u001b[0;34m.\u001b[0m\u001b[0mrep\u001b[0m\u001b[0;34m,\u001b[0m \u001b[0;34m'resultant'\u001b[0m\u001b[0;34m)\u001b[0m\u001b[0;34m:\u001b[0m\u001b[0;34m\u001b[0m\u001b[0;34m\u001b[0m\u001b[0m\n\u001b[1;32m   2654\u001b[0m             \u001b[0;32mif\u001b[0m \u001b[0mincludePRS\u001b[0m\u001b[0;34m:\u001b[0m\u001b[0;34m\u001b[0m\u001b[0;34m\u001b[0m\u001b[0m\n\u001b[0;32m-> 2655\u001b[0;31m                 \u001b[0mresult\u001b[0m\u001b[0;34m,\u001b[0m \u001b[0mR\u001b[0m \u001b[0;34m=\u001b[0m \u001b[0mF\u001b[0m\u001b[0;34m.\u001b[0m\u001b[0mresultant\u001b[0m\u001b[0;34m(\u001b[0m\u001b[0mG\u001b[0m\u001b[0;34m,\u001b[0m \u001b[0mincludePRS\u001b[0m\u001b[0;34m=\u001b[0m\u001b[0mincludePRS\u001b[0m\u001b[0;34m)\u001b[0m\u001b[0;34m\u001b[0m\u001b[0;34m\u001b[0m\u001b[0m\n\u001b[0m\u001b[1;32m   2656\u001b[0m             \u001b[0;32melse\u001b[0m\u001b[0;34m:\u001b[0m\u001b[0;34m\u001b[0m\u001b[0;34m\u001b[0m\u001b[0m\n\u001b[1;32m   2657\u001b[0m                 \u001b[0mresult\u001b[0m \u001b[0;34m=\u001b[0m \u001b[0mF\u001b[0m\u001b[0;34m.\u001b[0m\u001b[0mresultant\u001b[0m\u001b[0;34m(\u001b[0m\u001b[0mG\u001b[0m\u001b[0;34m)\u001b[0m\u001b[0;34m\u001b[0m\u001b[0;34m\u001b[0m\u001b[0m\n",
            "\u001b[0;32m/usr/local/lib/python3.7/dist-packages/sympy/polys/polyclasses.py\u001b[0m in \u001b[0;36mresultant\u001b[0;34m(f, g, includePRS)\u001b[0m\n\u001b[1;32m    663\u001b[0m         \u001b[0mlev\u001b[0m\u001b[0;34m,\u001b[0m \u001b[0mdom\u001b[0m\u001b[0;34m,\u001b[0m \u001b[0mper\u001b[0m\u001b[0;34m,\u001b[0m \u001b[0mF\u001b[0m\u001b[0;34m,\u001b[0m \u001b[0mG\u001b[0m \u001b[0;34m=\u001b[0m \u001b[0mf\u001b[0m\u001b[0;34m.\u001b[0m\u001b[0munify\u001b[0m\u001b[0;34m(\u001b[0m\u001b[0mg\u001b[0m\u001b[0;34m)\u001b[0m\u001b[0;34m\u001b[0m\u001b[0;34m\u001b[0m\u001b[0m\n\u001b[1;32m    664\u001b[0m         \u001b[0;32mif\u001b[0m \u001b[0mincludePRS\u001b[0m\u001b[0;34m:\u001b[0m\u001b[0;34m\u001b[0m\u001b[0;34m\u001b[0m\u001b[0m\n\u001b[0;32m--> 665\u001b[0;31m             \u001b[0mres\u001b[0m\u001b[0;34m,\u001b[0m \u001b[0mR\u001b[0m \u001b[0;34m=\u001b[0m \u001b[0mdmp_resultant\u001b[0m\u001b[0;34m(\u001b[0m\u001b[0mF\u001b[0m\u001b[0;34m,\u001b[0m \u001b[0mG\u001b[0m\u001b[0;34m,\u001b[0m \u001b[0mlev\u001b[0m\u001b[0;34m,\u001b[0m \u001b[0mdom\u001b[0m\u001b[0;34m,\u001b[0m \u001b[0mincludePRS\u001b[0m\u001b[0;34m=\u001b[0m\u001b[0mincludePRS\u001b[0m\u001b[0;34m)\u001b[0m\u001b[0;34m\u001b[0m\u001b[0;34m\u001b[0m\u001b[0m\n\u001b[0m\u001b[1;32m    666\u001b[0m             \u001b[0;32mreturn\u001b[0m \u001b[0mper\u001b[0m\u001b[0;34m(\u001b[0m\u001b[0mres\u001b[0m\u001b[0;34m,\u001b[0m \u001b[0mkill\u001b[0m\u001b[0;34m=\u001b[0m\u001b[0;32mTrue\u001b[0m\u001b[0;34m)\u001b[0m\u001b[0;34m,\u001b[0m \u001b[0mlist\u001b[0m\u001b[0;34m(\u001b[0m\u001b[0mmap\u001b[0m\u001b[0;34m(\u001b[0m\u001b[0mper\u001b[0m\u001b[0;34m,\u001b[0m \u001b[0mR\u001b[0m\u001b[0;34m)\u001b[0m\u001b[0;34m)\u001b[0m\u001b[0;34m\u001b[0m\u001b[0;34m\u001b[0m\u001b[0m\n\u001b[1;32m    667\u001b[0m         \u001b[0;32mreturn\u001b[0m \u001b[0mper\u001b[0m\u001b[0;34m(\u001b[0m\u001b[0mdmp_resultant\u001b[0m\u001b[0;34m(\u001b[0m\u001b[0mF\u001b[0m\u001b[0;34m,\u001b[0m \u001b[0mG\u001b[0m\u001b[0;34m,\u001b[0m \u001b[0mlev\u001b[0m\u001b[0;34m,\u001b[0m \u001b[0mdom\u001b[0m\u001b[0;34m)\u001b[0m\u001b[0;34m,\u001b[0m \u001b[0mkill\u001b[0m\u001b[0;34m=\u001b[0m\u001b[0;32mTrue\u001b[0m\u001b[0;34m)\u001b[0m\u001b[0;34m\u001b[0m\u001b[0;34m\u001b[0m\u001b[0m\n",
            "\u001b[0;32m/usr/local/lib/python3.7/dist-packages/sympy/polys/euclidtools.py\u001b[0m in \u001b[0;36mdmp_resultant\u001b[0;34m(f, g, u, K, includePRS)\u001b[0m\n\u001b[1;32m    785\u001b[0m     \"\"\"\n\u001b[1;32m    786\u001b[0m     \u001b[0;32mif\u001b[0m \u001b[0;32mnot\u001b[0m \u001b[0mu\u001b[0m\u001b[0;34m:\u001b[0m\u001b[0;34m\u001b[0m\u001b[0;34m\u001b[0m\u001b[0m\n\u001b[0;32m--> 787\u001b[0;31m         \u001b[0;32mreturn\u001b[0m \u001b[0mdup_resultant\u001b[0m\u001b[0;34m(\u001b[0m\u001b[0mf\u001b[0m\u001b[0;34m,\u001b[0m \u001b[0mg\u001b[0m\u001b[0;34m,\u001b[0m \u001b[0mK\u001b[0m\u001b[0;34m,\u001b[0m \u001b[0mincludePRS\u001b[0m\u001b[0;34m=\u001b[0m\u001b[0mincludePRS\u001b[0m\u001b[0;34m)\u001b[0m\u001b[0;34m\u001b[0m\u001b[0;34m\u001b[0m\u001b[0m\n\u001b[0m\u001b[1;32m    788\u001b[0m \u001b[0;34m\u001b[0m\u001b[0m\n\u001b[1;32m    789\u001b[0m     \u001b[0;32mif\u001b[0m \u001b[0mincludePRS\u001b[0m\u001b[0;34m:\u001b[0m\u001b[0;34m\u001b[0m\u001b[0;34m\u001b[0m\u001b[0m\n",
            "\u001b[0;32m/usr/local/lib/python3.7/dist-packages/sympy/polys/euclidtools.py\u001b[0m in \u001b[0;36mdup_resultant\u001b[0;34m(f, g, K, includePRS)\u001b[0m\n\u001b[1;32m    444\u001b[0m     \"\"\"\n\u001b[1;32m    445\u001b[0m     \u001b[0;32mif\u001b[0m \u001b[0mincludePRS\u001b[0m\u001b[0;34m:\u001b[0m\u001b[0;34m\u001b[0m\u001b[0;34m\u001b[0m\u001b[0m\n\u001b[0;32m--> 446\u001b[0;31m         \u001b[0;32mreturn\u001b[0m \u001b[0mdup_prs_resultant\u001b[0m\u001b[0;34m(\u001b[0m\u001b[0mf\u001b[0m\u001b[0;34m,\u001b[0m \u001b[0mg\u001b[0m\u001b[0;34m,\u001b[0m \u001b[0mK\u001b[0m\u001b[0;34m)\u001b[0m\u001b[0;34m\u001b[0m\u001b[0;34m\u001b[0m\u001b[0m\n\u001b[0m\u001b[1;32m    447\u001b[0m     \u001b[0;32mreturn\u001b[0m \u001b[0mdup_prs_resultant\u001b[0m\u001b[0;34m(\u001b[0m\u001b[0mf\u001b[0m\u001b[0;34m,\u001b[0m \u001b[0mg\u001b[0m\u001b[0;34m,\u001b[0m \u001b[0mK\u001b[0m\u001b[0;34m)\u001b[0m\u001b[0;34m[\u001b[0m\u001b[0;36m0\u001b[0m\u001b[0;34m]\u001b[0m\u001b[0;34m\u001b[0m\u001b[0;34m\u001b[0m\u001b[0m\n\u001b[1;32m    448\u001b[0m \u001b[0;34m\u001b[0m\u001b[0m\n",
            "\u001b[0;32m/usr/local/lib/python3.7/dist-packages/sympy/polys/euclidtools.py\u001b[0m in \u001b[0;36mdup_prs_resultant\u001b[0;34m(f, g, K)\u001b[0m\n\u001b[1;32m    421\u001b[0m         \u001b[0;32mreturn\u001b[0m \u001b[0;34m(\u001b[0m\u001b[0mK\u001b[0m\u001b[0;34m.\u001b[0m\u001b[0mzero\u001b[0m\u001b[0;34m,\u001b[0m \u001b[0;34m[\u001b[0m\u001b[0;34m]\u001b[0m\u001b[0;34m)\u001b[0m\u001b[0;34m\u001b[0m\u001b[0;34m\u001b[0m\u001b[0m\n\u001b[1;32m    422\u001b[0m \u001b[0;34m\u001b[0m\u001b[0m\n\u001b[0;32m--> 423\u001b[0;31m     \u001b[0mR\u001b[0m\u001b[0;34m,\u001b[0m \u001b[0mS\u001b[0m \u001b[0;34m=\u001b[0m \u001b[0mdup_inner_subresultants\u001b[0m\u001b[0;34m(\u001b[0m\u001b[0mf\u001b[0m\u001b[0;34m,\u001b[0m \u001b[0mg\u001b[0m\u001b[0;34m,\u001b[0m \u001b[0mK\u001b[0m\u001b[0;34m)\u001b[0m\u001b[0;34m\u001b[0m\u001b[0;34m\u001b[0m\u001b[0m\n\u001b[0m\u001b[1;32m    424\u001b[0m \u001b[0;34m\u001b[0m\u001b[0m\n\u001b[1;32m    425\u001b[0m     \u001b[0;32mif\u001b[0m \u001b[0mdup_degree\u001b[0m\u001b[0;34m(\u001b[0m\u001b[0mR\u001b[0m\u001b[0;34m[\u001b[0m\u001b[0;34m-\u001b[0m\u001b[0;36m1\u001b[0m\u001b[0;34m]\u001b[0m\u001b[0;34m)\u001b[0m \u001b[0;34m>\u001b[0m \u001b[0;36m0\u001b[0m\u001b[0;34m:\u001b[0m\u001b[0;34m\u001b[0m\u001b[0;34m\u001b[0m\u001b[0m\n",
            "\u001b[0;32m/usr/local/lib/python3.7/dist-packages/sympy/polys/euclidtools.py\u001b[0m in \u001b[0;36mdup_inner_subresultants\u001b[0;34m(f, g, K)\u001b[0m\n\u001b[1;32m    371\u001b[0m         \u001b[0mb\u001b[0m \u001b[0;34m=\u001b[0m \u001b[0;34m-\u001b[0m\u001b[0mlc\u001b[0m \u001b[0;34m*\u001b[0m \u001b[0mc\u001b[0m\u001b[0;34m**\u001b[0m\u001b[0md\u001b[0m\u001b[0;34m\u001b[0m\u001b[0;34m\u001b[0m\u001b[0m\n\u001b[1;32m    372\u001b[0m \u001b[0;34m\u001b[0m\u001b[0m\n\u001b[0;32m--> 373\u001b[0;31m         \u001b[0mh\u001b[0m \u001b[0;34m=\u001b[0m \u001b[0mdup_prem\u001b[0m\u001b[0;34m(\u001b[0m\u001b[0mf\u001b[0m\u001b[0;34m,\u001b[0m \u001b[0mg\u001b[0m\u001b[0;34m,\u001b[0m \u001b[0mK\u001b[0m\u001b[0;34m)\u001b[0m\u001b[0;34m\u001b[0m\u001b[0;34m\u001b[0m\u001b[0m\n\u001b[0m\u001b[1;32m    374\u001b[0m         \u001b[0mh\u001b[0m \u001b[0;34m=\u001b[0m \u001b[0mdup_quo_ground\u001b[0m\u001b[0;34m(\u001b[0m\u001b[0mh\u001b[0m\u001b[0;34m,\u001b[0m \u001b[0mb\u001b[0m\u001b[0;34m,\u001b[0m \u001b[0mK\u001b[0m\u001b[0;34m)\u001b[0m\u001b[0;34m\u001b[0m\u001b[0;34m\u001b[0m\u001b[0m\n\u001b[1;32m    375\u001b[0m \u001b[0;34m\u001b[0m\u001b[0m\n",
            "\u001b[0;32m/usr/local/lib/python3.7/dist-packages/sympy/polys/densearith.py\u001b[0m in \u001b[0;36mdup_prem\u001b[0;34m(f, g, K)\u001b[0m\n\u001b[1;32m   1091\u001b[0m             \u001b[0;32mbreak\u001b[0m\u001b[0;34m\u001b[0m\u001b[0;34m\u001b[0m\u001b[0m\n\u001b[1;32m   1092\u001b[0m         \u001b[0;32melif\u001b[0m \u001b[0;32mnot\u001b[0m \u001b[0;34m(\u001b[0m\u001b[0mdr\u001b[0m \u001b[0;34m<\u001b[0m \u001b[0m_dr\u001b[0m\u001b[0;34m)\u001b[0m\u001b[0;34m:\u001b[0m\u001b[0;34m\u001b[0m\u001b[0;34m\u001b[0m\u001b[0m\n\u001b[0;32m-> 1093\u001b[0;31m             \u001b[0;32mraise\u001b[0m \u001b[0mPolynomialDivisionFailed\u001b[0m\u001b[0;34m(\u001b[0m\u001b[0mf\u001b[0m\u001b[0;34m,\u001b[0m \u001b[0mg\u001b[0m\u001b[0;34m,\u001b[0m \u001b[0mK\u001b[0m\u001b[0;34m)\u001b[0m\u001b[0;34m\u001b[0m\u001b[0;34m\u001b[0m\u001b[0m\n\u001b[0m\u001b[1;32m   1094\u001b[0m \u001b[0;34m\u001b[0m\u001b[0m\n\u001b[1;32m   1095\u001b[0m     \u001b[0;32mreturn\u001b[0m \u001b[0mdup_mul_ground\u001b[0m\u001b[0;34m(\u001b[0m\u001b[0mr\u001b[0m\u001b[0;34m,\u001b[0m \u001b[0mlc_g\u001b[0m\u001b[0;34m**\u001b[0m\u001b[0mN\u001b[0m\u001b[0;34m,\u001b[0m \u001b[0mK\u001b[0m\u001b[0;34m)\u001b[0m\u001b[0;34m\u001b[0m\u001b[0;34m\u001b[0m\u001b[0m\n",
            "\u001b[0;31mPolynomialDivisionFailed\u001b[0m: couldn't reduce degree in a polynomial division algorithm when dividing [-3.0*_t + 1.5, -0.407667656027077*_t + 0.101916914006769, -0.0103870573606632*_t - 0.0051935286803316] by [-0.0207741147213264*_t**2 + 0.0103870573606632*_t + 0.0103870573606632, -0.00211723366362018*_t**2 + 0.00105861683181009*_t + 0.00105861683181009]. This can happen when it's not possible to detect zero in the coefficient domain. The domain of computation is RR[_t]. Zero detection is guaranteed in this coefficient domain. This may indicate a bug in SymPy or the domain is user defined and doesn't implement zero detection properly."
          ]
        }
      ]
    },
    {
      "cell_type": "markdown",
      "metadata": {
        "id": "TIGsq8oKJpmF"
      },
      "source": [
        "Según el error mostrado podemos ver que no hay solución analítica para la función"
      ]
    },
    {
      "cell_type": "code",
      "metadata": {
        "id": "R7eCe04_ZIeu"
      },
      "source": [
        "A7=euler(0,600,30,8,suma7)"
      ],
      "execution_count": null,
      "outputs": []
    },
    {
      "cell_type": "code",
      "metadata": {
        "id": "O5J2oARFZb67"
      },
      "source": [
        "A7=np.array(A7)"
      ],
      "execution_count": null,
      "outputs": []
    },
    {
      "cell_type": "code",
      "metadata": {
        "id": "i_iD6lfYZeca"
      },
      "source": [
        "XE7 = list(A7[:,1])"
      ],
      "execution_count": null,
      "outputs": []
    },
    {
      "cell_type": "code",
      "metadata": {
        "id": "ku9WxL1Q6qsU"
      },
      "source": [
        "C7=Runge(0,600,30,8,suma7)"
      ],
      "execution_count": null,
      "outputs": []
    },
    {
      "cell_type": "code",
      "metadata": {
        "id": "RSgkdiFaJ1xf"
      },
      "source": [
        "A7=euler(0,600,30,8,suma7)\n",
        "A7=np.array(A7)\n",
        "\n",
        "plt.scatter(A7[:,0], A7[:,1], color = 'blue', label='Euler')\n",
        "\n",
        "TE7 = np.linspace(0, 600, 31) #graficar poligonal Euler\n",
        "XE7 = list(A7[:,1])\n",
        "plt.plot(TE7, XE7)\n",
        "\n",
        "plt.title('Euler') #titulo de la grafica\n",
        "plt.xlabel('$t$') #nombra los ejes\n",
        "plt.ylabel('$f(t)$')\n",
        "plt.legend()\n",
        "plt.show()"
      ],
      "execution_count": null,
      "outputs": []
    },
    {
      "cell_type": "code",
      "metadata": {
        "id": "IzieVHiUPc7m"
      },
      "source": [
        "B7=heun(0,600,30,8,suma7)\n",
        "B7=np.array(B7)\n",
        "\n",
        "plt.scatter(B7[:,0], B7[:,1], color = 'purple', label='Heun')\n",
        "\n",
        "TH7 = np.linspace(0, 600, 31) #graficar poligonal Heun\n",
        "XH7 = list(B7[:,1])\n",
        "plt.plot(TH7, XH7)\n",
        "\n",
        "plt.title('Heun') #titulo de la grafica\n",
        "plt.xlabel('$t$') #nombra los ejes\n",
        "plt.ylabel('$f(t)$')\n",
        "plt.legend()\n",
        "plt.show()"
      ],
      "execution_count": null,
      "outputs": []
    },
    {
      "cell_type": "code",
      "metadata": {
        "id": "eR3EYF6_Pxiz"
      },
      "source": [
        "C7=Runge(0,600,30,8,suma7)\n",
        "C7=np.array(C7)\n",
        "\n",
        "plt.scatter(C7[:,0], C7[:,1], color = 'red', label='Runge')\n",
        "\n",
        "TR7 = np.linspace(0, 600, 31) #graficar poligonal Runge\n",
        "XR7 = list(C7[:,1])\n",
        "plt.plot(TR7, XR7)\n",
        "\n",
        "plt.title('Runge') #titulo de la grafica\n",
        "plt.xlabel('$t$') #nombra los ejes\n",
        "plt.ylabel('$f(t)$')\n",
        "plt.legend()\n",
        "plt.show()"
      ],
      "execution_count": null,
      "outputs": []
    }
  ]
}