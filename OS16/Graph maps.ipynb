{
  "cells": [
    {
      "cell_type": "code",
      "source": [
        "!pip install geopandas"
      ],
      "metadata": {
        "id": "CXmILSexUloL"
      },
      "id": "CXmILSexUloL",
      "execution_count": null,
      "outputs": []
    },
    {
      "cell_type": "code",
      "source": [
        "!pip install geoplot"
      ],
      "metadata": {
        "id": "IEbU0uQ-Y_9F"
      },
      "id": "IEbU0uQ-Y_9F",
      "execution_count": null,
      "outputs": []
    },
    {
      "cell_type": "code",
      "execution_count": 41,
      "id": "e4a00a5f",
      "metadata": {
        "id": "e4a00a5f"
      },
      "outputs": [],
      "source": [
        "import pandas as pd\n",
        "import geopandas\n",
        "import matplotlib.pyplot as plt\n",
        "import geoplot"
      ]
    },
    {
      "cell_type": "code",
      "source": [
        "link=\"https://raw.githubusercontent.com/davidmorme/Universidad/main/OS16/data/temp_et_coord_14villes.csv\"\n",
        "df=pd.read_csv(link, sep=\";\")"
      ],
      "metadata": {
        "id": "Gjqhkf2bUkKK"
      },
      "id": "Gjqhkf2bUkKK",
      "execution_count": 7,
      "outputs": []
    },
    {
      "cell_type": "code",
      "source": [
        "lista=[]\n",
        "for i in range(len(df.columns)):\n",
        "    lista.append(df.columns[i].replace(\"'\",\"\"))\n",
        "df.columns=lista\n",
        "del lista"
      ],
      "metadata": {
        "id": "nRcKa0KrVmcb"
      },
      "id": "nRcKa0KrVmcb",
      "execution_count": 8,
      "outputs": []
    },
    {
      "cell_type": "code",
      "source": [
        "df1=df.iloc[12:,:].transpose()\n",
        "df1.columns=[\"Longitude\",\"Latitude\"]\n",
        "gdf = geopandas.GeoDataFrame(df1, geometry=geopandas.points_from_xy(df1.Longitude, df1.Latitude))\n",
        "df1"
      ],
      "metadata": {
        "id": "JeifaxWDV723",
        "outputId": "97798332-12fb-4e72-a957-a1a9acf083a4",
        "colab": {
          "base_uri": "https://localhost:8080/",
          "height": 488
        }
      },
      "id": "JeifaxWDV723",
      "execution_count": 186,
      "outputs": [
        {
          "output_type": "execute_result",
          "data": {
            "text/plain": [
              "                  Longitude  Latitude                   geometry\n",
              "Bordeaux              -0.34      44.5  POINT (-0.34000 44.50000)\n",
              "Brest                 -4.29      48.2  POINT (-4.29000 48.20000)\n",
              "Clermont-Ferrand       3.05      45.5   POINT (3.05000 45.50000)\n",
              "Grenoble               5.43      45.1   POINT (5.43000 45.10000)\n",
              "Lille                  3.04      50.4   POINT (3.04000 50.40000)\n",
              "Lyon                   4.51      45.5   POINT (4.51000 45.50000)\n",
              "Marseille              5.24      43.2   POINT (5.24000 43.20000)\n",
              "Montpellier            3.53      43.4   POINT (3.53000 43.40000)\n",
              "Nantes                -1.33      47.1  POINT (-1.33000 47.10000)\n",
              "Nice                   7.15      43.4   POINT (7.15000 43.40000)\n",
              "Paris                  2.20      48.5   POINT (2.20000 48.50000)\n",
              "Rennes                -1.41      48.1  POINT (-1.41000 48.10000)\n",
              "Strasbourg             7.45      48.4   POINT (7.45000 48.40000)\n",
              "Toulouse               1.26      43.4   POINT (1.26000 43.40000)"
            ],
            "text/html": [
              "\n",
              "  <div id=\"df-d9c27025-d336-4015-a37e-4e5fcd9843c5\">\n",
              "    <div class=\"colab-df-container\">\n",
              "      <div>\n",
              "<style scoped>\n",
              "    .dataframe tbody tr th:only-of-type {\n",
              "        vertical-align: middle;\n",
              "    }\n",
              "\n",
              "    .dataframe tbody tr th {\n",
              "        vertical-align: top;\n",
              "    }\n",
              "\n",
              "    .dataframe thead th {\n",
              "        text-align: right;\n",
              "    }\n",
              "</style>\n",
              "<table border=\"1\" class=\"dataframe\">\n",
              "  <thead>\n",
              "    <tr style=\"text-align: right;\">\n",
              "      <th></th>\n",
              "      <th>Longitude</th>\n",
              "      <th>Latitude</th>\n",
              "      <th>geometry</th>\n",
              "    </tr>\n",
              "  </thead>\n",
              "  <tbody>\n",
              "    <tr>\n",
              "      <th>Bordeaux</th>\n",
              "      <td>-0.34</td>\n",
              "      <td>44.5</td>\n",
              "      <td>POINT (-0.34000 44.50000)</td>\n",
              "    </tr>\n",
              "    <tr>\n",
              "      <th>Brest</th>\n",
              "      <td>-4.29</td>\n",
              "      <td>48.2</td>\n",
              "      <td>POINT (-4.29000 48.20000)</td>\n",
              "    </tr>\n",
              "    <tr>\n",
              "      <th>Clermont-Ferrand</th>\n",
              "      <td>3.05</td>\n",
              "      <td>45.5</td>\n",
              "      <td>POINT (3.05000 45.50000)</td>\n",
              "    </tr>\n",
              "    <tr>\n",
              "      <th>Grenoble</th>\n",
              "      <td>5.43</td>\n",
              "      <td>45.1</td>\n",
              "      <td>POINT (5.43000 45.10000)</td>\n",
              "    </tr>\n",
              "    <tr>\n",
              "      <th>Lille</th>\n",
              "      <td>3.04</td>\n",
              "      <td>50.4</td>\n",
              "      <td>POINT (3.04000 50.40000)</td>\n",
              "    </tr>\n",
              "    <tr>\n",
              "      <th>Lyon</th>\n",
              "      <td>4.51</td>\n",
              "      <td>45.5</td>\n",
              "      <td>POINT (4.51000 45.50000)</td>\n",
              "    </tr>\n",
              "    <tr>\n",
              "      <th>Marseille</th>\n",
              "      <td>5.24</td>\n",
              "      <td>43.2</td>\n",
              "      <td>POINT (5.24000 43.20000)</td>\n",
              "    </tr>\n",
              "    <tr>\n",
              "      <th>Montpellier</th>\n",
              "      <td>3.53</td>\n",
              "      <td>43.4</td>\n",
              "      <td>POINT (3.53000 43.40000)</td>\n",
              "    </tr>\n",
              "    <tr>\n",
              "      <th>Nantes</th>\n",
              "      <td>-1.33</td>\n",
              "      <td>47.1</td>\n",
              "      <td>POINT (-1.33000 47.10000)</td>\n",
              "    </tr>\n",
              "    <tr>\n",
              "      <th>Nice</th>\n",
              "      <td>7.15</td>\n",
              "      <td>43.4</td>\n",
              "      <td>POINT (7.15000 43.40000)</td>\n",
              "    </tr>\n",
              "    <tr>\n",
              "      <th>Paris</th>\n",
              "      <td>2.20</td>\n",
              "      <td>48.5</td>\n",
              "      <td>POINT (2.20000 48.50000)</td>\n",
              "    </tr>\n",
              "    <tr>\n",
              "      <th>Rennes</th>\n",
              "      <td>-1.41</td>\n",
              "      <td>48.1</td>\n",
              "      <td>POINT (-1.41000 48.10000)</td>\n",
              "    </tr>\n",
              "    <tr>\n",
              "      <th>Strasbourg</th>\n",
              "      <td>7.45</td>\n",
              "      <td>48.4</td>\n",
              "      <td>POINT (7.45000 48.40000)</td>\n",
              "    </tr>\n",
              "    <tr>\n",
              "      <th>Toulouse</th>\n",
              "      <td>1.26</td>\n",
              "      <td>43.4</td>\n",
              "      <td>POINT (1.26000 43.40000)</td>\n",
              "    </tr>\n",
              "  </tbody>\n",
              "</table>\n",
              "</div>\n",
              "      <button class=\"colab-df-convert\" onclick=\"convertToInteractive('df-d9c27025-d336-4015-a37e-4e5fcd9843c5')\"\n",
              "              title=\"Convert this dataframe to an interactive table.\"\n",
              "              style=\"display:none;\">\n",
              "        \n",
              "  <svg xmlns=\"http://www.w3.org/2000/svg\" height=\"24px\"viewBox=\"0 0 24 24\"\n",
              "       width=\"24px\">\n",
              "    <path d=\"M0 0h24v24H0V0z\" fill=\"none\"/>\n",
              "    <path d=\"M18.56 5.44l.94 2.06.94-2.06 2.06-.94-2.06-.94-.94-2.06-.94 2.06-2.06.94zm-11 1L8.5 8.5l.94-2.06 2.06-.94-2.06-.94L8.5 2.5l-.94 2.06-2.06.94zm10 10l.94 2.06.94-2.06 2.06-.94-2.06-.94-.94-2.06-.94 2.06-2.06.94z\"/><path d=\"M17.41 7.96l-1.37-1.37c-.4-.4-.92-.59-1.43-.59-.52 0-1.04.2-1.43.59L10.3 9.45l-7.72 7.72c-.78.78-.78 2.05 0 2.83L4 21.41c.39.39.9.59 1.41.59.51 0 1.02-.2 1.41-.59l7.78-7.78 2.81-2.81c.8-.78.8-2.07 0-2.86zM5.41 20L4 18.59l7.72-7.72 1.47 1.35L5.41 20z\"/>\n",
              "  </svg>\n",
              "      </button>\n",
              "      \n",
              "  <style>\n",
              "    .colab-df-container {\n",
              "      display:flex;\n",
              "      flex-wrap:wrap;\n",
              "      gap: 12px;\n",
              "    }\n",
              "\n",
              "    .colab-df-convert {\n",
              "      background-color: #E8F0FE;\n",
              "      border: none;\n",
              "      border-radius: 50%;\n",
              "      cursor: pointer;\n",
              "      display: none;\n",
              "      fill: #1967D2;\n",
              "      height: 32px;\n",
              "      padding: 0 0 0 0;\n",
              "      width: 32px;\n",
              "    }\n",
              "\n",
              "    .colab-df-convert:hover {\n",
              "      background-color: #E2EBFA;\n",
              "      box-shadow: 0px 1px 2px rgba(60, 64, 67, 0.3), 0px 1px 3px 1px rgba(60, 64, 67, 0.15);\n",
              "      fill: #174EA6;\n",
              "    }\n",
              "\n",
              "    [theme=dark] .colab-df-convert {\n",
              "      background-color: #3B4455;\n",
              "      fill: #D2E3FC;\n",
              "    }\n",
              "\n",
              "    [theme=dark] .colab-df-convert:hover {\n",
              "      background-color: #434B5C;\n",
              "      box-shadow: 0px 1px 3px 1px rgba(0, 0, 0, 0.15);\n",
              "      filter: drop-shadow(0px 1px 2px rgba(0, 0, 0, 0.3));\n",
              "      fill: #FFFFFF;\n",
              "    }\n",
              "  </style>\n",
              "\n",
              "      <script>\n",
              "        const buttonEl =\n",
              "          document.querySelector('#df-d9c27025-d336-4015-a37e-4e5fcd9843c5 button.colab-df-convert');\n",
              "        buttonEl.style.display =\n",
              "          google.colab.kernel.accessAllowed ? 'block' : 'none';\n",
              "\n",
              "        async function convertToInteractive(key) {\n",
              "          const element = document.querySelector('#df-d9c27025-d336-4015-a37e-4e5fcd9843c5');\n",
              "          const dataTable =\n",
              "            await google.colab.kernel.invokeFunction('convertToInteractive',\n",
              "                                                     [key], {});\n",
              "          if (!dataTable) return;\n",
              "\n",
              "          const docLinkHtml = 'Like what you see? Visit the ' +\n",
              "            '<a target=\"_blank\" href=https://colab.research.google.com/notebooks/data_table.ipynb>data table notebook</a>'\n",
              "            + ' to learn more about interactive tables.';\n",
              "          element.innerHTML = '';\n",
              "          dataTable['output_type'] = 'display_data';\n",
              "          await google.colab.output.renderOutput(dataTable, element);\n",
              "          const docLink = document.createElement('div');\n",
              "          docLink.innerHTML = docLinkHtml;\n",
              "          element.appendChild(docLink);\n",
              "        }\n",
              "      </script>\n",
              "    </div>\n",
              "  </div>\n",
              "  "
            ]
          },
          "metadata": {},
          "execution_count": 186
        }
      ]
    },
    {
      "cell_type": "code",
      "source": [
        "world = geopandas.read_file(geopandas.datasets.get_path('naturalearth_lowres'))\n",
        "France=world[world.name == 'France']\n",
        "France=France.explode(index_parts=True, ignore_index=True)\n",
        "France=France.iloc[1:3]\n",
        "ax=France.plot(color='white', edgecolor='black',figsize=(15, 8))\n",
        "\n",
        "# We can now plot our ``GeoDataFrame``.\n",
        "gdf.plot(ax=ax, color='red', markersize=150)\n",
        "plt.title(\"Ubicación de las ciudades Longitud y Latitud\", fontsize=15)\n",
        "ax.set_xlabel(\"Longitude\", fontsize=15)\n",
        "ax.set_ylabel(\"Latitude\", fontsize=15)\n",
        "plt.show()"
      ],
      "metadata": {
        "id": "_99S4lzoe4rd",
        "outputId": "0b5cd565-6004-43f4-c03b-8d58968e2ac5",
        "colab": {
          "base_uri": "https://localhost:8080/",
          "height": 521
        }
      },
      "id": "_99S4lzoe4rd",
      "execution_count": 185,
      "outputs": [
        {
          "output_type": "display_data",
          "data": {
            "text/plain": [
              "<Figure size 1080x576 with 1 Axes>"
            ],
            "image/png": "[encoded data removed]"
          },
          "metadata": {
            "needs_background": "light"
          }
        }
      ]
    }
  ],
  "metadata": {
    "kernelspec": {
      "display_name": "Python 3 (ipykernel)",
      "language": "python",
      "name": "python3"
    },
    "language_info": {
      "codemirror_mode": {
        "name": "ipython",
        "version": 3
      },
      "file_extension": ".py",
      "mimetype": "text/x-python",
      "name": "python",
      "nbconvert_exporter": "python",
      "pygments_lexer": "ipython3",
      "version": "3.9.12"
    },
    "colab": {
      "provenance": []
    }
  },
  "nbformat": 4,
  "nbformat_minor": 5
}