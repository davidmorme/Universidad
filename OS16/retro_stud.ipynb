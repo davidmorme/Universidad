{
  "cells": [
    {
      "cell_type": "markdown",
      "metadata": {
        "id": "BZFSZjP-1Zig"
      },
      "source": [
        "# Classification avec un neurone - Descente de gradient\n",
        "\n",
        "Nous souhaitons pouvoir dire pour chaque point d'un plan s’il devrait être colorié en rouge ou bien en bleu à partir d'informations issues d'un jeu de données initial. Pour cela on décide de construire le réseau le plus simple possible : avec un seul neurone. Cela correspond donc à séparer les points du plan selon une droite. La dimension de\n",
        "l’entrée est 2, les coordonnées (x, y) de chaque point du jeux initial, et celle la sortie est 1, point rouge ou bleu. Nous utiliserons la fonction d'activation sigmoide. Il y faut déterminer les paramètres, correspondant aux poids et au biais, qui permettent de trouver cette droite."
      ]
    },
    {
      "cell_type": "markdown",
      "metadata": {
        "id": "Kw7_a8Q21Zil"
      },
      "source": [
        "## Apprentissage\n",
        "Pour trouver les paramètres du neurone qui définissent la meilleure fonction F permettant la classification des données, il s’agit de minimiser l’erreur E (comme vu en cours). Pour cela on utilise la méthode de la descente de gradient. Pour cela il vous faudra trouver puis implémenter les équations associées. \n",
        "\n",
        "Nous allons utiliser python et les packages de base ci-dessous."
      ]
    },
    {
      "cell_type": "code",
      "execution_count": 1,
      "metadata": {
        "id": "eUAryjlh1Zim"
      },
      "outputs": [],
      "source": [
        "import numpy as np\n",
        "import matplotlib.pyplot as plt"
      ]
    },
    {
      "cell_type": "markdown",
      "metadata": {
        "id": "woBwTSYz1Zio"
      },
      "source": [
        "Nous allons maintenant définir les différentes fonctions qui nous permettront de résoudre notre problème.\n",
        "\n",
        "### Fonction d'activation\n",
        "Définir la fonction sigmoïde"
      ]
    },
    {
      "cell_type": "code",
      "execution_count": 8,
      "metadata": {
        "id": "_hpmJT421Zio"
      },
      "outputs": [],
      "source": [
        "def sigmoide(x):\n",
        "  return 1/(1+np.exp(-x))"
      ]
    },
    {
      "cell_type": "markdown",
      "metadata": {
        "id": "umk2nn1s1Zip"
      },
      "source": [
        "### Fonction d'erreur\n",
        "Déterminer l’erreur locale pour la donnée numéro $i$ et l'erreur globale. Construire la fonction associée. Los rojos son clasificados como 1 y los azules como 0"
      ]
    },
    {
      "cell_type": "code",
      "execution_count": 9,
      "metadata": {
        "colab": {
          "base_uri": "https://localhost:8080/",
          "height": 53
        },
        "id": "UJYfuZ-91Ziq",
        "outputId": "ae4dd314-bb9c-4bdf-ec6c-e12756aaebcc"
      },
      "outputs": [
        {
          "output_type": "execute_result",
          "data": {
            "text/plain": [
              "'\\ndef E(w1, w2, b):\\n  for i in range(len(carres_rouges)):\\n    somme_rouges += (sigmoide(w1*carres_rouges[i,0]+w2*carres_rouges[i,1]+b) - 1)**2 \\n  for i in range(len(ronds_bleus)):\\n    somme_bleus += (sigmoide(w1*ronds_bleus[i,0]+w2*ronds_bleus[i,1]+b) - 1)**2 \\n  \\n  return (somme_rouges + somme_bleus)/N\\n'"
            ],
            "application/vnd.google.colaboratory.intrinsic+json": {
              "type": "string"
            }
          },
          "metadata": {},
          "execution_count": 9
        }
      ],
      "source": [
        "def E(w1, w2, b):\n",
        "  somme_rouges = sum([ (sigmoide(w1*x1+w2*x2+b) - 1)**2 for x1, x2 in carres_rouges ])\n",
        "  somme_bleus = sum([ (sigmoide(w1*x1+w2*x2+b) - 1)**2 for x1, x2 in ronds_bleus ])\n",
        "  return (somme_rouges + somme_bleus)/N\n",
        "\n",
        "#Otra forma de código\n",
        "'''\n",
        "def E(w1, w2, b):\n",
        "  for i in range(len(carres_rouges)):\n",
        "    somme_rouges += (sigmoide(w1*carres_rouges[i,0]+w2*carres_rouges[i,1]+b) - 1)**2 \n",
        "  for i in range(len(ronds_bleus)):\n",
        "    somme_bleus += (sigmoide(w1*ronds_bleus[i,0]+w2*ronds_bleus[i,1]+b) - 1)**2 \n",
        "  \n",
        "  return (somme_rouges + somme_bleus)/N\n",
        "'''"
      ]
    },
    {
      "cell_type": "markdown",
      "metadata": {
        "id": "sK8wP0ok1Ziq"
      },
      "source": [
        "### Calcul des gradients\n",
        "Déterminer les expressions des différents gradients et construire les fonctions associées."
      ]
    },
    {
      "cell_type": "code",
      "execution_count": 10,
      "metadata": {
        "colab": {
          "base_uri": "https://localhost:8080/",
          "height": 70
        },
        "id": "YmL66fb31Zir",
        "outputId": "a5909ac3-cc9e-49dd-8190-1624f6af0cca"
      },
      "outputs": [
        {
          "output_type": "execute_result",
          "data": {
            "text/plain": [
              "'\\ndef calcul_grad(w1, w2, b, y, data):\\n  for i in range(len(carres_rouges)):\\n    sigm_i=sigmoide(w1*data[i][0]+w2*data[i][1]+b)\\n    gw1 += 2*data[i][0]*sigm_i*(1-sigm_i)*(sigm_i-y) \\n    gw2 += 2*data[i][1]*sigm_i*(1-sigm_i)*(sigm_i-y) \\n    gb += 2*sigm_i*(1-sigm_i)*(sigm_i-y) \\n  gw1/=N\\n  gw2/=N\\n  gb/=N\\n\\n  return gw1, gw2, gb\\n'"
            ],
            "application/vnd.google.colaboratory.intrinsic+json": {
              "type": "string"
            }
          },
          "metadata": {},
          "execution_count": 10
        }
      ],
      "source": [
        "def calcul_grad(w1, w2, b, y, data):\n",
        "  gw1 = 1/N * sum([ 2*x1*sigmoide(w1*x1+w2*x2+b)*(1-sigmoide(w1*x1+w2*x2+b))*(sigmoide(w1*x1+w2*x2+b)-y)  for x1, x2 in data ])\n",
        "  gw2 = 1/N * sum([ 2*x2*sigmoide(w1*x1+w2*x2+b)*(1-sigmoide(w1*x1+w2*x2+b))*(sigmoide(w1*x1+w2*x2+b)-y)  for x1, x2 in data ])\n",
        "  gb = 1/N * sum([ 2*sigmoide(w1*x1+w2*x2+b)*(1-sigmoide(w1*x1+w2*x2+b))*(sigmoide(w1*x1+w2*x2+b)-y)  for x1, x2 in data ])\n",
        "\n",
        "  return gw1, gw2, gb\n",
        "\n",
        "#Otra forma de código\n",
        "'''\n",
        "def calcul_grad(w1, w2, b, y, data):\n",
        "  for i in range(len(carres_rouges)):\n",
        "    sigm_i=sigmoide(w1*data[i][0]+w2*data[i][1]+b)\n",
        "    gw1 += 2*data[i][0]*sigm_i*(1-sigm_i)*(sigm_i-y) \n",
        "    gw2 += 2*data[i][1]*sigm_i*(1-sigm_i)*(sigm_i-y) \n",
        "    gb += 2*sigm_i*(1-sigm_i)*(sigm_i-y) \n",
        "  gw1/=N\n",
        "  gw2/=N\n",
        "  gb/=N\n",
        "\n",
        "  return gw1, gw2, gb\n",
        "'''"
      ]
    },
    {
      "cell_type": "code",
      "execution_count": 11,
      "metadata": {
        "id": "gf5aaV3K1Zis"
      },
      "outputs": [],
      "source": [
        "def grad_E(w1, w2, b):\n",
        "  gw1_red, gw2_red, gb_red = calcul_grad(w1, w2, b, 1, carres_rouges)\n",
        "  gw1_blu, gw2_blu, gb_blu = calcul_grad(w1, w2, b, 0, ronds_bleus)\n",
        "  \n",
        "  return np.array([gw1_red+gw1_blu, gw2_red+gw2_blu, gb_red+gb_blu])"
      ]
    },
    {
      "cell_type": "markdown",
      "metadata": {
        "id": "RAjAtP0U1Zit"
      },
      "source": [
        "### Algorithme de descente de gradient\n",
        "Construire l'algorithme de descente de gradient qui fera appel aux fonctions précédentes."
      ]
    },
    {
      "cell_type": "code",
      "execution_count": 18,
      "metadata": {
        "id": "tIyYknVb1Zit"
      },
      "outputs": [],
      "source": [
        "def descente(theta0, delta=0.1, nmax=10):\n",
        "    liste_theta = [theta0] # sauvegarde valeurs successive de X\n",
        "    liste_grad = [] # sauvegarde valeurs successives du gradient\n",
        "    theta = theta0\n",
        "    for i in range(nmax):\n",
        "      gradient = grad_E(theta[0],theta[1],theta[2])\n",
        "      theta = theta - gradient*delta\n",
        "      liste_theta.append(theta)\n",
        "      liste_grad.append(gradient)\n",
        "   \n",
        "    return liste_theta, liste_grad"
      ]
    },
    {
      "cell_type": "markdown",
      "metadata": {
        "id": "CjkHGZRo1Ziu"
      },
      "source": [
        "### Fonctions d'affichage des résultats"
      ]
    },
    {
      "cell_type": "code",
      "execution_count": 13,
      "metadata": {
        "id": "HA647V4v1Ziu"
      },
      "outputs": [],
      "source": [
        "def affiche_descente(f, liste_theta, liste_grad, delta, nmax=10):\n",
        "    print(\"vittesse d'apprentissage : \",delta)\n",
        "    print(\"Nombre d'itérations :\", nmax)\n",
        "    print(\"Paramètres initiaux :\", theta0)\n",
        "    for i in range(len(liste_theta)-1):\n",
        "        print(\"--- Etape\",i)\n",
        "        print(\"Paramètres :\", *liste_theta[i])\n",
        "        print(\"Gradient \", *liste_grad[i])\n",
        "        print(\"Valeur de la fonction coût \", f(*liste_theta[i]))\n",
        "    print(\"--- --------------------\")\n",
        "    print(\"Dernier point :\", *liste_theta[-1])\n",
        "    print(\"Dernière valeur de la fonction coût \", f(*liste_theta[-1]))\n",
        "    print(\"--- --------------------\")\n",
        "    return\n"
      ]
    },
    {
      "cell_type": "code",
      "execution_count": 14,
      "metadata": {
        "id": "DwLZ2UHr1Ziv"
      },
      "outputs": [],
      "source": [
        "def graphique_points(w1, w2, b):\n",
        "    for x, y in carres_rouges:    \n",
        "        plt.scatter(x, y, marker='s', color='red')\n",
        "    for x, y in ronds_bleus:   \n",
        "        plt.scatter(x, y, color='blue')\n",
        "\n",
        "    VX = np.linspace(-0.5, 5.5, 100)\n",
        "    VY = -1/w2*(w1*VX+b)\n",
        "\n",
        "    #  affichage\n",
        "    plt.plot(VX, VY, color='black')\n",
        "    plt.axis('equal')\n",
        "    plt.xlim(-0.5,5.5)\n",
        "    plt.ylim(-0.5,5.5)\n",
        "    plt.tight_layout()\n",
        "    plt.show()\n",
        "    return\n"
      ]
    },
    {
      "cell_type": "markdown",
      "metadata": {
        "id": "E1G5reDA1Ziv"
      },
      "source": [
        "### Mise en oeuvre\n",
        "Vous pouvez maintenant tester votre solution à partir de l'exemple ci-dessous"
      ]
    },
    {
      "cell_type": "code",
      "execution_count": 24,
      "metadata": {
        "scrolled": false,
        "colab": {
          "base_uri": "https://localhost:8080/",
          "height": 314
        },
        "id": "H0JKOmxF1Ziw",
        "outputId": "95d1d010-d5cb-491b-c7a9-276bf945b577"
      },
      "outputs": [
        {
          "output_type": "stream",
          "name": "stdout",
          "text": [
            "Coefficients w1, w2, b du neurone et de la droite de séparation : 1.75294 -3.25592 2.96609\n"
          ]
        },
        {
          "output_type": "display_data",
          "data": {
            "text/plain": [
              "<Figure size 432x288 with 1 Axes>"
            ],
            "image/png": "[encoded data removed]"
          },
          "metadata": {
            "needs_background": "light"
          }
        }
      ],
      "source": [
        "# Génération des données initiales : carré rouge / rond bleu \n",
        "carres_rouges = [(1,1), (2,0.5), (2,2), (3,1.5), (3,2.75), (4,1), (4,2.5), (4.5,3), (5,1), (5,2.25)]\n",
        "ronds_bleus   = [(0,3), (1,1.5), (1,4), (1.5,2.5), (2,2.5), (3,3.5), (3.5,3.25), (4,3), (4,4), (5,4)] \n",
        "\n",
        "N = len(carres_rouges) + len(ronds_bleus)    # taille des données\n",
        " \n",
        "# initialisation des paramètres du neurone\n",
        "theta0 = np.array([0, 1, -2])\n",
        "\n",
        "# recherche des paramètres du neurone\n",
        "mon_delta = 1\n",
        "mon_nmax = 500\n",
        "liste_theta, liste_grad = descente(theta0, delta=mon_delta, nmax=mon_nmax)\n",
        "\n",
        "#affiche_descente(E, liste_theta, liste_grad, delta=mon_delta, nmax=mon_nmax)\n",
        "\n",
        "w1, w2, b = liste_theta[-1]\n",
        "print(\"Coefficients w1, w2, b du neurone et de la droite de séparation :\", round(w1,5), round(w2,5), round(b,5))\n",
        "\n",
        "graphique_points(w1, w2, b)"
      ]
    },
    {
      "cell_type": "markdown",
      "metadata": {
        "id": "fYHn8M_Q1Ziw"
      },
      "source": [
        "### Commenter les résultats\n",
        "\n"
      ]
    },
    {
      "cell_type": "markdown",
      "metadata": {
        "id": "dhudwJjZ1Zix"
      },
      "source": [
        "## Prédiction\n",
        "Vous avez obtenu par la descente de gradient les paramètres du neurone qui permettent de séparer le plan en deux parties. Il est maintenat possible de l'utiliser pour prédire à quelle classe appartient n'importe quel point de l'espace.\n",
        "\n",
        "Prédire par exemple, la classe des points de coordonnées (x1=2, x2=3) et de (x1=2, x2=1).\n"
      ]
    },
    {
      "cell_type": "code",
      "source": [
        "def graphique_new_points(x_new, y_new, new_label, w1, w2, b):\n",
        "    for x, y in carres_rouges:    # points\n",
        "        plt.scatter(x, y, marker='s', color='red')\n",
        "    for x, y in ronds_bleus:    # points\n",
        "        plt.scatter(x, y, color='blue')\n",
        "\n",
        "    VX = np.linspace(-0.5, 5.5, 100)\n",
        "    VY = -1/w2*(w1*VX+b)\n",
        "\n",
        "    #  affichage données initiales et courbe\n",
        "    plt.plot(VX, VY, color='black')\n",
        "    plt.axis('equal')\n",
        "    plt.xlim(-0.5,5.5)\n",
        "    plt.ylim(-0.5,5.5)\n",
        "    plt.tight_layout()\n",
        "    \n",
        "    if new_label==0:\n",
        "        plt.scatter(x_new, y_new, marker='X', color='blue', s=100)\n",
        "    else:\n",
        "        plt.scatter(x_new, y_new, marker='X', color='red', s=100)\n",
        "    \n",
        "    \n",
        "    # plt.savefig('retro_01_e.png')\n",
        "    plt.show()\n",
        "    return"
      ],
      "metadata": {
        "id": "6ezGwX4QGKNe"
      },
      "execution_count": 35,
      "outputs": []
    },
    {
      "cell_type": "code",
      "execution_count": 36,
      "metadata": {
        "colab": {
          "base_uri": "https://localhost:8080/",
          "height": 612
        },
        "id": "A8WuLkgO1Zix",
        "outputId": "b148511f-2b43-4a3c-9823-82aa974c2837"
      },
      "outputs": [
        {
          "output_type": "stream",
          "name": "stdout",
          "text": [
            "bleu 5.502780212902142e-05\n"
          ]
        },
        {
          "output_type": "display_data",
          "data": {
            "text/plain": [
              "<Figure size 432x288 with 1 Axes>"
            ],
            "image/png": "[encoded data removed]"
          },
          "metadata": {
            "needs_background": "light"
          }
        },
        {
          "output_type": "stream",
          "name": "stdout",
          "text": [
            "rouge 0.9697047311207732\n"
          ]
        },
        {
          "output_type": "display_data",
          "data": {
            "text/plain": [
              "<Figure size 432x288 with 1 Axes>"
            ],
            "image/png": "[encoded data removed]"
          },
          "metadata": {
            "needs_background": "light"
          }
        }
      ],
      "source": [
        "def predict(w1,w2,b,x1,x2):\n",
        "    F=sigmoide(w1*x1+w2*x2+b)\n",
        "    if F > 0.5:\n",
        "        print('rouge', F)\n",
        "        graphique_new_points(x1,x2, 1, w1, w2, b)\n",
        "    else:\n",
        "        print('bleu', F)\n",
        "        graphique_new_points(x1,x2, 0, w1, w2, b)\n",
        "    return\n",
        "\n",
        "predict(w1, w2, b, 2, 5)\n",
        "predict(w1, w2, b, 4, 2)\n"
      ]
    },
    {
      "cell_type": "markdown",
      "metadata": {
        "id": "C9gVda-i1Zix"
      },
      "source": [
        "### Commenter les résultats\n",
        "\n"
      ]
    }
  ],
  "metadata": {
    "kernelspec": {
      "display_name": "Python 3",
      "language": "python",
      "name": "python3"
    },
    "language_info": {
      "codemirror_mode": {
        "name": "ipython",
        "version": 3
      },
      "file_extension": ".py",
      "mimetype": "text/x-python",
      "name": "python",
      "nbconvert_exporter": "python",
      "pygments_lexer": "ipython3",
      "version": "3.8.10"
    },
    "colab": {
      "provenance": []
    }
  },
  "nbformat": 4,
  "nbformat_minor": 0
}