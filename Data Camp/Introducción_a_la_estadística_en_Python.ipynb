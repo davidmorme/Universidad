{
  "nbformat": 4,
  "nbformat_minor": 0,
  "metadata": {
    "colab": {
      "name": "Introducción a la estadística en Python.ipynb",
      "provenance": [],
      "authorship_tag": "ABX9TyPE1UxqV4itX3EMeCvzjn9s",
      "include_colab_link": true
    },
    "kernelspec": {
      "name": "python3",
      "display_name": "Python 3"
    }
  },
  "cells": [
    {
      "cell_type": "markdown",
      "metadata": {
        "id": "view-in-github",
        "colab_type": "text"
      },
      "source": [
        "<a href=\"https://colab.research.google.com/github/davidmorme/Universidad/blob/main/Data%20Camp/Introducci%C3%B3n_a_la_estad%C3%ADstica_en_Python.ipynb\" target=\"_parent\"><img src=\"https://colab.research.google.com/assets/colab-badge.svg\" alt=\"Open In Colab\"/></a>"
      ]
    },
    {
      "cell_type": "code",
      "metadata": {
        "id": "sMlWdfdlHK35",
        "colab": {
          "base_uri": "https://localhost:8080/",
          "height": 51
        },
        "outputId": "2bd93421-bd60-4472-b104-7f3f1e2a75a9"
      },
      "source": [
        "import numpy as np\n",
        "x=[1,2,3,4,5,6,7,8,9,0,1,42534,653,2,3,542,567,54]\n",
        "# promedio\n",
        "print(np.mean(x))\n",
        "# Mediana\n",
        "print(np.median(x))"
      ],
      "execution_count": null,
      "outputs": [
        {
          "output_type": "stream",
          "text": [
            "2466.722222222222\n",
            "5.5\n"
          ],
          "name": "stdout"
        }
      ]
    },
    {
      "cell_type": "code",
      "metadata": {
        "id": "qXo7ujx7OUGN"
      },
      "source": [
        "import pandas as np"
      ],
      "execution_count": null,
      "outputs": []
    },
    {
      "cell_type": "code",
      "metadata": {
        "id": "YxhBPipztWqx",
        "colab": {
          "base_uri": "https://localhost:8080/",
          "height": 51
        },
        "outputId": "f5f02890-c9f9-429b-fe64-358526a0f623"
      },
      "source": [
        "import statistics\n",
        "x=[1,2,3,4,5,6,7,8,9,0,1,1,42534,653,2,3,542,567,54]\n",
        "y=[\"red\",\"yellow\",\"green\",\"red\",\"red\",\"yellow\",\"red\"]\n",
        "# Moda, también funciona para no números\n",
        "print(statistics.mode(x))\n",
        "print(statistics.mode(y))"
      ],
      "execution_count": null,
      "outputs": [
        {
          "output_type": "stream",
          "text": [
            "1\n",
            "red\n"
          ],
          "name": "stdout"
        }
      ]
    },
    {
      "cell_type": "code",
      "metadata": {
        "id": "kC-_BGYwAIHm"
      },
      "source": [
        "# Import numpy with alias np\n",
        "import numpy as np\n",
        "\n",
        "# Filter for Belgium\n",
        "be_consumption = food_consumption[food_consumption['country'] == 'Belgium']\n",
        "\n",
        "# Filter for USA\n",
        "usa_consumption = food_consumption[food_consumption['country'] == 'USA']\n",
        "\n",
        "# Calculate mean and median consumption in Belgium\n",
        "print(np.mean(be_consumption['consumption']))\n",
        "print(np.median(be_consumption['consumption']))\n",
        "\n",
        "# Calculate mean and median consumption in USA\n",
        "print(np.mean(usa_consumption['consumption']))\n",
        "print(np.median(usa_consumption['consumption']))"
      ],
      "execution_count": null,
      "outputs": []
    },
    {
      "cell_type": "code",
      "metadata": {
        "id": "7HwxOln-Ipad"
      },
      "source": [
        "# Import numpy as np\n",
        "import numpy as np\n",
        "\n",
        "# Subset for Belgium and USA only\n",
        "be_and_usa = food_consumption[(food_consumption['country'] == 'Belgium') | (food_consumption['country'] == 'USA')]\n",
        "\n",
        "# Group by country, select consumption column, and compute mean and median\n",
        "print(be_and_usa.groupby('country')['consumption'].agg([np.mean,np.median]))"
      ],
      "execution_count": null,
      "outputs": []
    },
    {
      "cell_type": "code",
      "metadata": {
        "id": "Gm5t8GdELCNo"
      },
      "source": [
        "# Import matplotlib.pyplot with alias plt\n",
        "import matplotlib.pyplot as plt\n",
        "\n",
        "# Subset for food_category equals rice\n",
        "rice_consumption = food_consumption[food_consumption['food_category']=='rice']\n",
        "\n",
        "# Histogram of co2_emission for rice and show plot\n",
        "plt.hist(rice_consumption['co2_emission'])\n",
        "plt.show()"
      ],
      "execution_count": null,
      "outputs": []
    },
    {
      "cell_type": "code",
      "metadata": {
        "id": "JJrxr_hQLDIx"
      },
      "source": [
        "# Subset for food_category equals rice\n",
        "rice_consumption = food_consumption[food_consumption['food_category'] == 'rice']\n",
        "\n",
        "# Calculate mean and median of co2_emission with .agg()\n",
        "print(rice_consumption['co2_emission'].agg([np.mean,np.median]))"
      ],
      "execution_count": null,
      "outputs": []
    },
    {
      "cell_type": "code",
      "metadata": {
        "id": "pjQPIeh7LfJd"
      },
      "source": [
        "# Calculate the deciles of co2_emission\n",
        "print(np.quantile(food_consumption['co2_emission'],np.linspace(0,1,10)))"
      ],
      "execution_count": null,
      "outputs": []
    },
    {
      "cell_type": "code",
      "metadata": {
        "id": "8Wt46rkeLb4P"
      },
      "source": [
        "# Calculate the quartiles of co2_emission\n",
        "print(np.quantile(food_consumption['co2_emission'],[0,0.25,0.5,0.75,1]))"
      ],
      "execution_count": null,
      "outputs": []
    },
    {
      "cell_type": "code",
      "metadata": {
        "id": "OjalD6zsLfsB"
      },
      "source": [
        "# Print variance and sd of co2_emission for each food_category\n",
        "print(food_consumption.groupby('food_category')['co2_emission'].agg([np.var,np.std]))\n",
        "# Import matplotlib.pyplot with alias plt\n",
        "import matplotlib.pyplot as plt\n",
        "\n",
        "# Create histogram of co2_emission for food_category 'beef'\n",
        "food_consumption.hist()\n",
        "plt.hist(food_consumption[food_consumption['food_category']=='beef']['co2_emission'])\n",
        "# Show plot\n",
        "plt.show()\n",
        "\n",
        "# Create histogram of co2_emission for food_category 'eggs'\n",
        "food_consumption.hist()\n",
        "plt.hist(food_consumption[food_consumption['food_category']=='eggs']['co2_emission'])\n",
        "# Show plot\n",
        "plt.show()"
      ],
      "execution_count": null,
      "outputs": []
    },
    {
      "cell_type": "code",
      "metadata": {
        "id": "SVuo_7mROOSt"
      },
      "source": [
        "# Calculate total co2_emission per country: emissions_by_country\n",
        "emissions_by_country = food_consumption.groupby('country')['co2_emission'].sum()\n",
        "print(emissions_by_country)\n",
        "print(food_consumption.groupby('country')['co2_emission'].agg([np.sum]))"
      ],
      "execution_count": null,
      "outputs": []
    },
    {
      "cell_type": "code",
      "metadata": {
        "id": "_ySMF7y9UOYU"
      },
      "source": [
        "# Calculate total co2_emission per country: emissions_by_country\n",
        "emissions_by_country = food_consumption.groupby('country')['co2_emission'].sum()\n",
        "\n",
        "# Compute the first and third quantiles and IQR of emissions_by_country\n",
        "q1 = np.quantile(emissions_by_country, 0.25)\n",
        "q3 = np.quantile(emissions_by_country, 0.75)\n",
        "iqr = q3 - q1\n",
        "\n",
        "# Calculate the lower and upper cutoffs for outliers\n",
        "lower = q1 - 1.5 * iqr\n",
        "upper = q3 + 1.5 * iqr\n",
        "\n",
        "# Subset emissions_by_country to find outliers\n",
        "outliers = emissions_by_country[(emissions_by_country < lower) | (emissions_by_country > upper)]\n",
        "print(outliers)"
      ],
      "execution_count": null,
      "outputs": []
    }
  ]
}