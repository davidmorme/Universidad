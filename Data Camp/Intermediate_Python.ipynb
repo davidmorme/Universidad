{
  "nbformat": 4,
  "nbformat_minor": 0,
  "metadata": {
    "colab": {
      "name": "Intermediate Python.ipynb",
      "provenance": [],
      "authorship_tag": "ABX9TyO6BT5eP6s2LMYLTVtHFr0N",
      "include_colab_link": true
    },
    "kernelspec": {
      "name": "python3",
      "display_name": "Python 3"
    }
  },
  "cells": [
    {
      "cell_type": "markdown",
      "metadata": {
        "id": "view-in-github",
        "colab_type": "text"
      },
      "source": [
        "<a href=\"https://colab.research.google.com/github/davidmorme/Universidad/blob/main/Data%20Camp/Intermediate_Python.ipynb\" target=\"_parent\"><img src=\"https://colab.research.google.com/assets/colab-badge.svg\" alt=\"Open In Colab\"/></a>"
      ]
    },
    {
      "cell_type": "code",
      "metadata": {
        "id": "8_DhCd2Sq91E"
      },
      "source": [
        "# Print the last item from year and pop\n",
        "print([year[-1],pop[-1]])\n",
        "\n",
        "# Import matplotlib.pyplot as plt\n",
        "import matplotlib.pyplot as plt\n",
        "\n",
        "# Make a line plot: year on the x-axis, pop on the y-axis\n",
        "plt.plot(year,pop)\n",
        "\n",
        "# Display the plot with plt.show()\n",
        "plt.show()"
      ],
      "execution_count": null,
      "outputs": []
    },
    {
      "cell_type": "code",
      "metadata": {
        "id": "U2acAzmBCegB"
      },
      "source": [
        "# Print the last item of gdp_cap and life_exp\n",
        "print([gdp_cap[-1],life_exp[-1]])\n",
        "\n",
        "\n",
        "# Make a line plot, gdp_cap on the x-axis, life_exp on the y-axis\n",
        "plt.plot(gdp_cap,life_exp)\n",
        "\n",
        "# Display the plot\n",
        "plt.show()"
      ],
      "execution_count": null,
      "outputs": []
    },
    {
      "cell_type": "code",
      "metadata": {
        "id": "8YPSVzZWChMJ"
      },
      "source": [
        "# Change the line plot below to a scatter plot\n",
        "plt.scatter(gdp_cap, life_exp)\n",
        "\n",
        "# Put the x-axis on a logarithmic scale\n",
        "plt.xscale(\"log\")\n",
        "\n",
        "# Show plot\n",
        "plt.show()"
      ],
      "execution_count": null,
      "outputs": []
    },
    {
      "cell_type": "code",
      "metadata": {
        "id": "05UbfxLyJlFY"
      },
      "source": [
        "# Build histogram with 5 bins\n",
        "plt.hist(life_exp,5)\n",
        "\n",
        "# Show and clean up plot\n",
        "plt.show()\n",
        "plt.clf()\n",
        "\n",
        "# Build histogram with 20 bins\n",
        "plt.hist(life_exp,20)\n",
        "\n",
        "# Show and clean up again\n",
        "plt.show()\n",
        "plt.clf()"
      ],
      "execution_count": null,
      "outputs": []
    },
    {
      "cell_type": "code",
      "metadata": {
        "id": "-wR2OU-lLO_p"
      },
      "source": [
        "# Basic scatter plot, log scale\n",
        "plt.scatter(gdp_cap, life_exp)\n",
        "plt.xscale('log') \n",
        "\n",
        "# Strings\n",
        "xlab = 'GDP per Capita [in USD]'\n",
        "ylab = 'Life Expectancy [in years]'\n",
        "title = 'World Development in 2007'\n",
        "\n",
        "# Add axis labels\n",
        "plt.xlabel(xlab)\n",
        "plt.ylabel(ylab)\n",
        "\n",
        "# Add title\n",
        "plt.title(title)\n",
        "\n",
        "# After customizing, display the plot\n",
        "plt.show()"
      ],
      "execution_count": null,
      "outputs": []
    },
    {
      "cell_type": "code",
      "metadata": {
        "id": "Vo_qPIXyLnFi"
      },
      "source": [
        "# Scatter plot\n",
        "plt.scatter(gdp_cap, life_exp)\n",
        "\n",
        "# Previous customizations\n",
        "plt.xscale('log') \n",
        "plt.xlabel('GDP per Capita [in USD]')\n",
        "plt.ylabel('Life Expectancy [in years]')\n",
        "plt.title('World Development in 2007')\n",
        "\n",
        "# Definition of tick_val and tick_lab\n",
        "tick_val = [1000, 10000, 100000]\n",
        "tick_lab = ['1k', '10k', '100k']\n",
        "\n",
        "# Adapt the ticks on the x-axis\n",
        "plt.xticks(tick_val,tick_lab)\n",
        "\n",
        "# After customizing, display the plot\n",
        "plt.show()"
      ],
      "execution_count": null,
      "outputs": []
    },
    {
      "cell_type": "code",
      "metadata": {
        "id": "5SmCe_LQMJ48"
      },
      "source": [
        "# Import numpy as np\n",
        "import numpy as np\n",
        "\n",
        "# Store pop as a numpy array: np_pop\n",
        "np_pop=np.array(pop)\n",
        "\n",
        "# Double np_pop\n",
        "np_pop=np_pop*2\n",
        "\n",
        "# Update: set s argument to np_pop\n",
        "plt.scatter(gdp_cap, life_exp, s = np_pop)\n",
        "\n",
        "# Previous customizations\n",
        "plt.xscale('log') \n",
        "plt.xlabel('GDP per Capita [in USD]')\n",
        "plt.ylabel('Life Expectancy [in years]')\n",
        "plt.title('World Development in 2007')\n",
        "plt.xticks([1000, 10000, 100000],['1k', '10k', '100k'])\n",
        "\n",
        "# Display the plot\n",
        "plt.show()"
      ],
      "execution_count": null,
      "outputs": []
    },
    {
      "cell_type": "code",
      "metadata": {
        "id": "UphJ8ssON5XV"
      },
      "source": [
        "# Scatter plot\n",
        "plt.scatter(x = gdp_cap, y = life_exp, s = np.array(pop) * 2, c = col, alpha = 0.8)\n",
        "\n",
        "# Previous customizations\n",
        "plt.xscale('log') \n",
        "plt.xlabel('GDP per Capita [in USD]')\n",
        "plt.ylabel('Life Expectancy [in years]')\n",
        "plt.title('World Development in 2007')\n",
        "plt.xticks([1000,10000,100000], ['1k','10k','100k'])\n",
        "\n",
        "# Additional customizations\n",
        "plt.text(1550, 71, 'India')\n",
        "plt.text(5700, 80, 'China')\n",
        "\n",
        "# Add grid() call\n",
        "plt.grid(True)\n",
        "\n",
        "# Show the plot\n",
        "plt.show()"
      ],
      "execution_count": null,
      "outputs": []
    },
    {
      "cell_type": "code",
      "metadata": {
        "id": "WRXT1_78PALq"
      },
      "source": [
        "# Definition of countries and capital\n",
        "countries = ['spain', 'france', 'germany', 'norway']\n",
        "capitals = ['madrid', 'paris', 'berlin', 'oslo']\n",
        "\n",
        "# Get index of 'germany': ind_ger\n",
        "ind_ger=countries.index(\"germany\")\n",
        "\n",
        "# Use ind_ger to print out capital of Germany\n",
        "print(capitals[ind_ger])"
      ],
      "execution_count": null,
      "outputs": []
    },
    {
      "cell_type": "code",
      "metadata": {
        "id": "A8oOw75RPVmN"
      },
      "source": [
        "# Definition of countries and capital\n",
        "countries = ['spain', 'france', 'germany', 'norway']\n",
        "capitals = ['madrid', 'paris', 'berlin', 'oslo']\n",
        "\n",
        "# From string in countries and capitals, create dictionary europe\n",
        "europe = { 'spain':'madrid', 'france':'paris', 'germany':'berlin', 'norway':'oslo'}\n",
        "\n",
        "# Print europe\n",
        "print(europe)"
      ],
      "execution_count": null,
      "outputs": []
    },
    {
      "cell_type": "code",
      "metadata": {
        "id": "m7i6OCYTP8tw"
      },
      "source": [
        "# Definition of dictionary\n",
        "europe = {'spain':'madrid', 'france':'paris', 'germany':'berlin', 'norway':'oslo' }\n",
        "\n",
        "# Print out the keys in europe\n",
        "print(europe.keys())\n",
        "\n",
        "# Print out value that belongs to key 'norway'\n",
        "print(europe['norway'])"
      ],
      "execution_count": null,
      "outputs": []
    },
    {
      "cell_type": "code",
      "metadata": {
        "id": "LX0YcymmRLtf"
      },
      "source": [
        "# Definition of dictionary\n",
        "europe = {'spain':'madrid', 'france':'paris', 'germany':'berlin', 'norway':'oslo' }\n",
        "\n",
        "# Add italy to europe\n",
        "europe['italy']='rome'\n",
        "\n",
        "# Print out italy in europe\n",
        "print('italy' in europe)\n",
        "\n",
        "# Add poland to europe\n",
        "europe['poland']='warsaw'\n",
        "\n",
        "# Print europe\n",
        "print(europe)"
      ],
      "execution_count": null,
      "outputs": []
    },
    {
      "cell_type": "code",
      "metadata": {
        "id": "oLcIQ112RgRT"
      },
      "source": [
        "# Definition of dictionary\n",
        "europe = {'spain':'madrid', 'france':'paris', 'germany':'bonn',\n",
        "          'norway':'oslo', 'italy':'rome', 'poland':'warsaw',\n",
        "          'australia':'vienna' }\n",
        "\n",
        "# Update capital of germany\n",
        "europe['germany']='berlin'\n",
        "\n",
        "# Remove australia\n",
        "del(europe['australia'])\n",
        "\n",
        "# Print europe\n",
        "print(europe)"
      ],
      "execution_count": null,
      "outputs": []
    },
    {
      "cell_type": "code",
      "metadata": {
        "id": "Dn9OEEK6SiYu"
      },
      "source": [
        "# Dictionary of dictionaries\n",
        "europe = { 'spain': { 'capital':'madrid', 'population':46.77 },\n",
        "           'france': { 'capital':'paris', 'population':66.03 },\n",
        "           'germany': { 'capital':'berlin', 'population':80.62 },\n",
        "           'norway': { 'capital':'oslo', 'population':5.084 } }\n",
        "\n",
        "\n",
        "# Print out the capital of France\n",
        "print(europe['france']['capital'])\n",
        "\n",
        "# Create sub-dictionary data\n",
        "data={'capital':'rome','population':59.83}\n",
        "\n",
        "# Add data to europe under key 'italy'\n",
        "europe['italy']=data\n",
        "\n",
        "# Print europe\n",
        "print(europe)"
      ],
      "execution_count": null,
      "outputs": []
    },
    {
      "cell_type": "code",
      "metadata": {
        "id": "kPEka9ENUVFP"
      },
      "source": [
        "# Pre-defined lists\n",
        "names = ['United States', 'Australia', 'Japan', 'India', 'Russia', 'Morocco', 'Egypt']\n",
        "dr =  [True, False, False, False, True, True, True]\n",
        "cpc = [809, 731, 588, 18, 200, 70, 45]\n",
        "\n",
        "# Import pandas as pd\n",
        "import pandas as pd\n",
        "\n",
        "# Create dictionary my_dict with three key:value pairs: my_dict\n",
        "my_dict={'country':names,'drives_right':dr,'cars_per_cap':cpc}\n",
        "\n",
        "# Build a DataFrame cars from my_dict: cars\n",
        "cars=pd.DataFrame(my_dict)\n",
        "\n",
        "# Print cars\n",
        "print(cars)"
      ],
      "execution_count": null,
      "outputs": []
    },
    {
      "cell_type": "code",
      "metadata": {
        "id": "rhlWU11eUt1J"
      },
      "source": [
        "import pandas as pd\n",
        "\n",
        "# Build cars DataFrame\n",
        "names = ['United States', 'Australia', 'Japan', 'India', 'Russia', 'Morocco', 'Egypt']\n",
        "dr =  [True, False, False, False, True, True, True]\n",
        "cpc = [809, 731, 588, 18, 200, 70, 45]\n",
        "cars_dict = { 'country':names, 'drives_right':dr, 'cars_per_cap':cpc }\n",
        "cars = pd.DataFrame(cars_dict)\n",
        "print(cars)\n",
        "\n",
        "# Definition of row_labels\n",
        "row_labels = ['US', 'AUS', 'JPN', 'IN', 'RU', 'MOR', 'EG']\n",
        "\n",
        "# Specify row labels of cars\n",
        "cars.index=row_labels\n",
        "\n",
        "# Print cars again\n",
        "print(cars)"
      ],
      "execution_count": null,
      "outputs": []
    },
    {
      "cell_type": "code",
      "metadata": {
        "id": "Y-l_Wu17Vs7q"
      },
      "source": [
        "# Import pandas as pd\n",
        "import pandas as pd\n",
        "\n",
        "# Fix import by including index_col\n",
        "cars = pd.read_csv('cars.csv',index_col=0)\n",
        "\n",
        "# Print out cars\n",
        "print(cars)"
      ],
      "execution_count": null,
      "outputs": []
    },
    {
      "cell_type": "code",
      "metadata": {
        "id": "IgRpHlI_aHh_"
      },
      "source": [
        "# Import cars data\n",
        "import pandas as pd\n",
        "cars = pd.read_csv('cars.csv', index_col = 0)\n",
        "\n",
        "# Print out country column as Pandas Series\n",
        "print(cars['country'])\n",
        "\n",
        "# Print out country column as Pandas DataFrame\n",
        "print(cars[['country']])\n",
        "\n",
        "# Print out DataFrame with country and drives_right columns\n",
        "print(cars[['country','drives_right']])"
      ],
      "execution_count": null,
      "outputs": []
    },
    {
      "cell_type": "code",
      "metadata": {
        "id": "Eth0yBLua7Qm"
      },
      "source": [
        "# Import cars data\n",
        "import pandas as pd\n",
        "cars = pd.read_csv('cars.csv', index_col = 0)\n",
        "\n",
        "# Print out first 3 observations\n",
        "print(cars[0:3])\n",
        "\n",
        "# Print out fourth, fifth and sixth observation\n",
        "print(cars[3:6])"
      ],
      "execution_count": null,
      "outputs": []
    },
    {
      "cell_type": "code",
      "metadata": {
        "id": "5enp8MX9bk8r"
      },
      "source": [
        "# Import cars data\n",
        "import pandas as pd\n",
        "cars = pd.read_csv('cars.csv', index_col = 0)\n",
        "\n",
        "# Print out observation for Japan\n",
        "print(cars.loc[\"JPN\"])\n",
        "\n",
        "# Print out observations for Australia and Egypt\n",
        "print(cars.loc[[\"AUS\",\"EG\"]])"
      ],
      "execution_count": null,
      "outputs": []
    },
    {
      "cell_type": "code",
      "metadata": {
        "id": "osN0nFF6cyft"
      },
      "source": [
        "# Import cars data\n",
        "import pandas as pd\n",
        "cars = pd.read_csv('cars.csv', index_col = 0)\n",
        "\n",
        "# Print out drives_right value of Morocco\n",
        "print(cars.loc['MOR','drives_right'])\n",
        "\n",
        "# Print sub-DataFrame\n",
        "print(cars.loc[['RU','MOR'],['country','drives_right']])"
      ],
      "execution_count": null,
      "outputs": []
    },
    {
      "cell_type": "code",
      "metadata": {
        "id": "FlzHc1Pcdg0W"
      },
      "source": [
        "cars = pd.read_csv('cars.csv', index_col = 0)\n",
        "\n",
        "# Print out drives_right column as Series\n",
        "print(cars['drives_right'])\n",
        "\n",
        "# Print out drives_right column as DataFrame\n",
        "print(cars[['drives_right']])\n",
        "\n",
        "# Print out cars_per_cap and drives_right as DataFrame\n",
        "print(cars[['cars_per_cap','drives_right']])"
      ],
      "execution_count": null,
      "outputs": []
    },
    {
      "cell_type": "code",
      "metadata": {
        "id": "OUqbEAVefxXT"
      },
      "source": [
        "# Create arrays\n",
        "import numpy as np\n",
        "my_house = np.array([18.0, 20.0, 10.75, 9.50])\n",
        "your_house = np.array([14.0, 24.0, 14.25, 9.0])\n",
        "\n",
        "# my_house greater than or equal to 18\n",
        "print(my_house>=18)\n",
        "\n",
        "# my_house less than your_house\n",
        "print(my_house<your_house)"
      ],
      "execution_count": null,
      "outputs": []
    },
    {
      "cell_type": "code",
      "metadata": {
        "id": "iw9W4Z3qhz_s"
      },
      "source": [
        "# Define variables\n",
        "my_kitchen = 18.0\n",
        "your_kitchen = 14.0\n",
        "\n",
        "# my_kitchen bigger than 10 and smaller than 18?\n",
        "print(my_kitchen > 10 and my_kitchen < 18)\n",
        "\n",
        "# my_kitchen smaller than 14 or bigger than 17?\n",
        "print(my_kitchen > 14 or my_kitchen > 17)\n",
        "\n",
        "# Double my_kitchen smaller than triple your_kitchen?\n",
        "print(my_kitchen*2 < 3*your_kitchen)"
      ],
      "execution_count": null,
      "outputs": []
    },
    {
      "cell_type": "code",
      "metadata": {
        "id": "NSaZGbmfhuhb"
      },
      "source": [
        "# Create arrays\n",
        "import numpy as np\n",
        "my_house = np.array([18.0, 20.0, 10.75, 9.50])\n",
        "your_house = np.array([14.0, 24.0, 14.25, 9.0])\n",
        "\n",
        "# my_house greater than 18.5 or smaller than 10\n",
        "print(np.logical_or(my_house>18.5,my_house<10))\n",
        "\n",
        "# Both my_house and your_house smaller than 11\n",
        "print(np.logical_and(my_house<11,your_house<11))"
      ],
      "execution_count": null,
      "outputs": []
    },
    {
      "cell_type": "code",
      "metadata": {
        "id": "NOofPGSEjXiA"
      },
      "source": [
        "# Define variables\n",
        "room = \"bed\"\n",
        "area = 14.0\n",
        "\n",
        "# if-elif-else construct for room\n",
        "if room == \"kit\" :\n",
        "    print(\"looking around in the kitchen.\")\n",
        "elif room == \"bed\":\n",
        "    print(\"looking around in the bedroom.\")\n",
        "else :\n",
        "    print(\"looking around elsewhere.\")\n",
        "\n",
        "# if-elif-else construct for area\n",
        "if area > 15 :\n",
        "    print(\"big place!\")\n",
        "elif area > 10:\n",
        "    print(\"medium size, nice!\")\n",
        "else :\n",
        "    print(\"pretty small.\")"
      ],
      "execution_count": null,
      "outputs": []
    },
    {
      "cell_type": "code",
      "metadata": {
        "id": "vjk8qh1cnPOG"
      },
      "source": [
        "import pandas as pd\n",
        "cars = pd.read_csv('cars.csv', index_col = 0)\n",
        "\n",
        "# Extract drives_right column as Series: dr\n",
        "dr=cars['drives_right']\n",
        "\n",
        "# Use dr to subset cars: sel\n",
        "sel=cars[dr]\n",
        "\n",
        "# Print sel\n",
        "print(sel)"
      ],
      "execution_count": null,
      "outputs": []
    },
    {
      "cell_type": "code",
      "metadata": {
        "id": "qG8GIGPgnaEm"
      },
      "source": [
        "# Import cars data\n",
        "import pandas as pd\n",
        "cars = pd.read_csv('cars.csv', index_col = 0)\n",
        "\n",
        "# Convert code to a one-liner\n",
        "sel = cars[cars['drives_right']]\n",
        "\n",
        "# Print sel\n",
        "print(sel)"
      ],
      "execution_count": null,
      "outputs": []
    },
    {
      "cell_type": "code",
      "metadata": {
        "id": "FmPVls3voMWl"
      },
      "source": [
        "# Import cars data\n",
        "import pandas as pd\n",
        "cars = pd.read_csv('cars.csv', index_col = 0)\n",
        "\n",
        "# Create car_maniac: observations that have a cars_per_cap over 500\n",
        "cpc=cars['cars_per_cap']\n",
        "many_cars=cpc>500\n",
        "car_maniac=cars[many_cars]\n",
        "\n",
        "# Print car_maniac\n",
        "print(car_maniac)"
      ],
      "execution_count": null,
      "outputs": []
    },
    {
      "cell_type": "code",
      "metadata": {
        "id": "Wkz-g1c3oxnS"
      },
      "source": [
        "# Import cars data\n",
        "import pandas as pd\n",
        "cars = pd.read_csv('cars.csv', index_col = 0)\n",
        "\n",
        "# Import numpy, you'll need this\n",
        "import numpy as np\n",
        "\n",
        "# Create medium: observations with cars_per_cap between 100 and 500\n",
        "medium=cars[np.logical_and(cars['cars_per_cap']>100,cars['cars_per_cap']<500)]\n",
        "\n",
        "# Print medium\n",
        "print(medium)"
      ],
      "execution_count": null,
      "outputs": []
    },
    {
      "cell_type": "code",
      "metadata": {
        "id": "3glRKO6tqQLB",
        "colab": {
          "base_uri": "https://localhost:8080/",
          "height": 289
        },
        "outputId": "0bc8f978-9c5b-4db1-cfc4-03272153ed11"
      },
      "source": [
        "# Initialize offset\n",
        "offset=8\n",
        "\n",
        "# Code the while loop\n",
        "while offset!=0:\n",
        "    print(\"correcting...\")\n",
        "    offset=offset-1\n",
        "    print(offset)"
      ],
      "execution_count": null,
      "outputs": [
        {
          "output_type": "stream",
          "text": [
            "correcting...\n",
            "7\n",
            "correcting...\n",
            "6\n",
            "correcting...\n",
            "5\n",
            "correcting...\n",
            "4\n",
            "correcting...\n",
            "3\n",
            "correcting...\n",
            "2\n",
            "correcting...\n",
            "1\n",
            "correcting...\n",
            "0\n"
          ],
          "name": "stdout"
        }
      ]
    },
    {
      "cell_type": "code",
      "metadata": {
        "id": "ZNpuocVEq7YG",
        "colab": {
          "base_uri": "https://localhost:8080/",
          "height": 221
        },
        "outputId": "b55e7f51-44a1-49eb-c177-ef8c555bafa0"
      },
      "source": [
        "# Initialize offset\n",
        "offset = -6\n",
        "\n",
        "# Code the while loop\n",
        "while offset != 0 :\n",
        "    print(\"correcting...\")\n",
        "    if offset>0 :\n",
        "      offset=offset-1\n",
        "    else : \n",
        "      offset=offset+1    \n",
        "    print(offset)"
      ],
      "execution_count": null,
      "outputs": [
        {
          "output_type": "stream",
          "text": [
            "correcting...\n",
            "-5\n",
            "correcting...\n",
            "-4\n",
            "correcting...\n",
            "-3\n",
            "correcting...\n",
            "-2\n",
            "correcting...\n",
            "-1\n",
            "correcting...\n",
            "0\n"
          ],
          "name": "stdout"
        }
      ]
    },
    {
      "cell_type": "code",
      "metadata": {
        "id": "LkYbz5Cwrz4q"
      },
      "source": [
        "# areas list\n",
        "areas = [11.25, 18.0, 20.0, 10.75, 9.50]\n",
        "\n",
        "# Code the for loop\n",
        "for ar in areas:\n",
        "    print(ar)"
      ],
      "execution_count": null,
      "outputs": []
    },
    {
      "cell_type": "code",
      "metadata": {
        "id": "E7OXJXwPsfxi"
      },
      "source": [
        "# areas list\n",
        "areas = [11.25, 18.0, 20.0, 10.75, 9.50]\n",
        "\n",
        "# Change for loop to use enumerate() and update print()\n",
        "for x, y in enumerate(areas) :\n",
        "    print(\"room \" + str(x)+\": \"+str(y))"
      ],
      "execution_count": null,
      "outputs": []
    },
    {
      "cell_type": "code",
      "metadata": {
        "id": "6SoqH_9ktojG"
      },
      "source": [
        "# house list of lists\n",
        "house = [[\"hallway\", 11.25], \n",
        "         [\"kitchen\", 18.0], \n",
        "         [\"living room\", 20.0], \n",
        "         [\"bedroom\", 10.75], \n",
        "         [\"bathroom\", 9.50]]\n",
        "         \n",
        "# Build a for loop from scratch\n",
        "for x, y in house:\n",
        "    print(\"the \"+x+\" is \"+str(y)+\" sqm\")"
      ],
      "execution_count": null,
      "outputs": []
    },
    {
      "cell_type": "code",
      "metadata": {
        "id": "HR3JoJm-u7B5"
      },
      "source": [
        "# Definition of dictionary\n",
        "europe = {'spain':'madrid', 'france':'paris', 'germany':'berlin',\n",
        "          'norway':'oslo', 'italy':'rome', 'poland':'warsaw', 'austria':'vienna'}\n",
        "          \n",
        "# Iterate over europe\n",
        "for x,y in europe.items():\n",
        "    print(\"the capital of \"+x+\" is \"+y)"
      ],
      "execution_count": null,
      "outputs": []
    },
    {
      "cell_type": "code",
      "metadata": {
        "id": "zaZ5vDzjwNO5"
      },
      "source": [
        "# Import numpy as np\n",
        "import numpy as np\n",
        "\n",
        "# For loop over np_height\n",
        "for x in np_height:\n",
        "    print(str(x)+\" inches\")\n",
        "\n",
        "# For loop over np_baseball\n",
        "for x in np.nditer(np_baseball):\n",
        "    print(x)"
      ],
      "execution_count": null,
      "outputs": []
    },
    {
      "cell_type": "code",
      "metadata": {
        "id": "-KNhje7RyiJM"
      },
      "source": [
        "# Import cars data\n",
        "import pandas as pd\n",
        "cars = pd.read_csv('cars.csv', index_col = 0)\n",
        "\n",
        "# Iterate over rows of cars\n",
        "for label, x in cars.iterrows():\n",
        "    print(label)\n",
        "    print(x)"
      ],
      "execution_count": null,
      "outputs": []
    },
    {
      "cell_type": "code",
      "metadata": {
        "id": "h6oe-OQtzg7y"
      },
      "source": [
        "# Import cars data\n",
        "import pandas as pd\n",
        "cars = pd.read_csv('cars.csv', index_col = 0)\n",
        "\n",
        "# Adapt for loop\n",
        "for lab, row in cars.iterrows() :\n",
        "    print(lab+\": \"+str(row.loc['cars_per_cap']))"
      ],
      "execution_count": null,
      "outputs": []
    },
    {
      "cell_type": "code",
      "metadata": {
        "id": "Pdrlcu1wAHA0"
      },
      "source": [
        "# Import cars data\n",
        "import pandas as pd\n",
        "cars = pd.read_csv('cars.csv', index_col = 0)\n",
        "\n",
        "# Code for loop that adds COUNTRY column\n",
        "for lab,rows in cars.iterrows():\n",
        "    cars.loc[lab, \"COUNTRY\"]=cars.loc[lab,'country'].upper()\n",
        "\n",
        "\n",
        "# Print cars\n",
        "print(cars)"
      ],
      "execution_count": null,
      "outputs": []
    },
    {
      "cell_type": "code",
      "metadata": {
        "id": "BGEVzlbEA-1X"
      },
      "source": [
        "# Import cars data\n",
        "import pandas as pd\n",
        "cars = pd.read_csv('cars.csv', index_col = 0)\n",
        "\n",
        "# Use .apply(str.upper)\n",
        "cars[\"COUNTRY\"] = cars[\"country\"].apply(str.upper)\n",
        "print(cars)"
      ],
      "execution_count": null,
      "outputs": []
    }
  ]
}