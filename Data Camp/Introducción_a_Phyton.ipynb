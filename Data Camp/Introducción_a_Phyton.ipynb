{
  "nbformat": 4,
  "nbformat_minor": 0,
  "metadata": {
    "colab": {
      "name": "Introducción a Phyton.ipynb",
      "provenance": [],
      "authorship_tag": "ABX9TyPQ8HwAA7M0G6mP4ACIQ3jd",
      "include_colab_link": true
    },
    "kernelspec": {
      "name": "python3",
      "display_name": "Python 3"
    }
  },
  "cells": [
    {
      "cell_type": "markdown",
      "metadata": {
        "id": "view-in-github",
        "colab_type": "text"
      },
      "source": [
        "<a href=\"https://colab.research.google.com/github/davidmorme/Universidad/blob/main/Data%20Camp/Introducci%C3%B3n_a_Phyton.ipynb\" target=\"_parent\"><img src=\"https://colab.research.google.com/assets/colab-badge.svg\" alt=\"Open In Colab\"/></a>"
      ]
    },
    {
      "cell_type": "code",
      "metadata": {
        "id": "50LDivOvWSkS",
        "colab": {
          "base_uri": "https://localhost:8080/",
          "height": 34
        },
        "outputId": "e0699ca9-6dac-4adf-8acd-36fa92a49af5"
      },
      "source": [
        "from google.colab import drive\n",
        "drive.mount('/content/drive')"
      ],
      "execution_count": null,
      "outputs": [
        {
          "output_type": "stream",
          "text": [
            "Mounted at /content/drive\n"
          ],
          "name": "stdout"
        }
      ]
    },
    {
      "cell_type": "code",
      "metadata": {
        "id": "IAgho6NgVxRy"
      },
      "source": [
        "baseball=pd.read_csv(\"/content/drive/My Drive/baseball.csv\")\n",
        "soccer=pd.read_csv(\"/content/drive/My Drive/soccer.csv\")"
      ],
      "execution_count": null,
      "outputs": []
    },
    {
      "cell_type": "code",
      "metadata": {
        "id": "h9NP8VUO6xQE",
        "colab": {
          "base_uri": "https://localhost:8080/",
          "height": 34
        },
        "outputId": "0f0ecfbc-f17e-4f3b-b0a3-e25d3408663c"
      },
      "source": [
        "import numpy as np\n",
        "x=np.array([1,2,3,4,5,6])\n",
        "print(x[3:5])"
      ],
      "execution_count": null,
      "outputs": [
        {
          "output_type": "stream",
          "text": [
            "[4 5]\n"
          ],
          "name": "stdout"
        }
      ]
    },
    {
      "cell_type": "code",
      "metadata": {
        "id": "0lC1XCBr7EwC",
        "colab": {
          "base_uri": "https://localhost:8080/",
          "height": 34
        },
        "outputId": "299857a8-2beb-42d7-9925-a5607133c5d3"
      },
      "source": [
        "import numpy as np\n",
        "x=np.array([1,2,3,4,5,6])\n",
        "print(max(x))"
      ],
      "execution_count": null,
      "outputs": [
        {
          "output_type": "stream",
          "text": [
            "6\n"
          ],
          "name": "stdout"
        }
      ]
    },
    {
      "cell_type": "code",
      "metadata": {
        "id": "A-YTK69s_JAs",
        "colab": {
          "base_uri": "https://localhost:8080/",
          "height": 34
        },
        "outputId": "ca28cbcc-4055-4db2-a41e-42b5bd8cbfc6"
      },
      "source": [
        "#Imprimir datos de una matriz\n",
        "import numpy as np\n",
        "x=np.array([[1,2,3,4,5,6],\n",
        "            [5,9,8,7,6,5]])\n",
        "print(x[1,2])"
      ],
      "execution_count": null,
      "outputs": [
        {
          "output_type": "stream",
          "text": [
            "8\n"
          ],
          "name": "stdout"
        }
      ]
    },
    {
      "cell_type": "code",
      "metadata": {
        "id": "5C-dfIPv_pJP",
        "colab": {
          "base_uri": "https://localhost:8080/",
          "height": 34
        },
        "outputId": "21c0305d-ccc8-4cf1-af41-49d20bd32a5d"
      },
      "source": [
        "#Borrar datos de una lista de objetos\n",
        "import numpy as np\n",
        "x=[1,2,3,4,5,6]\n",
        "del(x[3:5])\n",
        "print(x)"
      ],
      "execution_count": null,
      "outputs": [
        {
          "output_type": "stream",
          "text": [
            "[1, 2, 3, 6]\n"
          ],
          "name": "stdout"
        }
      ]
    },
    {
      "cell_type": "code",
      "metadata": {
        "id": "GC-AZHr5AeQx",
        "colab": {
          "base_uri": "https://localhost:8080/",
          "height": 51
        },
        "outputId": "2f77cb15-73dd-4f4e-a566-0482cd999075"
      },
      "source": [
        "x=0\n",
        "y=1\n",
        "z=2\n",
        "print([x,y,z])\n",
        "print(x,y,z)"
      ],
      "execution_count": null,
      "outputs": [
        {
          "output_type": "stream",
          "text": [
            "[0, 1, 2]\n",
            "0 1 2\n"
          ],
          "name": "stdout"
        }
      ]
    },
    {
      "cell_type": "code",
      "metadata": {
        "id": "eMPW792TBjAf",
        "colab": {
          "base_uri": "https://localhost:8080/",
          "height": 51
        },
        "outputId": "c270669f-923f-4353-c22b-1927b22f90db"
      },
      "source": [
        "# \"%\" es módulo, \"/\" es división\n",
        "print(1/4)\n",
        "print(7%4)"
      ],
      "execution_count": null,
      "outputs": [
        {
          "output_type": "stream",
          "text": [
            "0.25\n",
            "3\n"
          ],
          "name": "stdout"
        }
      ]
    },
    {
      "cell_type": "code",
      "metadata": {
        "id": "c1wqYllVCAjU",
        "colab": {
          "base_uri": "https://localhost:8080/",
          "height": 68
        },
        "outputId": "3a3d0f62-1703-452e-f7f5-ab942b5f5420"
      },
      "source": [
        "# contar veces que se repite un dato en una lista\n",
        "x=[2,5,\"G\",\"g\",\"A\",5,5,\"A\"]\n",
        "print(x.count(\"A\"))\n",
        "print(x.count(\"g\"))\n",
        "print(x.count(5))"
      ],
      "execution_count": null,
      "outputs": [
        {
          "output_type": "stream",
          "text": [
            "2\n",
            "1\n",
            "3\n"
          ],
          "name": "stdout"
        }
      ]
    },
    {
      "cell_type": "code",
      "metadata": {
        "id": "JYS5QhCqDnDz",
        "colab": {
          "base_uri": "https://localhost:8080/",
          "height": 51
        },
        "outputId": "e1023fd7-c29a-4699-e1fe-5117b5a341ed"
      },
      "source": [
        "#Imprimir datos de una lista matricial\n",
        "x=[[2,5,\"G\",\"g\",\"A\",5,5,\"A\"],[1,2,3,4,5,6,7,8],[\"F\",\"e\",9,13,634,54,3,\"t\"]]\n",
        "print(x[2][0:4])\n",
        "print(x[0:2])"
      ],
      "execution_count": null,
      "outputs": [
        {
          "output_type": "stream",
          "text": [
            "['F', 'e', 9, 13]\n",
            "[[2, 5, 'G', 'g', 'A', 5, 5, 'A'], [1, 2, 3, 4, 5, 6, 7, 8]]\n"
          ],
          "name": "stdout"
        }
      ]
    },
    {
      "cell_type": "code",
      "metadata": {
        "id": "ivgv4X08EZRh",
        "colab": {
          "base_uri": "https://localhost:8080/",
          "height": 51
        },
        "outputId": "1ff4359c-9ff1-45b4-99dd-1f3254819d52"
      },
      "source": [
        "x=[1,2,3,4,5,6,7,8,9,0,1,1,42534,653,2,3,542,567,54]\n",
        "y=x\n",
        "del(y[2])\n",
        "print(x);print(y)\n"
      ],
      "execution_count": null,
      "outputs": [
        {
          "output_type": "stream",
          "text": [
            "[1, 2, 4, 5, 6, 7, 8, 9, 0, 1, 1, 42534, 653, 2, 3, 542, 567, 54]\n",
            "[1, 2, 4, 5, 6, 7, 8, 9, 0, 1, 1, 42534, 653, 2, 3, 542, 567, 54]\n"
          ],
          "name": "stdout"
        }
      ]
    },
    {
      "cell_type": "code",
      "metadata": {
        "id": "tmhSBnxcxGL6",
        "colab": {
          "base_uri": "https://localhost:8080/",
          "height": 51
        },
        "outputId": "a7c2494a-a842-4f2e-d14d-08c50d84c8bc"
      },
      "source": [
        "x=[1,2,3,4,5,6,7,8,9,0,1,1,42534,653,2,3,542,567,54]\n",
        "y=list(x)\n",
        "del(y[2])\n",
        "print(x);print(y)"
      ],
      "execution_count": null,
      "outputs": [
        {
          "output_type": "stream",
          "text": [
            "[1, 2, 3, 4, 5, 6, 7, 8, 9, 0, 1, 1, 42534, 653, 2, 3, 542, 567, 54]\n",
            "[1, 2, 4, 5, 6, 7, 8, 9, 0, 1, 1, 42534, 653, 2, 3, 542, 567, 54]\n"
          ],
          "name": "stdout"
        }
      ]
    },
    {
      "cell_type": "code",
      "metadata": {
        "id": "qBccV9ZCwgRX",
        "colab": {
          "base_uri": "https://localhost:8080/",
          "height": 170
        },
        "outputId": "60206222-4c2a-48c1-9fde-152bcc61cd71"
      },
      "source": [
        "help(round)"
      ],
      "execution_count": null,
      "outputs": [
        {
          "output_type": "stream",
          "text": [
            "Help on built-in function round in module builtins:\n",
            "\n",
            "round(...)\n",
            "    round(number[, ndigits]) -> number\n",
            "    \n",
            "    Round a number to a given precision in decimal digits (default 0 digits).\n",
            "    This returns an int when called with one argument, otherwise the\n",
            "    same type as the number. ndigits may be negative.\n",
            "\n"
          ],
          "name": "stdout"
        }
      ]
    },
    {
      "cell_type": "code",
      "metadata": {
        "id": "R-tbMcDsy-LG",
        "colab": {
          "base_uri": "https://localhost:8080/",
          "height": 34
        },
        "outputId": "479c248f-a729-41cf-ecc7-38cffb9da6f4"
      },
      "source": [
        "#Número complejo\n",
        "complex(35,5)"
      ],
      "execution_count": null,
      "outputs": [
        {
          "output_type": "execute_result",
          "data": {
            "text/plain": [
              "(35+5j)"
            ]
          },
          "metadata": {
            "tags": []
          },
          "execution_count": 17
        }
      ]
    },
    {
      "cell_type": "code",
      "metadata": {
        "id": "jldY4GsJ0c_e"
      },
      "source": [
        "# Create lists first and second\n",
        "first = [11.25, 18.0, 20.0]\n",
        "second = [10.75, 9.50]\n",
        "\n",
        "# Paste together first and second: full\n",
        "full=first+second\n",
        "\n",
        "# Sort full in descending order: full_sorted\n",
        "full_sorted=sorted(full,reverse=True)\n",
        "# Si reverse es False, la lista va a estar en orden ascendente. Si reverse es reverse es True, es en orden descendente\n",
        "# Print out full_sorted\n",
        "print(full_sorted)"
      ],
      "execution_count": null,
      "outputs": []
    },
    {
      "cell_type": "code",
      "metadata": {
        "id": "y18fLAErNny7",
        "colab": {
          "base_uri": "https://localhost:8080/",
          "height": 51
        },
        "outputId": "6fc0ac31-bfc0-4346-e2c2-6fcbc8e38ad2"
      },
      "source": [
        "# string to experiment with: place\n",
        "place = \"poolhouse\"\n",
        "\n",
        "# Use upper() on place: place_up\n",
        "place_up=place.capitalize()\n",
        "\n",
        "# Print out place and place_up\n",
        "print(place, place_up)\n",
        "\n",
        "# Print out the number of o's in place\n",
        "print(place.count(\"o\"))"
      ],
      "execution_count": null,
      "outputs": [
        {
          "output_type": "stream",
          "text": [
            "poolhouse Poolhouse\n",
            "3\n"
          ],
          "name": "stdout"
        }
      ]
    },
    {
      "cell_type": "code",
      "metadata": {
        "id": "sVK-HnYtOh43",
        "colab": {
          "base_uri": "https://localhost:8080/",
          "height": 51
        },
        "outputId": "9b385953-3cde-4c23-e650-5e8b7e6e5aa4"
      },
      "source": [
        "# string to experiment with: place\n",
        "place = \"poolhouse\"\n",
        "\n",
        "# Use upper() on place: place_up\n",
        "place_up=place.upper()\n",
        "\n",
        "# Print out place and place_up\n",
        "print(place, place_up)\n",
        "\n",
        "# Print out the number of o's in place\n",
        "print(place.count(\"o\"))"
      ],
      "execution_count": null,
      "outputs": [
        {
          "output_type": "stream",
          "text": [
            "poolhouse POOLHOUSE\n",
            "3\n"
          ],
          "name": "stdout"
        }
      ]
    },
    {
      "cell_type": "code",
      "metadata": {
        "id": "5PRcIz6yPpUP"
      },
      "source": [
        "# Create list areas\n",
        "areas = [11.25, 18.0, 20.0, 10.75, 9.50]\n",
        "\n",
        "# Print out the index of the element 20.0\n",
        "print(areas.index(20.0))\n",
        "\n",
        "# Print out how often 9.50 appears in areas\n",
        "print(areas.count(9.50))"
      ],
      "execution_count": null,
      "outputs": []
    },
    {
      "cell_type": "code",
      "metadata": {
        "id": "s_PVK6lvQOZa"
      },
      "source": [
        "# Create list areas\n",
        "areas = [11.25, 18.0, 20.0, 10.75, 9.50]\n",
        "\n",
        "# Use append twice to add poolhouse and garage size\n",
        "areas.append(24.5)\n",
        "areas.append(15.45)\n",
        "\n",
        "# Print out areas\n",
        "print(areas)\n",
        "\n",
        "# Reverse the orders of the elements in areas\n",
        "areas.reverse()\n",
        "\n",
        "# Print out areas\n",
        "print(areas)"
      ],
      "execution_count": null,
      "outputs": []
    },
    {
      "cell_type": "code",
      "metadata": {
        "id": "G-xN3pJyR81k"
      },
      "source": [
        "# Definition of radius\n",
        "r = 0.43\n",
        "\n",
        "# Import the math package\n",
        "import math\n",
        "\n",
        "# Calculate C\n",
        "C = 2*math.pi*r\n",
        "\n",
        "# Calculate A\n",
        "A = math.pi*r**2\n",
        "\n",
        "# Build printout\n",
        "print(\"Circumference: \" + str(C))\n",
        "print(\"Area: \" + str(A))"
      ],
      "execution_count": null,
      "outputs": []
    },
    {
      "cell_type": "code",
      "metadata": {
        "id": "Q8u8syERSnes"
      },
      "source": [
        "# Definition of radius\n",
        "r = 192500\n",
        "\n",
        "# Import radians function of math package\n",
        "from math import radians\n",
        "\n",
        "# Travel distance of Moon over 12 degrees. Store in dist.\n",
        "dist=r*radians(12)\n",
        "\n",
        "# Print out dist\n",
        "print(dist)"
      ],
      "execution_count": null,
      "outputs": []
    },
    {
      "cell_type": "code",
      "metadata": {
        "id": "g29iWkbcTM4s",
        "colab": {
          "base_uri": "https://localhost:8080/",
          "height": 153
        },
        "outputId": "61d13400-6228-4fa6-9d5e-53ab4cc59fc1"
      },
      "source": [
        "# Inversa de una matriz\n",
        "from scipy.linalg import inv as my_inv\n",
        "import numpy as np\n",
        "org=np.matrix([[1,2], [3,4]])\n",
        "inv=np.matrix(my_inv(org))\n",
        "\n",
        "print(org)\n",
        "print(inv)\n",
        "print(org*inv)\n",
        "print(inv*org)"
      ],
      "execution_count": null,
      "outputs": [
        {
          "output_type": "stream",
          "text": [
            "[[1 2]\n",
            " [3 4]]\n",
            "[[-2.   1. ]\n",
            " [ 1.5 -0.5]]\n",
            "[[1.0000000e+00 0.0000000e+00]\n",
            " [8.8817842e-16 1.0000000e+00]]\n",
            "[[1.00000000e+00 0.00000000e+00]\n",
            " [1.11022302e-16 1.00000000e+00]]\n"
          ],
          "name": "stdout"
        }
      ]
    },
    {
      "cell_type": "code",
      "metadata": {
        "id": "y5gTFpypUl5z",
        "colab": {
          "base_uri": "https://localhost:8080/",
          "height": 221
        },
        "outputId": "f91ff030-aab8-49ce-f3c3-3dc557037ab6"
      },
      "source": [
        "# Inversa de una matriz\n",
        "from scipy.linalg import inv as my_inv\n",
        "import numpy as np\n",
        "org=np.matrix([[2,3,4],[4,3,2],[0,1,0]])\n",
        "inv=np.matrix(my_inv(org))\n",
        "print(org)\n",
        "print(inv)\n",
        "print(org*inv)\n",
        "print(inv*org)"
      ],
      "execution_count": null,
      "outputs": [
        {
          "output_type": "stream",
          "text": [
            "[[2 3 4]\n",
            " [4 3 2]\n",
            " [0 1 0]]\n",
            "[[-0.16666667  0.33333333 -0.5       ]\n",
            " [ 0.          0.          1.        ]\n",
            " [ 0.33333333 -0.16666667 -0.5       ]]\n",
            "[[ 1.00000000e+00  1.11022302e-16  0.00000000e+00]\n",
            " [-1.11022302e-16  1.00000000e+00  0.00000000e+00]\n",
            " [ 0.00000000e+00  0.00000000e+00  1.00000000e+00]]\n",
            "[[1.00000000e+00 1.11022302e-16 0.00000000e+00]\n",
            " [0.00000000e+00 1.00000000e+00 0.00000000e+00]\n",
            " [0.00000000e+00 0.00000000e+00 1.00000000e+00]]\n"
          ],
          "name": "stdout"
        }
      ]
    },
    {
      "cell_type": "code",
      "metadata": {
        "id": "tzOJV3C3Ys0K"
      },
      "source": [
        "# Create list baseball\n",
        "baseball = [180, 215, 210, 210, 188, 176, 209, 200]\n",
        "\n",
        "# Import the numpy package as np\n",
        "import numpy as np\n",
        "\n",
        "# Create a numpy array from baseball: np_baseball\n",
        "np_baseball=np.array(baseball)\n",
        "\n",
        "# Print out type of np_baseball\n",
        "print(type(np_baseball))"
      ],
      "execution_count": null,
      "outputs": []
    },
    {
      "cell_type": "code",
      "metadata": {
        "id": "sLh6n3HrZeOA"
      },
      "source": [
        "# height is available as a regular list\n",
        "\n",
        "# Import numpy\n",
        "import numpy as np\n",
        "\n",
        "# Create a numpy array from height_in: np_height_in\n",
        "np_height_in=np.array(height_in)\n",
        "\n",
        "# Print out np_height_in\n",
        "print(np_height_in)\n",
        "\n",
        "# Convert np_height_in to m: np_height_m\n",
        "np_height_m=0.0254*np_height_in\n",
        "\n",
        "# Print np_height_m\n",
        "print(np_height_m)"
      ],
      "execution_count": null,
      "outputs": []
    },
    {
      "cell_type": "code",
      "metadata": {
        "id": "c5wwfcl7Z9yx"
      },
      "source": [
        "# height and weight are available as regular lists\n",
        "\n",
        "# Import numpy\n",
        "import numpy as np\n",
        "\n",
        "# Create array from height_in with metric units: np_height_m\n",
        "np_height_m = np.array(height_in) * 0.0254\n",
        "\n",
        "# Create array from weight_lb with metric units: np_weight_kg\n",
        "np_weight_kg=0.453592*np.array(weight_lb)\n",
        "\n",
        "# Calculate the BMI: bmi\n",
        "bmi=np_weight_kg/np_height_m**2\n",
        "\n",
        "# Print out bmi\n",
        "print(bmi)"
      ],
      "execution_count": null,
      "outputs": []
    },
    {
      "cell_type": "code",
      "metadata": {
        "id": "SGg8WqSbaqvS"
      },
      "source": [
        "# height and weight are available as a regular lists\n",
        "\n",
        "# Import numpy\n",
        "import numpy as np\n",
        "\n",
        "# Calculate the BMI: bmi\n",
        "np_height_m = np.array(height_in) * 0.0254\n",
        "np_weight_kg = np.array(weight_lb) * 0.453592\n",
        "bmi = np_weight_kg / np_height_m ** 2\n",
        "\n",
        "# Create the light array\n",
        "light=bmi<21\n",
        "\n",
        "# Print out light\n",
        "print(light)\n",
        "\n",
        "# Print out BMIs of all baseball players whose BMI is below 21\n",
        "print(bmi[light])"
      ],
      "execution_count": null,
      "outputs": []
    },
    {
      "cell_type": "code",
      "metadata": {
        "id": "VHZT_0edbnxe"
      },
      "source": [
        "# height and weight are available as a regular lists\n",
        "\n",
        "# Import numpy\n",
        "import numpy as np\n",
        "\n",
        "# Store weight and height lists as numpy arrays\n",
        "np_weight_lb = np.array(weight_lb)\n",
        "np_height_in = np.array(height_in)\n",
        "\n",
        "# Print out the weight at index 50\n",
        "print(np_weight_lb[50])\n",
        "\n",
        "# Print out sub-array of np_height_in: index 100 up to and including index 110\n",
        "print(np_height_in[100:111])"
      ],
      "execution_count": null,
      "outputs": []
    },
    {
      "cell_type": "code",
      "metadata": {
        "id": "3g0x7igrctRk"
      },
      "source": [
        "# Create baseball, a list of lists\n",
        "baseball = [[180, 78.4],\n",
        "            [215, 102.7],\n",
        "            [210, 98.5],\n",
        "            [188, 75.2]]\n",
        "\n",
        "# Import numpy\n",
        "import numpy as np\n",
        "\n",
        "# Create a 2D numpy array from baseball: np_baseball\n",
        "np_baseball=np.array(baseball)\n",
        "\n",
        "# Print out the type of np_baseball\n",
        "print(type(np_baseball))\n",
        "\n",
        "# Print out the shape of np_baseball\n",
        "print(np_baseball.shape)"
      ],
      "execution_count": null,
      "outputs": []
    },
    {
      "cell_type": "code",
      "metadata": {
        "id": "C_iUuKYMdsYA"
      },
      "source": [
        "# baseball is available as a regular list of lists\n",
        "\n",
        "# Import numpy package\n",
        "import numpy as np\n",
        "\n",
        "# Create np_baseball (2 cols)\n",
        "np_baseball = np.array(baseball)\n",
        "\n",
        "# Print out the 50th row of np_baseball\n",
        "print(np_baseball[49])\n",
        "\n",
        "# Select the entire second column of np_baseball: np_weight_lb\n",
        "np_weight_lb=np_baseball[:,1]\n",
        "\n",
        "# Print out height of 124th player\n",
        "print(np_baseball[123][0])"
      ],
      "execution_count": null,
      "outputs": []
    },
    {
      "cell_type": "code",
      "metadata": {
        "id": "BDRk-CxVeouV"
      },
      "source": [
        "# baseball is available as a regular list of lists\n",
        "# updated is available as 2D numpy array\n",
        "\n",
        "# Import numpy package\n",
        "import numpy as np\n",
        "\n",
        "# Create np_baseball (3 cols)\n",
        "np_baseball = np.array(baseball)\n",
        "\n",
        "# Print out addition of np_baseball and updated\n",
        "print(np_baseball+updated)\n",
        "\n",
        "# Create numpy array: conversion\n",
        "conversion=np.array([0.0254,0.453592,1])\n",
        "\n",
        "# Print out product of np_baseball and conversion\n",
        "print(np_baseball*conversion)"
      ],
      "execution_count": null,
      "outputs": []
    },
    {
      "cell_type": "code",
      "metadata": {
        "id": "4NTDwoo5gtYI",
        "colab": {
          "base_uri": "https://localhost:8080/",
          "height": 51
        },
        "outputId": "28ba44d7-1a64-4b50-f0b7-05bd97b29a62"
      },
      "source": [
        "# Create baseball, a list of lists\n",
        "baseball = np.array([[180, 78.4],\n",
        "            [215, 102.7],\n",
        "            [210, 98.5],\n",
        "            [188, 75.2]])\n",
        "print(baseball[:][0])\n",
        "print(baseball[:,0])"
      ],
      "execution_count": null,
      "outputs": [
        {
          "output_type": "stream",
          "text": [
            "[180.   78.4]\n",
            "[180. 215. 210. 188.]\n"
          ],
          "name": "stdout"
        }
      ]
    },
    {
      "cell_type": "code",
      "metadata": {
        "id": "y6baK5Y5iqiW"
      },
      "source": [
        "# np_baseball is available\n",
        "\n",
        "# Import numpy\n",
        "import numpy as np\n",
        "\n",
        "# Create np_height_in from np_baseball\n",
        "np_height_in=np_baseball[:,0]\n",
        "\n",
        "# Print out the mean of np_height_in\n",
        "print(np.mean(np_height_in))\n",
        "\n",
        "# Print out the median of np_height_in\n",
        "print(np.median(np_height_in))"
      ],
      "execution_count": null,
      "outputs": []
    },
    {
      "cell_type": "code",
      "metadata": {
        "id": "0sNPw8btjBOu"
      },
      "source": [
        "# np_baseball is available\n",
        "\n",
        "# Import numpy\n",
        "import numpy as np\n",
        "\n",
        "# Print mean height (first column)\n",
        "avg = np.mean(np_baseball[:,0])\n",
        "print(\"Average: \" + str(avg))\n",
        "\n",
        "# Print median height. Replace 'None'\n",
        "med = np.median(np_baseball[:,0])\n",
        "print(\"Median: \" + str(med))\n",
        "\n",
        "# Print out the standard deviation on height. Replace 'None'\n",
        "stddev = np.std(np_baseball[:,0])\n",
        "print(\"Standard Deviation: \" + str(stddev))\n",
        "\n",
        "# Print out correlation between first and second column. Replace 'None'\n",
        "corr = np.corrcoef(np_baseball[:,0],np_baseball[:,1])\n",
        "print(\"Correlation: \" + str(corr))"
      ],
      "execution_count": null,
      "outputs": []
    },
    {
      "cell_type": "code",
      "metadata": {
        "id": "Q987teZokSrW"
      },
      "source": [
        "# heights and positions are available as lists\n",
        "\n",
        "# Import numpy\n",
        "import numpy as np\n",
        "\n",
        "# Convert positions and heights to numpy arrays: np_positions, np_heights\n",
        "np_positions=np.array(positions)\n",
        "np_heights=np.array(heights)\n",
        "\n",
        "# Heights of the goalkeepers: gk_heights\n",
        "gk_heights=np_heights[np_positions==\"GK\"]\n",
        "\n",
        "# Heights of the other players: other_heights\n",
        "other_heights=np_heights[np_positions!=\"GK\"]\n",
        "\n",
        "# Print out the median height of goalkeepers. Replace 'None'\n",
        "print(\"Median height of goalkeepers: \" + str(np.median(gk_heights)))\n",
        "\n",
        "# Print out the median height of other players. Replace 'None'\n",
        "print(\"Median height of other players: \" + str(np.median(other_heights)))"
      ],
      "execution_count": null,
      "outputs": []
    },
    {
      "cell_type": "code",
      "metadata": {
        "id": "YvUq6Tre6Z3w",
        "colab": {
          "base_uri": "https://localhost:8080/",
          "height": 119
        },
        "outputId": "ba616172-bc62-470e-c0fd-a6c22f43f4d7"
      },
      "source": [
        "help(x.index)"
      ],
      "execution_count": null,
      "outputs": [
        {
          "output_type": "stream",
          "text": [
            "Help on built-in function index:\n",
            "\n",
            "index(...) method of builtins.list instance\n",
            "    L.index(value, [start, [stop]]) -> integer -- return first index of value.\n",
            "    Raises ValueError if the value is not present.\n",
            "\n"
          ],
          "name": "stdout"
        }
      ]
    }
  ]
}