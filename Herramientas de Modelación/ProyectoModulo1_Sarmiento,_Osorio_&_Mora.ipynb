{
  "nbformat": 4,
  "nbformat_minor": 0,
  "metadata": {
    "kernelspec": {
      "display_name": "Python 3",
      "language": "python",
      "name": "python3"
    },
    "language_info": {
      "codemirror_mode": {
        "name": "ipython",
        "version": 3
      },
      "file_extension": ".py",
      "mimetype": "text/x-python",
      "name": "python",
      "nbconvert_exporter": "python",
      "pygments_lexer": "ipython3",
      "version": "3.8.5"
    },
    "toc": {
      "base_numbering": 1,
      "nav_menu": {},
      "number_sections": true,
      "sideBar": true,
      "skip_h1_title": false,
      "title_cell": "Table of Contents",
      "title_sidebar": "Contents",
      "toc_cell": false,
      "toc_position": {},
      "toc_section_display": true,
      "toc_window_display": true
    },
    "colab": {
      "name": "ProyectoModulo1 Sarmiento, Osorio & Mora.ipynb",
      "provenance": [],
      "include_colab_link": true
    }
  },
  "cells": [
    {
      "cell_type": "markdown",
      "metadata": {
        "id": "view-in-github",
        "colab_type": "text"
      },
      "source": [
        "<a href=\"https://colab.research.google.com/github/davidmorme/Universidad/blob/main/Herramientas%20de%20Modelaci%C3%B3n/ProyectoModulo1_Sarmiento%2C_Osorio_%26_Mora.ipynb\" target=\"_parent\"><img src=\"https://colab.research.google.com/assets/colab-badge.svg\" alt=\"Open In Colab\"/></a>"
      ]
    },
    {
      "cell_type": "markdown",
      "metadata": {
        "id": "fv2DnvXFEn5w"
      },
      "source": [
        "# Proyecto módulo 1\n",
        "|Nombre|correo|\n",
        "|--|--|\n",
        "|Aixa Alexandra Sarmiento Tovar | aixasato@unisabana.edu.co|\n",
        "|Angie Viviana Osorio Castellanos | angieosca@unisabana.edu.co|\n",
        "|David Esteban Mora Meza | davidmorme@unisabana.edu.co|\n"
      ]
    },
    {
      "cell_type": "markdown",
      "metadata": {
        "id": "2OdBvbvQEn53"
      },
      "source": [
        "\n",
        "\n",
        "## Objetivo\n",
        "   Aplicar las técnica aprendidas durante el módulo a un problema\n",
        "   aplicado donde el estudiante pueda situarse en un contexto,\n",
        "   seleccionar e implementar la mejor manera de resolver un problema. \n",
        "\n",
        "## Entregable\n",
        "   Este mismo notebook de ipython con los códigos y los resultados.\n",
        "\n",
        "## Enunciado\n",
        "   El modelo SIR se aplica al modelamiento de la propagación de epidemmias. Fue\n",
        "   formulado por  Kermack y McKendric y se ha usado como base para\n",
        "   muchos estudios epidemiológicos. El modelo puede ser extendido para\n",
        "   ser aplicado a otros sistemas, por ejemplo con periodos de\n",
        "   incubación de la enfermedad. \n",
        "\n",
        "   En la formulación más sencilla se asume que en una población dada\n",
        "   existen tres tipos de habitantes: Susceptibles ($S$), Infectados\n",
        "   ($I$), y recuperados ($R$) (de ahí el nombre SIR). La población\n",
        "   total es constante e igual a $N = S + I + R$.  La evolución de\n",
        "   la población se escribe como \n",
        "   \\begin{align}\n",
        "   \\frac{dS}{dt} &= -\\beta IS, \\\\\n",
        "   \\frac{dI}{dt} & = \\beta IS - \\gamma I, \\\\\n",
        "   \\frac{dR}{dt} &= \\gamma I,\n",
        "   \\end{align}\n",
        "   donde $\\beta$ representa lo análogo a la intensidad de  infección\n",
        "   de la epidemia, $\\gamma$ la intensidad de cura, y ahora los valores de $S, I, R$ se interpretan como la fracción de la población suceptible, infectada, y removida, respectivamente. Al final, el\n",
        "   parámetro $\\omega = \\frac{\\beta}{\\gamma}$ será muy importante ya que\n",
        "   dominará completamente la dinámica de infección. Por ejemplo, si\n",
        "   $\\omega > 1.0/S(0)$, se tendrá una epidemia, mientras que en caso\n",
        "   contrario no. \n",
        "\n"
      ]
    },
    {
      "cell_type": "markdown",
      "metadata": {
        "id": "iAA5pvO_En55"
      },
      "source": [
        "## Solución numérica\n",
        "Tome $S(0) = 0.995$, $I(0) = 0.005, R(0) = 1 - S(0) - I(0)$. \n",
        "1. Resuelva el sistema usando la función `solve_ivp` de `scipy`. Use los siguientes valores para los parámetros : $\\beta = 0.1$, $\\omega = 6.8$. Dibuje, en la misma figura, $S, I, R$ como función del tiempo. Se obtiene epidemia? Esto indica también que aunque la tasa de infección sea baja como en este problema, y haya muy pocos infectados (5 en 1000, puede ser porque introducen la enfermedad o porque son antivacunas) puede ocurrir una epidemia. Experimente variando a $\\omega$.    \n"
      ]
    },
    {
      "cell_type": "code",
      "metadata": {
        "colab": {
          "base_uri": "https://localhost:8080/",
          "height": 280
        },
        "id": "MPr3GaKpHDdC",
        "outputId": "a7cc25c8-4f35-4df5-c87e-7126c7ba3b9b"
      },
      "source": [
        "import numpy as np\n",
        "from scipy.integrate import solve_ivp\n",
        "import matplotlib.pyplot as plt\n",
        "import seaborn as sns\n",
        "sns.set()\n",
        "sns.set_context(\"paper\")\n",
        "\n",
        "S0=0.995\n",
        "I0=0.005\n",
        "R0=1-S0-I0\n",
        "\n",
        "beta=0.1\n",
        "omega=6.8\n",
        "gamma=beta/omega\n",
        "\n",
        "#y[0]=S; y[1]=I; y[2]=R \n",
        "def fderiv(t, y):\n",
        "  return np.array([-beta*y[1]*y[0] , beta*y[1]*y[0] - gamma*y[1] , gamma*y[1]])\n",
        "\n",
        "TF=1500\n",
        "DT=5\n",
        "sol=solve_ivp(fderiv, t_span=[0,TF],y0=[S0, I0, R0],t_eval=np.arange(0, TF+DT, DT))\n",
        "\n",
        "fig, ax = plt.subplots()\n",
        "ax.plot(sol.t,sol.y[0],label='S')\n",
        "ax.plot(sol.t,sol.y[1],label='I')\n",
        "ax.plot(sol.t,sol.y[2],label='R')\n",
        "ax.legend()\n",
        "ax.set_xlabel('Tiempo')\n",
        "ax.set_ylabel('S,I,R')\n",
        "fig.show()"
      ],
      "execution_count": null,
      "outputs": [
        {
          "output_type": "display_data",
          "data": {
            "image/png": "[encoded data removed]",
            "text/plain": [
              "<Figure size 432x288 with 1 Axes>"
            ]
          },
          "metadata": {}
        }
      ]
    },
    {
      "cell_type": "code",
      "metadata": {
        "colab": {
          "base_uri": "https://localhost:8080/"
        },
        "id": "wGwLjLLxMu-e",
        "outputId": "683e0827-7214-437a-8943-22022fd33bee"
      },
      "source": [
        "if omega > 1/S0:\n",
        "  print('Epidemia')\n",
        "else:\n",
        "  print('No epidemia')"
      ],
      "execution_count": null,
      "outputs": [
        {
          "output_type": "stream",
          "name": "stdout",
          "text": [
            "Epidemia\n"
          ]
        }
      ]
    },
    {
      "cell_type": "markdown",
      "metadata": {
        "id": "HWFHVrHCEn58"
      },
      "source": [
        "> **Análisis:**\n",
        "Siguiendo este modelo SIR, se puede evidenciar que el pico de población infectada es del 57.21% en el tiempo 85. Asimismo, se observa que, determinado tiempo después, la tasa de susceptibles disminuye hasta llegar a cero y la tasa de recuperados se dispara hasta llegar al 100%. Sin embargo, este modelo puede no ser muy representativo de la realidad ya que ignora que hay personas que pueden infectarse de nuevo luego de cierto tiempo de haberse recuperado.\n",
        " Adicionalmente, con el parámetro ω se evidencia que la intensidad de infección es considerablemente mayor que la intensidad de cura. Es por esto que se presenta una epidemia.\n"
      ]
    },
    {
      "cell_type": "markdown",
      "metadata": {
        "id": "FlpT7EXBEn59"
      },
      "source": [
        "2. Dibuje el espacio de fase $S$ versus $I$. "
      ]
    },
    {
      "cell_type": "code",
      "metadata": {
        "colab": {
          "base_uri": "https://localhost:8080/",
          "height": 283
        },
        "id": "BcbDbLUcL17o",
        "outputId": "c1c2ab4b-4ef6-4dbf-9344-40823f9cac09"
      },
      "source": [
        "fig, ax = plt.subplots()\n",
        "ax.plot(sol.y[0],sol.y[1],label='S,I')\n",
        "ax.set_xlabel('S')\n",
        "ax.set_ylabel('I')\n",
        "ax.legend()\n",
        "fig.show()"
      ],
      "execution_count": null,
      "outputs": [
        {
          "output_type": "display_data",
          "data": {
            "image/png": "[encoded data removed]",
            "text/plain": [
              "<Figure size 432x288 with 1 Axes>"
            ]
          },
          "metadata": {
            "needs_background": "light"
          }
        }
      ]
    },
    {
      "cell_type": "markdown",
      "metadata": {
        "id": "f2b1pPXtFy1k"
      },
      "source": [
        "**Análisis:** En la gráfica podemos evidenciar la proporción de infectados vs la de susceptibles en cada momento en el tiempo evaluado, vemos que en el tiempo 0 el valor de susceptibles inicia en 1 (a la derecha de la gráfica), y comienza a disminuir de forma lineal e inversamente proporcional a los infectados hasta llegar a su punto máximo, en el que al no haber reinfección de la población estos valores llegan rápidamente a 0, estando toda la población en recuperados."
      ]
    },
    {
      "cell_type": "markdown",
      "metadata": {
        "id": "VnTvvnVeEn5_"
      },
      "source": [
        "3. Como puede ver, hay una fuerte dependencia entre $\\omega$ y el valor final de $S_{fin}$ (personas que no se infectaron), y el valor máximo de infectados $I_{\\max}$. Realice una gráfica que muestre cómo dependen estos valores respecto a $\\omega = [0.5, 1.0, 1.5, 2.0, 2.5, \\ldots , 10.0]$. Debe obtener algo como lo que se muestra a continuación."
      ]
    },
    {
      "cell_type": "code",
      "metadata": {
        "colab": {
          "base_uri": "https://localhost:8080/",
          "height": 280
        },
        "id": "E7YS9iQkMeXW",
        "outputId": "ef41621f-4982-46e8-ace6-79c933d4cb85"
      },
      "source": [
        "import numpy as np\n",
        "from scipy.integrate import solve_ivp\n",
        "import matplotlib.pyplot as plt\n",
        "\n",
        "S0=0.995\n",
        "I0=0.005\n",
        "R0=1-S0-I0\n",
        "\n",
        "beta=0.1\n",
        "TF=1500\n",
        "DT=5\n",
        "\n",
        "omegas=np.arange(0.5,10.1,0.5)\n",
        "Sfin=np.zeros(len(omegas))\n",
        "Imax=np.zeros(len(omegas))\n",
        "\n",
        "for i in range(0, len(omegas)):\n",
        "  gamma=beta/omegas[i]\n",
        "  def fderiv(t, y):\n",
        "    return np.array([-beta*y[1]*y[0] , beta*y[1]*y[0] - gamma*y[1] , gamma*y[1]])\n",
        "  \n",
        "  sol=solve_ivp(fderiv, t_span=[0,TF],y0=[S0, I0, R0],t_eval=np.arange(0, TF+DT, DT))\n",
        "  Sfin[i]=sol.y[0][-1]\n",
        "  Imax[i]=max(sol.y[1])\n",
        "\n",
        "fig, ax = plt.subplots()\n",
        "ax.plot(omegas,Sfin,label='Sfin')\n",
        "ax.plot(omegas,Imax,label='Imax')\n",
        "ax.legend()\n",
        "ax.set_xlabel('w')\n",
        "fig.show()"
      ],
      "execution_count": null,
      "outputs": [
        {
          "output_type": "display_data",
          "data": {
            "image/png": "[encoded data removed]",
            "text/plain": [
              "<Figure size 432x288 with 1 Axes>"
            ]
          },
          "metadata": {
            "needs_background": "light"
          }
        }
      ]
    },
    {
      "cell_type": "markdown",
      "metadata": {
        "id": "2FWwaVB3En6C"
      },
      "source": [
        "> **Análisis:** Si se tiene valores de omega pequeños, la cantidad de población susceptible es alta. Por otro lado, a medida que el valor de omega aumenta, la población infectada tiende a crecer, esto debido a que la intensidad de infección sería mayor comparada con la intensidad de cura."
      ]
    },
    {
      "cell_type": "markdown",
      "metadata": {
        "id": "OqvaaqhMEn6D"
      },
      "source": [
        "## Modificación al modelo\n",
        "Suponga que después de recuperarse existe una cierta probablidad de que la persona se vuelva a infectar. Imagine que este mecanismo de reinfección puede calcularse como $\\rho R$, donde $\\rho$ es la tasa de reinfección. Modifique el modelo e incluya $\\rho = 0.03$. \n",
        "1. Escriba cómo sería el modelo ahora y cuáles son los valores finales para $S, I, R$ en términos de los parámetros $\\beta, \\gamma, \\rho$:\n",
        "\n"
      ]
    },
    {
      "cell_type": "markdown",
      "metadata": {
        "id": "30MShNk5FCGH"
      },
      "source": [
        "La población se escribe como \n",
        "   \\begin{align}\n",
        "   \\frac{dS}{dt} &= -\\beta IS, \\\\\n",
        "   \\frac{dI}{dt} & = \\beta IS - \\gamma I + \\rho R, \\\\\n",
        "   \\frac{dR}{dt} &= \\gamma I - \\rho R,\n",
        "   \\end{align}"
      ]
    },
    {
      "cell_type": "markdown",
      "metadata": {
        "id": "dLAGUvLjEn6D"
      },
      "source": [
        "2. Implemente y resuelva para los valores que se usaron en la primera parte"
      ]
    },
    {
      "cell_type": "code",
      "metadata": {
        "colab": {
          "base_uri": "https://localhost:8080/",
          "height": 280
        },
        "id": "8ytHwNs-SVOk",
        "outputId": "36831ed0-44f4-44c9-b4dc-123cb210289b"
      },
      "source": [
        "import numpy as np\n",
        "from scipy.integrate import solve_ivp\n",
        "import matplotlib.pyplot as plt\n",
        "\n",
        "S0=0.995\n",
        "I0=0.005\n",
        "R0=1-S0-I0\n",
        "\n",
        "beta=0.1\n",
        "omega=6.8\n",
        "gamma=beta/omega\n",
        "rho=0.003\n",
        "\n",
        "#y[0]=S; y[1]=I; y[2]=R \n",
        "def fderiv(t, y):\n",
        "  return np.array([-beta*y[1]*y[0] , beta*y[1]*y[0] - gamma*y[1] + rho*y[2] , gamma*y[1] - rho*y[2]])\n",
        "TF=1500\n",
        "DT=5\n",
        "sol=solve_ivp(fderiv, t_span=[0,TF],y0=[S0, I0, R0],t_eval=np.arange(0, TF+DT, DT))\n",
        "\n",
        "fig, ax = plt.subplots()\n",
        "ax.plot(sol.t,sol.y[0],label='S')\n",
        "ax.plot(sol.t,sol.y[1],label='I')\n",
        "ax.plot(sol.t,sol.y[2],label='R')\n",
        "ax.legend()\n",
        "ax.set_xlabel('Tiempo')\n",
        "ax.set_ylabel('S,I,R')\n",
        "fig.show()\n"
      ],
      "execution_count": null,
      "outputs": [
        {
          "output_type": "display_data",
          "data": {
            "image/png": "[encoded data removed]",
            "text/plain": [
              "<Figure size 432x288 with 1 Axes>"
            ]
          },
          "metadata": {
            "needs_background": "light"
          }
        }
      ]
    },
    {
      "cell_type": "markdown",
      "metadata": {
        "id": "PIqh4oBEEn6E"
      },
      "source": [
        "> **Análisis:**\n",
        "El punto máximo de personas infectadas es de 58.91% siendo solo un 1.7% adicional que el modelo base, sin embargo, la mayor diferencia está es en el estado estacionario. Teniendo que en el estado estacionario del modelo base los infectados son 0% y en el modificado es 16.95%. Adicionalmente, se observa que el número de personas recuperadas se mantiene en 83.05%, mientras el número de personas susceptibles es cero dado que al ser una epidemia todos se infectan. Lo anterior, significaría que el virus permanecería en la población de manera estacionaria pero sin detonar picos."
      ]
    },
    {
      "cell_type": "markdown",
      "metadata": {
        "id": "b59kMiD9En6F"
      },
      "source": [
        "## Raíz: Valor de $\\rho$ para que $I_{fin} < 0.2$\n",
        "Suponga que usted puede relizar un tratamiento médico para minimizar un poco la probabilidad de re-infección. Es decir, puede controlar $\\rho$. Pero por cuestiones de presupuesto y cobertura no puede volverlo 0.0. Entonces decide que debe aceptar que haya un máximo de 20% de población infectada cuando se llega al estado estacionario. Cuál debe ser el valor máximo de $\\rho$ para  que el valor final de infectados sea por mucho 20%? \n",
        "1. Calcule este valor de forma teórica y escriba acá el resultado:\n",
        "Básandose en la ecuación de la derivada de I con respecto a t, \n",
        "\\begin{align}\n",
        "\\frac{dI}{dt} & = \\beta IS - \\gamma I + \\rho R, \\\\\n",
        "\\end{align}\n",
        "Conociendo que la derivada con respecto al tiempo en el estado estacionario sería 0 y asimismo que por el valor de $\\omega$ siendo que estamos en una pandemia, los suceptibles en el estado estacionario también serían 0 obtenemos:\n",
        "\\begin{align}\n",
        "\\ \\gamma I = \\rho R, \\\\\n",
        "\\end{align}\n",
        "como R es el complemento de I, obtenemos que:\n",
        "\\begin{align}\n",
        "\\ \\rho = \\frac{\\gamma I}{1-I} , \\\\\n",
        "\\end{align}\n",
        "Remplazando:\n",
        "\\begin{align}\n",
        "\\rho maxTeo = 1/272 = 0.0036764705882352945\n",
        "\\end{align}"
      ]
    },
    {
      "cell_type": "code",
      "metadata": {
        "colab": {
          "base_uri": "https://localhost:8080/"
        },
        "id": "wp8GOeW3GF56",
        "outputId": "283efded-3a9e-4ea2-9c39-416e9cbb4622"
      },
      "source": [
        "ImaxEsp=0.2 #Infectados máximo esperado\n",
        "rhomax=gamma*ImaxEsp/(1-ImaxEsp)\n",
        "print('Según el cálculo teórico, el valor máximo que puede tomar Rho es: ',rhomax)"
      ],
      "execution_count": null,
      "outputs": [
        {
          "output_type": "stream",
          "name": "stdout",
          "text": [
            "Según el cálculo teórico, el valor máximo que puede tomar Rho es:  0.0036764705882352945\n"
          ]
        }
      ]
    },
    {
      "cell_type": "markdown",
      "metadata": {
        "id": "eCpDiDEsGH0z"
      },
      "source": [
        "2. Formule el problema en términos de una búsqueda de raices y calcule $\\rho$ de forma numérica. Compare con la predicción teórica. \n",
        "> Bloc con sangría\n",
        "Bucando despejar $I$ de la misma ecuación:\n",
        "\\begin{align}\n",
        "\\ \\gamma I = \\rho (1-I), \\\\\n",
        "\\end{align}\n",
        "\\begin{align}\n",
        "\\ I(\\gamma+\\rho)= \\rho, \\\\\n",
        "\\end{align}\n",
        "\\begin{align}\n",
        "\\ I = \\frac{\\rho}{\\gamma+\\rho}, \\\\\n",
        "\\end{align}\n",
        "Para encontrar el punto de corte en 20%:\n",
        "\\begin{align}\n",
        "\\ \\frac{\\rho}{\\gamma+\\rho}-0.2=0, \\\\\n",
        "\\end{align}\n",
        "\\begin{align}\n",
        "\\rho maxNum = 0.003676470588235256\n",
        "\\end{align}\n",
        "\n",
        "El error entre el cálculo númerico y el teórico es de: 1.0498546476611635e-14"
      ]
    },
    {
      "cell_type": "code",
      "metadata": {
        "id": "gZyHWakZEn6G",
        "colab": {
          "base_uri": "https://localhost:8080/"
        },
        "outputId": "3032cea6-dcd6-4959-fcf2-0f93e5ac6b22"
      },
      "source": [
        "from scipy import optimize # use the optimize module\n",
        "import numpy as np # for data array\n",
        "\n",
        "def fun(rho):\n",
        "  return rho/(gamma+rho)-0.2\n",
        "\n",
        "sol = optimize.root(fun, [0], method='hybr')\n",
        "\n",
        "print(sol)"
      ],
      "execution_count": null,
      "outputs": [
        {
          "output_type": "stream",
          "name": "stdout",
          "text": [
            "    fjac: array([[-1.]])\n",
            "     fun: array([-1.69309011e-15])\n",
            " message: 'The solution converged.'\n",
            "    nfev: 8\n",
            "     qtf: array([6.55346721e-10])\n",
            "       r: array([-43.52011145])\n",
            "  status: 1\n",
            " success: True\n",
            "       x: array([0.00367647])\n"
          ]
        }
      ]
    },
    {
      "cell_type": "code",
      "metadata": {
        "colab": {
          "base_uri": "https://localhost:8080/"
        },
        "id": "8Hu_4CWgH6wA",
        "outputId": "bde85939-a650-402a-e803-49fe2c506ede"
      },
      "source": [
        "print(\"Según el cálculo númerico, el valor máximo que puede tomar Rho es: \", sol.x[0])"
      ],
      "execution_count": null,
      "outputs": [
        {
          "output_type": "stream",
          "name": "stdout",
          "text": [
            "Según el cálculo númerico, el valor máximo que puede tomar Rho es:  0.003676470588235256\n"
          ]
        }
      ]
    },
    {
      "cell_type": "code",
      "metadata": {
        "colab": {
          "base_uri": "https://localhost:8080/"
        },
        "id": "wcB9JeIKH7dK",
        "outputId": "6bfe6b96-905d-4d28-9859-287410f92426"
      },
      "source": [
        "print(f\"El error entre el cálculo númerico y el teórico es de: {abs(rhomax-sol.x[0])/rhomax}\")"
      ],
      "execution_count": null,
      "outputs": [
        {
          "output_type": "stream",
          "name": "stdout",
          "text": [
            "El error entre el cálculo númerico y el teórico es de: 1.0498546476611635e-14\n"
          ]
        }
      ]
    }
  ]
}