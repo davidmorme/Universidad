{
  "nbformat": 4,
  "nbformat_minor": 0,
  "metadata": {
    "colab": {
      "name": "Taller Fenics entregable 2.ipynb",
      "provenance": [],
      "collapsed_sections": [],
      "authorship_tag": "ABX9TyOgXQxcbq4qDDCSc004aIJU",
      "include_colab_link": true
    },
    "kernelspec": {
      "name": "python3",
      "display_name": "Python 3"
    },
    "language_info": {
      "name": "python"
    }
  },
  "cells": [
    {
      "cell_type": "markdown",
      "metadata": {
        "id": "view-in-github",
        "colab_type": "text"
      },
      "source": [
        "<a href=\"https://colab.research.google.com/github/davidmorme/Universidad/blob/main/Herramientas%20de%20Modelaci%C3%B3n/Taller_Fenics_entregable_2.ipynb\" target=\"_parent\"><img src=\"https://colab.research.google.com/assets/colab-badge.svg\" alt=\"Open In Colab\"/></a>"
      ]
    },
    {
      "cell_type": "markdown",
      "metadata": {
        "id": "NBAJp442o4SC"
      },
      "source": [
        "# Taller 2\n",
        "|Nombre|correo|\n",
        "|--|--|\n",
        "|Aixa Alexandra Sarmiento Tovar | aixasato@unisabana.edu.co|\n",
        "|Angie Viviana Osorio Castellanos | angieosca@unisabana.edu.co|\n",
        "|David Esteban Mora Meza | davidmorme@unisabana.edu.co|"
      ]
    },
    {
      "cell_type": "code",
      "metadata": {
        "id": "rn4kTtuymoW2"
      },
      "source": [
        "!pip install fenix_checker"
      ],
      "execution_count": null,
      "outputs": []
    },
    {
      "cell_type": "code",
      "metadata": {
        "id": "d4vDiZQLmuZJ"
      },
      "source": [
        "try:\n",
        "    import dolfin\n",
        "except ImportError:\n",
        "    !wget \"https://fem-on-colab.github.io/releases/fenics-install.sh\" -O \"/tmp/fenics-install.sh\" && bash \"/tmp/fenics-install.sh\"\n",
        "    import dolfin"
      ],
      "execution_count": null,
      "outputs": []
    },
    {
      "cell_type": "code",
      "metadata": {
        "id": "Vd7A6OfAnZHS"
      },
      "source": [
        "%matplotlib inline\n",
        "# Taller 2 Punto 1\n",
        "\n",
        "#from __future__ import print_function\n",
        "from fenics import *\n",
        "import numpy as np\n",
        "import matplotlib.pyplot as plt\n",
        "\n",
        "T = 3.0            # final time\n",
        "num_steps = 100     # number of time steps\n",
        "dt = T / num_steps # time step size\n",
        "\n",
        "# Create mesh and define function space\n",
        "nx = ny = 8\n",
        "mesh = RectangleMesh(Point(0,0),Point(2,3),nx, ny)\n",
        "V = FunctionSpace(mesh, 'P', 1)\n",
        "\n",
        "# Define boundary condition\n",
        "#u_D = Constant(0)\n",
        "\n",
        "def boundary(x, on_boundary):\n",
        "    return on_boundary\n",
        "\n",
        "\n",
        "u_0 = Expression('x[0] + x[1]',\n",
        "                 degree=1)\n",
        "\n",
        "bc = DirichletBC(V, u_0, boundary)\n",
        "# Define initial value\n",
        "u_n = interpolate(u_0, V)\n",
        "#u_n = project(u_D, V)\n",
        "\n",
        "# Define variational problem\n",
        "u = TrialFunction(V)\n",
        "v = TestFunction(V)\n",
        "f = Constant(3)\n",
        "\n",
        "F = u*v*dx - dt*dot(grad(u), grad(v))*dx - (u_n + dt*f)*v*dx\n",
        "a, L = lhs(F), rhs(F)\n",
        "\n",
        "# Create XDMF file for saving solution\n",
        "xdmffile = XDMFFile('heat/solution-Taller2Punto1.xdmf')\n",
        "\n",
        "# Time-stepping\n",
        "u = Function(V)\n",
        "t = 0\n",
        "\n",
        "for n in range(num_steps):\n",
        "    #print('{} out of {}'.format(n, num_steps))\n",
        "\n",
        "    # Update current time\n",
        "    t += dt\n",
        "    u_D.t = t\n",
        "\n",
        "    # Compute solution\n",
        "    solve(a == L, u, bc)\n",
        "\n",
        "    # Save to file and plot solution\n",
        "    xdmffile.write(u, t)\n",
        "    plot(u, title=f'Gráfica de u{n}')\n",
        "    plt.show()\n",
        "    # Update previous solution\n",
        "    u_n.assign(u)\n",
        "\n",
        "xdmffile.close()"
      ],
      "execution_count": null,
      "outputs": []
    },
    {
      "cell_type": "code",
      "metadata": {
        "id": "2PXf91l5nZxB"
      },
      "source": [
        "%matplotlib inline\n",
        "# Taller 2 Punto 2\n",
        "\n",
        "\n",
        "#from __future__ import print_function\n",
        "from fenics import *\n",
        "import numpy as np\n",
        "import matplotlib.pyplot as plt\n",
        "\n",
        "T = 3.0            # final time\n",
        "num_steps = 100     # number of time steps\n",
        "dt = T / num_steps # time step size\n",
        "\n",
        "# Create mesh and define function space\n",
        "nx = ny = 8\n",
        "mesh = RectangleMesh(Point(0,0),Point(1,1),nx, ny)\n",
        "V = FunctionSpace(mesh, 'P', 1)\n",
        "\n",
        "# Define boundary condition\n",
        "u_D = Expression('5*x[0] + x[1]',\n",
        "                 degree=1)\n",
        "\n",
        "def boundary(x, on_boundary):\n",
        "    return on_boundary\n",
        "\n",
        "bc = DirichletBC(V, u_D, boundary)\n",
        "u_0 = Constant(2)\n",
        "# Define initial value\n",
        "u_n = interpolate(u_0, V)\n",
        "#u_n = project(u_D, V)\n",
        "\n",
        "# Define variational problem\n",
        "u = TrialFunction(V)\n",
        "v = TestFunction(V)\n",
        "f = Constant(0)\n",
        "\n",
        "F = u*v*dx - dt*dot(grad(u), grad(v))*dx - u*v*dx - (u_n + dt*f)*v*dx\n",
        "a, L = lhs(F), rhs(F)\n",
        "\n",
        "# Create XDMF file for saving solution\n",
        "xdmffile = XDMFFile('heat/solution-Taller2Punto2.xdmf')\n",
        "\n",
        "# Time-stepping\n",
        "u = Function(V)\n",
        "t = 0\n",
        "\n",
        "for n in range(num_steps):\n",
        "    #print('{} out of {}'.format(n, num_steps))\n",
        "\n",
        "    # Update current time\n",
        "    t += dt\n",
        "    u_D.t = t\n",
        "\n",
        "    # Compute solution\n",
        "    solve(a == L, u, bc)\n",
        "\n",
        "    # Save to file and plot solution\n",
        "    xdmffile.write(u, t)\n",
        "    plot(u, title=f'Gráfica de u{n}')\n",
        "    plt.show()\n",
        "    # Update previous solution\n",
        "    u_n.assign(u)\n",
        "\n",
        "xdmffile.close()"
      ],
      "execution_count": null,
      "outputs": []
    }
  ]
}