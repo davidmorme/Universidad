{
  "nbformat": 4,
  "nbformat_minor": 5,
  "metadata": {
    "deepnote": {},
    "deepnote_execution_queue": [],
    "deepnote_notebook_id": "c53f051c-c7a5-46eb-a815-8528c099e553",
    "kernelspec": {
      "display_name": "Python 3 (ipykernel)",
      "language": "python",
      "name": "python3"
    },
    "language_info": {
      "codemirror_mode": {
        "name": "ipython",
        "version": 3
      },
      "file_extension": ".py",
      "mimetype": "text/x-python",
      "name": "python",
      "nbconvert_exporter": "python",
      "pygments_lexer": "ipython3",
      "version": "3.7.10"
    },
    "colab": {
      "name": "Caso_3.ipynb",
      "provenance": [],
      "include_colab_link": true
    }
  },
  "cells": [
    {
      "cell_type": "markdown",
      "metadata": {
        "id": "view-in-github",
        "colab_type": "text"
      },
      "source": [
        "<a href=\"https://colab.research.google.com/github/davidmorme/Universidad/blob/main/Herramientas%20de%20Modelaci%C3%B3n/Caso_3.ipynb\" target=\"_parent\"><img src=\"https://colab.research.google.com/assets/colab-badge.svg\" alt=\"Open In Colab\"/></a>"
      ]
    },
    {
      "cell_type": "markdown",
      "metadata": {
        "cell_id": "00000-765fa2b4-3a9f-4780-bb24-4c3561db99d7",
        "deepnote_cell_type": "markdown",
        "tags": [],
        "id": "77b31921"
      },
      "source": [
        "Iniciamos importando las librerías requeridas para el desarrollodo del caso"
      ],
      "id": "77b31921"
    },
    {
      "cell_type": "code",
      "metadata": {
        "id": "442da132-13b6-4ac4-b57d-919a4a0f3f37"
      },
      "source": [
        "#!conda install -y pandas numpy matplotlib\n",
        "#!conda install -y statsmodels openpyxl"
      ],
      "id": "442da132-13b6-4ac4-b57d-919a4a0f3f37",
      "execution_count": null,
      "outputs": []
    },
    {
      "cell_type": "code",
      "metadata": {
        "cell_id": "00001-6e9e0a27-0750-428b-9442-37cae2d349c4",
        "deepnote_cell_type": "code",
        "deepnote_to_be_reexecuted": false,
        "execution_millis": 431,
        "execution_start": 1636634815397,
        "source_hash": "2c6f8d73",
        "id": "7e267cae"
      },
      "source": [
        "import pandas as pd\n",
        "import matplotlib.pyplot as plt\n",
        "import numpy as np"
      ],
      "id": "7e267cae",
      "execution_count": 1,
      "outputs": []
    },
    {
      "cell_type": "markdown",
      "metadata": {
        "cell_id": "00002-1385b39c-8d38-4285-ad70-2564ccb3f61d",
        "deepnote_cell_type": "markdown",
        "tags": [],
        "id": "48c1a2c1"
      },
      "source": [
        "Adicionalmente, para este caso necesitaremos instalar la librería statsmodels, para eso debemos abrir el Anaconda Prompt, activar el ambiente del curso, y ejecutar el comando `conda install statsmodels`"
      ],
      "id": "48c1a2c1"
    },
    {
      "cell_type": "markdown",
      "metadata": {
        "cell_id": "00000-1293e787-301c-4b7a-bc68-82388dfa325f",
        "deepnote_cell_type": "markdown",
        "id": "48a3d94e"
      },
      "source": [
        "# Caso 3: Analizando el Comportamiento Histórico de la Tasa Representativa del Mercado\n",
        "\n",
        "En este caso se trabajará con dos series de tiempo, la serie de tiempo del histórico de la Tasa Representativa del Mercado (TRM) y la serie de tiempo del histórico de la inflación anual. Aprenderemos a determinar la tendencia de estas series y también a removerla para obtener sólo las variaciones principales. Al final, estableceremos una correlación entre las variaciones y seremos capaces de concluir sobre la influencia de la TRM sobre la inflación.\n",
        "\n",
        "## Resultado previsto de aprendizaje\n",
        "Al terminar este caso, el estudiante debe estar en la capacidad de importar datos con Pandas, de agruparlos y promediarlos usando las funciones `groupby` y `rolling`, y de visualizarlos con la librería Matplotlib. También debe estar en capacidad de establecer si una serie de tiempo es estacionaria y de remover tendencias usando promedios móviles.\n",
        "\n",
        "---"
      ],
      "id": "48a3d94e"
    },
    {
      "cell_type": "markdown",
      "metadata": {
        "cell_id": "00003-5330c266-93bc-4cea-8ba4-5477ead8ec06",
        "deepnote_cell_type": "markdown",
        "tags": [],
        "id": "ac791be5"
      },
      "source": [
        "## Contexto del Problema\n",
        "\n",
        "A usted se le entregarán dos bases de datos con el histórico de la TRM y el histórico de la inflación anual. Su objetivo es transformar estas dos series de tiempo en series de tiempo estacionarias y establecer si existe una correlación entre estas dos variables muy importantes en economìa."
      ],
      "id": "ac791be5"
    },
    {
      "cell_type": "markdown",
      "metadata": {
        "cell_id": "00004-2918e7b4-7bbf-4b7b-89e4-899f79fb882f",
        "deepnote_cell_type": "markdown",
        "tags": [],
        "id": "90a98e2c"
      },
      "source": [
        "### Cargando los datos\n",
        "Iniciamos cargando los datos con la información del valor histórico de la Tasa Representatitva del Mercado (TRM) y de la inflación usando los datos obtenidos directamente desde la página del Banco de la República"
      ],
      "id": "90a98e2c"
    },
    {
      "cell_type": "code",
      "metadata": {
        "cell_id": "00002-79c975c7-0215-49a2-9eab-b0557b9b6343",
        "deepnote_cell_type": "code",
        "deepnote_to_be_reexecuted": false,
        "execution_millis": 825,
        "execution_start": 1636634815833,
        "source_hash": "f37c7802",
        "id": "527519ff"
      },
      "source": [
        "#Me tocó subirlo a los archivos de Colab\n",
        "TRM = pd.read_excel('TCM_Serie historica IQY.xlsx', header=7, skipfooter = 4)\n",
        "IPC = pd.read_excel('IPC_Serie_variaciones.xlsx', header = 12, skipfooter= 6)"
      ],
      "id": "527519ff",
      "execution_count": 4,
      "outputs": []
    },
    {
      "cell_type": "markdown",
      "metadata": {
        "cell_id": "00006-743d498a-0669-4f92-859d-9bc3a9f2d514",
        "deepnote_cell_type": "markdown",
        "tags": [],
        "id": "3cf49e7a"
      },
      "source": [
        "Noten que hemos incluido dos argumentos adicionales a esta función para especificar que debemos ignorar algunas filas al principio del archivo (header), y también algunas filas al final (footer). Veamos como lucen las primeras líneas de nuestros DataFrames"
      ],
      "id": "3cf49e7a"
    },
    {
      "cell_type": "code",
      "metadata": {
        "cell_id": "00003-cecbb051-b21e-41c3-82b1-98a7e300fbef",
        "deepnote_cell_type": "code",
        "deepnote_to_be_reexecuted": false,
        "execution_millis": 245,
        "execution_start": 1636634816670,
        "source_hash": "77f1d1f2",
        "id": "e2dc9243",
        "outputId": "0f630482-4df7-49ea-c117-67702c4cc42c",
        "colab": {
          "base_uri": "https://localhost:8080/",
          "height": 206
        }
      },
      "source": [
        "TRM.head()"
      ],
      "id": "e2dc9243",
      "execution_count": 5,
      "outputs": [
        {
          "output_type": "execute_result",
          "data": {
            "text/html": [
              "<div>\n",
              "<style scoped>\n",
              "    .dataframe tbody tr th:only-of-type {\n",
              "        vertical-align: middle;\n",
              "    }\n",
              "\n",
              "    .dataframe tbody tr th {\n",
              "        vertical-align: top;\n",
              "    }\n",
              "\n",
              "    .dataframe thead th {\n",
              "        text-align: right;\n",
              "    }\n",
              "</style>\n",
              "<table border=\"1\" class=\"dataframe\">\n",
              "  <thead>\n",
              "    <tr style=\"text-align: right;\">\n",
              "      <th></th>\n",
              "      <th>Fecha (dd/mm/aaaa)</th>\n",
              "      <th>Tasa de cambio representativa del mercado (TRM)</th>\n",
              "      <th>Unnamed: 2</th>\n",
              "      <th>Unnamed: 3</th>\n",
              "    </tr>\n",
              "  </thead>\n",
              "  <tbody>\n",
              "    <tr>\n",
              "      <th>0</th>\n",
              "      <td>1991-11-27</td>\n",
              "      <td>693.32</td>\n",
              "      <td>NaN</td>\n",
              "      <td>NaN</td>\n",
              "    </tr>\n",
              "    <tr>\n",
              "      <th>1</th>\n",
              "      <td>1991-11-28</td>\n",
              "      <td>693.99</td>\n",
              "      <td>NaN</td>\n",
              "      <td>NaN</td>\n",
              "    </tr>\n",
              "    <tr>\n",
              "      <th>2</th>\n",
              "      <td>1991-11-29</td>\n",
              "      <td>694.70</td>\n",
              "      <td>NaN</td>\n",
              "      <td>NaN</td>\n",
              "    </tr>\n",
              "    <tr>\n",
              "      <th>3</th>\n",
              "      <td>1991-11-30</td>\n",
              "      <td>694.70</td>\n",
              "      <td>NaN</td>\n",
              "      <td>NaN</td>\n",
              "    </tr>\n",
              "    <tr>\n",
              "      <th>4</th>\n",
              "      <td>1991-12-01</td>\n",
              "      <td>643.42</td>\n",
              "      <td>NaN</td>\n",
              "      <td>NaN</td>\n",
              "    </tr>\n",
              "  </tbody>\n",
              "</table>\n",
              "</div>"
            ],
            "text/plain": [
              "  Fecha (dd/mm/aaaa)  ...  Unnamed: 3\n",
              "0         1991-11-27  ...         NaN\n",
              "1         1991-11-28  ...         NaN\n",
              "2         1991-11-29  ...         NaN\n",
              "3         1991-11-30  ...         NaN\n",
              "4         1991-12-01  ...         NaN\n",
              "\n",
              "[5 rows x 4 columns]"
            ]
          },
          "metadata": {},
          "execution_count": 5
        }
      ]
    },
    {
      "cell_type": "code",
      "metadata": {
        "id": "tyZ2XjsX--fa"
      },
      "source": [
        "TRM.drop(['Unnamed: 2','Unnamed: 3'], axis=1, inplace=True)"
      ],
      "id": "tyZ2XjsX--fa",
      "execution_count": 12,
      "outputs": []
    },
    {
      "cell_type": "code",
      "metadata": {
        "id": "96JCTiJg_LQ4",
        "outputId": "756a9523-faab-4505-df9e-81ab8f4d79c5",
        "colab": {
          "base_uri": "https://localhost:8080/",
          "height": 206
        }
      },
      "source": [
        "TRM.head()"
      ],
      "id": "96JCTiJg_LQ4",
      "execution_count": 13,
      "outputs": [
        {
          "output_type": "execute_result",
          "data": {
            "text/html": [
              "<div>\n",
              "<style scoped>\n",
              "    .dataframe tbody tr th:only-of-type {\n",
              "        vertical-align: middle;\n",
              "    }\n",
              "\n",
              "    .dataframe tbody tr th {\n",
              "        vertical-align: top;\n",
              "    }\n",
              "\n",
              "    .dataframe thead th {\n",
              "        text-align: right;\n",
              "    }\n",
              "</style>\n",
              "<table border=\"1\" class=\"dataframe\">\n",
              "  <thead>\n",
              "    <tr style=\"text-align: right;\">\n",
              "      <th></th>\n",
              "      <th>Fecha (dd/mm/aaaa)</th>\n",
              "      <th>Tasa de cambio representativa del mercado (TRM)</th>\n",
              "    </tr>\n",
              "  </thead>\n",
              "  <tbody>\n",
              "    <tr>\n",
              "      <th>0</th>\n",
              "      <td>1991-11-27</td>\n",
              "      <td>693.32</td>\n",
              "    </tr>\n",
              "    <tr>\n",
              "      <th>1</th>\n",
              "      <td>1991-11-28</td>\n",
              "      <td>693.99</td>\n",
              "    </tr>\n",
              "    <tr>\n",
              "      <th>2</th>\n",
              "      <td>1991-11-29</td>\n",
              "      <td>694.70</td>\n",
              "    </tr>\n",
              "    <tr>\n",
              "      <th>3</th>\n",
              "      <td>1991-11-30</td>\n",
              "      <td>694.70</td>\n",
              "    </tr>\n",
              "    <tr>\n",
              "      <th>4</th>\n",
              "      <td>1991-12-01</td>\n",
              "      <td>643.42</td>\n",
              "    </tr>\n",
              "  </tbody>\n",
              "</table>\n",
              "</div>"
            ],
            "text/plain": [
              "  Fecha (dd/mm/aaaa)  Tasa de cambio representativa del mercado (TRM)\n",
              "0         1991-11-27                                           693.32\n",
              "1         1991-11-28                                           693.99\n",
              "2         1991-11-29                                           694.70\n",
              "3         1991-11-30                                           694.70\n",
              "4         1991-12-01                                           643.42"
            ]
          },
          "metadata": {},
          "execution_count": 13
        }
      ]
    },
    {
      "cell_type": "code",
      "metadata": {
        "cell_id": "00009-115c8daf-2c9e-47ca-ad02-0a94f1ab5fce",
        "deepnote_cell_type": "code",
        "deepnote_to_be_reexecuted": false,
        "execution_millis": 226,
        "execution_start": 1636634816690,
        "source_hash": "5308689b",
        "tags": [],
        "id": "d5c6e3b0",
        "outputId": "a6319dd3-4288-4a02-dfe3-85b2f1811a3f",
        "colab": {
          "base_uri": "https://localhost:8080/",
          "height": 206
        }
      },
      "source": [
        "IPC.head()"
      ],
      "id": "d5c6e3b0",
      "execution_count": 14,
      "outputs": [
        {
          "output_type": "execute_result",
          "data": {
            "text/html": [
              "<div>\n",
              "<style scoped>\n",
              "    .dataframe tbody tr th:only-of-type {\n",
              "        vertical-align: middle;\n",
              "    }\n",
              "\n",
              "    .dataframe tbody tr th {\n",
              "        vertical-align: top;\n",
              "    }\n",
              "\n",
              "    .dataframe thead th {\n",
              "        text-align: right;\n",
              "    }\n",
              "</style>\n",
              "<table border=\"1\" class=\"dataframe\">\n",
              "  <thead>\n",
              "    <tr style=\"text-align: right;\">\n",
              "      <th></th>\n",
              "      <th>Año(aaaa)-Mes(mm)</th>\n",
              "      <th>Índice</th>\n",
              "      <th>Inflación anual %</th>\n",
              "      <th>Inflación mensual %</th>\n",
              "      <th>Inflación año corrido %</th>\n",
              "    </tr>\n",
              "  </thead>\n",
              "  <tbody>\n",
              "    <tr>\n",
              "      <th>0</th>\n",
              "      <td>195407</td>\n",
              "      <td>0.03</td>\n",
              "      <td>NaN</td>\n",
              "      <td>NaN</td>\n",
              "      <td>NaN</td>\n",
              "    </tr>\n",
              "    <tr>\n",
              "      <th>1</th>\n",
              "      <td>195408</td>\n",
              "      <td>0.03</td>\n",
              "      <td>NaN</td>\n",
              "      <td>-0.76</td>\n",
              "      <td>-0.76</td>\n",
              "    </tr>\n",
              "    <tr>\n",
              "      <th>2</th>\n",
              "      <td>195409</td>\n",
              "      <td>0.03</td>\n",
              "      <td>NaN</td>\n",
              "      <td>-1.37</td>\n",
              "      <td>-2.12</td>\n",
              "    </tr>\n",
              "    <tr>\n",
              "      <th>3</th>\n",
              "      <td>195410</td>\n",
              "      <td>0.03</td>\n",
              "      <td>NaN</td>\n",
              "      <td>0.34</td>\n",
              "      <td>-1.79</td>\n",
              "    </tr>\n",
              "    <tr>\n",
              "      <th>4</th>\n",
              "      <td>195411</td>\n",
              "      <td>0.03</td>\n",
              "      <td>NaN</td>\n",
              "      <td>0.27</td>\n",
              "      <td>-1.52</td>\n",
              "    </tr>\n",
              "  </tbody>\n",
              "</table>\n",
              "</div>"
            ],
            "text/plain": [
              "   Año(aaaa)-Mes(mm)  Índice  ...  Inflación mensual %  Inflación año corrido %\n",
              "0             195407    0.03  ...                  NaN                      NaN\n",
              "1             195408    0.03  ...                -0.76                    -0.76\n",
              "2             195409    0.03  ...                -1.37                    -2.12\n",
              "3             195410    0.03  ...                 0.34                    -1.79\n",
              "4             195411    0.03  ...                 0.27                    -1.52\n",
              "\n",
              "[5 rows x 5 columns]"
            ]
          },
          "metadata": {},
          "execution_count": 14
        }
      ]
    },
    {
      "cell_type": "markdown",
      "metadata": {
        "cell_id": "00010-f485f5fe-9767-460a-a67d-17347bbd55df",
        "deepnote_cell_type": "markdown",
        "tags": [],
        "id": "13200760"
      },
      "source": [
        "Veamos los formatos de las columnas:"
      ],
      "id": "13200760"
    },
    {
      "cell_type": "code",
      "metadata": {
        "cell_id": "00010-81b9c8d7-30f0-48b9-aa9a-0fbd23d16ba5",
        "deepnote_cell_type": "code",
        "deepnote_to_be_reexecuted": false,
        "execution_millis": 204,
        "execution_start": 1636634816713,
        "source_hash": "21545990",
        "tags": [],
        "id": "ca0df998",
        "outputId": "b669be2b-099c-46c5-96da-6a097efc03e9",
        "colab": {
          "base_uri": "https://localhost:8080/"
        }
      },
      "source": [
        "TRM.dtypes"
      ],
      "id": "ca0df998",
      "execution_count": 15,
      "outputs": [
        {
          "output_type": "execute_result",
          "data": {
            "text/plain": [
              "Fecha (dd/mm/aaaa)                                 datetime64[ns]\n",
              "Tasa de cambio representativa del mercado (TRM)           float64\n",
              "dtype: object"
            ]
          },
          "metadata": {},
          "execution_count": 15
        }
      ]
    },
    {
      "cell_type": "markdown",
      "metadata": {
        "cell_id": "00011-a1c29c33-c14d-40c6-a33e-94484fb1772e",
        "deepnote_cell_type": "markdown",
        "tags": [],
        "id": "94cd7b0f"
      },
      "source": [
        "El tipo `datetime64` es un tipo de variable nuevo definido por Numpy para manejar formatos de fecha-hora y Pandas lo utiliza cuando detecta que una columna es de tipo fecha-hora. Es siempre una buena práctica trabajar fechas y horas en este formato."
      ],
      "id": "94cd7b0f"
    },
    {
      "cell_type": "code",
      "metadata": {
        "cell_id": "00011-4c2c2780-cf69-4518-9051-a5532170fe95",
        "deepnote_cell_type": "code",
        "deepnote_to_be_reexecuted": false,
        "execution_millis": 181,
        "execution_start": 1636634816738,
        "source_hash": "e7722dd3",
        "tags": [],
        "id": "475a191f",
        "outputId": "f9670bbe-e279-4407-d2cb-d967e5844f38",
        "colab": {
          "base_uri": "https://localhost:8080/"
        }
      },
      "source": [
        "IPC.dtypes"
      ],
      "id": "475a191f",
      "execution_count": 16,
      "outputs": [
        {
          "output_type": "execute_result",
          "data": {
            "text/plain": [
              "Año(aaaa)-Mes(mm)            int64\n",
              "Índice                     float64\n",
              "Inflación anual %          float64\n",
              "Inflación mensual %        float64\n",
              "Inflación año corrido %    float64\n",
              "dtype: object"
            ]
          },
          "metadata": {},
          "execution_count": 16
        }
      ]
    },
    {
      "cell_type": "markdown",
      "metadata": {
        "cell_id": "00010-a5681a7a-d82f-4c54-aed6-ad12b60b5302",
        "deepnote_cell_type": "markdown",
        "tags": [],
        "id": "c7d16bf9"
      },
      "source": [
        "Observamos  que hay varias diferencias entre nuestros datasets, la primera es que los datos de la TRM tienen una periodicidad diaria, mientras que los datos de inflación tienen una periodicidad mensual. Por otro lado, las fechas en la serie de TRM tienen el formato correcto, mientras que en la base de inflación han sido leídas en el formato equivocado."
      ],
      "id": "c7d16bf9"
    },
    {
      "cell_type": "markdown",
      "metadata": {
        "cell_id": "00013-64243419-b3e7-48b9-9a25-7802e7c64366",
        "deepnote_cell_type": "markdown",
        "tags": [],
        "id": "74e2020d"
      },
      "source": [
        "### Pasando los datos de TRM a una periodicidad mensual"
      ],
      "id": "74e2020d"
    },
    {
      "cell_type": "markdown",
      "metadata": {
        "cell_id": "00008-bfd4c1a6-b5f8-4746-ae31-74360eae1c5d",
        "deepnote_cell_type": "markdown",
        "tags": [],
        "id": "2ce4ec7a"
      },
      "source": [
        "Lo primero que haremos para poder correlacionar las dos variables será modificar la periodicidad de los datos de TRM de diaria a mensual. Para hacer esto usaremos la siguiente estrategia: tomaremos todos los valores de TRM del mismo mes y los promediaremos. El valor promedio será el que se reporta como resultado del mes."
      ],
      "id": "2ce4ec7a"
    },
    {
      "cell_type": "markdown",
      "metadata": {
        "cell_id": "00012-e724c68c-69a9-4961-aafe-3cc93423271c",
        "deepnote_cell_type": "markdown",
        "tags": [],
        "id": "7d697ff0"
      },
      "source": [
        "Ocurre que los nombres de las columnas son muy largos, es una buena práctica renombrar las columnas para que quede clara qué información contienen pero también sea fácil trabajar con esos nombres posteriormente:"
      ],
      "id": "7d697ff0"
    },
    {
      "cell_type": "code",
      "metadata": {
        "cell_id": "00006-9196cf7a-1ae7-4045-b22c-0ace3fb757f3",
        "deepnote_cell_type": "code",
        "deepnote_to_be_reexecuted": false,
        "execution_millis": 1,
        "execution_start": 1636634816741,
        "source_hash": "83c0b3ed",
        "id": "b83772dc"
      },
      "source": [
        "TRM.rename(columns = {'Fecha (dd/mm/aaaa)': 'fecha', 'Tasa de cambio representativa del mercado (TRM)': 'TRM'}, inplace = True)"
      ],
      "id": "b83772dc",
      "execution_count": 17,
      "outputs": []
    },
    {
      "cell_type": "markdown",
      "metadata": {
        "cell_id": "00014-54c706c9-5cb4-4aae-a9ab-782e45f3eee2",
        "deepnote_cell_type": "markdown",
        "tags": [],
        "id": "60cd6dce"
      },
      "source": [
        "Note como el argumento de la función `drop` es una lista con los nombres de las columnas, mientras que el argumento de la función `rename` es un diccionario con los nombres antiguos como las *keys* y con los nombres nuevos como los *items*."
      ],
      "id": "60cd6dce"
    },
    {
      "cell_type": "code",
      "metadata": {
        "cell_id": "00007-b2c97fdf-4a78-4f0a-b25b-f74ad308fa4b",
        "deepnote_cell_type": "code",
        "deepnote_to_be_reexecuted": false,
        "execution_millis": 177,
        "execution_start": 1636634816743,
        "source_hash": "77f1d1f2",
        "id": "d79dc790",
        "outputId": "60f8a5d7-e3a6-4a69-bb0f-7ef68756c3a6",
        "colab": {
          "base_uri": "https://localhost:8080/",
          "height": 206
        }
      },
      "source": [
        "TRM.head()"
      ],
      "id": "d79dc790",
      "execution_count": 18,
      "outputs": [
        {
          "output_type": "execute_result",
          "data": {
            "text/html": [
              "<div>\n",
              "<style scoped>\n",
              "    .dataframe tbody tr th:only-of-type {\n",
              "        vertical-align: middle;\n",
              "    }\n",
              "\n",
              "    .dataframe tbody tr th {\n",
              "        vertical-align: top;\n",
              "    }\n",
              "\n",
              "    .dataframe thead th {\n",
              "        text-align: right;\n",
              "    }\n",
              "</style>\n",
              "<table border=\"1\" class=\"dataframe\">\n",
              "  <thead>\n",
              "    <tr style=\"text-align: right;\">\n",
              "      <th></th>\n",
              "      <th>fecha</th>\n",
              "      <th>TRM</th>\n",
              "    </tr>\n",
              "  </thead>\n",
              "  <tbody>\n",
              "    <tr>\n",
              "      <th>0</th>\n",
              "      <td>1991-11-27</td>\n",
              "      <td>693.32</td>\n",
              "    </tr>\n",
              "    <tr>\n",
              "      <th>1</th>\n",
              "      <td>1991-11-28</td>\n",
              "      <td>693.99</td>\n",
              "    </tr>\n",
              "    <tr>\n",
              "      <th>2</th>\n",
              "      <td>1991-11-29</td>\n",
              "      <td>694.70</td>\n",
              "    </tr>\n",
              "    <tr>\n",
              "      <th>3</th>\n",
              "      <td>1991-11-30</td>\n",
              "      <td>694.70</td>\n",
              "    </tr>\n",
              "    <tr>\n",
              "      <th>4</th>\n",
              "      <td>1991-12-01</td>\n",
              "      <td>643.42</td>\n",
              "    </tr>\n",
              "  </tbody>\n",
              "</table>\n",
              "</div>"
            ],
            "text/plain": [
              "       fecha     TRM\n",
              "0 1991-11-27  693.32\n",
              "1 1991-11-28  693.99\n",
              "2 1991-11-29  694.70\n",
              "3 1991-11-30  694.70\n",
              "4 1991-12-01  643.42"
            ]
          },
          "metadata": {},
          "execution_count": 18
        }
      ]
    },
    {
      "cell_type": "markdown",
      "metadata": {
        "cell_id": "00023-10ea9b29-9399-4e66-b42d-65b81336d1dc",
        "deepnote_cell_type": "markdown",
        "tags": [],
        "id": "337a5557"
      },
      "source": [
        "Para poder promediar los datos por mes, vamos a ahora a crear una nueva columna con la información correspondiente únicamente al mes. Esto es muy fácil usando la función `dt.toperiod()`, veamos:"
      ],
      "id": "337a5557"
    },
    {
      "cell_type": "code",
      "metadata": {
        "cell_id": "00024-8e7cf541-d247-4de4-b1a3-66fcc17218f7",
        "deepnote_cell_type": "code",
        "deepnote_to_be_reexecuted": false,
        "execution_millis": 150,
        "execution_start": 1636634816771,
        "source_hash": "c95cb876",
        "tags": [],
        "id": "2068317f",
        "outputId": "49d2287b-4d99-46dc-c6ad-6ab156165b37",
        "colab": {
          "base_uri": "https://localhost:8080/",
          "height": 206
        }
      },
      "source": [
        "TRM['mes'] = TRM['fecha'].dt.to_period('M')\n",
        "\n",
        "TRM.head()"
      ],
      "id": "2068317f",
      "execution_count": 19,
      "outputs": [
        {
          "output_type": "execute_result",
          "data": {
            "text/html": [
              "<div>\n",
              "<style scoped>\n",
              "    .dataframe tbody tr th:only-of-type {\n",
              "        vertical-align: middle;\n",
              "    }\n",
              "\n",
              "    .dataframe tbody tr th {\n",
              "        vertical-align: top;\n",
              "    }\n",
              "\n",
              "    .dataframe thead th {\n",
              "        text-align: right;\n",
              "    }\n",
              "</style>\n",
              "<table border=\"1\" class=\"dataframe\">\n",
              "  <thead>\n",
              "    <tr style=\"text-align: right;\">\n",
              "      <th></th>\n",
              "      <th>fecha</th>\n",
              "      <th>TRM</th>\n",
              "      <th>mes</th>\n",
              "    </tr>\n",
              "  </thead>\n",
              "  <tbody>\n",
              "    <tr>\n",
              "      <th>0</th>\n",
              "      <td>1991-11-27</td>\n",
              "      <td>693.32</td>\n",
              "      <td>1991-11</td>\n",
              "    </tr>\n",
              "    <tr>\n",
              "      <th>1</th>\n",
              "      <td>1991-11-28</td>\n",
              "      <td>693.99</td>\n",
              "      <td>1991-11</td>\n",
              "    </tr>\n",
              "    <tr>\n",
              "      <th>2</th>\n",
              "      <td>1991-11-29</td>\n",
              "      <td>694.70</td>\n",
              "      <td>1991-11</td>\n",
              "    </tr>\n",
              "    <tr>\n",
              "      <th>3</th>\n",
              "      <td>1991-11-30</td>\n",
              "      <td>694.70</td>\n",
              "      <td>1991-11</td>\n",
              "    </tr>\n",
              "    <tr>\n",
              "      <th>4</th>\n",
              "      <td>1991-12-01</td>\n",
              "      <td>643.42</td>\n",
              "      <td>1991-12</td>\n",
              "    </tr>\n",
              "  </tbody>\n",
              "</table>\n",
              "</div>"
            ],
            "text/plain": [
              "       fecha     TRM      mes\n",
              "0 1991-11-27  693.32  1991-11\n",
              "1 1991-11-28  693.99  1991-11\n",
              "2 1991-11-29  694.70  1991-11\n",
              "3 1991-11-30  694.70  1991-11\n",
              "4 1991-12-01  643.42  1991-12"
            ]
          },
          "metadata": {},
          "execution_count": 19
        }
      ]
    },
    {
      "cell_type": "markdown",
      "metadata": {
        "cell_id": "00025-2aec9298-af79-496d-9af6-a8db4d39fb99",
        "deepnote_cell_type": "markdown",
        "tags": [],
        "id": "31e5242d"
      },
      "source": [
        "El parámetro `'M'` le dice a la función que queremos la información solo del mes, para obtener información del año usamos `'Y'`, de la semana usamos `'W'`, o del trimestre usamos `'Q'`."
      ],
      "id": "31e5242d"
    },
    {
      "cell_type": "markdown",
      "metadata": {
        "cell_id": "00016-e08f1e04-6aa8-47ed-ab3c-3c91d24d7d6e",
        "deepnote_cell_type": "markdown",
        "tags": [],
        "id": "e5afb0e7"
      },
      "source": [
        "#### La función `groupby`\n",
        "\n",
        "Como su nombre lo indica, la función `groupby` sirve para agrupar conjuntos de datos que tengan los mismos valores en alguna, o algunas columnas. Sin embargo, el agrupamiento por si solo no es una salida con la que podamos trabajar, es siempre necesario decirle a `gropuby` qué deseamos hacer con los datos, esto es la función de agrupamiento.<br>\n",
        "\n",
        "La estructura general de la función `groupby` es la siguiente:\n",
        "\n",
        "`nombre_dataframe.groupby(columna_a_agrupar).funcion_agrupación()`\n",
        "\n",
        "La Figura siguiente muestra algunos ejemplos de su utilización:\n",
        "\n",
        "![Picture title](https://github.com/davidmorme/Universidad/blob/main/Herramientas%20de%20Modelaci%C3%B3n/fig/C3_1.png?raw=1)\n",
        "\n",
        "En nuestro DataFrame todos los objetos correspondientes al mismo mes tienen el mismo valor en la columna `mes`, entonces podemos usar la función `groupby` para calcular el valor promedio de la TRM cada mes.\n"
      ],
      "id": "e5afb0e7"
    },
    {
      "cell_type": "code",
      "metadata": {
        "cell_id": "00027-528a0083-75b5-4344-9cd3-ec3a9a1b399f",
        "deepnote_cell_type": "code",
        "deepnote_to_be_reexecuted": false,
        "execution_millis": 142,
        "execution_start": 1636634816780,
        "source_hash": "51c6355f",
        "tags": [],
        "id": "6b22b400",
        "outputId": "2838b00a-c4ad-49e7-c521-bbd5ba213349",
        "colab": {
          "base_uri": "https://localhost:8080/",
          "height": 238
        }
      },
      "source": [
        "TRM_mes = TRM.groupby('mes').mean()\n",
        "\n",
        "TRM_mes.head()"
      ],
      "id": "6b22b400",
      "execution_count": 20,
      "outputs": [
        {
          "output_type": "execute_result",
          "data": {
            "text/html": [
              "<div>\n",
              "<style scoped>\n",
              "    .dataframe tbody tr th:only-of-type {\n",
              "        vertical-align: middle;\n",
              "    }\n",
              "\n",
              "    .dataframe tbody tr th {\n",
              "        vertical-align: top;\n",
              "    }\n",
              "\n",
              "    .dataframe thead th {\n",
              "        text-align: right;\n",
              "    }\n",
              "</style>\n",
              "<table border=\"1\" class=\"dataframe\">\n",
              "  <thead>\n",
              "    <tr style=\"text-align: right;\">\n",
              "      <th></th>\n",
              "      <th>TRM</th>\n",
              "    </tr>\n",
              "    <tr>\n",
              "      <th>mes</th>\n",
              "      <th></th>\n",
              "    </tr>\n",
              "  </thead>\n",
              "  <tbody>\n",
              "    <tr>\n",
              "      <th>1991-11</th>\n",
              "      <td>694.177500</td>\n",
              "    </tr>\n",
              "    <tr>\n",
              "      <th>1991-12</th>\n",
              "      <td>630.412581</td>\n",
              "    </tr>\n",
              "    <tr>\n",
              "      <th>1992-01</th>\n",
              "      <td>644.058065</td>\n",
              "    </tr>\n",
              "    <tr>\n",
              "      <th>1992-02</th>\n",
              "      <td>635.671724</td>\n",
              "    </tr>\n",
              "    <tr>\n",
              "      <th>1992-03</th>\n",
              "      <td>640.501935</td>\n",
              "    </tr>\n",
              "  </tbody>\n",
              "</table>\n",
              "</div>"
            ],
            "text/plain": [
              "                TRM\n",
              "mes                \n",
              "1991-11  694.177500\n",
              "1991-12  630.412581\n",
              "1992-01  644.058065\n",
              "1992-02  635.671724\n",
              "1992-03  640.501935"
            ]
          },
          "metadata": {},
          "execution_count": 20
        }
      ]
    },
    {
      "cell_type": "markdown",
      "metadata": {
        "cell_id": "00028-a0a464fe-2788-4f66-a0fa-9b7c8a703096",
        "deepnote_cell_type": "markdown",
        "tags": [],
        "id": "e1741cdc"
      },
      "source": [
        "Para lo que sigue queremos que la fecha sea una columna, no un índice, entonces usamos la función `'reset_index'`"
      ],
      "id": "e1741cdc"
    },
    {
      "cell_type": "code",
      "metadata": {
        "cell_id": "00029-af7131a7-e577-4faa-ac22-1bc04b702f8b",
        "deepnote_cell_type": "code",
        "deepnote_to_be_reexecuted": false,
        "execution_millis": 114,
        "execution_start": 1636634816809,
        "source_hash": "35d0525e",
        "tags": [],
        "id": "c8de59c5",
        "outputId": "af088535-5e9c-405c-badd-21f2a432aef0",
        "colab": {
          "base_uri": "https://localhost:8080/",
          "height": 206
        }
      },
      "source": [
        "TRM_mes.reset_index(inplace = True)\n",
        "\n",
        "TRM_mes.head()"
      ],
      "id": "c8de59c5",
      "execution_count": 21,
      "outputs": [
        {
          "output_type": "execute_result",
          "data": {
            "text/html": [
              "<div>\n",
              "<style scoped>\n",
              "    .dataframe tbody tr th:only-of-type {\n",
              "        vertical-align: middle;\n",
              "    }\n",
              "\n",
              "    .dataframe tbody tr th {\n",
              "        vertical-align: top;\n",
              "    }\n",
              "\n",
              "    .dataframe thead th {\n",
              "        text-align: right;\n",
              "    }\n",
              "</style>\n",
              "<table border=\"1\" class=\"dataframe\">\n",
              "  <thead>\n",
              "    <tr style=\"text-align: right;\">\n",
              "      <th></th>\n",
              "      <th>mes</th>\n",
              "      <th>TRM</th>\n",
              "    </tr>\n",
              "  </thead>\n",
              "  <tbody>\n",
              "    <tr>\n",
              "      <th>0</th>\n",
              "      <td>1991-11</td>\n",
              "      <td>694.177500</td>\n",
              "    </tr>\n",
              "    <tr>\n",
              "      <th>1</th>\n",
              "      <td>1991-12</td>\n",
              "      <td>630.412581</td>\n",
              "    </tr>\n",
              "    <tr>\n",
              "      <th>2</th>\n",
              "      <td>1992-01</td>\n",
              "      <td>644.058065</td>\n",
              "    </tr>\n",
              "    <tr>\n",
              "      <th>3</th>\n",
              "      <td>1992-02</td>\n",
              "      <td>635.671724</td>\n",
              "    </tr>\n",
              "    <tr>\n",
              "      <th>4</th>\n",
              "      <td>1992-03</td>\n",
              "      <td>640.501935</td>\n",
              "    </tr>\n",
              "  </tbody>\n",
              "</table>\n",
              "</div>"
            ],
            "text/plain": [
              "       mes         TRM\n",
              "0  1991-11  694.177500\n",
              "1  1991-12  630.412581\n",
              "2  1992-01  644.058065\n",
              "3  1992-02  635.671724\n",
              "4  1992-03  640.501935"
            ]
          },
          "metadata": {},
          "execution_count": 21
        }
      ]
    },
    {
      "cell_type": "markdown",
      "metadata": {
        "cell_id": "00017-59575c7d-655e-4086-b09b-1d735fb5eb56",
        "deepnote_cell_type": "markdown",
        "tags": [],
        "id": "d9473f6a"
      },
      "source": [
        "### Generando nuestra primera gráfica\n",
        "\n",
        "Gracias a la integración entre Pandas y Matplotlib es posible generar visualizaciones de forma muy rápida usando la función `plot` de Pandas. Esta función está definida para la clase DataFrame y por lo tanto la podemos llamar de la siguiente manera:"
      ],
      "id": "d9473f6a"
    },
    {
      "cell_type": "code",
      "metadata": {
        "cell_id": "00008-6963b020-5785-48bb-a148-8b9395fae0eb",
        "deepnote_cell_type": "code",
        "deepnote_to_be_reexecuted": false,
        "execution_millis": 344,
        "execution_start": 1636634816857,
        "source_hash": "a854ba9e",
        "id": "38a014a3",
        "outputId": "d5ab6b78-94bb-46c3-c2ef-c3cbb6a5186a",
        "colab": {
          "base_uri": "https://localhost:8080/",
          "height": 296
        }
      },
      "source": [
        "TRM_mes.plot('mes', 'TRM')"
      ],
      "id": "38a014a3",
      "execution_count": 22,
      "outputs": [
        {
          "output_type": "execute_result",
          "data": {
            "text/plain": [
              "<matplotlib.axes._subplots.AxesSubplot at 0x7f67dd2ca650>"
            ]
          },
          "metadata": {},
          "execution_count": 22
        },
        {
          "output_type": "display_data",
          "data": {
            "image/png": "[encoded data removed]",
            "text/plain": [
              "<Figure size 432x288 with 1 Axes>"
            ]
          },
          "metadata": {
            "needs_background": "light"
          }
        }
      ]
    },
    {
      "cell_type": "markdown",
      "metadata": {
        "cell_id": "00019-ee3b36e4-4f24-4f6f-b211-126cc5d3f966",
        "deepnote_cell_type": "markdown",
        "tags": [],
        "id": "4c4c5b1c"
      },
      "source": [
        "El primer argumento de la función `plot` corresponde a la columna que queremos graficar en el eje *x* y el segundo argumento corresponde a la columna que queremos graficar en el eje *y*. \n",
        "\n",
        "Es posible modificar muchos parámetros de la gráfica incluyendo argumentos adicionales de configuración:"
      ],
      "id": "4c4c5b1c"
    },
    {
      "cell_type": "code",
      "metadata": {
        "cell_id": "00020-5b755053-69d0-4b22-83ad-015d435074a9",
        "deepnote_cell_type": "code",
        "deepnote_to_be_reexecuted": false,
        "execution_millis": 431,
        "execution_start": 1636634817208,
        "source_hash": "a55f5882",
        "tags": [],
        "id": "020b9b74",
        "outputId": "166085a0-9df3-4f9c-b173-b50dc1558fd8",
        "colab": {
          "base_uri": "https://localhost:8080/",
          "height": 421
        }
      },
      "source": [
        "TRM_mes.plot('mes', 'TRM', \n",
        "            figsize = (8,6), # cambia el tamaño de la gráfica\n",
        "            xlabel = 'periodo', # cambia el nombre del eje x\n",
        "            ylabel = 'valor mensual de la TRM en pesos', # cambia el nombre del eje y\n",
        "            title = 'Histórico del valor de la TRM', # cambia el título de la gráfica\n",
        "            color = 'red') # cambia el color de los datos"
      ],
      "id": "020b9b74",
      "execution_count": 23,
      "outputs": [
        {
          "output_type": "execute_result",
          "data": {
            "text/plain": [
              "<matplotlib.axes._subplots.AxesSubplot at 0x7f67dd14fa90>"
            ]
          },
          "metadata": {},
          "execution_count": 23
        },
        {
          "output_type": "display_data",
          "data": {
            "image/png": "[encoded data removed]",
            "text/plain": [
              "<Figure size 576x432 with 1 Axes>"
            ]
          },
          "metadata": {
            "needs_background": "light"
          }
        }
      ]
    },
    {
      "cell_type": "markdown",
      "metadata": {
        "cell_id": "00034-4ca5c58f-e334-4daf-8e76-fdf68623ccd5",
        "deepnote_cell_type": "markdown",
        "tags": [],
        "id": "24e03dd1"
      },
      "source": [
        "___\n",
        "#### Ejercicio 1\n",
        "\n",
        "Cree un nuevo DataFrame con los promedios anuales de la Tasa Representativa del Mercado. Posteriormente haga una gráfica con los datos obtenidos.\n",
        "\n",
        "___\n",
        "\n",
        "#### Ejercicio 2\n",
        "\n",
        "Calcule para cada mes los valores máximos y mínimos de la Tasa Representativa del Mercado. Posteriormente réstelos para establecer la variación mensual de la TRM, y haga una gráfica de esta variación. ¿Con qué evento coincide la variación máxima observada?\n",
        "\n",
        "___"
      ],
      "id": "24e03dd1"
    },
    {
      "cell_type": "markdown",
      "metadata": {
        "cell_id": "00021-6576c000-9767-4795-a3ca-acbe997fd019",
        "deepnote_cell_type": "markdown",
        "tags": [],
        "id": "12b9c01c"
      },
      "source": [
        "### Análisis de Series de Tiempo\n",
        "\n",
        "Las **series de tiempo** corresponden a datos que han sido recolectados y/o registrados en intervalos de tiempo **regulares** y cuyo comportamiento puede modelarse y predecirse a través de metologías estadísticas.\n",
        "\n",
        "Con la finalidad de caracterizar series de tiempo, podemos utilizar de manera preliminar gráficas y medidas descriptivas. De acuerdo del comportamiento gráfico de la serie, podemos emplear algunos estadísticos para describirla:\n",
        "\n",
        "* Cuando la serie fluctúa de forma constante alrededor de algún valor, se puede usar el **promedio de las observaciones** y su **desviación estándar**\n",
        "\n",
        "- Si la serie tiene un comportamiento creciente o decreciente, podemos usar el **promedio de las tasas de variación** así como sus valores **máximo(s)** y/o **mínimo(s)** a nivel local o global. \n",
        "\n"
      ],
      "id": "12b9c01c"
    },
    {
      "cell_type": "markdown",
      "metadata": {
        "cell_id": "00022-85d676a9-d6a4-4467-8317-94507f5a3dfb",
        "deepnote_cell_type": "markdown",
        "tags": [],
        "id": "37e432dd"
      },
      "source": [
        "Podemos analizar la variación de una serie de tiempo teniendo en cuenta los elementos siguientes:\n",
        "\n",
        "- **Tendencia:** indica el _movimiento_ de la serie a largo plazo.\n",
        "- **Estacionalidad:** permite determinar efectos que se producen de forma periódica.\n",
        "-  **Aleatoriedad:** caracteriza los elementos aleatorios en la serie.\n",
        "\n",
        "\n",
        "#### Procesos Estocásticos y Deterministicos\n",
        "\n",
        "Cuando hablamos de un **proceso estocástico** contamos con un conjunto de _variables aleatorias_ que podemos ordenar de acuedo a algún índice (que usualmente corresponde al tiempo):\n",
        "\n",
        "$$\\{x_t\\}=\\{...,x_1,x_2,x_3,x_4,...\\}$$\n",
        "\n",
        "Al trabajar con variables aleatorias, es necesario tener en cuenta que no podemos predecir su resultado para cada instante y, en lugar de ello, utilizamos distribuciones de probabilidad para entender su comportamiento.\n",
        "\n",
        "Como contraparte de un proceso estocástico encontramos los **procesos determinísticos** en donde, sin importar cuántas veces realicemos un experimento, podremos predecir con total certeza el resultado que se obtendrá. Muchas veces sin embargo, cuando no conocemos todas las variables involucradas, podemos abordar un proceso determinístico como uno estocástico.\n",
        "\n",
        "### Estacionariedad\n",
        "\n",
        "El proceso estocástico que produce una serie de tiempo puede asociarse con una **distribución de probabilidad** y, cuando ésta no cambia en el tiempo, nos permite hacer inferencia y predecir el comportamiento de la serie con mayor seguridad. Esta característica se conoce como **estacionariedad**.\n",
        "\n",
        "En resumen, una serie de tiempo es estacionaria si su media y su varianza permanecen constantes en el tiempo y si la serie no tiene una tendencia.\n",
        "\n",
        "<span style=\"color:red\">**NOTA:** Estacionalidad $\\neq$ Estacionariedad</span>.\n"
      ],
      "id": "37e432dd"
    },
    {
      "cell_type": "markdown",
      "metadata": {
        "cell_id": "00021-771988ac-dbb3-4b23-ad3e-611754ae1ea2",
        "deepnote_cell_type": "markdown",
        "tags": [],
        "id": "88d638f7"
      },
      "source": [
        "Claramente, la serie de tiempo de la TRM es no estacionaria ya que tiene una tendencia clara que cambia a lo largo del tiempo. Es difícil identificar para esta serie de tiempo una estacionalidad, ya que no hay patrones repetitivos claros. También es claro que esta serie de tiempo está afectada por fenómenos aleatorios, y de ahí que tenga muchas variaciones de poca frecuencia.\n",
        "\n",
        "Sin embargo, hay situaciones en las que determinar la estacionariedad de una serie de tiempo no es tan evidente, y por eso se han desarrollado métodos estadísticos que nos pueden dar una estimación de con cuánta seguridad podemos hablar de una serie de tiempo estacionaria.\n",
        "\n",
        "### Prueba Dickey-Fuller\n",
        "La prueba Dickey-Fuller es una prueba estadística que nos permite probar la hipótesis nula de que la serie de tiempo es no-estacionaria. Como en todos los procesos de pruebas de hipótesis, el resultado de la prueba será un p-valor que deberemos interpretar de acuerdo con el nivel de significancia que queremos obtener. En general, podemos rechazar que la hipótesis nula, y aceptar entonces que la serie es estacionaria, con un nivel de confianza $\\alpha$ si el p-valor satisface:<br>\n",
        "$$p<1-\\alpha$$"
      ],
      "id": "88d638f7"
    },
    {
      "cell_type": "markdown",
      "metadata": {
        "cell_id": "00024-69dc034e-9614-4343-a17b-9e5fd22b0b0e",
        "deepnote_cell_type": "markdown",
        "tags": [],
        "id": "900aab55"
      },
      "source": [
        "Apliquemos la prueba sobre nuestra serie de tiempo de valores de la TRM, para esto usaremos el paquete Statsmodels que como su nombre lo indica contiene muchas aplicaciones en estadística. La información específica de la función utilizada para hacer la prueba Dickey-Fuller puede ser encontrada en la documentación oficial:\n",
        "\n",
        "https://www.statsmodels.org/dev/generated/statsmodels.tsa.stattools.adfuller.html "
      ],
      "id": "900aab55"
    },
    {
      "cell_type": "code",
      "metadata": {
        "cell_id": "00026-a95763a0-a065-48e7-a438-abcc98812116",
        "deepnote_cell_type": "code",
        "deepnote_to_be_reexecuted": false,
        "execution_millis": 2879,
        "execution_start": 1636634817634,
        "source_hash": "42fd5e",
        "tags": [],
        "id": "d2396e1a",
        "outputId": "47331766-cc0d-4965-b9bc-fa965c621e08",
        "colab": {
          "base_uri": "https://localhost:8080/"
        }
      },
      "source": [
        "#######\n",
        "#### REMOVER EN EL NOTEBOOK FINAL\n",
        "######\n",
        "!pip install statsmodels"
      ],
      "id": "d2396e1a",
      "execution_count": 25,
      "outputs": [
        {
          "output_type": "stream",
          "name": "stdout",
          "text": [
            "Requirement already satisfied: statsmodels in /usr/local/lib/python3.7/dist-packages (0.10.2)\n",
            "Requirement already satisfied: patsy>=0.4.0 in /usr/local/lib/python3.7/dist-packages (from statsmodels) (0.5.2)\n",
            "Requirement already satisfied: numpy>=1.11 in /usr/local/lib/python3.7/dist-packages (from statsmodels) (1.19.5)\n",
            "Requirement already satisfied: scipy>=0.18 in /usr/local/lib/python3.7/dist-packages (from statsmodels) (1.4.1)\n",
            "Requirement already satisfied: pandas>=0.19 in /usr/local/lib/python3.7/dist-packages (from statsmodels) (1.1.5)\n",
            "Requirement already satisfied: pytz>=2017.2 in /usr/local/lib/python3.7/dist-packages (from pandas>=0.19->statsmodels) (2018.9)\n",
            "Requirement already satisfied: python-dateutil>=2.7.3 in /usr/local/lib/python3.7/dist-packages (from pandas>=0.19->statsmodels) (2.8.2)\n",
            "Requirement already satisfied: six in /usr/local/lib/python3.7/dist-packages (from patsy>=0.4.0->statsmodels) (1.15.0)\n"
          ]
        }
      ]
    },
    {
      "cell_type": "code",
      "metadata": {
        "id": "I7lPlvFMAjrQ",
        "outputId": "8c650264-cb47-46e0-d777-2bdc93bc50cf",
        "colab": {
          "base_uri": "https://localhost:8080/"
        }
      },
      "source": [
        "# Prueba de Dickey - Fuller para Estacionariedad\n",
        "'''\n",
        "The null hypothesis of the Augmented Dickey-Fuller is that there is a unit root, \n",
        "with the alternative that there is no unit root.\n",
        "'''\n",
        "from statsmodels.tsa.stattools import adfuller\n",
        "\n",
        "print('Prueba de Hipótesis Dickey-Fuller:')\n",
        "dftest = adfuller(TRM_mes['TRM'])\n",
        "pvalor = dftest[1]  # el segundo elemento de la salida del test es el p-valor\n",
        "print('p-valor: ', dftest[1])\n",
        "\n",
        "significancia = 0.95\n",
        "print('Se puede rechazar la hipótesis nula: ', pvalor<(1-significancia))"
      ],
      "id": "I7lPlvFMAjrQ",
      "execution_count": 26,
      "outputs": [
        {
          "output_type": "stream",
          "name": "stdout",
          "text": [
            "Prueba de Hipótesis Dickey-Fuller:\n",
            "p-valor:  0.8862876691192689\n",
            "Se puede rechazar la hipótesis nula:  False\n"
          ]
        }
      ]
    },
    {
      "cell_type": "markdown",
      "metadata": {
        "cell_id": "00028-478ae6c4-eb20-4f32-bc0e-cf6102ef3bfd",
        "deepnote_cell_type": "markdown",
        "tags": [],
        "id": "8b056e4e"
      },
      "source": [
        "No podemos rechazar en este caso la hipótesis nula, eso quiere decir que de acuerdo con la prueba la serie de tiempo es no-estacionaria, como esperábamos"
      ],
      "id": "8b056e4e"
    },
    {
      "cell_type": "markdown",
      "metadata": {
        "cell_id": "00022-901e2864-ca95-4965-914f-275f9d9fa384",
        "deepnote_cell_type": "markdown",
        "tags": [],
        "id": "52b62415"
      },
      "source": [
        "### Obteniendo la tendencia de los datos\n",
        "\n",
        "Una de las técnicas más utilizadas para eliminar la componente aleatoria de una serie de tiempo es hacer un promedio móvil, esto es, reemplazar cada dato por el promedio de los datos adyacentes tomado a lo largo de una ventana de tiempo que sea mayor a la frecuencia de las componentes aleatorias.\n",
        "\n",
        "Los promedios móviles se pueden calcular fácilmente con Pandas usando la función `rolling`"
      ],
      "id": "52b62415"
    },
    {
      "cell_type": "code",
      "metadata": {
        "cell_id": "00042-bbf17a2e-524e-4cb2-aae7-69c186355e4e",
        "deepnote_cell_type": "code",
        "deepnote_to_be_reexecuted": false,
        "execution_millis": 2,
        "execution_start": 1636634821308,
        "source_hash": "e845ed48",
        "tags": [],
        "id": "50363419"
      },
      "source": [
        "# definiremos primero una ventana de tiempo para hacer el promedio móvil\n",
        "ventana = 6"
      ],
      "id": "50363419",
      "execution_count": 27,
      "outputs": []
    },
    {
      "cell_type": "code",
      "metadata": {
        "cell_id": "00009-cd451f20-b447-44b8-8c6c-e6c133414b46",
        "deepnote_cell_type": "code",
        "deepnote_to_be_reexecuted": false,
        "execution_millis": 75,
        "execution_start": 1636634821314,
        "source_hash": "6f0b9142",
        "id": "781967d8",
        "outputId": "d4ff8932-a4bf-4d0b-fa85-74cc321008e3",
        "colab": {
          "base_uri": "https://localhost:8080/"
        }
      },
      "source": [
        "# calculamos el promedio móvil usando la ventana definida\n",
        "TRM_mes['TRM'].rolling(ventana).mean().head(10)"
      ],
      "id": "781967d8",
      "execution_count": 28,
      "outputs": [
        {
          "output_type": "execute_result",
          "data": {
            "text/plain": [
              "0           NaN\n",
              "1           NaN\n",
              "2           NaN\n",
              "3           NaN\n",
              "4           NaN\n",
              "5    649.129467\n",
              "6    643.395099\n",
              "7    651.187225\n",
              "8    661.306257\n",
              "9    671.056722\n",
              "Name: TRM, dtype: float64"
            ]
          },
          "metadata": {},
          "execution_count": 28
        }
      ]
    },
    {
      "cell_type": "markdown",
      "metadata": {
        "cell_id": "00024-2aeb75ea-4a6a-4f26-b83f-8bf51d80a80f",
        "deepnote_cell_type": "markdown",
        "tags": [],
        "id": "6c4a90db"
      },
      "source": [
        "Hagamos la asignación ahora a una nueva columna llamanda `'TRM_prom'`"
      ],
      "id": "6c4a90db"
    },
    {
      "cell_type": "code",
      "metadata": {
        "cell_id": "00010-8d5912d8-e0aa-4ac9-9e63-81e02e2fa972",
        "deepnote_cell_type": "code",
        "deepnote_to_be_reexecuted": false,
        "execution_millis": 2,
        "execution_start": 1636634821320,
        "source_hash": "5aa73c52",
        "id": "021a1ca2"
      },
      "source": [
        "TRM_mes['TRM_prom'] = TRM_mes['TRM'].rolling(ventana).mean()"
      ],
      "id": "021a1ca2",
      "execution_count": 29,
      "outputs": []
    },
    {
      "cell_type": "markdown",
      "metadata": {
        "cell_id": "00026-808427f4-2b8f-40f0-9c82-831f2bd76468",
        "deepnote_cell_type": "markdown",
        "tags": [],
        "id": "40e3b49f"
      },
      "source": [
        "Veamos entonces el resultado:"
      ],
      "id": "40e3b49f"
    },
    {
      "cell_type": "code",
      "metadata": {
        "cell_id": "00026-12a9c9b6-0e68-44d3-bea6-84e35a0b2db4",
        "deepnote_cell_type": "code",
        "deepnote_to_be_reexecuted": false,
        "execution_millis": 43,
        "execution_start": 1636634821348,
        "source_hash": "5dfb6784",
        "tags": [],
        "id": "3584a4db",
        "outputId": "ad620782-8362-4e56-99b4-6c3df60283cf",
        "colab": {
          "base_uri": "https://localhost:8080/",
          "height": 520
        }
      },
      "source": [
        "TRM_mes.head(15)"
      ],
      "id": "3584a4db",
      "execution_count": 30,
      "outputs": [
        {
          "output_type": "execute_result",
          "data": {
            "text/html": [
              "<div>\n",
              "<style scoped>\n",
              "    .dataframe tbody tr th:only-of-type {\n",
              "        vertical-align: middle;\n",
              "    }\n",
              "\n",
              "    .dataframe tbody tr th {\n",
              "        vertical-align: top;\n",
              "    }\n",
              "\n",
              "    .dataframe thead th {\n",
              "        text-align: right;\n",
              "    }\n",
              "</style>\n",
              "<table border=\"1\" class=\"dataframe\">\n",
              "  <thead>\n",
              "    <tr style=\"text-align: right;\">\n",
              "      <th></th>\n",
              "      <th>mes</th>\n",
              "      <th>TRM</th>\n",
              "      <th>TRM_prom</th>\n",
              "    </tr>\n",
              "  </thead>\n",
              "  <tbody>\n",
              "    <tr>\n",
              "      <th>0</th>\n",
              "      <td>1991-11</td>\n",
              "      <td>694.177500</td>\n",
              "      <td>NaN</td>\n",
              "    </tr>\n",
              "    <tr>\n",
              "      <th>1</th>\n",
              "      <td>1991-12</td>\n",
              "      <td>630.412581</td>\n",
              "      <td>NaN</td>\n",
              "    </tr>\n",
              "    <tr>\n",
              "      <th>2</th>\n",
              "      <td>1992-01</td>\n",
              "      <td>644.058065</td>\n",
              "      <td>NaN</td>\n",
              "    </tr>\n",
              "    <tr>\n",
              "      <th>3</th>\n",
              "      <td>1992-02</td>\n",
              "      <td>635.671724</td>\n",
              "      <td>NaN</td>\n",
              "    </tr>\n",
              "    <tr>\n",
              "      <th>4</th>\n",
              "      <td>1992-03</td>\n",
              "      <td>640.501935</td>\n",
              "      <td>NaN</td>\n",
              "    </tr>\n",
              "    <tr>\n",
              "      <th>5</th>\n",
              "      <td>1992-04</td>\n",
              "      <td>649.955000</td>\n",
              "      <td>649.129467</td>\n",
              "    </tr>\n",
              "    <tr>\n",
              "      <th>6</th>\n",
              "      <td>1992-05</td>\n",
              "      <td>659.771290</td>\n",
              "      <td>643.395099</td>\n",
              "    </tr>\n",
              "    <tr>\n",
              "      <th>7</th>\n",
              "      <td>1992-06</td>\n",
              "      <td>677.165333</td>\n",
              "      <td>651.187225</td>\n",
              "    </tr>\n",
              "    <tr>\n",
              "      <th>8</th>\n",
              "      <td>1992-07</td>\n",
              "      <td>704.772258</td>\n",
              "      <td>661.306257</td>\n",
              "    </tr>\n",
              "    <tr>\n",
              "      <th>9</th>\n",
              "      <td>1992-08</td>\n",
              "      <td>694.174516</td>\n",
              "      <td>671.056722</td>\n",
              "    </tr>\n",
              "    <tr>\n",
              "      <th>10</th>\n",
              "      <td>1992-09</td>\n",
              "      <td>697.503333</td>\n",
              "      <td>680.556955</td>\n",
              "    </tr>\n",
              "    <tr>\n",
              "      <th>11</th>\n",
              "      <td>1992-10</td>\n",
              "      <td>707.804839</td>\n",
              "      <td>690.198595</td>\n",
              "    </tr>\n",
              "    <tr>\n",
              "      <th>12</th>\n",
              "      <td>1992-11</td>\n",
              "      <td>722.567333</td>\n",
              "      <td>700.664602</td>\n",
              "    </tr>\n",
              "    <tr>\n",
              "      <th>13</th>\n",
              "      <td>1992-12</td>\n",
              "      <td>733.829355</td>\n",
              "      <td>710.108606</td>\n",
              "    </tr>\n",
              "    <tr>\n",
              "      <th>14</th>\n",
              "      <td>1993-01</td>\n",
              "      <td>745.182581</td>\n",
              "      <td>716.843659</td>\n",
              "    </tr>\n",
              "  </tbody>\n",
              "</table>\n",
              "</div>"
            ],
            "text/plain": [
              "        mes         TRM    TRM_prom\n",
              "0   1991-11  694.177500         NaN\n",
              "1   1991-12  630.412581         NaN\n",
              "2   1992-01  644.058065         NaN\n",
              "3   1992-02  635.671724         NaN\n",
              "4   1992-03  640.501935         NaN\n",
              "5   1992-04  649.955000  649.129467\n",
              "6   1992-05  659.771290  643.395099\n",
              "7   1992-06  677.165333  651.187225\n",
              "8   1992-07  704.772258  661.306257\n",
              "9   1992-08  694.174516  671.056722\n",
              "10  1992-09  697.503333  680.556955\n",
              "11  1992-10  707.804839  690.198595\n",
              "12  1992-11  722.567333  700.664602\n",
              "13  1992-12  733.829355  710.108606\n",
              "14  1993-01  745.182581  716.843659"
            ]
          },
          "metadata": {},
          "execution_count": 30
        }
      ]
    },
    {
      "cell_type": "code",
      "metadata": {
        "cell_id": "00013-b85d32ee-d28f-440f-aa39-cc7876f992d4",
        "deepnote_cell_type": "code",
        "deepnote_to_be_reexecuted": false,
        "execution_millis": 372,
        "execution_start": 1636634821350,
        "source_hash": "86aabe5c",
        "id": "3a31f76e",
        "outputId": "1fb276c2-ec8c-4107-b8f0-53115269a0af",
        "colab": {
          "base_uri": "https://localhost:8080/",
          "height": 421
        }
      },
      "source": [
        "TRM_mes.plot(x='mes', y=['TRM', 'TRM_prom'], figsize = (8,6), # cambia el tamaño de la gráfica\n",
        "            xlabel = 'periodo', # cambia el nombre del eje x\n",
        "            ylabel = 'valor de la TRM en pesos', # cambia el nombre del eje y\n",
        "            title = 'Histórico del valor de la TRM',\n",
        "            linewidth = 2) # cambia el título de la gráfica\n"
      ],
      "id": "3a31f76e",
      "execution_count": 31,
      "outputs": [
        {
          "output_type": "execute_result",
          "data": {
            "text/plain": [
              "<matplotlib.axes._subplots.AxesSubplot at 0x7f67dd94ab90>"
            ]
          },
          "metadata": {},
          "execution_count": 31
        },
        {
          "output_type": "display_data",
          "data": {
            "image/png": "[encoded data removed]",
            "text/plain": [
              "<Figure size 576x432 with 1 Axes>"
            ]
          },
          "metadata": {
            "needs_background": "light"
          }
        }
      ]
    },
    {
      "cell_type": "code",
      "metadata": {
        "id": "_F0zifh4CclW",
        "outputId": "1176663e-f2ff-4620-e7b6-c953ca9ae365",
        "colab": {
          "base_uri": "https://localhost:8080/"
        }
      },
      "source": [
        "(abs(TRM_mes['TRM']-TRM_mes['TRM_prom'])/TRM_mes['TRM']).mean()"
      ],
      "id": "_F0zifh4CclW",
      "execution_count": 39,
      "outputs": [
        {
          "output_type": "execute_result",
          "data": {
            "text/plain": [
              "0.03214540520378193"
            ]
          },
          "metadata": {},
          "execution_count": 39
        }
      ]
    },
    {
      "cell_type": "markdown",
      "metadata": {
        "cell_id": "00036-60596c98-a795-4ed5-be92-c46022546e53",
        "deepnote_cell_type": "markdown",
        "tags": [],
        "id": "8bf26018"
      },
      "source": [
        "### Aislando la componente aleatoria\n",
        "Para aislar la componente aleatoria de la serie de tiempo debemos sustraer la tendencia, esto es, debemos sustraer del valor de la TRM el valor promedio. Para cada mes, este valor corresponderá a cuán diferente es la TRM con respecto a la tendencia promedio durante la ventana que se ha establecido."
      ],
      "id": "8bf26018"
    },
    {
      "cell_type": "code",
      "metadata": {
        "cell_id": "00037-a46d608e-d40c-4540-ac73-f32c2fa74939",
        "deepnote_cell_type": "code",
        "deepnote_to_be_reexecuted": false,
        "execution_millis": 2,
        "execution_start": 1636634821719,
        "source_hash": "baf9be1a",
        "tags": [],
        "id": "6037820e"
      },
      "source": [
        "TRM_mes['TRM_cambio'] = TRM_mes['TRM'] - TRM_mes['TRM_prom']"
      ],
      "id": "6037820e",
      "execution_count": 40,
      "outputs": []
    },
    {
      "cell_type": "markdown",
      "metadata": {
        "cell_id": "00038-398a6caa-dca7-42e6-971e-a40fb67e57af",
        "deepnote_cell_type": "markdown",
        "tags": [],
        "id": "b8799cf7"
      },
      "source": [
        "Grafiquemos ahora cómo luce el cambio de la TRM con respecto al valor promedio:"
      ],
      "id": "b8799cf7"
    },
    {
      "cell_type": "code",
      "metadata": {
        "cell_id": "00038-0e98ec68-a8dd-4d88-bb0b-cdb89a801b0d",
        "deepnote_cell_type": "code",
        "deepnote_to_be_reexecuted": false,
        "execution_millis": 359,
        "execution_start": 1636634821733,
        "source_hash": "2bf2c2fc",
        "tags": [],
        "id": "58476227",
        "outputId": "ea83ed98-72c2-4d93-8645-3c832da9f88d",
        "colab": {
          "base_uri": "https://localhost:8080/",
          "height": 421
        }
      },
      "source": [
        "TRM_mes.plot(x='mes', y='TRM_cambio', figsize = (8,6), # cambia el tamaño de la gráfica\n",
        "            xlabel = 'periodo', # cambia el nombre del eje x\n",
        "            ylabel = 'variación de la TRM con respecto al promedio móvil', # cambia el nombre del eje y\n",
        "            title = 'Histórico del valor de la TRM',\n",
        "            linewidth = 2) # cambia el título de la gráfica"
      ],
      "id": "58476227",
      "execution_count": 41,
      "outputs": [
        {
          "output_type": "execute_result",
          "data": {
            "text/plain": [
              "<matplotlib.axes._subplots.AxesSubplot at 0x7f67c4a48050>"
            ]
          },
          "metadata": {},
          "execution_count": 41
        },
        {
          "output_type": "display_data",
          "data": {
            "image/png": "[encoded data removed]",
            "text/plain": [
              "<Figure size 576x432 with 1 Axes>"
            ]
          },
          "metadata": {
            "needs_background": "light"
          }
        }
      ]
    },
    {
      "cell_type": "code",
      "metadata": {
        "id": "rxzXfWRjC28p",
        "outputId": "9407e890-5794-4036-ec63-e683975d62f8",
        "colab": {
          "base_uri": "https://localhost:8080/",
          "height": 407
        }
      },
      "source": [
        "TRM_mes.plot(y='TRM_cambio', kind='hist', figsize = (8,6), # cambia el tamaño de la gráfica\n",
        "            title = 'Residuos de la TRM',\n",
        "            linewidth = 2) # cambia el título de la gráfica"
      ],
      "id": "rxzXfWRjC28p",
      "execution_count": 45,
      "outputs": [
        {
          "output_type": "execute_result",
          "data": {
            "text/plain": [
              "<matplotlib.axes._subplots.AxesSubplot at 0x7f67c3d36210>"
            ]
          },
          "metadata": {},
          "execution_count": 45
        },
        {
          "output_type": "display_data",
          "data": {
            "image/png": "[encoded data removed]",
            "text/plain": [
              "<Figure size 576x432 with 1 Axes>"
            ]
          },
          "metadata": {
            "needs_background": "light"
          }
        }
      ]
    },
    {
      "cell_type": "markdown",
      "metadata": {
        "cell_id": "00036-42cebeaf-ae02-4cf6-bb14-3036d4d647f1",
        "deepnote_cell_type": "markdown",
        "tags": [],
        "id": "898b5c7b"
      },
      "source": [
        "Esta serie de variaciones con respecto al promedio ya no tiene una tendencia, sin embargo aún no es estacional debido a que las variaciones aumentan en amplitud a medida que la TRM aumenta en valor. Cuando esto ocurre, una técnica muy efectiva para normalizar las variaciones es transformar los datos usando el logaritmo natural. Para hacer esta transformación usamos el paquete `numpy` que al principio del notebook cargamos como `np`."
      ],
      "id": "898b5c7b"
    },
    {
      "cell_type": "code",
      "metadata": {
        "cell_id": "00036-086eb275-2cc2-45af-856a-d2611d7d67f1",
        "deepnote_cell_type": "code",
        "deepnote_to_be_reexecuted": false,
        "execution_millis": 1,
        "execution_start": 1636634822095,
        "source_hash": "686faa77",
        "tags": [],
        "id": "9a4ab81d"
      },
      "source": [
        "# creamos una columna con el logaritmo de la TRM\n",
        "TRM_mes['TRM_log'] = np.log(TRM_mes['TRM'])  \n",
        "\n",
        "# calculamos el promedio movil en la ventana definida\n",
        "TRM_mes['TRM_log_prom'] = TRM_mes['TRM_log'].rolling(ventana).mean() \n",
        "\n",
        "# calculamos la diferencia del logaritmo con el promedio movil del logaritmo\n",
        "TRM_mes['TRM_log_cambio'] = TRM_mes['TRM_log'] - TRM_mes['TRM_log_prom'] "
      ],
      "id": "9a4ab81d",
      "execution_count": 46,
      "outputs": []
    },
    {
      "cell_type": "markdown",
      "metadata": {
        "cell_id": "00042-43f36e33-ecb2-4b7f-9e3f-ed453c95f333",
        "deepnote_cell_type": "markdown",
        "tags": [],
        "id": "cb3dab01"
      },
      "source": [
        "Creemos ahora una gráfica un poco más compleja con el resultado completo del análisis. Este es un buen ejemplo de cómo crear gráficas más complejas usando tanto matplotlib como pandas."
      ],
      "id": "cb3dab01"
    },
    {
      "cell_type": "code",
      "metadata": {
        "cell_id": "00017-b2608c9b-21ee-42dc-a046-1cad6400eda7",
        "deepnote_cell_type": "code",
        "deepnote_to_be_reexecuted": false,
        "execution_millis": 646,
        "execution_start": 1636634822503,
        "source_hash": "742a7e08",
        "id": "b342d0fb",
        "outputId": "eda7a1d6-47cd-45e2-dd84-6b49a6203b5d",
        "colab": {
          "base_uri": "https://localhost:8080/",
          "height": 388
        }
      },
      "source": [
        "# definimos un elemento figura, y una lista de ejes\n",
        "fig, axs = plt.subplots(2,1,figsize = (8,6), sharex = True)\n",
        "\n",
        "# graficos en el eje 0\n",
        "TRM_mes.plot('mes', 'TRM_log', linestyle='-', linewidth = 6, ax = axs[0])\n",
        "TRM_mes.plot('mes', 'TRM_log_prom', linestyle='-', linewidth = 3, ax = axs[0])\n",
        "\n",
        "# graficos en el eje 1\n",
        "TRM_mes.plot('mes', 'TRM_log_cambio', color = 'C2', ax = axs[1])\n",
        "\n",
        "# configuración eje 0\n",
        "axs[0].legend(['TRM','TRM - Promedio móvil']) # fijamos la leyenda\n",
        "axs[0].set_ylabel('ln(TRM)') # fijamos el nombre del eje y\n",
        "\n",
        "# configuración eje 1\n",
        "axs[1].set_xlabel('periodo')  # fijamos el nombre del eje x\n",
        "axs[1].set_ylabel('cambio en ln(TRM)')\n",
        "\n",
        "# exportamos la gráfica\n",
        "plt.savefig('trm_hist.pdf')"
      ],
      "id": "b342d0fb",
      "execution_count": 49,
      "outputs": [
        {
          "output_type": "display_data",
          "data": {
            "image/png": "[encoded data removed]",
            "text/plain": [
              "<Figure size 576x432 with 2 Axes>"
            ]
          },
          "metadata": {
            "needs_background": "light"
          }
        }
      ]
    },
    {
      "cell_type": "markdown",
      "metadata": {
        "cell_id": "00038-622b0c03-e1d8-4839-aad4-8f79b140f649",
        "deepnote_cell_type": "markdown",
        "tags": [],
        "id": "c95380bc"
      },
      "source": [
        "Note cómo hemos incluido un comando para exportar la gràfica en el código, ahora la tenemos en un archivo jpg que podemos incrustar en cualquier documentos. El comando `savefig` permite además exportar a formatos como png, pdf, svg. Como vemos, trabajar con el logaritmo natural de la TRM resulta en una nueva serie de tiempo para el cambio diario con respecto al promedio histórico que tiene una varianza mucho más uniforme. Veamos qué resulta cuando se aplica el Dickey-Fuller test a la serie de tiempo de cambios diarios con respecto al promedio móvil del logaritmo natural."
      ],
      "id": "c95380bc"
    },
    {
      "cell_type": "code",
      "metadata": {
        "cell_id": "00018-57df4163-0cf8-4b35-a615-b3e065154f4e",
        "deepnote_cell_type": "code",
        "deepnote_to_be_reexecuted": false,
        "execution_millis": 15,
        "execution_start": 1636634823150,
        "source_hash": "a971dbe0",
        "id": "b469f822",
        "outputId": "f40892f7-f742-4a78-b57f-b2a1f2dd339e",
        "colab": {
          "base_uri": "https://localhost:8080/"
        }
      },
      "source": [
        "# Prueba de Dickey - Fuller para Estacionariedad\n",
        "from statsmodels.tsa.stattools import adfuller\n",
        "\n",
        "print('Prueba de Hipótesis Dickey-Fuller:')\n",
        "dftest = adfuller(TRM_mes['TRM_log_cambio'].dropna())\n",
        "pvalor = dftest[1]  # el segundo elemento de la salida del test es el p-valor\n",
        "print('p-valor: ', dftest[1])\n",
        "\n",
        "significancia = 0.95\n",
        "print('Se puede rechazar la hipótesis nula: ', pvalor<(1-significancia))"
      ],
      "id": "b469f822",
      "execution_count": 50,
      "outputs": [
        {
          "output_type": "stream",
          "name": "stdout",
          "text": [
            "Prueba de Hipótesis Dickey-Fuller:\n",
            "p-valor:  1.0861976537137096e-10\n",
            "Se puede rechazar la hipótesis nula:  True\n"
          ]
        }
      ]
    },
    {
      "cell_type": "markdown",
      "metadata": {
        "cell_id": "00040-97acd9ad-4cf2-42bc-bade-bf9c8e2a66f7",
        "deepnote_cell_type": "markdown",
        "tags": [],
        "id": "41433f36"
      },
      "source": [
        "El valor del p-valor es extremadamente pequeño, de manera que con una altísima confianza podremos rechazar la hipótesis nula y concluir que la serie de tiempo es estacionaria."
      ],
      "id": "41433f36"
    },
    {
      "cell_type": "markdown",
      "metadata": {
        "cell_id": "00061-cbbdbaae-3c03-46be-84fd-6954f913748c",
        "deepnote_cell_type": "markdown",
        "tags": [],
        "id": "519aa688"
      },
      "source": [
        "La ventaja de usar el logaritmo se evidencia en la siguiente gráfica, que compara la desviación estándar móvil calculada para los datos originales con la desviación estándar móvil calculada para los datos con el logaritmo. En el primer caso hay una clara tendencia al alza en la desviación estándar. Mientras que en el segundo, a pesar de las variaciones, no hay una tendencia clara.\n",
        "\n",
        "![Picture title](https://github.com/davidmorme/Universidad/blob/main/Herramientas%20de%20Modelaci%C3%B3n/fig/desv_est_movil.png?raw=1)\n"
      ],
      "id": "519aa688"
    },
    {
      "cell_type": "markdown",
      "metadata": {
        "cell_id": "00061-278143c2-2a73-47f9-966e-9e30a00c9772",
        "deepnote_cell_type": "markdown",
        "tags": [],
        "id": "f826f460"
      },
      "source": [
        "#### Ejercicio 3\n",
        "Use la función `rolling(ventana).std()` para calcular, y graficar la desviación estándar móvil de los datos mensuales de la TRM con y sin el logaritmo. Reproduzca la gráfica anterior en la que se compara la desviación estándar móvil en los dos casos.\n"
      ],
      "id": "f826f460"
    },
    {
      "cell_type": "markdown",
      "metadata": {
        "cell_id": "00049-4781e52e-4457-4e62-bff7-32788c4bfac6",
        "deepnote_cell_type": "markdown",
        "tags": [],
        "id": "86652e4f"
      },
      "source": [
        "### Correlación con el IPC\n",
        "\n",
        "Continuamos nuestro estudio para establecer si existe alguna influencia de la TRM sobre los aumentos de precio en el país. Para arrancar, de nuevo acudiremos al histórico de los datos de inflación que se encuentra en el Banco de la República."
      ],
      "id": "86652e4f"
    },
    {
      "cell_type": "code",
      "metadata": {
        "cell_id": "00051-987cd312-c7f3-4a8f-be50-467e259fcf14",
        "deepnote_cell_type": "code",
        "deepnote_to_be_reexecuted": false,
        "execution_millis": 5,
        "execution_start": 1636634823167,
        "source_hash": "34d6102d",
        "tags": [],
        "id": "d5f9fae5",
        "outputId": "fdc98838-c0ab-423b-ea92-1c9a70874742",
        "colab": {
          "base_uri": "https://localhost:8080/"
        }
      },
      "source": [
        "IPC.columns"
      ],
      "id": "d5f9fae5",
      "execution_count": 52,
      "outputs": [
        {
          "output_type": "execute_result",
          "data": {
            "text/plain": [
              "Index(['Año(aaaa)-Mes(mm)', 'Índice', 'Inflación anual %',\n",
              "       'Inflación mensual %', 'Inflación año corrido %'],\n",
              "      dtype='object')"
            ]
          },
          "metadata": {},
          "execution_count": 52
        }
      ]
    },
    {
      "cell_type": "code",
      "metadata": {
        "cell_id": "00052-4dd0af3e-3ac5-4bcd-80ab-aca14ef47c57",
        "deepnote_cell_type": "code",
        "deepnote_to_be_reexecuted": false,
        "execution_millis": 7,
        "execution_start": 1636634823193,
        "source_hash": "e7722dd3",
        "tags": [],
        "id": "ce2c8a9b",
        "outputId": "18f270a4-d257-4d91-d765-1d756726e0a5",
        "colab": {
          "base_uri": "https://localhost:8080/"
        }
      },
      "source": [
        "IPC.dtypes"
      ],
      "id": "ce2c8a9b",
      "execution_count": 53,
      "outputs": [
        {
          "output_type": "execute_result",
          "data": {
            "text/plain": [
              "Año(aaaa)-Mes(mm)            int64\n",
              "Índice                     float64\n",
              "Inflación anual %          float64\n",
              "Inflación mensual %        float64\n",
              "Inflación año corrido %    float64\n",
              "dtype: object"
            ]
          },
          "metadata": {},
          "execution_count": 53
        }
      ]
    },
    {
      "cell_type": "markdown",
      "metadata": {
        "cell_id": "00064-1fa27eca-d2ce-4002-b0c9-588c5eb95aad",
        "deepnote_cell_type": "markdown",
        "tags": [],
        "id": "a0c3670f"
      },
      "source": [
        "Renombremos primero las columnas con las que vamos a trabajar"
      ],
      "id": "a0c3670f"
    },
    {
      "cell_type": "code",
      "metadata": {
        "cell_id": "00065-8b585cb7-e192-4e08-a416-8d1e33f0a75d",
        "deepnote_cell_type": "code",
        "deepnote_to_be_reexecuted": false,
        "execution_millis": 23795,
        "execution_start": 1636634823194,
        "source_hash": "10e4d829",
        "tags": [],
        "id": "fbacfa33",
        "outputId": "ee1600e8-0916-4e5f-fca6-db67af3fdd04",
        "colab": {
          "base_uri": "https://localhost:8080/",
          "height": 206
        }
      },
      "source": [
        "IPC.rename(columns = {'Año(aaaa)-Mes(mm)': 'fecha', 'Inflación anual %' : 'inf_anual'}, inplace = True)\n",
        "IPC.head()"
      ],
      "id": "fbacfa33",
      "execution_count": 55,
      "outputs": [
        {
          "output_type": "execute_result",
          "data": {
            "text/html": [
              "<div>\n",
              "<style scoped>\n",
              "    .dataframe tbody tr th:only-of-type {\n",
              "        vertical-align: middle;\n",
              "    }\n",
              "\n",
              "    .dataframe tbody tr th {\n",
              "        vertical-align: top;\n",
              "    }\n",
              "\n",
              "    .dataframe thead th {\n",
              "        text-align: right;\n",
              "    }\n",
              "</style>\n",
              "<table border=\"1\" class=\"dataframe\">\n",
              "  <thead>\n",
              "    <tr style=\"text-align: right;\">\n",
              "      <th></th>\n",
              "      <th>fecha</th>\n",
              "      <th>Índice</th>\n",
              "      <th>inf_anual</th>\n",
              "      <th>Inflación mensual %</th>\n",
              "      <th>Inflación año corrido %</th>\n",
              "    </tr>\n",
              "  </thead>\n",
              "  <tbody>\n",
              "    <tr>\n",
              "      <th>0</th>\n",
              "      <td>195407</td>\n",
              "      <td>0.03</td>\n",
              "      <td>NaN</td>\n",
              "      <td>NaN</td>\n",
              "      <td>NaN</td>\n",
              "    </tr>\n",
              "    <tr>\n",
              "      <th>1</th>\n",
              "      <td>195408</td>\n",
              "      <td>0.03</td>\n",
              "      <td>NaN</td>\n",
              "      <td>-0.76</td>\n",
              "      <td>-0.76</td>\n",
              "    </tr>\n",
              "    <tr>\n",
              "      <th>2</th>\n",
              "      <td>195409</td>\n",
              "      <td>0.03</td>\n",
              "      <td>NaN</td>\n",
              "      <td>-1.37</td>\n",
              "      <td>-2.12</td>\n",
              "    </tr>\n",
              "    <tr>\n",
              "      <th>3</th>\n",
              "      <td>195410</td>\n",
              "      <td>0.03</td>\n",
              "      <td>NaN</td>\n",
              "      <td>0.34</td>\n",
              "      <td>-1.79</td>\n",
              "    </tr>\n",
              "    <tr>\n",
              "      <th>4</th>\n",
              "      <td>195411</td>\n",
              "      <td>0.03</td>\n",
              "      <td>NaN</td>\n",
              "      <td>0.27</td>\n",
              "      <td>-1.52</td>\n",
              "    </tr>\n",
              "  </tbody>\n",
              "</table>\n",
              "</div>"
            ],
            "text/plain": [
              "    fecha  Índice  inf_anual  Inflación mensual %  Inflación año corrido %\n",
              "0  195407    0.03        NaN                  NaN                      NaN\n",
              "1  195408    0.03        NaN                -0.76                    -0.76\n",
              "2  195409    0.03        NaN                -1.37                    -2.12\n",
              "3  195410    0.03        NaN                 0.34                    -1.79\n",
              "4  195411    0.03        NaN                 0.27                    -1.52"
            ]
          },
          "metadata": {},
          "execution_count": 55
        }
      ]
    },
    {
      "cell_type": "markdown",
      "metadata": {
        "cell_id": "00053-12099253-5e78-4a58-b756-28af52b5f707",
        "deepnote_cell_type": "markdown",
        "tags": [],
        "id": "98d7d916"
      },
      "source": [
        "Debemos cambiar el formato de la fecha ya que se interpretó como un formato de número flotante, no como un formato año-mes"
      ],
      "id": "98d7d916"
    },
    {
      "cell_type": "code",
      "metadata": {
        "cell_id": "00052-cf6fd977-c5f0-4fab-b04b-0cc9043f834b",
        "deepnote_cell_type": "code",
        "deepnote_to_be_reexecuted": false,
        "execution_millis": 0,
        "execution_start": 1636634823195,
        "source_hash": "f728b38c",
        "tags": [],
        "id": "14eff37a",
        "outputId": "33af5607-51e5-47d3-a9ec-84ebcab87b94",
        "colab": {
          "base_uri": "https://localhost:8080/",
          "height": 206
        }
      },
      "source": [
        "IPC['mes'] = pd.to_datetime(IPC['fecha'].astype(int).astype(str), format = '%Y%m').dt.to_period('M')\n",
        "IPC.head()"
      ],
      "id": "14eff37a",
      "execution_count": 58,
      "outputs": [
        {
          "output_type": "execute_result",
          "data": {
            "text/html": [
              "<div>\n",
              "<style scoped>\n",
              "    .dataframe tbody tr th:only-of-type {\n",
              "        vertical-align: middle;\n",
              "    }\n",
              "\n",
              "    .dataframe tbody tr th {\n",
              "        vertical-align: top;\n",
              "    }\n",
              "\n",
              "    .dataframe thead th {\n",
              "        text-align: right;\n",
              "    }\n",
              "</style>\n",
              "<table border=\"1\" class=\"dataframe\">\n",
              "  <thead>\n",
              "    <tr style=\"text-align: right;\">\n",
              "      <th></th>\n",
              "      <th>fecha</th>\n",
              "      <th>Índice</th>\n",
              "      <th>inf_anual</th>\n",
              "      <th>Inflación mensual %</th>\n",
              "      <th>Inflación año corrido %</th>\n",
              "      <th>mes</th>\n",
              "    </tr>\n",
              "  </thead>\n",
              "  <tbody>\n",
              "    <tr>\n",
              "      <th>0</th>\n",
              "      <td>195407</td>\n",
              "      <td>0.03</td>\n",
              "      <td>NaN</td>\n",
              "      <td>NaN</td>\n",
              "      <td>NaN</td>\n",
              "      <td>1954-07</td>\n",
              "    </tr>\n",
              "    <tr>\n",
              "      <th>1</th>\n",
              "      <td>195408</td>\n",
              "      <td>0.03</td>\n",
              "      <td>NaN</td>\n",
              "      <td>-0.76</td>\n",
              "      <td>-0.76</td>\n",
              "      <td>1954-08</td>\n",
              "    </tr>\n",
              "    <tr>\n",
              "      <th>2</th>\n",
              "      <td>195409</td>\n",
              "      <td>0.03</td>\n",
              "      <td>NaN</td>\n",
              "      <td>-1.37</td>\n",
              "      <td>-2.12</td>\n",
              "      <td>1954-09</td>\n",
              "    </tr>\n",
              "    <tr>\n",
              "      <th>3</th>\n",
              "      <td>195410</td>\n",
              "      <td>0.03</td>\n",
              "      <td>NaN</td>\n",
              "      <td>0.34</td>\n",
              "      <td>-1.79</td>\n",
              "      <td>1954-10</td>\n",
              "    </tr>\n",
              "    <tr>\n",
              "      <th>4</th>\n",
              "      <td>195411</td>\n",
              "      <td>0.03</td>\n",
              "      <td>NaN</td>\n",
              "      <td>0.27</td>\n",
              "      <td>-1.52</td>\n",
              "      <td>1954-11</td>\n",
              "    </tr>\n",
              "  </tbody>\n",
              "</table>\n",
              "</div>"
            ],
            "text/plain": [
              "    fecha  Índice  ...  Inflación año corrido %      mes\n",
              "0  195407    0.03  ...                      NaN  1954-07\n",
              "1  195408    0.03  ...                    -0.76  1954-08\n",
              "2  195409    0.03  ...                    -2.12  1954-09\n",
              "3  195410    0.03  ...                    -1.79  1954-10\n",
              "4  195411    0.03  ...                    -1.52  1954-11\n",
              "\n",
              "[5 rows x 6 columns]"
            ]
          },
          "metadata": {},
          "execution_count": 58
        }
      ]
    },
    {
      "cell_type": "markdown",
      "metadata": {
        "cell_id": "00055-478976b8-d4ab-4a01-a118-c0c9cbfcb0d3",
        "deepnote_cell_type": "markdown",
        "tags": [],
        "id": "a23528b2"
      },
      "source": [
        "Observemos la evaluación de la inflación acumulada anual a lo largo del tiempo:"
      ],
      "id": "a23528b2"
    },
    {
      "cell_type": "code",
      "metadata": {
        "cell_id": "00053-cebb4b4b-bd16-45c7-9f63-93cb642cb557",
        "deepnote_cell_type": "code",
        "deepnote_to_be_reexecuted": false,
        "execution_millis": 265,
        "execution_start": 1636634823202,
        "source_hash": "45b81d39",
        "tags": [],
        "id": "a2e07d1d",
        "outputId": "e9923cc1-5edb-4d1e-f56d-094b883bc5bd",
        "colab": {
          "base_uri": "https://localhost:8080/",
          "height": 421
        }
      },
      "source": [
        "IPC.plot(x='mes', y='inf_anual', figsize = (8,6), # cambia el tamaño de la gráfica\n",
        "            xlabel = 'periodo', # cambia el nombre del eje x\n",
        "            ylabel = 'Inflación anual %', # cambia el nombre del eje y\n",
        "            title = 'Histórico de evolución de la inflación',\n",
        "            linewidth = 2) # cambia el título de la gráfica"
      ],
      "id": "a2e07d1d",
      "execution_count": 59,
      "outputs": [
        {
          "output_type": "execute_result",
          "data": {
            "text/plain": [
              "<matplotlib.axes._subplots.AxesSubplot at 0x7f67c39326d0>"
            ]
          },
          "metadata": {},
          "execution_count": 59
        },
        {
          "output_type": "display_data",
          "data": {
            "image/png": "[encoded data removed]",
            "text/plain": [
              "<Figure size 576x432 with 1 Axes>"
            ]
          },
          "metadata": {
            "needs_background": "light"
          }
        }
      ]
    },
    {
      "cell_type": "markdown",
      "metadata": {
        "cell_id": "00055-b0778885-5fee-41c4-9fd6-89f1b95f9a67",
        "deepnote_cell_type": "markdown",
        "deepnote_to_be_reexecuted": false,
        "execution_millis": 21,
        "execution_start": 1636591126013,
        "source_hash": "c307a0f1",
        "tags": [],
        "id": "2eb7eb11"
      },
      "source": [
        "Aplicaremos de nuevo la misma técnica para eliminar la tendencia de esta serie de tiempo"
      ],
      "id": "2eb7eb11"
    },
    {
      "cell_type": "code",
      "metadata": {
        "cell_id": "00051-0bbf0a62-9537-4b8b-b581-5d876c6db4bc",
        "deepnote_cell_type": "code",
        "deepnote_to_be_reexecuted": false,
        "execution_millis": 5,
        "execution_start": 1636634823467,
        "source_hash": "ce5f5a29",
        "tags": [],
        "id": "79346311",
        "outputId": "a11c6799-8cfb-4812-a2e2-7a8e6b1a3cc9",
        "colab": {
          "base_uri": "https://localhost:8080/"
        }
      },
      "source": [
        "IPC['inf_cambio'] = np.log(IPC['inf_anual'])-np.log(IPC['inf_anual']).rolling(ventana).mean()"
      ],
      "id": "79346311",
      "execution_count": 61,
      "outputs": [
        {
          "output_type": "stream",
          "name": "stderr",
          "text": [
            "/usr/local/lib/python3.7/dist-packages/pandas/core/series.py:726: RuntimeWarning: invalid value encountered in log\n",
            "  result = getattr(ufunc, method)(*inputs, **kwargs)\n"
          ]
        }
      ]
    },
    {
      "cell_type": "code",
      "metadata": {
        "cell_id": "00053-4acd52a7-837f-487e-ba7c-e904fcfa443f",
        "deepnote_cell_type": "code",
        "deepnote_to_be_reexecuted": false,
        "execution_millis": 46,
        "execution_start": 1636634823482,
        "source_hash": "5308689b",
        "tags": [],
        "id": "a6b2ae84",
        "outputId": "09a311d9-acf8-40a5-c2a9-5058b4c65c1f",
        "colab": {
          "base_uri": "https://localhost:8080/",
          "height": 424
        }
      },
      "source": [
        "IPC"
      ],
      "id": "a6b2ae84",
      "execution_count": 64,
      "outputs": [
        {
          "output_type": "execute_result",
          "data": {
            "text/html": [
              "<div>\n",
              "<style scoped>\n",
              "    .dataframe tbody tr th:only-of-type {\n",
              "        vertical-align: middle;\n",
              "    }\n",
              "\n",
              "    .dataframe tbody tr th {\n",
              "        vertical-align: top;\n",
              "    }\n",
              "\n",
              "    .dataframe thead th {\n",
              "        text-align: right;\n",
              "    }\n",
              "</style>\n",
              "<table border=\"1\" class=\"dataframe\">\n",
              "  <thead>\n",
              "    <tr style=\"text-align: right;\">\n",
              "      <th></th>\n",
              "      <th>fecha</th>\n",
              "      <th>Índice</th>\n",
              "      <th>inf_anual</th>\n",
              "      <th>Inflación mensual %</th>\n",
              "      <th>Inflación año corrido %</th>\n",
              "      <th>mes</th>\n",
              "      <th>inf_cambio</th>\n",
              "    </tr>\n",
              "  </thead>\n",
              "  <tbody>\n",
              "    <tr>\n",
              "      <th>0</th>\n",
              "      <td>195407</td>\n",
              "      <td>0.03</td>\n",
              "      <td>NaN</td>\n",
              "      <td>NaN</td>\n",
              "      <td>NaN</td>\n",
              "      <td>1954-07</td>\n",
              "      <td>NaN</td>\n",
              "    </tr>\n",
              "    <tr>\n",
              "      <th>1</th>\n",
              "      <td>195408</td>\n",
              "      <td>0.03</td>\n",
              "      <td>NaN</td>\n",
              "      <td>-0.76</td>\n",
              "      <td>-0.76</td>\n",
              "      <td>1954-08</td>\n",
              "      <td>NaN</td>\n",
              "    </tr>\n",
              "    <tr>\n",
              "      <th>2</th>\n",
              "      <td>195409</td>\n",
              "      <td>0.03</td>\n",
              "      <td>NaN</td>\n",
              "      <td>-1.37</td>\n",
              "      <td>-2.12</td>\n",
              "      <td>1954-09</td>\n",
              "      <td>NaN</td>\n",
              "    </tr>\n",
              "    <tr>\n",
              "      <th>3</th>\n",
              "      <td>195410</td>\n",
              "      <td>0.03</td>\n",
              "      <td>NaN</td>\n",
              "      <td>0.34</td>\n",
              "      <td>-1.79</td>\n",
              "      <td>1954-10</td>\n",
              "      <td>NaN</td>\n",
              "    </tr>\n",
              "    <tr>\n",
              "      <th>4</th>\n",
              "      <td>195411</td>\n",
              "      <td>0.03</td>\n",
              "      <td>NaN</td>\n",
              "      <td>0.27</td>\n",
              "      <td>-1.52</td>\n",
              "      <td>1954-11</td>\n",
              "      <td>NaN</td>\n",
              "    </tr>\n",
              "    <tr>\n",
              "      <th>...</th>\n",
              "      <td>...</td>\n",
              "      <td>...</td>\n",
              "      <td>...</td>\n",
              "      <td>...</td>\n",
              "      <td>...</td>\n",
              "      <td>...</td>\n",
              "      <td>...</td>\n",
              "    </tr>\n",
              "    <tr>\n",
              "      <th>803</th>\n",
              "      <td>202106</td>\n",
              "      <td>108.78</td>\n",
              "      <td>3.63</td>\n",
              "      <td>-0.05</td>\n",
              "      <td>3.13</td>\n",
              "      <td>2021-06</td>\n",
              "      <td>0.542935</td>\n",
              "    </tr>\n",
              "    <tr>\n",
              "      <th>804</th>\n",
              "      <td>202107</td>\n",
              "      <td>109.14</td>\n",
              "      <td>3.97</td>\n",
              "      <td>0.32</td>\n",
              "      <td>3.47</td>\n",
              "      <td>2021-07</td>\n",
              "      <td>0.481008</td>\n",
              "    </tr>\n",
              "    <tr>\n",
              "      <th>805</th>\n",
              "      <td>202108</td>\n",
              "      <td>109.62</td>\n",
              "      <td>4.44</td>\n",
              "      <td>0.45</td>\n",
              "      <td>3.93</td>\n",
              "      <td>2021-08</td>\n",
              "      <td>0.418569</td>\n",
              "    </tr>\n",
              "    <tr>\n",
              "      <th>806</th>\n",
              "      <td>202109</td>\n",
              "      <td>110.04</td>\n",
              "      <td>4.51</td>\n",
              "      <td>0.38</td>\n",
              "      <td>4.33</td>\n",
              "      <td>2021-09</td>\n",
              "      <td>0.251847</td>\n",
              "    </tr>\n",
              "    <tr>\n",
              "      <th>807</th>\n",
              "      <td>202110</td>\n",
              "      <td>110.06</td>\n",
              "      <td>4.58</td>\n",
              "      <td>0.01</td>\n",
              "      <td>4.34</td>\n",
              "      <td>2021-10</td>\n",
              "      <td>0.124937</td>\n",
              "    </tr>\n",
              "  </tbody>\n",
              "</table>\n",
              "<p>808 rows × 7 columns</p>\n",
              "</div>"
            ],
            "text/plain": [
              "      fecha  Índice  inf_anual  ...  Inflación año corrido %      mes inf_cambio\n",
              "0    195407    0.03        NaN  ...                      NaN  1954-07        NaN\n",
              "1    195408    0.03        NaN  ...                    -0.76  1954-08        NaN\n",
              "2    195409    0.03        NaN  ...                    -2.12  1954-09        NaN\n",
              "3    195410    0.03        NaN  ...                    -1.79  1954-10        NaN\n",
              "4    195411    0.03        NaN  ...                    -1.52  1954-11        NaN\n",
              "..      ...     ...        ...  ...                      ...      ...        ...\n",
              "803  202106  108.78       3.63  ...                     3.13  2021-06   0.542935\n",
              "804  202107  109.14       3.97  ...                     3.47  2021-07   0.481008\n",
              "805  202108  109.62       4.44  ...                     3.93  2021-08   0.418569\n",
              "806  202109  110.04       4.51  ...                     4.33  2021-09   0.251847\n",
              "807  202110  110.06       4.58  ...                     4.34  2021-10   0.124937\n",
              "\n",
              "[808 rows x 7 columns]"
            ]
          },
          "metadata": {},
          "execution_count": 64
        }
      ]
    },
    {
      "cell_type": "markdown",
      "metadata": {
        "cell_id": "00071-98c82286-9db0-4c82-995a-709f7e2aadb6",
        "deepnote_cell_type": "markdown",
        "tags": [],
        "id": "b6cbed44"
      },
      "source": [
        "#### La función `merge`\n",
        "\n",
        "La función `merge` es muy útil cuando se trata de llevar a un DataFrame la información que se encuentra en otro DataFrame. En ambos DataFrames debe haber una columna común con respecto a la cual se hará la asignación. La Figura siguiente muestra la sintaxis general y el resultado esperado de usar la función `merge`:\n",
        "\n",
        "![Picture title](https://github.com/davidmorme/Universidad/blob/main/Herramientas%20de%20Modelaci%C3%B3n/fig/C3_3.png?raw=1)"
      ],
      "id": "b6cbed44"
    },
    {
      "cell_type": "markdown",
      "metadata": {
        "cell_id": "00066-5eaa0bf6-a915-47d7-8f92-bc2bd51e7cab",
        "deepnote_cell_type": "markdown",
        "tags": [],
        "id": "1365df67"
      },
      "source": [
        "Ahora usamos la función `merge` para unir la información de las variaciones de la TRM, con las variaciones de la inflación."
      ],
      "id": "1365df67"
    },
    {
      "cell_type": "code",
      "metadata": {
        "id": "EyWIYHiEJSfl",
        "outputId": "1ef48ce7-7e06-45b6-e37a-fa4a1a0e1a82",
        "colab": {
          "base_uri": "https://localhost:8080/",
          "height": 424
        }
      },
      "source": [
        "TRM_mes"
      ],
      "id": "EyWIYHiEJSfl",
      "execution_count": 63,
      "outputs": [
        {
          "output_type": "execute_result",
          "data": {
            "text/html": [
              "<div>\n",
              "<style scoped>\n",
              "    .dataframe tbody tr th:only-of-type {\n",
              "        vertical-align: middle;\n",
              "    }\n",
              "\n",
              "    .dataframe tbody tr th {\n",
              "        vertical-align: top;\n",
              "    }\n",
              "\n",
              "    .dataframe thead th {\n",
              "        text-align: right;\n",
              "    }\n",
              "</style>\n",
              "<table border=\"1\" class=\"dataframe\">\n",
              "  <thead>\n",
              "    <tr style=\"text-align: right;\">\n",
              "      <th></th>\n",
              "      <th>mes</th>\n",
              "      <th>TRM</th>\n",
              "      <th>TRM_prom</th>\n",
              "      <th>TRM_cambio</th>\n",
              "      <th>TRM_log</th>\n",
              "      <th>TRM_log_prom</th>\n",
              "      <th>TRM_log_cambio</th>\n",
              "    </tr>\n",
              "  </thead>\n",
              "  <tbody>\n",
              "    <tr>\n",
              "      <th>0</th>\n",
              "      <td>1991-11</td>\n",
              "      <td>694.177500</td>\n",
              "      <td>NaN</td>\n",
              "      <td>NaN</td>\n",
              "      <td>6.542728</td>\n",
              "      <td>NaN</td>\n",
              "      <td>NaN</td>\n",
              "    </tr>\n",
              "    <tr>\n",
              "      <th>1</th>\n",
              "      <td>1991-12</td>\n",
              "      <td>630.412581</td>\n",
              "      <td>NaN</td>\n",
              "      <td>NaN</td>\n",
              "      <td>6.446374</td>\n",
              "      <td>NaN</td>\n",
              "      <td>NaN</td>\n",
              "    </tr>\n",
              "    <tr>\n",
              "      <th>2</th>\n",
              "      <td>1992-01</td>\n",
              "      <td>644.058065</td>\n",
              "      <td>NaN</td>\n",
              "      <td>NaN</td>\n",
              "      <td>6.467789</td>\n",
              "      <td>NaN</td>\n",
              "      <td>NaN</td>\n",
              "    </tr>\n",
              "    <tr>\n",
              "      <th>3</th>\n",
              "      <td>1992-02</td>\n",
              "      <td>635.671724</td>\n",
              "      <td>NaN</td>\n",
              "      <td>NaN</td>\n",
              "      <td>6.454682</td>\n",
              "      <td>NaN</td>\n",
              "      <td>NaN</td>\n",
              "    </tr>\n",
              "    <tr>\n",
              "      <th>4</th>\n",
              "      <td>1992-03</td>\n",
              "      <td>640.501935</td>\n",
              "      <td>NaN</td>\n",
              "      <td>NaN</td>\n",
              "      <td>6.462252</td>\n",
              "      <td>NaN</td>\n",
              "      <td>NaN</td>\n",
              "    </tr>\n",
              "    <tr>\n",
              "      <th>...</th>\n",
              "      <td>...</td>\n",
              "      <td>...</td>\n",
              "      <td>...</td>\n",
              "      <td>...</td>\n",
              "      <td>...</td>\n",
              "      <td>...</td>\n",
              "      <td>...</td>\n",
              "    </tr>\n",
              "    <tr>\n",
              "      <th>356</th>\n",
              "      <td>2021-07</td>\n",
              "      <td>3829.418065</td>\n",
              "      <td>3678.029256</td>\n",
              "      <td>151.388809</td>\n",
              "      <td>8.250468</td>\n",
              "      <td>8.209847</td>\n",
              "      <td>0.040621</td>\n",
              "    </tr>\n",
              "    <tr>\n",
              "      <th>357</th>\n",
              "      <td>2021-08</td>\n",
              "      <td>3881.183548</td>\n",
              "      <td>3732.475799</td>\n",
              "      <td>148.707749</td>\n",
              "      <td>8.263895</td>\n",
              "      <td>8.224501</td>\n",
              "      <td>0.039394</td>\n",
              "    </tr>\n",
              "    <tr>\n",
              "      <th>358</th>\n",
              "      <td>2021-09</td>\n",
              "      <td>3821.537667</td>\n",
              "      <td>3767.270679</td>\n",
              "      <td>54.266987</td>\n",
              "      <td>8.248408</td>\n",
              "      <td>8.233864</td>\n",
              "      <td>0.014544</td>\n",
              "    </tr>\n",
              "    <tr>\n",
              "      <th>359</th>\n",
              "      <td>2021-10</td>\n",
              "      <td>3773.384194</td>\n",
              "      <td>3787.705378</td>\n",
              "      <td>-14.321185</td>\n",
              "      <td>8.235728</td>\n",
              "      <td>8.239370</td>\n",
              "      <td>-0.003642</td>\n",
              "    </tr>\n",
              "    <tr>\n",
              "      <th>360</th>\n",
              "      <td>2021-11</td>\n",
              "      <td>3806.562000</td>\n",
              "      <td>3799.521357</td>\n",
              "      <td>7.040643</td>\n",
              "      <td>8.244482</td>\n",
              "      <td>8.242503</td>\n",
              "      <td>0.001979</td>\n",
              "    </tr>\n",
              "  </tbody>\n",
              "</table>\n",
              "<p>361 rows × 7 columns</p>\n",
              "</div>"
            ],
            "text/plain": [
              "         mes          TRM     TRM_prom  ...   TRM_log  TRM_log_prom  TRM_log_cambio\n",
              "0    1991-11   694.177500          NaN  ...  6.542728           NaN             NaN\n",
              "1    1991-12   630.412581          NaN  ...  6.446374           NaN             NaN\n",
              "2    1992-01   644.058065          NaN  ...  6.467789           NaN             NaN\n",
              "3    1992-02   635.671724          NaN  ...  6.454682           NaN             NaN\n",
              "4    1992-03   640.501935          NaN  ...  6.462252           NaN             NaN\n",
              "..       ...          ...          ...  ...       ...           ...             ...\n",
              "356  2021-07  3829.418065  3678.029256  ...  8.250468      8.209847        0.040621\n",
              "357  2021-08  3881.183548  3732.475799  ...  8.263895      8.224501        0.039394\n",
              "358  2021-09  3821.537667  3767.270679  ...  8.248408      8.233864        0.014544\n",
              "359  2021-10  3773.384194  3787.705378  ...  8.235728      8.239370       -0.003642\n",
              "360  2021-11  3806.562000  3799.521357  ...  8.244482      8.242503        0.001979\n",
              "\n",
              "[361 rows x 7 columns]"
            ]
          },
          "metadata": {},
          "execution_count": 63
        }
      ]
    },
    {
      "cell_type": "code",
      "metadata": {
        "cell_id": "00059-a61e15c4-62fd-4e15-af91-5a2d790e64c9",
        "deepnote_cell_type": "code",
        "deepnote_to_be_reexecuted": false,
        "execution_millis": 5,
        "execution_start": 1636634823507,
        "source_hash": "2f37f221",
        "tags": [],
        "id": "70b4c363"
      },
      "source": [
        "TRM_mes = TRM_mes.merge(IPC[['mes','inf_cambio']], on = 'mes', how = 'left')"
      ],
      "id": "70b4c363",
      "execution_count": 65,
      "outputs": []
    },
    {
      "cell_type": "code",
      "metadata": {
        "cell_id": "00074-0c1b0918-f402-4541-b1d0-ba928fa1d6dd",
        "deepnote_cell_type": "code",
        "deepnote_to_be_reexecuted": false,
        "execution_millis": 219,
        "execution_start": 1636634823515,
        "source_hash": "4f146ef2",
        "tags": [],
        "id": "97c47081",
        "outputId": "15ab56cc-9abd-4926-bcde-f9a97165badb",
        "colab": {
          "base_uri": "https://localhost:8080/",
          "height": 206
        }
      },
      "source": [
        "TRM_mes.head()"
      ],
      "id": "97c47081",
      "execution_count": 66,
      "outputs": [
        {
          "output_type": "execute_result",
          "data": {
            "text/html": [
              "<div>\n",
              "<style scoped>\n",
              "    .dataframe tbody tr th:only-of-type {\n",
              "        vertical-align: middle;\n",
              "    }\n",
              "\n",
              "    .dataframe tbody tr th {\n",
              "        vertical-align: top;\n",
              "    }\n",
              "\n",
              "    .dataframe thead th {\n",
              "        text-align: right;\n",
              "    }\n",
              "</style>\n",
              "<table border=\"1\" class=\"dataframe\">\n",
              "  <thead>\n",
              "    <tr style=\"text-align: right;\">\n",
              "      <th></th>\n",
              "      <th>mes</th>\n",
              "      <th>TRM</th>\n",
              "      <th>TRM_prom</th>\n",
              "      <th>TRM_cambio</th>\n",
              "      <th>TRM_log</th>\n",
              "      <th>TRM_log_prom</th>\n",
              "      <th>TRM_log_cambio</th>\n",
              "      <th>inf_cambio</th>\n",
              "    </tr>\n",
              "  </thead>\n",
              "  <tbody>\n",
              "    <tr>\n",
              "      <th>0</th>\n",
              "      <td>1991-11</td>\n",
              "      <td>694.177500</td>\n",
              "      <td>NaN</td>\n",
              "      <td>NaN</td>\n",
              "      <td>6.542728</td>\n",
              "      <td>NaN</td>\n",
              "      <td>NaN</td>\n",
              "      <td>-0.067470</td>\n",
              "    </tr>\n",
              "    <tr>\n",
              "      <th>1</th>\n",
              "      <td>1991-12</td>\n",
              "      <td>630.412581</td>\n",
              "      <td>NaN</td>\n",
              "      <td>NaN</td>\n",
              "      <td>6.446374</td>\n",
              "      <td>NaN</td>\n",
              "      <td>NaN</td>\n",
              "      <td>-0.094213</td>\n",
              "    </tr>\n",
              "    <tr>\n",
              "      <th>2</th>\n",
              "      <td>1992-01</td>\n",
              "      <td>644.058065</td>\n",
              "      <td>NaN</td>\n",
              "      <td>NaN</td>\n",
              "      <td>6.467789</td>\n",
              "      <td>NaN</td>\n",
              "      <td>NaN</td>\n",
              "      <td>-0.048137</td>\n",
              "    </tr>\n",
              "    <tr>\n",
              "      <th>3</th>\n",
              "      <td>1992-02</td>\n",
              "      <td>635.671724</td>\n",
              "      <td>NaN</td>\n",
              "      <td>NaN</td>\n",
              "      <td>6.454682</td>\n",
              "      <td>NaN</td>\n",
              "      <td>NaN</td>\n",
              "      <td>-0.029107</td>\n",
              "    </tr>\n",
              "    <tr>\n",
              "      <th>4</th>\n",
              "      <td>1992-03</td>\n",
              "      <td>640.501935</td>\n",
              "      <td>NaN</td>\n",
              "      <td>NaN</td>\n",
              "      <td>6.462252</td>\n",
              "      <td>NaN</td>\n",
              "      <td>NaN</td>\n",
              "      <td>-0.021906</td>\n",
              "    </tr>\n",
              "  </tbody>\n",
              "</table>\n",
              "</div>"
            ],
            "text/plain": [
              "       mes         TRM  TRM_prom  ...  TRM_log_prom  TRM_log_cambio  inf_cambio\n",
              "0  1991-11  694.177500       NaN  ...           NaN             NaN   -0.067470\n",
              "1  1991-12  630.412581       NaN  ...           NaN             NaN   -0.094213\n",
              "2  1992-01  644.058065       NaN  ...           NaN             NaN   -0.048137\n",
              "3  1992-02  635.671724       NaN  ...           NaN             NaN   -0.029107\n",
              "4  1992-03  640.501935       NaN  ...           NaN             NaN   -0.021906\n",
              "\n",
              "[5 rows x 8 columns]"
            ]
          },
          "metadata": {},
          "execution_count": 66
        }
      ]
    },
    {
      "cell_type": "markdown",
      "metadata": {
        "cell_id": "00067-18225579-800d-4a21-be90-f066432ae3e9",
        "deepnote_cell_type": "markdown",
        "tags": [],
        "id": "9ce272ef"
      },
      "source": [
        "Grafiquemos ahora las dos series de tiempo en paralelo."
      ],
      "id": "9ce272ef"
    },
    {
      "cell_type": "code",
      "metadata": {
        "cell_id": "00055-68024712-8ce1-4c5d-a6fc-ee3a672cace9",
        "deepnote_cell_type": "code",
        "deepnote_to_be_reexecuted": false,
        "execution_millis": 561,
        "execution_start": 1636636719478,
        "source_hash": "c2a534ab",
        "tags": [],
        "id": "5db2a442",
        "outputId": "6ccb8ce6-b0f7-4f53-851d-2d03f1589ff0",
        "colab": {
          "base_uri": "https://localhost:8080/",
          "height": 405
        }
      },
      "source": [
        "# definimos un elemento figura, y una lista de ejes\n",
        "fig, axs = plt.subplots(2,1,figsize = (8,6), sharex = True)\n",
        "\n",
        "# graficos en el eje 0\n",
        "TRM_mes.plot('mes', 'TRM_log_cambio', linestyle='-', linewidth = 3, ax = axs[0])\n",
        "TRM_mes.plot('mes', 'inf_cambio', linestyle='-', linewidth = 3, ax = axs[1])\n",
        "\n",
        "\n",
        "# configuración eje 0\n",
        "axs[0].set_ylabel('cambio en ln(TRM)') # fijamos el nombre del eje y\n",
        "\n",
        "# configuración eje 1\n",
        "axs[1].set_xlabel('periodo')  # fijamos el nombre del eje x\n",
        "axs[1].set_ylabel('cambio en ln(inf_anual)')"
      ],
      "id": "5db2a442",
      "execution_count": 67,
      "outputs": [
        {
          "output_type": "execute_result",
          "data": {
            "text/plain": [
              "Text(0, 0.5, 'cambio en ln(inf_anual)')"
            ]
          },
          "metadata": {},
          "execution_count": 67
        },
        {
          "output_type": "display_data",
          "data": {
            "image/png": "[encoded data removed]",
            "text/plain": [
              "<Figure size 576x432 with 2 Axes>"
            ]
          },
          "metadata": {
            "needs_background": "light"
          }
        }
      ]
    },
    {
      "cell_type": "code",
      "metadata": {
        "id": "1eQUTtB0J5vZ",
        "outputId": "0ad8648d-0c07-46ed-9fce-3c13a5862df8",
        "colab": {
          "base_uri": "https://localhost:8080/",
          "height": 265
        }
      },
      "source": [
        "fig, ax =plt.subplots()\n",
        "ax.scatter(TRM_mes['TRM_log_cambio'],TRM_mes['inf_cambio'])\n",
        "fig.show()"
      ],
      "id": "1eQUTtB0J5vZ",
      "execution_count": 70,
      "outputs": [
        {
          "output_type": "display_data",
          "data": {
            "image/png": "[encoded data removed]",
            "text/plain": [
              "<Figure size 432x288 with 1 Axes>"
            ]
          },
          "metadata": {
            "needs_background": "light"
          }
        }
      ]
    },
    {
      "cell_type": "markdown",
      "metadata": {
        "cell_id": "00069-227824cf-5c69-4bb9-8793-7cda4aae8d74",
        "deepnote_cell_type": "markdown",
        "tags": [],
        "id": "8b8a660d"
      },
      "source": [
        "#### Correlación de Pearson\n",
        "Formalmente la Correlación de Pearon es una medida de la Covarianza entre dos series de datos. Esto quiere decir que es una medida de qué tanto se relacionan linealmente las dos series. En series de tiempo perfectamente correlacionados, la Correlación de Pearson es 1 o -1. En el primer caso el signo positivo implica que aumentos en una serie siempre están acompañados de aumentos en la segunda, en el segundo caso el signo negativo implica que aumentos en la primera serie siempre conllevan a disminuciones en la segunda. Si no existe ninguna correlación entre dos series, entonces la Correlación de Pearson es 0.\n",
        "\n",
        "Podemos ahora calcular la correlación de Pearson existente entre las dos series de tiempo. "
      ],
      "id": "8b8a660d"
    },
    {
      "cell_type": "code",
      "metadata": {
        "cell_id": "00062-9a67fbac-8bd9-4788-81f8-1c9fd1ff9615",
        "deepnote_cell_type": "code",
        "deepnote_to_be_reexecuted": false,
        "execution_millis": 12,
        "execution_start": 1636634824008,
        "source_hash": "8b582716",
        "tags": [],
        "id": "91c1529c",
        "outputId": "26f5d6f7-1cdd-47b2-b539-df92d5cc0133",
        "colab": {
          "base_uri": "https://localhost:8080/"
        }
      },
      "source": [
        "TRM_mes['TRM_log_cambio'].corr(TRM_mes['inf_cambio'])"
      ],
      "id": "91c1529c",
      "execution_count": 71,
      "outputs": [
        {
          "output_type": "execute_result",
          "data": {
            "text/plain": [
              "0.19002322554079806"
            ]
          },
          "metadata": {},
          "execution_count": 71
        }
      ]
    },
    {
      "cell_type": "markdown",
      "metadata": {
        "cell_id": "00071-ec37af42-9935-412c-9ceb-b429d7ab0050",
        "deepnote_cell_type": "markdown",
        "tags": [],
        "id": "2eb8a562"
      },
      "source": [
        "Se obtiene un porcentaje de correlación de alrededor del 19%, que es significativo y es positivo. Lo que implica que aumentos en la TRM usualmente coinciden con aumentos en la inflación. Sin embargo, vale la pena estudiar la correlación retrasada o adelanta en el tiempo de una variable con respecto a la otra."
      ],
      "id": "2eb8a562"
    },
    {
      "cell_type": "code",
      "metadata": {
        "id": "Pa5KWQHNL362",
        "outputId": "2bfefd83-4814-476c-d62f-ecb63b296e6e",
        "colab": {
          "base_uri": "https://localhost:8080/"
        }
      },
      "source": [
        "TRM_mes['TRM_log_cambio']"
      ],
      "id": "Pa5KWQHNL362",
      "execution_count": 84,
      "outputs": [
        {
          "output_type": "execute_result",
          "data": {
            "text/plain": [
              "0           NaN\n",
              "1           NaN\n",
              "2           NaN\n",
              "3           NaN\n",
              "4           NaN\n",
              "         ...   \n",
              "356    0.040621\n",
              "357    0.039394\n",
              "358    0.014544\n",
              "359   -0.003642\n",
              "360    0.001979\n",
              "Name: TRM_log_cambio, Length: 361, dtype: float64"
            ]
          },
          "metadata": {},
          "execution_count": 84
        }
      ]
    },
    {
      "cell_type": "code",
      "metadata": {
        "id": "xfq15lQoLFPc",
        "outputId": "4190b9ed-7a7b-4774-c526-b6d90c00da1c",
        "colab": {
          "base_uri": "https://localhost:8080/"
        }
      },
      "source": [
        "TRM_mes['TRM_log_cambio'].shift(1)"
      ],
      "id": "xfq15lQoLFPc",
      "execution_count": 86,
      "outputs": [
        {
          "output_type": "execute_result",
          "data": {
            "text/plain": [
              "0           NaN\n",
              "1           NaN\n",
              "2           NaN\n",
              "3           NaN\n",
              "4           NaN\n",
              "         ...   \n",
              "356    0.017596\n",
              "357    0.040621\n",
              "358    0.039394\n",
              "359    0.014544\n",
              "360   -0.003642\n",
              "Name: TRM_log_cambio, Length: 361, dtype: float64"
            ]
          },
          "metadata": {},
          "execution_count": 86
        }
      ]
    },
    {
      "cell_type": "code",
      "metadata": {
        "cell_id": "00063-f1632a69-cd5a-4319-b846-bfdec48ca726",
        "deepnote_cell_type": "code",
        "deepnote_to_be_reexecuted": false,
        "execution_millis": 9,
        "execution_start": 1636634824018,
        "source_hash": "f27f1fa2",
        "tags": [],
        "id": "d57d51cc",
        "outputId": "1f180f3e-3a67-4123-c202-f81176dc4942",
        "colab": {
          "base_uri": "https://localhost:8080/"
        }
      },
      "source": [
        "for i in np.arange(-6,6):\n",
        "    corr = TRM_mes['TRM_log_cambio'].shift(i).corr(TRM_mes['inf_cambio'])\n",
        "    print (i, ' : ', corr)"
      ],
      "id": "d57d51cc",
      "execution_count": 72,
      "outputs": [
        {
          "output_type": "stream",
          "name": "stdout",
          "text": [
            "-6  :  0.07994930706688462\n",
            "-5  :  0.04214088912223834\n",
            "-4  :  0.025557248535927203\n",
            "-3  :  0.04558795926316772\n",
            "-2  :  0.09371486073168847\n",
            "-1  :  0.14746002137389136\n",
            "0  :  0.19002322554079806\n",
            "1  :  0.20090632191106061\n",
            "2  :  0.1564644816955333\n",
            "3  :  0.08180548282592941\n",
            "4  :  0.009426239203351271\n",
            "5  :  -0.0327394778774498\n"
          ]
        }
      ]
    },
    {
      "cell_type": "markdown",
      "metadata": {
        "cell_id": "00064-020931c5-19ed-4b1e-a20e-904a0d48fbce",
        "deepnote_cell_type": "markdown",
        "tags": [],
        "id": "1ef1e18f"
      },
      "source": [
        "La correlación se maximiza cuando hay un shift de entre 0 y 1 mes, esto sugiere que la inflación responde a los cambios en TRM (y no al revés) y que los cambios en la TRM demoran alrededor de un mes en tener una influencia significativa sobre la inflación.\n",
        "\n",
        "La maxima correlación es de 20.0%, lo que implica que efectivamente la inflación no está determinada únicamente por las variaciones en la TRM. Nuestro análisis sin embargo sugiere que sí existe una influencia y nos permite estimar el tamaño de la influencia y estimar también el retraso de los efectos."
      ],
      "id": "1ef1e18f"
    },
    {
      "cell_type": "markdown",
      "metadata": {
        "cell_id": "00086-995a2de8-80df-470e-8c89-7a66d8853f5a",
        "deepnote_cell_type": "markdown",
        "tags": [],
        "id": "20f93d27"
      },
      "source": [
        "___\n",
        "\n",
        "#### Ejercicio 4\n",
        "Calcule la correlación existente entre las columnas `TRM` y `TRM_log` en el DataFrame `TRM_mes`. ¿Se espera una correlación alta o baja?\n",
        "\n",
        "___"
      ],
      "id": "20f93d27"
    },
    {
      "cell_type": "markdown",
      "metadata": {
        "cell_id": "00088-a986f1d3-b72c-4cd3-b8a5-0016a589cb5e",
        "deepnote_cell_type": "markdown",
        "tags": [],
        "id": "5c88e600"
      },
      "source": [
        "## Conclusiones\n",
        "\n",
        "Hemos aprendido a trabajar con DataFrames para agrupar los datos y sacar promedios, y también para juntar información procedente de DataFrames diferentes. Hemos aprendido cómo determinar la tendencia de una serie de tiempo usando promedios móviles y también a aislar la componente aleatoria removiendo la tendencia. También hemos aprendido sobre la prueba Dickey-Fuller para determinar estacionariedad y sobre la correlación de Pearson para establecer correlación entre series de tiempo."
      ],
      "id": "5c88e600"
    },
    {
      "cell_type": "markdown",
      "metadata": {
        "cell_id": "00059-3bb44f77-fd27-4ee9-9d7e-6089fd9e55ff",
        "deepnote_cell_type": "markdown",
        "tags": [],
        "id": "cd51a52c"
      },
      "source": [
        "### Origen de los datos\n",
        "* Valor histórico de la TRM <br>\n",
        "https://www.banrep.gov.co/es/estadisticas/trm \n",
        "* Indice de Precios al Consumidor - IPC <br>\n",
        "https://www.banrep.gov.co/es/estadisticas/indice-precios-consumidor-ipc"
      ],
      "id": "cd51a52c"
    },
    {
      "cell_type": "markdown",
      "metadata": {
        "cell_id": "00086-dcbedfe9-2a51-4612-ac1c-e54c18e3b036",
        "deepnote_cell_type": "markdown",
        "tags": [],
        "id": "d4723753"
      },
      "source": [
        "#### Ejercicio 1 - Posible Respuesta"
      ],
      "id": "d4723753"
    },
    {
      "cell_type": "code",
      "metadata": {
        "cell_id": "00060-2bc65e91-b848-435d-9718-82510b34e71d",
        "deepnote_cell_type": "code",
        "deepnote_to_be_reexecuted": false,
        "execution_millis": 366,
        "execution_start": 1636636147969,
        "source_hash": "a4c46c29",
        "tags": [],
        "id": "0b9e429c"
      },
      "source": [
        "# creamos una columna con la información del año\n",
        "TRM['año'] = TRM['fecha'].dt.to_period('Y')\n",
        "\n",
        "# creamos un nuevo DataFrame con el promedio sobre todos los años\n",
        "TRM_año = TRM.groupby('año').mean().reset_index()\n",
        "\n",
        "# creamos la gráfica\n",
        "TRM_año.plot('año', 'TRM', \n",
        "            figsize = (8,6), # cambia el tamaño de la gráfica\n",
        "            xlabel = 'año', # cambia el nombre del eje x\n",
        "            ylabel = 'valor anual de la TRM en pesos', # cambia el nombre del eje y\n",
        "            title = 'Histórico del valor de la TRM', # cambia el título de la gráfica\n",
        "            color = 'red') # cambia el color de los datos"
      ],
      "id": "0b9e429c",
      "execution_count": null,
      "outputs": []
    },
    {
      "cell_type": "markdown",
      "metadata": {
        "cell_id": "00088-2e20e16d-288b-448b-bf39-1e2b598cacd9",
        "deepnote_cell_type": "markdown",
        "tags": [],
        "id": "f7640e95"
      },
      "source": [
        "#### Ejercicio 2 - Posible Respuesta\n"
      ],
      "id": "f7640e95"
    },
    {
      "cell_type": "code",
      "metadata": {
        "cell_id": "00089-8069aab9-b0a2-4400-89aa-251af10416a1",
        "deepnote_cell_type": "code",
        "deepnote_to_be_reexecuted": false,
        "execution_millis": 386,
        "execution_start": 1636636175786,
        "source_hash": "88cb97b3",
        "tags": [],
        "id": "75a2dacc"
      },
      "source": [
        "# como ya tenemos una columna con la información del mes, podemos arrancar con el groupby de una vez\n",
        "TRM_max = TRM.groupby('mes').max().reset_index()\n",
        "TRM_min = TRM.groupby('mes').min().reset_index()\n",
        "\n",
        "# Ahora restamos los valores máximos y mínimos y los asignamos a una nueva columna en TRM_max\n",
        "TRM_max['variacion'] = TRM_max['TRM']-TRM_min['TRM']\n",
        "\n",
        "# Finalmente graficamos\n",
        "TRM_max.plot('mes', 'variacion', \n",
        "            figsize = (8,6), # cambia el tamaño de la gráfica\n",
        "            xlabel = 'periodo', # cambia el nombre del eje x\n",
        "            ylabel = 'variación mensual de la TRM en pesos', # cambia el nombre del eje y\n",
        "            title = 'Variación mensual de la TRM', # cambia el título de la gráfica\n",
        "            color = 'red') # cambia el color de los datos"
      ],
      "id": "75a2dacc",
      "execution_count": null,
      "outputs": []
    },
    {
      "cell_type": "markdown",
      "metadata": {
        "cell_id": "00090-cb664c67-34d5-461a-949e-31967176c7a4",
        "deepnote_cell_type": "markdown",
        "tags": [],
        "id": "e1ab32da"
      },
      "source": [
        "#### Ejercicio 3 - Posible Respuesta"
      ],
      "id": "e1ab32da"
    },
    {
      "cell_type": "code",
      "metadata": {
        "cell_id": "00091-85e58bfa-ea4f-4a36-953d-a83e1464ff74",
        "deepnote_cell_type": "code",
        "deepnote_to_be_reexecuted": false,
        "execution_millis": 488,
        "execution_start": 1636636357127,
        "source_hash": "3ed99790",
        "tags": [],
        "id": "027bbbb1"
      },
      "source": [
        "# calculamos la desviación estándar móvil para los datos sin logaritmo\n",
        "TRM_mes['TRM_std'] = TRM_mes['TRM'].rolling(ventana).std()\n",
        "\n",
        "# calculamos la desviación estándar móvil para los datos con logaritmo\n",
        "TRM_mes['TRM_log_std'] = TRM_mes['TRM_log'].rolling(ventana).std()\n",
        "\n",
        "# Ahora hacemos la gráfica\n",
        "# definimos un elemento figura, y una lista de ejes\n",
        "fig, axs = plt.subplots(2,1,figsize = (8,6), sharex = True)\n",
        "\n",
        "# graficos en el eje 0\n",
        "TRM_mes.plot('mes', 'TRM_std', linestyle='-', linewidth = 3, ax = axs[0], color = 'C1')\n",
        "\n",
        "# graficos en el eje 1\n",
        "TRM_mes.plot('mes', 'TRM_log_std', linestyle='-', linewidth = 3, ax = axs[1], color = 'C2')\n",
        "\n",
        "\n",
        "# configuración eje 0\n",
        "axs[0].legend(['TRM','TRM - Promedio móvil']) # fijamos la leyenda\n",
        "axs[0].set_ylabel('desv_est movil') # fijamos el nombre del eje y\n",
        "\n",
        "# configuración eje 1\n",
        "axs[1].set_xlabel('periodo')  # fijamos el nombre del eje x\n",
        "axs[1].set_ylabel('desv_est movil')\n"
      ],
      "id": "027bbbb1",
      "execution_count": null,
      "outputs": []
    },
    {
      "cell_type": "markdown",
      "metadata": {
        "cell_id": "00094-d4fe6f5c-a009-43dd-bf4c-3e33ab318f10",
        "deepnote_cell_type": "markdown",
        "tags": [],
        "id": "2124021a"
      },
      "source": [
        "#### Ejercicio 4 - Posible Respuesta"
      ],
      "id": "2124021a"
    },
    {
      "cell_type": "code",
      "metadata": {
        "cell_id": "00091-baf5e8b0-f4ae-4ac1-8ca8-c5978e2c9e56",
        "deepnote_cell_type": "code",
        "deepnote_to_be_reexecuted": false,
        "execution_millis": 3,
        "execution_start": 1636636900737,
        "source_hash": "1400d055",
        "tags": [],
        "id": "e0d06428"
      },
      "source": [
        "TRM_mes['TRM'].corr(TRM_mes['TRM_log'])"
      ],
      "id": "e0d06428",
      "execution_count": null,
      "outputs": []
    },
    {
      "cell_type": "markdown",
      "metadata": {
        "cell_id": "00097-ea2bcc34-7490-46a4-92e5-1da98fb67802",
        "deepnote_cell_type": "markdown",
        "tags": [],
        "id": "29f44793"
      },
      "source": [
        "Debido a que las dos columnas están relacionadas por una función creciente, como el logaritmo natural, se espera que haya una correlación muy alta entre las dos."
      ],
      "id": "29f44793"
    }
  ]
}