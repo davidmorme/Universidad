{
 "cells": [
  {
   "cell_type": "markdown",
   "id": "77b31921",
   "metadata": {
    "cell_id": "00000-765fa2b4-3a9f-4780-bb24-4c3561db99d7",
    "deepnote_cell_type": "markdown",
    "tags": []
   },
   "source": [
    "Iniciamos importando las librerías requeridas para el desarrollodo del caso"
   ]
  },
  {
   "cell_type": "code",
   "execution_count": null,
   "id": "442da132-13b6-4ac4-b57d-919a4a0f3f37",
   "metadata": {},
   "outputs": [
    {
     "name": "stdout",
     "output_type": "stream",
     "text": [
      "Collecting package metadata (current_repodata.json): done\n",
      "Solving environment: done\n",
      "\n",
      "\n",
      "==> WARNING: A newer version of conda exists. <==\n",
      "  current version: 4.9.2\n",
      "  latest version: 4.10.3\n",
      "\n",
      "Please update conda by running\n",
      "\n",
      "    $ conda update -n base conda\n",
      "\n",
      "\n",
      "\n",
      "## Package Plan ##\n",
      "\n",
      "  environment location: /srv/conda/envs/notebook\n",
      "\n",
      "  added / updated specs:\n",
      "    - matplotlib\n",
      "    - numpy\n",
      "    - pandas\n",
      "\n",
      "\n",
      "The following packages will be downloaded:\n",
      "\n",
      "    package                    |            build\n",
      "    ---------------------------|-----------------\n",
      "    alsa-lib-1.2.3             |       h516909a_0         560 KB  conda-forge\n",
      "    brotli-1.0.9               |       h7f98852_6          18 KB  conda-forge\n",
      "    brotli-bin-1.0.9           |       h7f98852_6          19 KB  conda-forge\n",
      "    ca-certificates-2021.10.8  |       ha878542_0         139 KB  conda-forge\n",
      "    certifi-2021.10.8          |   py37h89c1867_1         145 KB  conda-forge\n",
      "    cycler-0.11.0              |     pyhd8ed1ab_0          10 KB  conda-forge\n",
      "    dbus-1.13.6                |       h48d8840_2         572 KB  conda-forge\n",
      "    expat-2.4.1                |       h9c3ff4c_0         182 KB  conda-forge\n",
      "    fontconfig-2.13.1          |    hba837de_1005         357 KB  conda-forge\n",
      "    fonttools-4.28.1           |   py37h5e8e339_0         1.5 MB  conda-forge\n",
      "    freetype-2.10.4            |       h0708190_1         890 KB  conda-forge\n",
      "    gettext-0.19.8.1           |    h73d1719_1008         3.6 MB  conda-forge\n",
      "    glib-2.70.1                |       h780b84a_0         438 KB  conda-forge\n",
      "    glib-tools-2.70.1          |       h780b84a_0         105 KB  conda-forge\n",
      "    gst-plugins-base-1.18.5    |       hf529b03_2         2.6 MB  conda-forge\n",
      "    gstreamer-1.18.5           |       h9f60fe5_2         2.0 MB  conda-forge\n",
      "    icu-68.2                   |       h9c3ff4c_0        13.1 MB  conda-forge\n",
      "    jbig-2.1                   |    h7f98852_2003          43 KB  conda-forge\n",
      "    jpeg-9d                    |       h36c2ea0_0         264 KB  conda-forge\n",
      "    kiwisolver-1.3.2           |   py37h2527ec5_1          78 KB  conda-forge\n",
      "    lcms2-2.12                 |       hddcbb42_0         443 KB  conda-forge\n",
      "    lerc-3.0                   |       h9c3ff4c_0         216 KB  conda-forge\n",
      "    libblas-3.9.0              |12_linux64_openblas          12 KB  conda-forge\n",
      "    libbrotlicommon-1.0.9      |       h7f98852_6          65 KB  conda-forge\n",
      "    libbrotlidec-1.0.9         |       h7f98852_6          33 KB  conda-forge\n",
      "    libbrotlienc-1.0.9         |       h7f98852_6         286 KB  conda-forge\n",
      "    libcblas-3.9.0             |12_linux64_openblas          12 KB  conda-forge\n",
      "    libclang-11.1.0            |default_ha53f305_1        19.2 MB  conda-forge\n",
      "    libdeflate-1.8             |       h7f98852_0          67 KB  conda-forge\n",
      "    libevent-2.1.10            |       h9b69904_4         1.1 MB  conda-forge\n",
      "    libgfortran-ng-11.2.0      |      h69a702a_11          19 KB  conda-forge\n",
      "    libgfortran5-11.2.0        |      h5c6108e_11         1.7 MB  conda-forge\n",
      "    libglib-2.70.1             |       h174f98d_0         3.0 MB  conda-forge\n",
      "    libiconv-1.16              |       h516909a_0         1.4 MB  conda-forge\n",
      "    liblapack-3.9.0            |12_linux64_openblas          12 KB  conda-forge\n",
      "    libllvm11-11.1.0           |       hf817b99_2        29.1 MB  conda-forge\n",
      "    libogg-1.3.4               |       h7f98852_1         206 KB  conda-forge\n",
      "    libopenblas-0.3.18         |pthreads_h8fe5266_0         9.6 MB  conda-forge\n",
      "    libopus-1.3.1              |       h7f98852_1         255 KB  conda-forge\n",
      "    libpng-1.6.37              |       h21135ba_2         306 KB  conda-forge\n",
      "    libpq-13.3                 |       hd57d9b9_3         2.7 MB  conda-forge\n",
      "    libtiff-4.3.0              |       h6f004c6_2         614 KB  conda-forge\n",
      "    libuuid-2.32.1             |    h7f98852_1000          28 KB  conda-forge\n",
      "    libvorbis-1.3.7            |       h9c3ff4c_0         280 KB  conda-forge\n",
      "    libwebp-base-1.2.1         |       h7f98852_0         845 KB  conda-forge\n",
      "    libxcb-1.13                |    h7f98852_1004         391 KB  conda-forge\n",
      "    libxkbcommon-1.0.3         |       he3ba5ed_0         581 KB  conda-forge\n",
      "    libxml2-2.9.12             |       h72842e0_0         772 KB  conda-forge\n",
      "    lz4-c-1.9.3                |       h9c3ff4c_1         179 KB  conda-forge\n",
      "    matplotlib-3.5.0           |   py37h89c1867_0           6 KB  conda-forge\n",
      "    matplotlib-base-3.5.0      |   py37h1058ff1_0         7.3 MB  conda-forge\n",
      "    munkres-1.1.4              |     pyh9f0ad1d_0          12 KB  conda-forge\n",
      "    mysql-common-8.0.27        |       ha770c72_1         1.8 MB  conda-forge\n",
      "    mysql-libs-8.0.27          |       hfa10184_1         1.9 MB  conda-forge\n",
      "    nspr-4.32                  |       h9c3ff4c_1         233 KB  conda-forge\n",
      "    nss-3.72                   |       hb5efdd6_0         2.1 MB  conda-forge\n",
      "    numpy-1.21.4               |   py37h31617e3_0         6.1 MB  conda-forge\n",
      "    olefile-0.46               |     pyh9f0ad1d_1          32 KB  conda-forge\n",
      "    openjpeg-2.4.0             |       hb52868f_1         444 KB  conda-forge\n",
      "    pandas-1.3.4               |   py37he8f5f7f_1        12.7 MB  conda-forge\n",
      "    pcre-8.45                  |       h9c3ff4c_0         253 KB  conda-forge\n",
      "    pillow-8.4.0               |   py37h0f21c89_0         706 KB  conda-forge\n",
      "    pthread-stubs-0.4          |    h36c2ea0_1001           5 KB  conda-forge\n",
      "    pyqt-5.12.3                |   py37h89c1867_8          22 KB  conda-forge\n",
      "    pyqt-impl-5.12.3           |   py37hac37412_8         5.9 MB  conda-forge\n",
      "    pyqt5-sip-4.19.18          |   py37hcd2ae1e_8         310 KB  conda-forge\n",
      "    pyqtchart-5.12             |   py37he336c9b_8         257 KB  conda-forge\n",
      "    pyqtwebengine-5.12.1       |   py37he336c9b_8         175 KB  conda-forge\n",
      "    qt-5.12.9                  |       hda022c4_4        99.5 MB  conda-forge\n",
      "    unicodedata2-13.0.0.post2  |   py37h5e8e339_4         496 KB  conda-forge\n",
      "    xorg-libxau-1.0.9          |       h7f98852_0          13 KB  conda-forge\n",
      "    xorg-libxdmcp-1.1.3        |       h7f98852_0          19 KB  conda-forge\n",
      "    zstd-1.5.0                 |       ha95c52a_0         490 KB  conda-forge\n",
      "    ------------------------------------------------------------\n",
      "                                           Total:       240.8 MB\n",
      "\n",
      "The following NEW packages will be INSTALLED:\n",
      "\n",
      "  alsa-lib           conda-forge/linux-64::alsa-lib-1.2.3-h516909a_0\n",
      "  brotli             conda-forge/linux-64::brotli-1.0.9-h7f98852_6\n",
      "  brotli-bin         conda-forge/linux-64::brotli-bin-1.0.9-h7f98852_6\n",
      "  cycler             conda-forge/noarch::cycler-0.11.0-pyhd8ed1ab_0\n",
      "  dbus               conda-forge/linux-64::dbus-1.13.6-h48d8840_2\n",
      "  expat              conda-forge/linux-64::expat-2.4.1-h9c3ff4c_0\n",
      "  fontconfig         conda-forge/linux-64::fontconfig-2.13.1-hba837de_1005\n",
      "  fonttools          conda-forge/linux-64::fonttools-4.28.1-py37h5e8e339_0\n",
      "  freetype           conda-forge/linux-64::freetype-2.10.4-h0708190_1\n",
      "  gettext            conda-forge/linux-64::gettext-0.19.8.1-h73d1719_1008\n",
      "  glib               conda-forge/linux-64::glib-2.70.1-h780b84a_0\n",
      "  glib-tools         conda-forge/linux-64::glib-tools-2.70.1-h780b84a_0\n",
      "  gst-plugins-base   conda-forge/linux-64::gst-plugins-base-1.18.5-hf529b03_2\n",
      "  gstreamer          conda-forge/linux-64::gstreamer-1.18.5-h9f60fe5_2\n",
      "  icu                conda-forge/linux-64::icu-68.2-h9c3ff4c_0\n",
      "  jbig               conda-forge/linux-64::jbig-2.1-h7f98852_2003\n",
      "  jpeg               conda-forge/linux-64::jpeg-9d-h36c2ea0_0\n",
      "  kiwisolver         conda-forge/linux-64::kiwisolver-1.3.2-py37h2527ec5_1\n",
      "  lcms2              conda-forge/linux-64::lcms2-2.12-hddcbb42_0\n",
      "  lerc               conda-forge/linux-64::lerc-3.0-h9c3ff4c_0\n",
      "  libblas            conda-forge/linux-64::libblas-3.9.0-12_linux64_openblas\n",
      "  libbrotlicommon    conda-forge/linux-64::libbrotlicommon-1.0.9-h7f98852_6\n",
      "  libbrotlidec       conda-forge/linux-64::libbrotlidec-1.0.9-h7f98852_6\n",
      "  libbrotlienc       conda-forge/linux-64::libbrotlienc-1.0.9-h7f98852_6\n",
      "  libcblas           conda-forge/linux-64::libcblas-3.9.0-12_linux64_openblas\n",
      "  libclang           conda-forge/linux-64::libclang-11.1.0-default_ha53f305_1\n",
      "  libdeflate         conda-forge/linux-64::libdeflate-1.8-h7f98852_0\n",
      "  libevent           conda-forge/linux-64::libevent-2.1.10-h9b69904_4\n",
      "  libgfortran-ng     conda-forge/linux-64::libgfortran-ng-11.2.0-h69a702a_11\n",
      "  libgfortran5       conda-forge/linux-64::libgfortran5-11.2.0-h5c6108e_11\n",
      "  libglib            conda-forge/linux-64::libglib-2.70.1-h174f98d_0\n",
      "  libiconv           conda-forge/linux-64::libiconv-1.16-h516909a_0\n",
      "  liblapack          conda-forge/linux-64::liblapack-3.9.0-12_linux64_openblas\n",
      "  libllvm11          conda-forge/linux-64::libllvm11-11.1.0-hf817b99_2\n",
      "  libogg             conda-forge/linux-64::libogg-1.3.4-h7f98852_1\n",
      "  libopenblas        conda-forge/linux-64::libopenblas-0.3.18-pthreads_h8fe5266_0\n",
      "  libopus            conda-forge/linux-64::libopus-1.3.1-h7f98852_1\n",
      "  libpng             conda-forge/linux-64::libpng-1.6.37-h21135ba_2\n",
      "  libpq              conda-forge/linux-64::libpq-13.3-hd57d9b9_3\n",
      "  libtiff            conda-forge/linux-64::libtiff-4.3.0-h6f004c6_2\n",
      "  libuuid            conda-forge/linux-64::libuuid-2.32.1-h7f98852_1000\n",
      "  libvorbis          conda-forge/linux-64::libvorbis-1.3.7-h9c3ff4c_0\n",
      "  libwebp-base       conda-forge/linux-64::libwebp-base-1.2.1-h7f98852_0\n",
      "  libxcb             conda-forge/linux-64::libxcb-1.13-h7f98852_1004\n",
      "  libxkbcommon       conda-forge/linux-64::libxkbcommon-1.0.3-he3ba5ed_0\n",
      "  libxml2            conda-forge/linux-64::libxml2-2.9.12-h72842e0_0\n",
      "  lz4-c              conda-forge/linux-64::lz4-c-1.9.3-h9c3ff4c_1\n",
      "  matplotlib         conda-forge/linux-64::matplotlib-3.5.0-py37h89c1867_0\n",
      "  matplotlib-base    conda-forge/linux-64::matplotlib-base-3.5.0-py37h1058ff1_0\n",
      "  munkres            conda-forge/noarch::munkres-1.1.4-pyh9f0ad1d_0\n",
      "  mysql-common       conda-forge/linux-64::mysql-common-8.0.27-ha770c72_1\n",
      "  mysql-libs         conda-forge/linux-64::mysql-libs-8.0.27-hfa10184_1\n",
      "  nspr               conda-forge/linux-64::nspr-4.32-h9c3ff4c_1\n",
      "  nss                conda-forge/linux-64::nss-3.72-hb5efdd6_0\n",
      "  numpy              conda-forge/linux-64::numpy-1.21.4-py37h31617e3_0\n",
      "  olefile            conda-forge/noarch::olefile-0.46-pyh9f0ad1d_1\n",
      "  openjpeg           conda-forge/linux-64::openjpeg-2.4.0-hb52868f_1\n",
      "  pandas             conda-forge/linux-64::pandas-1.3.4-py37he8f5f7f_1\n",
      "  pcre               conda-forge/linux-64::pcre-8.45-h9c3ff4c_0\n",
      "  pillow             conda-forge/linux-64::pillow-8.4.0-py37h0f21c89_0\n",
      "  pthread-stubs      conda-forge/linux-64::pthread-stubs-0.4-h36c2ea0_1001\n",
      "  pyqt               conda-forge/linux-64::pyqt-5.12.3-py37h89c1867_8\n",
      "  pyqt-impl          conda-forge/linux-64::pyqt-impl-5.12.3-py37hac37412_8\n",
      "  pyqt5-sip          conda-forge/linux-64::pyqt5-sip-4.19.18-py37hcd2ae1e_8\n",
      "  pyqtchart          conda-forge/linux-64::pyqtchart-5.12-py37he336c9b_8\n",
      "  pyqtwebengine      conda-forge/linux-64::pyqtwebengine-5.12.1-py37he336c9b_8\n",
      "  qt                 conda-forge/linux-64::qt-5.12.9-hda022c4_4\n",
      "  unicodedata2       conda-forge/linux-64::unicodedata2-13.0.0.post2-py37h5e8e339_4\n",
      "  xorg-libxau        conda-forge/linux-64::xorg-libxau-1.0.9-h7f98852_0\n",
      "  xorg-libxdmcp      conda-forge/linux-64::xorg-libxdmcp-1.1.3-h7f98852_0\n",
      "  zstd               conda-forge/linux-64::zstd-1.5.0-ha95c52a_0\n",
      "\n",
      "The following packages will be UPDATED:\n",
      "\n",
      "  ca-certificates                      2021.5.30-ha878542_0 --> 2021.10.8-ha878542_0\n",
      "  certifi                          2021.5.30-py37h89c1867_0 --> 2021.10.8-py37h89c1867_1\n",
      "\n",
      "\n",
      "\n",
      "Downloading and Extracting Packages\n",
      "glib-2.70.1          | 438 KB    | ##################################### | 100% \n",
      "libopus-1.3.1        | 255 KB    | ##################################### | 100% \n",
      "pyqtchart-5.12       | 257 KB    | ##################################### | 100% \n",
      "libclang-11.1.0      | 19.2 MB   | ##################################### | 100% \n",
      "munkres-1.1.4        | 12 KB     | ##################################### | 100% \n",
      "libogg-1.3.4         | 206 KB    | ##################################### | 100% \n",
      "libpng-1.6.37        | 306 KB    | ##################################### | 100% \n",
      "libuuid-2.32.1       | 28 KB     | ##################################### | 100% \n",
      "expat-2.4.1          | 182 KB    | ##################################### | 100% \n",
      "libiconv-1.16        | 1.4 MB    | ##################################### | 100% \n",
      "certifi-2021.10.8    | 145 KB    | ##################################### | 100% \n",
      "zstd-1.5.0           | 490 KB    | ##################################### | 100% \n",
      "pillow-8.4.0         | 706 KB    | ##################################### | 100% \n",
      "libcblas-3.9.0       | 12 KB     | ##################################### | 100% \n",
      "gst-plugins-base-1.1 | 2.6 MB    | ##################################### | 100% \n",
      "kiwisolver-1.3.2     | 78 KB     | ##################################### | 100% \n",
      "libbrotlienc-1.0.9   | 286 KB    | ##################################### | 100% \n",
      "pyqtwebengine-5.12.1 | 175 KB    | ##################################### | 100% \n",
      "jpeg-9d              | 264 KB    | ##################################### | 100% \n",
      "xorg-libxau-1.0.9    | 13 KB     | ##################################### | 100% \n",
      "fontconfig-2.13.1    | 357 KB    | ##################################### | 100% \n",
      "nspr-4.32            | 233 KB    | ##################################### | 100% \n",
      "lerc-3.0             | 216 KB    | ##################################### | 100% \n",
      "ca-certificates-2021 | 139 KB    | ##################################### | 100% \n",
      "brotli-1.0.9         | 18 KB     | ##################################### | 100% \n",
      "matplotlib-base-3.5. | 7.3 MB    | ##################################### | 100% \n",
      "fonttools-4.28.1     | 1.5 MB    | ##################################### | 100% \n",
      "libgfortran-ng-11.2. | 19 KB     | ##################################### | 100% \n",
      "libxkbcommon-1.0.3   | 581 KB    | ##################################### | 100% \n",
      "libllvm11-11.1.0     | 29.1 MB   | ##################################### | 100% \n",
      "lcms2-2.12           | 443 KB    | ##################################### | 100% \n",
      "libdeflate-1.8       | 67 KB     | ##################################### | 100% \n",
      "libbrotlidec-1.0.9   | 33 KB     | ##################################### | 100% \n",
      "dbus-1.13.6          | 572 KB    | ##################################### | 100% \n",
      "mysql-common-8.0.27  | 1.8 MB    | ##################################### | 100% \n",
      "qt-5.12.9            | 99.5 MB   | ##################################### | 100% \n",
      "libopenblas-0.3.18   | 9.6 MB    | ##################################### | 100% \n",
      "gstreamer-1.18.5     | 2.0 MB    | ##################################### | 100% \n",
      "freetype-2.10.4      | 890 KB    | ##################################### | 100% \n",
      "libwebp-base-1.2.1   | 845 KB    | ##################################### | 100% \n",
      "xorg-libxdmcp-1.1.3  | 19 KB     | ##################################### | 100% \n",
      "libxml2-2.9.12       | 772 KB    | ##################################### | 100% \n",
      "gettext-0.19.8.1     | 3.6 MB    | ##################################### | 100% \n",
      "libevent-2.1.10      | 1.1 MB    | ##################################### | 100% \n",
      "libvorbis-1.3.7      | 280 KB    | ##################################### | 100% \n",
      "pyqt5-sip-4.19.18    | 310 KB    | ##################################### | 100% \n",
      "libblas-3.9.0        | 12 KB     | ##################################### | 100% \n",
      "libpq-13.3           | 2.7 MB    | ##################################### | 100% \n",
      "lz4-c-1.9.3          | 179 KB    | ##################################### | 100% \n",
      "unicodedata2-13.0.0. | 496 KB    | ##################################### | 100% \n",
      "jbig-2.1             | 43 KB     | ##################################### | 100% \n",
      "liblapack-3.9.0      | 12 KB     | ##################################### | 100% \n",
      "mysql-libs-8.0.27    | 1.9 MB    | ##################################### | 100% \n",
      "libglib-2.70.1       | 3.0 MB    | ##################################### | 100% \n",
      "pthread-stubs-0.4    | 5 KB      | ##################################### | 100% \n",
      "libgfortran5-11.2.0  | 1.7 MB    | ##################################### | 100% \n",
      "pcre-8.45            | 253 KB    | ##################################### | 100% \n",
      "glib-tools-2.70.1    | 105 KB    | ##################################### | 100% \n",
      "matplotlib-3.5.0     | 6 KB      | ##################################### | 100% \n",
      "numpy-1.21.4         | 6.1 MB    | ##################################### | 100% \n",
      "brotli-bin-1.0.9     | 19 KB     | ##################################### | 100% \n",
      "alsa-lib-1.2.3       | 560 KB    | ##################################### | 100% \n",
      "icu-68.2             | 13.1 MB   | ##################################### | 100% \n",
      "libxcb-1.13          | 391 KB    | ##################################### | 100% \n",
      "libbrotlicommon-1.0. | 65 KB     | ##################################### | 100% \n",
      "cycler-0.11.0        | 10 KB     | ##################################### | 100% \n",
      "pandas-1.3.4         | 12.7 MB   | ##################################### | 100% \n",
      "pyqt-impl-5.12.3     | 5.9 MB    | ##################################### | 100% \n",
      "nss-3.72             | 2.1 MB    | ##################################### | 100% \n",
      "pyqt-5.12.3          | 22 KB     | ##################################### | 100% \n",
      "olefile-0.46         | 32 KB     | ##################################### | 100% \n",
      "openjpeg-2.4.0       | 444 KB    | ##################################### | 100% \n",
      "libtiff-4.3.0        | 614 KB    | ##################################### | 100% \n",
      "Preparing transaction: done\n",
      "Verifying transaction: done\n",
      "Executing transaction: / "
     ]
    }
   ],
   "source": [
    "!conda install -y pandas numpy matplotlib"
   ]
  },
  {
   "cell_type": "code",
   "execution_count": null,
   "id": "7e267cae",
   "metadata": {
    "cell_id": "00001-6e9e0a27-0750-428b-9442-37cae2d349c4",
    "deepnote_cell_type": "code",
    "deepnote_to_be_reexecuted": false,
    "execution_millis": 431,
    "execution_start": 1636634815397,
    "source_hash": "2c6f8d73"
   },
   "outputs": [],
   "source": [
    "import pandas as pd\n",
    "import matplotlib.pyplot as plt\n",
    "import numpy as np"
   ]
  },
  {
   "cell_type": "markdown",
   "id": "48c1a2c1",
   "metadata": {
    "cell_id": "00002-1385b39c-8d38-4285-ad70-2564ccb3f61d",
    "deepnote_cell_type": "markdown",
    "tags": []
   },
   "source": [
    "Adicionalmente, para este caso necesitaremos instalar la librería statsmodels, para eso debemos abrir el Anaconda Prompt, activar el ambiente del curso, y ejecutar el comando `conda install statsmodels`"
   ]
  },
  {
   "cell_type": "markdown",
   "id": "48a3d94e",
   "metadata": {
    "cell_id": "00000-1293e787-301c-4b7a-bc68-82388dfa325f",
    "deepnote_cell_type": "markdown"
   },
   "source": [
    "# Caso 3: Analizando el Comportamiento Histórico de la Tasa Representativa del Mercado\n",
    "\n",
    "En este caso se trabajará con dos series de tiempo, la serie de tiempo del histórico de la Tasa Representativa del Mercado (TRM) y la serie de tiempo del histórico de la inflación anual. Aprenderemos a determinar la tendencia de estas series y también a removerla para obtener sólo las variaciones principales. Al final, estableceremos una correlación entre las variaciones y seremos capaces de concluir sobre la influencia de la TRM sobre la inflación.\n",
    "\n",
    "## Resultado previsto de aprendizaje\n",
    "Al terminar este caso, el estudiante debe estar en la capacidad de importar datos con Pandas, de agruparlos y promediarlos usando las funciones `groupby` y `rolling`, y de visualizarlos con la librería Matplotlib. También debe estar en capacidad de establecer si una serie de tiempo es estacionaria y de remover tendencias usando promedios móviles.\n",
    "\n",
    "---"
   ]
  },
  {
   "cell_type": "markdown",
   "id": "ac791be5",
   "metadata": {
    "cell_id": "00003-5330c266-93bc-4cea-8ba4-5477ead8ec06",
    "deepnote_cell_type": "markdown",
    "tags": []
   },
   "source": [
    "## Contexto del Problema\n",
    "\n",
    "A usted se le entregarán dos bases de datos con el histórico de la TRM y el histórico de la inflación anual. Su objetivo es transformar estas dos series de tiempo en series de tiempo estacionarias y establecer si existe una correlación entre estas dos variables muy importantes en economìa."
   ]
  },
  {
   "cell_type": "markdown",
   "id": "90a98e2c",
   "metadata": {
    "cell_id": "00004-2918e7b4-7bbf-4b7b-89e4-899f79fb882f",
    "deepnote_cell_type": "markdown",
    "tags": []
   },
   "source": [
    "### Cargando los datos\n",
    "Iniciamos cargando los datos con la información del valor histórico de la Tasa Representatitva del Mercado (TRM) y de la inflación usando los datos obtenidos directamente desde la página del Banco de la República"
   ]
  },
  {
   "cell_type": "code",
   "execution_count": null,
   "id": "527519ff",
   "metadata": {
    "cell_id": "00002-79c975c7-0215-49a2-9eab-b0557b9b6343",
    "deepnote_cell_type": "code",
    "deepnote_to_be_reexecuted": false,
    "execution_millis": 825,
    "execution_start": 1636634815833,
    "source_hash": "f37c7802"
   },
   "outputs": [],
   "source": [
    "TRM = pd.read_excel('data/TCM_Serie historica IQY.xlsx', header=7, skipfooter = 4)\n",
    "IPC = pd.read_excel('data/IPC_Serie_variaciones.xlsx', header = 12, skipfooter= 6)"
   ]
  },
  {
   "cell_type": "markdown",
   "id": "3cf49e7a",
   "metadata": {
    "cell_id": "00006-743d498a-0669-4f92-859d-9bc3a9f2d514",
    "deepnote_cell_type": "markdown",
    "tags": []
   },
   "source": [
    "Noten que hemos incluido dos argumentos adicionales a esta función para especificar que debemos ignorar algunas filas al principio del archivo (header), y también algunas filas al final (footer). Veamos como lucen las primeras líneas de nuestros DataFrames"
   ]
  },
  {
   "cell_type": "code",
   "execution_count": null,
   "id": "e2dc9243",
   "metadata": {
    "cell_id": "00003-cecbb051-b21e-41c3-82b1-98a7e300fbef",
    "deepnote_cell_type": "code",
    "deepnote_to_be_reexecuted": false,
    "execution_millis": 245,
    "execution_start": 1636634816670,
    "source_hash": "77f1d1f2"
   },
   "outputs": [],
   "source": [
    "TRM.head()"
   ]
  },
  {
   "cell_type": "code",
   "execution_count": null,
   "id": "d5c6e3b0",
   "metadata": {
    "cell_id": "00009-115c8daf-2c9e-47ca-ad02-0a94f1ab5fce",
    "deepnote_cell_type": "code",
    "deepnote_to_be_reexecuted": false,
    "execution_millis": 226,
    "execution_start": 1636634816690,
    "source_hash": "5308689b",
    "tags": []
   },
   "outputs": [],
   "source": [
    "IPC.head()"
   ]
  },
  {
   "cell_type": "markdown",
   "id": "13200760",
   "metadata": {
    "cell_id": "00010-f485f5fe-9767-460a-a67d-17347bbd55df",
    "deepnote_cell_type": "markdown",
    "tags": []
   },
   "source": [
    "Veamos los formatos de las columnas:"
   ]
  },
  {
   "cell_type": "code",
   "execution_count": null,
   "id": "ca0df998",
   "metadata": {
    "cell_id": "00010-81b9c8d7-30f0-48b9-aa9a-0fbd23d16ba5",
    "deepnote_cell_type": "code",
    "deepnote_to_be_reexecuted": false,
    "execution_millis": 204,
    "execution_start": 1636634816713,
    "source_hash": "21545990",
    "tags": []
   },
   "outputs": [],
   "source": [
    "TRM.dtypes"
   ]
  },
  {
   "cell_type": "markdown",
   "id": "94cd7b0f",
   "metadata": {
    "cell_id": "00011-a1c29c33-c14d-40c6-a33e-94484fb1772e",
    "deepnote_cell_type": "markdown",
    "tags": []
   },
   "source": [
    "El tipo `datetime64` es un tipo de variable nuevo definido por Numpy para manejar formatos de fecha-hora y Pandas lo utiliza cuando detecta que una columna es de tipo fecha-hora. Es siempre una buena práctica trabajar fechas y horas en este formato."
   ]
  },
  {
   "cell_type": "code",
   "execution_count": null,
   "id": "475a191f",
   "metadata": {
    "cell_id": "00011-4c2c2780-cf69-4518-9051-a5532170fe95",
    "deepnote_cell_type": "code",
    "deepnote_to_be_reexecuted": false,
    "execution_millis": 181,
    "execution_start": 1636634816738,
    "source_hash": "e7722dd3",
    "tags": []
   },
   "outputs": [],
   "source": [
    "IPC.dtypes"
   ]
  },
  {
   "cell_type": "markdown",
   "id": "c7d16bf9",
   "metadata": {
    "cell_id": "00010-a5681a7a-d82f-4c54-aed6-ad12b60b5302",
    "deepnote_cell_type": "markdown",
    "tags": []
   },
   "source": [
    "Observamos  que hay varias diferencias entre nuestros datasets, la primera es que los datos de la TRM tienen una periodicidad diaria, mientras que los datos de inflación tienen una periodicidad mensual. Por otro lado, las fechas en la serie de TRM tienen el formato correcto, mientras que en la base de inflación han sido leídas en el formato equivocado."
   ]
  },
  {
   "cell_type": "markdown",
   "id": "74e2020d",
   "metadata": {
    "cell_id": "00013-64243419-b3e7-48b9-9a25-7802e7c64366",
    "deepnote_cell_type": "markdown",
    "tags": []
   },
   "source": [
    "### Pasando los datos de TRM a una periodicidad mensual"
   ]
  },
  {
   "cell_type": "markdown",
   "id": "2ce4ec7a",
   "metadata": {
    "cell_id": "00008-bfd4c1a6-b5f8-4746-ae31-74360eae1c5d",
    "deepnote_cell_type": "markdown",
    "tags": []
   },
   "source": [
    "Lo primero que haremos para poder correlacionar las dos variables será modificar la periodicidad de los datos de TRM de diaria a mensual. Para hacer esto usaremos la siguiente estrategia: tomaremos todos los valores de TRM del mismo mes y los promediaremos. El valor promedio será el que se reporta como resultado del mes."
   ]
  },
  {
   "cell_type": "markdown",
   "id": "7d697ff0",
   "metadata": {
    "cell_id": "00012-e724c68c-69a9-4961-aafe-3cc93423271c",
    "deepnote_cell_type": "markdown",
    "tags": []
   },
   "source": [
    "Ocurre que los nombres de las columnas son muy largos, es una buena práctica renombrar las columnas para que quede clara qué información contienen pero también sea fácil trabajar con esos nombres posteriormente:"
   ]
  },
  {
   "cell_type": "code",
   "execution_count": null,
   "id": "b83772dc",
   "metadata": {
    "cell_id": "00006-9196cf7a-1ae7-4045-b22c-0ace3fb757f3",
    "deepnote_cell_type": "code",
    "deepnote_to_be_reexecuted": false,
    "execution_millis": 1,
    "execution_start": 1636634816741,
    "source_hash": "83c0b3ed"
   },
   "outputs": [],
   "source": [
    "TRM.rename(columns = {'Fecha (dd/mm/aaaa)': 'fecha', 'Tasa de cambio representativa del mercado (TRM)': 'TRM'}, inplace = True)"
   ]
  },
  {
   "cell_type": "markdown",
   "id": "60cd6dce",
   "metadata": {
    "cell_id": "00014-54c706c9-5cb4-4aae-a9ab-782e45f3eee2",
    "deepnote_cell_type": "markdown",
    "tags": []
   },
   "source": [
    "Note como el argumento de la función `drop` es una lista con los nombres de las columnas, mientras que el argumento de la función `rename` es un diccionario con los nombres antiguos como las *keys* y con los nombres nuevos como los *items*."
   ]
  },
  {
   "cell_type": "code",
   "execution_count": null,
   "id": "d79dc790",
   "metadata": {
    "cell_id": "00007-b2c97fdf-4a78-4f0a-b25b-f74ad308fa4b",
    "deepnote_cell_type": "code",
    "deepnote_to_be_reexecuted": false,
    "execution_millis": 177,
    "execution_start": 1636634816743,
    "source_hash": "77f1d1f2"
   },
   "outputs": [],
   "source": [
    "TRM.head()"
   ]
  },
  {
   "cell_type": "markdown",
   "id": "337a5557",
   "metadata": {
    "cell_id": "00023-10ea9b29-9399-4e66-b42d-65b81336d1dc",
    "deepnote_cell_type": "markdown",
    "tags": []
   },
   "source": [
    "Para poder promediar los datos por mes, vamos a ahora a crear una nueva columna con la información correspondiente únicamente al mes. Esto es muy fácil usando la función `dt.toperiod()`, veamos:"
   ]
  },
  {
   "cell_type": "code",
   "execution_count": null,
   "id": "2068317f",
   "metadata": {
    "cell_id": "00024-8e7cf541-d247-4de4-b1a3-66fcc17218f7",
    "deepnote_cell_type": "code",
    "deepnote_to_be_reexecuted": false,
    "execution_millis": 150,
    "execution_start": 1636634816771,
    "source_hash": "c95cb876",
    "tags": []
   },
   "outputs": [],
   "source": [
    "TRM['mes'] = TRM['fecha'].dt.to_period('M')\n",
    "\n",
    "TRM.head()"
   ]
  },
  {
   "cell_type": "markdown",
   "id": "31e5242d",
   "metadata": {
    "cell_id": "00025-2aec9298-af79-496d-9af6-a8db4d39fb99",
    "deepnote_cell_type": "markdown",
    "tags": []
   },
   "source": [
    "El parámetro `'M'` le dice a la función que queremos la información solo del mes, para obtener información del año usamos `'Y'`, de la semana usamos `'W'`, o del trimestre usamos `'Q'`."
   ]
  },
  {
   "cell_type": "markdown",
   "id": "e5afb0e7",
   "metadata": {
    "cell_id": "00016-e08f1e04-6aa8-47ed-ab3c-3c91d24d7d6e",
    "deepnote_cell_type": "markdown",
    "tags": []
   },
   "source": [
    "#### La función `groupby`\n",
    "\n",
    "Como su nombre lo indica, la función `groupby` sirve para agrupar conjuntos de datos que tengan los mismos valores en alguna, o algunas columnas. Sin embargo, el agrupamiento por si solo no es una salida con la que podamos trabajar, es siempre necesario decirle a `gropuby` qué deseamos hacer con los datos, esto es la función de agrupamiento.<br>\n",
    "\n",
    "La estructura general de la función `groupby` es la siguiente:\n",
    "\n",
    "`nombre_dataframe.groupby(columna_a_agrupar).funcion_agrupación()`\n",
    "\n",
    "La Figura siguiente muestra algunos ejemplos de su utilización:\n",
    "\n",
    "![Picture title](fig/C3_1.png)\n",
    "\n",
    "En nuestro DataFrame todos los objetos correspondientes al mismo mes tienen el mismo valor en la columna `mes`, entonces podemos usar la función `groupby` para calcular el valor promedio de la TRM cada mes.\n"
   ]
  },
  {
   "cell_type": "code",
   "execution_count": null,
   "id": "6b22b400",
   "metadata": {
    "cell_id": "00027-528a0083-75b5-4344-9cd3-ec3a9a1b399f",
    "deepnote_cell_type": "code",
    "deepnote_to_be_reexecuted": false,
    "execution_millis": 142,
    "execution_start": 1636634816780,
    "source_hash": "51c6355f",
    "tags": []
   },
   "outputs": [],
   "source": [
    "TRM_mes = TRM.groupby('mes').mean()\n",
    "\n",
    "TRM_mes.head()"
   ]
  },
  {
   "cell_type": "markdown",
   "id": "e1741cdc",
   "metadata": {
    "cell_id": "00028-a0a464fe-2788-4f66-a0fa-9b7c8a703096",
    "deepnote_cell_type": "markdown",
    "tags": []
   },
   "source": [
    "Para lo que sigue queremos que la fecha sea una columna, no un índice, entonces usamos la función `'reset_index'`"
   ]
  },
  {
   "cell_type": "code",
   "execution_count": null,
   "id": "c8de59c5",
   "metadata": {
    "cell_id": "00029-af7131a7-e577-4faa-ac22-1bc04b702f8b",
    "deepnote_cell_type": "code",
    "deepnote_to_be_reexecuted": false,
    "execution_millis": 114,
    "execution_start": 1636634816809,
    "source_hash": "35d0525e",
    "tags": []
   },
   "outputs": [],
   "source": [
    "TRM_mes.reset_index(inplace = True)\n",
    "\n",
    "TRM_mes.head()"
   ]
  },
  {
   "cell_type": "markdown",
   "id": "d9473f6a",
   "metadata": {
    "cell_id": "00017-59575c7d-655e-4086-b09b-1d735fb5eb56",
    "deepnote_cell_type": "markdown",
    "tags": []
   },
   "source": [
    "### Generando nuestra primera gráfica\n",
    "\n",
    "Gracias a la integración entre Pandas y Matplotlib es posible generar visualizaciones de forma muy rápida usando la función `plot` de Pandas. Esta función está definida para la clase DataFrame y por lo tanto la podemos llamar de la siguiente manera:"
   ]
  },
  {
   "cell_type": "code",
   "execution_count": null,
   "id": "38a014a3",
   "metadata": {
    "cell_id": "00008-6963b020-5785-48bb-a148-8b9395fae0eb",
    "deepnote_cell_type": "code",
    "deepnote_to_be_reexecuted": false,
    "execution_millis": 344,
    "execution_start": 1636634816857,
    "source_hash": "a854ba9e"
   },
   "outputs": [],
   "source": [
    "TRM_mes.plot('mes', 'TRM')"
   ]
  },
  {
   "cell_type": "markdown",
   "id": "4c4c5b1c",
   "metadata": {
    "cell_id": "00019-ee3b36e4-4f24-4f6f-b211-126cc5d3f966",
    "deepnote_cell_type": "markdown",
    "tags": []
   },
   "source": [
    "El primer argumento de la función `plot` corresponde a la columna que queremos graficar en el eje *x* y el segundo argumento corresponde a la columna que queremos graficar en el eje *y*. \n",
    "\n",
    "Es posible modificar muchos parámetros de la gráfica incluyendo argumentos adicionales de configuración:"
   ]
  },
  {
   "cell_type": "code",
   "execution_count": null,
   "id": "020b9b74",
   "metadata": {
    "cell_id": "00020-5b755053-69d0-4b22-83ad-015d435074a9",
    "deepnote_cell_type": "code",
    "deepnote_to_be_reexecuted": false,
    "execution_millis": 431,
    "execution_start": 1636634817208,
    "source_hash": "a55f5882",
    "tags": []
   },
   "outputs": [],
   "source": [
    "TRM_mes.plot('mes', 'TRM', \n",
    "            figsize = (8,6), # cambia el tamaño de la gráfica\n",
    "            xlabel = 'periodo', # cambia el nombre del eje x\n",
    "            ylabel = 'valor mensual de la TRM en pesos', # cambia el nombre del eje y\n",
    "            title = 'Histórico del valor de la TRM', # cambia el título de la gráfica\n",
    "            color = 'red') # cambia el color de los datos"
   ]
  },
  {
   "cell_type": "markdown",
   "id": "24e03dd1",
   "metadata": {
    "cell_id": "00034-4ca5c58f-e334-4daf-8e76-fdf68623ccd5",
    "deepnote_cell_type": "markdown",
    "tags": []
   },
   "source": [
    "___\n",
    "#### Ejercicio 1\n",
    "\n",
    "Cree un nuevo DataFrame con los promedios anuales de la Tasa Representativa del Mercado. Posteriormente haga una gráfica con los datos obtenidos.\n",
    "\n",
    "___\n",
    "\n",
    "#### Ejercicio 2\n",
    "\n",
    "Calcule para cada mes los valores máximos y mínimos de la Tasa Representativa del Mercado. Posteriormente réstelos para establecer la variación mensual de la TRM, y haga una gráfica de esta variación. ¿Con qué evento coincide la variación máxima observada?\n",
    "\n",
    "___"
   ]
  },
  {
   "cell_type": "markdown",
   "id": "12b9c01c",
   "metadata": {
    "cell_id": "00021-6576c000-9767-4795-a3ca-acbe997fd019",
    "deepnote_cell_type": "markdown",
    "tags": []
   },
   "source": [
    "### Análisis de Series de Tiempo\n",
    "\n",
    "Las **series de tiempo** corresponden a datos que han sido recolectados y/o registrados en intervalos de tiempo **regulares** y cuyo comportamiento puede modelarse y predecirse a través de metologías estadísticas.\n",
    "\n",
    "Con la finalidad de caracterizar series de tiempo, podemos utilizar de manera preliminar gráficas y medidas descriptivas. De acuerdo del comportamiento gráfico de la serie, podemos emplear algunos estadísticos para describirla:\n",
    "\n",
    "* Cuando la serie fluctúa de forma constante alrededor de algún valor, se puede usar el **promedio de las observaciones** y su **desviación estándar**\n",
    "\n",
    "- Si la serie tiene un comportamiento creciente o decreciente, podemos usar el **promedio de las tasas de variación** así como sus valores **máximo(s)** y/o **mínimo(s)** a nivel local o global. \n",
    "\n"
   ]
  },
  {
   "cell_type": "markdown",
   "id": "37e432dd",
   "metadata": {
    "cell_id": "00022-85d676a9-d6a4-4467-8317-94507f5a3dfb",
    "deepnote_cell_type": "markdown",
    "tags": []
   },
   "source": [
    "Podemos analizar la variación de una serie de tiempo teniendo en cuenta los elementos siguientes:\n",
    "\n",
    "- **Tendencia:** indica el _movimiento_ de la serie a largo plazo.\n",
    "- **Estacionalidad:** permite determinar efectos que se producen de forma periódica.\n",
    "-  **Aleatoriedad:** caracteriza los elementos aleatorios en la serie.\n",
    "\n",
    "\n",
    "#### Procesos Estocásticos y Deterministicos\n",
    "\n",
    "Cuando hablamos de un **proceso estocástico** contamos con un conjunto de _variables aleatorias_ que podemos ordenar de acuedo a algún índice (que usualmente corresponde al tiempo):\n",
    "\n",
    "$$\\{x_t\\}=\\{...,x_1,x_2,x_3,x_4,...\\}$$\n",
    "\n",
    "Al trabajar con variables aleatorias, es necesario tener en cuenta que no podemos predecir su resultado para cada instante y, en lugar de ello, utilizamos distribuciones de probabilidad para entender su comportamiento.\n",
    "\n",
    "Como contraparte de un proceso estocástico encontramos los **procesos determinísticos** en donde, sin importar cuántas veces realicemos un experimento, podremos predecir con total certeza el resultado que se obtendrá. Muchas veces sin embargo, cuando no conocemos todas las variables involucradas, podemos abordar un proceso determinístico como uno estocástico.\n",
    "\n",
    "### Estacionariedad\n",
    "\n",
    "El proceso estocástico que produce una serie de tiempo puede asociarse con una **distribución de probabilidad** y, cuando ésta no cambia en el tiempo, nos permite hacer inferencia y predecir el comportamiento de la serie con mayor seguridad. Esta característica se conoce como **estacionariedad**.\n",
    "\n",
    "En resumen, una serie de tiempo es estacionaria si su media y su varianza permanecen constantes en el tiempo y si la serie no tiene una tendencia.\n",
    "\n",
    "<span style=\"color:red\">**NOTA:** Estacionalidad $\\neq$ Estacionariedad</span>.\n"
   ]
  },
  {
   "cell_type": "markdown",
   "id": "88d638f7",
   "metadata": {
    "cell_id": "00021-771988ac-dbb3-4b23-ad3e-611754ae1ea2",
    "deepnote_cell_type": "markdown",
    "tags": []
   },
   "source": [
    "Claramente, la serie de tiempo de la TRM es no estacionaria ya que tiene una tendencia clara que cambia a lo largo del tiempo. Es difícil identificar para esta serie de tiempo una estacionalidad, ya que no hay patrones repetitivos claros. También es claro que esta serie de tiempo está afectada por fenómenos aleatorios, y de ahí que tenga muchas variaciones de poca frecuencia.\n",
    "\n",
    "Sin embargo, hay situaciones en las que determinar la estacionariedad de una serie de tiempo no es tan evidente, y por eso se han desarrollado métodos estadísticos que nos pueden dar una estimación de con cuánta seguridad podemos hablar de una serie de tiempo estacionaria.\n",
    "\n",
    "### Prueba Dickey-Fuller\n",
    "La prueba Dickey-Fuller es una prueba estadística que nos permite probar la hipótesis nula de que la serie de tiempo es no-estacionaria. Como en todos los procesos de pruebas de hipótesis, el resultado de la prueba será un p-valor que deberemos interpretar de acuerdo con el nivel de significancia que queremos obtener. En general, podemos rechazar que la hipótesis nula, y aceptar entonces que la serie es estacionaria, con un nivel de confianza $\\alpha$ si el p-valor satisface:<br>\n",
    "$$p<1-\\alpha$$"
   ]
  },
  {
   "cell_type": "markdown",
   "id": "900aab55",
   "metadata": {
    "cell_id": "00024-69dc034e-9614-4343-a17b-9e5fd22b0b0e",
    "deepnote_cell_type": "markdown",
    "tags": []
   },
   "source": [
    "Apliquemos la prueba sobre nuestra serie de tiempo de valores de la TRM, para esto usaremos el paquete Statsmodels que como su nombre lo indica contiene muchas aplicaciones en estadística. La información específica de la función utilizada para hacer la prueba Dickey-Fuller puede ser encontrada en la documentación oficial:\n",
    "\n",
    "https://www.statsmodels.org/dev/generated/statsmodels.tsa.stattools.adfuller.html "
   ]
  },
  {
   "cell_type": "code",
   "execution_count": null,
   "id": "d2396e1a",
   "metadata": {
    "cell_id": "00026-a95763a0-a065-48e7-a438-abcc98812116",
    "deepnote_cell_type": "code",
    "deepnote_to_be_reexecuted": false,
    "execution_millis": 2879,
    "execution_start": 1636634817634,
    "source_hash": "42fd5e",
    "tags": []
   },
   "outputs": [],
   "source": [
    "#######\n",
    "#### REMOVER EN EL NOTEBOOK FINAL\n",
    "######\n",
    "!pip install statsmodels"
   ]
  },
  {
   "cell_type": "code",
   "execution_count": null,
   "id": "53178908",
   "metadata": {
    "cell_id": "00024-46d148c0-e05d-4bdc-9bdc-8cfc14307a9b",
    "deepnote_cell_type": "code",
    "deepnote_to_be_reexecuted": false,
    "execution_millis": 827,
    "execution_start": 1636634820557,
    "source_hash": "92dae27a",
    "tags": []
   },
   "outputs": [],
   "source": [
    "# Prueba de Dickey - Fuller para Estacionariedad\n",
    "from statsmodels.tsa.stattools import adfuller\n",
    "\n",
    "print('Prueba de Hipótesis Dickey-Fuller:')\n",
    "dftest = adfuller(TRM_mes['TRM'])\n",
    "pvalor = dftest[1]  # el segundo elemento de la salida del test es el p-valor\n",
    "print('p-valor: ', dftest[1])\n",
    "\n",
    "significancia = 0.95\n",
    "print('Se puede rechazar la hipótesis nula: ', pvalor<(1-significancia))"
   ]
  },
  {
   "cell_type": "markdown",
   "id": "8b056e4e",
   "metadata": {
    "cell_id": "00028-478ae6c4-eb20-4f32-bc0e-cf6102ef3bfd",
    "deepnote_cell_type": "markdown",
    "tags": []
   },
   "source": [
    "No podemos rechazar en este caso la hipótesis nula, eso quiere decir que de acuerdo con la prueba la serie de tiempo es no-estacionaria, como esperábamos"
   ]
  },
  {
   "cell_type": "markdown",
   "id": "52b62415",
   "metadata": {
    "cell_id": "00022-901e2864-ca95-4965-914f-275f9d9fa384",
    "deepnote_cell_type": "markdown",
    "tags": []
   },
   "source": [
    "### Obteniendo la tendencia de los datos\n",
    "\n",
    "Una de las técnicas más utilizadas para eliminar la componente aleatoria de una serie de tiempo es hacer un promedio móvil, esto es, reemplazar cada dato por el promedio de los datos adyacentes tomado a lo largo de una ventana de tiempo que sea mayor a la frecuencia de las componentes aleatorias.\n",
    "\n",
    "Los promedios móviles se pueden calcular fácilmente con Pandas usando la función `rolling`"
   ]
  },
  {
   "cell_type": "code",
   "execution_count": null,
   "id": "50363419",
   "metadata": {
    "cell_id": "00042-bbf17a2e-524e-4cb2-aae7-69c186355e4e",
    "deepnote_cell_type": "code",
    "deepnote_to_be_reexecuted": false,
    "execution_millis": 2,
    "execution_start": 1636634821308,
    "source_hash": "e845ed48",
    "tags": []
   },
   "outputs": [],
   "source": [
    "# definiremos primero una ventana de tiempo para hacer el promedio móvil\n",
    "ventana = 6"
   ]
  },
  {
   "cell_type": "code",
   "execution_count": null,
   "id": "781967d8",
   "metadata": {
    "cell_id": "00009-cd451f20-b447-44b8-8c6c-e6c133414b46",
    "deepnote_cell_type": "code",
    "deepnote_to_be_reexecuted": false,
    "execution_millis": 75,
    "execution_start": 1636634821314,
    "source_hash": "6f0b9142"
   },
   "outputs": [],
   "source": [
    "# calculamos el promedio móvil usando la ventana definida\n",
    "TRM_mes['TRM'].rolling(ventana).mean().head(10)"
   ]
  },
  {
   "cell_type": "markdown",
   "id": "6c4a90db",
   "metadata": {
    "cell_id": "00024-2aeb75ea-4a6a-4f26-b83f-8bf51d80a80f",
    "deepnote_cell_type": "markdown",
    "tags": []
   },
   "source": [
    "Hagamos la asignación ahora a una nueva columna llamanda `'TRM_prom'`"
   ]
  },
  {
   "cell_type": "code",
   "execution_count": null,
   "id": "021a1ca2",
   "metadata": {
    "cell_id": "00010-8d5912d8-e0aa-4ac9-9e63-81e02e2fa972",
    "deepnote_cell_type": "code",
    "deepnote_to_be_reexecuted": false,
    "execution_millis": 2,
    "execution_start": 1636634821320,
    "source_hash": "5aa73c52"
   },
   "outputs": [],
   "source": [
    "TRM_mes['TRM_prom'] = TRM_mes['TRM'].rolling(ventana).mean()"
   ]
  },
  {
   "cell_type": "markdown",
   "id": "40e3b49f",
   "metadata": {
    "cell_id": "00026-808427f4-2b8f-40f0-9c82-831f2bd76468",
    "deepnote_cell_type": "markdown",
    "tags": []
   },
   "source": [
    "Veamos entonces el resultado:"
   ]
  },
  {
   "cell_type": "code",
   "execution_count": null,
   "id": "3584a4db",
   "metadata": {
    "cell_id": "00026-12a9c9b6-0e68-44d3-bea6-84e35a0b2db4",
    "deepnote_cell_type": "code",
    "deepnote_to_be_reexecuted": false,
    "execution_millis": 43,
    "execution_start": 1636634821348,
    "source_hash": "5dfb6784",
    "tags": []
   },
   "outputs": [],
   "source": [
    "TRM_mes.head(15)"
   ]
  },
  {
   "cell_type": "code",
   "execution_count": null,
   "id": "3a31f76e",
   "metadata": {
    "cell_id": "00013-b85d32ee-d28f-440f-aa39-cc7876f992d4",
    "deepnote_cell_type": "code",
    "deepnote_to_be_reexecuted": false,
    "execution_millis": 372,
    "execution_start": 1636634821350,
    "source_hash": "86aabe5c"
   },
   "outputs": [],
   "source": [
    "TRM_mes.plot(x='mes', y=['TRM', 'TRM_prom'], figsize = (8,6), # cambia el tamaño de la gráfica\n",
    "            xlabel = 'periodo', # cambia el nombre del eje x\n",
    "            ylabel = 'valor de la TRM en pesos', # cambia el nombre del eje y\n",
    "            title = 'Histórico del valor de la TRM',\n",
    "            linewidth = 2) # cambia el título de la gráfica\n"
   ]
  },
  {
   "cell_type": "markdown",
   "id": "568f10d5",
   "metadata": {
    "cell_id": "00050-4493a4ca-d670-4761-8576-6dcaaa252a34",
    "deepnote_cell_type": "markdown",
    "tags": []
   },
   "source": []
  },
  {
   "cell_type": "markdown",
   "id": "8bf26018",
   "metadata": {
    "cell_id": "00036-60596c98-a795-4ed5-be92-c46022546e53",
    "deepnote_cell_type": "markdown",
    "tags": []
   },
   "source": [
    "### Aislando la componente aleatoria\n",
    "Para aislar la componente aleatoria de la serie de tiempo debemos sustraer la tendencia, esto es, debemos sustraer del valor de la TRM el valor promedio. Para cada mes, este valor corresponderá a cuán diferente es la TRM con respecto a la tendencia promedio durante la ventana que se ha establecido."
   ]
  },
  {
   "cell_type": "code",
   "execution_count": null,
   "id": "6037820e",
   "metadata": {
    "cell_id": "00037-a46d608e-d40c-4540-ac73-f32c2fa74939",
    "deepnote_cell_type": "code",
    "deepnote_to_be_reexecuted": false,
    "execution_millis": 2,
    "execution_start": 1636634821719,
    "source_hash": "baf9be1a",
    "tags": []
   },
   "outputs": [],
   "source": [
    "TRM_mes['TRM_cambio'] = TRM_mes['TRM'] - TRM_mes['TRM_prom']"
   ]
  },
  {
   "cell_type": "markdown",
   "id": "b8799cf7",
   "metadata": {
    "cell_id": "00038-398a6caa-dca7-42e6-971e-a40fb67e57af",
    "deepnote_cell_type": "markdown",
    "tags": []
   },
   "source": [
    "Grafiquemos ahora cómo luce el cambio de la TRM con respecto al valor promedio:"
   ]
  },
  {
   "cell_type": "code",
   "execution_count": null,
   "id": "58476227",
   "metadata": {
    "cell_id": "00038-0e98ec68-a8dd-4d88-bb0b-cdb89a801b0d",
    "deepnote_cell_type": "code",
    "deepnote_to_be_reexecuted": false,
    "execution_millis": 359,
    "execution_start": 1636634821733,
    "source_hash": "2bf2c2fc",
    "tags": []
   },
   "outputs": [],
   "source": [
    "TRM_mes.plot(x='mes', y='TRM_cambio', figsize = (8,6), # cambia el tamaño de la gráfica\n",
    "            xlabel = 'periodo', # cambia el nombre del eje x\n",
    "            ylabel = 'variación de la TRM con respecto al promedio móvil', # cambia el nombre del eje y\n",
    "            title = 'Histórico del valor de la TRM',\n",
    "            linewidth = 2) # cambia el título de la gráfica"
   ]
  },
  {
   "cell_type": "markdown",
   "id": "898b5c7b",
   "metadata": {
    "cell_id": "00036-42cebeaf-ae02-4cf6-bb14-3036d4d647f1",
    "deepnote_cell_type": "markdown",
    "tags": []
   },
   "source": [
    "Esta serie de variaciones con respecto al promedio ya no tiene una tendencia, sin embargo aún no es estacional debido a que las variaciones aumentan en amplitud a medida que la TRM aumenta en valor. Cuando esto ocurre, una técnica muy efectiva para normalizar las variaciones es transformar los datos usando el logaritmo natural. Para hacer esta transformación usamos el paquete `numpy` que al principio del notebook cargamos como `np`."
   ]
  },
  {
   "cell_type": "code",
   "execution_count": null,
   "id": "9a4ab81d",
   "metadata": {
    "cell_id": "00036-086eb275-2cc2-45af-856a-d2611d7d67f1",
    "deepnote_cell_type": "code",
    "deepnote_to_be_reexecuted": false,
    "execution_millis": 1,
    "execution_start": 1636634822095,
    "source_hash": "686faa77",
    "tags": []
   },
   "outputs": [],
   "source": [
    "# creamos una columna con el logaritmo de la TRM\n",
    "TRM_mes['TRM_log'] = np.log(TRM_mes['TRM'])  \n",
    "\n",
    "# calculamos el promedio movil en la ventana definida\n",
    "TRM_mes['TRM_log_prom'] = TRM_mes['TRM_log'].rolling(ventana).mean() \n",
    "\n",
    "# calculamos la diferencia del logaritmo con el promedio movil del logaritmo\n",
    "TRM_mes['TRM_log_cambio'] = TRM_mes['TRM_log'] - TRM_mes['TRM_log_prom'] "
   ]
  },
  {
   "cell_type": "markdown",
   "id": "cb3dab01",
   "metadata": {
    "cell_id": "00042-43f36e33-ecb2-4b7f-9e3f-ed453c95f333",
    "deepnote_cell_type": "markdown",
    "tags": []
   },
   "source": [
    "Creemos ahora una gráfica un poco más compleja con el resultado completo del análisis. Este es un buen ejemplo de cómo crear gráficas más complejas usando tanto matplotlib como pandas."
   ]
  },
  {
   "cell_type": "code",
   "execution_count": null,
   "id": "b342d0fb",
   "metadata": {
    "cell_id": "00017-b2608c9b-21ee-42dc-a046-1cad6400eda7",
    "deepnote_cell_type": "code",
    "deepnote_to_be_reexecuted": false,
    "execution_millis": 646,
    "execution_start": 1636634822503,
    "source_hash": "742a7e08"
   },
   "outputs": [],
   "source": [
    "# definimos un elemento figura, y una lista de ejes\n",
    "fig, axs = plt.subplots(2,1,figsize = (8,6), sharex = True)\n",
    "\n",
    "# graficos en el eje 0\n",
    "TRM_mes.plot('mes', 'TRM_log', linestyle='-', linewidth = 6, ax = axs[0])\n",
    "TRM_mes.plot('mes', 'TRM_log_prom', linestyle='-', linewidth = 3, ax = axs[0])\n",
    "\n",
    "# graficos en el eje 1\n",
    "TRM_mes.plot('mes', 'TRM_log_cambio', color = 'C2', ax = axs[1])\n",
    "\n",
    "# configuración eje 0\n",
    "axs[0].legend(['TRM','TRM - Promedio móvil']) # fijamos la leyenda\n",
    "axs[0].set_ylabel('ln(TRM)') # fijamos el nombre del eje y\n",
    "\n",
    "# configuración eje 1\n",
    "axs[1].set_xlabel('periodo')  # fijamos el nombre del eje x\n",
    "axs[1].set_ylabel('cambio en ln(TRM)')\n",
    "\n",
    "# exportamos la gráfica\n",
    "plt.savefig('fig/trm_hist.jpg')"
   ]
  },
  {
   "cell_type": "markdown",
   "id": "c95380bc",
   "metadata": {
    "cell_id": "00038-622b0c03-e1d8-4839-aad4-8f79b140f649",
    "deepnote_cell_type": "markdown",
    "tags": []
   },
   "source": [
    "Note cómo hemos incluido un comando para exportar la gràfica en el código, ahora la tenemos en un archivo jpg que podemos incrustar en cualquier documentos. El comando `savefig` permite además exportar a formatos como png, pdf, svg. Como vemos, trabajar con el logaritmo natural de la TRM resulta en una nueva serie de tiempo para el cambio diario con respecto al promedio histórico que tiene una varianza mucho más uniforme. Veamos qué resulta cuando se aplica el Dickey-Fuller test a la serie de tiempo de cambios diarios con respecto al promedio móvil del logaritmo natural."
   ]
  },
  {
   "cell_type": "code",
   "execution_count": null,
   "id": "b469f822",
   "metadata": {
    "cell_id": "00018-57df4163-0cf8-4b35-a615-b3e065154f4e",
    "deepnote_cell_type": "code",
    "deepnote_to_be_reexecuted": false,
    "execution_millis": 15,
    "execution_start": 1636634823150,
    "source_hash": "a971dbe0"
   },
   "outputs": [],
   "source": [
    "# Prueba de Dickey - Fuller para Estacionariedad\n",
    "from statsmodels.tsa.stattools import adfuller\n",
    "\n",
    "print('Prueba de Hipótesis Dickey-Fuller:')\n",
    "dftest = adfuller(TRM_mes['TRM_log_cambio'].dropna())\n",
    "pvalor = dftest[1]  # el segundo elemento de la salida del test es el p-valor\n",
    "print('p-valor: ', dftest[1])\n",
    "\n",
    "significancia = 0.95\n",
    "print('Se puede rechazar la hipótesis nula: ', pvalor<(1-significancia))"
   ]
  },
  {
   "cell_type": "markdown",
   "id": "41433f36",
   "metadata": {
    "cell_id": "00040-97acd9ad-4cf2-42bc-bade-bf9c8e2a66f7",
    "deepnote_cell_type": "markdown",
    "tags": []
   },
   "source": [
    "El valor del p-valor es extremadamente pequeño, de manera que con una altísima confianza podremos rechazar la hipótesis nula y concluir que la serie de tiempo es estacionaria."
   ]
  },
  {
   "cell_type": "markdown",
   "id": "519aa688",
   "metadata": {
    "cell_id": "00061-cbbdbaae-3c03-46be-84fd-6954f913748c",
    "deepnote_cell_type": "markdown",
    "tags": []
   },
   "source": [
    "La ventaja de usar el logaritmo se evidencia en la siguiente gráfica, que compara la desviación estándar móvil calculada para los datos originales con la desviación estándar móvil calculada para los datos con el logaritmo. En el primer caso hay una clara tendencia al alza en la desviación estándar. Mientras que en el segundo, a pesar de las variaciones, no hay una tendencia clara.\n",
    "\n",
    "![Picture title](fig/desv_est_movil.png)\n"
   ]
  },
  {
   "cell_type": "markdown",
   "id": "f826f460",
   "metadata": {
    "cell_id": "00061-278143c2-2a73-47f9-966e-9e30a00c9772",
    "deepnote_cell_type": "markdown",
    "tags": []
   },
   "source": [
    "#### Ejercicio 3\n",
    "Use la función `rolling(ventana).std()` para calcular, y graficar la desviación estándar móvil de los datos mensuales de la TRM con y sin el logaritmo. Reproduzca la gráfica anterior en la que se compara la desviación estándar móvil en los dos casos.\n"
   ]
  },
  {
   "cell_type": "markdown",
   "id": "86652e4f",
   "metadata": {
    "cell_id": "00049-4781e52e-4457-4e62-bff7-32788c4bfac6",
    "deepnote_cell_type": "markdown",
    "tags": []
   },
   "source": [
    "### Correlación con el IPC\n",
    "\n",
    "Continuamos nuestro estudio para establecer si existe alguna influencia de la TRM sobre los aumentos de precio en el país. Para arrancar, de nuevo acudiremos al histórico de los datos de inflación que se encuentra en el Banco de la República."
   ]
  },
  {
   "cell_type": "code",
   "execution_count": null,
   "id": "d5f9fae5",
   "metadata": {
    "cell_id": "00051-987cd312-c7f3-4a8f-be50-467e259fcf14",
    "deepnote_cell_type": "code",
    "deepnote_to_be_reexecuted": false,
    "execution_millis": 5,
    "execution_start": 1636634823167,
    "source_hash": "34d6102d",
    "tags": []
   },
   "outputs": [],
   "source": [
    "IPC.columns"
   ]
  },
  {
   "cell_type": "code",
   "execution_count": null,
   "id": "ce2c8a9b",
   "metadata": {
    "cell_id": "00052-4dd0af3e-3ac5-4bcd-80ab-aca14ef47c57",
    "deepnote_cell_type": "code",
    "deepnote_to_be_reexecuted": false,
    "execution_millis": 7,
    "execution_start": 1636634823193,
    "source_hash": "e7722dd3",
    "tags": []
   },
   "outputs": [],
   "source": [
    "IPC.dtypes"
   ]
  },
  {
   "cell_type": "markdown",
   "id": "a0c3670f",
   "metadata": {
    "cell_id": "00064-1fa27eca-d2ce-4002-b0c9-588c5eb95aad",
    "deepnote_cell_type": "markdown",
    "tags": []
   },
   "source": [
    "Renombremos primero las columnas con las que vamos a trabajar"
   ]
  },
  {
   "cell_type": "code",
   "execution_count": null,
   "id": "fbacfa33",
   "metadata": {
    "cell_id": "00065-8b585cb7-e192-4e08-a416-8d1e33f0a75d",
    "deepnote_cell_type": "code",
    "deepnote_to_be_reexecuted": false,
    "execution_millis": 23795,
    "execution_start": 1636634823194,
    "source_hash": "10e4d829",
    "tags": []
   },
   "outputs": [],
   "source": [
    "IPC.rename(columns = {'Año(aaaa)-Mes(mm)': 'fecha', 'Inflación anual %' : 'inf_anual'}, inplace = True)"
   ]
  },
  {
   "cell_type": "markdown",
   "id": "98d7d916",
   "metadata": {
    "cell_id": "00053-12099253-5e78-4a58-b756-28af52b5f707",
    "deepnote_cell_type": "markdown",
    "tags": []
   },
   "source": [
    "Debemos cambiar el formato de la fecha ya que se interpretó como un formato de número flotante, no como un formato año-mes"
   ]
  },
  {
   "cell_type": "code",
   "execution_count": null,
   "id": "14eff37a",
   "metadata": {
    "cell_id": "00052-cf6fd977-c5f0-4fab-b04b-0cc9043f834b",
    "deepnote_cell_type": "code",
    "deepnote_to_be_reexecuted": false,
    "execution_millis": 0,
    "execution_start": 1636634823195,
    "source_hash": "f728b38c",
    "tags": []
   },
   "outputs": [],
   "source": [
    "IPC['mes'] = pd.to_datetime(IPC['fecha'].astype(int).astype(str), format = '%Y%m').dt.to_period('M')"
   ]
  },
  {
   "cell_type": "markdown",
   "id": "a23528b2",
   "metadata": {
    "cell_id": "00055-478976b8-d4ab-4a01-a118-c0c9cbfcb0d3",
    "deepnote_cell_type": "markdown",
    "tags": []
   },
   "source": [
    "Observemos la evaluación de la inflación acumulada anual a lo largo del tiempo:"
   ]
  },
  {
   "cell_type": "code",
   "execution_count": null,
   "id": "a2e07d1d",
   "metadata": {
    "cell_id": "00053-cebb4b4b-bd16-45c7-9f63-93cb642cb557",
    "deepnote_cell_type": "code",
    "deepnote_to_be_reexecuted": false,
    "execution_millis": 265,
    "execution_start": 1636634823202,
    "source_hash": "45b81d39",
    "tags": []
   },
   "outputs": [],
   "source": [
    "IPC.plot(x='mes', y='inf_anual', figsize = (8,6), # cambia el tamaño de la gráfica\n",
    "            xlabel = 'periodo', # cambia el nombre del eje x\n",
    "            ylabel = 'Inflación anual %', # cambia el nombre del eje y\n",
    "            title = 'Histórico de evolución de la inflación',\n",
    "            linewidth = 2) # cambia el título de la gráfica"
   ]
  },
  {
   "cell_type": "markdown",
   "id": "2eb7eb11",
   "metadata": {
    "cell_id": "00055-b0778885-5fee-41c4-9fd6-89f1b95f9a67",
    "deepnote_cell_type": "markdown",
    "deepnote_to_be_reexecuted": false,
    "execution_millis": 21,
    "execution_start": 1636591126013,
    "source_hash": "c307a0f1",
    "tags": []
   },
   "source": [
    "Aplicaremos de nuevo la misma técnica para eliminar la tendencia de esta serie de tiempo"
   ]
  },
  {
   "cell_type": "code",
   "execution_count": null,
   "id": "79346311",
   "metadata": {
    "cell_id": "00051-0bbf0a62-9537-4b8b-b581-5d876c6db4bc",
    "deepnote_cell_type": "code",
    "deepnote_to_be_reexecuted": false,
    "execution_millis": 5,
    "execution_start": 1636634823467,
    "source_hash": "ce5f5a29",
    "tags": []
   },
   "outputs": [],
   "source": [
    "IPC['inf_cambio'] = np.log(IPC['inf_anual'])-np.log(IPC['inf_anual']).rolling(ventana).mean()"
   ]
  },
  {
   "cell_type": "code",
   "execution_count": null,
   "id": "a6b2ae84",
   "metadata": {
    "cell_id": "00053-4acd52a7-837f-487e-ba7c-e904fcfa443f",
    "deepnote_cell_type": "code",
    "deepnote_to_be_reexecuted": false,
    "execution_millis": 46,
    "execution_start": 1636634823482,
    "source_hash": "5308689b",
    "tags": []
   },
   "outputs": [],
   "source": [
    "IPC.head()"
   ]
  },
  {
   "cell_type": "markdown",
   "id": "b6cbed44",
   "metadata": {
    "cell_id": "00071-98c82286-9db0-4c82-995a-709f7e2aadb6",
    "deepnote_cell_type": "markdown",
    "tags": []
   },
   "source": [
    "#### La función `merge`\n",
    "\n",
    "La función `merge` es muy útil cuando se trata de llevar a un DataFrame la información que se encuentra en otro DataFrame. En ambos DataFrames debe haber una columna común con respecto a la cual se hará la asignación. La Figura siguiente muestra la sintaxis general y el resultado esperado de usar la función `merge`:\n",
    "\n",
    "![Picture title](fig/C3_3.png)"
   ]
  },
  {
   "cell_type": "markdown",
   "id": "1365df67",
   "metadata": {
    "cell_id": "00066-5eaa0bf6-a915-47d7-8f92-bc2bd51e7cab",
    "deepnote_cell_type": "markdown",
    "tags": []
   },
   "source": [
    "Ahora usamos la función `merge` para unir la información de las variaciones de la TRM, con las variaciones de la inflación."
   ]
  },
  {
   "cell_type": "code",
   "execution_count": null,
   "id": "70b4c363",
   "metadata": {
    "cell_id": "00059-a61e15c4-62fd-4e15-af91-5a2d790e64c9",
    "deepnote_cell_type": "code",
    "deepnote_to_be_reexecuted": false,
    "execution_millis": 5,
    "execution_start": 1636634823507,
    "source_hash": "2f37f221",
    "tags": []
   },
   "outputs": [],
   "source": [
    "TRM_mes = TRM_mes.merge(IPC[['mes','inf_cambio']], on = 'mes', how = 'left')"
   ]
  },
  {
   "cell_type": "code",
   "execution_count": null,
   "id": "97c47081",
   "metadata": {
    "cell_id": "00074-0c1b0918-f402-4541-b1d0-ba928fa1d6dd",
    "deepnote_cell_type": "code",
    "deepnote_to_be_reexecuted": false,
    "execution_millis": 219,
    "execution_start": 1636634823515,
    "source_hash": "4f146ef2",
    "tags": []
   },
   "outputs": [],
   "source": [
    "TRM_mes.head()"
   ]
  },
  {
   "cell_type": "markdown",
   "id": "9ce272ef",
   "metadata": {
    "cell_id": "00067-18225579-800d-4a21-be90-f066432ae3e9",
    "deepnote_cell_type": "markdown",
    "tags": []
   },
   "source": [
    "Grafiquemos ahora las dos series de tiempo en paralelo."
   ]
  },
  {
   "cell_type": "code",
   "execution_count": null,
   "id": "5db2a442",
   "metadata": {
    "cell_id": "00055-68024712-8ce1-4c5d-a6fc-ee3a672cace9",
    "deepnote_cell_type": "code",
    "deepnote_to_be_reexecuted": false,
    "execution_millis": 561,
    "execution_start": 1636636719478,
    "source_hash": "c2a534ab",
    "tags": []
   },
   "outputs": [],
   "source": [
    "# definimos un elemento figura, y una lista de ejes\n",
    "fig, axs = plt.subplots(2,1,figsize = (8,6), sharex = True)\n",
    "\n",
    "# graficos en el eje 0\n",
    "TRM_mes.plot('mes', 'TRM_log_cambio', linestyle='-', linewidth = 3, ax = axs[0])\n",
    "TRM_mes.plot('mes', 'inf_cambio', linestyle='-', linewidth = 3, ax = axs[1])\n",
    "\n",
    "\n",
    "# configuración eje 0\n",
    "axs[0].set_ylabel('cambio en ln(TRM)') # fijamos el nombre del eje y\n",
    "\n",
    "# configuración eje 1\n",
    "axs[1].set_xlabel('periodo')  # fijamos el nombre del eje x\n",
    "axs[1].set_ylabel('cambio en ln(inf_anual)')"
   ]
  },
  {
   "cell_type": "markdown",
   "id": "8b8a660d",
   "metadata": {
    "cell_id": "00069-227824cf-5c69-4bb9-8793-7cda4aae8d74",
    "deepnote_cell_type": "markdown",
    "tags": []
   },
   "source": [
    "#### Correlación de Pearson\n",
    "Formalmente la Correlación de Pearon es una medida de la Covarianza entre dos series de datos. Esto quiere decir que es una medida de qué tanto se relacionan linealmente las dos series. En series de tiempo perfectamente correlacionados, la Correlación de Pearson es 1 o -1. En el primer caso el signo positivo implica que aumentos en una serie siempre están acompañados de aumentos en la segunda, en el segundo caso el signo negativo implica que aumentos en la primera serie siempre conllevan a disminuciones en la segunda. Si no existe ninguna correlación entre dos series, entonces la Correlación de Pearson es 0.\n",
    "\n",
    "Podemos ahora calcular la correlación de Pearson existente entre las dos series de tiempo. "
   ]
  },
  {
   "cell_type": "code",
   "execution_count": null,
   "id": "91c1529c",
   "metadata": {
    "cell_id": "00062-9a67fbac-8bd9-4788-81f8-1c9fd1ff9615",
    "deepnote_cell_type": "code",
    "deepnote_to_be_reexecuted": false,
    "execution_millis": 12,
    "execution_start": 1636634824008,
    "source_hash": "8b582716",
    "tags": []
   },
   "outputs": [],
   "source": [
    "TRM_mes['TRM_log_cambio'].corr(TRM_mes['inf_cambio'])"
   ]
  },
  {
   "cell_type": "markdown",
   "id": "2eb8a562",
   "metadata": {
    "cell_id": "00071-ec37af42-9935-412c-9ceb-b429d7ab0050",
    "deepnote_cell_type": "markdown",
    "tags": []
   },
   "source": [
    "Se obtiene un porcentaje de correlación de alrededor del 19%, que es significativo y es positivo. Lo que implica que aumentos en la TRM usualmente coinciden con aumentos en la inflación. Sin embargo, vale la pena estudiar la correlación retrasada o adelanta en el tiempo de una variable con respecto a la otra."
   ]
  },
  {
   "cell_type": "code",
   "execution_count": null,
   "id": "d57d51cc",
   "metadata": {
    "cell_id": "00063-f1632a69-cd5a-4319-b846-bfdec48ca726",
    "deepnote_cell_type": "code",
    "deepnote_to_be_reexecuted": false,
    "execution_millis": 9,
    "execution_start": 1636634824018,
    "source_hash": "f27f1fa2",
    "tags": []
   },
   "outputs": [],
   "source": [
    "for i in np.arange(-6,6):\n",
    "    corr = TRM_mes['TRM_log_cambio'].shift(i).corr(TRM_mes['inf_cambio'])\n",
    "    print (i, ' : ', corr)"
   ]
  },
  {
   "cell_type": "markdown",
   "id": "1ef1e18f",
   "metadata": {
    "cell_id": "00064-020931c5-19ed-4b1e-a20e-904a0d48fbce",
    "deepnote_cell_type": "markdown",
    "tags": []
   },
   "source": [
    "La correlación se maximiza cuando hay un shift de entre 0 y 1 mes, esto sugiere que la inflación responde a los cambios en TRM (y no al revés) y que los cambios en la TRM demoran alrededor de un mes en tener una influencia significativa sobre la inflación.\n",
    "\n",
    "La maxima correlación es de 20.0%, lo que implica que efectivamente la inflación no está determinada únicamente por las variaciones en la TRM. Nuestro análisis sin embargo sugiere que sí existe una influencia y nos permite estimar el tamaño de la influencia y estimar también el retraso de los efectos."
   ]
  },
  {
   "cell_type": "markdown",
   "id": "20f93d27",
   "metadata": {
    "cell_id": "00086-995a2de8-80df-470e-8c89-7a66d8853f5a",
    "deepnote_cell_type": "markdown",
    "tags": []
   },
   "source": [
    "___\n",
    "\n",
    "#### Ejercicio 4\n",
    "Calcule la correlación existente entre las columnas `TRM` y `TRM_log` en el DataFrame `TRM_mes`. ¿Se espera una correlación alta o baja?\n",
    "\n",
    "___"
   ]
  },
  {
   "cell_type": "markdown",
   "id": "5c88e600",
   "metadata": {
    "cell_id": "00088-a986f1d3-b72c-4cd3-b8a5-0016a589cb5e",
    "deepnote_cell_type": "markdown",
    "tags": []
   },
   "source": [
    "## Conclusiones\n",
    "\n",
    "Hemos aprendido a trabajar con DataFrames para agrupar los datos y sacar promedios, y también para juntar información procedente de DataFrames diferentes. Hemos aprendido cómo determinar la tendencia de una serie de tiempo usando promedios móviles y también a aislar la componente aleatoria removiendo la tendencia. También hemos aprendido sobre la prueba Dickey-Fuller para determinar estacionariedad y sobre la correlación de Pearson para establecer correlación entre series de tiempo."
   ]
  },
  {
   "cell_type": "markdown",
   "id": "cd51a52c",
   "metadata": {
    "cell_id": "00059-3bb44f77-fd27-4ee9-9d7e-6089fd9e55ff",
    "deepnote_cell_type": "markdown",
    "tags": []
   },
   "source": [
    "### Origen de los datos\n",
    "* Valor histórico de la TRM <br>\n",
    "https://www.banrep.gov.co/es/estadisticas/trm \n",
    "* Indice de Precios al Consumidor - IPC <br>\n",
    "https://www.banrep.gov.co/es/estadisticas/indice-precios-consumidor-ipc"
   ]
  },
  {
   "cell_type": "markdown",
   "id": "d4723753",
   "metadata": {
    "cell_id": "00086-dcbedfe9-2a51-4612-ac1c-e54c18e3b036",
    "deepnote_cell_type": "markdown",
    "tags": []
   },
   "source": [
    "#### Ejercicio 1 - Posible Respuesta"
   ]
  },
  {
   "cell_type": "code",
   "execution_count": null,
   "id": "0b9e429c",
   "metadata": {
    "cell_id": "00060-2bc65e91-b848-435d-9718-82510b34e71d",
    "deepnote_cell_type": "code",
    "deepnote_to_be_reexecuted": false,
    "execution_millis": 366,
    "execution_start": 1636636147969,
    "source_hash": "a4c46c29",
    "tags": []
   },
   "outputs": [],
   "source": [
    "# creamos una columna con la información del año\n",
    "TRM['año'] = TRM['fecha'].dt.to_period('Y')\n",
    "\n",
    "# creamos un nuevo DataFrame con el promedio sobre todos los años\n",
    "TRM_año = TRM.groupby('año').mean().reset_index()\n",
    "\n",
    "# creamos la gráfica\n",
    "TRM_año.plot('año', 'TRM', \n",
    "            figsize = (8,6), # cambia el tamaño de la gráfica\n",
    "            xlabel = 'año', # cambia el nombre del eje x\n",
    "            ylabel = 'valor anual de la TRM en pesos', # cambia el nombre del eje y\n",
    "            title = 'Histórico del valor de la TRM', # cambia el título de la gráfica\n",
    "            color = 'red') # cambia el color de los datos"
   ]
  },
  {
   "cell_type": "markdown",
   "id": "f7640e95",
   "metadata": {
    "cell_id": "00088-2e20e16d-288b-448b-bf39-1e2b598cacd9",
    "deepnote_cell_type": "markdown",
    "tags": []
   },
   "source": [
    "#### Ejercicio 2 - Posible Respuesta\n"
   ]
  },
  {
   "cell_type": "code",
   "execution_count": null,
   "id": "75a2dacc",
   "metadata": {
    "cell_id": "00089-8069aab9-b0a2-4400-89aa-251af10416a1",
    "deepnote_cell_type": "code",
    "deepnote_to_be_reexecuted": false,
    "execution_millis": 386,
    "execution_start": 1636636175786,
    "source_hash": "88cb97b3",
    "tags": []
   },
   "outputs": [],
   "source": [
    "# como ya tenemos una columna con la información del mes, podemos arrancar con el groupby de una vez\n",
    "TRM_max = TRM.groupby('mes').max().reset_index()\n",
    "TRM_min = TRM.groupby('mes').min().reset_index()\n",
    "\n",
    "# Ahora restamos los valores máximos y mínimos y los asignamos a una nueva columna en TRM_max\n",
    "TRM_max['variacion'] = TRM_max['TRM']-TRM_min['TRM']\n",
    "\n",
    "# Finalmente graficamos\n",
    "TRM_max.plot('mes', 'variacion', \n",
    "            figsize = (8,6), # cambia el tamaño de la gráfica\n",
    "            xlabel = 'periodo', # cambia el nombre del eje x\n",
    "            ylabel = 'variación mensual de la TRM en pesos', # cambia el nombre del eje y\n",
    "            title = 'Variación mensual de la TRM', # cambia el título de la gráfica\n",
    "            color = 'red') # cambia el color de los datos"
   ]
  },
  {
   "cell_type": "markdown",
   "id": "e1ab32da",
   "metadata": {
    "cell_id": "00090-cb664c67-34d5-461a-949e-31967176c7a4",
    "deepnote_cell_type": "markdown",
    "tags": []
   },
   "source": [
    "#### Ejercicio 3 - Posible Respuesta"
   ]
  },
  {
   "cell_type": "code",
   "execution_count": null,
   "id": "027bbbb1",
   "metadata": {
    "cell_id": "00091-85e58bfa-ea4f-4a36-953d-a83e1464ff74",
    "deepnote_cell_type": "code",
    "deepnote_to_be_reexecuted": false,
    "execution_millis": 488,
    "execution_start": 1636636357127,
    "source_hash": "3ed99790",
    "tags": []
   },
   "outputs": [],
   "source": [
    "# calculamos la desviación estándar móvil para los datos sin logaritmo\n",
    "TRM_mes['TRM_std'] = TRM_mes['TRM'].rolling(ventana).std()\n",
    "\n",
    "# calculamos la desviación estándar móvil para los datos con logaritmo\n",
    "TRM_mes['TRM_log_std'] = TRM_mes['TRM_log'].rolling(ventana).std()\n",
    "\n",
    "# Ahora hacemos la gráfica\n",
    "# definimos un elemento figura, y una lista de ejes\n",
    "fig, axs = plt.subplots(2,1,figsize = (8,6), sharex = True)\n",
    "\n",
    "# graficos en el eje 0\n",
    "TRM_mes.plot('mes', 'TRM_std', linestyle='-', linewidth = 3, ax = axs[0], color = 'C1')\n",
    "\n",
    "# graficos en el eje 1\n",
    "TRM_mes.plot('mes', 'TRM_log_std', linestyle='-', linewidth = 3, ax = axs[1], color = 'C2')\n",
    "\n",
    "\n",
    "# configuración eje 0\n",
    "axs[0].legend(['TRM','TRM - Promedio móvil']) # fijamos la leyenda\n",
    "axs[0].set_ylabel('desv_est movil') # fijamos el nombre del eje y\n",
    "\n",
    "# configuración eje 1\n",
    "axs[1].set_xlabel('periodo')  # fijamos el nombre del eje x\n",
    "axs[1].set_ylabel('desv_est movil')\n"
   ]
  },
  {
   "cell_type": "markdown",
   "id": "2124021a",
   "metadata": {
    "cell_id": "00094-d4fe6f5c-a009-43dd-bf4c-3e33ab318f10",
    "deepnote_cell_type": "markdown",
    "tags": []
   },
   "source": [
    "#### Ejercicio 4 - Posible Respuesta"
   ]
  },
  {
   "cell_type": "code",
   "execution_count": null,
   "id": "e0d06428",
   "metadata": {
    "cell_id": "00091-baf5e8b0-f4ae-4ac1-8ca8-c5978e2c9e56",
    "deepnote_cell_type": "code",
    "deepnote_to_be_reexecuted": false,
    "execution_millis": 3,
    "execution_start": 1636636900737,
    "source_hash": "1400d055",
    "tags": []
   },
   "outputs": [],
   "source": [
    "TRM_mes['TRM'].corr(TRM_mes['TRM_log'])"
   ]
  },
  {
   "cell_type": "markdown",
   "id": "29f44793",
   "metadata": {
    "cell_id": "00097-ea2bcc34-7490-46a4-92e5-1da98fb67802",
    "deepnote_cell_type": "markdown",
    "tags": []
   },
   "source": [
    "Debido a que las dos columnas están relacionadas por una función creciente, como el logaritmo natural, se espera que haya una correlación muy alta entre las dos."
   ]
  }
 ],
 "metadata": {
  "deepnote": {},
  "deepnote_execution_queue": [],
  "deepnote_notebook_id": "c53f051c-c7a5-46eb-a815-8528c099e553",
  "kernelspec": {
   "display_name": "Python 3 (ipykernel)",
   "language": "python",
   "name": "python3"
  },
  "language_info": {
   "codemirror_mode": {
    "name": "ipython",
    "version": 3
   },
   "file_extension": ".py",
   "mimetype": "text/x-python",
   "name": "python",
   "nbconvert_exporter": "python",
   "pygments_lexer": "ipython3",
   "version": "3.7.10"
  }
 },
 "nbformat": 4,
 "nbformat_minor": 5
}
