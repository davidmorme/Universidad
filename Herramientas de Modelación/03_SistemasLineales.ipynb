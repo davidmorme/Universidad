{
  "nbformat": 4,
  "nbformat_minor": 0,
  "metadata": {
    "celltoolbar": "Slideshow",
    "kernelspec": {
      "display_name": "Python 3",
      "language": "python",
      "name": "python3"
    },
    "language_info": {
      "codemirror_mode": {
        "name": "ipython",
        "version": 3
      },
      "file_extension": ".py",
      "mimetype": "text/x-python",
      "name": "python",
      "nbconvert_exporter": "python",
      "pygments_lexer": "ipython3",
      "version": "3.8.3"
    },
    "toc": {
      "base_numbering": 1,
      "nav_menu": {},
      "number_sections": true,
      "sideBar": true,
      "skip_h1_title": false,
      "title_cell": "Table of Contents",
      "title_sidebar": "Contents",
      "toc_cell": false,
      "toc_position": {},
      "toc_section_display": true,
      "toc_window_display": true
    },
    "varInspector": {
      "cols": {
        "lenName": 16,
        "lenType": 16,
        "lenVar": 40
      },
      "kernels_config": {
        "python": {
          "delete_cmd_postfix": "",
          "delete_cmd_prefix": "del ",
          "library": "var_list.py",
          "varRefreshCmd": "print(var_dic_list())"
        },
        "r": {
          "delete_cmd_postfix": ") ",
          "delete_cmd_prefix": "rm(",
          "library": "var_list.r",
          "varRefreshCmd": "cat(var_dic_list()) "
        }
      },
      "types_to_exclude": [
        "module",
        "function",
        "builtin_function_or_method",
        "instance",
        "_Feature"
      ],
      "window_display": false
    },
    "colab": {
      "name": "03-SistemasLineales.ipynb",
      "provenance": [],
      "collapsed_sections": [],
      "include_colab_link": true
    }
  },
  "cells": [
    {
      "cell_type": "markdown",
      "metadata": {
        "id": "view-in-github",
        "colab_type": "text"
      },
      "source": [
        "<a href=\"https://colab.research.google.com/github/davidmorme/Universidad/blob/main/Herramientas%20de%20Modelaci%C3%B3n/03_SistemasLineales.ipynb\" target=\"_parent\"><img src=\"https://colab.research.google.com/assets/colab-badge.svg\" alt=\"Open In Colab\"/></a>"
      ]
    },
    {
      "cell_type": "markdown",
      "metadata": {
        "id": "sRb-LuLIyrEh"
      },
      "source": [
        "# Linear Systems : Matrices, Vectors, eigen systems\n",
        "In this module we will learn how to solve linear systems which are very common in engineering.\n",
        "Applications are numerous: \n",
        "- Civil, chemical, electrical, mechanical, ..., engineering\n",
        "- In biology by using linear algebra to analyze huge data sets regarding protein folding. https://math.stackexchange.com/questions/571109/any-application-of-vector-spaces-in-biology-or-biotechnology\n",
        "- In genetics to model the evolution of genes.\n",
        "- Markov chains on industrial processes with applications of matrices and eigen systems. \n",
        "- Population dynamics. \n",
        "- Perception of colors. \n",
        "- Adjacency graphs: https://en.wikipedia.org/wiki/Adjacency_matrix , https://towardsdatascience.com/matrices-are-graphs-c9034f79cfd8"
      ]
    },
    {
      "cell_type": "markdown",
      "metadata": {
        "id": "s3idBgI8yrEm"
      },
      "source": [
        "<img src=\"https://github.com/iluvatar1/ModelingToolsEngineering/blob/master/03-SistemasLineales-Matrices/fig/Linear-Systems-Applications.png?raw=1\" width=900>"
      ]
    },
    {
      "cell_type": "markdown",
      "metadata": {
        "id": "P9ynrQA-yrEo"
      },
      "source": [
        "<img src=\"https://github.com/iluvatar1/ModelingToolsEngineering/blob/master/03-SistemasLineales-Matrices/fig/Matrices-rotations-eigenvalues.png?raw=1\" width=900>\n"
      ]
    },
    {
      "cell_type": "markdown",
      "metadata": {
        "id": "w-RvAAxayrEq"
      },
      "source": [
        "Ejemplos de rotaciones:\n",
        "- https://www.glowscript.org/#/user/GlowScriptDemos/folder/Examples/program/Bounce-VPython\n",
        "- https://www.glowscript.org/#/user/GlowScriptDemos/folder/Examples/program/Plot3D"
      ]
    },
    {
      "cell_type": "markdown",
      "metadata": {
        "id": "527up9ruyrEt"
      },
      "source": [
        "<img src=\"https://github.com/iluvatar1/ModelingToolsEngineering/blob/master/03-SistemasLineales-Matrices/fig/bungee-family-equ.png?raw=1\" width=900>"
      ]
    },
    {
      "cell_type": "markdown",
      "metadata": {
        "id": "C4DCIJghyrEx"
      },
      "source": [
        "> Write this as a linear system $A\\vec x = \\vec b$, with unknows $x_1, x_2, x_3$\n",
        "\n"
      ]
    },
    {
      "cell_type": "markdown",
      "metadata": {
        "id": "yCr2A5PYyrEz"
      },
      "source": [
        "A = (k1+k2  -k2      0 \n",
        "     -k2    k2+k3   -k3 \n",
        "     0      -k3      k3) \n",
        "     \n",
        "    [[k1 + k2, -k2  , 0  ],\n",
        "     [-k2    , k2+k3, -k3],\n",
        "     [0      , -k3  , k3]]\n",
        "\n",
        "x = (x1\n",
        "     x2\n",
        "     x3)\n",
        "     \n",
        "b = (m1g\n",
        "     m2g\n",
        "     m3g)"
      ]
    },
    {
      "cell_type": "markdown",
      "metadata": {
        "id": "uHnU2A--yrE1"
      },
      "source": [
        "# How to index a Matrix?\n",
        "<img src=\"https://github.com/iluvatar1/ModelingToolsEngineering/blob/master/03-SistemasLineales-Matrices/fig/matrix-base.png?raw=1\" width=900>"
      ]
    },
    {
      "cell_type": "markdown",
      "metadata": {
        "id": "IOa3e3b5yrE2"
      },
      "source": [
        "# Defining matrices in python"
      ]
    },
    {
      "cell_type": "markdown",
      "metadata": {
        "id": "ZXb7pIkAyrE3"
      },
      "source": [
        "## Scipy\n",
        "See https://docs.scipy.org/doc/numpy-1.17.0/reference/generated/numpy.array.html#numpy.array\n",
        "\n"
      ]
    },
    {
      "cell_type": "code",
      "metadata": {
        "ExecuteTime": {
          "end_time": "2020-09-05T16:24:20.727545Z",
          "start_time": "2020-09-05T16:24:20.718604Z"
        },
        "id": "RpJmVxucyrE4",
        "colab": {
          "base_uri": "https://localhost:8080/"
        },
        "outputId": "8c7f33d3-ea1f-47a3-da22-d32f6bc0b0ff"
      },
      "source": [
        "import numpy as np\n",
        "A = np.array([[1, 2],  # primera fila, indice es 0\n",
        "              [3, 4]]) # Segunda fila, indice es 1\n",
        "print(A[0][1])\n",
        "print(f\"Matrix : \\n\", A)\n",
        "#\n",
        "A = np.array([1, 2, 3, 4]).reshape(2,2)\n",
        "print(\"Matrix : \\n\", A)\n",
        "print(\"A[1,0] : \\n\", A[1,0])\n",
        "print(\"A[1][0] : \\n\", A[1][0])"
      ],
      "execution_count": null,
      "outputs": [
        {
          "output_type": "stream",
          "name": "stdout",
          "text": [
            "2\n",
            "Matrix : \n",
            " [[1 2]\n",
            " [3 4]]\n",
            "Matrix : \n",
            " [[1 2]\n",
            " [3 4]]\n",
            "A[1,0] : \n",
            " 3\n",
            "A[1][0] : \n",
            " 3\n"
          ]
        }
      ]
    },
    {
      "cell_type": "markdown",
      "metadata": {
        "id": "Pf0L1eQayrE6"
      },
      "source": [
        "# Matrix operations\n",
        "Add, substract, multiply, etc\n"
      ]
    },
    {
      "cell_type": "code",
      "metadata": {
        "ExecuteTime": {
          "end_time": "2020-09-05T16:28:47.154588Z",
          "start_time": "2020-09-05T16:28:47.127473Z"
        },
        "id": "T93cc8wayrE6",
        "colab": {
          "base_uri": "https://localhost:8080/"
        },
        "outputId": "ec6f326c-7885-4868-f822-5f7f27c1000c"
      },
      "source": [
        "import numpy as np\n",
        "a = np.array([[1, 2],[3, 4]])\n",
        "b = np.array([[5, -1], [-3, 24]])\n",
        "c = a+b # sum\n",
        "print(c)\n",
        "c = a*b # Multiplication\n",
        "print(c)\n",
        "c = a/b # divide element by element\n",
        "print(c)\n",
        "print(c.max())\n",
        "print(c.min())\n",
        "print(b/b)"
      ],
      "execution_count": null,
      "outputs": [
        {
          "output_type": "stream",
          "name": "stdout",
          "text": [
            "[[ 6  1]\n",
            " [ 0 28]]\n",
            "[[ 5 -2]\n",
            " [-9 96]]\n",
            "[[ 0.2        -2.        ]\n",
            " [-1.          0.16666667]]\n",
            "0.2\n",
            "-2.0\n",
            "[[1. 1.]\n",
            " [1. 1.]]\n"
          ]
        }
      ]
    },
    {
      "cell_type": "code",
      "metadata": {
        "colab": {
          "base_uri": "https://localhost:8080/"
        },
        "id": "uf0txrTV9S3q",
        "outputId": "2ef219cd-7941-4d95-d873-2c7053d747f8"
      },
      "source": [
        "import numpy as np\n",
        "a = np.matrix([[1, 2],[3, 4]])\n",
        "b = np.matrix([[5, -1], [-3, 24]])\n",
        "\n",
        "c = a*b # Multiplication\n",
        "print(c)"
      ],
      "execution_count": null,
      "outputs": [
        {
          "output_type": "stream",
          "name": "stdout",
          "text": [
            "[[-1 47]\n",
            " [ 3 93]]\n"
          ]
        }
      ]
    },
    {
      "cell_type": "markdown",
      "metadata": {
        "id": "_yjqRle4yrE7"
      },
      "source": [
        "# Solving linear systems $A\\vec x= \\vec b$\n",
        "Solve the following system:\n",
        "<img src=\"https://github.com/iluvatar1/ModelingToolsEngineering/blob/master/03-SistemasLineales-Matrices/fig/linear-example-01.png?raw=1\" width=600>"
      ]
    },
    {
      "cell_type": "code",
      "metadata": {
        "ExecuteTime": {
          "end_time": "2020-09-05T16:36:51.093105Z",
          "start_time": "2020-09-05T16:36:51.070207Z"
        },
        "id": "jCDchlPkyrE8",
        "colab": {
          "base_uri": "https://localhost:8080/"
        },
        "outputId": "5899123a-80e5-4575-e1f7-51a6ab5f85f2"
      },
      "source": [
        "import numpy as np\n",
        "\n",
        "A = np.array([[150, -100, 0], \n",
        "              [-100, 150, -50], \n",
        "              [0, -50, 50]])\n",
        "b = np.array([588.6, 686.7, 784.8])\n",
        "x = np.linalg.solve(A, b) # magic\n",
        "print(\"Solution: \\n\", x)\n",
        "# confirm\n",
        "print(\"Delta:\\n\", A.dot(x) - b)"
      ],
      "execution_count": null,
      "outputs": [
        {
          "output_type": "stream",
          "name": "stdout",
          "text": [
            "Solution: \n",
            " [41.202 55.917 71.613]\n",
            "Delta:\n",
            " [-1.13686838e-13  1.25055521e-12  1.13686838e-13]\n"
          ]
        }
      ]
    },
    {
      "cell_type": "code",
      "metadata": {
        "ExecuteTime": {
          "end_time": "2020-09-05T16:43:08.461496Z",
          "start_time": "2020-09-05T16:43:08.311563Z"
        },
        "id": "mYvH6q5PyrE-"
      },
      "source": [
        "import numpy as np\n",
        "\n",
        "N = 1000\n",
        "\n",
        "A = np.random.rand(N,N)\n",
        "b = np.random.rand(N)\n",
        "x = np.linalg.solve(A, b) # magic\n",
        "#print(\"Solution: \\n\", x)\n",
        "# confirm\n",
        "#print(\"Delta:\\n\", A.dot(x) - b)"
      ],
      "execution_count": null,
      "outputs": []
    },
    {
      "cell_type": "markdown",
      "metadata": {
        "id": "u4LM8_2xyrE_"
      },
      "source": [
        "## Exercise: Rewrite and solve the following system\n",
        "\n",
        "<img src=\"https://github.com/iluvatar1/ModelingToolsEngineering/blob/master/03-SistemasLineales-Matrices/fig/linear-example-03.png?raw=1\" width=600>"
      ]
    },
    {
      "cell_type": "code",
      "metadata": {
        "id": "uBXtP2WCyrFA",
        "colab": {
          "base_uri": "https://localhost:8080/"
        },
        "outputId": "e6a1f007-4fa8-4a87-a6dd-f27a92c1abd5"
      },
      "source": [
        "import numpy as np\n",
        "\n",
        "A = np.array([[0, -6 , 5], \n",
        "              [0, 2, 7], \n",
        "              [-4, 3, -7]])\n",
        "b = np.array([50, -30, 50])\n",
        "x = np.linalg.solve(A, b) # magic\n",
        "print(\"Solution: \\n\", x)\n",
        "# confirm\n",
        "print(\"Delta:\\n\", A.dot(x) - b)"
      ],
      "execution_count": null,
      "outputs": [
        {
          "output_type": "stream",
          "name": "stdout",
          "text": [
            "Solution: \n",
            " [-17.01923077  -9.61538462  -1.53846154]\n",
            "Delta:\n",
            " [0. 0. 0.]\n"
          ]
        }
      ]
    },
    {
      "cell_type": "markdown",
      "metadata": {
        "id": "mZj2H6xhyrFA"
      },
      "source": [
        "## Exercise: Rewrite and solve the following system\n",
        "Extra: Can yu measure the time spent in the computation? (google for timer or timeit in python)\n",
        "\n",
        "<img src=\"https://github.com/iluvatar1/ModelingToolsEngineering/blob/master/03-SistemasLineales-Matrices/fig/linear-example-02.png?raw=1\" width=600>"
      ]
    },
    {
      "cell_type": "code",
      "metadata": {
        "id": "eM21TNgRyrFB",
        "colab": {
          "base_uri": "https://localhost:8080/"
        },
        "outputId": "1f287703-cf38-4337-eccb-7785bc28e93e"
      },
      "source": [
        "import numpy as np\n",
        "\n",
        "A = np.array([[1,1,1,0,0,0], \n",
        "              [0,-1,0,1,-1,0], \n",
        "              [0,0,-1,0,0,1], \n",
        "              [0,0,0,0,1,-1], \n",
        "              [0,10,-11,0,-15,-5], \n",
        "              [5,-10,0,-20,0,0]])\n",
        "b = np.array([0,0,0,0,0,200])\n",
        "x = np.linalg.solve(A, b) # magic\n",
        "print(\"Solution: \\n\", x)\n",
        "# confirm\n",
        "print(\"Delta:\\n\", A.dot(x) - b)"
      ],
      "execution_count": null,
      "outputs": [
        {
          "output_type": "stream",
          "name": "stdout",
          "text": [
            "Solution: \n",
            " [ 6.1423221  -4.64419476 -1.49812734 -6.1423221  -1.49812734 -1.49812734]\n",
            "Delta:\n",
            " [ 2.66453526e-15 -2.22044605e-16 -2.22044605e-16  0.00000000e+00\n",
            "  0.00000000e+00  0.00000000e+00]\n"
          ]
        }
      ]
    },
    {
      "cell_type": "markdown",
      "metadata": {
        "id": "GOdzNL13yrFB"
      },
      "source": [
        "## Exercise: Solve and plot the following system\n",
        "\n",
        "$$ \\frac{-2.3x_1}{5} + x_2 = 1.1 $$\n",
        "$$-0.5x_1 + x_2 = 1 $$\n",
        "Plot the system of equations and check whether this solution is or\n",
        "not special.\n"
      ]
    },
    {
      "cell_type": "code",
      "metadata": {
        "id": "bHESKlR_yrFC",
        "colab": {
          "base_uri": "https://localhost:8080/"
        },
        "outputId": "16cf7d8d-a795-4c43-cf96-40aa406c4dc1"
      },
      "source": [
        "import numpy as np\n",
        "\n",
        "A = np.array([[-2.3/5 , 1], \n",
        "              [-0.5, 1]])\n",
        "b = np.array([1.1, 1])\n",
        "x = np.linalg.solve(A, b) # magic\n",
        "print(\"Solution: \\n\", x)\n",
        "# confirm\n",
        "print(\"Delta:\\n\", A.dot(x) - b)"
      ],
      "execution_count": null,
      "outputs": [
        {
          "output_type": "stream",
          "name": "stdout",
          "text": [
            "Solution: \n",
            " [2.5  2.25]\n",
            "Delta:\n",
            " [0. 0.]\n"
          ]
        }
      ]
    },
    {
      "cell_type": "markdown",
      "metadata": {
        "id": "t8UewoxdyrFC"
      },
      "source": [
        "## Exercise: Simulating temperature\n",
        "|Temperature| System of equations|\n",
        "|-|-|\n",
        "|<img src=\"https://github.com/iluvatar1/ModelingToolsEngineering/blob/master/03-SistemasLineales-Matrices/fig/linear-example-04-T.png?raw=1\" width=800>| <img src=\"https://github.com/iluvatar1/ModelingToolsEngineering/blob/master/03-SistemasLineales-Matrices/fig/linear-example-04-T-B.png?raw=1\" width=800>|"
      ]
    },
    {
      "cell_type": "code",
      "metadata": {
        "id": "FjZOuEIWyrFD"
      },
      "source": [
        ""
      ],
      "execution_count": null,
      "outputs": []
    },
    {
      "cell_type": "markdown",
      "metadata": {
        "id": "XELpNDZLyrFE"
      },
      "source": [
        "# Computing inverse matrices\n",
        "See : https://docs.scipy.org/doc/scipy/reference/generated/scipy.linalg.inv.html#scipy.linalg.inv\n",
        "\n",
        "You can watch: https://www.youtube.com/watch?v=uQhTuRlWMxw\n",
        "\n"
      ]
    },
    {
      "cell_type": "code",
      "metadata": {
        "ExecuteTime": {
          "end_time": "2020-09-05T17:11:16.144181Z",
          "start_time": "2020-09-05T17:11:16.110789Z"
        },
        "id": "H-VYts0ByrFE",
        "colab": {
          "base_uri": "https://localhost:8080/"
        },
        "outputId": "cf3368ef-8d8d-484c-f58c-a3b931ae9b35"
      },
      "source": [
        "%time\n",
        "from scipy import linalg\n",
        "import numpy as np\n",
        "A = np.array([[1., 2.], \n",
        "              [3., 4.]])\n",
        "B = linalg.inv(A) # magic\n",
        "print(\"B : \\n\", B)\n",
        "# verify\n",
        "print(\"A A^-1 : \\n\", A.dot(B))"
      ],
      "execution_count": null,
      "outputs": [
        {
          "output_type": "stream",
          "name": "stdout",
          "text": [
            "CPU times: user 4 µs, sys: 0 ns, total: 4 µs\n",
            "Wall time: 8.34 µs\n",
            "B : \n",
            " [[-2.   1. ]\n",
            " [ 1.5 -0.5]]\n",
            "A A^-1 : \n",
            " [[1.0000000e+00 0.0000000e+00]\n",
            " [8.8817842e-16 1.0000000e+00]]\n"
          ]
        }
      ]
    },
    {
      "cell_type": "code",
      "metadata": {
        "id": "8N6m-y8uEnUN",
        "colab": {
          "base_uri": "https://localhost:8080/"
        },
        "outputId": "d7384e20-618d-48a4-a272-c823a21b4578"
      },
      "source": [
        "linalg.norm(A)*linalg.norm(B)"
      ],
      "execution_count": null,
      "outputs": [
        {
          "output_type": "execute_result",
          "data": {
            "text/plain": [
              "14.999999999999998"
            ]
          },
          "metadata": {},
          "execution_count": 44
        }
      ]
    },
    {
      "cell_type": "code",
      "metadata": {
        "ExecuteTime": {
          "end_time": "2020-09-05T17:20:14.621365Z",
          "start_time": "2020-09-05T17:20:14.571632Z"
        },
        "id": "e3DyNE33yrFF",
        "colab": {
          "base_uri": "https://localhost:8080/"
        },
        "outputId": "8ca58326-ce52-4883-a831-ad2e53b15d66"
      },
      "source": [
        "from scipy import linalg\n",
        "import numpy as np\n",
        "N = 100\n",
        "A = np.random.rand(N, N)\n",
        "B = linalg.inv(A) # magic\n",
        "print(\"B : \\n\", B)\n",
        "# verify\n",
        "print(\"A A^-1 : \\n\", A.dot(B))"
      ],
      "execution_count": null,
      "outputs": [
        {
          "output_type": "stream",
          "name": "stdout",
          "text": [
            "B : \n",
            " [[ 0.11332073 -0.49662963  0.01710919 ... -0.452055    0.60237026\n",
            "   0.22189291]\n",
            " [-0.28169594  0.62099745 -0.26101717 ...  0.24471722 -0.46723112\n",
            "  -0.62285853]\n",
            " [-0.00873061 -0.00367196  0.18976762 ... -0.33323377  0.39416792\n",
            "   0.13367438]\n",
            " ...\n",
            " [ 0.01538868 -0.09082214  0.03788307 ... -0.12650046  0.17662537\n",
            "   0.3067401 ]\n",
            " [-0.00937432  0.04538702  0.03561379 ...  0.20821335 -0.08121583\n",
            "   0.02131982]\n",
            " [-0.0652248   0.37259089  0.02297382 ...  0.31741976 -0.40911639\n",
            "  -0.17294218]]\n",
            "A A^-1 : \n",
            " [[ 1.00000000e+00  5.05911069e-15  1.39911924e-15 ...  1.57012781e-15\n",
            "  -8.87591487e-16 -1.23335621e-15]\n",
            " [ 1.15534196e-16  1.00000000e+00 -1.64862681e-16 ...  3.11933814e-15\n",
            "   5.96883545e-17 -1.34368560e-15]\n",
            " [ 4.52785689e-17  6.78769392e-15  1.00000000e+00 ...  4.02900260e-15\n",
            "  -1.90689951e-15 -1.84802840e-15]\n",
            " ...\n",
            " [ 8.85873805e-16  6.28442476e-15  3.42165247e-16 ...  1.00000000e+00\n",
            "  -2.92420039e-15 -2.89944931e-15]\n",
            " [ 2.55439302e-16  6.72142666e-15  1.34262737e-15 ...  1.08140492e-15\n",
            "   1.00000000e+00 -1.60715944e-15]\n",
            " [ 6.66133815e-16  9.10382880e-15  0.00000000e+00 ...  3.10862447e-15\n",
            "  -4.99577619e-15  1.00000000e+00]]\n"
          ]
        }
      ]
    },
    {
      "cell_type": "code",
      "metadata": {
        "colab": {
          "base_uri": "https://localhost:8080/"
        },
        "id": "krA2UwovEWya",
        "outputId": "0082b93a-7b11-4178-a060-3a601212b031"
      },
      "source": [
        "linalg.norm(A)*linalg.norm(B)"
      ],
      "execution_count": null,
      "outputs": [
        {
          "output_type": "execute_result",
          "data": {
            "text/plain": [
              "2278.5163032234796"
            ]
          },
          "metadata": {},
          "execution_count": 42
        }
      ]
    },
    {
      "cell_type": "markdown",
      "metadata": {
        "id": "xUcMTUdwyrFF"
      },
      "source": [
        "## The condition number\n",
        "The number\n",
        "$$\\kappa = ||A|| ||A^{-1}||$$\n",
        "is called the condition number of a matrix. Ideally it is $1$. If $\\kappa$ is much\n",
        "larger than one, the matrix is ill-conditioned and the solution\n",
        "might have a lot of error.\n",
        "> Compute the condition number of the following matrix:\n",
        "   \\begin{equation}\n",
        "   A = \n",
        "   \\begin{bmatrix}\n",
        "   1.001 & 0.001\\\\\n",
        "   0.000 & 0.999\n",
        "   \\end{bmatrix}\n",
        "   \\end{equation}\n",
        "Plot the associate system to check for the result\n"
      ]
    },
    {
      "cell_type": "code",
      "metadata": {
        "ExecuteTime": {
          "end_time": "2020-09-05T17:23:33.355607Z",
          "start_time": "2020-09-05T17:23:33.279680Z"
        },
        "id": "g8KrO2v7yrFG"
      },
      "source": [
        "from scipy import linalg\n",
        "import numpy as np\n",
        "A = np.array([[1.001, 0.001],\n",
        "                [0.000, 0.999]])\n",
        "kappa = linalg.norm(A)*linalg.norm(linalg.inv(A))\n",
        "print(f\"{kappa = }\")"
      ],
      "execution_count": null,
      "outputs": []
    },
    {
      "cell_type": "markdown",
      "metadata": {
        "id": "ZVbGn6GkyrFG"
      },
      "source": [
        "# Eigen values and eigen vectors\n",
        "The eigen-values ${\\lambda_i}$ and eigen-vectors ${x}$ of a matrix satisfy the equation \n",
        "\n",
        "$$ A\\vec x = \\lambda \\vec x $$\n",
        "\n",
        "The eigen-vectors form a basis where the matrix can be\n",
        "diagonalized. In general, computing the eigen vectors and\n",
        "aeigenvalues is hard, and they can also be complex.\n",
        "\n",
        "For a more visual introduction watch:  https://www.youtube.com/watch?v=PFDu9oVAE-g\n",
        "\n",
        "<img src=\"https://github.com/iluvatar1/ModelingToolsEngineering/blob/master/03-SistemasLineales-Matrices/fig/vector-field.png?raw=1\" width=700>\n",
        "REF: https://www.reddit.com/r/math/comments/b7ou6t/3blue1brown_overview_of_differential_equations/"
      ]
    },
    {
      "cell_type": "code",
      "metadata": {
        "ExecuteTime": {
          "end_time": "2020-09-05T17:29:48.031729Z",
          "start_time": "2020-09-05T17:29:48.012948Z"
        },
        "id": "Smf4BOtryrFH"
      },
      "source": [
        "# See : https://docs.scipy.org/doc/scipy/reference/generated/scipy.linalg.eig.html#scipy.linalg.eig\n",
        "import numpy as np\n",
        "from scipy import linalg\n",
        "#A = np.array([[0., -1.], [1., 0.]])\n",
        "#A = np.array([[1, 0.], [0., 2.]])\n",
        "A = np.array([[2, 5, 8, 7], [5, 2, 2, 8], [7, 5, 6, 6], [5, 4, 4, 8]])\n",
        "sol = linalg.eig(A) # magic\n",
        "print(\"Eigen-values: \", sol[0])\n",
        "print(\"Eigen-vectors:\\n\", sol[1])\n",
        "# verify\n",
        "print(\"Verification: \", A.dot(sol[1][:, 0]) - sol[0][0]*sol[1][:, 0])\n"
      ],
      "execution_count": null,
      "outputs": []
    },
    {
      "cell_type": "markdown",
      "metadata": {
        "id": "kxtpfsCmyrFI"
      },
      "source": [
        "## Exercise\n",
        "Find the eigen-values and eigen-vectors for the following system\n",
        "<img src=\"https://github.com/iluvatar1/ModelingToolsEngineering/blob/master/03-SistemasLineales-Matrices/fig/eigen-exer-02.png?raw=1\" width=700>"
      ]
    },
    {
      "cell_type": "code",
      "metadata": {
        "ExecuteTime": {
          "end_time": "2020-09-05T17:39:52.557398Z",
          "start_time": "2020-09-05T17:39:52.530189Z"
        },
        "id": "fpNnKvgPyrFI"
      },
      "source": [
        "import numpy as np\n",
        "from scipy import linalg\n",
        "A = np.array([[5, 4, 1, 1], \n",
        "              [4, 5, 1, 1], \n",
        "              [1, 1, 4, 2], \n",
        "              [1, 1, 2, 4]])\n",
        "sol = linalg.eig(A) # magic\n",
        "print(\"Eigen-values: \", sol[0])\n",
        "print(\"Eigen-vectors:\\n\", sol[1])\n",
        "# verify\n",
        "print(\"Verification: \", A.dot(sol[1][:, 0]) - sol[0][0]*sol[1][:, 0])\n"
      ],
      "execution_count": null,
      "outputs": []
    },
    {
      "cell_type": "markdown",
      "metadata": {
        "id": "qFejCiB3yrFJ"
      },
      "source": [
        "# Problems"
      ]
    },
    {
      "cell_type": "markdown",
      "metadata": {
        "id": "s2uktiAbyrFK"
      },
      "source": [
        "<img src=\"https://github.com/iluvatar1/ModelingToolsEngineering/blob/master/03-SistemasLineales-Matrices/fig/problem-03.png?raw=1\" width=700>"
      ]
    },
    {
      "cell_type": "code",
      "metadata": {
        "id": "e_QPnzhwyrFK"
      },
      "source": [
        ""
      ],
      "execution_count": null,
      "outputs": []
    },
    {
      "cell_type": "markdown",
      "metadata": {
        "id": "Qqbul79iyrFK"
      },
      "source": [
        "Let $\\vec x = (a, b)$ be a two-dimensional vector. Write a matrix that rotates the vector by 90 degrees. Use matrix multiplication to check your results. "
      ]
    },
    {
      "cell_type": "code",
      "metadata": {
        "id": "bOzQqUg6yrFL"
      },
      "source": [
        ""
      ],
      "execution_count": null,
      "outputs": []
    },
    {
      "cell_type": "markdown",
      "metadata": {
        "id": "P8VE-HAtyrFL"
      },
      "source": [
        "|System | Model |\n",
        "|-|-|\n",
        "|<img src=\"https://github.com/iluvatar1/ModelingToolsEngineering/blob/master/03-SistemasLineales-Matrices/fig/problem-04-B.png?raw=1\" width=700>|<img src=\"https://github.com/iluvatar1/ModelingToolsEngineering/blob/master/03-SistemasLineales-Matrices/fig/problem-04.png?raw=1\" width=700>|"
      ]
    },
    {
      "cell_type": "code",
      "metadata": {
        "ExecuteTime": {
          "end_time": "2020-09-05T18:14:01.390431Z",
          "start_time": "2020-09-05T18:14:01.301088Z"
        },
        "id": "xU03h12gyrFL"
      },
      "source": [
        "# Equations\n",
        "# Q01c01 + Q31c3 = Q15c1 + Q12c1 ---> (Q15 + Q12)c1 - Q31c3           = Q01c01\n",
        "# Q12c1 = Q25c2 + Q24c2 + Q23c2  ---> Q12c1 - (Q25 + Q24 + Q23) c2    = 0\n",
        "# Q23c2 + Q03c03 = Q31c3 + Q34c3 ---> Q23c2 - (Q31 + Q34)c3           = -Q03c03\n",
        "# Q24c2 + Q34c3 + Q54c5 = Q44c4  ---> Q24c2 + Q34c3 - Q44c4 + Q54c5 = 0\n",
        "# Q15c1 + Q25c2 = Q54c5 + Q55c5  ---> Q15c1 + Q25c2 - (Q54 + Q55)c5   = 0\n",
        "\n",
        "Q01 = 6; Q03 = 7\n",
        "Q12 = 4; Q15 = 5\n",
        "Q23 = 2; Q24 = 1; Q25 = 1\n",
        "Q31 = 3; Q34 = 6\n",
        "Q44 = 9\n",
        "Q54 = 2; Q55 = 4\n",
        "c01 = 20; c03 = 50\n",
        "\n",
        "from scipy import linalg\n",
        "import numpy as np\n",
        "A = np.array([[(Q15 + Q12), 0, - Q31, 0, 0],\n",
        "              [Q12, -(Q25 + Q24 + Q23), 0, 0, 0],\n",
        "              [0, Q23, -(Q31 + Q34), 0, 0],\n",
        "              [0, Q24, Q34, - Q44, Q54],\n",
        "              [Q15, Q25, 0, 0, -(Q54 + Q55)]])\n",
        "b = np.array([Q01*c01, 0, -Q03*c03, 0, 0])\n",
        "c = linalg.solve(A, b)\n",
        "print(c)\n",
        "# Check\n",
        "print(A.dot(c) - b)"
      ],
      "execution_count": null,
      "outputs": []
    },
    {
      "cell_type": "markdown",
      "metadata": {
        "id": "jjyWpTGQyrFM"
      },
      "source": [
        "<img src=\"https://github.com/iluvatar1/ModelingToolsEngineering/blob/master/03-SistemasLineales-Matrices/fig/problem-05.png?raw=1\" width=700>"
      ]
    },
    {
      "cell_type": "code",
      "metadata": {
        "id": "smAF7_CEyrFN"
      },
      "source": [
        ""
      ],
      "execution_count": null,
      "outputs": []
    },
    {
      "cell_type": "markdown",
      "metadata": {
        "id": "mVVw9hmByrFO"
      },
      "source": [
        "<img src=\"https://github.com/iluvatar1/ModelingToolsEngineering/blob/master/03-SistemasLineales-Matrices/fig/problem-06.png?raw=1\" width=700>"
      ]
    },
    {
      "cell_type": "code",
      "metadata": {
        "id": "JoR4w2WSyrFO"
      },
      "source": [
        ""
      ],
      "execution_count": null,
      "outputs": []
    },
    {
      "cell_type": "markdown",
      "metadata": {
        "id": "wEP8ZXnjyrFP"
      },
      "source": [
        "| Statement | Table|\n",
        "|-|-|\n",
        "|<img src=\"https://github.com/iluvatar1/ModelingToolsEngineering/blob/master/03-SistemasLineales-Matrices/fig/problem-07-A.png?raw=1\" width=500> | <img src=\"https://github.com/iluvatar1/ModelingToolsEngineering/blob/master/03-SistemasLineales-Matrices/fig/problem-07-B.png?raw=1\" width=500>|"
      ]
    },
    {
      "cell_type": "code",
      "metadata": {
        "id": "0YoRVsWwyrFR"
      },
      "source": [
        ""
      ],
      "execution_count": null,
      "outputs": []
    },
    {
      "cell_type": "markdown",
      "metadata": {
        "id": "AWkrgnSGyrFR"
      },
      "source": [
        "<img src=\"https://github.com/iluvatar1/ModelingToolsEngineering/blob/master/03-SistemasLineales-Matrices/fig/problem-08.png?raw=1\" width=700>"
      ]
    },
    {
      "cell_type": "code",
      "metadata": {
        "id": "gz864rA1yrFS"
      },
      "source": [
        ""
      ],
      "execution_count": null,
      "outputs": []
    }
  ]
}